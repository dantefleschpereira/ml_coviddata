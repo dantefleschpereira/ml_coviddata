{
 "cells": [
  {
   "cell_type": "markdown",
   "id": "pending-trunk",
   "metadata": {},
   "source": [
    "# Processando dataset para os modelos de Machine Learning\n",
    "\n",
    "Esse notebook é uma continuação do notebook \"PreProcessingData.ipynb\".\n",
    "Além disso, esse notebook cria os dois datasets finais que são usados diretamente nos modelos de ML.\n",
    "Ou seja, ao final da execução desse algoritmo dois datasets estarão prontos para ser usados em modelos de ML. </ br>\n",
    "\n",
    "O principal objetivo desse notebook é transformar o dataset original em formato CATEGORICO para NUMÉRICO."
   ]
  },
  {
   "cell_type": "code",
   "execution_count": 2,
   "id": "abstract-context",
   "metadata": {},
   "outputs": [],
   "source": [
    "import numpy as np\n",
    "import pandas as pd\n",
    "import seaborn as sns\n",
    "import matplotlib.pyplot as plt\n",
    "from sklearn.preprocessing import OrdinalEncoder\n",
    "pd.set_option('display.max_columns', None)"
   ]
  },
  {
   "cell_type": "code",
   "execution_count": 3,
   "id": "indirect-republic",
   "metadata": {},
   "outputs": [
    {
     "name": "stderr",
     "output_type": "stream",
     "text": [
      "/Users/giggio/opt/anaconda3/envs/edaML/lib/python3.6/site-packages/IPython/core/interactiveshell.py:3072: DtypeWarning: Columns (3,4,5,6,7,8,12,13,47,87,89,90,91,94,99) have mixed types.Specify dtype option on import or set low_memory=False.\n",
      "  interactivity=interactivity, compiler=compiler, result=result)\n"
     ]
    }
   ],
   "source": [
    "# df = pd.read_csv('./DataSteps/STEP_6_Final_Dataset.csv', delimiter='\\t')\n",
    "df = pd.read_csv(r'./data/PosProcessing-v0.2.2/Final_Dataset.csv')"
   ]
  },
  {
   "cell_type": "code",
   "execution_count": 4,
   "id": "operational-alabama",
   "metadata": {},
   "outputs": [
    {
     "data": {
      "text/html": [
       "<div>\n",
       "<style scoped>\n",
       "    .dataframe tbody tr th:only-of-type {\n",
       "        vertical-align: middle;\n",
       "    }\n",
       "\n",
       "    .dataframe tbody tr th {\n",
       "        vertical-align: top;\n",
       "    }\n",
       "\n",
       "    .dataframe thead th {\n",
       "        text-align: right;\n",
       "    }\n",
       "</style>\n",
       "<table border=\"1\" class=\"dataframe\">\n",
       "  <thead>\n",
       "    <tr style=\"text-align: right;\">\n",
       "      <th></th>\n",
       "      <th>Unnamed: 0</th>\n",
       "      <th>ID</th>\n",
       "      <th>DTHR_REGISTRO</th>\n",
       "      <th>PORTA_ENTRADA</th>\n",
       "      <th>DATA_INICIO_SINTOMAS</th>\n",
       "      <th>HISTORICO_VIAGEM</th>\n",
       "      <th>PAIS_VISITADO</th>\n",
       "      <th>CIDADES_VISITADAS</th>\n",
       "      <th>DATA_RETORNO</th>\n",
       "      <th>COLETOU_AMOSTRA</th>\n",
       "      <th>LOCAL_COLETA</th>\n",
       "      <th>DATA_COLETA</th>\n",
       "      <th>PCR_INFLUENZA</th>\n",
       "      <th>IFI_OUTRO_VIRUS</th>\n",
       "      <th>PCR_COVID_19</th>\n",
       "      <th>STATUS_COVID_FROM_MRG_REG_EST</th>\n",
       "      <th>STATUS_COVID_ORDEM</th>\n",
       "      <th>DESFECHO</th>\n",
       "      <th>CD_ATENDIMENTO</th>\n",
       "      <th>DS_TP_ATENDIMENTO</th>\n",
       "      <th>CD_PACIENTE</th>\n",
       "      <th>GENERO</th>\n",
       "      <th>IDADE</th>\n",
       "      <th>SN_OBITO</th>\n",
       "      <th>DIAGNOSTICO_SARS</th>\n",
       "      <th>OBITO_SARS</th>\n",
       "      <th>TIPO_SAIDA</th>\n",
       "      <th>TIPO_OBITO</th>\n",
       "      <th>DTHR_ALTA</th>\n",
       "      <th>CD_CID</th>\n",
       "      <th>DS_ESPECIALID_SAI</th>\n",
       "      <th>REINTER_30D</th>\n",
       "      <th>CARATER_ATENDIMENTO</th>\n",
       "      <th>EMERG_SERVICO</th>\n",
       "      <th>EMERG_RISCO</th>\n",
       "      <th>CID_DIAG_ATEND</th>\n",
       "      <th>CID_CAPITULO_DIAG</th>\n",
       "      <th>BLOCO_CENTRAL_ST</th>\n",
       "      <th>HEMODINAMICA_ST</th>\n",
       "      <th>EX_LAB_ST</th>\n",
       "      <th>EX_IMG_ST</th>\n",
       "      <th>EX_OUTROS_ST</th>\n",
       "      <th>CD_PACIENTE_FROM_ESTUDO</th>\n",
       "      <th>COMPETENCIA</th>\n",
       "      <th>PORTA_ENTRADA_FROM_ESTUDO</th>\n",
       "      <th>DATA_INICIO_SINTOMAS_FROM_ESTUDO</th>\n",
       "      <th>HISTORICO_VIAGEM_FROM_ESTUDO</th>\n",
       "      <th>CIDADES_VISITADAS_FROM_ESTUDO</th>\n",
       "      <th>LOCAL_COLETA_FROM_ESTUDO</th>\n",
       "      <th>DATA_COLETA_FROM_ESTUDO</th>\n",
       "      <th>PCR_COVID_19_FROM_ESTUDO</th>\n",
       "      <th>DESFECHO_FROM_ESTUDO</th>\n",
       "      <th>TIPO_REGISTRO</th>\n",
       "      <th>SN_IFI_OV_SINCICIAL_RESP</th>\n",
       "      <th>SN_IFI_OV_PARAINFLU3</th>\n",
       "      <th>SN_IFI_OV_PARAINFLU2</th>\n",
       "      <th>SN_IFI_OV_PARAINFLU1</th>\n",
       "      <th>SN_IFI_OV_INFLUA</th>\n",
       "      <th>SN_IFI_OV_INFLUB</th>\n",
       "      <th>SN_IFI_OV_ADENOVIRUS</th>\n",
       "      <th>SN_CRIT_CONTATO_CASO_COVID</th>\n",
       "      <th>SN_CRIT_CONTATO_CASO_SUSPEITO</th>\n",
       "      <th>SN_CRIT_PROF_SAUDE_HOSPITAL</th>\n",
       "      <th>SN_CRIT_PROF_SAUDE_OUT</th>\n",
       "      <th>SN_CRIT_SRAG</th>\n",
       "      <th>SN_CRIT_SINDROME_GRIPAL</th>\n",
       "      <th>SN_CRIT_IGNORADO</th>\n",
       "      <th>SN_CRIT_OUTROS</th>\n",
       "      <th>SN_CRIT_PROT_COVID19</th>\n",
       "      <th>ESTUDO_TP_EXPOSICAO</th>\n",
       "      <th>ESTUDO_COMORB_PREV_HAS</th>\n",
       "      <th>ESTUDO_COMORB_PREV_IAM</th>\n",
       "      <th>ESTUDO_COMORB_PREV_IC</th>\n",
       "      <th>ESTUDO_COMORB_PREV_DRC</th>\n",
       "      <th>ESTUDO_COMORB_PREV_DMI</th>\n",
       "      <th>ESTUDO_COMORB_PREV_DMII</th>\n",
       "      <th>ESTUDO_COMORB_PREV_CARCINOMA</th>\n",
       "      <th>ESTUDO_COMORB_PREV_ADENOMA</th>\n",
       "      <th>ESTUDO_COMORB_PREV_LINFOMA</th>\n",
       "      <th>ESTUDO_COMORB_PREV_AVC</th>\n",
       "      <th>ESTUDO_COMORB_PREV_ASMA</th>\n",
       "      <th>ESTUDO_COMORB_PREV_DPOC</th>\n",
       "      <th>ESTUDO_COMORB_PREV_OBESIDADE</th>\n",
       "      <th>ESTUDO_COMORB_PREV_EPILEPSIA</th>\n",
       "      <th>ESTUDO_COMORB_PREV_HIGIDO</th>\n",
       "      <th>ESTUDO_COMORB_PREV_OUTRAS</th>\n",
       "      <th>ESTUDO_CHARLSON</th>\n",
       "      <th>ESTUDO_FR_DIA_COLETA</th>\n",
       "      <th>ESTUDO_FC_DIA_COLETA</th>\n",
       "      <th>ESTUDO_PA_DIA_COLETA</th>\n",
       "      <th>ESTUDO_TEMPERATURA_DIA_COLETA</th>\n",
       "      <th>ESTUDO_SATURACAO_DIA_COLETA</th>\n",
       "      <th>ESTUDO_APACHE2</th>\n",
       "      <th>ESTUDO_RISCO</th>\n",
       "      <th>ESTUDO_TRATAMENTO</th>\n",
       "      <th>ESTUDO_COMORB_PREV_TX_ORG_SOL</th>\n",
       "      <th>ESTUDO_CONDUTA</th>\n",
       "      <th>ESTUDO_LOCAL_CONTAMINACAO</th>\n",
       "      <th>ESTUDO_LOCAL_CONTAM_UI</th>\n",
       "      <th>ESTUDO_DT_DESFECHO</th>\n",
       "      <th>ESTUDO_COMORB_PREV_DESCON</th>\n",
       "      <th>ESTUDO_COMORB_PREV_DVP</th>\n",
       "      <th>ESTUDO_COMORB_PREV_DEMENCIA</th>\n",
       "      <th>ESTUDO_COMORB_PREV_DTC</th>\n",
       "      <th>ESTUDO_COMORB_PREV_UP</th>\n",
       "      <th>ESTUDO_COMORB_PREV_DFL</th>\n",
       "      <th>ESTUDO_COMORB_PREV_DFM</th>\n",
       "      <th>ESTUDO_COMORB_PREV_HEMIPLEGIA</th>\n",
       "      <th>ESTUDO_COMORB_PREV_LEUCEMIA</th>\n",
       "      <th>ESTUDO_COMORB_PREV_HIV</th>\n",
       "      <th>ESTUDO_COMORB_PREV_TUL</th>\n",
       "      <th>ESTUDO_COMORB_PREV_TUM</th>\n",
       "      <th>STATUS_COVID_FROM_UTI</th>\n",
       "      <th>CD_PACIENTE_FROM_UTI</th>\n",
       "      <th>CD_LEITO</th>\n",
       "      <th>CD_UNIDADE</th>\n",
       "      <th>DS_UNIDADE</th>\n",
       "      <th>DT_ENTRADA</th>\n",
       "      <th>HR_ENTRADA</th>\n",
       "      <th>DT_SAIDA</th>\n",
       "      <th>HR_SAIDA</th>\n",
       "      <th>DTHR_LEITO</th>\n",
       "      <th>DATA_HORA_ENTRADA</th>\n",
       "      <th>REENTRADA</th>\n",
       "      <th>DTHR_IN_UTI</th>\n",
       "      <th>DTHR_OUT_UTI</th>\n",
       "      <th>DIAS_PRE_UTI</th>\n",
       "      <th>DIAS_NA_UTI</th>\n",
       "    </tr>\n",
       "  </thead>\n",
       "  <tbody>\n",
       "    <tr>\n",
       "      <th>0</th>\n",
       "      <td>2</td>\n",
       "      <td>4463</td>\n",
       "      <td>08/07/2020 12:56:20</td>\n",
       "      <td>NaN</td>\n",
       "      <td>NaN</td>\n",
       "      <td>NaN</td>\n",
       "      <td>NaN</td>\n",
       "      <td>NaN</td>\n",
       "      <td>NaN</td>\n",
       "      <td>SIM</td>\n",
       "      <td>9 N - INTERNACAO</td>\n",
       "      <td>08/07/2020</td>\n",
       "      <td>NaN</td>\n",
       "      <td>NaN</td>\n",
       "      <td>NEGATIVO</td>\n",
       "      <td>NEGATIVOS</td>\n",
       "      <td>3</td>\n",
       "      <td>NÃO INFORMADO</td>\n",
       "      <td>925313.0</td>\n",
       "      <td>INTERNADO</td>\n",
       "      <td>454612.0</td>\n",
       "      <td>MASCULINO</td>\n",
       "      <td>42,498401826484</td>\n",
       "      <td>N</td>\n",
       "      <td>NÃO</td>\n",
       "      <td>NÃO</td>\n",
       "      <td>ALTA</td>\n",
       "      <td>NaN</td>\n",
       "      <td>07/10/2020 13:13:46</td>\n",
       "      <td>K263</td>\n",
       "      <td>NEUROCIRURGIA</td>\n",
       "      <td>NÃO</td>\n",
       "      <td>URGÊNCIA</td>\n",
       "      <td>PRONTOPUC</td>\n",
       "      <td>LARANJA</td>\n",
       "      <td>K263</td>\n",
       "      <td>Aparelho digestivo</td>\n",
       "      <td>SIM</td>\n",
       "      <td>SIM</td>\n",
       "      <td>SIM</td>\n",
       "      <td>SIM</td>\n",
       "      <td>SIM</td>\n",
       "      <td>454612.0</td>\n",
       "      <td>01/07/2020</td>\n",
       "      <td>NaN</td>\n",
       "      <td>NaN</td>\n",
       "      <td>NaN</td>\n",
       "      <td>NaN</td>\n",
       "      <td>9 N - INTERNACAO</td>\n",
       "      <td>08/07/2020</td>\n",
       "      <td>NEGATIVO</td>\n",
       "      <td>INTERNAÇÃO</td>\n",
       "      <td>A</td>\n",
       "      <td>N</td>\n",
       "      <td>N</td>\n",
       "      <td>N</td>\n",
       "      <td>N</td>\n",
       "      <td>N</td>\n",
       "      <td>N</td>\n",
       "      <td>N</td>\n",
       "      <td>N</td>\n",
       "      <td>N</td>\n",
       "      <td>NaN</td>\n",
       "      <td>N</td>\n",
       "      <td>N</td>\n",
       "      <td>N</td>\n",
       "      <td>N</td>\n",
       "      <td>N</td>\n",
       "      <td>N</td>\n",
       "      <td>HOSPITALAR HSL</td>\n",
       "      <td>N</td>\n",
       "      <td>N</td>\n",
       "      <td>N</td>\n",
       "      <td>N</td>\n",
       "      <td>N</td>\n",
       "      <td>N</td>\n",
       "      <td>N</td>\n",
       "      <td>N</td>\n",
       "      <td>N</td>\n",
       "      <td>N</td>\n",
       "      <td>N</td>\n",
       "      <td>N</td>\n",
       "      <td>N</td>\n",
       "      <td>N</td>\n",
       "      <td>N</td>\n",
       "      <td>NaN</td>\n",
       "      <td>NaN</td>\n",
       "      <td>NaN</td>\n",
       "      <td>NaN</td>\n",
       "      <td>NaN</td>\n",
       "      <td>NaN</td>\n",
       "      <td>NaN</td>\n",
       "      <td>NaN</td>\n",
       "      <td>NaN</td>\n",
       "      <td>NaN</td>\n",
       "      <td>N</td>\n",
       "      <td>L</td>\n",
       "      <td>NaN</td>\n",
       "      <td>NaN</td>\n",
       "      <td>NaN</td>\n",
       "      <td>N</td>\n",
       "      <td>N</td>\n",
       "      <td>N</td>\n",
       "      <td>N</td>\n",
       "      <td>N</td>\n",
       "      <td>N</td>\n",
       "      <td>N</td>\n",
       "      <td>N</td>\n",
       "      <td>N</td>\n",
       "      <td>N</td>\n",
       "      <td>N</td>\n",
       "      <td>N</td>\n",
       "      <td>NEGATIVOS</td>\n",
       "      <td>454612.0</td>\n",
       "      <td>1607.0</td>\n",
       "      <td>7.0</td>\n",
       "      <td>UTI</td>\n",
       "      <td>07/12/2019</td>\n",
       "      <td>11:51:59</td>\n",
       "      <td>18/12/2019</td>\n",
       "      <td>13:48:48</td>\n",
       "      <td>26/11/2019 17:53:24</td>\n",
       "      <td>2019-12-07 11:51:59</td>\n",
       "      <td>1.0</td>\n",
       "      <td>07/12/2019 11:51:59</td>\n",
       "      <td>18/12/2019 13:48:48</td>\n",
       "      <td>10.749016</td>\n",
       "      <td>11.081123</td>\n",
       "    </tr>\n",
       "    <tr>\n",
       "      <th>1</th>\n",
       "      <td>3</td>\n",
       "      <td>4463</td>\n",
       "      <td>08/07/2020 12:56:20</td>\n",
       "      <td>NaN</td>\n",
       "      <td>NaN</td>\n",
       "      <td>NaN</td>\n",
       "      <td>NaN</td>\n",
       "      <td>NaN</td>\n",
       "      <td>NaN</td>\n",
       "      <td>SIM</td>\n",
       "      <td>9 N - INTERNACAO</td>\n",
       "      <td>08/07/2020</td>\n",
       "      <td>NaN</td>\n",
       "      <td>NaN</td>\n",
       "      <td>NEGATIVO</td>\n",
       "      <td>NEGATIVOS</td>\n",
       "      <td>3</td>\n",
       "      <td>NÃO INFORMADO</td>\n",
       "      <td>925313.0</td>\n",
       "      <td>INTERNADO</td>\n",
       "      <td>454612.0</td>\n",
       "      <td>MASCULINO</td>\n",
       "      <td>42,498401826484</td>\n",
       "      <td>N</td>\n",
       "      <td>NÃO</td>\n",
       "      <td>NÃO</td>\n",
       "      <td>ALTA</td>\n",
       "      <td>NaN</td>\n",
       "      <td>07/10/2020 13:13:46</td>\n",
       "      <td>K263</td>\n",
       "      <td>NEUROCIRURGIA</td>\n",
       "      <td>NÃO</td>\n",
       "      <td>URGÊNCIA</td>\n",
       "      <td>PRONTOPUC</td>\n",
       "      <td>LARANJA</td>\n",
       "      <td>K263</td>\n",
       "      <td>Aparelho digestivo</td>\n",
       "      <td>SIM</td>\n",
       "      <td>SIM</td>\n",
       "      <td>SIM</td>\n",
       "      <td>SIM</td>\n",
       "      <td>SIM</td>\n",
       "      <td>454612.0</td>\n",
       "      <td>01/07/2020</td>\n",
       "      <td>NaN</td>\n",
       "      <td>NaN</td>\n",
       "      <td>NaN</td>\n",
       "      <td>NaN</td>\n",
       "      <td>9 N - INTERNACAO</td>\n",
       "      <td>08/07/2020</td>\n",
       "      <td>NEGATIVO</td>\n",
       "      <td>INTERNAÇÃO</td>\n",
       "      <td>A</td>\n",
       "      <td>N</td>\n",
       "      <td>N</td>\n",
       "      <td>N</td>\n",
       "      <td>N</td>\n",
       "      <td>N</td>\n",
       "      <td>N</td>\n",
       "      <td>N</td>\n",
       "      <td>N</td>\n",
       "      <td>N</td>\n",
       "      <td>NaN</td>\n",
       "      <td>N</td>\n",
       "      <td>N</td>\n",
       "      <td>N</td>\n",
       "      <td>N</td>\n",
       "      <td>N</td>\n",
       "      <td>N</td>\n",
       "      <td>HOSPITALAR HSL</td>\n",
       "      <td>N</td>\n",
       "      <td>N</td>\n",
       "      <td>N</td>\n",
       "      <td>N</td>\n",
       "      <td>N</td>\n",
       "      <td>N</td>\n",
       "      <td>N</td>\n",
       "      <td>N</td>\n",
       "      <td>N</td>\n",
       "      <td>N</td>\n",
       "      <td>N</td>\n",
       "      <td>N</td>\n",
       "      <td>N</td>\n",
       "      <td>N</td>\n",
       "      <td>N</td>\n",
       "      <td>NaN</td>\n",
       "      <td>NaN</td>\n",
       "      <td>NaN</td>\n",
       "      <td>NaN</td>\n",
       "      <td>NaN</td>\n",
       "      <td>NaN</td>\n",
       "      <td>NaN</td>\n",
       "      <td>NaN</td>\n",
       "      <td>NaN</td>\n",
       "      <td>NaN</td>\n",
       "      <td>N</td>\n",
       "      <td>L</td>\n",
       "      <td>NaN</td>\n",
       "      <td>NaN</td>\n",
       "      <td>NaN</td>\n",
       "      <td>N</td>\n",
       "      <td>N</td>\n",
       "      <td>N</td>\n",
       "      <td>N</td>\n",
       "      <td>N</td>\n",
       "      <td>N</td>\n",
       "      <td>N</td>\n",
       "      <td>N</td>\n",
       "      <td>N</td>\n",
       "      <td>N</td>\n",
       "      <td>N</td>\n",
       "      <td>N</td>\n",
       "      <td>NEGATIVOS</td>\n",
       "      <td>454612.0</td>\n",
       "      <td>1613.0</td>\n",
       "      <td>7.0</td>\n",
       "      <td>UTI</td>\n",
       "      <td>10/01/2020</td>\n",
       "      <td>05:43:14</td>\n",
       "      <td>03/02/2020</td>\n",
       "      <td>14:04:26</td>\n",
       "      <td>18/12/2019 13:48:48</td>\n",
       "      <td>2020-01-10 05:43:14</td>\n",
       "      <td>2.0</td>\n",
       "      <td>10/01/2020 05:43:14</td>\n",
       "      <td>03/02/2020 14:04:26</td>\n",
       "      <td>22.662801</td>\n",
       "      <td>24.348056</td>\n",
       "    </tr>\n",
       "    <tr>\n",
       "      <th>2</th>\n",
       "      <td>4</td>\n",
       "      <td>4463</td>\n",
       "      <td>08/07/2020 12:56:20</td>\n",
       "      <td>NaN</td>\n",
       "      <td>NaN</td>\n",
       "      <td>NaN</td>\n",
       "      <td>NaN</td>\n",
       "      <td>NaN</td>\n",
       "      <td>NaN</td>\n",
       "      <td>SIM</td>\n",
       "      <td>9 N - INTERNACAO</td>\n",
       "      <td>08/07/2020</td>\n",
       "      <td>NaN</td>\n",
       "      <td>NaN</td>\n",
       "      <td>NEGATIVO</td>\n",
       "      <td>NEGATIVOS</td>\n",
       "      <td>3</td>\n",
       "      <td>NÃO INFORMADO</td>\n",
       "      <td>925313.0</td>\n",
       "      <td>INTERNADO</td>\n",
       "      <td>454612.0</td>\n",
       "      <td>MASCULINO</td>\n",
       "      <td>42,498401826484</td>\n",
       "      <td>N</td>\n",
       "      <td>NÃO</td>\n",
       "      <td>NÃO</td>\n",
       "      <td>ALTA</td>\n",
       "      <td>NaN</td>\n",
       "      <td>07/10/2020 13:13:46</td>\n",
       "      <td>K263</td>\n",
       "      <td>NEUROCIRURGIA</td>\n",
       "      <td>NÃO</td>\n",
       "      <td>URGÊNCIA</td>\n",
       "      <td>PRONTOPUC</td>\n",
       "      <td>LARANJA</td>\n",
       "      <td>K263</td>\n",
       "      <td>Aparelho digestivo</td>\n",
       "      <td>SIM</td>\n",
       "      <td>SIM</td>\n",
       "      <td>SIM</td>\n",
       "      <td>SIM</td>\n",
       "      <td>SIM</td>\n",
       "      <td>454612.0</td>\n",
       "      <td>01/07/2020</td>\n",
       "      <td>NaN</td>\n",
       "      <td>NaN</td>\n",
       "      <td>NaN</td>\n",
       "      <td>NaN</td>\n",
       "      <td>9 N - INTERNACAO</td>\n",
       "      <td>08/07/2020</td>\n",
       "      <td>NEGATIVO</td>\n",
       "      <td>INTERNAÇÃO</td>\n",
       "      <td>A</td>\n",
       "      <td>N</td>\n",
       "      <td>N</td>\n",
       "      <td>N</td>\n",
       "      <td>N</td>\n",
       "      <td>N</td>\n",
       "      <td>N</td>\n",
       "      <td>N</td>\n",
       "      <td>N</td>\n",
       "      <td>N</td>\n",
       "      <td>NaN</td>\n",
       "      <td>N</td>\n",
       "      <td>N</td>\n",
       "      <td>N</td>\n",
       "      <td>N</td>\n",
       "      <td>N</td>\n",
       "      <td>N</td>\n",
       "      <td>HOSPITALAR HSL</td>\n",
       "      <td>N</td>\n",
       "      <td>N</td>\n",
       "      <td>N</td>\n",
       "      <td>N</td>\n",
       "      <td>N</td>\n",
       "      <td>N</td>\n",
       "      <td>N</td>\n",
       "      <td>N</td>\n",
       "      <td>N</td>\n",
       "      <td>N</td>\n",
       "      <td>N</td>\n",
       "      <td>N</td>\n",
       "      <td>N</td>\n",
       "      <td>N</td>\n",
       "      <td>N</td>\n",
       "      <td>NaN</td>\n",
       "      <td>NaN</td>\n",
       "      <td>NaN</td>\n",
       "      <td>NaN</td>\n",
       "      <td>NaN</td>\n",
       "      <td>NaN</td>\n",
       "      <td>NaN</td>\n",
       "      <td>NaN</td>\n",
       "      <td>NaN</td>\n",
       "      <td>NaN</td>\n",
       "      <td>N</td>\n",
       "      <td>L</td>\n",
       "      <td>NaN</td>\n",
       "      <td>NaN</td>\n",
       "      <td>NaN</td>\n",
       "      <td>N</td>\n",
       "      <td>N</td>\n",
       "      <td>N</td>\n",
       "      <td>N</td>\n",
       "      <td>N</td>\n",
       "      <td>N</td>\n",
       "      <td>N</td>\n",
       "      <td>N</td>\n",
       "      <td>N</td>\n",
       "      <td>N</td>\n",
       "      <td>N</td>\n",
       "      <td>N</td>\n",
       "      <td>NEGATIVOS</td>\n",
       "      <td>454612.0</td>\n",
       "      <td>2736.0</td>\n",
       "      <td>5.0</td>\n",
       "      <td>UTI</td>\n",
       "      <td>17/04/2020</td>\n",
       "      <td>12:05:17</td>\n",
       "      <td>22/04/2020</td>\n",
       "      <td>11:39:07</td>\n",
       "      <td>03/02/2020 14:04:26</td>\n",
       "      <td>2020-04-17 12:05:17</td>\n",
       "      <td>3.0</td>\n",
       "      <td>17/04/2020 12:05:17</td>\n",
       "      <td>22/04/2020 11:39:07</td>\n",
       "      <td>73.917257</td>\n",
       "      <td>4.981829</td>\n",
       "    </tr>\n",
       "    <tr>\n",
       "      <th>3</th>\n",
       "      <td>5</td>\n",
       "      <td>4463</td>\n",
       "      <td>08/07/2020 12:56:20</td>\n",
       "      <td>NaN</td>\n",
       "      <td>NaN</td>\n",
       "      <td>NaN</td>\n",
       "      <td>NaN</td>\n",
       "      <td>NaN</td>\n",
       "      <td>NaN</td>\n",
       "      <td>SIM</td>\n",
       "      <td>9 N - INTERNACAO</td>\n",
       "      <td>08/07/2020</td>\n",
       "      <td>NaN</td>\n",
       "      <td>NaN</td>\n",
       "      <td>NEGATIVO</td>\n",
       "      <td>NEGATIVOS</td>\n",
       "      <td>3</td>\n",
       "      <td>NÃO INFORMADO</td>\n",
       "      <td>925313.0</td>\n",
       "      <td>INTERNADO</td>\n",
       "      <td>454612.0</td>\n",
       "      <td>MASCULINO</td>\n",
       "      <td>42,498401826484</td>\n",
       "      <td>N</td>\n",
       "      <td>NÃO</td>\n",
       "      <td>NÃO</td>\n",
       "      <td>ALTA</td>\n",
       "      <td>NaN</td>\n",
       "      <td>07/10/2020 13:13:46</td>\n",
       "      <td>K263</td>\n",
       "      <td>NEUROCIRURGIA</td>\n",
       "      <td>NÃO</td>\n",
       "      <td>URGÊNCIA</td>\n",
       "      <td>PRONTOPUC</td>\n",
       "      <td>LARANJA</td>\n",
       "      <td>K263</td>\n",
       "      <td>Aparelho digestivo</td>\n",
       "      <td>SIM</td>\n",
       "      <td>SIM</td>\n",
       "      <td>SIM</td>\n",
       "      <td>SIM</td>\n",
       "      <td>SIM</td>\n",
       "      <td>454612.0</td>\n",
       "      <td>01/07/2020</td>\n",
       "      <td>NaN</td>\n",
       "      <td>NaN</td>\n",
       "      <td>NaN</td>\n",
       "      <td>NaN</td>\n",
       "      <td>9 N - INTERNACAO</td>\n",
       "      <td>08/07/2020</td>\n",
       "      <td>NEGATIVO</td>\n",
       "      <td>INTERNAÇÃO</td>\n",
       "      <td>A</td>\n",
       "      <td>N</td>\n",
       "      <td>N</td>\n",
       "      <td>N</td>\n",
       "      <td>N</td>\n",
       "      <td>N</td>\n",
       "      <td>N</td>\n",
       "      <td>N</td>\n",
       "      <td>N</td>\n",
       "      <td>N</td>\n",
       "      <td>NaN</td>\n",
       "      <td>N</td>\n",
       "      <td>N</td>\n",
       "      <td>N</td>\n",
       "      <td>N</td>\n",
       "      <td>N</td>\n",
       "      <td>N</td>\n",
       "      <td>HOSPITALAR HSL</td>\n",
       "      <td>N</td>\n",
       "      <td>N</td>\n",
       "      <td>N</td>\n",
       "      <td>N</td>\n",
       "      <td>N</td>\n",
       "      <td>N</td>\n",
       "      <td>N</td>\n",
       "      <td>N</td>\n",
       "      <td>N</td>\n",
       "      <td>N</td>\n",
       "      <td>N</td>\n",
       "      <td>N</td>\n",
       "      <td>N</td>\n",
       "      <td>N</td>\n",
       "      <td>N</td>\n",
       "      <td>NaN</td>\n",
       "      <td>NaN</td>\n",
       "      <td>NaN</td>\n",
       "      <td>NaN</td>\n",
       "      <td>NaN</td>\n",
       "      <td>NaN</td>\n",
       "      <td>NaN</td>\n",
       "      <td>NaN</td>\n",
       "      <td>NaN</td>\n",
       "      <td>NaN</td>\n",
       "      <td>N</td>\n",
       "      <td>L</td>\n",
       "      <td>NaN</td>\n",
       "      <td>NaN</td>\n",
       "      <td>NaN</td>\n",
       "      <td>N</td>\n",
       "      <td>N</td>\n",
       "      <td>N</td>\n",
       "      <td>N</td>\n",
       "      <td>N</td>\n",
       "      <td>N</td>\n",
       "      <td>N</td>\n",
       "      <td>N</td>\n",
       "      <td>N</td>\n",
       "      <td>N</td>\n",
       "      <td>N</td>\n",
       "      <td>N</td>\n",
       "      <td>NEGATIVOS</td>\n",
       "      <td>454612.0</td>\n",
       "      <td>1608.0</td>\n",
       "      <td>7.0</td>\n",
       "      <td>UTI</td>\n",
       "      <td>23/04/2020</td>\n",
       "      <td>12:10:26</td>\n",
       "      <td>27/04/2020</td>\n",
       "      <td>12:27:38</td>\n",
       "      <td>22/04/2020 11:39:07</td>\n",
       "      <td>2020-04-23 12:10:26</td>\n",
       "      <td>4.0</td>\n",
       "      <td>23/04/2020 12:10:26</td>\n",
       "      <td>27/04/2020 12:27:38</td>\n",
       "      <td>1.021748</td>\n",
       "      <td>4.011944</td>\n",
       "    </tr>\n",
       "    <tr>\n",
       "      <th>4</th>\n",
       "      <td>15</td>\n",
       "      <td>1149</td>\n",
       "      <td>27/03/2020 14:03:00</td>\n",
       "      <td>NaN</td>\n",
       "      <td>NaN</td>\n",
       "      <td>NaN</td>\n",
       "      <td>NaN</td>\n",
       "      <td>NaN</td>\n",
       "      <td>NaN</td>\n",
       "      <td>NAO</td>\n",
       "      <td>UTI-CIRURGICA</td>\n",
       "      <td>NaN</td>\n",
       "      <td>NaN</td>\n",
       "      <td>NaN</td>\n",
       "      <td>NEGATIVO</td>\n",
       "      <td>NEGATIVOS</td>\n",
       "      <td>3</td>\n",
       "      <td>NÃO INFORMADO</td>\n",
       "      <td>1230987.0</td>\n",
       "      <td>INTERNADO</td>\n",
       "      <td>1402382.0</td>\n",
       "      <td>FEMININO</td>\n",
       "      <td>83,3723744292237</td>\n",
       "      <td>N</td>\n",
       "      <td>NÃO</td>\n",
       "      <td>NÃO</td>\n",
       "      <td>ALTA</td>\n",
       "      <td>NaN</td>\n",
       "      <td>04/05/2020 12:53:00</td>\n",
       "      <td>J180</td>\n",
       "      <td>GERIATRIA</td>\n",
       "      <td>NÃO</td>\n",
       "      <td>URGÊNCIA</td>\n",
       "      <td>PRONTOPUC</td>\n",
       "      <td>VERMELHO</td>\n",
       "      <td>J180</td>\n",
       "      <td>Aparelho respiratório</td>\n",
       "      <td>NÃO</td>\n",
       "      <td>NÃO</td>\n",
       "      <td>SIM</td>\n",
       "      <td>SIM</td>\n",
       "      <td>NÃO</td>\n",
       "      <td>1402382.0</td>\n",
       "      <td>01/03/2020</td>\n",
       "      <td>NaN</td>\n",
       "      <td>NaN</td>\n",
       "      <td>NaN</td>\n",
       "      <td>NaN</td>\n",
       "      <td>UTI-CIRURGICA</td>\n",
       "      <td>11/07/2020</td>\n",
       "      <td>POSITIVO</td>\n",
       "      <td>ÓBITO POR OUTRAS CAUSAS</td>\n",
       "      <td>A</td>\n",
       "      <td>N</td>\n",
       "      <td>N</td>\n",
       "      <td>N</td>\n",
       "      <td>N</td>\n",
       "      <td>N</td>\n",
       "      <td>N</td>\n",
       "      <td>N</td>\n",
       "      <td>N</td>\n",
       "      <td>N</td>\n",
       "      <td>NaN</td>\n",
       "      <td>N</td>\n",
       "      <td>N</td>\n",
       "      <td>N</td>\n",
       "      <td>N</td>\n",
       "      <td>N</td>\n",
       "      <td>N</td>\n",
       "      <td>HOSPITALAR HSL</td>\n",
       "      <td>N</td>\n",
       "      <td>N</td>\n",
       "      <td>N</td>\n",
       "      <td>N</td>\n",
       "      <td>N</td>\n",
       "      <td>N</td>\n",
       "      <td>N</td>\n",
       "      <td>N</td>\n",
       "      <td>N</td>\n",
       "      <td>N</td>\n",
       "      <td>N</td>\n",
       "      <td>N</td>\n",
       "      <td>N</td>\n",
       "      <td>N</td>\n",
       "      <td>N</td>\n",
       "      <td>NaN</td>\n",
       "      <td>NaN</td>\n",
       "      <td>NaN</td>\n",
       "      <td>NaN</td>\n",
       "      <td>NaN</td>\n",
       "      <td>NaN</td>\n",
       "      <td>NaN</td>\n",
       "      <td>NaN</td>\n",
       "      <td>NaN</td>\n",
       "      <td>NaN</td>\n",
       "      <td>N</td>\n",
       "      <td>L</td>\n",
       "      <td>NaN</td>\n",
       "      <td>NaN</td>\n",
       "      <td>NaN</td>\n",
       "      <td>N</td>\n",
       "      <td>N</td>\n",
       "      <td>N</td>\n",
       "      <td>N</td>\n",
       "      <td>N</td>\n",
       "      <td>N</td>\n",
       "      <td>N</td>\n",
       "      <td>N</td>\n",
       "      <td>N</td>\n",
       "      <td>N</td>\n",
       "      <td>N</td>\n",
       "      <td>N</td>\n",
       "      <td>NEGATIVOS</td>\n",
       "      <td>1402382.0</td>\n",
       "      <td>1650.0</td>\n",
       "      <td>8.0</td>\n",
       "      <td>UTI</td>\n",
       "      <td>27/03/2020</td>\n",
       "      <td>07:26:07</td>\n",
       "      <td>30/03/2020</td>\n",
       "      <td>13:23:12</td>\n",
       "      <td>11/03/2020 18:39:45</td>\n",
       "      <td>2020-03-27 07:26:07</td>\n",
       "      <td>1.0</td>\n",
       "      <td>27/03/2020 07:26:07</td>\n",
       "      <td>30/03/2020 13:23:12</td>\n",
       "      <td>15.532199</td>\n",
       "      <td>3.247975</td>\n",
       "    </tr>\n",
       "    <tr>\n",
       "      <th>...</th>\n",
       "      <td>...</td>\n",
       "      <td>...</td>\n",
       "      <td>...</td>\n",
       "      <td>...</td>\n",
       "      <td>...</td>\n",
       "      <td>...</td>\n",
       "      <td>...</td>\n",
       "      <td>...</td>\n",
       "      <td>...</td>\n",
       "      <td>...</td>\n",
       "      <td>...</td>\n",
       "      <td>...</td>\n",
       "      <td>...</td>\n",
       "      <td>...</td>\n",
       "      <td>...</td>\n",
       "      <td>...</td>\n",
       "      <td>...</td>\n",
       "      <td>...</td>\n",
       "      <td>...</td>\n",
       "      <td>...</td>\n",
       "      <td>...</td>\n",
       "      <td>...</td>\n",
       "      <td>...</td>\n",
       "      <td>...</td>\n",
       "      <td>...</td>\n",
       "      <td>...</td>\n",
       "      <td>...</td>\n",
       "      <td>...</td>\n",
       "      <td>...</td>\n",
       "      <td>...</td>\n",
       "      <td>...</td>\n",
       "      <td>...</td>\n",
       "      <td>...</td>\n",
       "      <td>...</td>\n",
       "      <td>...</td>\n",
       "      <td>...</td>\n",
       "      <td>...</td>\n",
       "      <td>...</td>\n",
       "      <td>...</td>\n",
       "      <td>...</td>\n",
       "      <td>...</td>\n",
       "      <td>...</td>\n",
       "      <td>...</td>\n",
       "      <td>...</td>\n",
       "      <td>...</td>\n",
       "      <td>...</td>\n",
       "      <td>...</td>\n",
       "      <td>...</td>\n",
       "      <td>...</td>\n",
       "      <td>...</td>\n",
       "      <td>...</td>\n",
       "      <td>...</td>\n",
       "      <td>...</td>\n",
       "      <td>...</td>\n",
       "      <td>...</td>\n",
       "      <td>...</td>\n",
       "      <td>...</td>\n",
       "      <td>...</td>\n",
       "      <td>...</td>\n",
       "      <td>...</td>\n",
       "      <td>...</td>\n",
       "      <td>...</td>\n",
       "      <td>...</td>\n",
       "      <td>...</td>\n",
       "      <td>...</td>\n",
       "      <td>...</td>\n",
       "      <td>...</td>\n",
       "      <td>...</td>\n",
       "      <td>...</td>\n",
       "      <td>...</td>\n",
       "      <td>...</td>\n",
       "      <td>...</td>\n",
       "      <td>...</td>\n",
       "      <td>...</td>\n",
       "      <td>...</td>\n",
       "      <td>...</td>\n",
       "      <td>...</td>\n",
       "      <td>...</td>\n",
       "      <td>...</td>\n",
       "      <td>...</td>\n",
       "      <td>...</td>\n",
       "      <td>...</td>\n",
       "      <td>...</td>\n",
       "      <td>...</td>\n",
       "      <td>...</td>\n",
       "      <td>...</td>\n",
       "      <td>...</td>\n",
       "      <td>...</td>\n",
       "      <td>...</td>\n",
       "      <td>...</td>\n",
       "      <td>...</td>\n",
       "      <td>...</td>\n",
       "      <td>...</td>\n",
       "      <td>...</td>\n",
       "      <td>...</td>\n",
       "      <td>...</td>\n",
       "      <td>...</td>\n",
       "      <td>...</td>\n",
       "      <td>...</td>\n",
       "      <td>...</td>\n",
       "      <td>...</td>\n",
       "      <td>...</td>\n",
       "      <td>...</td>\n",
       "      <td>...</td>\n",
       "      <td>...</td>\n",
       "      <td>...</td>\n",
       "      <td>...</td>\n",
       "      <td>...</td>\n",
       "      <td>...</td>\n",
       "      <td>...</td>\n",
       "      <td>...</td>\n",
       "      <td>...</td>\n",
       "      <td>...</td>\n",
       "      <td>...</td>\n",
       "      <td>...</td>\n",
       "      <td>...</td>\n",
       "      <td>...</td>\n",
       "      <td>...</td>\n",
       "      <td>...</td>\n",
       "      <td>...</td>\n",
       "      <td>...</td>\n",
       "      <td>...</td>\n",
       "      <td>...</td>\n",
       "      <td>...</td>\n",
       "      <td>...</td>\n",
       "      <td>...</td>\n",
       "      <td>...</td>\n",
       "      <td>...</td>\n",
       "    </tr>\n",
       "    <tr>\n",
       "      <th>18009</th>\n",
       "      <td>25787</td>\n",
       "      <td>26952</td>\n",
       "      <td>29/03/2021 15:51:00</td>\n",
       "      <td>NaN</td>\n",
       "      <td>NaN</td>\n",
       "      <td>NaN</td>\n",
       "      <td>NaN</td>\n",
       "      <td>NaN</td>\n",
       "      <td>NaN</td>\n",
       "      <td>SIM</td>\n",
       "      <td>EMERGENCIA ADULTA SUS</td>\n",
       "      <td>30/03/2021 02:49:53</td>\n",
       "      <td>NaN</td>\n",
       "      <td>NaN</td>\n",
       "      <td>EM ANDAMENTO</td>\n",
       "      <td>SUSPEITOS</td>\n",
       "      <td>2</td>\n",
       "      <td>NÃO INFORMADO</td>\n",
       "      <td>1605181.0</td>\n",
       "      <td>URGENCIA</td>\n",
       "      <td>2392074.0</td>\n",
       "      <td>FEMININO</td>\n",
       "      <td>77,2079908675799</td>\n",
       "      <td>N</td>\n",
       "      <td>SIM</td>\n",
       "      <td>NÃO</td>\n",
       "      <td>AMBULATORIAL</td>\n",
       "      <td>NaN</td>\n",
       "      <td>29/03/2021 16:34:00</td>\n",
       "      <td>B342</td>\n",
       "      <td>CLINICA MEDICA</td>\n",
       "      <td>NÃO</td>\n",
       "      <td>URGÊNCIA</td>\n",
       "      <td>PRONTOSUS</td>\n",
       "      <td>LARANJA</td>\n",
       "      <td>B342</td>\n",
       "      <td>Infecciosas e parasitárias</td>\n",
       "      <td>NÃO</td>\n",
       "      <td>NÃO</td>\n",
       "      <td>SIM</td>\n",
       "      <td>NÃO</td>\n",
       "      <td>NÃO</td>\n",
       "      <td>2392074.0</td>\n",
       "      <td>29/03/2021</td>\n",
       "      <td>NaN</td>\n",
       "      <td>NaN</td>\n",
       "      <td>NaN</td>\n",
       "      <td>NaN</td>\n",
       "      <td>EMERGENCIA ADULTA SUS</td>\n",
       "      <td>30/03/2021 02:49:53</td>\n",
       "      <td>EM ANDAMENTO</td>\n",
       "      <td>INTERNAÇÃO</td>\n",
       "      <td>A</td>\n",
       "      <td>N</td>\n",
       "      <td>N</td>\n",
       "      <td>N</td>\n",
       "      <td>N</td>\n",
       "      <td>N</td>\n",
       "      <td>N</td>\n",
       "      <td>N</td>\n",
       "      <td>N</td>\n",
       "      <td>N</td>\n",
       "      <td>NaN</td>\n",
       "      <td>N</td>\n",
       "      <td>N</td>\n",
       "      <td>N</td>\n",
       "      <td>N</td>\n",
       "      <td>N</td>\n",
       "      <td>N</td>\n",
       "      <td>NaN</td>\n",
       "      <td>N</td>\n",
       "      <td>N</td>\n",
       "      <td>N</td>\n",
       "      <td>N</td>\n",
       "      <td>N</td>\n",
       "      <td>N</td>\n",
       "      <td>N</td>\n",
       "      <td>N</td>\n",
       "      <td>N</td>\n",
       "      <td>N</td>\n",
       "      <td>N</td>\n",
       "      <td>N</td>\n",
       "      <td>N</td>\n",
       "      <td>N</td>\n",
       "      <td>N</td>\n",
       "      <td>NaN</td>\n",
       "      <td>NaN</td>\n",
       "      <td>NaN</td>\n",
       "      <td>NaN</td>\n",
       "      <td>NaN</td>\n",
       "      <td>NaN</td>\n",
       "      <td>NaN</td>\n",
       "      <td>NaN</td>\n",
       "      <td>NaN</td>\n",
       "      <td>NaN</td>\n",
       "      <td>N</td>\n",
       "      <td>L</td>\n",
       "      <td>NaN</td>\n",
       "      <td>NaN</td>\n",
       "      <td>NaN</td>\n",
       "      <td>N</td>\n",
       "      <td>N</td>\n",
       "      <td>N</td>\n",
       "      <td>N</td>\n",
       "      <td>N</td>\n",
       "      <td>N</td>\n",
       "      <td>N</td>\n",
       "      <td>N</td>\n",
       "      <td>N</td>\n",
       "      <td>N</td>\n",
       "      <td>N</td>\n",
       "      <td>N</td>\n",
       "      <td>NaN</td>\n",
       "      <td>NaN</td>\n",
       "      <td>NaN</td>\n",
       "      <td>NaN</td>\n",
       "      <td>NaN</td>\n",
       "      <td>NaN</td>\n",
       "      <td>NaN</td>\n",
       "      <td>NaN</td>\n",
       "      <td>NaN</td>\n",
       "      <td>NaN</td>\n",
       "      <td>NaN</td>\n",
       "      <td>NaN</td>\n",
       "      <td>NaN</td>\n",
       "      <td>NaN</td>\n",
       "      <td>0.029861</td>\n",
       "      <td>0.000000</td>\n",
       "    </tr>\n",
       "    <tr>\n",
       "      <th>18010</th>\n",
       "      <td>25789</td>\n",
       "      <td>26939</td>\n",
       "      <td>29/03/2021 16:11:00</td>\n",
       "      <td>NaN</td>\n",
       "      <td>NaN</td>\n",
       "      <td>NaN</td>\n",
       "      <td>NaN</td>\n",
       "      <td>NaN</td>\n",
       "      <td>NaN</td>\n",
       "      <td>SIM</td>\n",
       "      <td>PRONTOPUC ADULTO</td>\n",
       "      <td>29/03/2021 16:21:42</td>\n",
       "      <td>NaN</td>\n",
       "      <td>NaN</td>\n",
       "      <td>NEGATIVO</td>\n",
       "      <td>NEGATIVOS</td>\n",
       "      <td>3</td>\n",
       "      <td>NÃO INFORMADO</td>\n",
       "      <td>1605209.0</td>\n",
       "      <td>URGENCIA</td>\n",
       "      <td>981692.0</td>\n",
       "      <td>FEMININO</td>\n",
       "      <td>32,4463470319635</td>\n",
       "      <td>N</td>\n",
       "      <td>NÃO</td>\n",
       "      <td>NÃO</td>\n",
       "      <td>AMBULATORIAL</td>\n",
       "      <td>NaN</td>\n",
       "      <td>29/03/2021 16:12:00</td>\n",
       "      <td>B349</td>\n",
       "      <td>CLINICA MEDICA</td>\n",
       "      <td>NÃO</td>\n",
       "      <td>URGÊNCIA</td>\n",
       "      <td>PRONTOPUC</td>\n",
       "      <td>VERDE</td>\n",
       "      <td>B349</td>\n",
       "      <td>Infecciosas e parasitárias</td>\n",
       "      <td>NÃO</td>\n",
       "      <td>NÃO</td>\n",
       "      <td>SIM</td>\n",
       "      <td>NÃO</td>\n",
       "      <td>NÃO</td>\n",
       "      <td>981692.0</td>\n",
       "      <td>29/03/2021</td>\n",
       "      <td>NaN</td>\n",
       "      <td>NaN</td>\n",
       "      <td>NaN</td>\n",
       "      <td>NaN</td>\n",
       "      <td>PRONTOPUC ADULTO</td>\n",
       "      <td>29/03/2021 16:21:42</td>\n",
       "      <td>NEGATIVO</td>\n",
       "      <td>NaN</td>\n",
       "      <td>A</td>\n",
       "      <td>N</td>\n",
       "      <td>N</td>\n",
       "      <td>N</td>\n",
       "      <td>N</td>\n",
       "      <td>N</td>\n",
       "      <td>N</td>\n",
       "      <td>N</td>\n",
       "      <td>N</td>\n",
       "      <td>N</td>\n",
       "      <td>NaN</td>\n",
       "      <td>N</td>\n",
       "      <td>N</td>\n",
       "      <td>N</td>\n",
       "      <td>N</td>\n",
       "      <td>N</td>\n",
       "      <td>N</td>\n",
       "      <td>PROFISSIONAL DE SAÚDE - HSL</td>\n",
       "      <td>N</td>\n",
       "      <td>N</td>\n",
       "      <td>N</td>\n",
       "      <td>N</td>\n",
       "      <td>N</td>\n",
       "      <td>N</td>\n",
       "      <td>N</td>\n",
       "      <td>N</td>\n",
       "      <td>N</td>\n",
       "      <td>N</td>\n",
       "      <td>N</td>\n",
       "      <td>N</td>\n",
       "      <td>N</td>\n",
       "      <td>N</td>\n",
       "      <td>N</td>\n",
       "      <td>NaN</td>\n",
       "      <td>NaN</td>\n",
       "      <td>NaN</td>\n",
       "      <td>NaN</td>\n",
       "      <td>NaN</td>\n",
       "      <td>NaN</td>\n",
       "      <td>NaN</td>\n",
       "      <td>NaN</td>\n",
       "      <td>NaN</td>\n",
       "      <td>NaN</td>\n",
       "      <td>N</td>\n",
       "      <td>L</td>\n",
       "      <td>NaN</td>\n",
       "      <td>NaN</td>\n",
       "      <td>NaN</td>\n",
       "      <td>N</td>\n",
       "      <td>N</td>\n",
       "      <td>N</td>\n",
       "      <td>N</td>\n",
       "      <td>N</td>\n",
       "      <td>N</td>\n",
       "      <td>N</td>\n",
       "      <td>N</td>\n",
       "      <td>N</td>\n",
       "      <td>N</td>\n",
       "      <td>N</td>\n",
       "      <td>N</td>\n",
       "      <td>NaN</td>\n",
       "      <td>NaN</td>\n",
       "      <td>NaN</td>\n",
       "      <td>NaN</td>\n",
       "      <td>NaN</td>\n",
       "      <td>NaN</td>\n",
       "      <td>NaN</td>\n",
       "      <td>NaN</td>\n",
       "      <td>NaN</td>\n",
       "      <td>NaN</td>\n",
       "      <td>NaN</td>\n",
       "      <td>NaN</td>\n",
       "      <td>NaN</td>\n",
       "      <td>NaN</td>\n",
       "      <td>0.000694</td>\n",
       "      <td>0.000000</td>\n",
       "    </tr>\n",
       "    <tr>\n",
       "      <th>18011</th>\n",
       "      <td>25799</td>\n",
       "      <td>26950</td>\n",
       "      <td>29/03/2021 23:10:00</td>\n",
       "      <td>NaN</td>\n",
       "      <td>NaN</td>\n",
       "      <td>NaN</td>\n",
       "      <td>NaN</td>\n",
       "      <td>NaN</td>\n",
       "      <td>NaN</td>\n",
       "      <td>SIM</td>\n",
       "      <td>EMERGENCIA ADULTA SUS</td>\n",
       "      <td>30/03/2021 01:07:37</td>\n",
       "      <td>NaN</td>\n",
       "      <td>NaN</td>\n",
       "      <td>EM ANDAMENTO</td>\n",
       "      <td>SUSPEITOS</td>\n",
       "      <td>2</td>\n",
       "      <td>NÃO INFORMADO</td>\n",
       "      <td>1605362.0</td>\n",
       "      <td>URGENCIA</td>\n",
       "      <td>2392113.0</td>\n",
       "      <td>MASCULINO</td>\n",
       "      <td>41,1860730593607</td>\n",
       "      <td>N</td>\n",
       "      <td>NÃO</td>\n",
       "      <td>NÃO</td>\n",
       "      <td>AMBULATORIAL</td>\n",
       "      <td>NaN</td>\n",
       "      <td>29/03/2021 23:23:00</td>\n",
       "      <td>K403</td>\n",
       "      <td>CLINICA MEDICA</td>\n",
       "      <td>NÃO</td>\n",
       "      <td>URGÊNCIA</td>\n",
       "      <td>PRONTOSUS</td>\n",
       "      <td>LARANJA</td>\n",
       "      <td>K403</td>\n",
       "      <td>Aparelho digestivo</td>\n",
       "      <td>NÃO</td>\n",
       "      <td>NÃO</td>\n",
       "      <td>SIM</td>\n",
       "      <td>NÃO</td>\n",
       "      <td>NÃO</td>\n",
       "      <td>2392113.0</td>\n",
       "      <td>29/03/2021</td>\n",
       "      <td>NaN</td>\n",
       "      <td>NaN</td>\n",
       "      <td>NaN</td>\n",
       "      <td>NaN</td>\n",
       "      <td>EMERGENCIA ADULTA SUS</td>\n",
       "      <td>30/03/2021 01:07:37</td>\n",
       "      <td>EM ANDAMENTO</td>\n",
       "      <td>INTERNAÇÃO</td>\n",
       "      <td>A</td>\n",
       "      <td>N</td>\n",
       "      <td>N</td>\n",
       "      <td>N</td>\n",
       "      <td>N</td>\n",
       "      <td>N</td>\n",
       "      <td>N</td>\n",
       "      <td>N</td>\n",
       "      <td>N</td>\n",
       "      <td>N</td>\n",
       "      <td>NaN</td>\n",
       "      <td>N</td>\n",
       "      <td>N</td>\n",
       "      <td>N</td>\n",
       "      <td>N</td>\n",
       "      <td>N</td>\n",
       "      <td>N</td>\n",
       "      <td>NaN</td>\n",
       "      <td>N</td>\n",
       "      <td>N</td>\n",
       "      <td>N</td>\n",
       "      <td>N</td>\n",
       "      <td>N</td>\n",
       "      <td>N</td>\n",
       "      <td>N</td>\n",
       "      <td>N</td>\n",
       "      <td>N</td>\n",
       "      <td>N</td>\n",
       "      <td>N</td>\n",
       "      <td>N</td>\n",
       "      <td>N</td>\n",
       "      <td>N</td>\n",
       "      <td>N</td>\n",
       "      <td>NaN</td>\n",
       "      <td>NaN</td>\n",
       "      <td>NaN</td>\n",
       "      <td>NaN</td>\n",
       "      <td>NaN</td>\n",
       "      <td>NaN</td>\n",
       "      <td>NaN</td>\n",
       "      <td>NaN</td>\n",
       "      <td>NaN</td>\n",
       "      <td>NaN</td>\n",
       "      <td>N</td>\n",
       "      <td>L</td>\n",
       "      <td>NaN</td>\n",
       "      <td>NaN</td>\n",
       "      <td>NaN</td>\n",
       "      <td>N</td>\n",
       "      <td>N</td>\n",
       "      <td>N</td>\n",
       "      <td>N</td>\n",
       "      <td>N</td>\n",
       "      <td>N</td>\n",
       "      <td>N</td>\n",
       "      <td>N</td>\n",
       "      <td>N</td>\n",
       "      <td>N</td>\n",
       "      <td>N</td>\n",
       "      <td>N</td>\n",
       "      <td>NaN</td>\n",
       "      <td>NaN</td>\n",
       "      <td>NaN</td>\n",
       "      <td>NaN</td>\n",
       "      <td>NaN</td>\n",
       "      <td>NaN</td>\n",
       "      <td>NaN</td>\n",
       "      <td>NaN</td>\n",
       "      <td>NaN</td>\n",
       "      <td>NaN</td>\n",
       "      <td>NaN</td>\n",
       "      <td>NaN</td>\n",
       "      <td>NaN</td>\n",
       "      <td>NaN</td>\n",
       "      <td>0.009028</td>\n",
       "      <td>0.000000</td>\n",
       "    </tr>\n",
       "    <tr>\n",
       "      <th>18012</th>\n",
       "      <td>25801</td>\n",
       "      <td>26953</td>\n",
       "      <td>30/03/2021 03:00:00</td>\n",
       "      <td>NaN</td>\n",
       "      <td>NaN</td>\n",
       "      <td>NaN</td>\n",
       "      <td>NaN</td>\n",
       "      <td>NaN</td>\n",
       "      <td>NaN</td>\n",
       "      <td>SIM</td>\n",
       "      <td>PRONTOPUC ADULTO</td>\n",
       "      <td>30/03/2021 03:20:26</td>\n",
       "      <td>NaN</td>\n",
       "      <td>NaN</td>\n",
       "      <td>EM ANDAMENTO</td>\n",
       "      <td>SUSPEITOS</td>\n",
       "      <td>2</td>\n",
       "      <td>NÃO INFORMADO</td>\n",
       "      <td>1605369.0</td>\n",
       "      <td>URGENCIA</td>\n",
       "      <td>1541136.0</td>\n",
       "      <td>FEMININO</td>\n",
       "      <td>42,3449771689498</td>\n",
       "      <td>N</td>\n",
       "      <td>NÃO</td>\n",
       "      <td>NÃO</td>\n",
       "      <td>AMBULATORIAL</td>\n",
       "      <td>NaN</td>\n",
       "      <td>30/03/2021 10:48:00</td>\n",
       "      <td>R074</td>\n",
       "      <td>CLINICA MEDICA</td>\n",
       "      <td>NÃO</td>\n",
       "      <td>URGÊNCIA</td>\n",
       "      <td>PRONTOPUC</td>\n",
       "      <td>VERDE</td>\n",
       "      <td>R074</td>\n",
       "      <td>Sintomas, sinais e achados anormais de exames ...</td>\n",
       "      <td>NÃO</td>\n",
       "      <td>NÃO</td>\n",
       "      <td>SIM</td>\n",
       "      <td>SIM</td>\n",
       "      <td>NÃO</td>\n",
       "      <td>1541136.0</td>\n",
       "      <td>01/08/2020</td>\n",
       "      <td>NaN</td>\n",
       "      <td>NaN</td>\n",
       "      <td>NaN</td>\n",
       "      <td>NaN</td>\n",
       "      <td>PRONTOPUC ADULTO</td>\n",
       "      <td>01/08/2020 22:51:22</td>\n",
       "      <td>NEGATIVO</td>\n",
       "      <td>NaN</td>\n",
       "      <td>A</td>\n",
       "      <td>N</td>\n",
       "      <td>N</td>\n",
       "      <td>N</td>\n",
       "      <td>N</td>\n",
       "      <td>N</td>\n",
       "      <td>N</td>\n",
       "      <td>N</td>\n",
       "      <td>N</td>\n",
       "      <td>N</td>\n",
       "      <td>NaN</td>\n",
       "      <td>N</td>\n",
       "      <td>N</td>\n",
       "      <td>N</td>\n",
       "      <td>N</td>\n",
       "      <td>N</td>\n",
       "      <td>N</td>\n",
       "      <td>PROFISSIONAL DE SAUDE - HSL</td>\n",
       "      <td>N</td>\n",
       "      <td>N</td>\n",
       "      <td>N</td>\n",
       "      <td>N</td>\n",
       "      <td>N</td>\n",
       "      <td>N</td>\n",
       "      <td>N</td>\n",
       "      <td>N</td>\n",
       "      <td>N</td>\n",
       "      <td>N</td>\n",
       "      <td>N</td>\n",
       "      <td>N</td>\n",
       "      <td>N</td>\n",
       "      <td>N</td>\n",
       "      <td>N</td>\n",
       "      <td>NaN</td>\n",
       "      <td>NaN</td>\n",
       "      <td>NaN</td>\n",
       "      <td>NaN</td>\n",
       "      <td>NaN</td>\n",
       "      <td>NaN</td>\n",
       "      <td>NaN</td>\n",
       "      <td>NaN</td>\n",
       "      <td>NaN</td>\n",
       "      <td>NaN</td>\n",
       "      <td>N</td>\n",
       "      <td>L</td>\n",
       "      <td>NaN</td>\n",
       "      <td>NaN</td>\n",
       "      <td>NaN</td>\n",
       "      <td>N</td>\n",
       "      <td>N</td>\n",
       "      <td>N</td>\n",
       "      <td>N</td>\n",
       "      <td>N</td>\n",
       "      <td>N</td>\n",
       "      <td>N</td>\n",
       "      <td>N</td>\n",
       "      <td>N</td>\n",
       "      <td>N</td>\n",
       "      <td>N</td>\n",
       "      <td>N</td>\n",
       "      <td>NaN</td>\n",
       "      <td>NaN</td>\n",
       "      <td>NaN</td>\n",
       "      <td>NaN</td>\n",
       "      <td>NaN</td>\n",
       "      <td>NaN</td>\n",
       "      <td>NaN</td>\n",
       "      <td>NaN</td>\n",
       "      <td>NaN</td>\n",
       "      <td>NaN</td>\n",
       "      <td>NaN</td>\n",
       "      <td>NaN</td>\n",
       "      <td>NaN</td>\n",
       "      <td>NaN</td>\n",
       "      <td>0.325000</td>\n",
       "      <td>0.000000</td>\n",
       "    </tr>\n",
       "    <tr>\n",
       "      <th>18013</th>\n",
       "      <td>25804</td>\n",
       "      <td>26958</td>\n",
       "      <td>30/03/2021 08:51:00</td>\n",
       "      <td>NaN</td>\n",
       "      <td>NaN</td>\n",
       "      <td>NaN</td>\n",
       "      <td>NaN</td>\n",
       "      <td>NaN</td>\n",
       "      <td>NaN</td>\n",
       "      <td>SIM</td>\n",
       "      <td>PRONTOPUC ADULTO</td>\n",
       "      <td>30/03/2021 09:25:23</td>\n",
       "      <td>NaN</td>\n",
       "      <td>NaN</td>\n",
       "      <td>EM ANDAMENTO</td>\n",
       "      <td>SUSPEITOS</td>\n",
       "      <td>2</td>\n",
       "      <td>NÃO INFORMADO</td>\n",
       "      <td>1605658.0</td>\n",
       "      <td>URGENCIA</td>\n",
       "      <td>1802152.0</td>\n",
       "      <td>FEMININO</td>\n",
       "      <td>39,4956621004566</td>\n",
       "      <td>N</td>\n",
       "      <td>NÃO</td>\n",
       "      <td>NÃO</td>\n",
       "      <td>AMBULATORIAL</td>\n",
       "      <td>NaN</td>\n",
       "      <td>30/03/2021 08:51:00</td>\n",
       "      <td>B349</td>\n",
       "      <td>INFECTOLOGIA</td>\n",
       "      <td>NÃO</td>\n",
       "      <td>URGÊNCIA</td>\n",
       "      <td>NÃO INFORMADO</td>\n",
       "      <td>NÃO INFORMADO</td>\n",
       "      <td>B349</td>\n",
       "      <td>Infecciosas e parasitárias</td>\n",
       "      <td>NÃO</td>\n",
       "      <td>NÃO</td>\n",
       "      <td>NÃO</td>\n",
       "      <td>NÃO</td>\n",
       "      <td>NÃO</td>\n",
       "      <td>1802152.0</td>\n",
       "      <td>30/03/2021</td>\n",
       "      <td>NaN</td>\n",
       "      <td>NaN</td>\n",
       "      <td>NaN</td>\n",
       "      <td>NaN</td>\n",
       "      <td>PRONTOPUC ADULTO</td>\n",
       "      <td>30/03/2021 09:25:23</td>\n",
       "      <td>EM ANDAMENTO</td>\n",
       "      <td>NaN</td>\n",
       "      <td>A</td>\n",
       "      <td>N</td>\n",
       "      <td>N</td>\n",
       "      <td>N</td>\n",
       "      <td>N</td>\n",
       "      <td>N</td>\n",
       "      <td>N</td>\n",
       "      <td>N</td>\n",
       "      <td>N</td>\n",
       "      <td>N</td>\n",
       "      <td>NaN</td>\n",
       "      <td>N</td>\n",
       "      <td>N</td>\n",
       "      <td>N</td>\n",
       "      <td>N</td>\n",
       "      <td>N</td>\n",
       "      <td>N</td>\n",
       "      <td>NaN</td>\n",
       "      <td>N</td>\n",
       "      <td>N</td>\n",
       "      <td>N</td>\n",
       "      <td>N</td>\n",
       "      <td>N</td>\n",
       "      <td>N</td>\n",
       "      <td>N</td>\n",
       "      <td>N</td>\n",
       "      <td>N</td>\n",
       "      <td>N</td>\n",
       "      <td>N</td>\n",
       "      <td>N</td>\n",
       "      <td>N</td>\n",
       "      <td>N</td>\n",
       "      <td>N</td>\n",
       "      <td>NaN</td>\n",
       "      <td>NaN</td>\n",
       "      <td>NaN</td>\n",
       "      <td>NaN</td>\n",
       "      <td>NaN</td>\n",
       "      <td>NaN</td>\n",
       "      <td>NaN</td>\n",
       "      <td>NaN</td>\n",
       "      <td>NaN</td>\n",
       "      <td>NaN</td>\n",
       "      <td>N</td>\n",
       "      <td>L</td>\n",
       "      <td>NaN</td>\n",
       "      <td>NaN</td>\n",
       "      <td>NaN</td>\n",
       "      <td>N</td>\n",
       "      <td>N</td>\n",
       "      <td>N</td>\n",
       "      <td>N</td>\n",
       "      <td>N</td>\n",
       "      <td>N</td>\n",
       "      <td>N</td>\n",
       "      <td>N</td>\n",
       "      <td>N</td>\n",
       "      <td>N</td>\n",
       "      <td>N</td>\n",
       "      <td>N</td>\n",
       "      <td>NaN</td>\n",
       "      <td>NaN</td>\n",
       "      <td>NaN</td>\n",
       "      <td>NaN</td>\n",
       "      <td>NaN</td>\n",
       "      <td>NaN</td>\n",
       "      <td>NaN</td>\n",
       "      <td>NaN</td>\n",
       "      <td>NaN</td>\n",
       "      <td>NaN</td>\n",
       "      <td>NaN</td>\n",
       "      <td>NaN</td>\n",
       "      <td>NaN</td>\n",
       "      <td>NaN</td>\n",
       "      <td>0.000000</td>\n",
       "      <td>0.000000</td>\n",
       "    </tr>\n",
       "  </tbody>\n",
       "</table>\n",
       "<p>18014 rows × 128 columns</p>\n",
       "</div>"
      ],
      "text/plain": [
       "       Unnamed: 0     ID        DTHR_REGISTRO PORTA_ENTRADA  \\\n",
       "0               2   4463  08/07/2020 12:56:20           NaN   \n",
       "1               3   4463  08/07/2020 12:56:20           NaN   \n",
       "2               4   4463  08/07/2020 12:56:20           NaN   \n",
       "3               5   4463  08/07/2020 12:56:20           NaN   \n",
       "4              15   1149  27/03/2020 14:03:00           NaN   \n",
       "...           ...    ...                  ...           ...   \n",
       "18009       25787  26952  29/03/2021 15:51:00           NaN   \n",
       "18010       25789  26939  29/03/2021 16:11:00           NaN   \n",
       "18011       25799  26950  29/03/2021 23:10:00           NaN   \n",
       "18012       25801  26953  30/03/2021 03:00:00           NaN   \n",
       "18013       25804  26958  30/03/2021 08:51:00           NaN   \n",
       "\n",
       "      DATA_INICIO_SINTOMAS HISTORICO_VIAGEM PAIS_VISITADO CIDADES_VISITADAS  \\\n",
       "0                      NaN              NaN           NaN               NaN   \n",
       "1                      NaN              NaN           NaN               NaN   \n",
       "2                      NaN              NaN           NaN               NaN   \n",
       "3                      NaN              NaN           NaN               NaN   \n",
       "4                      NaN              NaN           NaN               NaN   \n",
       "...                    ...              ...           ...               ...   \n",
       "18009                  NaN              NaN           NaN               NaN   \n",
       "18010                  NaN              NaN           NaN               NaN   \n",
       "18011                  NaN              NaN           NaN               NaN   \n",
       "18012                  NaN              NaN           NaN               NaN   \n",
       "18013                  NaN              NaN           NaN               NaN   \n",
       "\n",
       "      DATA_RETORNO COLETOU_AMOSTRA           LOCAL_COLETA  \\\n",
       "0              NaN             SIM       9 N - INTERNACAO   \n",
       "1              NaN             SIM       9 N - INTERNACAO   \n",
       "2              NaN             SIM       9 N - INTERNACAO   \n",
       "3              NaN             SIM       9 N - INTERNACAO   \n",
       "4              NaN             NAO          UTI-CIRURGICA   \n",
       "...            ...             ...                    ...   \n",
       "18009          NaN             SIM  EMERGENCIA ADULTA SUS   \n",
       "18010          NaN             SIM       PRONTOPUC ADULTO   \n",
       "18011          NaN             SIM  EMERGENCIA ADULTA SUS   \n",
       "18012          NaN             SIM       PRONTOPUC ADULTO   \n",
       "18013          NaN             SIM       PRONTOPUC ADULTO   \n",
       "\n",
       "               DATA_COLETA PCR_INFLUENZA IFI_OUTRO_VIRUS  PCR_COVID_19  \\\n",
       "0               08/07/2020           NaN             NaN      NEGATIVO   \n",
       "1               08/07/2020           NaN             NaN      NEGATIVO   \n",
       "2               08/07/2020           NaN             NaN      NEGATIVO   \n",
       "3               08/07/2020           NaN             NaN      NEGATIVO   \n",
       "4                      NaN           NaN             NaN      NEGATIVO   \n",
       "...                    ...           ...             ...           ...   \n",
       "18009  30/03/2021 02:49:53           NaN             NaN  EM ANDAMENTO   \n",
       "18010  29/03/2021 16:21:42           NaN             NaN      NEGATIVO   \n",
       "18011  30/03/2021 01:07:37           NaN             NaN  EM ANDAMENTO   \n",
       "18012  30/03/2021 03:20:26           NaN             NaN  EM ANDAMENTO   \n",
       "18013  30/03/2021 09:25:23           NaN             NaN  EM ANDAMENTO   \n",
       "\n",
       "      STATUS_COVID_FROM_MRG_REG_EST  STATUS_COVID_ORDEM       DESFECHO  \\\n",
       "0                         NEGATIVOS                   3  NÃO INFORMADO   \n",
       "1                         NEGATIVOS                   3  NÃO INFORMADO   \n",
       "2                         NEGATIVOS                   3  NÃO INFORMADO   \n",
       "3                         NEGATIVOS                   3  NÃO INFORMADO   \n",
       "4                         NEGATIVOS                   3  NÃO INFORMADO   \n",
       "...                             ...                 ...            ...   \n",
       "18009                     SUSPEITOS                   2  NÃO INFORMADO   \n",
       "18010                     NEGATIVOS                   3  NÃO INFORMADO   \n",
       "18011                     SUSPEITOS                   2  NÃO INFORMADO   \n",
       "18012                     SUSPEITOS                   2  NÃO INFORMADO   \n",
       "18013                     SUSPEITOS                   2  NÃO INFORMADO   \n",
       "\n",
       "       CD_ATENDIMENTO DS_TP_ATENDIMENTO  CD_PACIENTE     GENERO  \\\n",
       "0            925313.0         INTERNADO     454612.0  MASCULINO   \n",
       "1            925313.0         INTERNADO     454612.0  MASCULINO   \n",
       "2            925313.0         INTERNADO     454612.0  MASCULINO   \n",
       "3            925313.0         INTERNADO     454612.0  MASCULINO   \n",
       "4           1230987.0         INTERNADO    1402382.0   FEMININO   \n",
       "...               ...               ...          ...        ...   \n",
       "18009       1605181.0          URGENCIA    2392074.0   FEMININO   \n",
       "18010       1605209.0          URGENCIA     981692.0   FEMININO   \n",
       "18011       1605362.0          URGENCIA    2392113.0  MASCULINO   \n",
       "18012       1605369.0          URGENCIA    1541136.0   FEMININO   \n",
       "18013       1605658.0          URGENCIA    1802152.0   FEMININO   \n",
       "\n",
       "                  IDADE SN_OBITO DIAGNOSTICO_SARS OBITO_SARS    TIPO_SAIDA  \\\n",
       "0       42,498401826484        N              NÃO        NÃO          ALTA   \n",
       "1       42,498401826484        N              NÃO        NÃO          ALTA   \n",
       "2       42,498401826484        N              NÃO        NÃO          ALTA   \n",
       "3       42,498401826484        N              NÃO        NÃO          ALTA   \n",
       "4      83,3723744292237        N              NÃO        NÃO          ALTA   \n",
       "...                 ...      ...              ...        ...           ...   \n",
       "18009  77,2079908675799        N              SIM        NÃO  AMBULATORIAL   \n",
       "18010  32,4463470319635        N              NÃO        NÃO  AMBULATORIAL   \n",
       "18011  41,1860730593607        N              NÃO        NÃO  AMBULATORIAL   \n",
       "18012  42,3449771689498        N              NÃO        NÃO  AMBULATORIAL   \n",
       "18013  39,4956621004566        N              NÃO        NÃO  AMBULATORIAL   \n",
       "\n",
       "      TIPO_OBITO            DTHR_ALTA CD_CID DS_ESPECIALID_SAI REINTER_30D  \\\n",
       "0            NaN  07/10/2020 13:13:46   K263     NEUROCIRURGIA         NÃO   \n",
       "1            NaN  07/10/2020 13:13:46   K263     NEUROCIRURGIA         NÃO   \n",
       "2            NaN  07/10/2020 13:13:46   K263     NEUROCIRURGIA         NÃO   \n",
       "3            NaN  07/10/2020 13:13:46   K263     NEUROCIRURGIA         NÃO   \n",
       "4            NaN  04/05/2020 12:53:00   J180         GERIATRIA         NÃO   \n",
       "...          ...                  ...    ...               ...         ...   \n",
       "18009        NaN  29/03/2021 16:34:00   B342    CLINICA MEDICA         NÃO   \n",
       "18010        NaN  29/03/2021 16:12:00   B349    CLINICA MEDICA         NÃO   \n",
       "18011        NaN  29/03/2021 23:23:00   K403    CLINICA MEDICA         NÃO   \n",
       "18012        NaN  30/03/2021 10:48:00   R074    CLINICA MEDICA         NÃO   \n",
       "18013        NaN  30/03/2021 08:51:00   B349      INFECTOLOGIA         NÃO   \n",
       "\n",
       "      CARATER_ATENDIMENTO  EMERG_SERVICO    EMERG_RISCO CID_DIAG_ATEND  \\\n",
       "0                URGÊNCIA      PRONTOPUC        LARANJA           K263   \n",
       "1                URGÊNCIA      PRONTOPUC        LARANJA           K263   \n",
       "2                URGÊNCIA      PRONTOPUC        LARANJA           K263   \n",
       "3                URGÊNCIA      PRONTOPUC        LARANJA           K263   \n",
       "4                URGÊNCIA      PRONTOPUC       VERMELHO           J180   \n",
       "...                   ...            ...            ...            ...   \n",
       "18009            URGÊNCIA      PRONTOSUS        LARANJA           B342   \n",
       "18010            URGÊNCIA      PRONTOPUC          VERDE           B349   \n",
       "18011            URGÊNCIA      PRONTOSUS        LARANJA           K403   \n",
       "18012            URGÊNCIA      PRONTOPUC          VERDE           R074   \n",
       "18013            URGÊNCIA  NÃO INFORMADO  NÃO INFORMADO           B349   \n",
       "\n",
       "                                       CID_CAPITULO_DIAG BLOCO_CENTRAL_ST  \\\n",
       "0                                     Aparelho digestivo              SIM   \n",
       "1                                     Aparelho digestivo              SIM   \n",
       "2                                     Aparelho digestivo              SIM   \n",
       "3                                     Aparelho digestivo              SIM   \n",
       "4                                  Aparelho respiratório              NÃO   \n",
       "...                                                  ...              ...   \n",
       "18009                         Infecciosas e parasitárias              NÃO   \n",
       "18010                         Infecciosas e parasitárias              NÃO   \n",
       "18011                                 Aparelho digestivo              NÃO   \n",
       "18012  Sintomas, sinais e achados anormais de exames ...              NÃO   \n",
       "18013                         Infecciosas e parasitárias              NÃO   \n",
       "\n",
       "      HEMODINAMICA_ST EX_LAB_ST EX_IMG_ST EX_OUTROS_ST  \\\n",
       "0                 SIM       SIM       SIM          SIM   \n",
       "1                 SIM       SIM       SIM          SIM   \n",
       "2                 SIM       SIM       SIM          SIM   \n",
       "3                 SIM       SIM       SIM          SIM   \n",
       "4                 NÃO       SIM       SIM          NÃO   \n",
       "...               ...       ...       ...          ...   \n",
       "18009             NÃO       SIM       NÃO          NÃO   \n",
       "18010             NÃO       SIM       NÃO          NÃO   \n",
       "18011             NÃO       SIM       NÃO          NÃO   \n",
       "18012             NÃO       SIM       SIM          NÃO   \n",
       "18013             NÃO       NÃO       NÃO          NÃO   \n",
       "\n",
       "       CD_PACIENTE_FROM_ESTUDO COMPETENCIA PORTA_ENTRADA_FROM_ESTUDO  \\\n",
       "0                     454612.0  01/07/2020                       NaN   \n",
       "1                     454612.0  01/07/2020                       NaN   \n",
       "2                     454612.0  01/07/2020                       NaN   \n",
       "3                     454612.0  01/07/2020                       NaN   \n",
       "4                    1402382.0  01/03/2020                       NaN   \n",
       "...                        ...         ...                       ...   \n",
       "18009                2392074.0  29/03/2021                       NaN   \n",
       "18010                 981692.0  29/03/2021                       NaN   \n",
       "18011                2392113.0  29/03/2021                       NaN   \n",
       "18012                1541136.0  01/08/2020                       NaN   \n",
       "18013                1802152.0  30/03/2021                       NaN   \n",
       "\n",
       "      DATA_INICIO_SINTOMAS_FROM_ESTUDO HISTORICO_VIAGEM_FROM_ESTUDO  \\\n",
       "0                                  NaN                          NaN   \n",
       "1                                  NaN                          NaN   \n",
       "2                                  NaN                          NaN   \n",
       "3                                  NaN                          NaN   \n",
       "4                                  NaN                          NaN   \n",
       "...                                ...                          ...   \n",
       "18009                              NaN                          NaN   \n",
       "18010                              NaN                          NaN   \n",
       "18011                              NaN                          NaN   \n",
       "18012                              NaN                          NaN   \n",
       "18013                              NaN                          NaN   \n",
       "\n",
       "      CIDADES_VISITADAS_FROM_ESTUDO LOCAL_COLETA_FROM_ESTUDO  \\\n",
       "0                               NaN         9 N - INTERNACAO   \n",
       "1                               NaN         9 N - INTERNACAO   \n",
       "2                               NaN         9 N - INTERNACAO   \n",
       "3                               NaN         9 N - INTERNACAO   \n",
       "4                               NaN            UTI-CIRURGICA   \n",
       "...                             ...                      ...   \n",
       "18009                           NaN    EMERGENCIA ADULTA SUS   \n",
       "18010                           NaN         PRONTOPUC ADULTO   \n",
       "18011                           NaN    EMERGENCIA ADULTA SUS   \n",
       "18012                           NaN         PRONTOPUC ADULTO   \n",
       "18013                           NaN         PRONTOPUC ADULTO   \n",
       "\n",
       "      DATA_COLETA_FROM_ESTUDO PCR_COVID_19_FROM_ESTUDO  \\\n",
       "0                  08/07/2020                 NEGATIVO   \n",
       "1                  08/07/2020                 NEGATIVO   \n",
       "2                  08/07/2020                 NEGATIVO   \n",
       "3                  08/07/2020                 NEGATIVO   \n",
       "4                  11/07/2020                 POSITIVO   \n",
       "...                       ...                      ...   \n",
       "18009     30/03/2021 02:49:53             EM ANDAMENTO   \n",
       "18010     29/03/2021 16:21:42                 NEGATIVO   \n",
       "18011     30/03/2021 01:07:37             EM ANDAMENTO   \n",
       "18012     01/08/2020 22:51:22                 NEGATIVO   \n",
       "18013     30/03/2021 09:25:23             EM ANDAMENTO   \n",
       "\n",
       "          DESFECHO_FROM_ESTUDO TIPO_REGISTRO SN_IFI_OV_SINCICIAL_RESP  \\\n",
       "0                   INTERNAÇÃO             A                        N   \n",
       "1                   INTERNAÇÃO             A                        N   \n",
       "2                   INTERNAÇÃO             A                        N   \n",
       "3                   INTERNAÇÃO             A                        N   \n",
       "4      ÓBITO POR OUTRAS CAUSAS             A                        N   \n",
       "...                        ...           ...                      ...   \n",
       "18009               INTERNAÇÃO             A                        N   \n",
       "18010                      NaN             A                        N   \n",
       "18011               INTERNAÇÃO             A                        N   \n",
       "18012                      NaN             A                        N   \n",
       "18013                      NaN             A                        N   \n",
       "\n",
       "      SN_IFI_OV_PARAINFLU3 SN_IFI_OV_PARAINFLU2 SN_IFI_OV_PARAINFLU1  \\\n",
       "0                        N                    N                    N   \n",
       "1                        N                    N                    N   \n",
       "2                        N                    N                    N   \n",
       "3                        N                    N                    N   \n",
       "4                        N                    N                    N   \n",
       "...                    ...                  ...                  ...   \n",
       "18009                    N                    N                    N   \n",
       "18010                    N                    N                    N   \n",
       "18011                    N                    N                    N   \n",
       "18012                    N                    N                    N   \n",
       "18013                    N                    N                    N   \n",
       "\n",
       "      SN_IFI_OV_INFLUA SN_IFI_OV_INFLUB SN_IFI_OV_ADENOVIRUS  \\\n",
       "0                    N                N                    N   \n",
       "1                    N                N                    N   \n",
       "2                    N                N                    N   \n",
       "3                    N                N                    N   \n",
       "4                    N                N                    N   \n",
       "...                ...              ...                  ...   \n",
       "18009                N                N                    N   \n",
       "18010                N                N                    N   \n",
       "18011                N                N                    N   \n",
       "18012                N                N                    N   \n",
       "18013                N                N                    N   \n",
       "\n",
       "      SN_CRIT_CONTATO_CASO_COVID SN_CRIT_CONTATO_CASO_SUSPEITO  \\\n",
       "0                              N                             N   \n",
       "1                              N                             N   \n",
       "2                              N                             N   \n",
       "3                              N                             N   \n",
       "4                              N                             N   \n",
       "...                          ...                           ...   \n",
       "18009                          N                             N   \n",
       "18010                          N                             N   \n",
       "18011                          N                             N   \n",
       "18012                          N                             N   \n",
       "18013                          N                             N   \n",
       "\n",
       "       SN_CRIT_PROF_SAUDE_HOSPITAL SN_CRIT_PROF_SAUDE_OUT SN_CRIT_SRAG  \\\n",
       "0                              NaN                      N            N   \n",
       "1                              NaN                      N            N   \n",
       "2                              NaN                      N            N   \n",
       "3                              NaN                      N            N   \n",
       "4                              NaN                      N            N   \n",
       "...                            ...                    ...          ...   \n",
       "18009                          NaN                      N            N   \n",
       "18010                          NaN                      N            N   \n",
       "18011                          NaN                      N            N   \n",
       "18012                          NaN                      N            N   \n",
       "18013                          NaN                      N            N   \n",
       "\n",
       "      SN_CRIT_SINDROME_GRIPAL SN_CRIT_IGNORADO SN_CRIT_OUTROS  \\\n",
       "0                           N                N              N   \n",
       "1                           N                N              N   \n",
       "2                           N                N              N   \n",
       "3                           N                N              N   \n",
       "4                           N                N              N   \n",
       "...                       ...              ...            ...   \n",
       "18009                       N                N              N   \n",
       "18010                       N                N              N   \n",
       "18011                       N                N              N   \n",
       "18012                       N                N              N   \n",
       "18013                       N                N              N   \n",
       "\n",
       "      SN_CRIT_PROT_COVID19          ESTUDO_TP_EXPOSICAO  \\\n",
       "0                        N               HOSPITALAR HSL   \n",
       "1                        N               HOSPITALAR HSL   \n",
       "2                        N               HOSPITALAR HSL   \n",
       "3                        N               HOSPITALAR HSL   \n",
       "4                        N               HOSPITALAR HSL   \n",
       "...                    ...                          ...   \n",
       "18009                    N                          NaN   \n",
       "18010                    N  PROFISSIONAL DE SAÚDE - HSL   \n",
       "18011                    N                          NaN   \n",
       "18012                    N  PROFISSIONAL DE SAUDE - HSL   \n",
       "18013                    N                          NaN   \n",
       "\n",
       "      ESTUDO_COMORB_PREV_HAS ESTUDO_COMORB_PREV_IAM ESTUDO_COMORB_PREV_IC  \\\n",
       "0                          N                      N                     N   \n",
       "1                          N                      N                     N   \n",
       "2                          N                      N                     N   \n",
       "3                          N                      N                     N   \n",
       "4                          N                      N                     N   \n",
       "...                      ...                    ...                   ...   \n",
       "18009                      N                      N                     N   \n",
       "18010                      N                      N                     N   \n",
       "18011                      N                      N                     N   \n",
       "18012                      N                      N                     N   \n",
       "18013                      N                      N                     N   \n",
       "\n",
       "      ESTUDO_COMORB_PREV_DRC ESTUDO_COMORB_PREV_DMI ESTUDO_COMORB_PREV_DMII  \\\n",
       "0                          N                      N                       N   \n",
       "1                          N                      N                       N   \n",
       "2                          N                      N                       N   \n",
       "3                          N                      N                       N   \n",
       "4                          N                      N                       N   \n",
       "...                      ...                    ...                     ...   \n",
       "18009                      N                      N                       N   \n",
       "18010                      N                      N                       N   \n",
       "18011                      N                      N                       N   \n",
       "18012                      N                      N                       N   \n",
       "18013                      N                      N                       N   \n",
       "\n",
       "      ESTUDO_COMORB_PREV_CARCINOMA ESTUDO_COMORB_PREV_ADENOMA  \\\n",
       "0                                N                          N   \n",
       "1                                N                          N   \n",
       "2                                N                          N   \n",
       "3                                N                          N   \n",
       "4                                N                          N   \n",
       "...                            ...                        ...   \n",
       "18009                            N                          N   \n",
       "18010                            N                          N   \n",
       "18011                            N                          N   \n",
       "18012                            N                          N   \n",
       "18013                            N                          N   \n",
       "\n",
       "      ESTUDO_COMORB_PREV_LINFOMA ESTUDO_COMORB_PREV_AVC  \\\n",
       "0                              N                      N   \n",
       "1                              N                      N   \n",
       "2                              N                      N   \n",
       "3                              N                      N   \n",
       "4                              N                      N   \n",
       "...                          ...                    ...   \n",
       "18009                          N                      N   \n",
       "18010                          N                      N   \n",
       "18011                          N                      N   \n",
       "18012                          N                      N   \n",
       "18013                          N                      N   \n",
       "\n",
       "      ESTUDO_COMORB_PREV_ASMA ESTUDO_COMORB_PREV_DPOC  \\\n",
       "0                           N                       N   \n",
       "1                           N                       N   \n",
       "2                           N                       N   \n",
       "3                           N                       N   \n",
       "4                           N                       N   \n",
       "...                       ...                     ...   \n",
       "18009                       N                       N   \n",
       "18010                       N                       N   \n",
       "18011                       N                       N   \n",
       "18012                       N                       N   \n",
       "18013                       N                       N   \n",
       "\n",
       "      ESTUDO_COMORB_PREV_OBESIDADE ESTUDO_COMORB_PREV_EPILEPSIA  \\\n",
       "0                                N                            N   \n",
       "1                                N                            N   \n",
       "2                                N                            N   \n",
       "3                                N                            N   \n",
       "4                                N                            N   \n",
       "...                            ...                          ...   \n",
       "18009                            N                            N   \n",
       "18010                            N                            N   \n",
       "18011                            N                            N   \n",
       "18012                            N                            N   \n",
       "18013                            N                            N   \n",
       "\n",
       "      ESTUDO_COMORB_PREV_HIGIDO ESTUDO_COMORB_PREV_OUTRAS  ESTUDO_CHARLSON  \\\n",
       "0                             N                       NaN              NaN   \n",
       "1                             N                       NaN              NaN   \n",
       "2                             N                       NaN              NaN   \n",
       "3                             N                       NaN              NaN   \n",
       "4                             N                       NaN              NaN   \n",
       "...                         ...                       ...              ...   \n",
       "18009                         N                       NaN              NaN   \n",
       "18010                         N                       NaN              NaN   \n",
       "18011                         N                       NaN              NaN   \n",
       "18012                         N                       NaN              NaN   \n",
       "18013                         N                       NaN              NaN   \n",
       "\n",
       "      ESTUDO_FR_DIA_COLETA  ESTUDO_FC_DIA_COLETA ESTUDO_PA_DIA_COLETA  \\\n",
       "0                      NaN                   NaN                  NaN   \n",
       "1                      NaN                   NaN                  NaN   \n",
       "2                      NaN                   NaN                  NaN   \n",
       "3                      NaN                   NaN                  NaN   \n",
       "4                      NaN                   NaN                  NaN   \n",
       "...                    ...                   ...                  ...   \n",
       "18009                  NaN                   NaN                  NaN   \n",
       "18010                  NaN                   NaN                  NaN   \n",
       "18011                  NaN                   NaN                  NaN   \n",
       "18012                  NaN                   NaN                  NaN   \n",
       "18013                  NaN                   NaN                  NaN   \n",
       "\n",
       "      ESTUDO_TEMPERATURA_DIA_COLETA ESTUDO_SATURACAO_DIA_COLETA  \\\n",
       "0                               NaN                         NaN   \n",
       "1                               NaN                         NaN   \n",
       "2                               NaN                         NaN   \n",
       "3                               NaN                         NaN   \n",
       "4                               NaN                         NaN   \n",
       "...                             ...                         ...   \n",
       "18009                           NaN                         NaN   \n",
       "18010                           NaN                         NaN   \n",
       "18011                           NaN                         NaN   \n",
       "18012                           NaN                         NaN   \n",
       "18013                           NaN                         NaN   \n",
       "\n",
       "       ESTUDO_APACHE2  ESTUDO_RISCO ESTUDO_TRATAMENTO  \\\n",
       "0                 NaN           NaN               NaN   \n",
       "1                 NaN           NaN               NaN   \n",
       "2                 NaN           NaN               NaN   \n",
       "3                 NaN           NaN               NaN   \n",
       "4                 NaN           NaN               NaN   \n",
       "...               ...           ...               ...   \n",
       "18009             NaN           NaN               NaN   \n",
       "18010             NaN           NaN               NaN   \n",
       "18011             NaN           NaN               NaN   \n",
       "18012             NaN           NaN               NaN   \n",
       "18013             NaN           NaN               NaN   \n",
       "\n",
       "      ESTUDO_COMORB_PREV_TX_ORG_SOL ESTUDO_CONDUTA ESTUDO_LOCAL_CONTAMINACAO  \\\n",
       "0                                 N              L                       NaN   \n",
       "1                                 N              L                       NaN   \n",
       "2                                 N              L                       NaN   \n",
       "3                                 N              L                       NaN   \n",
       "4                                 N              L                       NaN   \n",
       "...                             ...            ...                       ...   \n",
       "18009                             N              L                       NaN   \n",
       "18010                             N              L                       NaN   \n",
       "18011                             N              L                       NaN   \n",
       "18012                             N              L                       NaN   \n",
       "18013                             N              L                       NaN   \n",
       "\n",
       "       ESTUDO_LOCAL_CONTAM_UI ESTUDO_DT_DESFECHO ESTUDO_COMORB_PREV_DESCON  \\\n",
       "0                         NaN                NaN                         N   \n",
       "1                         NaN                NaN                         N   \n",
       "2                         NaN                NaN                         N   \n",
       "3                         NaN                NaN                         N   \n",
       "4                         NaN                NaN                         N   \n",
       "...                       ...                ...                       ...   \n",
       "18009                     NaN                NaN                         N   \n",
       "18010                     NaN                NaN                         N   \n",
       "18011                     NaN                NaN                         N   \n",
       "18012                     NaN                NaN                         N   \n",
       "18013                     NaN                NaN                         N   \n",
       "\n",
       "      ESTUDO_COMORB_PREV_DVP ESTUDO_COMORB_PREV_DEMENCIA  \\\n",
       "0                          N                           N   \n",
       "1                          N                           N   \n",
       "2                          N                           N   \n",
       "3                          N                           N   \n",
       "4                          N                           N   \n",
       "...                      ...                         ...   \n",
       "18009                      N                           N   \n",
       "18010                      N                           N   \n",
       "18011                      N                           N   \n",
       "18012                      N                           N   \n",
       "18013                      N                           N   \n",
       "\n",
       "      ESTUDO_COMORB_PREV_DTC ESTUDO_COMORB_PREV_UP ESTUDO_COMORB_PREV_DFL  \\\n",
       "0                          N                     N                      N   \n",
       "1                          N                     N                      N   \n",
       "2                          N                     N                      N   \n",
       "3                          N                     N                      N   \n",
       "4                          N                     N                      N   \n",
       "...                      ...                   ...                    ...   \n",
       "18009                      N                     N                      N   \n",
       "18010                      N                     N                      N   \n",
       "18011                      N                     N                      N   \n",
       "18012                      N                     N                      N   \n",
       "18013                      N                     N                      N   \n",
       "\n",
       "      ESTUDO_COMORB_PREV_DFM ESTUDO_COMORB_PREV_HEMIPLEGIA  \\\n",
       "0                          N                             N   \n",
       "1                          N                             N   \n",
       "2                          N                             N   \n",
       "3                          N                             N   \n",
       "4                          N                             N   \n",
       "...                      ...                           ...   \n",
       "18009                      N                             N   \n",
       "18010                      N                             N   \n",
       "18011                      N                             N   \n",
       "18012                      N                             N   \n",
       "18013                      N                             N   \n",
       "\n",
       "      ESTUDO_COMORB_PREV_LEUCEMIA ESTUDO_COMORB_PREV_HIV  \\\n",
       "0                               N                      N   \n",
       "1                               N                      N   \n",
       "2                               N                      N   \n",
       "3                               N                      N   \n",
       "4                               N                      N   \n",
       "...                           ...                    ...   \n",
       "18009                           N                      N   \n",
       "18010                           N                      N   \n",
       "18011                           N                      N   \n",
       "18012                           N                      N   \n",
       "18013                           N                      N   \n",
       "\n",
       "      ESTUDO_COMORB_PREV_TUL ESTUDO_COMORB_PREV_TUM STATUS_COVID_FROM_UTI  \\\n",
       "0                          N                      N             NEGATIVOS   \n",
       "1                          N                      N             NEGATIVOS   \n",
       "2                          N                      N             NEGATIVOS   \n",
       "3                          N                      N             NEGATIVOS   \n",
       "4                          N                      N             NEGATIVOS   \n",
       "...                      ...                    ...                   ...   \n",
       "18009                      N                      N                   NaN   \n",
       "18010                      N                      N                   NaN   \n",
       "18011                      N                      N                   NaN   \n",
       "18012                      N                      N                   NaN   \n",
       "18013                      N                      N                   NaN   \n",
       "\n",
       "       CD_PACIENTE_FROM_UTI  CD_LEITO  CD_UNIDADE DS_UNIDADE  DT_ENTRADA  \\\n",
       "0                  454612.0    1607.0         7.0        UTI  07/12/2019   \n",
       "1                  454612.0    1613.0         7.0        UTI  10/01/2020   \n",
       "2                  454612.0    2736.0         5.0        UTI  17/04/2020   \n",
       "3                  454612.0    1608.0         7.0        UTI  23/04/2020   \n",
       "4                 1402382.0    1650.0         8.0        UTI  27/03/2020   \n",
       "...                     ...       ...         ...        ...         ...   \n",
       "18009                   NaN       NaN         NaN        NaN         NaN   \n",
       "18010                   NaN       NaN         NaN        NaN         NaN   \n",
       "18011                   NaN       NaN         NaN        NaN         NaN   \n",
       "18012                   NaN       NaN         NaN        NaN         NaN   \n",
       "18013                   NaN       NaN         NaN        NaN         NaN   \n",
       "\n",
       "      HR_ENTRADA    DT_SAIDA  HR_SAIDA           DTHR_LEITO  \\\n",
       "0       11:51:59  18/12/2019  13:48:48  26/11/2019 17:53:24   \n",
       "1       05:43:14  03/02/2020  14:04:26  18/12/2019 13:48:48   \n",
       "2       12:05:17  22/04/2020  11:39:07  03/02/2020 14:04:26   \n",
       "3       12:10:26  27/04/2020  12:27:38  22/04/2020 11:39:07   \n",
       "4       07:26:07  30/03/2020  13:23:12  11/03/2020 18:39:45   \n",
       "...          ...         ...       ...                  ...   \n",
       "18009        NaN         NaN       NaN                  NaN   \n",
       "18010        NaN         NaN       NaN                  NaN   \n",
       "18011        NaN         NaN       NaN                  NaN   \n",
       "18012        NaN         NaN       NaN                  NaN   \n",
       "18013        NaN         NaN       NaN                  NaN   \n",
       "\n",
       "         DATA_HORA_ENTRADA  REENTRADA          DTHR_IN_UTI  \\\n",
       "0      2019-12-07 11:51:59        1.0  07/12/2019 11:51:59   \n",
       "1      2020-01-10 05:43:14        2.0  10/01/2020 05:43:14   \n",
       "2      2020-04-17 12:05:17        3.0  17/04/2020 12:05:17   \n",
       "3      2020-04-23 12:10:26        4.0  23/04/2020 12:10:26   \n",
       "4      2020-03-27 07:26:07        1.0  27/03/2020 07:26:07   \n",
       "...                    ...        ...                  ...   \n",
       "18009                  NaN        NaN                  NaN   \n",
       "18010                  NaN        NaN                  NaN   \n",
       "18011                  NaN        NaN                  NaN   \n",
       "18012                  NaN        NaN                  NaN   \n",
       "18013                  NaN        NaN                  NaN   \n",
       "\n",
       "              DTHR_OUT_UTI  DIAS_PRE_UTI  DIAS_NA_UTI  \n",
       "0      18/12/2019 13:48:48     10.749016    11.081123  \n",
       "1      03/02/2020 14:04:26     22.662801    24.348056  \n",
       "2      22/04/2020 11:39:07     73.917257     4.981829  \n",
       "3      27/04/2020 12:27:38      1.021748     4.011944  \n",
       "4      30/03/2020 13:23:12     15.532199     3.247975  \n",
       "...                    ...           ...          ...  \n",
       "18009                  NaN      0.029861     0.000000  \n",
       "18010                  NaN      0.000694     0.000000  \n",
       "18011                  NaN      0.009028     0.000000  \n",
       "18012                  NaN      0.325000     0.000000  \n",
       "18013                  NaN      0.000000     0.000000  \n",
       "\n",
       "[18014 rows x 128 columns]"
      ]
     },
     "execution_count": 4,
     "metadata": {},
     "output_type": "execute_result"
    }
   ],
   "source": [
    "df"
   ]
  },
  {
   "cell_type": "markdown",
   "id": "solar-pension",
   "metadata": {},
   "source": [
    "O bloco abaixo exclui colunas que não são necessárias para o aprendizado dos modelos:"
   ]
  },
  {
   "cell_type": "code",
   "execution_count": 5,
   "id": "broadband-watts",
   "metadata": {},
   "outputs": [],
   "source": [
    "def showMissing(data):\n",
    "    for column in data.columns:\n",
    "        missingC = data[column].isnull().sum()\n",
    "        print(column,',',missingC,',')\n",
    "        \n",
    "def showValues(data):\n",
    "    for column in data.columns:\n",
    "        values = data[column].value_counts()\n",
    "        print(column,',',values,',')"
   ]
  },
  {
   "cell_type": "code",
   "execution_count": 6,
   "id": "passing-theater",
   "metadata": {},
   "outputs": [
    {
     "name": "stdout",
     "output_type": "stream",
     "text": [
      "Unnamed: 0 , 0 ,\n",
      "ID , 0 ,\n",
      "DTHR_REGISTRO , 0 ,\n",
      "PORTA_ENTRADA , 17936 ,\n",
      "DATA_INICIO_SINTOMAS , 17958 ,\n",
      "HISTORICO_VIAGEM , 17993 ,\n",
      "PAIS_VISITADO , 18010 ,\n",
      "CIDADES_VISITADAS , 18009 ,\n",
      "DATA_RETORNO , 18010 ,\n",
      "COLETOU_AMOSTRA , 2 ,\n",
      "LOCAL_COLETA , 3 ,\n",
      "DATA_COLETA , 61 ,\n",
      "PCR_INFLUENZA , 17999 ,\n",
      "IFI_OUTRO_VIRUS , 17996 ,\n",
      "PCR_COVID_19 , 0 ,\n",
      "STATUS_COVID_FROM_MRG_REG_EST , 0 ,\n",
      "STATUS_COVID_ORDEM , 0 ,\n",
      "DESFECHO , 0 ,\n",
      "CD_ATENDIMENTO , 0 ,\n",
      "DS_TP_ATENDIMENTO , 0 ,\n",
      "CD_PACIENTE , 0 ,\n",
      "GENERO , 0 ,\n",
      "IDADE , 0 ,\n",
      "SN_OBITO , 0 ,\n",
      "DIAGNOSTICO_SARS , 0 ,\n",
      "OBITO_SARS , 0 ,\n",
      "TIPO_SAIDA , 0 ,\n",
      "TIPO_OBITO , 17943 ,\n",
      "DTHR_ALTA , 20 ,\n",
      "CD_CID , 21 ,\n",
      "DS_ESPECIALID_SAI , 0 ,\n",
      "REINTER_30D , 0 ,\n",
      "CARATER_ATENDIMENTO , 0 ,\n",
      "EMERG_SERVICO , 0 ,\n",
      "EMERG_RISCO , 0 ,\n",
      "CID_DIAG_ATEND , 2 ,\n",
      "CID_CAPITULO_DIAG , 0 ,\n",
      "BLOCO_CENTRAL_ST , 0 ,\n",
      "HEMODINAMICA_ST , 0 ,\n",
      "EX_LAB_ST , 0 ,\n",
      "EX_IMG_ST , 0 ,\n",
      "EX_OUTROS_ST , 0 ,\n",
      "CD_PACIENTE_FROM_ESTUDO , 26 ,\n",
      "COMPETENCIA , 26 ,\n",
      "PORTA_ENTRADA_FROM_ESTUDO , 17797 ,\n",
      "DATA_INICIO_SINTOMAS_FROM_ESTUDO , 17227 ,\n",
      "HISTORICO_VIAGEM_FROM_ESTUDO , 17957 ,\n",
      "CIDADES_VISITADAS_FROM_ESTUDO , 17998 ,\n",
      "LOCAL_COLETA_FROM_ESTUDO , 31 ,\n",
      "DATA_COLETA_FROM_ESTUDO , 84 ,\n",
      "PCR_COVID_19_FROM_ESTUDO , 26 ,\n",
      "DESFECHO_FROM_ESTUDO , 9820 ,\n",
      "TIPO_REGISTRO , 26 ,\n",
      "SN_IFI_OV_SINCICIAL_RESP , 26 ,\n",
      "SN_IFI_OV_PARAINFLU3 , 26 ,\n",
      "SN_IFI_OV_PARAINFLU2 , 26 ,\n",
      "SN_IFI_OV_PARAINFLU1 , 26 ,\n",
      "SN_IFI_OV_INFLUA , 26 ,\n",
      "SN_IFI_OV_INFLUB , 26 ,\n",
      "SN_IFI_OV_ADENOVIRUS , 26 ,\n",
      "SN_CRIT_CONTATO_CASO_COVID , 26 ,\n",
      "SN_CRIT_CONTATO_CASO_SUSPEITO , 26 ,\n",
      "SN_CRIT_PROF_SAUDE_HOSPITAL , 18014 ,\n",
      "SN_CRIT_PROF_SAUDE_OUT , 26 ,\n",
      "SN_CRIT_SRAG , 26 ,\n",
      "SN_CRIT_SINDROME_GRIPAL , 26 ,\n",
      "SN_CRIT_IGNORADO , 26 ,\n",
      "SN_CRIT_OUTROS , 26 ,\n",
      "SN_CRIT_PROT_COVID19 , 26 ,\n",
      "ESTUDO_TP_EXPOSICAO , 14929 ,\n",
      "ESTUDO_COMORB_PREV_HAS , 26 ,\n",
      "ESTUDO_COMORB_PREV_IAM , 26 ,\n",
      "ESTUDO_COMORB_PREV_IC , 26 ,\n",
      "ESTUDO_COMORB_PREV_DRC , 26 ,\n",
      "ESTUDO_COMORB_PREV_DMI , 26 ,\n",
      "ESTUDO_COMORB_PREV_DMII , 26 ,\n",
      "ESTUDO_COMORB_PREV_CARCINOMA , 26 ,\n",
      "ESTUDO_COMORB_PREV_ADENOMA , 26 ,\n",
      "ESTUDO_COMORB_PREV_LINFOMA , 26 ,\n",
      "ESTUDO_COMORB_PREV_AVC , 26 ,\n",
      "ESTUDO_COMORB_PREV_ASMA , 26 ,\n",
      "ESTUDO_COMORB_PREV_DPOC , 26 ,\n",
      "ESTUDO_COMORB_PREV_OBESIDADE , 26 ,\n",
      "ESTUDO_COMORB_PREV_EPILEPSIA , 26 ,\n",
      "ESTUDO_COMORB_PREV_HIGIDO , 26 ,\n",
      "ESTUDO_COMORB_PREV_OUTRAS , 17361 ,\n",
      "ESTUDO_CHARLSON , 17682 ,\n",
      "ESTUDO_FR_DIA_COLETA , 18001 ,\n",
      "ESTUDO_FC_DIA_COLETA , 18001 ,\n",
      "ESTUDO_PA_DIA_COLETA , 18001 ,\n",
      "ESTUDO_TEMPERATURA_DIA_COLETA , 18001 ,\n",
      "ESTUDO_SATURACAO_DIA_COLETA , 18003 ,\n",
      "ESTUDO_APACHE2 , 18014 ,\n",
      "ESTUDO_RISCO , 18014 ,\n",
      "ESTUDO_TRATAMENTO , 18006 ,\n",
      "ESTUDO_COMORB_PREV_TX_ORG_SOL , 26 ,\n",
      "ESTUDO_CONDUTA , 28 ,\n",
      "ESTUDO_LOCAL_CONTAMINACAO , 17131 ,\n",
      "ESTUDO_LOCAL_CONTAM_UI , 17892 ,\n",
      "ESTUDO_DT_DESFECHO , 18001 ,\n",
      "ESTUDO_COMORB_PREV_DESCON , 26 ,\n",
      "ESTUDO_COMORB_PREV_DVP , 26 ,\n",
      "ESTUDO_COMORB_PREV_DEMENCIA , 26 ,\n",
      "ESTUDO_COMORB_PREV_DTC , 26 ,\n",
      "ESTUDO_COMORB_PREV_UP , 26 ,\n",
      "ESTUDO_COMORB_PREV_DFL , 26 ,\n",
      "ESTUDO_COMORB_PREV_DFM , 26 ,\n",
      "ESTUDO_COMORB_PREV_HEMIPLEGIA , 26 ,\n",
      "ESTUDO_COMORB_PREV_LEUCEMIA , 26 ,\n",
      "ESTUDO_COMORB_PREV_HIV , 26 ,\n",
      "ESTUDO_COMORB_PREV_TUL , 26 ,\n",
      "ESTUDO_COMORB_PREV_TUM , 26 ,\n",
      "STATUS_COVID_FROM_UTI , 16705 ,\n",
      "CD_PACIENTE_FROM_UTI , 16705 ,\n",
      "CD_LEITO , 16705 ,\n",
      "CD_UNIDADE , 16705 ,\n",
      "DS_UNIDADE , 16705 ,\n",
      "DT_ENTRADA , 16705 ,\n",
      "HR_ENTRADA , 16705 ,\n",
      "DT_SAIDA , 16705 ,\n",
      "HR_SAIDA , 16705 ,\n",
      "DTHR_LEITO , 17859 ,\n",
      "DATA_HORA_ENTRADA , 16705 ,\n",
      "REENTRADA , 16705 ,\n",
      "DTHR_IN_UTI , 16705 ,\n",
      "DTHR_OUT_UTI , 16705 ,\n",
      "DIAS_PRE_UTI , 0 ,\n",
      "DIAS_NA_UTI , 0 ,\n"
     ]
    }
   ],
   "source": [
    "showMissing(df)"
   ]
  },
  {
   "cell_type": "code",
   "execution_count": 8,
   "id": "tropical-hospital",
   "metadata": {},
   "outputs": [],
   "source": [
    "data = df.drop([\n",
    "    'ID',\n",
    "    'DTHR_REGISTRO',\n",
    "    'SN_OBITO',\n",
    "    'DATA_INICIO_SINTOMAS',\n",
    "    'PAIS_VISITADO',\n",
    "    'CIDADES_VISITADAS',\n",
    "    'CD_ATENDIMENTO',\n",
    "    'DATA_RETORNO',\n",
    "    'DATA_COLETA',\n",
    "    'DTHR_ALTA',\n",
    "    'COMPETENCIA',\n",
    "    'CD_PACIENTE_FROM_ESTUDO',\n",
    "    'PORTA_ENTRADA_FROM_ESTUDO',\n",
    "    'DATA_INICIO_SINTOMAS_FROM_ESTUDO',\n",
    "    'HISTORICO_VIAGEM_FROM_ESTUDO',\n",
    "    'CIDADES_VISITADAS_FROM_ESTUDO',\n",
    "    'LOCAL_COLETA_FROM_ESTUDO',\n",
    "    'DATA_COLETA_FROM_ESTUDO',\n",
    "    'PCR_COVID_19_FROM_ESTUDO',\n",
    "    'DESFECHO_FROM_ESTUDO',\n",
    "    'CD_PACIENTE_FROM_UTI',\n",
    "    'DT_ENTRADA',\n",
    "    'HR_ENTRADA',\n",
    "    'DT_SAIDA',\n",
    "    'HR_SAIDA',\n",
    "    #'SEGUNDOS_NA_UTI',\n",
    "    'STATUS_COVID_ORDEM',\n",
    "    'PCR_COVID_19',\n",
    "    #'STATUS_COVID',\n",
    "    'PORTA_ENTRADA',\n",
    "    'HISTORICO_VIAGEM',\n",
    "    'DS_TP_ATENDIMENTO',\n",
    "    'OBITO_SARS',\n",
    "    'TIPO_SAIDA',\n",
    "    'TIPO_OBITO',\n",
    "    'SN_CRIT_CONTATO_CASO_SUSPEITO',\n",
    "    'SN_CRIT_PROF_SAUDE_HOSPITAL',\n",
    "    'SN_CRIT_PROF_SAUDE_OUT',\n",
    "    'SN_CRIT_IGNORADO',\n",
    "    'SN_CRIT_PROT_COVID19',\n",
    "    'CD_UNIDADE',\n",
    "    'CD_LEITO',\n",
    "    'DS_UNIDADE'], axis=1)"
   ]
  },
  {
   "cell_type": "code",
   "execution_count": 9,
   "id": "dimensional-action",
   "metadata": {},
   "outputs": [
    {
     "data": {
      "text/plain": [
       "0         454612.0\n",
       "1         454612.0\n",
       "2         454612.0\n",
       "3         454612.0\n",
       "4        1402382.0\n",
       "           ...    \n",
       "18009    2392074.0\n",
       "18010     981692.0\n",
       "18011    2392113.0\n",
       "18012    1541136.0\n",
       "18013    1802152.0\n",
       "Name: CD_PACIENTE, Length: 18014, dtype: float64"
      ]
     },
     "execution_count": 9,
     "metadata": {},
     "output_type": "execute_result"
    }
   ],
   "source": [
    "data['CD_PACIENTE']"
   ]
  },
  {
   "cell_type": "markdown",
   "id": "chubby-thong",
   "metadata": {},
   "source": [
    "## Calculadora do Charlson"
   ]
  },
  {
   "cell_type": "code",
   "execution_count": 10,
   "id": "brilliant-guess",
   "metadata": {},
   "outputs": [],
   "source": [
    "def resume(coluna, df):\n",
    "    missingC = df[coluna].isnull().sum()\n",
    "    print(\"Valores Faltantes: \", missingC)\n",
    "    print(df[coluna].value_counts())\n",
    "    ndf = df[~df[coluna].isna()].copy()\n",
    "    lista = ndf[coluna].unique().tolist()\n",
    "    print(coluna+\": \", lista)\n",
    "    return missingC\n",
    "\n",
    "def pre_dataset(df):\n",
    "    df = df[df['ESTUDO_CHARLSON'].isna()]\n",
    "    columns_list = df.columns.to_list()\n",
    "    list_comorb = []\n",
    "    for i in columns_list:\n",
    "        if i.startswith('ESTUDO_COMORB_PREV_'):\n",
    "            list_comorb.append(i)\n",
    "\n",
    "    df_cii = df[[\"CD_PACIENTE\", \"IDADE\", *list_comorb]]\n",
    "    df_cii = df_cii.rename(columns=str.lower)\n",
    "    df_cii.idade = df_cii.idade.str.split(',').str[0].astype(int)\n",
    "    return df_cii\n",
    "\n",
    "def score_charlson(df_cii):\n",
    "    columns_cii = ['estudo_comorb_prev_iam', 'estudo_comorb_prev_ic', 'estudo_comorb_prev_drc',\n",
    "               'estudo_comorb_prev_dmii', 'estudo_comorb_prev_carcinoma',\n",
    "               'estudo_comorb_prev_avc', 'estudo_comorb_prev_dpoc', 'estudo_comorb_prev_demencia', \n",
    "               'estudo_comorb_prev_leucemia', 'estudo_comorb_prev_hiv']\n",
    "\n",
    "    score = {'estudo_comorb_prev_iam': 1, 'estudo_comorb_prev_ic': 1, 'estudo_comorb_prev_drc': 2, 'estudo_comorb_prev_dmi': 1,\n",
    "             'estudo_comorb_prev_dmii': 2, 'estudo_comorb_prev_carcinoma': 6, 'estudo_comorb_prev_adenoma': 2,\n",
    "             'estudo_comorb_prev_linfoma': 2, 'estudo_comorb_prev_avc': 1, 'estudo_comorb_prev_dpoc': 1,\n",
    "             'estudo_comorb_prev_demencia': 1, 'estudo_comorb_prev_dtc': 1, 'estudo_comorb_prev_hemiplegia': 2,\n",
    "             'estudo_comorb_prev_leucemia': 2, 'estudo_comorb_prev_hiv': 6}\n",
    "\n",
    "    df_ciiF = df_cii[[\"cd_paciente\", \"idade\", *columns_cii]]\n",
    "    \n",
    "    df_ciiF['estudo_comorb_prev_iam'].replace({\"N\": 0, \"S\": 1}, inplace=True)\n",
    "    df_ciiF['estudo_comorb_prev_ic'].replace({\"N\": 0, \"S\": 1}, inplace=True)\n",
    "    df_ciiF['estudo_comorb_prev_drc'].replace({\"N\": 0, \"S\": 2}, inplace=True)\n",
    "    df_ciiF['estudo_comorb_prev_dmii'].replace({\"N\": 0, \"S\": 2}, inplace=True)\n",
    "    df_ciiF['estudo_comorb_prev_carcinoma'].replace({\"N\": 0, \"S\": 6}, inplace=True)\n",
    "    df_ciiF['estudo_comorb_prev_avc'].replace({\"N\": 0, \"S\": 1}, inplace=True)\n",
    "    df_ciiF['estudo_comorb_prev_dpoc'].replace({\"N\": 0, \"S\": 1}, inplace=True)\n",
    "    df_ciiF['estudo_comorb_prev_demencia'].replace({\"N\": 0, \"S\": 1}, inplace=True)\n",
    "    df_ciiF['estudo_comorb_prev_leucemia'].replace({\"N\": 0, \"S\": 2}, inplace=True)\n",
    "    df_ciiF['estudo_comorb_prev_hiv'].replace({\"N\": 0, \"S\": 6}, inplace=True)\n",
    "    \n",
    "    search = ' // ' or ','\n",
    "    df_ciiF['count_outras']= df_cii['estudo_comorb_prev_outras'].astype(str).str.count('//|,')\n",
    "    \n",
    "    idade_cii = []    \n",
    "\n",
    "    for idade in df_ciiF.idade:\n",
    "        if (idade >= 80):\n",
    "            idade_cii.append(4)\n",
    "        elif (idade >= 70 and idade <=79):\n",
    "            idade_cii.append(3)\n",
    "        elif (idade >= 60 and idade <=69):\n",
    "            idade_cii.append(2) \n",
    "        elif (idade >= 50 and idade <=59):\n",
    "            idade_cii.append(1)\n",
    "        else:\n",
    "            idade_cii.append(0)\n",
    "\n",
    "    df_ciiF['idade'] = idade_cii\n",
    "        \n",
    "    charlson = df_ciiF[['count_outras','idade', *columns_cii]].sum(axis = 1, skipna = True) \n",
    "    print(charlson)\n",
    "    \n",
    "    df_final = pd.DataFrame(charlson, columns=['estudo_charlson'])\n",
    "\n",
    "    df_final = df_final.assign(cd_paciente = df_ciiF['cd_paciente'])\n",
    "#    df_final = df_final.assign(idade = df_cii['idade'])\n",
    "    \n",
    "    return df_final"
   ]
  },
  {
   "cell_type": "code",
   "execution_count": 11,
   "id": "restricted-ottawa",
   "metadata": {},
   "outputs": [
    {
     "data": {
      "text/plain": [
       "Index(['cd_paciente', 'idade', 'estudo_comorb_prev_has',\n",
       "       'estudo_comorb_prev_iam', 'estudo_comorb_prev_ic',\n",
       "       'estudo_comorb_prev_drc', 'estudo_comorb_prev_dmi',\n",
       "       'estudo_comorb_prev_dmii', 'estudo_comorb_prev_carcinoma',\n",
       "       'estudo_comorb_prev_adenoma', 'estudo_comorb_prev_linfoma',\n",
       "       'estudo_comorb_prev_avc', 'estudo_comorb_prev_asma',\n",
       "       'estudo_comorb_prev_dpoc', 'estudo_comorb_prev_obesidade',\n",
       "       'estudo_comorb_prev_epilepsia', 'estudo_comorb_prev_higido',\n",
       "       'estudo_comorb_prev_outras', 'estudo_comorb_prev_tx_org_sol',\n",
       "       'estudo_comorb_prev_descon', 'estudo_comorb_prev_dvp',\n",
       "       'estudo_comorb_prev_demencia', 'estudo_comorb_prev_dtc',\n",
       "       'estudo_comorb_prev_up', 'estudo_comorb_prev_dfl',\n",
       "       'estudo_comorb_prev_dfm', 'estudo_comorb_prev_hemiplegia',\n",
       "       'estudo_comorb_prev_leucemia', 'estudo_comorb_prev_hiv',\n",
       "       'estudo_comorb_prev_tul', 'estudo_comorb_prev_tum'],\n",
       "      dtype='object')"
      ]
     },
     "execution_count": 11,
     "metadata": {},
     "output_type": "execute_result"
    }
   ],
   "source": [
    "pre_processing_data = pre_dataset(data)\n",
    "pre_processing_data.columns"
   ]
  },
  {
   "cell_type": "code",
   "execution_count": 12,
   "id": "previous-ground",
   "metadata": {},
   "outputs": [
    {
     "name": "stdout",
     "output_type": "stream",
     "text": [
      "Valores Faltantes:  17682\n",
      "5.0     64\n",
      "2.0     64\n",
      "1.0     64\n",
      "4.0     37\n",
      "3.0     33\n",
      "6.0     30\n",
      "7.0     21\n",
      "10.0     9\n",
      "8.0      6\n",
      "0.0      3\n",
      "9.0      1\n",
      "Name: ESTUDO_CHARLSON, dtype: int64\n",
      "ESTUDO_CHARLSON:  [1.0, 5.0, 2.0, 6.0, 8.0, 4.0, 3.0, 7.0, 9.0, 10.0, 0.0]\n"
     ]
    },
    {
     "data": {
      "text/plain": [
       "17682"
      ]
     },
     "execution_count": 12,
     "metadata": {},
     "output_type": "execute_result"
    }
   ],
   "source": [
    "resume('ESTUDO_CHARLSON', df)"
   ]
  },
  {
   "cell_type": "code",
   "execution_count": 13,
   "id": "martial-admission",
   "metadata": {
    "scrolled": true
   },
   "outputs": [
    {
     "name": "stdout",
     "output_type": "stream",
     "text": [
      "0        0.0\n",
      "1        0.0\n",
      "2        0.0\n",
      "3        0.0\n",
      "4        4.0\n",
      "        ... \n",
      "18009    3.0\n",
      "18010    0.0\n",
      "18011    0.0\n",
      "18012    0.0\n",
      "18013    0.0\n",
      "Length: 17682, dtype: float64\n"
     ]
    },
    {
     "name": "stderr",
     "output_type": "stream",
     "text": [
      "/Users/giggio/opt/anaconda3/envs/edaML/lib/python3.6/site-packages/pandas/core/series.py:4569: SettingWithCopyWarning: \n",
      "A value is trying to be set on a copy of a slice from a DataFrame\n",
      "\n",
      "See the caveats in the documentation: https://pandas.pydata.org/pandas-docs/stable/user_guide/indexing.html#returning-a-view-versus-a-copy\n",
      "  method=method,\n",
      "/Users/giggio/opt/anaconda3/envs/edaML/lib/python3.6/site-packages/ipykernel_launcher.py:49: SettingWithCopyWarning: \n",
      "A value is trying to be set on a copy of a slice from a DataFrame.\n",
      "Try using .loc[row_indexer,col_indexer] = value instead\n",
      "\n",
      "See the caveats in the documentation: https://pandas.pydata.org/pandas-docs/stable/user_guide/indexing.html#returning-a-view-versus-a-copy\n",
      "/Users/giggio/opt/anaconda3/envs/edaML/lib/python3.6/site-packages/ipykernel_launcher.py:65: SettingWithCopyWarning: \n",
      "A value is trying to be set on a copy of a slice from a DataFrame.\n",
      "Try using .loc[row_indexer,col_indexer] = value instead\n",
      "\n",
      "See the caveats in the documentation: https://pandas.pydata.org/pandas-docs/stable/user_guide/indexing.html#returning-a-view-versus-a-copy\n"
     ]
    }
   ],
   "source": [
    "charlson_complete = score_charlson(pre_processing_data)"
   ]
  },
  {
   "cell_type": "code",
   "execution_count": 14,
   "id": "velvet-carol",
   "metadata": {},
   "outputs": [
    {
     "data": {
      "text/html": [
       "<div>\n",
       "<style scoped>\n",
       "    .dataframe tbody tr th:only-of-type {\n",
       "        vertical-align: middle;\n",
       "    }\n",
       "\n",
       "    .dataframe tbody tr th {\n",
       "        vertical-align: top;\n",
       "    }\n",
       "\n",
       "    .dataframe thead th {\n",
       "        text-align: right;\n",
       "    }\n",
       "</style>\n",
       "<table border=\"1\" class=\"dataframe\">\n",
       "  <thead>\n",
       "    <tr style=\"text-align: right;\">\n",
       "      <th></th>\n",
       "      <th>estudo_charlson</th>\n",
       "      <th>cd_paciente</th>\n",
       "    </tr>\n",
       "  </thead>\n",
       "  <tbody>\n",
       "    <tr>\n",
       "      <th>0</th>\n",
       "      <td>0.0</td>\n",
       "      <td>454612.0</td>\n",
       "    </tr>\n",
       "    <tr>\n",
       "      <th>1</th>\n",
       "      <td>0.0</td>\n",
       "      <td>454612.0</td>\n",
       "    </tr>\n",
       "    <tr>\n",
       "      <th>2</th>\n",
       "      <td>0.0</td>\n",
       "      <td>454612.0</td>\n",
       "    </tr>\n",
       "    <tr>\n",
       "      <th>3</th>\n",
       "      <td>0.0</td>\n",
       "      <td>454612.0</td>\n",
       "    </tr>\n",
       "    <tr>\n",
       "      <th>4</th>\n",
       "      <td>4.0</td>\n",
       "      <td>1402382.0</td>\n",
       "    </tr>\n",
       "  </tbody>\n",
       "</table>\n",
       "</div>"
      ],
      "text/plain": [
       "   estudo_charlson  cd_paciente\n",
       "0              0.0     454612.0\n",
       "1              0.0     454612.0\n",
       "2              0.0     454612.0\n",
       "3              0.0     454612.0\n",
       "4              4.0    1402382.0"
      ]
     },
     "execution_count": 14,
     "metadata": {},
     "output_type": "execute_result"
    }
   ],
   "source": [
    "charlson_complete.head()"
   ]
  },
  {
   "cell_type": "code",
   "execution_count": 15,
   "id": "acoustic-repair",
   "metadata": {},
   "outputs": [
    {
     "data": {
      "image/png": "[encoded data removed]",
      "text/plain": [
       "<Figure size 1440x720 with 1 Axes>"
      ]
     },
     "metadata": {
      "needs_background": "light"
     },
     "output_type": "display_data"
    }
   ],
   "source": [
    "plt.figure(figsize=(20, 10))\n",
    "sns.histplot(charlson_complete.estudo_charlson, kde=True)\n",
    "plt.title(\"Charlson\")\n",
    "plt.show()"
   ]
  },
  {
   "cell_type": "code",
   "execution_count": 16,
   "id": "interesting-metro",
   "metadata": {},
   "outputs": [
    {
     "data": {
      "text/plain": [
       "0.0     10331\n",
       "2.0      2190\n",
       "1.0      2141\n",
       "3.0      1633\n",
       "4.0      1384\n",
       "11.0        1\n",
       "7.0         1\n",
       "6.0         1\n",
       "Name: estudo_charlson, dtype: int64"
      ]
     },
     "execution_count": 16,
     "metadata": {},
     "output_type": "execute_result"
    }
   ],
   "source": [
    "charlson_complete.estudo_charlson.value_counts()"
   ]
  },
  {
   "cell_type": "markdown",
   "id": "satellite-starter",
   "metadata": {},
   "source": [
    "## Análise de cada variável restante"
   ]
  },
  {
   "cell_type": "code",
   "execution_count": 17,
   "id": "comic-price",
   "metadata": {},
   "outputs": [],
   "source": [
    "def __getDictToReplace(keys):\n",
    "    d = {}\n",
    "    for k in keys:\n",
    "        d[k] = keys.index(k) + 1\n",
    "    return d"
   ]
  },
  {
   "cell_type": "markdown",
   "id": "wired-vision",
   "metadata": {},
   "source": [
    "#### COLETOU_AMOSTRA"
   ]
  },
  {
   "cell_type": "code",
   "execution_count": 18,
   "id": "interim-patch",
   "metadata": {},
   "outputs": [
    {
     "data": {
      "text/plain": [
       "SIM    17920\n",
       "NAO       92\n",
       "Name: COLETOU_AMOSTRA, dtype: int64"
      ]
     },
     "execution_count": 18,
     "metadata": {},
     "output_type": "execute_result"
    }
   ],
   "source": [
    "data['COLETOU_AMOSTRA'].value_counts()"
   ]
  },
  {
   "cell_type": "code",
   "execution_count": 19,
   "id": "considered-private",
   "metadata": {},
   "outputs": [],
   "source": [
    "data['COLETOU_AMOSTRA'] = data['COLETOU_AMOSTRA'].replace({'SIM': 1, 'NAO': 0})"
   ]
  },
  {
   "cell_type": "markdown",
   "id": "built-theology",
   "metadata": {},
   "source": [
    "#### [REMOVED] LOCAL_COLETA"
   ]
  },
  {
   "cell_type": "code",
   "execution_count": 20,
   "id": "posted-pearl",
   "metadata": {},
   "outputs": [
    {
     "data": {
      "text/plain": [
       "PRONTOPUC ADULTO                        12139\n",
       "PRONTOPUC ADULTO/INTE                    2838\n",
       "EMERGENCIA ADULTA SUS/INTE                828\n",
       "EMERGENCIA ADULTA SUS                     754\n",
       "SALA DE RECUPERACAO                       612\n",
       "8 N - INTERNACAO                          118\n",
       "5 S - INTERNAÇÃO                          105\n",
       "8 S - INTERNACAO                           88\n",
       "HEMODINAMICA                               78\n",
       "7 S - INTERNACAO                           77\n",
       "9 N - INTERNACAO                           69\n",
       "7 N - INTERNACAO                           62\n",
       "9 S - INTERNACAO                           57\n",
       "LACEN                                      29\n",
       "COVID SUS - INTERNACAO                     27\n",
       "6 S - INTERNACAO                           20\n",
       "PSIQUIATRIA - INTERNACAO                   20\n",
       "5 S - INTERNAÇÃO CCG                       19\n",
       "UTI POS OPERATORIO CIRURGIA CARDIACA       13\n",
       "6 N - INTERNACAO                            9\n",
       "TRAUMATO AMBULATORIAL                       8\n",
       "Particular                                  6\n",
       "UTI-CORONARIANA                             4\n",
       "UTI GERAL AREA II                           4\n",
       "LACEN, Particular                           4\n",
       "UTI-CIRURGICA                               3\n",
       "PPUC                                        3\n",
       "CENTRO CIRURGICO                            3\n",
       "LACEN/Convênio                              1\n",
       "LACEN/Particular                            1\n",
       "UNIDADE DE INTERNAÇÃO                       1\n",
       "LACEN, Convênio                             1\n",
       "LACEN+particular                            1\n",
       "UTI GERAL AREA I                            1\n",
       "PRONTOPUC PEDIATRICA                        1\n",
       "LABORATORIO CLINICO                         1\n",
       "ALOJAMENTO CONJUNTO - MATERNIDADE           1\n",
       "AMBULATORIOS  GERAL CONJ                    1\n",
       "exame externo                               1\n",
       "Convênio                                    1\n",
       "LACEN, particular                           1\n",
       "EMERGENCIA PEDIATRICA SUS                   1\n",
       "Name: LOCAL_COLETA, dtype: int64"
      ]
     },
     "execution_count": 20,
     "metadata": {},
     "output_type": "execute_result"
    }
   ],
   "source": [
    "data['LOCAL_COLETA'].value_counts() #DROP"
   ]
  },
  {
   "cell_type": "code",
   "execution_count": 21,
   "id": "neutral-elevation",
   "metadata": {},
   "outputs": [],
   "source": [
    "data = data.drop(['LOCAL_COLETA'], axis=1)"
   ]
  },
  {
   "cell_type": "markdown",
   "id": "outer-coating",
   "metadata": {},
   "source": [
    "#### [REMOVED] PCR_INFLUENZA"
   ]
  },
  {
   "cell_type": "code",
   "execution_count": 22,
   "id": "intermediate-projection",
   "metadata": {},
   "outputs": [
    {
     "data": {
      "text/plain": [
       "EM ANDAMENTO    14\n",
       "NEGATIVO         1\n",
       "Name: PCR_INFLUENZA, dtype: int64"
      ]
     },
     "execution_count": 22,
     "metadata": {},
     "output_type": "execute_result"
    }
   ],
   "source": [
    "data['PCR_INFLUENZA'].value_counts() #DROP"
   ]
  },
  {
   "cell_type": "code",
   "execution_count": 23,
   "id": "loose-ready",
   "metadata": {},
   "outputs": [],
   "source": [
    "data = data.drop(['PCR_INFLUENZA'], axis=1)"
   ]
  },
  {
   "cell_type": "markdown",
   "id": "prerequisite-ballet",
   "metadata": {},
   "source": [
    "#### IFI_OUTRO_VIRUS"
   ]
  },
  {
   "cell_type": "code",
   "execution_count": 24,
   "id": "favorite-maple",
   "metadata": {},
   "outputs": [],
   "source": [
    "data['IFI_OUTRO_VIRUS'] = data['IFI_OUTRO_VIRUS'].fillna('NI')"
   ]
  },
  {
   "cell_type": "code",
   "execution_count": 25,
   "id": "neutral-boating",
   "metadata": {},
   "outputs": [
    {
     "data": {
      "text/plain": [
       "NI              17996\n",
       "EM ANDAMENTO       16\n",
       "NEGATIVO            2\n",
       "Name: IFI_OUTRO_VIRUS, dtype: int64"
      ]
     },
     "execution_count": 25,
     "metadata": {},
     "output_type": "execute_result"
    }
   ],
   "source": [
    "data['IFI_OUTRO_VIRUS'].value_counts()"
   ]
  },
  {
   "cell_type": "code",
   "execution_count": 26,
   "id": "better-physics",
   "metadata": {},
   "outputs": [],
   "source": [
    "data['IFI_OUTRO_VIRUS'] = data['IFI_OUTRO_VIRUS'].replace({'EM ANDAMENTO': 1, 'NEGATIVO': 0, 'NI': 2})"
   ]
  },
  {
   "cell_type": "markdown",
   "id": "brown-momentum",
   "metadata": {},
   "source": [
    "#### [REMOVED] DESFECHO"
   ]
  },
  {
   "cell_type": "code",
   "execution_count": 27,
   "id": "several-constraint",
   "metadata": {},
   "outputs": [
    {
     "data": {
      "text/plain": [
       "NÃO INFORMADO                                17905\n",
       "INTERNAÇÃO                                      70\n",
       "ALTA AMBULATORIAL + ISOLAMENTO DOMICILIAR       39\n",
       "Name: DESFECHO, dtype: int64"
      ]
     },
     "execution_count": 27,
     "metadata": {},
     "output_type": "execute_result"
    }
   ],
   "source": [
    "data['DESFECHO'].value_counts() #DROP"
   ]
  },
  {
   "cell_type": "code",
   "execution_count": 28,
   "id": "brazilian-namibia",
   "metadata": {},
   "outputs": [],
   "source": [
    "data = data.drop(['DESFECHO'], axis=1)"
   ]
  },
  {
   "cell_type": "markdown",
   "id": "monthly-spending",
   "metadata": {},
   "source": [
    "#### CD_PACIENTE"
   ]
  },
  {
   "cell_type": "markdown",
   "id": "considerable-entrepreneur",
   "metadata": {},
   "source": [
    "Essa feature permance no dataset, pois depois permite fazer buscas mais precisas.\n",
    "Não é necessário fazer nenhum processamento nela."
   ]
  },
  {
   "cell_type": "markdown",
   "id": "recreational-accused",
   "metadata": {},
   "source": [
    "#### GENERO"
   ]
  },
  {
   "cell_type": "code",
   "execution_count": 29,
   "id": "blind-culture",
   "metadata": {},
   "outputs": [
    {
     "data": {
      "text/plain": [
       "FEMININO     10164\n",
       "MASCULINO     7840\n",
       "OUTROS          10\n",
       "Name: GENERO, dtype: int64"
      ]
     },
     "execution_count": 29,
     "metadata": {},
     "output_type": "execute_result"
    }
   ],
   "source": [
    "data['GENERO'].value_counts()"
   ]
  },
  {
   "cell_type": "code",
   "execution_count": 30,
   "id": "checked-healing",
   "metadata": {},
   "outputs": [],
   "source": [
    "data['GENERO'] = data['GENERO'].replace({'MASCULINO': 1, 'FEMININO': 0})"
   ]
  },
  {
   "cell_type": "markdown",
   "id": "crude-respondent",
   "metadata": {},
   "source": [
    "#### IDADE"
   ]
  },
  {
   "cell_type": "code",
   "execution_count": 31,
   "id": "configured-disaster",
   "metadata": {},
   "outputs": [
    {
     "data": {
      "text/plain": [
       "70,87100456621      7\n",
       "42,3833333333333    6\n",
       "42,498401826484     6\n",
       "41,2874429223744    6\n",
       "37,9203196347032    6\n",
       "                   ..\n",
       "81,5559360730594    1\n",
       "25,07100456621      1\n",
       "21,5148401826484    1\n",
       "42,0189497716895    1\n",
       "18,8271689497717    1\n",
       "Name: IDADE, Length: 12342, dtype: int64"
      ]
     },
     "execution_count": 31,
     "metadata": {},
     "output_type": "execute_result"
    }
   ],
   "source": [
    "data['IDADE'].value_counts()"
   ]
  },
  {
   "cell_type": "markdown",
   "id": "lesser-plate",
   "metadata": {},
   "source": [
    "Essa feature já é numérica."
   ]
  },
  {
   "cell_type": "markdown",
   "id": "reliable-tuesday",
   "metadata": {},
   "source": [
    "#### DIAGNOSTICO_SARS"
   ]
  },
  {
   "cell_type": "code",
   "execution_count": 32,
   "id": "diagnostic-bidding",
   "metadata": {},
   "outputs": [
    {
     "data": {
      "text/plain": [
       "NÃO    16857\n",
       "SIM     1157\n",
       "Name: DIAGNOSTICO_SARS, dtype: int64"
      ]
     },
     "execution_count": 32,
     "metadata": {},
     "output_type": "execute_result"
    }
   ],
   "source": [
    "data['DIAGNOSTICO_SARS'].value_counts()"
   ]
  },
  {
   "cell_type": "code",
   "execution_count": 33,
   "id": "processed-basement",
   "metadata": {},
   "outputs": [],
   "source": [
    "data['DIAGNOSTICO_SARS'] = data['DIAGNOSTICO_SARS'].replace({'SIM': 1, 'NÃO': 0})"
   ]
  },
  {
   "cell_type": "markdown",
   "id": "lovely-startup",
   "metadata": {},
   "source": [
    "#### CD_CID"
   ]
  },
  {
   "cell_type": "code",
   "execution_count": 34,
   "id": "damaged-union",
   "metadata": {},
   "outputs": [
    {
     "data": {
      "text/plain": [
       "B349    9425\n",
       "B342    1154\n",
       "R060     299\n",
       "A419     278\n",
       "I64      233\n",
       "        ... \n",
       "I421       1\n",
       "L932       1\n",
       "D374       1\n",
       "S220       1\n",
       "C170       1\n",
       "Name: CD_CID, Length: 1263, dtype: int64"
      ]
     },
     "execution_count": 34,
     "metadata": {},
     "output_type": "execute_result"
    }
   ],
   "source": [
    "data['CD_CID'].value_counts()"
   ]
  },
  {
   "cell_type": "code",
   "execution_count": 35,
   "id": "every-birth",
   "metadata": {},
   "outputs": [],
   "source": [
    "keys = data['CD_CID'].value_counts().keys().tolist()"
   ]
  },
  {
   "cell_type": "code",
   "execution_count": 36,
   "id": "ceramic-burst",
   "metadata": {},
   "outputs": [],
   "source": [
    "dictToReplace = __getDictToReplace(keys)"
   ]
  },
  {
   "cell_type": "code",
   "execution_count": 37,
   "id": "qualified-specification",
   "metadata": {},
   "outputs": [
    {
     "data": {
      "text/plain": [
       "{'B349': 1,\n",
       " 'B342': 2,\n",
       " 'R060': 3,\n",
       " 'A419': 4,\n",
       " 'I64': 5,\n",
       " 'J069': 6,\n",
       " 'K359': 7,\n",
       " 'Z290': 8,\n",
       " 'I219': 9,\n",
       " 'I200': 10,\n",
       " 'I500': 11,\n",
       " 'R520': 12,\n",
       " 'N180': 13,\n",
       " 'J180': 14,\n",
       " 'N390': 15,\n",
       " 'R51': 16,\n",
       " 'C61': 17,\n",
       " 'R100': 18,\n",
       " 'R509': 19,\n",
       " 'R05': 20,\n",
       " 'K810': 21,\n",
       " 'R074': 22,\n",
       " 'K922': 23,\n",
       " 'K921': 24,\n",
       " 'I743': 25,\n",
       " 'A09': 26,\n",
       " 'J159': 27,\n",
       " 'I509': 28,\n",
       " 'N40': 29,\n",
       " 'A499': 30,\n",
       " 'U071': 31,\n",
       " 'C349': 32,\n",
       " 'N179': 33,\n",
       " 'G409': 34,\n",
       " 'K850': 35,\n",
       " 'I639': 36,\n",
       " 'N200': 37,\n",
       " 'Z000': 38,\n",
       " 'K920': 39,\n",
       " 'N189': 40,\n",
       " 'I50': 41,\n",
       " 'A418': 42,\n",
       " 'J960': 43,\n",
       " 'C64': 44,\n",
       " 'I269': 45,\n",
       " 'M169': 46,\n",
       " 'J81': 47,\n",
       " 'I20': 48,\n",
       " 'D649': 49,\n",
       " 'C509': 50,\n",
       " 'K802': 51,\n",
       " 'J039': 52,\n",
       " 'R53': 53,\n",
       " 'I26': 54,\n",
       " 'K859': 55,\n",
       " 'A41': 56,\n",
       " 'G402': 57,\n",
       " 'J459': 58,\n",
       " 'R55': 59,\n",
       " 'J15': 60,\n",
       " 'G35': 61,\n",
       " 'C189': 62,\n",
       " 'K800': 63,\n",
       " 'R11': 64,\n",
       " 'J18': 65,\n",
       " 'I209': 66,\n",
       " 'I442': 67,\n",
       " 'I21': 68,\n",
       " 'K808': 69,\n",
       " 'D259': 70,\n",
       " 'I48': 71,\n",
       " 'J189': 72,\n",
       " 'N201': 73,\n",
       " 'C348': 74,\n",
       " 'I702': 75,\n",
       " 'J441': 76,\n",
       " 'G459': 77,\n",
       " 'J90': 78,\n",
       " 'R070': 79,\n",
       " 'C259': 80,\n",
       " 'N39': 81,\n",
       " 'K746': 82,\n",
       " 'E871': 83,\n",
       " 'K566': 84,\n",
       " 'J158': 85,\n",
       " 'J129': 86,\n",
       " 'R198': 87,\n",
       " 'E105': 88,\n",
       " 'F059': 89,\n",
       " 'S720': 90,\n",
       " 'R073': 91,\n",
       " 'I210': 92,\n",
       " 'J36': 93,\n",
       " 'N188': 94,\n",
       " 'R104': 95,\n",
       " 'R103': 96,\n",
       " 'J440': 97,\n",
       " 'I460': 98,\n",
       " 'I739': 99,\n",
       " 'I499': 100,\n",
       " 'J91': 101,\n",
       " 'I214': 102,\n",
       " 'K35': 103,\n",
       " 'C169': 104,\n",
       " 'E141': 105,\n",
       " 'C679': 106,\n",
       " 'N18': 107,\n",
       " 'K804': 108,\n",
       " 'C508': 109,\n",
       " 'I469': 110,\n",
       " 'K564': 111,\n",
       " 'N832': 112,\n",
       " 'I749': 113,\n",
       " 'R42': 114,\n",
       " 'N17': 115,\n",
       " 'C56': 116,\n",
       " 'C20': 117,\n",
       " 'I710': 118,\n",
       " 'R31': 119,\n",
       " 'R508': 120,\n",
       " 'C629': 121,\n",
       " 'B972': 122,\n",
       " 'K830': 123,\n",
       " 'I260': 124,\n",
       " 'D381': 125,\n",
       " 'C343': 126,\n",
       " 'S828': 127,\n",
       " 'C50': 128,\n",
       " 'N10': 129,\n",
       " 'I211': 130,\n",
       " 'F322': 131,\n",
       " 'R101': 132,\n",
       " 'I652': 133,\n",
       " 'J449': 134,\n",
       " 'G40': 135,\n",
       " 'D391': 136,\n",
       " 'C187': 137,\n",
       " 'I828': 138,\n",
       " 'C900': 139,\n",
       " 'R568': 140,\n",
       " 'N20': 141,\n",
       " 'Z940': 142,\n",
       " 'J22': 143,\n",
       " 'D430': 144,\n",
       " 'N23': 145,\n",
       " 'C672': 146,\n",
       " 'C220': 147,\n",
       " 'L089': 148,\n",
       " 'N19': 149,\n",
       " 'C780': 150,\n",
       " 'J930': 151,\n",
       " 'J00': 152,\n",
       " 'R071': 153,\n",
       " 'G45': 154,\n",
       " 'C229': 155,\n",
       " 'G408': 156,\n",
       " 'G610': 157,\n",
       " 'C341': 158,\n",
       " 'I612': 159,\n",
       " 'K80': 160,\n",
       " 'I714': 161,\n",
       " 'S721': 162,\n",
       " 'C950': 163,\n",
       " 'F411': 164,\n",
       " 'E115': 165,\n",
       " 'E101': 166,\n",
       " 'R042': 167,\n",
       " 'K929': 168,\n",
       " 'L032': 169,\n",
       " 'K851': 170,\n",
       " 'K072': 171,\n",
       " 'C538': 172,\n",
       " 'T861': 173,\n",
       " 'N202': 174,\n",
       " 'Z209': 175,\n",
       " 'C25': 176,\n",
       " 'K57': 177,\n",
       " 'K37': 178,\n",
       " 'I82': 179,\n",
       " 'C793': 180,\n",
       " 'I350': 181,\n",
       " 'F609': 182,\n",
       " 'N111': 183,\n",
       " 'G404': 184,\n",
       " 'A46': 185,\n",
       " 'K805': 186,\n",
       " 'C541': 187,\n",
       " 'D34': 188,\n",
       " 'R202': 189,\n",
       " 'T813': 190,\n",
       " 'K703': 191,\n",
       " 'G911': 192,\n",
       " 'K639': 193,\n",
       " 'R579': 194,\n",
       " 'D414': 195,\n",
       " 'C168': 196,\n",
       " 'R001': 197,\n",
       " 'G934': 198,\n",
       " 'N049': 199,\n",
       " 'C859': 200,\n",
       " 'C678': 201,\n",
       " 'A415': 202,\n",
       " 'E840': 203,\n",
       " 'I10': 204,\n",
       " 'F319': 205,\n",
       " 'N44': 206,\n",
       " 'R072': 207,\n",
       " 'R56': 208,\n",
       " 'B343': 209,\n",
       " 'F329': 210,\n",
       " 'C34': 211,\n",
       " 'D400': 212,\n",
       " 'I609': 213,\n",
       " 'N139': 214,\n",
       " 'R33': 215,\n",
       " 'C329': 216,\n",
       " 'S729': 217,\n",
       " 'F29': 218,\n",
       " 'T509': 219,\n",
       " 'K74': 220,\n",
       " 'K928': 221,\n",
       " 'K801': 222,\n",
       " 'F03': 223,\n",
       " 'D440': 224,\n",
       " 'C786': 225,\n",
       " 'C959': 226,\n",
       " 'R10': 227,\n",
       " 'I255': 228,\n",
       " 'R17': 229,\n",
       " 'J018': 230,\n",
       " 'F312': 231,\n",
       " 'C439': 232,\n",
       " 'C162': 233,\n",
       " 'K831': 234,\n",
       " 'C159': 235,\n",
       " 'I409': 236,\n",
       " 'A488': 237,\n",
       " 'K439': 238,\n",
       " 'R410': 239,\n",
       " 'N358': 240,\n",
       " 'D693': 241,\n",
       " 'K409': 242,\n",
       " 'C910': 243,\n",
       " 'C539': 244,\n",
       " 'F332': 245,\n",
       " 'I441': 246,\n",
       " 'A49': 247,\n",
       " 'K403': 248,\n",
       " 'C65': 249,\n",
       " 'C221': 250,\n",
       " 'K550': 251,\n",
       " 'I676': 252,\n",
       " 'C18': 253,\n",
       " 'R300': 254,\n",
       " 'D758': 255,\n",
       " 'C188': 256,\n",
       " 'R13': 257,\n",
       " 'N300': 258,\n",
       " 'C889': 259,\n",
       " 'C819': 260,\n",
       " 'N818': 261,\n",
       " 'K562': 262,\n",
       " 'K81': 263,\n",
       " 'N029': 264,\n",
       " 'A86': 265,\n",
       " 'C80': 266,\n",
       " 'C328': 267,\n",
       " 'C719': 268,\n",
       " 'G379': 269,\n",
       " 'C671': 270,\n",
       " 'J939': 271,\n",
       " 'K529': 272,\n",
       " 'K319': 273,\n",
       " 'J09': 274,\n",
       " 'R578': 275,\n",
       " 'N209': 276,\n",
       " 'C760': 277,\n",
       " 'F316': 278,\n",
       " 'I471': 279,\n",
       " 'R529': 280,\n",
       " 'F920': 281,\n",
       " 'E145': 282,\n",
       " 'J969': 283,\n",
       " 'I713': 284,\n",
       " 'K869': 285,\n",
       " 'D729': 286,\n",
       " 'K402': 287,\n",
       " 'C260': 288,\n",
       " 'F051': 289,\n",
       " 'I959': 290,\n",
       " 'K638': 291,\n",
       " 'S723': 292,\n",
       " 'C851': 293,\n",
       " 'K750': 294,\n",
       " 'N132': 295,\n",
       " 'C19': 296,\n",
       " 'J690': 297,\n",
       " 'D509': 298,\n",
       " 'I44': 299,\n",
       " 'N92': 300,\n",
       " 'R601': 301,\n",
       " 'K36': 302,\n",
       " 'C670': 303,\n",
       " 'K572': 304,\n",
       " 'C250': 305,\n",
       " 'I744': 306,\n",
       " 'B340': 307,\n",
       " 'D638': 308,\n",
       " 'R418': 309,\n",
       " 'M869': 310,\n",
       " 'C340': 311,\n",
       " 'K729': 312,\n",
       " 'B028': 313,\n",
       " 'G458': 314,\n",
       " 'G628': 315,\n",
       " 'E108': 316,\n",
       " 'I213': 317,\n",
       " 'C67': 318,\n",
       " 'C179': 319,\n",
       " 'T784': 320,\n",
       " 'B24': 321,\n",
       " 'R18': 322,\n",
       " 'G454': 323,\n",
       " 'I822': 324,\n",
       " 'L030': 325,\n",
       " 'K469': 326,\n",
       " 'I339': 327,\n",
       " 'N130': 328,\n",
       " 'K710': 329,\n",
       " 'N178': 330,\n",
       " 'K565': 331,\n",
       " 'C158': 332,\n",
       " 'C73': 333,\n",
       " 'D376': 334,\n",
       " 'K251': 335,\n",
       " 'I738': 336,\n",
       " 'K263': 337,\n",
       " 'C811': 338,\n",
       " 'G403': 339,\n",
       " 'E875': 340,\n",
       " 'R462': 341,\n",
       " 'C790': 342,\n",
       " 'C798': 343,\n",
       " 'I251': 344,\n",
       " 'E162': 345,\n",
       " 'I330': 346,\n",
       " 'F239': 347,\n",
       " 'T758': 348,\n",
       " 'M542': 349,\n",
       " 'F050': 350,\n",
       " 'K579': 351,\n",
       " 'L031': 352,\n",
       " 'B199': 353,\n",
       " 'A085': 354,\n",
       " 'I212': 355,\n",
       " 'M545': 356,\n",
       " 'G629': 357,\n",
       " 'N110': 358,\n",
       " 'K858': 359,\n",
       " 'N170': 360,\n",
       " 'E791': 361,\n",
       " 'K610': 362,\n",
       " 'G405': 363,\n",
       " 'M864': 364,\n",
       " 'M511': 365,\n",
       " 'R72': 366,\n",
       " 'T844': 367,\n",
       " 'E660': 368,\n",
       " 'N813': 369,\n",
       " 'B023': 370,\n",
       " 'J458': 371,\n",
       " 'F05': 372,\n",
       " 'Z988': 373,\n",
       " 'M549': 374,\n",
       " 'R34': 375,\n",
       " 'I35': 376,\n",
       " 'S72': 377,\n",
       " 'G009': 378,\n",
       " 'J188': 379,\n",
       " 'S860': 380,\n",
       " 'E86': 381,\n",
       " 'L029': 382,\n",
       " 'D487': 383,\n",
       " 'I607': 384,\n",
       " 'R570': 385,\n",
       " 'I470': 386,\n",
       " 'N350': 387,\n",
       " 'D481': 388,\n",
       " 'S065': 389,\n",
       " 'I340': 390,\n",
       " 'G952': 391,\n",
       " 'C210': 392,\n",
       " 'K769': 393,\n",
       " 'J984': 394,\n",
       " 'I829': 395,\n",
       " 'I73': 396,\n",
       " 'D759': 397,\n",
       " 'K623': 398,\n",
       " 'C408': 399,\n",
       " 'F328': 400,\n",
       " 'I67': 401,\n",
       " 'R50': 402,\n",
       " 'C257': 403,\n",
       " 'G932': 404,\n",
       " 'L038': 405,\n",
       " 'K449': 406,\n",
       " 'D570': 407,\n",
       " 'L97': 408,\n",
       " 'J12': 409,\n",
       " 'I24': 410,\n",
       " 'E148': 411,\n",
       " 'I694': 412,\n",
       " 'N309': 413,\n",
       " 'K42': 414,\n",
       " 'G958': 415,\n",
       " 'S722': 416,\n",
       " 'T814': 417,\n",
       " 'L08': 418,\n",
       " 'K51': 419,\n",
       " 'M51': 420,\n",
       " 'U049': 421,\n",
       " 'J150': 422,\n",
       " 'G049': 423,\n",
       " 'I229': 424,\n",
       " 'I61': 425,\n",
       " 'K839': 426,\n",
       " 'K350': 427,\n",
       " 'I472': 428,\n",
       " 'G058': 429,\n",
       " 'R443': 430,\n",
       " 'R739': 431,\n",
       " 'R190': 432,\n",
       " 'C951': 433,\n",
       " 'C492': 434,\n",
       " 'E118': 435,\n",
       " 'C857': 436,\n",
       " 'A403': 437,\n",
       " 'J849': 438,\n",
       " 'C675': 439,\n",
       " 'F311': 440,\n",
       " 'A490': 441,\n",
       " 'D443': 442,\n",
       " 'C184': 443,\n",
       " 'S029': 444,\n",
       " 'A049': 445,\n",
       " 'M791': 446,\n",
       " 'G992': 447,\n",
       " 'K220': 448,\n",
       " 'G959': 449,\n",
       " 'I724': 450,\n",
       " 'T827': 451,\n",
       " 'K351': 452,\n",
       " 'J128': 453,\n",
       " 'K650': 454,\n",
       " 'J80': 455,\n",
       " 'K92': 456,\n",
       " 'I618': 457,\n",
       " 'C787': 458,\n",
       " 'I832': 459,\n",
       " 'I49': 460,\n",
       " 'I95': 461,\n",
       " 'F318': 462,\n",
       " 'G918': 463,\n",
       " 'N151': 464,\n",
       " 'R634': 465,\n",
       " 'G122': 466,\n",
       " 'C227': 467,\n",
       " 'D691': 468,\n",
       " 'J851': 469,\n",
       " 'C674': 470,\n",
       " 'N483': 471,\n",
       " 'R52': 472,\n",
       " 'J399': 473,\n",
       " 'F058': 474,\n",
       " 'T149': 475,\n",
       " 'S06': 476,\n",
       " 'R32': 477,\n",
       " 'N21': 478,\n",
       " 'I259': 479,\n",
       " 'I428': 480,\n",
       " 'G61': 481,\n",
       " 'D143': 482,\n",
       " 'C920': 483,\n",
       " 'F323': 484,\n",
       " 'M862': 485,\n",
       " 'G57': 486,\n",
       " 'B34': 487,\n",
       " 'D41': 488,\n",
       " 'E835': 489,\n",
       " 'C504': 490,\n",
       " 'C929': 491,\n",
       " 'C460': 492,\n",
       " 'I74': 493,\n",
       " 'J948': 494,\n",
       " 'G20': 495,\n",
       " 'L984': 496,\n",
       " 'J019': 497,\n",
       " 'D500': 498,\n",
       " 'C782': 499,\n",
       " 'R002': 500,\n",
       " 'I351': 501,\n",
       " 'I635': 502,\n",
       " 'G400': 503,\n",
       " 'K818': 504,\n",
       " 'K578': 505,\n",
       " 'C498': 506,\n",
       " 'G822': 507,\n",
       " 'G587': 508,\n",
       " 'I313': 509,\n",
       " 'F102': 510,\n",
       " 'R02': 511,\n",
       " 'D142': 512,\n",
       " 'H814': 513,\n",
       " 'G700': 514,\n",
       " 'M321': 515,\n",
       " 'D50': 516,\n",
       " 'M86': 517,\n",
       " 'I671': 518,\n",
       " 'I248': 519,\n",
       " 'D110': 520,\n",
       " 'F314': 521,\n",
       " 'Q623': 522,\n",
       " 'E668': 523,\n",
       " 'N138': 524,\n",
       " 'J40': 525,\n",
       " 'K40': 526,\n",
       " 'L129': 527,\n",
       " 'I132': 528,\n",
       " 'H46': 529,\n",
       " 'M54': 530,\n",
       " 'N488': 531,\n",
       " 'C172': 532,\n",
       " 'J218': 533,\n",
       " 'C01': 534,\n",
       " 'D77': 535,\n",
       " 'K460': 536,\n",
       " 'S724': 537,\n",
       " 'M158': 538,\n",
       " 'M199': 539,\n",
       " 'B17': 540,\n",
       " 'I606': 541,\n",
       " 'K833': 542,\n",
       " 'I711': 543,\n",
       " 'T93': 544,\n",
       " 'J068': 545,\n",
       " 'B377': 546,\n",
       " 'E870': 547,\n",
       " 'D469': 548,\n",
       " 'I629': 549,\n",
       " 'F109': 550,\n",
       " 'I60': 551,\n",
       " 'T402': 552,\n",
       " 'K318': 553,\n",
       " 'E078': 554,\n",
       " 'F33': 555,\n",
       " 'N399': 556,\n",
       " 'N288': 557,\n",
       " 'B338': 558,\n",
       " 'R402': 559,\n",
       " 'C437': 560,\n",
       " 'T849': 561,\n",
       " 'C402': 562,\n",
       " 'N26': 563,\n",
       " 'C182': 564,\n",
       " 'I25': 565,\n",
       " 'E66': 566,\n",
       " 'R57': 567,\n",
       " 'C443': 568,\n",
       " 'D437': 569,\n",
       " 'I088': 570,\n",
       " 'C435': 571,\n",
       " 'H603': 572,\n",
       " 'C749': 573,\n",
       " 'M608': 574,\n",
       " 'C251': 575,\n",
       " 'I46': 576,\n",
       " 'S325': 577,\n",
       " 'J841': 578,\n",
       " 'J852': 579,\n",
       " 'K612': 580,\n",
       " 'J42': 581,\n",
       " 'A047': 582,\n",
       " 'R521': 583,\n",
       " 'K630': 584,\n",
       " 'C518': 585,\n",
       " 'Z208': 586,\n",
       " 'A879': 587,\n",
       " 'T810': 588,\n",
       " 'R092': 589,\n",
       " 'B022': 590,\n",
       " 'N298': 591,\n",
       " 'M139': 592,\n",
       " 'K838': 593,\n",
       " 'B348': 594,\n",
       " 'R571': 595,\n",
       " 'B309': 596,\n",
       " 'B99': 597,\n",
       " 'B029': 598,\n",
       " 'D630': 599,\n",
       " 'L024': 600,\n",
       " 'C770': 601,\n",
       " 'R41': 602,\n",
       " 'J219': 603,\n",
       " 'M009': 604,\n",
       " 'D33': 605,\n",
       " 'D410': 606,\n",
       " 'I633': 607,\n",
       " 'J342': 608,\n",
       " 'R522': 609,\n",
       " 'J980': 610,\n",
       " 'G05': 611,\n",
       " 'D151': 612,\n",
       " 'S422': 613,\n",
       " 'C911': 614,\n",
       " 'I742': 615,\n",
       " 'D696': 616,\n",
       " 'C496': 617,\n",
       " 'K573': 618,\n",
       " 'R599': 619,\n",
       " 'J931': 620,\n",
       " 'A153': 621,\n",
       " 'K52': 622,\n",
       " 'K509': 623,\n",
       " 'B004': 624,\n",
       " 'T821': 625,\n",
       " 'C161': 626,\n",
       " 'N211': 627,\n",
       " 'N02': 628,\n",
       " 'D483': 629,\n",
       " 'K570': 630,\n",
       " 'M546': 631,\n",
       " 'T782': 632,\n",
       " 'J955': 633,\n",
       " 'C714': 634,\n",
       " 'D075': 635,\n",
       " 'I748': 636,\n",
       " 'G373': 637,\n",
       " 'J96': 638,\n",
       " 'L03': 639,\n",
       " 'C413': 640,\n",
       " 'D380': 641,\n",
       " 'R040': 642,\n",
       " 'D431': 643,\n",
       " 'M329': 644,\n",
       " 'K62': 645,\n",
       " 'I060': 646,\n",
       " 'Z004': 647,\n",
       " 'K828': 648,\n",
       " 'O911': 649,\n",
       " 'N219': 650,\n",
       " 'I801': 651,\n",
       " 'L039': 652,\n",
       " 'N359': 653,\n",
       " 'S820': 654,\n",
       " 'D72': 655,\n",
       " 'F23': 656,\n",
       " 'D619': 657,\n",
       " 'C845': 658,\n",
       " 'K122': 659,\n",
       " 'C186': 660,\n",
       " 'K590': 661,\n",
       " 'K500': 662,\n",
       " 'C342': 663,\n",
       " 'T914': 664,\n",
       " 'G942': 665,\n",
       " 'R000': 666,\n",
       " 'N398': 667,\n",
       " 'G618': 668,\n",
       " 'C830': 669,\n",
       " 'C785': 670,\n",
       " 'C774': 671,\n",
       " 'C240': 672,\n",
       " 'L989': 673,\n",
       " 'Q230': 674,\n",
       " 'D721': 675,\n",
       " 'A408': 676,\n",
       " 'W180': 677,\n",
       " 'M130': 678,\n",
       " 'I610': 679,\n",
       " 'G401': 680,\n",
       " 'C320': 681,\n",
       " 'C901': 682,\n",
       " 'C165': 683,\n",
       " 'N823': 684,\n",
       " 'R430': 685,\n",
       " 'N87': 686,\n",
       " 'I802': 687,\n",
       " 'I061': 688,\n",
       " 'S525': 689,\n",
       " 'F228': 690,\n",
       " 'K768': 691,\n",
       " 'C163': 692,\n",
       " 'M621': 693,\n",
       " 'M179': 694,\n",
       " 'R64': 695,\n",
       " 'K919': 696,\n",
       " 'A412': 697,\n",
       " 'M352': 698,\n",
       " 'N482': 699,\n",
       " 'C32': 700,\n",
       " 'I420': 701,\n",
       " 'G70': 702,\n",
       " 'G448': 703,\n",
       " 'I071': 704,\n",
       " 'S068': 705,\n",
       " 'G328': 706,\n",
       " 'I720': 707,\n",
       " 'H813': 708,\n",
       " 'Z431': 709,\n",
       " 'C398': 710,\n",
       " 'M143': 711,\n",
       " 'C880': 712,\n",
       " 'N133': 713,\n",
       " 'C029': 714,\n",
       " 'S835': 715,\n",
       " 'G44': 716,\n",
       " 'I514': 717,\n",
       " 'C829': 718,\n",
       " 'K222': 719,\n",
       " 'R22': 720,\n",
       " 'C16': 721,\n",
       " 'C166': 722,\n",
       " 'C53': 723,\n",
       " 'Q670': 724,\n",
       " 'K56': 725,\n",
       " 'K70': 726,\n",
       " 'D401': 727,\n",
       " 'M313': 728,\n",
       " 'F31': 729,\n",
       " 'I620': 730,\n",
       " 'A199': 731,\n",
       " 'K739': 732,\n",
       " 'L988': 733,\n",
       " 'C676': 734,\n",
       " 'C638': 735,\n",
       " 'E117': 736,\n",
       " 'C499': 737,\n",
       " 'I731': 738,\n",
       " 'D382': 739,\n",
       " 'K261': 740,\n",
       " 'A858': 741,\n",
       " 'A279': 742,\n",
       " 'F206': 743,\n",
       " 'J985': 744,\n",
       " 'O809': 745,\n",
       " 'J988': 746,\n",
       " 'L511': 747,\n",
       " 'L023': 748,\n",
       " 'I458': 749,\n",
       " 'I15': 750,\n",
       " 'D352': 751,\n",
       " 'N412': 752,\n",
       " 'S520': 753,\n",
       " 'C164': 754,\n",
       " 'B373': 755,\n",
       " 'Z860': 756,\n",
       " 'E807': 757,\n",
       " 'N411': 758,\n",
       " 'C712': 759,\n",
       " 'A87': 760,\n",
       " 'I700': 761,\n",
       " 'T847': 762,\n",
       " 'K803': 763,\n",
       " 'O800': 764,\n",
       " 'G368': 765,\n",
       " 'C827': 766,\n",
       " 'M544': 767,\n",
       " 'B203': 768,\n",
       " 'N70': 769,\n",
       " 'S817': 770,\n",
       " 'F430': 771,\n",
       " 'J302': 772,\n",
       " 'I650': 773,\n",
       " 'C480': 774,\n",
       " 'F09': 775,\n",
       " 'N939': 776,\n",
       " 'E042': 777,\n",
       " 'C268': 778,\n",
       " 'I39': 779,\n",
       " 'A888': 780,\n",
       " 'B344': 781,\n",
       " 'I40': 782,\n",
       " 'F339': 783,\n",
       " 'B207': 784,\n",
       " 'N835': 785,\n",
       " 'C759': 786,\n",
       " 'G51': 787,\n",
       " 'T888': 788,\n",
       " 'D695': 789,\n",
       " 'K07': 790,\n",
       " 'S821': 791,\n",
       " 'K620': 792,\n",
       " 'D038': 793,\n",
       " 'C321': 794,\n",
       " 'C211': 795,\n",
       " 'M462': 796,\n",
       " 'D486': 797,\n",
       " 'S027': 798,\n",
       " 'N709': 799,\n",
       " 'I861': 800,\n",
       " 'C248': 801,\n",
       " 'D472': 802,\n",
       " 'Z450': 803,\n",
       " 'Q251': 804,\n",
       " 'T841': 805,\n",
       " 'I979': 806,\n",
       " 'K528': 807,\n",
       " 'K44': 808,\n",
       " 'M350': 809,\n",
       " 'F320': 810,\n",
       " 'N920': 811,\n",
       " 'I498': 812,\n",
       " 'D62': 813,\n",
       " 'K712': 814,\n",
       " 'K519': 815,\n",
       " 'K50': 816,\n",
       " 'C83': 817,\n",
       " 'G441': 818,\n",
       " 'E876': 819,\n",
       " 'S309': 820,\n",
       " 'R412': 821,\n",
       " 'B690': 822,\n",
       " 'D43': 823,\n",
       " 'T455': 824,\n",
       " 'E258': 825,\n",
       " 'F421': 826,\n",
       " 'J156': 827,\n",
       " 'M340': 828,\n",
       " 'T14': 829,\n",
       " 'I120': 830,\n",
       " 'I708': 831,\n",
       " 'J438': 832,\n",
       " 'A179': 833,\n",
       " 'X644': 834,\n",
       " 'S920': 835,\n",
       " 'K72': 836,\n",
       " 'D060': 837,\n",
       " 'X611': 838,\n",
       " 'K659': 839,\n",
       " 'S823': 840,\n",
       " 'D383': 841,\n",
       " 'S958': 842,\n",
       " 'S523': 843,\n",
       " 'C791': 844,\n",
       " 'Q446': 845,\n",
       " 'Z299': 846,\n",
       " 'K571': 847,\n",
       " 'N511': 848,\n",
       " 'D059': 849,\n",
       " 'C718': 850,\n",
       " 'C058': 851,\n",
       " 'M629': 852,\n",
       " 'I871': 853,\n",
       " 'I11': 854,\n",
       " 'R478': 855,\n",
       " 'H809': 856,\n",
       " 'S127': 857,\n",
       " 'C10': 858,\n",
       " 'Z950': 859,\n",
       " 'C85': 860,\n",
       " 'K820': 861,\n",
       " 'K65': 862,\n",
       " 'I615': 863,\n",
       " 'N320': 864,\n",
       " 'M543': 865,\n",
       " 'C261': 866,\n",
       " 'I456': 867,\n",
       " 'K30': 868,\n",
       " 'L12': 869,\n",
       " 'J45': 870,\n",
       " 'M332': 871,\n",
       " 'C500': 872,\n",
       " 'F69': 873,\n",
       " 'F200': 874,\n",
       " 'M255': 875,\n",
       " 'K861': 876,\n",
       " 'I110': 877,\n",
       " 'C138': 878,\n",
       " 'A698': 879,\n",
       " 'K625': 880,\n",
       " 'B956': 881,\n",
       " 'D734': 882,\n",
       " 'N48': 883,\n",
       " 'I808': 884,\n",
       " 'C449': 885,\n",
       " 'Z200': 886,\n",
       " 'D320': 887,\n",
       " 'N840': 888,\n",
       " 'I719': 889,\n",
       " 'K20': 890,\n",
       " 'N949': 891,\n",
       " 'K717': 892,\n",
       " 'I71': 893,\n",
       " 'G900': 894,\n",
       " 'C23': 895,\n",
       " 'K255': 896,\n",
       " 'S83': 897,\n",
       " 'J110': 898,\n",
       " 'T148': 899,\n",
       " 'F162': 900,\n",
       " 'A191': 901,\n",
       " 'T902': 902,\n",
       " 'G031': 903,\n",
       " 'J118': 904,\n",
       " 'R21': 905,\n",
       " 'E106': 906,\n",
       " 'K316': 907,\n",
       " 'B027': 908,\n",
       " 'F315': 909,\n",
       " 'M328': 910,\n",
       " 'G468': 911,\n",
       " 'D39': 912,\n",
       " 'G54': 913,\n",
       " 'I621': 914,\n",
       " 'H609': 915,\n",
       " 'M490': 916,\n",
       " 'F209': 917,\n",
       " 'R258': 918,\n",
       " 'D71': 919,\n",
       " 'J64': 920,\n",
       " 'N459': 921,\n",
       " 'W549': 922,\n",
       " 'S221': 923,\n",
       " 'G112': 924,\n",
       " 'N99': 925,\n",
       " 'H209': 926,\n",
       " 'C457': 927,\n",
       " 'S302': 928,\n",
       " 'G36': 929,\n",
       " 'D090': 930,\n",
       " 'C530': 931,\n",
       " 'K778': 932,\n",
       " 'R061': 933,\n",
       " 'J200': 934,\n",
       " 'D122': 935,\n",
       " 'S320': 936,\n",
       " 'F603': 937,\n",
       " 'N228': 938,\n",
       " 'I631': 939,\n",
       " 'N800': 940,\n",
       " 'D377': 941,\n",
       " 'C883': 942,\n",
       " 'A150': 943,\n",
       " 'F41': 944,\n",
       " 'D32': 945,\n",
       " 'A521': 946,\n",
       " 'J938': 947,\n",
       " 'C768': 948,\n",
       " 'H600': 949,\n",
       " 'H539': 950,\n",
       " 'F009': 951,\n",
       " 'I81': 952,\n",
       " 'L033': 953,\n",
       " 'S55': 954,\n",
       " 'S688': 955,\n",
       " 'C15': 956,\n",
       " 'D412': 957,\n",
       " 'S730': 958,\n",
       " 'C409': 959,\n",
       " 'E848': 960,\n",
       " 'M00': 961,\n",
       " 'B080': 962,\n",
       " 'C621': 963,\n",
       " 'D694': 964,\n",
       " 'C482': 965,\n",
       " 'G473': 966,\n",
       " 'N518': 967,\n",
       " 'N30': 968,\n",
       " 'R102': 969,\n",
       " 'K296': 970,\n",
       " 'E146': 971,\n",
       " 'G63': 972,\n",
       " 'M342': 973,\n",
       " 'Z508': 974,\n",
       " 'I616': 975,\n",
       " 'J111': 976,\n",
       " 'M96': 977,\n",
       " 'C741': 978,\n",
       " 'C40': 979,\n",
       " 'K701': 980,\n",
       " 'A310': 981,\n",
       " 'A483': 982,\n",
       " 'K250': 983,\n",
       " 'K461': 984,\n",
       " 'C637': 985,\n",
       " 'S822': 986,\n",
       " 'G919': 987,\n",
       " 'M500': 988,\n",
       " 'C180': 989,\n",
       " 'I603': 990,\n",
       " 'C151': 991,\n",
       " 'E10': 992,\n",
       " 'G834': 993,\n",
       " 'R470': 994,\n",
       " 'E210': 995,\n",
       " 'D683': 996,\n",
       " 'Z082': 997,\n",
       " 'R635': 998,\n",
       " 'H532': 999,\n",
       " 'F608': 1000,\n",
       " ...}"
      ]
     },
     "execution_count": 37,
     "metadata": {},
     "output_type": "execute_result"
    }
   ],
   "source": [
    "dictToReplace"
   ]
  },
  {
   "cell_type": "code",
   "execution_count": 38,
   "id": "selected-trick",
   "metadata": {},
   "outputs": [],
   "source": [
    "data['CD_CID'] = data['CD_CID'].replace(dictToReplace)"
   ]
  },
  {
   "cell_type": "markdown",
   "id": "hairy-syndication",
   "metadata": {},
   "source": [
    "#### DS_ESPECIALID_SAI"
   ]
  },
  {
   "cell_type": "code",
   "execution_count": 39,
   "id": "theoretical-electricity",
   "metadata": {},
   "outputs": [
    {
     "data": {
      "text/plain": [
       "CLINICA MEDICA                    12145\n",
       "CARDIOLOGIA                         831\n",
       "NEFROLOGIA                          805\n",
       "NEUROLOGIA                          673\n",
       "PNEUMOLOGIA                         473\n",
       "CIRURGIA GERAL                      389\n",
       "UROLOGIA                            363\n",
       "INFECTOLOGIA                        355\n",
       "ONCOLOGIA CLINICA                   346\n",
       "GASTROENTEROLOGIA                   197\n",
       "MEDICINA INTENSIVA                  172\n",
       "CIRURGIA DO APARELHO DIGESTIVO      166\n",
       "GERIATRIA                           162\n",
       "ORTOPEDIA E TRAUMATOLOGIA           159\n",
       "CIRURGIA CARDIOVASCULAR             134\n",
       "NEUROCIRURGIA                       101\n",
       "GINECOLOGIA E OBSTETRICIA            99\n",
       "CIRURGIA TORACICA                    92\n",
       "PSIQUIATRIA                          60\n",
       "MEDICINA DE EMERGENCIA               54\n",
       "HEMATOLOGIA E HEMOTERAPIA            48\n",
       "OTORRINOLARINGOLOGIA                 35\n",
       "COLOPROCTOLOGIA                      35\n",
       "CIRURGIA ONCOLOGICA                  20\n",
       "REUMATOLOGIA                         16\n",
       "CIRURGIA VASCULAR                    15\n",
       "BUCO MAXILO FACIAL                   14\n",
       "ENDOCRINOLOGIA E METABOLOGIA         11\n",
       "ENDOSCOPIA                           10\n",
       "CIRURGIA PLASTICA                     8\n",
       "MASTOLOGIA                            6\n",
       "PEDIATRIA                             4\n",
       "CIRURGIA DA MÃO                       3\n",
       "DERMATOLOGIA                          2\n",
       "RADIOTERAPIA                          2\n",
       "MEDICINA FAMILIA E COMUNIDADE         2\n",
       "MEDICINA DE TRAFEGO                   2\n",
       "MEDICINA ESPORTIVA                    1\n",
       "CIRURGIA DE CABEÇA E PESCOÇO          1\n",
       "OFTALMOLOGIA                          1\n",
       "CIRURGIA PEDIATRICA                   1\n",
       "RADIOLOGIA DIAG POR IMAGEM            1\n",
       "Name: DS_ESPECIALID_SAI, dtype: int64"
      ]
     },
     "execution_count": 39,
     "metadata": {},
     "output_type": "execute_result"
    }
   ],
   "source": [
    "data['DS_ESPECIALID_SAI'].value_counts()"
   ]
  },
  {
   "cell_type": "code",
   "execution_count": 40,
   "id": "atomic-focus",
   "metadata": {},
   "outputs": [],
   "source": [
    "keys = data['DS_ESPECIALID_SAI'].value_counts().keys().tolist()"
   ]
  },
  {
   "cell_type": "code",
   "execution_count": 41,
   "id": "pacific-electricity",
   "metadata": {},
   "outputs": [],
   "source": [
    "dictToReplace = __getDictToReplace(keys)"
   ]
  },
  {
   "cell_type": "code",
   "execution_count": 42,
   "id": "genetic-geography",
   "metadata": {},
   "outputs": [
    {
     "data": {
      "text/plain": [
       "{'CLINICA MEDICA': 1,\n",
       " 'CARDIOLOGIA': 2,\n",
       " 'NEFROLOGIA': 3,\n",
       " 'NEUROLOGIA': 4,\n",
       " 'PNEUMOLOGIA': 5,\n",
       " 'CIRURGIA GERAL': 6,\n",
       " 'UROLOGIA': 7,\n",
       " 'INFECTOLOGIA': 8,\n",
       " 'ONCOLOGIA CLINICA': 9,\n",
       " 'GASTROENTEROLOGIA': 10,\n",
       " 'MEDICINA INTENSIVA': 11,\n",
       " 'CIRURGIA DO APARELHO DIGESTIVO': 12,\n",
       " 'GERIATRIA': 13,\n",
       " 'ORTOPEDIA E TRAUMATOLOGIA': 14,\n",
       " 'CIRURGIA CARDIOVASCULAR': 15,\n",
       " 'NEUROCIRURGIA': 16,\n",
       " 'GINECOLOGIA E OBSTETRICIA': 17,\n",
       " 'CIRURGIA TORACICA': 18,\n",
       " 'PSIQUIATRIA': 19,\n",
       " 'MEDICINA DE EMERGENCIA': 20,\n",
       " 'HEMATOLOGIA E HEMOTERAPIA': 21,\n",
       " 'OTORRINOLARINGOLOGIA': 22,\n",
       " 'COLOPROCTOLOGIA': 23,\n",
       " 'CIRURGIA ONCOLOGICA': 24,\n",
       " 'REUMATOLOGIA': 25,\n",
       " 'CIRURGIA VASCULAR': 26,\n",
       " 'BUCO MAXILO FACIAL': 27,\n",
       " 'ENDOCRINOLOGIA E METABOLOGIA': 28,\n",
       " 'ENDOSCOPIA': 29,\n",
       " 'CIRURGIA PLASTICA': 30,\n",
       " 'MASTOLOGIA': 31,\n",
       " 'PEDIATRIA': 32,\n",
       " 'CIRURGIA DA MÃO': 33,\n",
       " 'DERMATOLOGIA': 34,\n",
       " 'RADIOTERAPIA': 35,\n",
       " 'MEDICINA FAMILIA E COMUNIDADE': 36,\n",
       " 'MEDICINA DE TRAFEGO': 37,\n",
       " 'MEDICINA ESPORTIVA': 38,\n",
       " 'CIRURGIA DE CABEÇA E PESCOÇO': 39,\n",
       " 'OFTALMOLOGIA': 40,\n",
       " 'CIRURGIA PEDIATRICA': 41,\n",
       " 'RADIOLOGIA DIAG POR IMAGEM': 42}"
      ]
     },
     "execution_count": 42,
     "metadata": {},
     "output_type": "execute_result"
    }
   ],
   "source": [
    "dictToReplace"
   ]
  },
  {
   "cell_type": "code",
   "execution_count": 43,
   "id": "outstanding-entrance",
   "metadata": {},
   "outputs": [],
   "source": [
    "data['DS_ESPECIALID_SAI'] = data['DS_ESPECIALID_SAI'].replace(dictToReplace)"
   ]
  },
  {
   "cell_type": "markdown",
   "id": "consistent-virgin",
   "metadata": {},
   "source": [
    "#### REINTER_30D"
   ]
  },
  {
   "cell_type": "code",
   "execution_count": 44,
   "id": "nearby-elements",
   "metadata": {},
   "outputs": [
    {
     "data": {
      "text/plain": [
       "NÃO    17408\n",
       "SIM      606\n",
       "Name: REINTER_30D, dtype: int64"
      ]
     },
     "execution_count": 44,
     "metadata": {},
     "output_type": "execute_result"
    }
   ],
   "source": [
    "data['REINTER_30D'].value_counts()"
   ]
  },
  {
   "cell_type": "code",
   "execution_count": 45,
   "id": "boolean-percentage",
   "metadata": {},
   "outputs": [],
   "source": [
    "data['REINTER_30D'] = data['REINTER_30D'].replace({'SIM': 1, 'NÃO': 0})"
   ]
  },
  {
   "cell_type": "markdown",
   "id": "stone-cannon",
   "metadata": {},
   "source": [
    "#### CARATER_ATENDIMENTO"
   ]
  },
  {
   "cell_type": "code",
   "execution_count": 46,
   "id": "affecting-vacuum",
   "metadata": {},
   "outputs": [
    {
     "data": {
      "text/plain": [
       "URGÊNCIA    16376\n",
       "ELETIVO      1638\n",
       "Name: CARATER_ATENDIMENTO, dtype: int64"
      ]
     },
     "execution_count": 46,
     "metadata": {},
     "output_type": "execute_result"
    }
   ],
   "source": [
    "data['CARATER_ATENDIMENTO'].value_counts()"
   ]
  },
  {
   "cell_type": "code",
   "execution_count": 47,
   "id": "superior-projector",
   "metadata": {},
   "outputs": [],
   "source": [
    "data['CARATER_ATENDIMENTO'] = data['CARATER_ATENDIMENTO'].replace({'URGÊNCIA': 1, 'ELETIVO': 0})"
   ]
  },
  {
   "cell_type": "markdown",
   "id": "spare-energy",
   "metadata": {},
   "source": [
    "#### EMERG_SERVICO"
   ]
  },
  {
   "cell_type": "code",
   "execution_count": 48,
   "id": "prospective-produce",
   "metadata": {},
   "outputs": [
    {
     "data": {
      "text/plain": [
       "PRONTOPUC            14241\n",
       "PRONTOSUS             2082\n",
       "NÃO INFORMADO         1639\n",
       "TRAUMATO                50\n",
       "CENTRO OBSTETRICO        2\n",
       "Name: EMERG_SERVICO, dtype: int64"
      ]
     },
     "execution_count": 48,
     "metadata": {},
     "output_type": "execute_result"
    }
   ],
   "source": [
    "data['EMERG_SERVICO'].value_counts()"
   ]
  },
  {
   "cell_type": "code",
   "execution_count": 49,
   "id": "promising-saint",
   "metadata": {},
   "outputs": [],
   "source": [
    "keys = data['EMERG_SERVICO'].value_counts().keys().tolist()"
   ]
  },
  {
   "cell_type": "code",
   "execution_count": 50,
   "id": "opposed-perspective",
   "metadata": {},
   "outputs": [],
   "source": [
    "dictToReplace = __getDictToReplace(keys)"
   ]
  },
  {
   "cell_type": "code",
   "execution_count": 51,
   "id": "pressing-antique",
   "metadata": {},
   "outputs": [
    {
     "data": {
      "text/plain": [
       "{'PRONTOPUC': 1,\n",
       " 'PRONTOSUS': 2,\n",
       " 'NÃO INFORMADO': 3,\n",
       " 'TRAUMATO': 4,\n",
       " 'CENTRO OBSTETRICO': 5}"
      ]
     },
     "execution_count": 51,
     "metadata": {},
     "output_type": "execute_result"
    }
   ],
   "source": [
    "dictToReplace"
   ]
  },
  {
   "cell_type": "code",
   "execution_count": 52,
   "id": "laden-invite",
   "metadata": {},
   "outputs": [],
   "source": [
    "data['EMERG_SERVICO'] = data['EMERG_SERVICO'].replace(dictToReplace)"
   ]
  },
  {
   "cell_type": "markdown",
   "id": "royal-socket",
   "metadata": {},
   "source": [
    "#### EMERG_RISCO"
   ]
  },
  {
   "cell_type": "code",
   "execution_count": 53,
   "id": "attached-browser",
   "metadata": {},
   "outputs": [
    {
     "data": {
      "text/plain": [
       "VERDE            9217\n",
       "AMARELO          3275\n",
       "LARANJA          2400\n",
       "NÃO INFORMADO    1674\n",
       "AZUL              792\n",
       "VERMELHO          656\n",
       "Name: EMERG_RISCO, dtype: int64"
      ]
     },
     "execution_count": 53,
     "metadata": {},
     "output_type": "execute_result"
    }
   ],
   "source": [
    "data['EMERG_RISCO'].value_counts()"
   ]
  },
  {
   "cell_type": "code",
   "execution_count": 54,
   "id": "dated-module",
   "metadata": {},
   "outputs": [],
   "source": [
    "keys = data['EMERG_RISCO'].value_counts().keys().tolist()"
   ]
  },
  {
   "cell_type": "code",
   "execution_count": 55,
   "id": "patient-coalition",
   "metadata": {},
   "outputs": [],
   "source": [
    "dictToReplace = __getDictToReplace(keys)"
   ]
  },
  {
   "cell_type": "code",
   "execution_count": 56,
   "id": "sporting-greenhouse",
   "metadata": {},
   "outputs": [
    {
     "data": {
      "text/plain": [
       "{'VERDE': 1,\n",
       " 'AMARELO': 2,\n",
       " 'LARANJA': 3,\n",
       " 'NÃO INFORMADO': 4,\n",
       " 'AZUL': 5,\n",
       " 'VERMELHO': 6}"
      ]
     },
     "execution_count": 56,
     "metadata": {},
     "output_type": "execute_result"
    }
   ],
   "source": [
    "dictToReplace"
   ]
  },
  {
   "cell_type": "code",
   "execution_count": 57,
   "id": "meaningful-manual",
   "metadata": {},
   "outputs": [],
   "source": [
    "data['EMERG_RISCO'] = data['EMERG_RISCO'].replace(dictToReplace)"
   ]
  },
  {
   "cell_type": "markdown",
   "id": "regulation-tyler",
   "metadata": {},
   "source": [
    "#### CID_DIAG_ATEND"
   ]
  },
  {
   "cell_type": "code",
   "execution_count": 58,
   "id": "vanilla-tulsa",
   "metadata": {},
   "outputs": [
    {
     "data": {
      "text/plain": [
       "B349    9386\n",
       "B342    1216\n",
       "A419     392\n",
       "R060     291\n",
       "I64      219\n",
       "        ... \n",
       "I158       1\n",
       "N858       1\n",
       "E160       1\n",
       "J152       1\n",
       "C170       1\n",
       "Name: CID_DIAG_ATEND, Length: 1246, dtype: int64"
      ]
     },
     "execution_count": 58,
     "metadata": {},
     "output_type": "execute_result"
    }
   ],
   "source": [
    "data['CID_DIAG_ATEND'].value_counts()"
   ]
  },
  {
   "cell_type": "code",
   "execution_count": 59,
   "id": "radio-lyric",
   "metadata": {},
   "outputs": [],
   "source": [
    "keys = data['CID_DIAG_ATEND'].value_counts().keys().tolist()"
   ]
  },
  {
   "cell_type": "code",
   "execution_count": 60,
   "id": "middle-klein",
   "metadata": {},
   "outputs": [],
   "source": [
    "dictToReplace = __getDictToReplace(keys)"
   ]
  },
  {
   "cell_type": "code",
   "execution_count": 61,
   "id": "caroline-ticket",
   "metadata": {},
   "outputs": [
    {
     "data": {
      "text/plain": [
       "{'B349': 1,\n",
       " 'B342': 2,\n",
       " 'A419': 3,\n",
       " 'R060': 4,\n",
       " 'I64': 5,\n",
       " 'J069': 6,\n",
       " 'K359': 7,\n",
       " 'Z290': 8,\n",
       " 'I219': 9,\n",
       " 'I200': 10,\n",
       " 'R520': 11,\n",
       " 'I500': 12,\n",
       " 'J180': 13,\n",
       " 'N180': 14,\n",
       " 'N390': 15,\n",
       " 'R51': 16,\n",
       " 'U071': 17,\n",
       " 'C61': 18,\n",
       " 'R509': 19,\n",
       " 'R100': 20,\n",
       " 'R05': 21,\n",
       " 'K810': 22,\n",
       " 'J960': 23,\n",
       " 'A418': 24,\n",
       " 'J159': 25,\n",
       " 'K922': 26,\n",
       " 'R074': 27,\n",
       " 'N40': 28,\n",
       " 'A09': 29,\n",
       " 'I743': 30,\n",
       " 'K921': 31,\n",
       " 'I509': 32,\n",
       " 'A499': 33,\n",
       " 'G409': 34,\n",
       " 'C349': 35,\n",
       " 'I639': 36,\n",
       " 'N200': 37,\n",
       " 'R579': 38,\n",
       " 'K850': 39,\n",
       " 'Z000': 40,\n",
       " 'K920': 41,\n",
       " 'I50': 42,\n",
       " 'N189': 43,\n",
       " 'N179': 44,\n",
       " 'I269': 45,\n",
       " 'C64': 46,\n",
       " 'M169': 47,\n",
       " 'C509': 48,\n",
       " 'D649': 49,\n",
       " 'I20': 50,\n",
       " 'R53': 51,\n",
       " 'J039': 52,\n",
       " 'K802': 53,\n",
       " 'K859': 54,\n",
       " 'R55': 55,\n",
       " 'J81': 56,\n",
       " 'C189': 57,\n",
       " 'G35': 58,\n",
       " 'I26': 59,\n",
       " 'R11': 60,\n",
       " 'G402': 61,\n",
       " 'K800': 62,\n",
       " 'J459': 63,\n",
       " 'I209': 64,\n",
       " 'J158': 65,\n",
       " 'D259': 66,\n",
       " 'N201': 67,\n",
       " 'I48': 68,\n",
       " 'K808': 69,\n",
       " 'G459': 70,\n",
       " 'I21': 71,\n",
       " 'C348': 72,\n",
       " 'A41': 73,\n",
       " 'R070': 74,\n",
       " 'I702': 75,\n",
       " 'C259': 76,\n",
       " 'E871': 77,\n",
       " 'J15': 78,\n",
       " 'I442': 79,\n",
       " 'J189': 80,\n",
       " 'J441': 81,\n",
       " 'C508': 82,\n",
       " 'R073': 83,\n",
       " 'K566': 84,\n",
       " 'K746': 85,\n",
       " 'J36': 86,\n",
       " 'B972': 87,\n",
       " 'F059': 88,\n",
       " 'I210': 89,\n",
       " 'E105': 90,\n",
       " 'C169': 91,\n",
       " 'J90': 92,\n",
       " 'N39': 93,\n",
       " 'R198': 94,\n",
       " 'R104': 95,\n",
       " 'I499': 96,\n",
       " 'C56': 97,\n",
       " 'J129': 98,\n",
       " 'J440': 99,\n",
       " 'C679': 100,\n",
       " 'K35': 101,\n",
       " 'I739': 102,\n",
       " 'J91': 103,\n",
       " 'J18': 104,\n",
       " 'S720': 105,\n",
       " 'C20': 106,\n",
       " 'C629': 107,\n",
       " 'E141': 108,\n",
       " 'R571': 109,\n",
       " 'K804': 110,\n",
       " 'N188': 111,\n",
       " 'I609': 112,\n",
       " 'R508': 113,\n",
       " 'R103': 114,\n",
       " 'N17': 115,\n",
       " 'I214': 116,\n",
       " 'R42': 117,\n",
       " 'J969': 118,\n",
       " 'N832': 119,\n",
       " 'J22': 120,\n",
       " 'I260': 121,\n",
       " 'Z940': 122,\n",
       " 'I612': 123,\n",
       " 'F322': 124,\n",
       " 'D381': 125,\n",
       " 'I828': 126,\n",
       " 'I749': 127,\n",
       " 'S828': 128,\n",
       " 'N18': 129,\n",
       " 'I211': 130,\n",
       " 'R31': 131,\n",
       " 'N10': 132,\n",
       " 'R568': 133,\n",
       " 'I710': 134,\n",
       " 'K564': 135,\n",
       " 'C187': 136,\n",
       " 'C900': 137,\n",
       " 'C780': 138,\n",
       " 'A415': 139,\n",
       " 'C672': 140,\n",
       " 'J449': 141,\n",
       " 'N23': 142,\n",
       " 'C220': 143,\n",
       " 'C229': 144,\n",
       " 'R101': 145,\n",
       " 'I652': 146,\n",
       " 'N20': 147,\n",
       " 'C343': 148,\n",
       " 'J00': 149,\n",
       " 'G40': 150,\n",
       " 'D430': 151,\n",
       " 'D391': 152,\n",
       " 'G45': 153,\n",
       " 'I469': 154,\n",
       " 'K80': 155,\n",
       " 'J930': 156,\n",
       " 'R578': 157,\n",
       " 'C950': 158,\n",
       " 'R071': 159,\n",
       " 'R570': 160,\n",
       " 'K830': 161,\n",
       " 'N19': 162,\n",
       " 'L089': 163,\n",
       " 'C538': 164,\n",
       " 'K37': 165,\n",
       " 'C793': 166,\n",
       " 'Z209': 167,\n",
       " 'K929': 168,\n",
       " 'G610': 169,\n",
       " 'K851': 170,\n",
       " 'R042': 171,\n",
       " 'D34': 172,\n",
       " 'G934': 173,\n",
       " 'K57': 174,\n",
       " 'F411': 175,\n",
       " 'K805': 176,\n",
       " 'G408': 177,\n",
       " 'G404': 178,\n",
       " 'C50': 179,\n",
       " 'S721': 180,\n",
       " 'K639': 181,\n",
       " 'K072': 182,\n",
       " 'E101': 183,\n",
       " 'I350': 184,\n",
       " 'I82': 185,\n",
       " 'L032': 186,\n",
       " 'N202': 187,\n",
       " 'E115': 188,\n",
       " 'K703': 189,\n",
       " 'F609': 190,\n",
       " 'R202': 191,\n",
       " 'C341': 192,\n",
       " 'D414': 193,\n",
       " 'T861': 194,\n",
       " 'S729': 195,\n",
       " 'N111': 196,\n",
       " 'E840': 197,\n",
       " 'T813': 198,\n",
       " 'C819': 199,\n",
       " 'I460': 200,\n",
       " 'N44': 201,\n",
       " 'R56': 202,\n",
       " 'K572': 203,\n",
       " 'F29': 204,\n",
       " 'K801': 205,\n",
       " 'B343': 206,\n",
       " 'C159': 207,\n",
       " 'T509': 208,\n",
       " 'D400': 209,\n",
       " 'C678': 210,\n",
       " 'F319': 211,\n",
       " 'F329': 212,\n",
       " 'R001': 213,\n",
       " 'I10': 214,\n",
       " 'J690': 215,\n",
       " 'N049': 216,\n",
       " 'N139': 217,\n",
       " 'N818': 218,\n",
       " 'K439': 219,\n",
       " 'K928': 220,\n",
       " 'N358': 221,\n",
       " 'A46': 222,\n",
       " 'C541': 223,\n",
       " 'K831': 224,\n",
       " 'C25': 225,\n",
       " 'K562': 226,\n",
       " 'R072': 227,\n",
       " 'D693': 228,\n",
       " 'F312': 229,\n",
       " 'A488': 230,\n",
       " 'C340': 231,\n",
       " 'N029': 232,\n",
       " 'C80': 233,\n",
       " 'I472': 234,\n",
       " 'I330': 235,\n",
       " 'F03': 236,\n",
       " 'C162': 237,\n",
       " 'K81': 238,\n",
       " 'C786': 239,\n",
       " 'R33': 240,\n",
       " 'K409': 241,\n",
       " 'J018': 242,\n",
       " 'I409': 243,\n",
       " 'F332': 244,\n",
       " 'N300': 245,\n",
       " 'A86': 246,\n",
       " 'C250': 247,\n",
       " 'I255': 248,\n",
       " 'C889': 249,\n",
       " 'C34': 250,\n",
       " 'R300': 251,\n",
       " 'C329': 252,\n",
       " 'I441': 253,\n",
       " 'C851': 254,\n",
       " 'C539': 255,\n",
       " 'C73': 256,\n",
       " 'D440': 257,\n",
       " 'G911': 258,\n",
       " 'C859': 259,\n",
       " 'C910': 260,\n",
       " 'N130': 261,\n",
       " 'K74': 262,\n",
       " 'C168': 263,\n",
       " 'C65': 264,\n",
       " 'R10': 265,\n",
       " 'I676': 266,\n",
       " 'R13': 267,\n",
       " 'K710': 268,\n",
       " 'C719': 269,\n",
       " 'K529': 270,\n",
       " 'L030': 271,\n",
       " 'J939': 272,\n",
       " 'I738': 273,\n",
       " 'I471': 274,\n",
       " 'C158': 275,\n",
       " 'K750': 276,\n",
       " 'C671': 277,\n",
       " 'K319': 278,\n",
       " 'D729': 279,\n",
       " 'I713': 280,\n",
       " 'C260': 281,\n",
       " 'I744': 282,\n",
       " 'K550': 283,\n",
       " 'D509': 284,\n",
       " 'F316': 285,\n",
       " 'N178': 286,\n",
       " 'R601': 287,\n",
       " 'C760': 288,\n",
       " 'R17': 289,\n",
       " 'K36': 290,\n",
       " 'K251': 291,\n",
       " 'R410': 292,\n",
       " 'F051': 293,\n",
       " 'C188': 294,\n",
       " 'K263': 295,\n",
       " 'K638': 296,\n",
       " 'G379': 297,\n",
       " 'I339': 298,\n",
       " 'N209': 299,\n",
       " 'C670': 300,\n",
       " 'K869': 301,\n",
       " 'R092': 302,\n",
       " 'C19': 303,\n",
       " 'K469': 304,\n",
       " 'J80': 305,\n",
       " 'C67': 306,\n",
       " 'F920': 307,\n",
       " 'I714': 308,\n",
       " 'K402': 309,\n",
       " 'C257': 310,\n",
       " 'C18': 311,\n",
       " 'J09': 312,\n",
       " 'G628': 313,\n",
       " 'K729': 314,\n",
       " 'I822': 315,\n",
       " 'N92': 316,\n",
       " 'I44': 317,\n",
       " 'G454': 318,\n",
       " 'G403': 319,\n",
       " 'M869': 320,\n",
       " 'E145': 321,\n",
       " 'D758': 322,\n",
       " 'R529': 323,\n",
       " 'R418': 324,\n",
       " 'J128': 325,\n",
       " 'C439': 326,\n",
       " 'G458': 327,\n",
       " 'B24': 328,\n",
       " 'E108': 329,\n",
       " 'D638': 330,\n",
       " 'T784': 331,\n",
       " 'K51': 332,\n",
       " 'N350': 333,\n",
       " 'K579': 334,\n",
       " 'K839': 335,\n",
       " 'K220': 336,\n",
       " 'R18': 337,\n",
       " 'A490': 338,\n",
       " 'F328': 339,\n",
       " 'A049': 340,\n",
       " 'C408': 341,\n",
       " 'K403': 342,\n",
       " 'D443': 343,\n",
       " 'C951': 344,\n",
       " 'I694': 345,\n",
       " 'K350': 346,\n",
       " 'E118': 347,\n",
       " 'C787': 348,\n",
       " 'R739': 349,\n",
       " 'S723': 350,\n",
       " 'S72': 351,\n",
       " 'B377': 352,\n",
       " 'I213': 353,\n",
       " 'R190': 354,\n",
       " 'T814': 355,\n",
       " 'C328': 356,\n",
       " 'S065': 357,\n",
       " 'G049': 358,\n",
       " 'S860': 359,\n",
       " 'C845': 360,\n",
       " 'B199': 361,\n",
       " 'C179': 362,\n",
       " 'B99': 363,\n",
       " 'G405': 364,\n",
       " 'D487': 365,\n",
       " 'C184': 366,\n",
       " 'B023': 367,\n",
       " 'D481': 368,\n",
       " 'F050': 369,\n",
       " 'D570': 370,\n",
       " 'I829': 371,\n",
       " 'C210': 372,\n",
       " 'C492': 373,\n",
       " 'R72': 374,\n",
       " 'I49': 375,\n",
       " 'G931': 376,\n",
       " 'S029': 377,\n",
       " 'E162': 378,\n",
       " 'R443': 379,\n",
       " 'M51': 380,\n",
       " 'K565': 381,\n",
       " 'I67': 382,\n",
       " 'K92': 383,\n",
       " 'J188': 384,\n",
       " 'D376': 385,\n",
       " 'M545': 386,\n",
       " 'C675': 387,\n",
       " 'L029': 388,\n",
       " 'F05': 389,\n",
       " 'M864': 390,\n",
       " 'G932': 391,\n",
       " 'M549': 392,\n",
       " 'J841': 393,\n",
       " 'K351': 394,\n",
       " 'L038': 395,\n",
       " 'K449': 396,\n",
       " 'I959': 397,\n",
       " 'I24': 398,\n",
       " 'G952': 399,\n",
       " 'B340': 400,\n",
       " 'F311': 401,\n",
       " 'C790': 402,\n",
       " 'E660': 403,\n",
       " 'N813': 404,\n",
       " 'E875': 405,\n",
       " 'M511': 406,\n",
       " 'N170': 407,\n",
       " 'N132': 408,\n",
       " 'K610': 409,\n",
       " 'D759': 410,\n",
       " 'C959': 411,\n",
       " 'N110': 412,\n",
       " 'I212': 413,\n",
       " 'K769': 414,\n",
       " 'G958': 415,\n",
       " 'L031': 416,\n",
       " 'M542': 417,\n",
       " 'G058': 418,\n",
       " 'L97': 419,\n",
       " 'F239': 420,\n",
       " 'R462': 421,\n",
       " 'N309': 422,\n",
       " 'D483': 423,\n",
       " 'I251': 424,\n",
       " 'G009': 425,\n",
       " 'K650': 426,\n",
       " 'I35': 427,\n",
       " 'G992': 428,\n",
       " 'T844': 429,\n",
       " 'I229': 430,\n",
       " 'M791': 431,\n",
       " 'E791': 432,\n",
       " 'A085': 433,\n",
       " 'K42': 434,\n",
       " 'B028': 435,\n",
       " 'I724': 436,\n",
       " 'J458': 437,\n",
       " 'E668': 438,\n",
       " 'J019': 439,\n",
       " 'C929': 440,\n",
       " 'C182': 441,\n",
       " 'K40': 442,\n",
       " 'G700': 443,\n",
       " 'D437': 444,\n",
       " 'Z988': 445,\n",
       " 'A49': 446,\n",
       " 'T149': 447,\n",
       " 'D619': 448,\n",
       " 'D691': 449,\n",
       " 'M321': 450,\n",
       " 'C172': 451,\n",
       " 'I801': 452,\n",
       " 'H603': 453,\n",
       " 'M54': 454,\n",
       " 'B338': 455,\n",
       " 'R040': 456,\n",
       " 'C435': 457,\n",
       " 'K122': 458,\n",
       " 'C186': 459,\n",
       " 'T849': 460,\n",
       " 'D469': 461,\n",
       " 'C920': 462,\n",
       " 'I635': 463,\n",
       " 'M199': 464,\n",
       " 'N138': 465,\n",
       " 'G587': 466,\n",
       " 'N483': 467,\n",
       " 'I671': 468,\n",
       " 'G618': 469,\n",
       " 'G822': 470,\n",
       " 'G373': 471,\n",
       " 'J399': 472,\n",
       " 'C227': 473,\n",
       " 'K818': 474,\n",
       " 'X649': 475,\n",
       " 'S722': 476,\n",
       " 'C504': 477,\n",
       " 'E66': 478,\n",
       " 'C443': 479,\n",
       " 'K720': 480,\n",
       " 'I461': 481,\n",
       " 'R32': 482,\n",
       " 'M796': 483,\n",
       " 'D110': 484,\n",
       " 'E835': 485,\n",
       " 'G20': 486,\n",
       " 'I259': 487,\n",
       " 'H814': 488,\n",
       " 'I95': 489,\n",
       " 'M608': 490,\n",
       " 'D50': 491,\n",
       " 'K559': 492,\n",
       " 'R002': 493,\n",
       " 'I711': 494,\n",
       " 'D500': 495,\n",
       " 'C795': 496,\n",
       " 'H46': 497,\n",
       " 'I832': 498,\n",
       " 'G61': 499,\n",
       " 'F323': 500,\n",
       " 'I629': 501,\n",
       " 'A150': 502,\n",
       " 'L984': 503,\n",
       " 'F314': 504,\n",
       " 'D41': 505,\n",
       " 'F33': 506,\n",
       " 'S06': 507,\n",
       " 'C499': 508,\n",
       " 'E078': 509,\n",
       " 'C402': 510,\n",
       " 'T402': 511,\n",
       " 'T827': 512,\n",
       " 'I428': 513,\n",
       " 'B399': 514,\n",
       " 'J948': 515,\n",
       " 'S325': 516,\n",
       " 'R402': 517,\n",
       " 'R52': 518,\n",
       " 'U049': 519,\n",
       " 'G629': 520,\n",
       " 'M158': 521,\n",
       " 'K630': 522,\n",
       " 'J218': 523,\n",
       " 'R521': 524,\n",
       " 'Z208': 525,\n",
       " 'B022': 526,\n",
       " 'N488': 527,\n",
       " 'B309': 528,\n",
       " 'D630': 529,\n",
       " 'J852': 530,\n",
       " 'R41': 531,\n",
       " 'J219': 532,\n",
       " 'D410': 533,\n",
       " 'G122': 534,\n",
       " 'G942': 535,\n",
       " 'C674': 536,\n",
       " 'J851': 537,\n",
       " 'J150': 538,\n",
       " 'S724': 539,\n",
       " 'F102': 540,\n",
       " 'N21': 541,\n",
       " 'F318': 542,\n",
       " 'K833': 543,\n",
       " 'L129': 544,\n",
       " 'B029': 545,\n",
       " 'K578': 546,\n",
       " 'D151': 547,\n",
       " 'C857': 548,\n",
       " 'D696': 549,\n",
       " 'K573': 550,\n",
       " 'M139': 551,\n",
       " 'Q623': 552,\n",
       " 'N02': 553,\n",
       " 'R522': 554,\n",
       " 'C221': 555,\n",
       " 'G959': 556,\n",
       " 'C714': 557,\n",
       " 'K460': 558,\n",
       " 'G918': 559,\n",
       " 'I132': 560,\n",
       " 'D142': 561,\n",
       " 'M329': 562,\n",
       " 'K623': 563,\n",
       " 'K500': 564,\n",
       " 'C342': 565,\n",
       " 'K828': 566,\n",
       " 'D72': 567,\n",
       " 'F23': 568,\n",
       " 'L03': 569,\n",
       " 'G51': 570,\n",
       " 'N398': 571,\n",
       " 'T758': 572,\n",
       " 'S422': 573,\n",
       " 'L024': 574,\n",
       " 'A153': 575,\n",
       " 'C166': 576,\n",
       " 'T810': 577,\n",
       " 'K52': 578,\n",
       " 'K509': 579,\n",
       " 'J342': 580,\n",
       " 'C240': 581,\n",
       " 'C749': 582,\n",
       " 'T93': 583,\n",
       " 'K590': 584,\n",
       " 'N151': 585,\n",
       " 'C785': 586,\n",
       " 'N211': 587,\n",
       " 'T821': 588,\n",
       " 'C830': 589,\n",
       " 'N359': 590,\n",
       " 'D431': 591,\n",
       " 'R02': 592,\n",
       " 'I742': 593,\n",
       " 'J931': 594,\n",
       " 'R000': 595,\n",
       " 'R599': 596,\n",
       " 'K858': 597,\n",
       " 'C251': 598,\n",
       " 'N288': 599,\n",
       " 'C811': 600,\n",
       " 'J980': 601,\n",
       " 'J955': 602,\n",
       " 'G400': 603,\n",
       " 'K62': 604,\n",
       " 'I73': 605,\n",
       " 'S820': 606,\n",
       " 'M862': 607,\n",
       " 'D143': 608,\n",
       " 'C161': 609,\n",
       " 'C770': 610,\n",
       " 'A403': 611,\n",
       " 'I501': 612,\n",
       " 'R34': 613,\n",
       " 'O911': 614,\n",
       " 'J984': 615,\n",
       " 'D075': 616,\n",
       " 'Z004': 617,\n",
       " 'N399': 618,\n",
       " 'E148': 619,\n",
       " 'I351': 620,\n",
       " 'B004': 621,\n",
       " 'C798': 622,\n",
       " 'K318': 623,\n",
       " 'G05': 624,\n",
       " 'I633': 625,\n",
       " 'K838': 626,\n",
       " 'G57': 627,\n",
       " 'I60': 628,\n",
       " 'K612': 629,\n",
       " 'F109': 630,\n",
       " 'A047': 631,\n",
       " 'N298': 632,\n",
       " 'L039': 633,\n",
       " 'B17': 634,\n",
       " 'A879': 635,\n",
       " 'C437': 636,\n",
       " 'I470': 637,\n",
       " 'R50': 638,\n",
       " 'C782': 639,\n",
       " 'N26': 640,\n",
       " 'I313': 641,\n",
       " 'L08': 642,\n",
       " 'D33': 643,\n",
       " 'C774': 644,\n",
       " 'C413': 645,\n",
       " 'L989': 646,\n",
       " 'N219': 647,\n",
       " 'T782': 648,\n",
       " 'D380': 649,\n",
       " 'T914': 650,\n",
       " 'R609': 651,\n",
       " 'K574': 652,\n",
       " 'C791': 653,\n",
       " 'F108': 654,\n",
       " 'I25': 655,\n",
       " 'X958': 656,\n",
       " 'R412': 657,\n",
       " 'K228': 658,\n",
       " 'I74': 659,\n",
       " 'D486': 660,\n",
       " 'I608': 661,\n",
       " 'K824': 662,\n",
       " 'D43': 663,\n",
       " 'K44': 664,\n",
       " 'N320': 665,\n",
       " 'S523': 666,\n",
       " 'N920': 667,\n",
       " 'A154': 668,\n",
       " 'I498': 669,\n",
       " 'D62': 670,\n",
       " 'I601': 671,\n",
       " 'K659': 672,\n",
       " 'K712': 673,\n",
       " 'R961': 674,\n",
       " 'K219': 675,\n",
       " 'I607': 676,\n",
       " 'T888': 677,\n",
       " 'N47': 678,\n",
       " 'C718': 679,\n",
       " 'C673': 680,\n",
       " 'K571': 681,\n",
       " 'H700': 682,\n",
       " 'D060': 683,\n",
       " 'G910': 684,\n",
       " 'N511': 685,\n",
       " 'C85': 686,\n",
       " 'I670': 687,\n",
       " 'M629': 688,\n",
       " 'T14': 689,\n",
       " 'F000': 690,\n",
       " 'E116': 691,\n",
       " 'C10': 692,\n",
       " 'C609': 693,\n",
       " 'C498': 694,\n",
       " 'B007': 695,\n",
       " 'C218': 696,\n",
       " 'R478': 697,\n",
       " 'G443': 698,\n",
       " 'I771': 699,\n",
       " 'I050': 700,\n",
       " 'I861': 701,\n",
       " 'J93': 702,\n",
       " 'K620': 703,\n",
       " 'E872': 704,\n",
       " 'K740': 705,\n",
       " 'E071': 706,\n",
       " 'C321': 707,\n",
       " 'G72': 708,\n",
       " 'M462': 709,\n",
       " 'S920': 710,\n",
       " 'F421': 711,\n",
       " 'R634': 712,\n",
       " 'Q251': 713,\n",
       " 'A480': 714,\n",
       " 'E258': 715,\n",
       " 'X644': 716,\n",
       " 'J438': 717,\n",
       " 'D688': 718,\n",
       " 'I30': 719,\n",
       " 'D134': 720,\n",
       " 'I650': 721,\n",
       " 'W549': 722,\n",
       " 'I228': 723,\n",
       " 'M143': 724,\n",
       " 'J985': 725,\n",
       " 'C398': 726,\n",
       " 'H813': 727,\n",
       " 'I720': 728,\n",
       " 'L511': 729,\n",
       " 'I458': 730,\n",
       " 'J849': 731,\n",
       " 'C71': 732,\n",
       " 'R64': 733,\n",
       " 'A412': 734,\n",
       " 'N482': 735,\n",
       " 'D352': 736,\n",
       " 'N412': 737,\n",
       " 'I420': 738,\n",
       " 'C069': 739,\n",
       " 'C164': 740,\n",
       " 'M960': 741,\n",
       " 'L932': 742,\n",
       " 'G328': 743,\n",
       " 'J302': 744,\n",
       " 'L023': 745,\n",
       " 'C252': 746,\n",
       " 'B34': 747,\n",
       " 'K528': 748,\n",
       " 'N840': 749,\n",
       " 'I719': 750,\n",
       " 'N133': 751,\n",
       " 'A858': 752,\n",
       " 'I71': 753,\n",
       " 'E117': 754,\n",
       " 'C480': 755,\n",
       " 'S817': 756,\n",
       " 'B203': 757,\n",
       " 'C827': 758,\n",
       " 'K56': 759,\n",
       " 'N939': 760,\n",
       " 'K803': 761,\n",
       " 'T847': 762,\n",
       " 'E042': 763,\n",
       " 'C712': 764,\n",
       " 'D401': 765,\n",
       " 'K222': 766,\n",
       " 'A408': 767,\n",
       " 'F339': 768,\n",
       " 'N835': 769,\n",
       " 'I061': 770,\n",
       " 'Q230': 771,\n",
       " 'C165': 772,\n",
       " 'M313': 773,\n",
       " 'S525': 774,\n",
       " 'N823': 775,\n",
       " 'I620': 776,\n",
       " 'K819': 777,\n",
       " 'K913': 778,\n",
       " 'R470': 779,\n",
       " 'L988': 780,\n",
       " 'C638': 781,\n",
       " 'C676': 782,\n",
       " 'I352': 783,\n",
       " 'W789': 784,\n",
       " 'C883': 785,\n",
       " 'I516': 786,\n",
       " 'D122': 787,\n",
       " 'I248': 788,\n",
       " 'C249': 789,\n",
       " 'F603': 790,\n",
       " 'N228': 791,\n",
       " 'F41': 792,\n",
       " 'N800': 793,\n",
       " 'D32': 794,\n",
       " 'M86': 795,\n",
       " 'K580': 796,\n",
       " 'I606': 797,\n",
       " 'B027': 798,\n",
       " 'T925': 799,\n",
       " 'M328': 800,\n",
       " 'G468': 801,\n",
       " 'G54': 802,\n",
       " 'S061': 803,\n",
       " 'G44': 804,\n",
       " 'E106': 805,\n",
       " 'M32': 806,\n",
       " 'M490': 807,\n",
       " 'G438': 808,\n",
       " 'F209': 809,\n",
       " 'R258': 810,\n",
       " 'C384': 811,\n",
       " 'J029': 812,\n",
       " 'K778': 813,\n",
       " 'C530': 814,\n",
       " 'Z860': 815,\n",
       " 'G36': 816,\n",
       " 'I40': 817,\n",
       " 'B344': 818,\n",
       " 'I618': 819,\n",
       " 'J110': 820,\n",
       " 'D320': 821,\n",
       " 'I808': 822,\n",
       " 'I61': 823,\n",
       " 'N411': 824,\n",
       " 'M544': 825,\n",
       " 'O800': 826,\n",
       " 'J068': 827,\n",
       " 'F200': 828,\n",
       " 'R430': 829,\n",
       " 'R960': 830,\n",
       " 'M255': 831,\n",
       " 'I110': 832,\n",
       " 'C138': 833,\n",
       " 'A698': 834,\n",
       " 'B956': 835,\n",
       " 'C83': 836,\n",
       " 'J118': 837,\n",
       " 'Q670': 838,\n",
       " 'H609': 839,\n",
       " 'J40': 840,\n",
       " 'C457': 841,\n",
       " 'K919': 842,\n",
       " 'S302': 843,\n",
       " 'K071': 844,\n",
       " 'B439': 845,\n",
       " 'C148': 846,\n",
       " 'C710': 847,\n",
       " 'B182': 848,\n",
       " 'B394': 849,\n",
       " 'L309': 850,\n",
       " 'N489': 851,\n",
       " 'I029': 852,\n",
       " 'M738': 853,\n",
       " 'C01': 854,\n",
       " 'T84': 855,\n",
       " 'C450': 856,\n",
       " 'I490': 857,\n",
       " 'G81': 858,\n",
       " 'I741': 859,\n",
       " 'G93': 860,\n",
       " 'N814': 861,\n",
       " 'X441': 862,\n",
       " 'M219': 863,\n",
       " 'B178': 864,\n",
       " 'C773': 865,\n",
       " 'F132': 866,\n",
       " 'N13': 867,\n",
       " 'J679': 868,\n",
       " 'H445': 869,\n",
       " 'B41': 870,\n",
       " 'K30': 871,\n",
       " 'I600': 872,\n",
       " 'C163': 873,\n",
       " 'F31': 874,\n",
       " 'A199': 875,\n",
       " 'A279': 876,\n",
       " 'O809': 877,\n",
       " 'I15': 878,\n",
       " 'S520': 879,\n",
       " 'F228': 880,\n",
       " 'J988': 881,\n",
       " 'F206': 882,\n",
       " 'I731': 883,\n",
       " 'I39': 884,\n",
       " 'C268': 885,\n",
       " 'K70': 886,\n",
       " 'C320': 887,\n",
       " 'C901': 888,\n",
       " 'D721': 889,\n",
       " 'G401': 890,\n",
       " 'I610': 891,\n",
       " 'M130': 892,\n",
       " 'I850': 893,\n",
       " 'Z431': 894,\n",
       " 'I258': 895,\n",
       " 'S423': 896,\n",
       " 'D648': 897,\n",
       " 'C160': 898,\n",
       " 'C729': 899,\n",
       " 'I309': 900,\n",
       " 'M844': 901,\n",
       " 'N879': 902,\n",
       " 'S827': 903,\n",
       " 'C07': 904,\n",
       " 'C90': 905,\n",
       " 'Q21': 906,\n",
       " 'I208': 907,\n",
       " 'N165': 908,\n",
       " 'S334': 909,\n",
       " 'C600': 910,\n",
       " 'C112': 911,\n",
       " 'F313': 912,\n",
       " 'I693': 913,\n",
       " 'M662': 914,\n",
       " 'N739': 915,\n",
       " 'C183': 916,\n",
       " 'T174': 917,\n",
       " 'F608': 918,\n",
       " 'H532': 919,\n",
       " 'I619': 920,\n",
       " 'K518': 921,\n",
       " 'G039': 922,\n",
       " 'I495': 923,\n",
       " 'M841': 924,\n",
       " 'T07': 925,\n",
       " 'C620': 926,\n",
       " 'J303': 927,\n",
       " 'Z008': 928,\n",
       " 'Z515': 929,\n",
       " 'N816': 930,\n",
       " 'G440': 931,\n",
       " 'C519': 932,\n",
       " 'X611': 933,\n",
       " 'G439': 934,\n",
       " 'A689': 935,\n",
       " 'K633': 936,\n",
       " 'N811': 937,\n",
       " 'K431': 938,\n",
       " 'G729': 939,\n",
       " 'S220': 940,\n",
       " 'K420': 941,\n",
       " 'D464': 942,\n",
       " 'T819': 943,\n",
       " 'E107': 944,\n",
       " 'B348': 945,\n",
       " 'B373': 946,\n",
       " 'E807': 947,\n",
       " 'K07': 948,\n",
       " 'M009': 949,\n",
       " 'I611': 950,\n",
       " 'E86': 951,\n",
       " 'T841': 952,\n",
       " 'I979': 953,\n",
       " 'T455': 954,\n",
       " 'B690': 955,\n",
       " 'S309': 956,\n",
       " 'G441': 957,\n",
       " 'K50': 958,\n",
       " 'J698': 959,\n",
       " 'K519': 960,\n",
       " 'M350': 961,\n",
       " 'M543': 962,\n",
       " 'C261': 963,\n",
       " 'R21': 964,\n",
       " 'N459': 965,\n",
       " 'J64': 966,\n",
       " 'N838': 967,\n",
       " 'C767': 968,\n",
       " 'I621': 969,\n",
       " 'D695': 970,\n",
       " 'S821': 971,\n",
       " 'F315': 972,\n",
       " 'D038': 973,\n",
       " 'D383': 974,\n",
       " 'S823': 975,\n",
       " 'C438': 976,\n",
       " 'A179': 977,\n",
       " 'I120': 978,\n",
       " 'Q446': 979,\n",
       " 'Z299': 980,\n",
       " 'I340': 981,\n",
       " 'I615': 982,\n",
       " 'K65': 983,\n",
       " 'K820': 984,\n",
       " 'Z950': 985,\n",
       " 'S127': 986,\n",
       " 'H809': 987,\n",
       " 'I11': 988,\n",
       " 'I871': 989,\n",
       " 'Z450': 990,\n",
       " 'C248': 991,\n",
       " 'N709': 992,\n",
       " 'S027': 993,\n",
       " 'C211': 994,\n",
       " 'D39': 995,\n",
       " 'K316': 996,\n",
       " 'F09': 997,\n",
       " 'C911': 998,\n",
       " 'N949': 999,\n",
       " 'K20': 1000,\n",
       " ...}"
      ]
     },
     "execution_count": 61,
     "metadata": {},
     "output_type": "execute_result"
    }
   ],
   "source": [
    "dictToReplace"
   ]
  },
  {
   "cell_type": "code",
   "execution_count": 62,
   "id": "owned-terror",
   "metadata": {},
   "outputs": [],
   "source": [
    "data['CID_DIAG_ATEND'] = data['CID_DIAG_ATEND'].replace(dictToReplace)"
   ]
  },
  {
   "cell_type": "markdown",
   "id": "engaged-battlefield",
   "metadata": {},
   "source": [
    "#### CID_CAPITULO_DIAG"
   ]
  },
  {
   "cell_type": "code",
   "execution_count": 63,
   "id": "compound-letters",
   "metadata": {},
   "outputs": [
    {
     "data": {
      "text/plain": [
       "Infecciosas e parasitárias                                                 11301\n",
       "Aparelho circulatório                                                       1286\n",
       "Sintomas, sinais e achados anormais de exames clínicos e de laboratório     1134\n",
       "Neoplasias (tumores)                                                         879\n",
       "Aparelho digestivo                                                           836\n",
       "Aparelho respiratório                                                        724\n",
       "Aparelho geniturinário                                                       589\n",
       "Sistema nervoso                                                              279\n",
       "Fatores que influenciam o estado de saúde                                    213\n",
       "Lesões, envenenamento e algumas outras conseqüências de causas externas      157\n",
       "Transtornos mentais e comportamentais                                        137\n",
       "Endócrinas, nutricionais e metabólicas                                       123\n",
       "Sistema osteomuscular e do tecido conjuntivo                                 105\n",
       "Sangue e órgãos hematopoéticos e transtornos imunitários                      79\n",
       "Códigos para propósitos especiais                                             75\n",
       "Pele e do tecido subcutâneo                                                   52\n",
       "Causas externas de morbidade e de mortalidade                                 14\n",
       "Malformações congênitas, deformidades e anomalias cromossômicas               10\n",
       "Ouvido e da apófise mastóide                                                   9\n",
       "Olho e anexos                                                                  6\n",
       "Gravidez, parto e puerpério                                                    4\n",
       "Sem Informação                                                                 2\n",
       "Name: CID_CAPITULO_DIAG, dtype: int64"
      ]
     },
     "execution_count": 63,
     "metadata": {},
     "output_type": "execute_result"
    }
   ],
   "source": [
    "data['CID_CAPITULO_DIAG'].value_counts()"
   ]
  },
  {
   "cell_type": "code",
   "execution_count": 64,
   "id": "activated-sally",
   "metadata": {},
   "outputs": [],
   "source": [
    "keys = data['CID_CAPITULO_DIAG'].value_counts().keys().tolist()"
   ]
  },
  {
   "cell_type": "code",
   "execution_count": 65,
   "id": "worldwide-costa",
   "metadata": {},
   "outputs": [],
   "source": [
    "dictToReplace = __getDictToReplace(keys)"
   ]
  },
  {
   "cell_type": "code",
   "execution_count": 66,
   "id": "dangerous-sociology",
   "metadata": {},
   "outputs": [
    {
     "data": {
      "text/plain": [
       "{'Infecciosas e parasitárias': 1,\n",
       " 'Aparelho circulatório': 2,\n",
       " 'Sintomas, sinais e achados anormais de exames clínicos e de laboratório': 3,\n",
       " 'Neoplasias (tumores)': 4,\n",
       " 'Aparelho digestivo': 5,\n",
       " 'Aparelho respiratório': 6,\n",
       " 'Aparelho geniturinário': 7,\n",
       " 'Sistema nervoso': 8,\n",
       " 'Fatores que influenciam o estado de saúde': 9,\n",
       " 'Lesões, envenenamento e algumas outras conseqüências de causas externas': 10,\n",
       " 'Transtornos mentais e comportamentais': 11,\n",
       " 'Endócrinas, nutricionais e metabólicas': 12,\n",
       " 'Sistema osteomuscular e do tecido conjuntivo': 13,\n",
       " 'Sangue e órgãos hematopoéticos e transtornos imunitários': 14,\n",
       " 'Códigos para propósitos especiais': 15,\n",
       " 'Pele e do tecido subcutâneo': 16,\n",
       " 'Causas externas de morbidade e de mortalidade': 17,\n",
       " 'Malformações congênitas, deformidades e anomalias cromossômicas': 18,\n",
       " 'Ouvido e da apófise mastóide': 19,\n",
       " 'Olho e anexos': 20,\n",
       " 'Gravidez, parto e puerpério': 21,\n",
       " 'Sem Informação': 22}"
      ]
     },
     "execution_count": 66,
     "metadata": {},
     "output_type": "execute_result"
    }
   ],
   "source": [
    "dictToReplace"
   ]
  },
  {
   "cell_type": "code",
   "execution_count": 67,
   "id": "regulation-worry",
   "metadata": {},
   "outputs": [],
   "source": [
    "data['CID_CAPITULO_DIAG'] = data['CID_CAPITULO_DIAG'].replace(dictToReplace)"
   ]
  },
  {
   "cell_type": "markdown",
   "id": "stretch-catholic",
   "metadata": {},
   "source": [
    "#### BLOCO_CENTRAL_ST"
   ]
  },
  {
   "cell_type": "code",
   "execution_count": 68,
   "id": "young-collapse",
   "metadata": {},
   "outputs": [
    {
     "data": {
      "text/plain": [
       "NÃO    15881\n",
       "SIM     2133\n",
       "Name: BLOCO_CENTRAL_ST, dtype: int64"
      ]
     },
     "execution_count": 68,
     "metadata": {},
     "output_type": "execute_result"
    }
   ],
   "source": [
    "data['BLOCO_CENTRAL_ST'].value_counts()"
   ]
  },
  {
   "cell_type": "code",
   "execution_count": 69,
   "id": "agreed-tactics",
   "metadata": {},
   "outputs": [],
   "source": [
    "data['BLOCO_CENTRAL_ST'] = data['BLOCO_CENTRAL_ST'].replace({'SIM': 1, 'NÃO': 0})"
   ]
  },
  {
   "cell_type": "markdown",
   "id": "special-semester",
   "metadata": {},
   "source": [
    "#### HEMODINAMICA_ST"
   ]
  },
  {
   "cell_type": "code",
   "execution_count": 70,
   "id": "portuguese-gentleman",
   "metadata": {},
   "outputs": [
    {
     "data": {
      "text/plain": [
       "NÃO    17355\n",
       "SIM      659\n",
       "Name: HEMODINAMICA_ST, dtype: int64"
      ]
     },
     "execution_count": 70,
     "metadata": {},
     "output_type": "execute_result"
    }
   ],
   "source": [
    "data['HEMODINAMICA_ST'].value_counts()"
   ]
  },
  {
   "cell_type": "code",
   "execution_count": 71,
   "id": "expanded-japanese",
   "metadata": {},
   "outputs": [],
   "source": [
    "data['HEMODINAMICA_ST'] = data['HEMODINAMICA_ST'].replace({'SIM': 1, 'NÃO': 0})"
   ]
  },
  {
   "cell_type": "markdown",
   "id": "uniform-approval",
   "metadata": {},
   "source": [
    "#### EX_LAB_ST"
   ]
  },
  {
   "cell_type": "code",
   "execution_count": 72,
   "id": "english-threat",
   "metadata": {},
   "outputs": [
    {
     "data": {
      "text/plain": [
       "SIM    17905\n",
       "NÃO      109\n",
       "Name: EX_LAB_ST, dtype: int64"
      ]
     },
     "execution_count": 72,
     "metadata": {},
     "output_type": "execute_result"
    }
   ],
   "source": [
    "data['EX_LAB_ST'].value_counts()"
   ]
  },
  {
   "cell_type": "code",
   "execution_count": 73,
   "id": "serial-yesterday",
   "metadata": {},
   "outputs": [],
   "source": [
    "data['EX_LAB_ST'] = data['EX_LAB_ST'].replace({'SIM': 1, 'NÃO': 0})"
   ]
  },
  {
   "cell_type": "markdown",
   "id": "expired-douglas",
   "metadata": {},
   "source": [
    "#### EX_IMG_ST"
   ]
  },
  {
   "cell_type": "code",
   "execution_count": 74,
   "id": "alert-underwear",
   "metadata": {},
   "outputs": [
    {
     "data": {
      "text/plain": [
       "NÃO    10837\n",
       "SIM     7177\n",
       "Name: EX_IMG_ST, dtype: int64"
      ]
     },
     "execution_count": 74,
     "metadata": {},
     "output_type": "execute_result"
    }
   ],
   "source": [
    "data['EX_IMG_ST'].value_counts()"
   ]
  },
  {
   "cell_type": "code",
   "execution_count": 75,
   "id": "temporal-postcard",
   "metadata": {},
   "outputs": [],
   "source": [
    "data['EX_IMG_ST'] = data['EX_IMG_ST'].replace({'SIM': 1, 'NÃO': 0})"
   ]
  },
  {
   "cell_type": "markdown",
   "id": "sound-hampshire",
   "metadata": {},
   "source": [
    "#### EX_OUTROS_ST"
   ]
  },
  {
   "cell_type": "code",
   "execution_count": 76,
   "id": "african-intent",
   "metadata": {},
   "outputs": [
    {
     "data": {
      "text/plain": [
       "NÃO    15660\n",
       "SIM     2354\n",
       "Name: EX_OUTROS_ST, dtype: int64"
      ]
     },
     "execution_count": 76,
     "metadata": {},
     "output_type": "execute_result"
    }
   ],
   "source": [
    "data['EX_OUTROS_ST'].value_counts()"
   ]
  },
  {
   "cell_type": "code",
   "execution_count": 77,
   "id": "relevant-collins",
   "metadata": {},
   "outputs": [],
   "source": [
    "data['EX_OUTROS_ST'] = data['EX_OUTROS_ST'].replace({'SIM': 1, 'NÃO': 0})"
   ]
  },
  {
   "cell_type": "markdown",
   "id": "smaller-dodge",
   "metadata": {},
   "source": [
    "#### TIPO_REGISTRO"
   ]
  },
  {
   "cell_type": "code",
   "execution_count": 78,
   "id": "weighted-lottery",
   "metadata": {},
   "outputs": [],
   "source": [
    "data['TIPO_REGISTRO'] = data['TIPO_REGISTRO'].fillna('NI')"
   ]
  },
  {
   "cell_type": "code",
   "execution_count": 79,
   "id": "acceptable-affiliate",
   "metadata": {},
   "outputs": [
    {
     "data": {
      "text/plain": [
       "A     17834\n",
       "M       154\n",
       "NI       26\n",
       "Name: TIPO_REGISTRO, dtype: int64"
      ]
     },
     "execution_count": 79,
     "metadata": {},
     "output_type": "execute_result"
    }
   ],
   "source": [
    "data['TIPO_REGISTRO'].value_counts()"
   ]
  },
  {
   "cell_type": "code",
   "execution_count": 80,
   "id": "spoken-electric",
   "metadata": {},
   "outputs": [],
   "source": [
    "data['TIPO_REGISTRO'] = data['TIPO_REGISTRO'].replace({'A': 1, 'M': 0, 'NI': 2})"
   ]
  },
  {
   "cell_type": "markdown",
   "id": "posted-assurance",
   "metadata": {},
   "source": [
    "#### [REMOVED] SN_IFI_OV_SINCICIAL_RESP"
   ]
  },
  {
   "cell_type": "code",
   "execution_count": 81,
   "id": "dutch-wisconsin",
   "metadata": {},
   "outputs": [
    {
     "data": {
      "text/plain": [
       "N    17988\n",
       "Name: SN_IFI_OV_SINCICIAL_RESP, dtype: int64"
      ]
     },
     "execution_count": 81,
     "metadata": {},
     "output_type": "execute_result"
    }
   ],
   "source": [
    "data['SN_IFI_OV_SINCICIAL_RESP'].value_counts() #DROP"
   ]
  },
  {
   "cell_type": "code",
   "execution_count": 82,
   "id": "frank-recipient",
   "metadata": {},
   "outputs": [],
   "source": [
    "data = data.drop(['SN_IFI_OV_SINCICIAL_RESP'], axis=1)"
   ]
  },
  {
   "cell_type": "markdown",
   "id": "outer-signal",
   "metadata": {},
   "source": [
    "#### [REMOVED] SN_IFI_OV_PARAINFLU3"
   ]
  },
  {
   "cell_type": "code",
   "execution_count": 83,
   "id": "passing-plaintiff",
   "metadata": {},
   "outputs": [
    {
     "data": {
      "text/plain": [
       "N    17988\n",
       "Name: SN_IFI_OV_PARAINFLU3, dtype: int64"
      ]
     },
     "execution_count": 83,
     "metadata": {},
     "output_type": "execute_result"
    }
   ],
   "source": [
    "data['SN_IFI_OV_PARAINFLU3'].value_counts() #DROP"
   ]
  },
  {
   "cell_type": "code",
   "execution_count": 84,
   "id": "fabulous-tribune",
   "metadata": {},
   "outputs": [],
   "source": [
    "data = data.drop(['SN_IFI_OV_PARAINFLU3'], axis=1)"
   ]
  },
  {
   "cell_type": "markdown",
   "id": "eastern-personal",
   "metadata": {},
   "source": [
    "#### [REMOVED] SN_IFI_OV_PARAINFLU2"
   ]
  },
  {
   "cell_type": "code",
   "execution_count": 85,
   "id": "medical-canadian",
   "metadata": {},
   "outputs": [
    {
     "data": {
      "text/plain": [
       "N    17988\n",
       "Name: SN_IFI_OV_PARAINFLU2, dtype: int64"
      ]
     },
     "execution_count": 85,
     "metadata": {},
     "output_type": "execute_result"
    }
   ],
   "source": [
    "data['SN_IFI_OV_PARAINFLU2'].value_counts() #DROP"
   ]
  },
  {
   "cell_type": "code",
   "execution_count": 86,
   "id": "controlling-nigeria",
   "metadata": {},
   "outputs": [],
   "source": [
    "data = data.drop(['SN_IFI_OV_PARAINFLU2'], axis=1)"
   ]
  },
  {
   "cell_type": "markdown",
   "id": "finished-draft",
   "metadata": {},
   "source": [
    "#### [REMOVED] SN_IFI_OV_PARAINFLU1"
   ]
  },
  {
   "cell_type": "code",
   "execution_count": 87,
   "id": "popular-bowling",
   "metadata": {},
   "outputs": [
    {
     "data": {
      "text/plain": [
       "N    17988\n",
       "Name: SN_IFI_OV_PARAINFLU1, dtype: int64"
      ]
     },
     "execution_count": 87,
     "metadata": {},
     "output_type": "execute_result"
    }
   ],
   "source": [
    "data['SN_IFI_OV_PARAINFLU1'].value_counts() #DROP"
   ]
  },
  {
   "cell_type": "code",
   "execution_count": 88,
   "id": "martial-compound",
   "metadata": {},
   "outputs": [],
   "source": [
    "data = data.drop(['SN_IFI_OV_PARAINFLU1'], axis=1)"
   ]
  },
  {
   "cell_type": "markdown",
   "id": "derived-carry",
   "metadata": {},
   "source": [
    "#### [REMOVED] SN_IFI_OV_INFLUA"
   ]
  },
  {
   "cell_type": "code",
   "execution_count": 89,
   "id": "crazy-suicide",
   "metadata": {},
   "outputs": [
    {
     "data": {
      "text/plain": [
       "N    17988\n",
       "Name: SN_IFI_OV_INFLUA, dtype: int64"
      ]
     },
     "execution_count": 89,
     "metadata": {},
     "output_type": "execute_result"
    }
   ],
   "source": [
    "data['SN_IFI_OV_INFLUA'].value_counts() #DROP"
   ]
  },
  {
   "cell_type": "code",
   "execution_count": 90,
   "id": "developed-fourth",
   "metadata": {},
   "outputs": [],
   "source": [
    "data = data.drop(['SN_IFI_OV_INFLUA'], axis=1)"
   ]
  },
  {
   "cell_type": "markdown",
   "id": "martial-valuable",
   "metadata": {},
   "source": [
    "#### [REMOVED] SN_IFI_OV_INFLUB"
   ]
  },
  {
   "cell_type": "code",
   "execution_count": 91,
   "id": "cordless-province",
   "metadata": {},
   "outputs": [
    {
     "data": {
      "text/plain": [
       "N    17988\n",
       "Name: SN_IFI_OV_INFLUB, dtype: int64"
      ]
     },
     "execution_count": 91,
     "metadata": {},
     "output_type": "execute_result"
    }
   ],
   "source": [
    "data['SN_IFI_OV_INFLUB'].value_counts() #DROP"
   ]
  },
  {
   "cell_type": "code",
   "execution_count": 92,
   "id": "banned-williams",
   "metadata": {},
   "outputs": [],
   "source": [
    "data = data.drop(['SN_IFI_OV_INFLUB'], axis=1)"
   ]
  },
  {
   "cell_type": "markdown",
   "id": "stuck-bearing",
   "metadata": {},
   "source": [
    "#### [REMOVED] SN_IFI_OV_ADENOVIRUS"
   ]
  },
  {
   "cell_type": "code",
   "execution_count": 93,
   "id": "underlying-notification",
   "metadata": {},
   "outputs": [
    {
     "data": {
      "text/plain": [
       "N    17988\n",
       "Name: SN_IFI_OV_ADENOVIRUS, dtype: int64"
      ]
     },
     "execution_count": 93,
     "metadata": {},
     "output_type": "execute_result"
    }
   ],
   "source": [
    "data['SN_IFI_OV_ADENOVIRUS'].value_counts() #DROP"
   ]
  },
  {
   "cell_type": "code",
   "execution_count": 94,
   "id": "accompanied-malaysia",
   "metadata": {},
   "outputs": [],
   "source": [
    "data = data.drop(['SN_IFI_OV_ADENOVIRUS'], axis=1)"
   ]
  },
  {
   "cell_type": "markdown",
   "id": "acoustic-graduate",
   "metadata": {},
   "source": [
    "#### SN_CRIT_CONTATO_CASO_COVID"
   ]
  },
  {
   "cell_type": "code",
   "execution_count": 95,
   "id": "bored-formation",
   "metadata": {},
   "outputs": [],
   "source": [
    "data['SN_CRIT_CONTATO_CASO_COVID'] = data['SN_CRIT_CONTATO_CASO_COVID'].fillna('NI')"
   ]
  },
  {
   "cell_type": "code",
   "execution_count": 96,
   "id": "relative-event",
   "metadata": {},
   "outputs": [
    {
     "data": {
      "text/plain": [
       "N     17979\n",
       "NI       26\n",
       "S         9\n",
       "Name: SN_CRIT_CONTATO_CASO_COVID, dtype: int64"
      ]
     },
     "execution_count": 96,
     "metadata": {},
     "output_type": "execute_result"
    }
   ],
   "source": [
    "data['SN_CRIT_CONTATO_CASO_COVID'].value_counts() "
   ]
  },
  {
   "cell_type": "code",
   "execution_count": 97,
   "id": "answering-miami",
   "metadata": {},
   "outputs": [],
   "source": [
    "data['SN_CRIT_CONTATO_CASO_COVID'] = data['SN_CRIT_CONTATO_CASO_COVID'].replace({'S': 1, 'N': 0, 'NI': 2})"
   ]
  },
  {
   "cell_type": "markdown",
   "id": "alien-wyoming",
   "metadata": {},
   "source": [
    "#### SN_CRIT_SRAG"
   ]
  },
  {
   "cell_type": "code",
   "execution_count": 98,
   "id": "incredible-invitation",
   "metadata": {},
   "outputs": [],
   "source": [
    "data['SN_CRIT_SRAG'] = data['SN_CRIT_SRAG'].fillna('NI')"
   ]
  },
  {
   "cell_type": "code",
   "execution_count": 99,
   "id": "organic-substance",
   "metadata": {},
   "outputs": [
    {
     "data": {
      "text/plain": [
       "N     17895\n",
       "S        93\n",
       "NI       26\n",
       "Name: SN_CRIT_SRAG, dtype: int64"
      ]
     },
     "execution_count": 99,
     "metadata": {},
     "output_type": "execute_result"
    }
   ],
   "source": [
    "data['SN_CRIT_SRAG'].value_counts()"
   ]
  },
  {
   "cell_type": "code",
   "execution_count": 100,
   "id": "worse-cuisine",
   "metadata": {},
   "outputs": [],
   "source": [
    "data['SN_CRIT_SRAG'] = data['SN_CRIT_SRAG'].replace({'S': 1, 'N': 0, 'NI': 2})"
   ]
  },
  {
   "cell_type": "markdown",
   "id": "dominant-temple",
   "metadata": {},
   "source": [
    "#### SN_CRIT_SINDROME_GRIPAL"
   ]
  },
  {
   "cell_type": "code",
   "execution_count": 101,
   "id": "saved-mortgage",
   "metadata": {},
   "outputs": [],
   "source": [
    "data['SN_CRIT_SINDROME_GRIPAL'] = data['SN_CRIT_SINDROME_GRIPAL'].fillna('NI')"
   ]
  },
  {
   "cell_type": "code",
   "execution_count": 102,
   "id": "romantic-conducting",
   "metadata": {},
   "outputs": [
    {
     "data": {
      "text/plain": [
       "N     17986\n",
       "NI       26\n",
       "S         2\n",
       "Name: SN_CRIT_SINDROME_GRIPAL, dtype: int64"
      ]
     },
     "execution_count": 102,
     "metadata": {},
     "output_type": "execute_result"
    }
   ],
   "source": [
    "data['SN_CRIT_SINDROME_GRIPAL'].value_counts()"
   ]
  },
  {
   "cell_type": "code",
   "execution_count": 103,
   "id": "chicken-provision",
   "metadata": {},
   "outputs": [],
   "source": [
    "data['SN_CRIT_SINDROME_GRIPAL'] = data['SN_CRIT_SINDROME_GRIPAL'].replace({'S': 1, 'N': 0, 'NI': 2})"
   ]
  },
  {
   "cell_type": "markdown",
   "id": "abstract-bracelet",
   "metadata": {},
   "source": [
    "#### SN_CRIT_OUTROS"
   ]
  },
  {
   "cell_type": "code",
   "execution_count": 104,
   "id": "instrumental-breach",
   "metadata": {},
   "outputs": [
    {
     "data": {
      "text/plain": [
       "N    17965\n",
       "S       23\n",
       "Name: SN_CRIT_OUTROS, dtype: int64"
      ]
     },
     "execution_count": 104,
     "metadata": {},
     "output_type": "execute_result"
    }
   ],
   "source": [
    "# Verificar\n",
    "data['SN_CRIT_OUTROS'].value_counts() #DROP"
   ]
  },
  {
   "cell_type": "code",
   "execution_count": 105,
   "id": "architectural-community",
   "metadata": {},
   "outputs": [],
   "source": [
    "data = data.drop(['SN_CRIT_OUTROS'], axis=1)"
   ]
  },
  {
   "cell_type": "markdown",
   "id": "accessible-horse",
   "metadata": {},
   "source": [
    "#### ESTUDO_TP_EXPOSICAO"
   ]
  },
  {
   "cell_type": "code",
   "execution_count": 106,
   "id": "fallen-allocation",
   "metadata": {},
   "outputs": [],
   "source": [
    "data['ESTUDO_TP_EXPOSICAO'] = data['ESTUDO_TP_EXPOSICAO'].fillna('NI')"
   ]
  },
  {
   "cell_type": "code",
   "execution_count": 107,
   "id": "reserved-specification",
   "metadata": {},
   "outputs": [
    {
     "data": {
      "text/plain": [
       "NI                                                       14929\n",
       "PROFISSIONAL DE SAUDE - HSL                               1351\n",
       "PROFISSIONAL DE SAÚDE - HSL                                906\n",
       "DESCONHECIDO                                               401\n",
       "HOSPITALAR HSL                                             282\n",
       "CONTATO COM SUSPEITO CONFIRMADO                            110\n",
       "PROFISSIONAL DE SAUDE                                       13\n",
       "INSTITUICAO DE LONGA PERMANENCIA                            10\n",
       "VIAGEM                                                       5\n",
       "HOSITALAR OU INSTITUICAO DE SAUDE                            5\n",
       "HOSITALAR OU INSTITUICAO DE SAUDE - OUTRA INSTITUICAO        2\n",
       "Name: ESTUDO_TP_EXPOSICAO, dtype: int64"
      ]
     },
     "execution_count": 107,
     "metadata": {},
     "output_type": "execute_result"
    }
   ],
   "source": [
    "data['ESTUDO_TP_EXPOSICAO'].value_counts()"
   ]
  },
  {
   "cell_type": "code",
   "execution_count": 108,
   "id": "numeric-clearance",
   "metadata": {},
   "outputs": [],
   "source": [
    "keys = data['ESTUDO_TP_EXPOSICAO'].value_counts().keys().tolist()"
   ]
  },
  {
   "cell_type": "code",
   "execution_count": 109,
   "id": "latter-arbitration",
   "metadata": {},
   "outputs": [],
   "source": [
    "dictToReplace = __getDictToReplace(keys)"
   ]
  },
  {
   "cell_type": "code",
   "execution_count": 110,
   "id": "dying-civilization",
   "metadata": {},
   "outputs": [
    {
     "data": {
      "text/plain": [
       "{'NI': 1,\n",
       " 'PROFISSIONAL DE SAUDE - HSL': 2,\n",
       " 'PROFISSIONAL DE SAÚDE - HSL': 3,\n",
       " 'DESCONHECIDO': 4,\n",
       " 'HOSPITALAR HSL': 5,\n",
       " 'CONTATO COM SUSPEITO CONFIRMADO': 6,\n",
       " 'PROFISSIONAL DE SAUDE': 7,\n",
       " 'INSTITUICAO DE LONGA PERMANENCIA': 8,\n",
       " 'VIAGEM': 9,\n",
       " 'HOSITALAR OU INSTITUICAO DE SAUDE': 10,\n",
       " 'HOSITALAR OU INSTITUICAO DE SAUDE - OUTRA INSTITUICAO': 11}"
      ]
     },
     "execution_count": 110,
     "metadata": {},
     "output_type": "execute_result"
    }
   ],
   "source": [
    "dictToReplace"
   ]
  },
  {
   "cell_type": "code",
   "execution_count": 111,
   "id": "reported-offense",
   "metadata": {},
   "outputs": [],
   "source": [
    "data['ESTUDO_TP_EXPOSICAO'] = data['ESTUDO_TP_EXPOSICAO'].replace(dictToReplace)"
   ]
  },
  {
   "cell_type": "markdown",
   "id": "executive-strike",
   "metadata": {},
   "source": [
    "#### ESTUDO_COMORB_PREV_HAS"
   ]
  },
  {
   "cell_type": "code",
   "execution_count": 112,
   "id": "wound-usage",
   "metadata": {},
   "outputs": [],
   "source": [
    "data['ESTUDO_COMORB_PREV_HAS'] = data['ESTUDO_COMORB_PREV_HAS'].fillna('NI')"
   ]
  },
  {
   "cell_type": "code",
   "execution_count": 113,
   "id": "cross-frequency",
   "metadata": {},
   "outputs": [
    {
     "data": {
      "text/plain": [
       "N     17800\n",
       "S       188\n",
       "NI       26\n",
       "Name: ESTUDO_COMORB_PREV_HAS, dtype: int64"
      ]
     },
     "execution_count": 113,
     "metadata": {},
     "output_type": "execute_result"
    }
   ],
   "source": [
    "data['ESTUDO_COMORB_PREV_HAS'].value_counts()"
   ]
  },
  {
   "cell_type": "code",
   "execution_count": 114,
   "id": "social-dakota",
   "metadata": {},
   "outputs": [],
   "source": [
    "data['ESTUDO_COMORB_PREV_HAS'] = data['ESTUDO_COMORB_PREV_HAS'].replace({'S': 1, 'N': 0, 'NI': 2})"
   ]
  },
  {
   "cell_type": "markdown",
   "id": "moderate-church",
   "metadata": {},
   "source": [
    "#### ESTUDO_COMORB_PREV_IAM"
   ]
  },
  {
   "cell_type": "code",
   "execution_count": 115,
   "id": "broad-correspondence",
   "metadata": {},
   "outputs": [],
   "source": [
    "data['ESTUDO_COMORB_PREV_IAM'] = data['ESTUDO_COMORB_PREV_IAM'].fillna('NI')"
   ]
  },
  {
   "cell_type": "code",
   "execution_count": 116,
   "id": "distant-chance",
   "metadata": {},
   "outputs": [
    {
     "data": {
      "text/plain": [
       "N     17961\n",
       "S        27\n",
       "NI       26\n",
       "Name: ESTUDO_COMORB_PREV_IAM, dtype: int64"
      ]
     },
     "execution_count": 116,
     "metadata": {},
     "output_type": "execute_result"
    }
   ],
   "source": [
    "data['ESTUDO_COMORB_PREV_IAM'].value_counts()"
   ]
  },
  {
   "cell_type": "code",
   "execution_count": 117,
   "id": "altered-portrait",
   "metadata": {},
   "outputs": [],
   "source": [
    "data['ESTUDO_COMORB_PREV_IAM'] = data['ESTUDO_COMORB_PREV_IAM'].replace({'S': 1, 'N': 0, 'NI': 2})"
   ]
  },
  {
   "cell_type": "markdown",
   "id": "focal-dutch",
   "metadata": {},
   "source": [
    "#### ESTUDO_COMORB_PREV_IC"
   ]
  },
  {
   "cell_type": "code",
   "execution_count": 118,
   "id": "lightweight-encoding",
   "metadata": {},
   "outputs": [],
   "source": [
    "data['ESTUDO_COMORB_PREV_IC'] = data['ESTUDO_COMORB_PREV_IC'].fillna('NI')"
   ]
  },
  {
   "cell_type": "code",
   "execution_count": 119,
   "id": "artificial-television",
   "metadata": {},
   "outputs": [
    {
     "data": {
      "text/plain": [
       "N     17964\n",
       "NI       26\n",
       "S        24\n",
       "Name: ESTUDO_COMORB_PREV_IC, dtype: int64"
      ]
     },
     "execution_count": 119,
     "metadata": {},
     "output_type": "execute_result"
    }
   ],
   "source": [
    "data['ESTUDO_COMORB_PREV_IC'].value_counts()"
   ]
  },
  {
   "cell_type": "code",
   "execution_count": 120,
   "id": "numerous-fisher",
   "metadata": {},
   "outputs": [],
   "source": [
    "data['ESTUDO_COMORB_PREV_IC'] = data['ESTUDO_COMORB_PREV_IC'].replace({'S': 1, 'N': 0, 'NI': 2})"
   ]
  },
  {
   "cell_type": "markdown",
   "id": "sophisticated-raising",
   "metadata": {},
   "source": [
    "#### ESTUDO_COMORB_PREV_DRC"
   ]
  },
  {
   "cell_type": "code",
   "execution_count": 121,
   "id": "broken-floor",
   "metadata": {},
   "outputs": [],
   "source": [
    "data['ESTUDO_COMORB_PREV_DRC'] = data['ESTUDO_COMORB_PREV_DRC'].fillna('NI')"
   ]
  },
  {
   "cell_type": "code",
   "execution_count": 122,
   "id": "existing-tolerance",
   "metadata": {},
   "outputs": [
    {
     "data": {
      "text/plain": [
       "N     17938\n",
       "S        50\n",
       "NI       26\n",
       "Name: ESTUDO_COMORB_PREV_DRC, dtype: int64"
      ]
     },
     "execution_count": 122,
     "metadata": {},
     "output_type": "execute_result"
    }
   ],
   "source": [
    "data['ESTUDO_COMORB_PREV_DRC'].value_counts()"
   ]
  },
  {
   "cell_type": "code",
   "execution_count": 123,
   "id": "rising-microwave",
   "metadata": {},
   "outputs": [],
   "source": [
    "data['ESTUDO_COMORB_PREV_DRC'] = data['ESTUDO_COMORB_PREV_DRC'].replace({'S': 1, 'N': 0, 'NI': 2})"
   ]
  },
  {
   "cell_type": "markdown",
   "id": "sixth-yellow",
   "metadata": {},
   "source": [
    "#### ESTUDO_COMORB_PREV_DMI"
   ]
  },
  {
   "cell_type": "code",
   "execution_count": 124,
   "id": "former-paper",
   "metadata": {},
   "outputs": [
    {
     "data": {
      "text/plain": [
       "N    17988\n",
       "Name: ESTUDO_COMORB_PREV_DMI, dtype: int64"
      ]
     },
     "execution_count": 124,
     "metadata": {},
     "output_type": "execute_result"
    }
   ],
   "source": [
    "data['ESTUDO_COMORB_PREV_DMI'].value_counts() #DROP"
   ]
  },
  {
   "cell_type": "code",
   "execution_count": 125,
   "id": "advance-copyright",
   "metadata": {},
   "outputs": [],
   "source": [
    "data = data.drop(['ESTUDO_COMORB_PREV_DMI'], axis=1)"
   ]
  },
  {
   "cell_type": "markdown",
   "id": "selective-device",
   "metadata": {},
   "source": [
    "#### ESTUDO_COMORB_PREV_DMII"
   ]
  },
  {
   "cell_type": "code",
   "execution_count": 126,
   "id": "serious-climb",
   "metadata": {},
   "outputs": [],
   "source": [
    "data['ESTUDO_COMORB_PREV_DMII'] = data['ESTUDO_COMORB_PREV_DMII'].fillna('NI')"
   ]
  },
  {
   "cell_type": "code",
   "execution_count": 127,
   "id": "constitutional-wrapping",
   "metadata": {},
   "outputs": [
    {
     "data": {
      "text/plain": [
       "N     17896\n",
       "S        92\n",
       "NI       26\n",
       "Name: ESTUDO_COMORB_PREV_DMII, dtype: int64"
      ]
     },
     "execution_count": 127,
     "metadata": {},
     "output_type": "execute_result"
    }
   ],
   "source": [
    "data['ESTUDO_COMORB_PREV_DMII'].value_counts()"
   ]
  },
  {
   "cell_type": "code",
   "execution_count": 128,
   "id": "contrary-coral",
   "metadata": {},
   "outputs": [],
   "source": [
    "data['ESTUDO_COMORB_PREV_DMII'] = data['ESTUDO_COMORB_PREV_DMII'].replace({'S': 1, 'N': 0, 'NI': 2})"
   ]
  },
  {
   "cell_type": "markdown",
   "id": "bound-bundle",
   "metadata": {},
   "source": [
    "#### ESTUDO_COMORB_PREV_CARCINOMA"
   ]
  },
  {
   "cell_type": "code",
   "execution_count": 129,
   "id": "remarkable-fleet",
   "metadata": {},
   "outputs": [],
   "source": [
    "data['ESTUDO_COMORB_PREV_CARCINOMA'] = data['ESTUDO_COMORB_PREV_CARCINOMA'].fillna('NI')"
   ]
  },
  {
   "cell_type": "code",
   "execution_count": 130,
   "id": "earlier-greek",
   "metadata": {},
   "outputs": [
    {
     "data": {
      "text/plain": [
       "N     17947\n",
       "S        41\n",
       "NI       26\n",
       "Name: ESTUDO_COMORB_PREV_CARCINOMA, dtype: int64"
      ]
     },
     "execution_count": 130,
     "metadata": {},
     "output_type": "execute_result"
    }
   ],
   "source": [
    "data['ESTUDO_COMORB_PREV_CARCINOMA'].value_counts()"
   ]
  },
  {
   "cell_type": "code",
   "execution_count": 131,
   "id": "elder-genesis",
   "metadata": {},
   "outputs": [],
   "source": [
    "data['ESTUDO_COMORB_PREV_CARCINOMA'] = data['ESTUDO_COMORB_PREV_CARCINOMA'].replace({'S': 1, 'N': 0, 'NI': 2})"
   ]
  },
  {
   "cell_type": "markdown",
   "id": "radical-judgment",
   "metadata": {},
   "source": [
    "#### ESTUDO_COMORB_PREV_ADENOMA"
   ]
  },
  {
   "cell_type": "code",
   "execution_count": 132,
   "id": "complicated-delhi",
   "metadata": {},
   "outputs": [
    {
     "data": {
      "text/plain": [
       "N    17987\n",
       "S        1\n",
       "Name: ESTUDO_COMORB_PREV_ADENOMA, dtype: int64"
      ]
     },
     "execution_count": 132,
     "metadata": {},
     "output_type": "execute_result"
    }
   ],
   "source": [
    "data['ESTUDO_COMORB_PREV_ADENOMA'].value_counts() #DROP"
   ]
  },
  {
   "cell_type": "code",
   "execution_count": 133,
   "id": "unavailable-choir",
   "metadata": {},
   "outputs": [],
   "source": [
    "data = data.drop(['ESTUDO_COMORB_PREV_ADENOMA'], axis=1)"
   ]
  },
  {
   "cell_type": "markdown",
   "id": "personal-biology",
   "metadata": {},
   "source": [
    "#### ESTUDO_COMORB_PREV_LINFOMA"
   ]
  },
  {
   "cell_type": "code",
   "execution_count": 134,
   "id": "executed-bidder",
   "metadata": {},
   "outputs": [
    {
     "data": {
      "text/plain": [
       "N    17988\n",
       "Name: ESTUDO_COMORB_PREV_LINFOMA, dtype: int64"
      ]
     },
     "execution_count": 134,
     "metadata": {},
     "output_type": "execute_result"
    }
   ],
   "source": [
    "data['ESTUDO_COMORB_PREV_LINFOMA'].value_counts() #DROP"
   ]
  },
  {
   "cell_type": "code",
   "execution_count": 135,
   "id": "aware-industry",
   "metadata": {},
   "outputs": [],
   "source": [
    "data = data.drop(['ESTUDO_COMORB_PREV_LINFOMA'], axis=1)"
   ]
  },
  {
   "cell_type": "markdown",
   "id": "impaired-disclosure",
   "metadata": {},
   "source": [
    "#### ESTUDO_COMORB_PREV_AVC"
   ]
  },
  {
   "cell_type": "code",
   "execution_count": 136,
   "id": "thermal-farming",
   "metadata": {},
   "outputs": [],
   "source": [
    "data['ESTUDO_COMORB_PREV_AVC'] = data['ESTUDO_COMORB_PREV_AVC'].fillna('NI')"
   ]
  },
  {
   "cell_type": "code",
   "execution_count": 137,
   "id": "addressed-contributor",
   "metadata": {},
   "outputs": [
    {
     "data": {
      "text/plain": [
       "N     17976\n",
       "NI       26\n",
       "S        12\n",
       "Name: ESTUDO_COMORB_PREV_AVC, dtype: int64"
      ]
     },
     "execution_count": 137,
     "metadata": {},
     "output_type": "execute_result"
    }
   ],
   "source": [
    "data['ESTUDO_COMORB_PREV_AVC'].value_counts()"
   ]
  },
  {
   "cell_type": "code",
   "execution_count": 138,
   "id": "appreciated-championship",
   "metadata": {},
   "outputs": [],
   "source": [
    "data['ESTUDO_COMORB_PREV_AVC'] = data['ESTUDO_COMORB_PREV_AVC'].replace({'S': 1, 'N': 0, 'NI': 2})"
   ]
  },
  {
   "cell_type": "markdown",
   "id": "vertical-narrative",
   "metadata": {},
   "source": [
    "#### ESTUDO_COMORB_PREV_ASMA"
   ]
  },
  {
   "cell_type": "code",
   "execution_count": 139,
   "id": "regular-douglas",
   "metadata": {},
   "outputs": [],
   "source": [
    "data['ESTUDO_COMORB_PREV_ASMA'] = data['ESTUDO_COMORB_PREV_ASMA'].fillna('NI')"
   ]
  },
  {
   "cell_type": "code",
   "execution_count": 140,
   "id": "oriental-cholesterol",
   "metadata": {},
   "outputs": [
    {
     "data": {
      "text/plain": [
       "N     17950\n",
       "S        38\n",
       "NI       26\n",
       "Name: ESTUDO_COMORB_PREV_ASMA, dtype: int64"
      ]
     },
     "execution_count": 140,
     "metadata": {},
     "output_type": "execute_result"
    }
   ],
   "source": [
    "data['ESTUDO_COMORB_PREV_ASMA'].value_counts()"
   ]
  },
  {
   "cell_type": "code",
   "execution_count": 141,
   "id": "closing-leather",
   "metadata": {},
   "outputs": [],
   "source": [
    "data['ESTUDO_COMORB_PREV_ASMA'] = data['ESTUDO_COMORB_PREV_ASMA'].replace({'S': 1, 'N': 0, 'NI': 2})"
   ]
  },
  {
   "cell_type": "markdown",
   "id": "copyrighted-pharmacology",
   "metadata": {},
   "source": [
    "#### ESTUDO_COMORB_PREV_DPOC"
   ]
  },
  {
   "cell_type": "code",
   "execution_count": 142,
   "id": "needed-semester",
   "metadata": {},
   "outputs": [],
   "source": [
    "data['ESTUDO_COMORB_PREV_DPOC'] = data['ESTUDO_COMORB_PREV_DPOC'].fillna('NI')"
   ]
  },
  {
   "cell_type": "code",
   "execution_count": 143,
   "id": "retired-tokyo",
   "metadata": {},
   "outputs": [
    {
     "data": {
      "text/plain": [
       "N     17964\n",
       "NI       26\n",
       "S        24\n",
       "Name: ESTUDO_COMORB_PREV_DPOC, dtype: int64"
      ]
     },
     "execution_count": 143,
     "metadata": {},
     "output_type": "execute_result"
    }
   ],
   "source": [
    "data['ESTUDO_COMORB_PREV_DPOC'].value_counts()"
   ]
  },
  {
   "cell_type": "code",
   "execution_count": 144,
   "id": "backed-hudson",
   "metadata": {},
   "outputs": [],
   "source": [
    "data['ESTUDO_COMORB_PREV_DPOC'] = data['ESTUDO_COMORB_PREV_DPOC'].replace({'S': 1, 'N': 0, 'NI': 2})"
   ]
  },
  {
   "cell_type": "markdown",
   "id": "single-watch",
   "metadata": {},
   "source": [
    "#### ESTUDO_COMORB_PREV_OBESIDADE"
   ]
  },
  {
   "cell_type": "code",
   "execution_count": 145,
   "id": "incomplete-biology",
   "metadata": {},
   "outputs": [],
   "source": [
    "data['ESTUDO_COMORB_PREV_OBESIDADE'] = data['ESTUDO_COMORB_PREV_OBESIDADE'].fillna('NI')"
   ]
  },
  {
   "cell_type": "code",
   "execution_count": 146,
   "id": "political-wedding",
   "metadata": {},
   "outputs": [
    {
     "data": {
      "text/plain": [
       "N     17962\n",
       "NI       26\n",
       "S        26\n",
       "Name: ESTUDO_COMORB_PREV_OBESIDADE, dtype: int64"
      ]
     },
     "execution_count": 146,
     "metadata": {},
     "output_type": "execute_result"
    }
   ],
   "source": [
    "data['ESTUDO_COMORB_PREV_OBESIDADE'].value_counts()"
   ]
  },
  {
   "cell_type": "code",
   "execution_count": 147,
   "id": "optical-minnesota",
   "metadata": {},
   "outputs": [],
   "source": [
    "data['ESTUDO_COMORB_PREV_OBESIDADE'] = data['ESTUDO_COMORB_PREV_OBESIDADE'].replace({'S': 1, 'N': 0, 'NI': 2})"
   ]
  },
  {
   "cell_type": "markdown",
   "id": "valid-effort",
   "metadata": {},
   "source": [
    "#### ESTUDO_COMORB_PREV_EPILEPSIA',"
   ]
  },
  {
   "cell_type": "code",
   "execution_count": 148,
   "id": "seventh-procedure",
   "metadata": {},
   "outputs": [],
   "source": [
    "data['ESTUDO_COMORB_PREV_EPILEPSIA'] = data['ESTUDO_COMORB_PREV_EPILEPSIA'].fillna('NI')"
   ]
  },
  {
   "cell_type": "code",
   "execution_count": 149,
   "id": "coastal-refrigerator",
   "metadata": {},
   "outputs": [
    {
     "data": {
      "text/plain": [
       "N     17982\n",
       "NI       26\n",
       "S         6\n",
       "Name: ESTUDO_COMORB_PREV_EPILEPSIA, dtype: int64"
      ]
     },
     "execution_count": 149,
     "metadata": {},
     "output_type": "execute_result"
    }
   ],
   "source": [
    "data['ESTUDO_COMORB_PREV_EPILEPSIA'].value_counts()"
   ]
  },
  {
   "cell_type": "code",
   "execution_count": 150,
   "id": "minor-helicopter",
   "metadata": {},
   "outputs": [],
   "source": [
    "data['ESTUDO_COMORB_PREV_EPILEPSIA'] = data['ESTUDO_COMORB_PREV_EPILEPSIA'].replace({'S': 1, 'N': 0, 'NI': 2})"
   ]
  },
  {
   "cell_type": "markdown",
   "id": "magnetic-challenge",
   "metadata": {},
   "source": [
    "#### ESTUDO_COMORB_PREV_HIGIDO"
   ]
  },
  {
   "cell_type": "code",
   "execution_count": 151,
   "id": "mature-norwegian",
   "metadata": {},
   "outputs": [],
   "source": [
    "data['ESTUDO_COMORB_PREV_HIGIDO'] = data['ESTUDO_COMORB_PREV_HIGIDO'].fillna('NI')"
   ]
  },
  {
   "cell_type": "code",
   "execution_count": 152,
   "id": "fluid-guess",
   "metadata": {},
   "outputs": [
    {
     "data": {
      "text/plain": [
       "N     17733\n",
       "S       255\n",
       "NI       26\n",
       "Name: ESTUDO_COMORB_PREV_HIGIDO, dtype: int64"
      ]
     },
     "execution_count": 152,
     "metadata": {},
     "output_type": "execute_result"
    }
   ],
   "source": [
    "data['ESTUDO_COMORB_PREV_HIGIDO'].value_counts()"
   ]
  },
  {
   "cell_type": "code",
   "execution_count": 153,
   "id": "ongoing-transaction",
   "metadata": {},
   "outputs": [],
   "source": [
    "data['ESTUDO_COMORB_PREV_HIGIDO'] = data['ESTUDO_COMORB_PREV_HIGIDO'].replace({'S': 1, 'N': 0, 'NI': 2})"
   ]
  },
  {
   "cell_type": "markdown",
   "id": "instrumental-legislation",
   "metadata": {},
   "source": [
    "#### ESTUDO_COMORB_PREV_OUTRAS"
   ]
  },
  {
   "cell_type": "code",
   "execution_count": 154,
   "id": "periodic-injury",
   "metadata": {},
   "outputs": [
    {
     "data": {
      "text/plain": [
       "HIGIDO                               233\n",
       "HAS                                   24\n",
       "HIGIDA                                21\n",
       "ASMA                                  19\n",
       "DESCONHECIDO                          12\n",
       "                                    ... \n",
       "EPILEPSIA, DOENÇA DE HIRSCHSPRUNG      1\n",
       "DM, OBESIDADE, DRC, MIELOLIPOMA        1\n",
       "ÉLCERA G STRICA                        1\n",
       "HAS, DM, OBESIDADE, TX RENAL, IAM      1\n",
       "TABAGISTA                              1\n",
       "Name: ESTUDO_COMORB_PREV_OUTRAS, Length: 202, dtype: int64"
      ]
     },
     "execution_count": 154,
     "metadata": {},
     "output_type": "execute_result"
    }
   ],
   "source": [
    "data['ESTUDO_COMORB_PREV_OUTRAS'].value_counts()"
   ]
  },
  {
   "cell_type": "code",
   "execution_count": 155,
   "id": "deadly-article",
   "metadata": {},
   "outputs": [],
   "source": [
    "data['ESTUDO_COMORB_PREV_OUTRAS'] = data['ESTUDO_COMORB_PREV_OUTRAS'].notna()"
   ]
  },
  {
   "cell_type": "code",
   "execution_count": 156,
   "id": "tribal-infrastructure",
   "metadata": {},
   "outputs": [
    {
     "data": {
      "text/plain": [
       "0    17361\n",
       "1      653\n",
       "Name: ESTUDO_COMORB_PREV_OUTRAS, dtype: int64"
      ]
     },
     "execution_count": 156,
     "metadata": {},
     "output_type": "execute_result"
    }
   ],
   "source": [
    "# data = data.drop(['ESTUDO_COMORB_PREV_OUTRAS'], axis=1)\n",
    "\n",
    "data['ESTUDO_COMORB_PREV_OUTRAS'] = data['ESTUDO_COMORB_PREV_OUTRAS'].replace({False: 0, True: 1})\n",
    "data['ESTUDO_COMORB_PREV_OUTRAS'].value_counts()"
   ]
  },
  {
   "cell_type": "markdown",
   "id": "controversial-portal",
   "metadata": {},
   "source": [
    "#### ESTUDO_CHARLSON"
   ]
  },
  {
   "cell_type": "code",
   "execution_count": 157,
   "id": "latin-screw",
   "metadata": {},
   "outputs": [
    {
     "name": "stdout",
     "output_type": "stream",
     "text": [
      "Valores Faltantes:  17682\n",
      "5.0     64\n",
      "2.0     64\n",
      "1.0     64\n",
      "4.0     37\n",
      "3.0     33\n",
      "6.0     30\n",
      "7.0     21\n",
      "10.0     9\n",
      "8.0      6\n",
      "0.0      3\n",
      "9.0      1\n",
      "Name: ESTUDO_CHARLSON, dtype: int64\n",
      "ESTUDO_CHARLSON:  [1.0, 5.0, 2.0, 6.0, 8.0, 4.0, 3.0, 7.0, 9.0, 10.0, 0.0]\n"
     ]
    },
    {
     "data": {
      "text/plain": [
       "17682"
      ]
     },
     "execution_count": 157,
     "metadata": {},
     "output_type": "execute_result"
    }
   ],
   "source": [
    "resume(\"ESTUDO_CHARLSON\", data)"
   ]
  },
  {
   "cell_type": "code",
   "execution_count": 158,
   "id": "attended-cleaners",
   "metadata": {},
   "outputs": [
    {
     "data": {
      "text/html": [
       "<div>\n",
       "<style scoped>\n",
       "    .dataframe tbody tr th:only-of-type {\n",
       "        vertical-align: middle;\n",
       "    }\n",
       "\n",
       "    .dataframe tbody tr th {\n",
       "        vertical-align: top;\n",
       "    }\n",
       "\n",
       "    .dataframe thead th {\n",
       "        text-align: right;\n",
       "    }\n",
       "</style>\n",
       "<table border=\"1\" class=\"dataframe\">\n",
       "  <thead>\n",
       "    <tr style=\"text-align: right;\">\n",
       "      <th></th>\n",
       "      <th>Unnamed: 0</th>\n",
       "      <th>COLETOU_AMOSTRA</th>\n",
       "      <th>IFI_OUTRO_VIRUS</th>\n",
       "      <th>STATUS_COVID_FROM_MRG_REG_EST</th>\n",
       "      <th>CD_PACIENTE</th>\n",
       "      <th>GENERO</th>\n",
       "      <th>IDADE</th>\n",
       "      <th>DIAGNOSTICO_SARS</th>\n",
       "      <th>CD_CID</th>\n",
       "      <th>DS_ESPECIALID_SAI</th>\n",
       "      <th>REINTER_30D</th>\n",
       "      <th>CARATER_ATENDIMENTO</th>\n",
       "      <th>EMERG_SERVICO</th>\n",
       "      <th>EMERG_RISCO</th>\n",
       "      <th>CID_DIAG_ATEND</th>\n",
       "      <th>CID_CAPITULO_DIAG</th>\n",
       "      <th>BLOCO_CENTRAL_ST</th>\n",
       "      <th>HEMODINAMICA_ST</th>\n",
       "      <th>EX_LAB_ST</th>\n",
       "      <th>EX_IMG_ST</th>\n",
       "      <th>EX_OUTROS_ST</th>\n",
       "      <th>TIPO_REGISTRO</th>\n",
       "      <th>SN_CRIT_CONTATO_CASO_COVID</th>\n",
       "      <th>SN_CRIT_SRAG</th>\n",
       "      <th>SN_CRIT_SINDROME_GRIPAL</th>\n",
       "      <th>ESTUDO_TP_EXPOSICAO</th>\n",
       "      <th>ESTUDO_COMORB_PREV_HAS</th>\n",
       "      <th>ESTUDO_COMORB_PREV_IAM</th>\n",
       "      <th>ESTUDO_COMORB_PREV_IC</th>\n",
       "      <th>ESTUDO_COMORB_PREV_DRC</th>\n",
       "      <th>ESTUDO_COMORB_PREV_DMII</th>\n",
       "      <th>ESTUDO_COMORB_PREV_CARCINOMA</th>\n",
       "      <th>ESTUDO_COMORB_PREV_AVC</th>\n",
       "      <th>ESTUDO_COMORB_PREV_ASMA</th>\n",
       "      <th>ESTUDO_COMORB_PREV_DPOC</th>\n",
       "      <th>ESTUDO_COMORB_PREV_OBESIDADE</th>\n",
       "      <th>ESTUDO_COMORB_PREV_EPILEPSIA</th>\n",
       "      <th>ESTUDO_COMORB_PREV_HIGIDO</th>\n",
       "      <th>ESTUDO_COMORB_PREV_OUTRAS</th>\n",
       "      <th>ESTUDO_CHARLSON</th>\n",
       "      <th>ESTUDO_FR_DIA_COLETA</th>\n",
       "      <th>ESTUDO_FC_DIA_COLETA</th>\n",
       "      <th>ESTUDO_PA_DIA_COLETA</th>\n",
       "      <th>ESTUDO_TEMPERATURA_DIA_COLETA</th>\n",
       "      <th>ESTUDO_SATURACAO_DIA_COLETA</th>\n",
       "      <th>ESTUDO_APACHE2</th>\n",
       "      <th>ESTUDO_RISCO</th>\n",
       "      <th>ESTUDO_TRATAMENTO</th>\n",
       "      <th>ESTUDO_COMORB_PREV_TX_ORG_SOL</th>\n",
       "      <th>ESTUDO_CONDUTA</th>\n",
       "      <th>ESTUDO_LOCAL_CONTAMINACAO</th>\n",
       "      <th>ESTUDO_LOCAL_CONTAM_UI</th>\n",
       "      <th>ESTUDO_DT_DESFECHO</th>\n",
       "      <th>ESTUDO_COMORB_PREV_DESCON</th>\n",
       "      <th>ESTUDO_COMORB_PREV_DVP</th>\n",
       "      <th>ESTUDO_COMORB_PREV_DEMENCIA</th>\n",
       "      <th>ESTUDO_COMORB_PREV_DTC</th>\n",
       "      <th>ESTUDO_COMORB_PREV_UP</th>\n",
       "      <th>ESTUDO_COMORB_PREV_DFL</th>\n",
       "      <th>ESTUDO_COMORB_PREV_DFM</th>\n",
       "      <th>ESTUDO_COMORB_PREV_HEMIPLEGIA</th>\n",
       "      <th>ESTUDO_COMORB_PREV_LEUCEMIA</th>\n",
       "      <th>ESTUDO_COMORB_PREV_HIV</th>\n",
       "      <th>ESTUDO_COMORB_PREV_TUL</th>\n",
       "      <th>ESTUDO_COMORB_PREV_TUM</th>\n",
       "      <th>STATUS_COVID_FROM_UTI</th>\n",
       "      <th>DTHR_LEITO</th>\n",
       "      <th>DATA_HORA_ENTRADA</th>\n",
       "      <th>REENTRADA</th>\n",
       "      <th>DTHR_IN_UTI</th>\n",
       "      <th>DTHR_OUT_UTI</th>\n",
       "      <th>DIAS_PRE_UTI</th>\n",
       "      <th>DIAS_NA_UTI</th>\n",
       "    </tr>\n",
       "  </thead>\n",
       "  <tbody>\n",
       "    <tr>\n",
       "      <th>24</th>\n",
       "      <td>97</td>\n",
       "      <td>1.0</td>\n",
       "      <td>2</td>\n",
       "      <td>CONFIRMADOS</td>\n",
       "      <td>1841470.0</td>\n",
       "      <td>1</td>\n",
       "      <td>52,3668949771689</td>\n",
       "      <td>1</td>\n",
       "      <td>2.0</td>\n",
       "      <td>1</td>\n",
       "      <td>0</td>\n",
       "      <td>1</td>\n",
       "      <td>1</td>\n",
       "      <td>1</td>\n",
       "      <td>2.0</td>\n",
       "      <td>1</td>\n",
       "      <td>0</td>\n",
       "      <td>0</td>\n",
       "      <td>1</td>\n",
       "      <td>1</td>\n",
       "      <td>0</td>\n",
       "      <td>0</td>\n",
       "      <td>0</td>\n",
       "      <td>1</td>\n",
       "      <td>0</td>\n",
       "      <td>4</td>\n",
       "      <td>0</td>\n",
       "      <td>0</td>\n",
       "      <td>0</td>\n",
       "      <td>0</td>\n",
       "      <td>0</td>\n",
       "      <td>0</td>\n",
       "      <td>0</td>\n",
       "      <td>0</td>\n",
       "      <td>0</td>\n",
       "      <td>0</td>\n",
       "      <td>0</td>\n",
       "      <td>1</td>\n",
       "      <td>1</td>\n",
       "      <td>1.0</td>\n",
       "      <td>NaN</td>\n",
       "      <td>NaN</td>\n",
       "      <td>NaN</td>\n",
       "      <td>NaN</td>\n",
       "      <td>NaN</td>\n",
       "      <td>NaN</td>\n",
       "      <td>NaN</td>\n",
       "      <td>NaN</td>\n",
       "      <td>N</td>\n",
       "      <td>L</td>\n",
       "      <td>EXTERNO</td>\n",
       "      <td>NaN</td>\n",
       "      <td>NaN</td>\n",
       "      <td>N</td>\n",
       "      <td>N</td>\n",
       "      <td>N</td>\n",
       "      <td>N</td>\n",
       "      <td>N</td>\n",
       "      <td>N</td>\n",
       "      <td>N</td>\n",
       "      <td>N</td>\n",
       "      <td>N</td>\n",
       "      <td>N</td>\n",
       "      <td>N</td>\n",
       "      <td>N</td>\n",
       "      <td>NaN</td>\n",
       "      <td>NaN</td>\n",
       "      <td>NaN</td>\n",
       "      <td>NaN</td>\n",
       "      <td>NaN</td>\n",
       "      <td>NaN</td>\n",
       "      <td>0.045139</td>\n",
       "      <td>0.000000</td>\n",
       "    </tr>\n",
       "    <tr>\n",
       "      <th>25</th>\n",
       "      <td>98</td>\n",
       "      <td>1.0</td>\n",
       "      <td>1</td>\n",
       "      <td>CONFIRMADOS</td>\n",
       "      <td>1111099.0</td>\n",
       "      <td>0</td>\n",
       "      <td>74,1203196347032</td>\n",
       "      <td>0</td>\n",
       "      <td>1.0</td>\n",
       "      <td>1</td>\n",
       "      <td>0</td>\n",
       "      <td>1</td>\n",
       "      <td>1</td>\n",
       "      <td>1</td>\n",
       "      <td>1.0</td>\n",
       "      <td>1</td>\n",
       "      <td>0</td>\n",
       "      <td>0</td>\n",
       "      <td>1</td>\n",
       "      <td>0</td>\n",
       "      <td>0</td>\n",
       "      <td>0</td>\n",
       "      <td>0</td>\n",
       "      <td>1</td>\n",
       "      <td>0</td>\n",
       "      <td>4</td>\n",
       "      <td>0</td>\n",
       "      <td>0</td>\n",
       "      <td>0</td>\n",
       "      <td>0</td>\n",
       "      <td>1</td>\n",
       "      <td>0</td>\n",
       "      <td>0</td>\n",
       "      <td>1</td>\n",
       "      <td>0</td>\n",
       "      <td>0</td>\n",
       "      <td>0</td>\n",
       "      <td>0</td>\n",
       "      <td>1</td>\n",
       "      <td>5.0</td>\n",
       "      <td>NaN</td>\n",
       "      <td>NaN</td>\n",
       "      <td>NaN</td>\n",
       "      <td>NaN</td>\n",
       "      <td>NaN</td>\n",
       "      <td>NaN</td>\n",
       "      <td>NaN</td>\n",
       "      <td>NaN</td>\n",
       "      <td>N</td>\n",
       "      <td>L</td>\n",
       "      <td>EXTERNO</td>\n",
       "      <td>NaN</td>\n",
       "      <td>NaN</td>\n",
       "      <td>N</td>\n",
       "      <td>N</td>\n",
       "      <td>N</td>\n",
       "      <td>N</td>\n",
       "      <td>N</td>\n",
       "      <td>N</td>\n",
       "      <td>N</td>\n",
       "      <td>N</td>\n",
       "      <td>N</td>\n",
       "      <td>N</td>\n",
       "      <td>N</td>\n",
       "      <td>N</td>\n",
       "      <td>NaN</td>\n",
       "      <td>NaN</td>\n",
       "      <td>NaN</td>\n",
       "      <td>NaN</td>\n",
       "      <td>NaN</td>\n",
       "      <td>NaN</td>\n",
       "      <td>4.161493</td>\n",
       "      <td>0.000000</td>\n",
       "    </tr>\n",
       "    <tr>\n",
       "      <th>43</th>\n",
       "      <td>139</td>\n",
       "      <td>1.0</td>\n",
       "      <td>2</td>\n",
       "      <td>CONFIRMADOS</td>\n",
       "      <td>2341063.0</td>\n",
       "      <td>0</td>\n",
       "      <td>58,112100456621</td>\n",
       "      <td>0</td>\n",
       "      <td>18.0</td>\n",
       "      <td>6</td>\n",
       "      <td>0</td>\n",
       "      <td>0</td>\n",
       "      <td>3</td>\n",
       "      <td>4</td>\n",
       "      <td>20.0</td>\n",
       "      <td>3</td>\n",
       "      <td>1</td>\n",
       "      <td>0</td>\n",
       "      <td>1</td>\n",
       "      <td>1</td>\n",
       "      <td>1</td>\n",
       "      <td>0</td>\n",
       "      <td>0</td>\n",
       "      <td>1</td>\n",
       "      <td>0</td>\n",
       "      <td>4</td>\n",
       "      <td>1</td>\n",
       "      <td>0</td>\n",
       "      <td>0</td>\n",
       "      <td>0</td>\n",
       "      <td>0</td>\n",
       "      <td>0</td>\n",
       "      <td>0</td>\n",
       "      <td>1</td>\n",
       "      <td>0</td>\n",
       "      <td>0</td>\n",
       "      <td>0</td>\n",
       "      <td>0</td>\n",
       "      <td>1</td>\n",
       "      <td>1.0</td>\n",
       "      <td>NaN</td>\n",
       "      <td>NaN</td>\n",
       "      <td>NaN</td>\n",
       "      <td>NaN</td>\n",
       "      <td>NaN</td>\n",
       "      <td>NaN</td>\n",
       "      <td>NaN</td>\n",
       "      <td>NaN</td>\n",
       "      <td>N</td>\n",
       "      <td>L</td>\n",
       "      <td>EXTERNO</td>\n",
       "      <td>NaN</td>\n",
       "      <td>NaN</td>\n",
       "      <td>N</td>\n",
       "      <td>N</td>\n",
       "      <td>N</td>\n",
       "      <td>N</td>\n",
       "      <td>N</td>\n",
       "      <td>N</td>\n",
       "      <td>N</td>\n",
       "      <td>N</td>\n",
       "      <td>N</td>\n",
       "      <td>N</td>\n",
       "      <td>N</td>\n",
       "      <td>N</td>\n",
       "      <td>CONFIRMADOS</td>\n",
       "      <td>11/04/2020 12:30:00</td>\n",
       "      <td>2020-04-28 23:40:04</td>\n",
       "      <td>1.0</td>\n",
       "      <td>28/04/2020 23:40:04</td>\n",
       "      <td>05/05/2020 15:48:22</td>\n",
       "      <td>17.465324</td>\n",
       "      <td>6.672431</td>\n",
       "    </tr>\n",
       "    <tr>\n",
       "      <th>68</th>\n",
       "      <td>185</td>\n",
       "      <td>1.0</td>\n",
       "      <td>2</td>\n",
       "      <td>CONFIRMADOS</td>\n",
       "      <td>2342397.0</td>\n",
       "      <td>0</td>\n",
       "      <td>63,7011415525114</td>\n",
       "      <td>0</td>\n",
       "      <td>55.0</td>\n",
       "      <td>2</td>\n",
       "      <td>0</td>\n",
       "      <td>0</td>\n",
       "      <td>3</td>\n",
       "      <td>4</td>\n",
       "      <td>54.0</td>\n",
       "      <td>5</td>\n",
       "      <td>1</td>\n",
       "      <td>0</td>\n",
       "      <td>1</td>\n",
       "      <td>1</td>\n",
       "      <td>1</td>\n",
       "      <td>1</td>\n",
       "      <td>0</td>\n",
       "      <td>1</td>\n",
       "      <td>0</td>\n",
       "      <td>5</td>\n",
       "      <td>1</td>\n",
       "      <td>0</td>\n",
       "      <td>0</td>\n",
       "      <td>0</td>\n",
       "      <td>0</td>\n",
       "      <td>0</td>\n",
       "      <td>0</td>\n",
       "      <td>0</td>\n",
       "      <td>0</td>\n",
       "      <td>0</td>\n",
       "      <td>0</td>\n",
       "      <td>0</td>\n",
       "      <td>1</td>\n",
       "      <td>2.0</td>\n",
       "      <td>NaN</td>\n",
       "      <td>NaN</td>\n",
       "      <td>NaN</td>\n",
       "      <td>NaN</td>\n",
       "      <td>NaN</td>\n",
       "      <td>NaN</td>\n",
       "      <td>NaN</td>\n",
       "      <td>NaN</td>\n",
       "      <td>N</td>\n",
       "      <td>L</td>\n",
       "      <td>UNIDADE DE INTERNACAO HSL</td>\n",
       "      <td>12.0</td>\n",
       "      <td>NaN</td>\n",
       "      <td>N</td>\n",
       "      <td>N</td>\n",
       "      <td>N</td>\n",
       "      <td>N</td>\n",
       "      <td>N</td>\n",
       "      <td>N</td>\n",
       "      <td>N</td>\n",
       "      <td>N</td>\n",
       "      <td>N</td>\n",
       "      <td>N</td>\n",
       "      <td>N</td>\n",
       "      <td>N</td>\n",
       "      <td>CONFIRMADOS</td>\n",
       "      <td>26/04/2020 14:28:34</td>\n",
       "      <td>2020-05-08 13:11:19</td>\n",
       "      <td>1.0</td>\n",
       "      <td>08/05/2020 13:11:19</td>\n",
       "      <td>11/05/2020 13:37:24</td>\n",
       "      <td>11.946354</td>\n",
       "      <td>3.018113</td>\n",
       "    </tr>\n",
       "    <tr>\n",
       "      <th>72</th>\n",
       "      <td>192</td>\n",
       "      <td>1.0</td>\n",
       "      <td>2</td>\n",
       "      <td>CONFIRMADOS</td>\n",
       "      <td>2238084.0</td>\n",
       "      <td>1</td>\n",
       "      <td>37,7011415525114</td>\n",
       "      <td>0</td>\n",
       "      <td>4.0</td>\n",
       "      <td>3</td>\n",
       "      <td>1</td>\n",
       "      <td>1</td>\n",
       "      <td>2</td>\n",
       "      <td>1</td>\n",
       "      <td>3.0</td>\n",
       "      <td>1</td>\n",
       "      <td>1</td>\n",
       "      <td>1</td>\n",
       "      <td>1</td>\n",
       "      <td>1</td>\n",
       "      <td>1</td>\n",
       "      <td>0</td>\n",
       "      <td>0</td>\n",
       "      <td>1</td>\n",
       "      <td>0</td>\n",
       "      <td>5</td>\n",
       "      <td>0</td>\n",
       "      <td>0</td>\n",
       "      <td>0</td>\n",
       "      <td>1</td>\n",
       "      <td>0</td>\n",
       "      <td>0</td>\n",
       "      <td>0</td>\n",
       "      <td>0</td>\n",
       "      <td>0</td>\n",
       "      <td>0</td>\n",
       "      <td>0</td>\n",
       "      <td>0</td>\n",
       "      <td>1</td>\n",
       "      <td>2.0</td>\n",
       "      <td>NaN</td>\n",
       "      <td>NaN</td>\n",
       "      <td>NaN</td>\n",
       "      <td>NaN</td>\n",
       "      <td>NaN</td>\n",
       "      <td>NaN</td>\n",
       "      <td>NaN</td>\n",
       "      <td>NaN</td>\n",
       "      <td>S</td>\n",
       "      <td>L</td>\n",
       "      <td>UNIDADE DE INTERNACAO HSL</td>\n",
       "      <td>12.0</td>\n",
       "      <td>NaN</td>\n",
       "      <td>N</td>\n",
       "      <td>N</td>\n",
       "      <td>N</td>\n",
       "      <td>N</td>\n",
       "      <td>N</td>\n",
       "      <td>N</td>\n",
       "      <td>N</td>\n",
       "      <td>N</td>\n",
       "      <td>N</td>\n",
       "      <td>N</td>\n",
       "      <td>N</td>\n",
       "      <td>N</td>\n",
       "      <td>NaN</td>\n",
       "      <td>NaN</td>\n",
       "      <td>NaN</td>\n",
       "      <td>NaN</td>\n",
       "      <td>NaN</td>\n",
       "      <td>NaN</td>\n",
       "      <td>84.982731</td>\n",
       "      <td>0.000000</td>\n",
       "    </tr>\n",
       "    <tr>\n",
       "      <th>...</th>\n",
       "      <td>...</td>\n",
       "      <td>...</td>\n",
       "      <td>...</td>\n",
       "      <td>...</td>\n",
       "      <td>...</td>\n",
       "      <td>...</td>\n",
       "      <td>...</td>\n",
       "      <td>...</td>\n",
       "      <td>...</td>\n",
       "      <td>...</td>\n",
       "      <td>...</td>\n",
       "      <td>...</td>\n",
       "      <td>...</td>\n",
       "      <td>...</td>\n",
       "      <td>...</td>\n",
       "      <td>...</td>\n",
       "      <td>...</td>\n",
       "      <td>...</td>\n",
       "      <td>...</td>\n",
       "      <td>...</td>\n",
       "      <td>...</td>\n",
       "      <td>...</td>\n",
       "      <td>...</td>\n",
       "      <td>...</td>\n",
       "      <td>...</td>\n",
       "      <td>...</td>\n",
       "      <td>...</td>\n",
       "      <td>...</td>\n",
       "      <td>...</td>\n",
       "      <td>...</td>\n",
       "      <td>...</td>\n",
       "      <td>...</td>\n",
       "      <td>...</td>\n",
       "      <td>...</td>\n",
       "      <td>...</td>\n",
       "      <td>...</td>\n",
       "      <td>...</td>\n",
       "      <td>...</td>\n",
       "      <td>...</td>\n",
       "      <td>...</td>\n",
       "      <td>...</td>\n",
       "      <td>...</td>\n",
       "      <td>...</td>\n",
       "      <td>...</td>\n",
       "      <td>...</td>\n",
       "      <td>...</td>\n",
       "      <td>...</td>\n",
       "      <td>...</td>\n",
       "      <td>...</td>\n",
       "      <td>...</td>\n",
       "      <td>...</td>\n",
       "      <td>...</td>\n",
       "      <td>...</td>\n",
       "      <td>...</td>\n",
       "      <td>...</td>\n",
       "      <td>...</td>\n",
       "      <td>...</td>\n",
       "      <td>...</td>\n",
       "      <td>...</td>\n",
       "      <td>...</td>\n",
       "      <td>...</td>\n",
       "      <td>...</td>\n",
       "      <td>...</td>\n",
       "      <td>...</td>\n",
       "      <td>...</td>\n",
       "      <td>...</td>\n",
       "      <td>...</td>\n",
       "      <td>...</td>\n",
       "      <td>...</td>\n",
       "      <td>...</td>\n",
       "      <td>...</td>\n",
       "      <td>...</td>\n",
       "      <td>...</td>\n",
       "    </tr>\n",
       "    <tr>\n",
       "      <th>16013</th>\n",
       "      <td>22523</td>\n",
       "      <td>1.0</td>\n",
       "      <td>2</td>\n",
       "      <td>NEGATIVOS</td>\n",
       "      <td>1264596.0</td>\n",
       "      <td>0</td>\n",
       "      <td>70,9751141552511</td>\n",
       "      <td>0</td>\n",
       "      <td>13.0</td>\n",
       "      <td>15</td>\n",
       "      <td>0</td>\n",
       "      <td>0</td>\n",
       "      <td>3</td>\n",
       "      <td>4</td>\n",
       "      <td>14.0</td>\n",
       "      <td>7</td>\n",
       "      <td>1</td>\n",
       "      <td>0</td>\n",
       "      <td>1</td>\n",
       "      <td>0</td>\n",
       "      <td>0</td>\n",
       "      <td>1</td>\n",
       "      <td>0</td>\n",
       "      <td>0</td>\n",
       "      <td>0</td>\n",
       "      <td>4</td>\n",
       "      <td>0</td>\n",
       "      <td>0</td>\n",
       "      <td>0</td>\n",
       "      <td>1</td>\n",
       "      <td>0</td>\n",
       "      <td>0</td>\n",
       "      <td>0</td>\n",
       "      <td>0</td>\n",
       "      <td>0</td>\n",
       "      <td>0</td>\n",
       "      <td>0</td>\n",
       "      <td>0</td>\n",
       "      <td>1</td>\n",
       "      <td>5.0</td>\n",
       "      <td>NaN</td>\n",
       "      <td>NaN</td>\n",
       "      <td>NaN</td>\n",
       "      <td>NaN</td>\n",
       "      <td>NaN</td>\n",
       "      <td>NaN</td>\n",
       "      <td>NaN</td>\n",
       "      <td>NaN</td>\n",
       "      <td>N</td>\n",
       "      <td>L</td>\n",
       "      <td>DESCONHECIDO</td>\n",
       "      <td>NaN</td>\n",
       "      <td>NaN</td>\n",
       "      <td>N</td>\n",
       "      <td>N</td>\n",
       "      <td>N</td>\n",
       "      <td>N</td>\n",
       "      <td>N</td>\n",
       "      <td>N</td>\n",
       "      <td>N</td>\n",
       "      <td>N</td>\n",
       "      <td>N</td>\n",
       "      <td>N</td>\n",
       "      <td>N</td>\n",
       "      <td>N</td>\n",
       "      <td>NaN</td>\n",
       "      <td>NaN</td>\n",
       "      <td>NaN</td>\n",
       "      <td>NaN</td>\n",
       "      <td>NaN</td>\n",
       "      <td>NaN</td>\n",
       "      <td>0.962280</td>\n",
       "      <td>0.000000</td>\n",
       "    </tr>\n",
       "    <tr>\n",
       "      <th>17171</th>\n",
       "      <td>23987</td>\n",
       "      <td>1.0</td>\n",
       "      <td>2</td>\n",
       "      <td>NEGATIVOS</td>\n",
       "      <td>653279.0</td>\n",
       "      <td>0</td>\n",
       "      <td>48,6052511415525</td>\n",
       "      <td>0</td>\n",
       "      <td>1007.0</td>\n",
       "      <td>6</td>\n",
       "      <td>0</td>\n",
       "      <td>0</td>\n",
       "      <td>3</td>\n",
       "      <td>4</td>\n",
       "      <td>1180.0</td>\n",
       "      <td>4</td>\n",
       "      <td>1</td>\n",
       "      <td>0</td>\n",
       "      <td>1</td>\n",
       "      <td>0</td>\n",
       "      <td>1</td>\n",
       "      <td>1</td>\n",
       "      <td>0</td>\n",
       "      <td>0</td>\n",
       "      <td>0</td>\n",
       "      <td>5</td>\n",
       "      <td>0</td>\n",
       "      <td>0</td>\n",
       "      <td>0</td>\n",
       "      <td>0</td>\n",
       "      <td>0</td>\n",
       "      <td>1</td>\n",
       "      <td>0</td>\n",
       "      <td>0</td>\n",
       "      <td>0</td>\n",
       "      <td>0</td>\n",
       "      <td>0</td>\n",
       "      <td>0</td>\n",
       "      <td>1</td>\n",
       "      <td>6.0</td>\n",
       "      <td>NaN</td>\n",
       "      <td>NaN</td>\n",
       "      <td>NaN</td>\n",
       "      <td>NaN</td>\n",
       "      <td>NaN</td>\n",
       "      <td>NaN</td>\n",
       "      <td>NaN</td>\n",
       "      <td>NaN</td>\n",
       "      <td>N</td>\n",
       "      <td>L</td>\n",
       "      <td>UNIDADE DE INTERNACAO HSL</td>\n",
       "      <td>6.0</td>\n",
       "      <td>NaN</td>\n",
       "      <td>N</td>\n",
       "      <td>N</td>\n",
       "      <td>N</td>\n",
       "      <td>N</td>\n",
       "      <td>N</td>\n",
       "      <td>N</td>\n",
       "      <td>N</td>\n",
       "      <td>N</td>\n",
       "      <td>N</td>\n",
       "      <td>N</td>\n",
       "      <td>N</td>\n",
       "      <td>S</td>\n",
       "      <td>NaN</td>\n",
       "      <td>NaN</td>\n",
       "      <td>NaN</td>\n",
       "      <td>NaN</td>\n",
       "      <td>NaN</td>\n",
       "      <td>NaN</td>\n",
       "      <td>5.086933</td>\n",
       "      <td>0.000000</td>\n",
       "    </tr>\n",
       "    <tr>\n",
       "      <th>17309</th>\n",
       "      <td>24255</td>\n",
       "      <td>1.0</td>\n",
       "      <td>2</td>\n",
       "      <td>CONFIRMADOS</td>\n",
       "      <td>319303.0</td>\n",
       "      <td>0</td>\n",
       "      <td>55,8436073059361</td>\n",
       "      <td>0</td>\n",
       "      <td>1.0</td>\n",
       "      <td>1</td>\n",
       "      <td>0</td>\n",
       "      <td>1</td>\n",
       "      <td>1</td>\n",
       "      <td>2</td>\n",
       "      <td>1.0</td>\n",
       "      <td>1</td>\n",
       "      <td>0</td>\n",
       "      <td>0</td>\n",
       "      <td>1</td>\n",
       "      <td>0</td>\n",
       "      <td>0</td>\n",
       "      <td>1</td>\n",
       "      <td>0</td>\n",
       "      <td>0</td>\n",
       "      <td>0</td>\n",
       "      <td>2</td>\n",
       "      <td>0</td>\n",
       "      <td>0</td>\n",
       "      <td>0</td>\n",
       "      <td>0</td>\n",
       "      <td>0</td>\n",
       "      <td>0</td>\n",
       "      <td>0</td>\n",
       "      <td>0</td>\n",
       "      <td>0</td>\n",
       "      <td>0</td>\n",
       "      <td>0</td>\n",
       "      <td>1</td>\n",
       "      <td>1</td>\n",
       "      <td>1.0</td>\n",
       "      <td>NaN</td>\n",
       "      <td>NaN</td>\n",
       "      <td>NaN</td>\n",
       "      <td>NaN</td>\n",
       "      <td>NaN</td>\n",
       "      <td>NaN</td>\n",
       "      <td>NaN</td>\n",
       "      <td>NaN</td>\n",
       "      <td>N</td>\n",
       "      <td>L</td>\n",
       "      <td>EXTERNO</td>\n",
       "      <td>NaN</td>\n",
       "      <td>NaN</td>\n",
       "      <td>N</td>\n",
       "      <td>N</td>\n",
       "      <td>N</td>\n",
       "      <td>N</td>\n",
       "      <td>N</td>\n",
       "      <td>N</td>\n",
       "      <td>N</td>\n",
       "      <td>N</td>\n",
       "      <td>N</td>\n",
       "      <td>N</td>\n",
       "      <td>N</td>\n",
       "      <td>N</td>\n",
       "      <td>NaN</td>\n",
       "      <td>NaN</td>\n",
       "      <td>NaN</td>\n",
       "      <td>NaN</td>\n",
       "      <td>NaN</td>\n",
       "      <td>NaN</td>\n",
       "      <td>0.065278</td>\n",
       "      <td>0.000000</td>\n",
       "    </tr>\n",
       "    <tr>\n",
       "      <th>17462</th>\n",
       "      <td>24562</td>\n",
       "      <td>1.0</td>\n",
       "      <td>2</td>\n",
       "      <td>CONFIRMADOS</td>\n",
       "      <td>795501.0</td>\n",
       "      <td>0</td>\n",
       "      <td>37,9915525114155</td>\n",
       "      <td>0</td>\n",
       "      <td>1.0</td>\n",
       "      <td>1</td>\n",
       "      <td>0</td>\n",
       "      <td>1</td>\n",
       "      <td>1</td>\n",
       "      <td>3</td>\n",
       "      <td>1.0</td>\n",
       "      <td>1</td>\n",
       "      <td>0</td>\n",
       "      <td>0</td>\n",
       "      <td>1</td>\n",
       "      <td>1</td>\n",
       "      <td>0</td>\n",
       "      <td>1</td>\n",
       "      <td>0</td>\n",
       "      <td>0</td>\n",
       "      <td>0</td>\n",
       "      <td>4</td>\n",
       "      <td>0</td>\n",
       "      <td>0</td>\n",
       "      <td>0</td>\n",
       "      <td>0</td>\n",
       "      <td>1</td>\n",
       "      <td>0</td>\n",
       "      <td>0</td>\n",
       "      <td>0</td>\n",
       "      <td>0</td>\n",
       "      <td>0</td>\n",
       "      <td>0</td>\n",
       "      <td>0</td>\n",
       "      <td>1</td>\n",
       "      <td>2.0</td>\n",
       "      <td>NaN</td>\n",
       "      <td>NaN</td>\n",
       "      <td>NaN</td>\n",
       "      <td>NaN</td>\n",
       "      <td>NaN</td>\n",
       "      <td>NaN</td>\n",
       "      <td>NaN</td>\n",
       "      <td>NaN</td>\n",
       "      <td>N</td>\n",
       "      <td>L</td>\n",
       "      <td>EXTERNO</td>\n",
       "      <td>NaN</td>\n",
       "      <td>NaN</td>\n",
       "      <td>N</td>\n",
       "      <td>N</td>\n",
       "      <td>N</td>\n",
       "      <td>N</td>\n",
       "      <td>N</td>\n",
       "      <td>N</td>\n",
       "      <td>N</td>\n",
       "      <td>N</td>\n",
       "      <td>N</td>\n",
       "      <td>N</td>\n",
       "      <td>N</td>\n",
       "      <td>N</td>\n",
       "      <td>NaN</td>\n",
       "      <td>NaN</td>\n",
       "      <td>NaN</td>\n",
       "      <td>NaN</td>\n",
       "      <td>NaN</td>\n",
       "      <td>NaN</td>\n",
       "      <td>0.159028</td>\n",
       "      <td>0.000000</td>\n",
       "    </tr>\n",
       "    <tr>\n",
       "      <th>17470</th>\n",
       "      <td>24570</td>\n",
       "      <td>1.0</td>\n",
       "      <td>2</td>\n",
       "      <td>CONFIRMADOS</td>\n",
       "      <td>795501.0</td>\n",
       "      <td>0</td>\n",
       "      <td>37,9942922374429</td>\n",
       "      <td>0</td>\n",
       "      <td>166.0</td>\n",
       "      <td>1</td>\n",
       "      <td>0</td>\n",
       "      <td>1</td>\n",
       "      <td>1</td>\n",
       "      <td>3</td>\n",
       "      <td>183.0</td>\n",
       "      <td>12</td>\n",
       "      <td>0</td>\n",
       "      <td>0</td>\n",
       "      <td>1</td>\n",
       "      <td>1</td>\n",
       "      <td>0</td>\n",
       "      <td>1</td>\n",
       "      <td>0</td>\n",
       "      <td>0</td>\n",
       "      <td>0</td>\n",
       "      <td>4</td>\n",
       "      <td>0</td>\n",
       "      <td>0</td>\n",
       "      <td>0</td>\n",
       "      <td>0</td>\n",
       "      <td>1</td>\n",
       "      <td>0</td>\n",
       "      <td>0</td>\n",
       "      <td>0</td>\n",
       "      <td>0</td>\n",
       "      <td>0</td>\n",
       "      <td>0</td>\n",
       "      <td>0</td>\n",
       "      <td>1</td>\n",
       "      <td>2.0</td>\n",
       "      <td>NaN</td>\n",
       "      <td>NaN</td>\n",
       "      <td>NaN</td>\n",
       "      <td>NaN</td>\n",
       "      <td>NaN</td>\n",
       "      <td>NaN</td>\n",
       "      <td>NaN</td>\n",
       "      <td>NaN</td>\n",
       "      <td>N</td>\n",
       "      <td>L</td>\n",
       "      <td>EXTERNO</td>\n",
       "      <td>NaN</td>\n",
       "      <td>NaN</td>\n",
       "      <td>N</td>\n",
       "      <td>N</td>\n",
       "      <td>N</td>\n",
       "      <td>N</td>\n",
       "      <td>N</td>\n",
       "      <td>N</td>\n",
       "      <td>N</td>\n",
       "      <td>N</td>\n",
       "      <td>N</td>\n",
       "      <td>N</td>\n",
       "      <td>N</td>\n",
       "      <td>N</td>\n",
       "      <td>NaN</td>\n",
       "      <td>NaN</td>\n",
       "      <td>NaN</td>\n",
       "      <td>NaN</td>\n",
       "      <td>NaN</td>\n",
       "      <td>NaN</td>\n",
       "      <td>9.533171</td>\n",
       "      <td>0.000000</td>\n",
       "    </tr>\n",
       "  </tbody>\n",
       "</table>\n",
       "<p>332 rows × 73 columns</p>\n",
       "</div>"
      ],
      "text/plain": [
       "       Unnamed: 0  COLETOU_AMOSTRA  IFI_OUTRO_VIRUS  \\\n",
       "24             97              1.0                2   \n",
       "25             98              1.0                1   \n",
       "43            139              1.0                2   \n",
       "68            185              1.0                2   \n",
       "72            192              1.0                2   \n",
       "...           ...              ...              ...   \n",
       "16013       22523              1.0                2   \n",
       "17171       23987              1.0                2   \n",
       "17309       24255              1.0                2   \n",
       "17462       24562              1.0                2   \n",
       "17470       24570              1.0                2   \n",
       "\n",
       "      STATUS_COVID_FROM_MRG_REG_EST  CD_PACIENTE GENERO             IDADE  \\\n",
       "24                      CONFIRMADOS    1841470.0      1  52,3668949771689   \n",
       "25                      CONFIRMADOS    1111099.0      0  74,1203196347032   \n",
       "43                      CONFIRMADOS    2341063.0      0   58,112100456621   \n",
       "68                      CONFIRMADOS    2342397.0      0  63,7011415525114   \n",
       "72                      CONFIRMADOS    2238084.0      1  37,7011415525114   \n",
       "...                             ...          ...    ...               ...   \n",
       "16013                     NEGATIVOS    1264596.0      0  70,9751141552511   \n",
       "17171                     NEGATIVOS     653279.0      0  48,6052511415525   \n",
       "17309                   CONFIRMADOS     319303.0      0  55,8436073059361   \n",
       "17462                   CONFIRMADOS     795501.0      0  37,9915525114155   \n",
       "17470                   CONFIRMADOS     795501.0      0  37,9942922374429   \n",
       "\n",
       "       DIAGNOSTICO_SARS  CD_CID  DS_ESPECIALID_SAI  REINTER_30D  \\\n",
       "24                    1     2.0                  1            0   \n",
       "25                    0     1.0                  1            0   \n",
       "43                    0    18.0                  6            0   \n",
       "68                    0    55.0                  2            0   \n",
       "72                    0     4.0                  3            1   \n",
       "...                 ...     ...                ...          ...   \n",
       "16013                 0    13.0                 15            0   \n",
       "17171                 0  1007.0                  6            0   \n",
       "17309                 0     1.0                  1            0   \n",
       "17462                 0     1.0                  1            0   \n",
       "17470                 0   166.0                  1            0   \n",
       "\n",
       "       CARATER_ATENDIMENTO  EMERG_SERVICO  EMERG_RISCO  CID_DIAG_ATEND  \\\n",
       "24                       1              1            1             2.0   \n",
       "25                       1              1            1             1.0   \n",
       "43                       0              3            4            20.0   \n",
       "68                       0              3            4            54.0   \n",
       "72                       1              2            1             3.0   \n",
       "...                    ...            ...          ...             ...   \n",
       "16013                    0              3            4            14.0   \n",
       "17171                    0              3            4          1180.0   \n",
       "17309                    1              1            2             1.0   \n",
       "17462                    1              1            3             1.0   \n",
       "17470                    1              1            3           183.0   \n",
       "\n",
       "       CID_CAPITULO_DIAG  BLOCO_CENTRAL_ST  HEMODINAMICA_ST  EX_LAB_ST  \\\n",
       "24                     1                 0                0          1   \n",
       "25                     1                 0                0          1   \n",
       "43                     3                 1                0          1   \n",
       "68                     5                 1                0          1   \n",
       "72                     1                 1                1          1   \n",
       "...                  ...               ...              ...        ...   \n",
       "16013                  7                 1                0          1   \n",
       "17171                  4                 1                0          1   \n",
       "17309                  1                 0                0          1   \n",
       "17462                  1                 0                0          1   \n",
       "17470                 12                 0                0          1   \n",
       "\n",
       "       EX_IMG_ST  EX_OUTROS_ST  TIPO_REGISTRO  SN_CRIT_CONTATO_CASO_COVID  \\\n",
       "24             1             0              0                           0   \n",
       "25             0             0              0                           0   \n",
       "43             1             1              0                           0   \n",
       "68             1             1              1                           0   \n",
       "72             1             1              0                           0   \n",
       "...          ...           ...            ...                         ...   \n",
       "16013          0             0              1                           0   \n",
       "17171          0             1              1                           0   \n",
       "17309          0             0              1                           0   \n",
       "17462          1             0              1                           0   \n",
       "17470          1             0              1                           0   \n",
       "\n",
       "       SN_CRIT_SRAG  SN_CRIT_SINDROME_GRIPAL  ESTUDO_TP_EXPOSICAO  \\\n",
       "24                1                        0                    4   \n",
       "25                1                        0                    4   \n",
       "43                1                        0                    4   \n",
       "68                1                        0                    5   \n",
       "72                1                        0                    5   \n",
       "...             ...                      ...                  ...   \n",
       "16013             0                        0                    4   \n",
       "17171             0                        0                    5   \n",
       "17309             0                        0                    2   \n",
       "17462             0                        0                    4   \n",
       "17470             0                        0                    4   \n",
       "\n",
       "       ESTUDO_COMORB_PREV_HAS  ESTUDO_COMORB_PREV_IAM  ESTUDO_COMORB_PREV_IC  \\\n",
       "24                          0                       0                      0   \n",
       "25                          0                       0                      0   \n",
       "43                          1                       0                      0   \n",
       "68                          1                       0                      0   \n",
       "72                          0                       0                      0   \n",
       "...                       ...                     ...                    ...   \n",
       "16013                       0                       0                      0   \n",
       "17171                       0                       0                      0   \n",
       "17309                       0                       0                      0   \n",
       "17462                       0                       0                      0   \n",
       "17470                       0                       0                      0   \n",
       "\n",
       "       ESTUDO_COMORB_PREV_DRC  ESTUDO_COMORB_PREV_DMII  \\\n",
       "24                          0                        0   \n",
       "25                          0                        1   \n",
       "43                          0                        0   \n",
       "68                          0                        0   \n",
       "72                          1                        0   \n",
       "...                       ...                      ...   \n",
       "16013                       1                        0   \n",
       "17171                       0                        0   \n",
       "17309                       0                        0   \n",
       "17462                       0                        1   \n",
       "17470                       0                        1   \n",
       "\n",
       "       ESTUDO_COMORB_PREV_CARCINOMA  ESTUDO_COMORB_PREV_AVC  \\\n",
       "24                                0                       0   \n",
       "25                                0                       0   \n",
       "43                                0                       0   \n",
       "68                                0                       0   \n",
       "72                                0                       0   \n",
       "...                             ...                     ...   \n",
       "16013                             0                       0   \n",
       "17171                             1                       0   \n",
       "17309                             0                       0   \n",
       "17462                             0                       0   \n",
       "17470                             0                       0   \n",
       "\n",
       "       ESTUDO_COMORB_PREV_ASMA  ESTUDO_COMORB_PREV_DPOC  \\\n",
       "24                           0                        0   \n",
       "25                           1                        0   \n",
       "43                           1                        0   \n",
       "68                           0                        0   \n",
       "72                           0                        0   \n",
       "...                        ...                      ...   \n",
       "16013                        0                        0   \n",
       "17171                        0                        0   \n",
       "17309                        0                        0   \n",
       "17462                        0                        0   \n",
       "17470                        0                        0   \n",
       "\n",
       "       ESTUDO_COMORB_PREV_OBESIDADE  ESTUDO_COMORB_PREV_EPILEPSIA  \\\n",
       "24                                0                             0   \n",
       "25                                0                             0   \n",
       "43                                0                             0   \n",
       "68                                0                             0   \n",
       "72                                0                             0   \n",
       "...                             ...                           ...   \n",
       "16013                             0                             0   \n",
       "17171                             0                             0   \n",
       "17309                             0                             0   \n",
       "17462                             0                             0   \n",
       "17470                             0                             0   \n",
       "\n",
       "       ESTUDO_COMORB_PREV_HIGIDO  ESTUDO_COMORB_PREV_OUTRAS  ESTUDO_CHARLSON  \\\n",
       "24                             1                          1              1.0   \n",
       "25                             0                          1              5.0   \n",
       "43                             0                          1              1.0   \n",
       "68                             0                          1              2.0   \n",
       "72                             0                          1              2.0   \n",
       "...                          ...                        ...              ...   \n",
       "16013                          0                          1              5.0   \n",
       "17171                          0                          1              6.0   \n",
       "17309                          1                          1              1.0   \n",
       "17462                          0                          1              2.0   \n",
       "17470                          0                          1              2.0   \n",
       "\n",
       "      ESTUDO_FR_DIA_COLETA  ESTUDO_FC_DIA_COLETA ESTUDO_PA_DIA_COLETA  \\\n",
       "24                     NaN                   NaN                  NaN   \n",
       "25                     NaN                   NaN                  NaN   \n",
       "43                     NaN                   NaN                  NaN   \n",
       "68                     NaN                   NaN                  NaN   \n",
       "72                     NaN                   NaN                  NaN   \n",
       "...                    ...                   ...                  ...   \n",
       "16013                  NaN                   NaN                  NaN   \n",
       "17171                  NaN                   NaN                  NaN   \n",
       "17309                  NaN                   NaN                  NaN   \n",
       "17462                  NaN                   NaN                  NaN   \n",
       "17470                  NaN                   NaN                  NaN   \n",
       "\n",
       "      ESTUDO_TEMPERATURA_DIA_COLETA ESTUDO_SATURACAO_DIA_COLETA  \\\n",
       "24                              NaN                         NaN   \n",
       "25                              NaN                         NaN   \n",
       "43                              NaN                         NaN   \n",
       "68                              NaN                         NaN   \n",
       "72                              NaN                         NaN   \n",
       "...                             ...                         ...   \n",
       "16013                           NaN                         NaN   \n",
       "17171                           NaN                         NaN   \n",
       "17309                           NaN                         NaN   \n",
       "17462                           NaN                         NaN   \n",
       "17470                           NaN                         NaN   \n",
       "\n",
       "       ESTUDO_APACHE2  ESTUDO_RISCO ESTUDO_TRATAMENTO  \\\n",
       "24                NaN           NaN               NaN   \n",
       "25                NaN           NaN               NaN   \n",
       "43                NaN           NaN               NaN   \n",
       "68                NaN           NaN               NaN   \n",
       "72                NaN           NaN               NaN   \n",
       "...               ...           ...               ...   \n",
       "16013             NaN           NaN               NaN   \n",
       "17171             NaN           NaN               NaN   \n",
       "17309             NaN           NaN               NaN   \n",
       "17462             NaN           NaN               NaN   \n",
       "17470             NaN           NaN               NaN   \n",
       "\n",
       "      ESTUDO_COMORB_PREV_TX_ORG_SOL ESTUDO_CONDUTA  ESTUDO_LOCAL_CONTAMINACAO  \\\n",
       "24                                N              L                    EXTERNO   \n",
       "25                                N              L                    EXTERNO   \n",
       "43                                N              L                    EXTERNO   \n",
       "68                                N              L  UNIDADE DE INTERNACAO HSL   \n",
       "72                                S              L  UNIDADE DE INTERNACAO HSL   \n",
       "...                             ...            ...                        ...   \n",
       "16013                             N              L               DESCONHECIDO   \n",
       "17171                             N              L  UNIDADE DE INTERNACAO HSL   \n",
       "17309                             N              L                    EXTERNO   \n",
       "17462                             N              L                    EXTERNO   \n",
       "17470                             N              L                    EXTERNO   \n",
       "\n",
       "       ESTUDO_LOCAL_CONTAM_UI ESTUDO_DT_DESFECHO ESTUDO_COMORB_PREV_DESCON  \\\n",
       "24                        NaN                NaN                         N   \n",
       "25                        NaN                NaN                         N   \n",
       "43                        NaN                NaN                         N   \n",
       "68                       12.0                NaN                         N   \n",
       "72                       12.0                NaN                         N   \n",
       "...                       ...                ...                       ...   \n",
       "16013                     NaN                NaN                         N   \n",
       "17171                     6.0                NaN                         N   \n",
       "17309                     NaN                NaN                         N   \n",
       "17462                     NaN                NaN                         N   \n",
       "17470                     NaN                NaN                         N   \n",
       "\n",
       "      ESTUDO_COMORB_PREV_DVP ESTUDO_COMORB_PREV_DEMENCIA  \\\n",
       "24                         N                           N   \n",
       "25                         N                           N   \n",
       "43                         N                           N   \n",
       "68                         N                           N   \n",
       "72                         N                           N   \n",
       "...                      ...                         ...   \n",
       "16013                      N                           N   \n",
       "17171                      N                           N   \n",
       "17309                      N                           N   \n",
       "17462                      N                           N   \n",
       "17470                      N                           N   \n",
       "\n",
       "      ESTUDO_COMORB_PREV_DTC ESTUDO_COMORB_PREV_UP ESTUDO_COMORB_PREV_DFL  \\\n",
       "24                         N                     N                      N   \n",
       "25                         N                     N                      N   \n",
       "43                         N                     N                      N   \n",
       "68                         N                     N                      N   \n",
       "72                         N                     N                      N   \n",
       "...                      ...                   ...                    ...   \n",
       "16013                      N                     N                      N   \n",
       "17171                      N                     N                      N   \n",
       "17309                      N                     N                      N   \n",
       "17462                      N                     N                      N   \n",
       "17470                      N                     N                      N   \n",
       "\n",
       "      ESTUDO_COMORB_PREV_DFM ESTUDO_COMORB_PREV_HEMIPLEGIA  \\\n",
       "24                         N                             N   \n",
       "25                         N                             N   \n",
       "43                         N                             N   \n",
       "68                         N                             N   \n",
       "72                         N                             N   \n",
       "...                      ...                           ...   \n",
       "16013                      N                             N   \n",
       "17171                      N                             N   \n",
       "17309                      N                             N   \n",
       "17462                      N                             N   \n",
       "17470                      N                             N   \n",
       "\n",
       "      ESTUDO_COMORB_PREV_LEUCEMIA ESTUDO_COMORB_PREV_HIV  \\\n",
       "24                              N                      N   \n",
       "25                              N                      N   \n",
       "43                              N                      N   \n",
       "68                              N                      N   \n",
       "72                              N                      N   \n",
       "...                           ...                    ...   \n",
       "16013                           N                      N   \n",
       "17171                           N                      N   \n",
       "17309                           N                      N   \n",
       "17462                           N                      N   \n",
       "17470                           N                      N   \n",
       "\n",
       "      ESTUDO_COMORB_PREV_TUL ESTUDO_COMORB_PREV_TUM STATUS_COVID_FROM_UTI  \\\n",
       "24                         N                      N                   NaN   \n",
       "25                         N                      N                   NaN   \n",
       "43                         N                      N           CONFIRMADOS   \n",
       "68                         N                      N           CONFIRMADOS   \n",
       "72                         N                      N                   NaN   \n",
       "...                      ...                    ...                   ...   \n",
       "16013                      N                      N                   NaN   \n",
       "17171                      N                      S                   NaN   \n",
       "17309                      N                      N                   NaN   \n",
       "17462                      N                      N                   NaN   \n",
       "17470                      N                      N                   NaN   \n",
       "\n",
       "                DTHR_LEITO    DATA_HORA_ENTRADA  REENTRADA  \\\n",
       "24                     NaN                  NaN        NaN   \n",
       "25                     NaN                  NaN        NaN   \n",
       "43     11/04/2020 12:30:00  2020-04-28 23:40:04        1.0   \n",
       "68     26/04/2020 14:28:34  2020-05-08 13:11:19        1.0   \n",
       "72                     NaN                  NaN        NaN   \n",
       "...                    ...                  ...        ...   \n",
       "16013                  NaN                  NaN        NaN   \n",
       "17171                  NaN                  NaN        NaN   \n",
       "17309                  NaN                  NaN        NaN   \n",
       "17462                  NaN                  NaN        NaN   \n",
       "17470                  NaN                  NaN        NaN   \n",
       "\n",
       "               DTHR_IN_UTI         DTHR_OUT_UTI  DIAS_PRE_UTI  DIAS_NA_UTI  \n",
       "24                     NaN                  NaN      0.045139     0.000000  \n",
       "25                     NaN                  NaN      4.161493     0.000000  \n",
       "43     28/04/2020 23:40:04  05/05/2020 15:48:22     17.465324     6.672431  \n",
       "68     08/05/2020 13:11:19  11/05/2020 13:37:24     11.946354     3.018113  \n",
       "72                     NaN                  NaN     84.982731     0.000000  \n",
       "...                    ...                  ...           ...          ...  \n",
       "16013                  NaN                  NaN      0.962280     0.000000  \n",
       "17171                  NaN                  NaN      5.086933     0.000000  \n",
       "17309                  NaN                  NaN      0.065278     0.000000  \n",
       "17462                  NaN                  NaN      0.159028     0.000000  \n",
       "17470                  NaN                  NaN      9.533171     0.000000  \n",
       "\n",
       "[332 rows x 73 columns]"
      ]
     },
     "execution_count": 158,
     "metadata": {},
     "output_type": "execute_result"
    }
   ],
   "source": [
    "#data = data.drop(['ESTUDO_CHARLSON'], axis=1)\n",
    "need_fill = data[data['ESTUDO_CHARLSON'].isna()]\n",
    "already_charlson = data[data['ESTUDO_CHARLSON'].notna()]\n",
    "already_charlson"
   ]
  },
  {
   "cell_type": "code",
   "execution_count": 159,
   "id": "committed-casting",
   "metadata": {},
   "outputs": [
    {
     "data": {
      "text/plain": [
       "0        1.0\n",
       "1        5.0\n",
       "2        1.0\n",
       "3        2.0\n",
       "4        2.0\n",
       "        ... \n",
       "27699    0.0\n",
       "27700    0.0\n",
       "27701    0.0\n",
       "27702    0.0\n",
       "27703    0.0\n",
       "Name: ESTUDO_CHARLSON_x, Length: 27704, dtype: float64"
      ]
     },
     "execution_count": 159,
     "metadata": {},
     "output_type": "execute_result"
    }
   ],
   "source": [
    "charlson_complete = charlson_complete.rename(columns=str.upper)\n",
    "\n",
    "final = pd.concat([already_charlson, need_fill])\n",
    "merged = pd.merge(final, charlson_complete, how='left', on='CD_PACIENTE')\n",
    "\n",
    "merged['ESTUDO_CHARLSON_x'] = merged['ESTUDO_CHARLSON_x'].fillna(merged['ESTUDO_CHARLSON_y'])\n",
    "merged['ESTUDO_CHARLSON_x']"
   ]
  },
  {
   "cell_type": "code",
   "execution_count": 160,
   "id": "individual-flashing",
   "metadata": {},
   "outputs": [
    {
     "data": {
      "image/png": "[encoded data removed]",
      "text/plain": [
       "<Figure size 1440x720 with 1 Axes>"
      ]
     },
     "metadata": {
      "needs_background": "light"
     },
     "output_type": "display_data"
    }
   ],
   "source": [
    "plt.figure(figsize=(20, 10))\n",
    "sns.histplot(merged['ESTUDO_CHARLSON_x'], kde=True)\n",
    "plt.title(\"Charlson Final\")\n",
    "plt.show()"
   ]
  },
  {
   "cell_type": "code",
   "execution_count": 161,
   "id": "secondary-appointment",
   "metadata": {},
   "outputs": [
    {
     "name": "stdout",
     "output_type": "stream",
     "text": [
      "Valores Faltantes:  0\n",
      "0.0     10065\n",
      "2.0      2324\n",
      "1.0      2091\n",
      "3.0      1727\n",
      "4.0      1673\n",
      "5.0        64\n",
      "6.0        31\n",
      "7.0        22\n",
      "10.0        9\n",
      "8.0         6\n",
      "11.0        1\n",
      "9.0         1\n",
      "Name: ESTUDO_CHARLSON, dtype: int64\n",
      "ESTUDO_CHARLSON:  [1.0, 5.0, 2.0, 6.0, 8.0, 4.0, 3.0, 7.0, 9.0, 10.0, 0.0, 11.0]\n"
     ]
    },
    {
     "data": {
      "text/plain": [
       "0"
      ]
     },
     "execution_count": 161,
     "metadata": {},
     "output_type": "execute_result"
    }
   ],
   "source": [
    "data['ESTUDO_CHARLSON'] = merged['ESTUDO_CHARLSON_x']\n",
    "resume('ESTUDO_CHARLSON', data)"
   ]
  },
  {
   "cell_type": "markdown",
   "id": "bulgarian-salem",
   "metadata": {},
   "source": [
    "#### ESTUDO_FR_DIA_COLETA"
   ]
  },
  {
   "cell_type": "code",
   "execution_count": 162,
   "id": "precious-suspension",
   "metadata": {},
   "outputs": [
    {
     "data": {
      "text/plain": [
       "13    2\n",
       "18    2\n",
       "23    2\n",
       "NC    2\n",
       "22    2\n",
       "26    1\n",
       "20    1\n",
       "17    1\n",
       "Name: ESTUDO_FR_DIA_COLETA, dtype: int64"
      ]
     },
     "execution_count": 162,
     "metadata": {},
     "output_type": "execute_result"
    }
   ],
   "source": [
    "data['ESTUDO_FR_DIA_COLETA'].value_counts() #DROP SEM INFO NO DICIONARIO"
   ]
  },
  {
   "cell_type": "code",
   "execution_count": 163,
   "id": "stretch-electricity",
   "metadata": {},
   "outputs": [],
   "source": [
    "data = data.drop(['ESTUDO_FR_DIA_COLETA'], axis=1)"
   ]
  },
  {
   "cell_type": "markdown",
   "id": "general-posting",
   "metadata": {},
   "source": [
    "#### ESTUDO_FC_DIA_COLETA"
   ]
  },
  {
   "cell_type": "code",
   "execution_count": 164,
   "id": "fiscal-harbor",
   "metadata": {},
   "outputs": [],
   "source": [
    "data['ESTUDO_FC_DIA_COLETA'] = data['ESTUDO_FC_DIA_COLETA'].fillna('NI')"
   ]
  },
  {
   "cell_type": "code",
   "execution_count": 165,
   "id": "inclusive-speaker",
   "metadata": {},
   "outputs": [
    {
     "data": {
      "text/plain": [
       "NI       18001\n",
       "105.0        2\n",
       "100.0        2\n",
       "96.0         2\n",
       "82.0         2\n",
       "63.0         2\n",
       "95.0         1\n",
       "66.0         1\n",
       "64.0         1\n",
       "Name: ESTUDO_FC_DIA_COLETA, dtype: int64"
      ]
     },
     "execution_count": 165,
     "metadata": {},
     "output_type": "execute_result"
    }
   ],
   "source": [
    "data['ESTUDO_FC_DIA_COLETA'].value_counts() #DROP SEM INFO NO DICIONARIO"
   ]
  },
  {
   "cell_type": "code",
   "execution_count": 166,
   "id": "destroyed-assembly",
   "metadata": {},
   "outputs": [],
   "source": [
    "data = data.drop(['ESTUDO_FC_DIA_COLETA'], axis=1)"
   ]
  },
  {
   "cell_type": "markdown",
   "id": "growing-diameter",
   "metadata": {},
   "source": [
    "#### ESTUDO_PA_DIA_COLETA"
   ]
  },
  {
   "cell_type": "code",
   "execution_count": 167,
   "id": "agreed-background",
   "metadata": {},
   "outputs": [],
   "source": [
    "data['ESTUDO_PA_DIA_COLETA'] = data['ESTUDO_PA_DIA_COLETA'].fillna('NI')"
   ]
  },
  {
   "cell_type": "code",
   "execution_count": 168,
   "id": "awful-wednesday",
   "metadata": {},
   "outputs": [
    {
     "data": {
      "text/plain": [
       "NI        18001\n",
       "110/80        2\n",
       "156/30        2\n",
       "109/64        2\n",
       "149/77        2\n",
       "109/74        2\n",
       "115/65        1\n",
       "170/90        1\n",
       "120/60        1\n",
       "Name: ESTUDO_PA_DIA_COLETA, dtype: int64"
      ]
     },
     "execution_count": 168,
     "metadata": {},
     "output_type": "execute_result"
    }
   ],
   "source": [
    "data['ESTUDO_PA_DIA_COLETA'].value_counts() #DROP SEM INFO NO DICIONARIO"
   ]
  },
  {
   "cell_type": "code",
   "execution_count": 169,
   "id": "pending-kinase",
   "metadata": {},
   "outputs": [],
   "source": [
    "data = data.drop(['ESTUDO_PA_DIA_COLETA'], axis=1)"
   ]
  },
  {
   "cell_type": "markdown",
   "id": "informed-colors",
   "metadata": {},
   "source": [
    "#### ESTUDO_TEMPERATURA_DIA_COLETA"
   ]
  },
  {
   "cell_type": "code",
   "execution_count": 170,
   "id": "handmade-tours",
   "metadata": {},
   "outputs": [],
   "source": [
    "data['ESTUDO_TEMPERATURA_DIA_COLETA'] = data['ESTUDO_TEMPERATURA_DIA_COLETA'].fillna('NI')"
   ]
  },
  {
   "cell_type": "code",
   "execution_count": 171,
   "id": "serious-tuning",
   "metadata": {},
   "outputs": [
    {
     "data": {
      "text/plain": [
       "NI      18001\n",
       "36,4        4\n",
       "36,8        2\n",
       "36          2\n",
       "36,3        2\n",
       "36,9        1\n",
       "37,3        1\n",
       "37,9        1\n",
       "Name: ESTUDO_TEMPERATURA_DIA_COLETA, dtype: int64"
      ]
     },
     "execution_count": 171,
     "metadata": {},
     "output_type": "execute_result"
    }
   ],
   "source": [
    "data['ESTUDO_TEMPERATURA_DIA_COLETA'].value_counts() #DROP SEM INFO NO DICIONARIO"
   ]
  },
  {
   "cell_type": "code",
   "execution_count": 172,
   "id": "retained-caribbean",
   "metadata": {},
   "outputs": [],
   "source": [
    "data = data.drop(['ESTUDO_TEMPERATURA_DIA_COLETA'], axis=1)"
   ]
  },
  {
   "cell_type": "markdown",
   "id": "presidential-spectacular",
   "metadata": {},
   "source": [
    "#### ESTUDO_SATURACAO_DIA_COLETA"
   ]
  },
  {
   "cell_type": "code",
   "execution_count": 173,
   "id": "incident-jaguar",
   "metadata": {},
   "outputs": [],
   "source": [
    "data['ESTUDO_SATURACAO_DIA_COLETA'] = data['ESTUDO_SATURACAO_DIA_COLETA'].fillna('NI')"
   ]
  },
  {
   "cell_type": "code",
   "execution_count": 174,
   "id": "sonic-venture",
   "metadata": {},
   "outputs": [
    {
     "data": {
      "text/plain": [
       "NI        18003\n",
       "95            4\n",
       "91            2\n",
       "97            2\n",
       "93            2\n",
       "76-88%        1\n",
       "Name: ESTUDO_SATURACAO_DIA_COLETA, dtype: int64"
      ]
     },
     "execution_count": 174,
     "metadata": {},
     "output_type": "execute_result"
    }
   ],
   "source": [
    "data['ESTUDO_SATURACAO_DIA_COLETA'].value_counts() #DROP SEM INFO NO DICIONARIO"
   ]
  },
  {
   "cell_type": "code",
   "execution_count": 175,
   "id": "portuguese-collective",
   "metadata": {},
   "outputs": [],
   "source": [
    "data = data.drop(['ESTUDO_SATURACAO_DIA_COLETA'], axis=1)"
   ]
  },
  {
   "cell_type": "markdown",
   "id": "consistent-recycling",
   "metadata": {},
   "source": [
    "#### ESTUDO_APACHE2"
   ]
  },
  {
   "cell_type": "code",
   "execution_count": 176,
   "id": "vulnerable-subject",
   "metadata": {},
   "outputs": [],
   "source": [
    "data['ESTUDO_APACHE2'] = data['ESTUDO_APACHE2'].fillna('NI')"
   ]
  },
  {
   "cell_type": "code",
   "execution_count": 177,
   "id": "flexible-brass",
   "metadata": {},
   "outputs": [
    {
     "data": {
      "text/plain": [
       "NI    18014\n",
       "Name: ESTUDO_APACHE2, dtype: int64"
      ]
     },
     "execution_count": 177,
     "metadata": {},
     "output_type": "execute_result"
    }
   ],
   "source": [
    "data['ESTUDO_APACHE2'].value_counts() #DROP"
   ]
  },
  {
   "cell_type": "code",
   "execution_count": 178,
   "id": "communist-google",
   "metadata": {},
   "outputs": [],
   "source": [
    "data = data.drop(['ESTUDO_APACHE2'], axis=1)"
   ]
  },
  {
   "cell_type": "markdown",
   "id": "employed-proxy",
   "metadata": {},
   "source": [
    "#### ESTUDO_RISCO"
   ]
  },
  {
   "cell_type": "code",
   "execution_count": 179,
   "id": "variable-mauritius",
   "metadata": {},
   "outputs": [
    {
     "data": {
      "text/plain": [
       "Series([], Name: ESTUDO_RISCO, dtype: int64)"
      ]
     },
     "execution_count": 179,
     "metadata": {},
     "output_type": "execute_result"
    }
   ],
   "source": [
    "data['ESTUDO_RISCO'].value_counts() #DROP SEM INFO NO DICIONARIO"
   ]
  },
  {
   "cell_type": "code",
   "execution_count": 180,
   "id": "worth-services",
   "metadata": {},
   "outputs": [],
   "source": [
    "data = data.drop(['ESTUDO_RISCO'], axis=1)"
   ]
  },
  {
   "cell_type": "markdown",
   "id": "suspended-shoot",
   "metadata": {},
   "source": [
    "#### ESTUDO_TRATAMENTO"
   ]
  },
  {
   "cell_type": "code",
   "execution_count": 181,
   "id": "spectacular-defense",
   "metadata": {},
   "outputs": [
    {
     "data": {
      "text/plain": [
       "D    5\n",
       "N    3\n",
       "Name: ESTUDO_TRATAMENTO, dtype: int64"
      ]
     },
     "execution_count": 181,
     "metadata": {},
     "output_type": "execute_result"
    }
   ],
   "source": [
    "data['ESTUDO_TRATAMENTO'].value_counts() #DROP SEM INFO NO DICIONARIO"
   ]
  },
  {
   "cell_type": "code",
   "execution_count": 182,
   "id": "thermal-recording",
   "metadata": {},
   "outputs": [],
   "source": [
    "data = data.drop(['ESTUDO_TRATAMENTO'], axis=1)"
   ]
  },
  {
   "cell_type": "markdown",
   "id": "exciting-enough",
   "metadata": {},
   "source": [
    "#### ESTUDO_COMORB_PREV_TX_ORG_SOL"
   ]
  },
  {
   "cell_type": "code",
   "execution_count": 183,
   "id": "mature-conservative",
   "metadata": {},
   "outputs": [
    {
     "data": {
      "text/plain": [
       "N    17976\n",
       "S       12\n",
       "Name: ESTUDO_COMORB_PREV_TX_ORG_SOL, dtype: int64"
      ]
     },
     "execution_count": 183,
     "metadata": {},
     "output_type": "execute_result"
    }
   ],
   "source": [
    "data['ESTUDO_COMORB_PREV_TX_ORG_SOL'].value_counts() #DROP SEM INFO NO DICIONARIO"
   ]
  },
  {
   "cell_type": "code",
   "execution_count": 184,
   "id": "wooden-learning",
   "metadata": {},
   "outputs": [],
   "source": [
    "data = data.drop(['ESTUDO_COMORB_PREV_TX_ORG_SOL'], axis=1)"
   ]
  },
  {
   "cell_type": "markdown",
   "id": "worthy-screen",
   "metadata": {},
   "source": [
    "#### ESTUDO_CONDUTA"
   ]
  },
  {
   "cell_type": "code",
   "execution_count": 185,
   "id": "heard-armenia",
   "metadata": {},
   "outputs": [
    {
     "data": {
      "text/plain": [
       "L    17986\n",
       "Name: ESTUDO_CONDUTA, dtype: int64"
      ]
     },
     "execution_count": 185,
     "metadata": {},
     "output_type": "execute_result"
    }
   ],
   "source": [
    "data['ESTUDO_CONDUTA'].value_counts() #DROP SEM INFO NO DICIONARIO"
   ]
  },
  {
   "cell_type": "code",
   "execution_count": 186,
   "id": "former-advance",
   "metadata": {},
   "outputs": [],
   "source": [
    "data = data.drop(['ESTUDO_CONDUTA'], axis=1)"
   ]
  },
  {
   "cell_type": "markdown",
   "id": "completed-purse",
   "metadata": {},
   "source": [
    "#### ESTUDO_LOCAL_CONTAMINACAO"
   ]
  },
  {
   "cell_type": "code",
   "execution_count": 187,
   "id": "constitutional-index",
   "metadata": {},
   "outputs": [],
   "source": [
    "data['ESTUDO_LOCAL_CONTAMINACAO'] = data['ESTUDO_LOCAL_CONTAMINACAO'].fillna('NI')"
   ]
  },
  {
   "cell_type": "code",
   "execution_count": 188,
   "id": "excessive-cambridge",
   "metadata": {},
   "outputs": [
    {
     "data": {
      "text/plain": [
       "NI                                  17131\n",
       "EXTERNO                               534\n",
       "HSL                                   166\n",
       "UNIDADE DE INTERNACAO HSL             113\n",
       "OUTRA INSTITUIÇÃO DE SAÚDE             38\n",
       "DESCONHECIDO                           27\n",
       "INSTITUIÇÃO DE LONGA PERMANÊNCIA        4\n",
       "OUTRA INSTITUICAO DE SAUDE              1\n",
       "Name: ESTUDO_LOCAL_CONTAMINACAO, dtype: int64"
      ]
     },
     "execution_count": 188,
     "metadata": {},
     "output_type": "execute_result"
    }
   ],
   "source": [
    "data['ESTUDO_LOCAL_CONTAMINACAO'].value_counts()"
   ]
  },
  {
   "cell_type": "code",
   "execution_count": 189,
   "id": "comparable-amplifier",
   "metadata": {},
   "outputs": [],
   "source": [
    "keys = data['ESTUDO_LOCAL_CONTAMINACAO'].value_counts().keys().tolist()"
   ]
  },
  {
   "cell_type": "code",
   "execution_count": 190,
   "id": "stunning-wrestling",
   "metadata": {},
   "outputs": [],
   "source": [
    "dictToReplace = __getDictToReplace(keys)"
   ]
  },
  {
   "cell_type": "code",
   "execution_count": 191,
   "id": "alone-russian",
   "metadata": {},
   "outputs": [
    {
     "data": {
      "text/plain": [
       "{'NI': 1,\n",
       " 'EXTERNO': 2,\n",
       " 'HSL': 3,\n",
       " 'UNIDADE DE INTERNACAO HSL': 4,\n",
       " 'OUTRA INSTITUIÇÃO DE SAÚDE': 5,\n",
       " 'DESCONHECIDO': 6,\n",
       " 'INSTITUIÇÃO DE LONGA PERMANÊNCIA': 7,\n",
       " 'OUTRA INSTITUICAO DE SAUDE': 8}"
      ]
     },
     "execution_count": 191,
     "metadata": {},
     "output_type": "execute_result"
    }
   ],
   "source": [
    "dictToReplace"
   ]
  },
  {
   "cell_type": "code",
   "execution_count": 192,
   "id": "unique-marker",
   "metadata": {},
   "outputs": [],
   "source": [
    "data['ESTUDO_LOCAL_CONTAMINACAO'] = data['ESTUDO_LOCAL_CONTAMINACAO'].replace(dictToReplace)"
   ]
  },
  {
   "cell_type": "markdown",
   "id": "egyptian-section",
   "metadata": {},
   "source": [
    "#### ESTUDO_LOCAL_CONTAM_UI"
   ]
  },
  {
   "cell_type": "code",
   "execution_count": 193,
   "id": "increasing-attendance",
   "metadata": {},
   "outputs": [],
   "source": [
    "data['ESTUDO_LOCAL_CONTAM_UI'] = data['ESTUDO_LOCAL_CONTAM_UI'].fillna('NI')"
   ]
  },
  {
   "cell_type": "code",
   "execution_count": 194,
   "id": "spatial-indicator",
   "metadata": {},
   "outputs": [
    {
     "data": {
      "text/plain": [
       "NI      17892\n",
       "15.0       36\n",
       "13.0       19\n",
       "12.0       17\n",
       "19.0       10\n",
       "18.0        8\n",
       "14.0        7\n",
       "9.0         7\n",
       "8.0         6\n",
       "16.0        5\n",
       "6.0         5\n",
       "17.0        1\n",
       "5.0         1\n",
       "Name: ESTUDO_LOCAL_CONTAM_UI, dtype: int64"
      ]
     },
     "execution_count": 194,
     "metadata": {},
     "output_type": "execute_result"
    }
   ],
   "source": [
    "data['ESTUDO_LOCAL_CONTAM_UI'].value_counts()"
   ]
  },
  {
   "cell_type": "code",
   "execution_count": 195,
   "id": "opponent-checklist",
   "metadata": {},
   "outputs": [],
   "source": [
    "data['ESTUDO_LOCAL_CONTAM_UI'] = data['ESTUDO_LOCAL_CONTAM_UI'].replace({'NI': 2})"
   ]
  },
  {
   "cell_type": "markdown",
   "id": "terminal-commonwealth",
   "metadata": {},
   "source": [
    "#### ESTUDO_DT_DESFECHO"
   ]
  },
  {
   "cell_type": "code",
   "execution_count": 196,
   "id": "literary-flood",
   "metadata": {},
   "outputs": [
    {
     "data": {
      "text/plain": [
       "26/08/2020    2\n",
       "17/08/2020    2\n",
       "22/09/2020    2\n",
       "01/09/2020    2\n",
       "23/09/2020    2\n",
       "20/10/2020    1\n",
       "18/11/2020    1\n",
       "15/08/2020    1\n",
       "Name: ESTUDO_DT_DESFECHO, dtype: int64"
      ]
     },
     "execution_count": 196,
     "metadata": {},
     "output_type": "execute_result"
    }
   ],
   "source": [
    "data['ESTUDO_DT_DESFECHO'].value_counts() #DROP"
   ]
  },
  {
   "cell_type": "code",
   "execution_count": 197,
   "id": "printable-sword",
   "metadata": {},
   "outputs": [],
   "source": [
    "data = data.drop(['ESTUDO_DT_DESFECHO'], axis=1)"
   ]
  },
  {
   "cell_type": "markdown",
   "id": "vertical-competition",
   "metadata": {},
   "source": [
    "#### ESTUDO_COMORB_PREV_DESCON"
   ]
  },
  {
   "cell_type": "code",
   "execution_count": 198,
   "id": "every-awareness",
   "metadata": {},
   "outputs": [
    {
     "data": {
      "text/plain": [
       "N    17976\n",
       "S       12\n",
       "Name: ESTUDO_COMORB_PREV_DESCON, dtype: int64"
      ]
     },
     "execution_count": 198,
     "metadata": {},
     "output_type": "execute_result"
    }
   ],
   "source": [
    "data['ESTUDO_COMORB_PREV_DESCON'].value_counts() #DROP"
   ]
  },
  {
   "cell_type": "code",
   "execution_count": 199,
   "id": "special-defensive",
   "metadata": {},
   "outputs": [],
   "source": [
    "data = data.drop(['ESTUDO_COMORB_PREV_DESCON'], axis=1)"
   ]
  },
  {
   "cell_type": "markdown",
   "id": "addressed-woman",
   "metadata": {},
   "source": [
    "#### ESTUDO_COMORB_PREV_DVP"
   ]
  },
  {
   "cell_type": "code",
   "execution_count": 200,
   "id": "knowing-highlight",
   "metadata": {},
   "outputs": [
    {
     "data": {
      "text/plain": [
       "N    17985\n",
       "S        3\n",
       "Name: ESTUDO_COMORB_PREV_DVP, dtype: int64"
      ]
     },
     "execution_count": 200,
     "metadata": {},
     "output_type": "execute_result"
    }
   ],
   "source": [
    "data['ESTUDO_COMORB_PREV_DVP'].value_counts() #DROP"
   ]
  },
  {
   "cell_type": "code",
   "execution_count": 201,
   "id": "molecular-saturn",
   "metadata": {},
   "outputs": [],
   "source": [
    "data = data.drop(['ESTUDO_COMORB_PREV_DVP'], axis=1)"
   ]
  },
  {
   "cell_type": "markdown",
   "id": "statutory-pittsburgh",
   "metadata": {},
   "source": [
    "#### ESTUDO_COMORB_PREV_DEMENCIA"
   ]
  },
  {
   "cell_type": "code",
   "execution_count": 202,
   "id": "exciting-kenya",
   "metadata": {},
   "outputs": [],
   "source": [
    "data['ESTUDO_COMORB_PREV_DEMENCIA'] = data['ESTUDO_COMORB_PREV_DEMENCIA'].fillna('NI')"
   ]
  },
  {
   "cell_type": "code",
   "execution_count": 203,
   "id": "leading-digest",
   "metadata": {},
   "outputs": [
    {
     "data": {
      "text/plain": [
       "N     17977\n",
       "NI       26\n",
       "S        11\n",
       "Name: ESTUDO_COMORB_PREV_DEMENCIA, dtype: int64"
      ]
     },
     "execution_count": 203,
     "metadata": {},
     "output_type": "execute_result"
    }
   ],
   "source": [
    "data['ESTUDO_COMORB_PREV_DEMENCIA'].value_counts()"
   ]
  },
  {
   "cell_type": "code",
   "execution_count": 204,
   "id": "painful-marathon",
   "metadata": {},
   "outputs": [],
   "source": [
    "data['ESTUDO_COMORB_PREV_DEMENCIA'] = data['ESTUDO_COMORB_PREV_DEMENCIA'].replace({'S': 1, 'N': 0, 'NI': 2})"
   ]
  },
  {
   "cell_type": "markdown",
   "id": "disciplinary-geology",
   "metadata": {},
   "source": [
    "#### ESTUDO_COMORB_PREV_DTC"
   ]
  },
  {
   "cell_type": "code",
   "execution_count": 205,
   "id": "sealed-progressive",
   "metadata": {},
   "outputs": [
    {
     "data": {
      "text/plain": [
       "N    17988\n",
       "Name: ESTUDO_COMORB_PREV_DTC, dtype: int64"
      ]
     },
     "execution_count": 205,
     "metadata": {},
     "output_type": "execute_result"
    }
   ],
   "source": [
    "data['ESTUDO_COMORB_PREV_DTC'].value_counts() #DROP"
   ]
  },
  {
   "cell_type": "code",
   "execution_count": 206,
   "id": "paperback-sullivan",
   "metadata": {},
   "outputs": [],
   "source": [
    "data = data.drop(['ESTUDO_COMORB_PREV_DTC'], axis=1)"
   ]
  },
  {
   "cell_type": "markdown",
   "id": "liked-anatomy",
   "metadata": {},
   "source": [
    "#### ESTUDO_COMORB_PREV_UP"
   ]
  },
  {
   "cell_type": "code",
   "execution_count": 207,
   "id": "metallic-reverse",
   "metadata": {},
   "outputs": [
    {
     "data": {
      "text/plain": [
       "N    17986\n",
       "S        2\n",
       "Name: ESTUDO_COMORB_PREV_UP, dtype: int64"
      ]
     },
     "execution_count": 207,
     "metadata": {},
     "output_type": "execute_result"
    }
   ],
   "source": [
    "data['ESTUDO_COMORB_PREV_UP'].value_counts() #DROP SEM INFO NO DICIONARIO"
   ]
  },
  {
   "cell_type": "code",
   "execution_count": 208,
   "id": "pediatric-engagement",
   "metadata": {},
   "outputs": [],
   "source": [
    "data = data.drop(['ESTUDO_COMORB_PREV_UP'], axis=1)"
   ]
  },
  {
   "cell_type": "markdown",
   "id": "precise-appendix",
   "metadata": {},
   "source": [
    "#### ESTUDO_COMORB_PREV_DFL"
   ]
  },
  {
   "cell_type": "code",
   "execution_count": 209,
   "id": "bronze-column",
   "metadata": {},
   "outputs": [
    {
     "data": {
      "text/plain": [
       "N    17988\n",
       "Name: ESTUDO_COMORB_PREV_DFL, dtype: int64"
      ]
     },
     "execution_count": 209,
     "metadata": {},
     "output_type": "execute_result"
    }
   ],
   "source": [
    "data['ESTUDO_COMORB_PREV_DFL'].value_counts() #DROP SEM INFO NO DICIONARIO"
   ]
  },
  {
   "cell_type": "code",
   "execution_count": 210,
   "id": "common-drink",
   "metadata": {},
   "outputs": [],
   "source": [
    "data = data.drop(['ESTUDO_COMORB_PREV_DFL'], axis=1)"
   ]
  },
  {
   "cell_type": "markdown",
   "id": "hired-setting",
   "metadata": {},
   "source": [
    "#### ESTUDO_COMORB_PREV_DFM"
   ]
  },
  {
   "cell_type": "code",
   "execution_count": 211,
   "id": "regular-asthma",
   "metadata": {},
   "outputs": [],
   "source": [
    "data['ESTUDO_COMORB_PREV_DFM'] = data['ESTUDO_COMORB_PREV_DFM'].fillna('NI')"
   ]
  },
  {
   "cell_type": "code",
   "execution_count": 212,
   "id": "chronic-market",
   "metadata": {},
   "outputs": [
    {
     "data": {
      "text/plain": [
       "N     17973\n",
       "NI       26\n",
       "S        15\n",
       "Name: ESTUDO_COMORB_PREV_DFM, dtype: int64"
      ]
     },
     "execution_count": 212,
     "metadata": {},
     "output_type": "execute_result"
    }
   ],
   "source": [
    "data['ESTUDO_COMORB_PREV_DFM'].value_counts()"
   ]
  },
  {
   "cell_type": "code",
   "execution_count": 213,
   "id": "looking-nomination",
   "metadata": {},
   "outputs": [],
   "source": [
    "data['ESTUDO_COMORB_PREV_DFM'] = data['ESTUDO_COMORB_PREV_DFM'].replace({'S': 1, 'N': 0, 'NI': 2})"
   ]
  },
  {
   "cell_type": "markdown",
   "id": "legendary-morrison",
   "metadata": {},
   "source": [
    "#### ESTUDO_COMORB_PREV_HEMIPLEGIA"
   ]
  },
  {
   "cell_type": "code",
   "execution_count": 214,
   "id": "typical-fundamentals",
   "metadata": {},
   "outputs": [
    {
     "data": {
      "text/plain": [
       "N    17988\n",
       "Name: ESTUDO_COMORB_PREV_HEMIPLEGIA, dtype: int64"
      ]
     },
     "execution_count": 214,
     "metadata": {},
     "output_type": "execute_result"
    }
   ],
   "source": [
    "data['ESTUDO_COMORB_PREV_HEMIPLEGIA'].value_counts() #DROP"
   ]
  },
  {
   "cell_type": "code",
   "execution_count": 215,
   "id": "positive-puzzle",
   "metadata": {},
   "outputs": [],
   "source": [
    "data = data.drop(['ESTUDO_COMORB_PREV_HEMIPLEGIA'], axis=1)"
   ]
  },
  {
   "cell_type": "markdown",
   "id": "behavioral-offset",
   "metadata": {},
   "source": [
    "#### ESTUDO_COMORB_PREV_LEUCEMIA',"
   ]
  },
  {
   "cell_type": "code",
   "execution_count": 216,
   "id": "promising-fitness",
   "metadata": {},
   "outputs": [],
   "source": [
    "data['ESTUDO_COMORB_PREV_LEUCEMIA'] = data['ESTUDO_COMORB_PREV_LEUCEMIA'].fillna('NI')"
   ]
  },
  {
   "cell_type": "code",
   "execution_count": 217,
   "id": "cloudy-distinction",
   "metadata": {},
   "outputs": [
    {
     "data": {
      "text/plain": [
       "N     17981\n",
       "NI       26\n",
       "S         7\n",
       "Name: ESTUDO_COMORB_PREV_LEUCEMIA, dtype: int64"
      ]
     },
     "execution_count": 217,
     "metadata": {},
     "output_type": "execute_result"
    }
   ],
   "source": [
    "data['ESTUDO_COMORB_PREV_LEUCEMIA'].value_counts()"
   ]
  },
  {
   "cell_type": "code",
   "execution_count": 218,
   "id": "transparent-colon",
   "metadata": {},
   "outputs": [],
   "source": [
    "data['ESTUDO_COMORB_PREV_LEUCEMIA'] = data['ESTUDO_COMORB_PREV_LEUCEMIA'].replace({'S': 1, 'N': 0, 'NI': 2})"
   ]
  },
  {
   "cell_type": "markdown",
   "id": "still-killing",
   "metadata": {},
   "source": [
    "#### ESTUDO_COMORB_PREV_HIV"
   ]
  },
  {
   "cell_type": "code",
   "execution_count": 219,
   "id": "human-mayor",
   "metadata": {},
   "outputs": [],
   "source": [
    "data['ESTUDO_COMORB_PREV_HIV'] = data['ESTUDO_COMORB_PREV_HIV'].fillna('NI')"
   ]
  },
  {
   "cell_type": "code",
   "execution_count": 220,
   "id": "sound-surveillance",
   "metadata": {},
   "outputs": [
    {
     "data": {
      "text/plain": [
       "N     17983\n",
       "NI       26\n",
       "S         5\n",
       "Name: ESTUDO_COMORB_PREV_HIV, dtype: int64"
      ]
     },
     "execution_count": 220,
     "metadata": {},
     "output_type": "execute_result"
    }
   ],
   "source": [
    "data['ESTUDO_COMORB_PREV_HIV'].value_counts()"
   ]
  },
  {
   "cell_type": "code",
   "execution_count": 221,
   "id": "extra-registrar",
   "metadata": {},
   "outputs": [],
   "source": [
    "data['ESTUDO_COMORB_PREV_HIV'] = data['ESTUDO_COMORB_PREV_HIV'].replace({'S': 1, 'N': 0, 'NI': 2})"
   ]
  },
  {
   "cell_type": "markdown",
   "id": "unlimited-specification",
   "metadata": {},
   "source": [
    "#### ESTUDO_COMORB_PREV_TUL"
   ]
  },
  {
   "cell_type": "code",
   "execution_count": 222,
   "id": "digital-thought",
   "metadata": {},
   "outputs": [],
   "source": [
    "data['ESTUDO_COMORB_PREV_TUL'] = data['ESTUDO_COMORB_PREV_TUL'].fillna('NI')"
   ]
  },
  {
   "cell_type": "code",
   "execution_count": 223,
   "id": "mysterious-loading",
   "metadata": {},
   "outputs": [
    {
     "data": {
      "text/plain": [
       "N     17957\n",
       "S        31\n",
       "NI       26\n",
       "Name: ESTUDO_COMORB_PREV_TUL, dtype: int64"
      ]
     },
     "execution_count": 223,
     "metadata": {},
     "output_type": "execute_result"
    }
   ],
   "source": [
    "data['ESTUDO_COMORB_PREV_TUL'].value_counts()"
   ]
  },
  {
   "cell_type": "code",
   "execution_count": 224,
   "id": "danish-norway",
   "metadata": {},
   "outputs": [],
   "source": [
    "data['ESTUDO_COMORB_PREV_TUL'] = data['ESTUDO_COMORB_PREV_TUL'].replace({'S': 1, 'N': 0, 'NI': 2})"
   ]
  },
  {
   "cell_type": "markdown",
   "id": "satellite-warrant",
   "metadata": {},
   "source": [
    "#### ESTUDO_COMORB_PREV_TUM"
   ]
  },
  {
   "cell_type": "code",
   "execution_count": 225,
   "id": "piano-bridge",
   "metadata": {},
   "outputs": [
    {
     "data": {
      "text/plain": [
       "N    17976\n",
       "S       12\n",
       "Name: ESTUDO_COMORB_PREV_TUM, dtype: int64"
      ]
     },
     "execution_count": 225,
     "metadata": {},
     "output_type": "execute_result"
    }
   ],
   "source": [
    "data['ESTUDO_COMORB_PREV_TUM'].value_counts() #DROP SEM INFO NO DICIONARIO"
   ]
  },
  {
   "cell_type": "code",
   "execution_count": 226,
   "id": "liberal-snake",
   "metadata": {},
   "outputs": [],
   "source": [
    "data = data.drop(['ESTUDO_COMORB_PREV_TUM'], axis=1)"
   ]
  },
  {
   "cell_type": "markdown",
   "id": "boxed-governor",
   "metadata": {},
   "source": [
    "#### STATUS_COVID_FROM_UTI"
   ]
  },
  {
   "cell_type": "code",
   "execution_count": 253,
   "id": "distributed-allah",
   "metadata": {},
   "outputs": [
    {
     "data": {
      "text/plain": [
       "NEGATIVOS      848\n",
       "CONFIRMADOS    450\n",
       "SUSPEITOS       11\n",
       "Name: STATUS_COVID_FROM_UTI, dtype: int64"
      ]
     },
     "execution_count": 253,
     "metadata": {},
     "output_type": "execute_result"
    }
   ],
   "source": [
    "data['STATUS_COVID_FROM_UTI'].value_counts()"
   ]
  },
  {
   "cell_type": "code",
   "execution_count": 259,
   "id": "romance-privilege",
   "metadata": {},
   "outputs": [],
   "source": [
    "data = data.drop(['STATUS_COVID_FROM_UTI'], axis=1)"
   ]
  },
  {
   "cell_type": "markdown",
   "id": "extended-slide",
   "metadata": {},
   "source": [
    "#### DTHR_LEITO"
   ]
  },
  {
   "cell_type": "code",
   "execution_count": 261,
   "id": "sized-participant",
   "metadata": {},
   "outputs": [
    {
     "data": {
      "text/plain": [
       "19/08/2020 17:21:30    1\n",
       "04/03/2021 18:39:08    1\n",
       "11/12/2020 14:48:16    1\n",
       "16/06/2020 23:24:45    1\n",
       "19/01/2021 09:46:55    1\n",
       "                      ..\n",
       "17/06/2020 13:00:09    1\n",
       "15/01/2021 19:54:56    1\n",
       "26/09/2020 19:18:14    1\n",
       "29/07/2020 16:43:38    1\n",
       "12/07/2020 17:23:02    1\n",
       "Name: DTHR_LEITO, Length: 155, dtype: int64"
      ]
     },
     "execution_count": 261,
     "metadata": {},
     "output_type": "execute_result"
    }
   ],
   "source": [
    "data['DTHR_LEITO'].value_counts() #DROP"
   ]
  },
  {
   "cell_type": "code",
   "execution_count": 262,
   "id": "secondary-spine",
   "metadata": {},
   "outputs": [],
   "source": [
    "data = data.drop(['DTHR_LEITO'], axis=1)"
   ]
  },
  {
   "cell_type": "markdown",
   "id": "swiss-rebecca",
   "metadata": {},
   "source": [
    "#### DATA_HORA_ENTRADA"
   ]
  },
  {
   "cell_type": "code",
   "execution_count": 263,
   "id": "important-latino",
   "metadata": {},
   "outputs": [
    {
     "data": {
      "text/plain": [
       "2020-11-14 19:52:42    1\n",
       "2020-11-10 00:47:45    1\n",
       "2020-11-30 13:28:15    1\n",
       "2020-11-26 01:06:41    1\n",
       "2020-11-20 22:24:53    1\n",
       "                      ..\n",
       "2020-08-30 18:15:50    1\n",
       "2020-08-14 13:29:36    1\n",
       "2020-07-02 16:20:53    1\n",
       "2020-09-24 14:11:07    1\n",
       "2020-08-07 20:35:49    1\n",
       "Name: DATA_HORA_ENTRADA, Length: 1309, dtype: int64"
      ]
     },
     "execution_count": 263,
     "metadata": {},
     "output_type": "execute_result"
    }
   ],
   "source": [
    "data['DATA_HORA_ENTRADA'].value_counts() #DROP"
   ]
  },
  {
   "cell_type": "code",
   "execution_count": 264,
   "id": "independent-richmond",
   "metadata": {},
   "outputs": [],
   "source": [
    "data = data.drop(['DATA_HORA_ENTRADA'], axis=1)"
   ]
  },
  {
   "cell_type": "markdown",
   "id": "stock-celebrity",
   "metadata": {},
   "source": [
    "#### REENTRADA"
   ]
  },
  {
   "cell_type": "code",
   "execution_count": 265,
   "id": "fantastic-copyright",
   "metadata": {},
   "outputs": [
    {
     "data": {
      "text/plain": [
       "0.0    1154\n",
       "1.0     134\n",
       "2.0      17\n",
       "4.0       2\n",
       "3.0       2\n",
       "Name: REENTRADA, dtype: int64"
      ]
     },
     "execution_count": 265,
     "metadata": {},
     "output_type": "execute_result"
    }
   ],
   "source": [
    "data['REENTRADA'].value_counts()"
   ]
  },
  {
   "cell_type": "code",
   "execution_count": 266,
   "id": "lucky-elder",
   "metadata": {},
   "outputs": [],
   "source": [
    "#keys = data['REENTRADA'].value_counts().keys().tolist()"
   ]
  },
  {
   "cell_type": "code",
   "execution_count": 267,
   "id": "experimental-review",
   "metadata": {},
   "outputs": [],
   "source": [
    "#dictToReplace = __getDictToReplace(keys)"
   ]
  },
  {
   "cell_type": "code",
   "execution_count": 268,
   "id": "technological-headline",
   "metadata": {},
   "outputs": [
    {
     "data": {
      "text/plain": [
       "{0.0: 1, 1.0: 2, 2.0: 3, 4.0: 4, 3.0: 5}"
      ]
     },
     "execution_count": 268,
     "metadata": {},
     "output_type": "execute_result"
    }
   ],
   "source": [
    "#dictToReplace"
   ]
  },
  {
   "cell_type": "code",
   "execution_count": 269,
   "id": "informative-external",
   "metadata": {},
   "outputs": [],
   "source": [
    "#data['REENTRADA'] = data['REENTRADA'].replace(dictToReplace)"
   ]
  },
  {
   "cell_type": "code",
   "execution_count": 275,
   "id": "dramatic-harbor",
   "metadata": {},
   "outputs": [],
   "source": [
    "data = data.drop(['REENTRADA'], axis=1)"
   ]
  },
  {
   "cell_type": "markdown",
   "id": "pressing-breach",
   "metadata": {},
   "source": [
    "#### CD_ATENDIMENTO.1"
   ]
  },
  {
   "cell_type": "code",
   "execution_count": 271,
   "id": "photographic-strength",
   "metadata": {},
   "outputs": [],
   "source": [
    "#data['CD_ATENDIMENTO.1'].value_counts() #DROP"
   ]
  },
  {
   "cell_type": "code",
   "execution_count": 272,
   "id": "generic-microphone",
   "metadata": {},
   "outputs": [],
   "source": [
    "#data = data.drop(['CD_ATENDIMENTO.1'], axis=1)"
   ]
  },
  {
   "cell_type": "markdown",
   "id": "collective-burns",
   "metadata": {},
   "source": [
    "#### DTHR_UTI_IN"
   ]
  },
  {
   "cell_type": "code",
   "execution_count": 273,
   "id": "beautiful-holly",
   "metadata": {
    "scrolled": true
   },
   "outputs": [
    {
     "ename": "KeyError",
     "evalue": "'DTHR_IN_UTI'",
     "output_type": "error",
     "traceback": [
      "\u001b[0;31m---------------------------------------------------------------------------\u001b[0m",
      "\u001b[0;31mKeyError\u001b[0m                                  Traceback (most recent call last)",
      "\u001b[0;32m~/opt/anaconda3/envs/edaML/lib/python3.6/site-packages/pandas/core/indexes/base.py\u001b[0m in \u001b[0;36mget_loc\u001b[0;34m(self, key, method, tolerance)\u001b[0m\n\u001b[1;32m   2894\u001b[0m             \u001b[0;32mtry\u001b[0m\u001b[0;34m:\u001b[0m\u001b[0;34m\u001b[0m\u001b[0;34m\u001b[0m\u001b[0m\n\u001b[0;32m-> 2895\u001b[0;31m                 \u001b[0;32mreturn\u001b[0m \u001b[0mself\u001b[0m\u001b[0;34m.\u001b[0m\u001b[0m_engine\u001b[0m\u001b[0;34m.\u001b[0m\u001b[0mget_loc\u001b[0m\u001b[0;34m(\u001b[0m\u001b[0mcasted_key\u001b[0m\u001b[0;34m)\u001b[0m\u001b[0;34m\u001b[0m\u001b[0;34m\u001b[0m\u001b[0m\n\u001b[0m\u001b[1;32m   2896\u001b[0m             \u001b[0;32mexcept\u001b[0m \u001b[0mKeyError\u001b[0m \u001b[0;32mas\u001b[0m \u001b[0merr\u001b[0m\u001b[0;34m:\u001b[0m\u001b[0;34m\u001b[0m\u001b[0;34m\u001b[0m\u001b[0m\n",
      "\u001b[0;32mpandas/_libs/index.pyx\u001b[0m in \u001b[0;36mpandas._libs.index.IndexEngine.get_loc\u001b[0;34m()\u001b[0m\n",
      "\u001b[0;32mpandas/_libs/index.pyx\u001b[0m in \u001b[0;36mpandas._libs.index.IndexEngine.get_loc\u001b[0;34m()\u001b[0m\n",
      "\u001b[0;32mpandas/_libs/hashtable_class_helper.pxi\u001b[0m in \u001b[0;36mpandas._libs.hashtable.PyObjectHashTable.get_item\u001b[0;34m()\u001b[0m\n",
      "\u001b[0;32mpandas/_libs/hashtable_class_helper.pxi\u001b[0m in \u001b[0;36mpandas._libs.hashtable.PyObjectHashTable.get_item\u001b[0;34m()\u001b[0m\n",
      "\u001b[0;31mKeyError\u001b[0m: 'DTHR_IN_UTI'",
      "\nThe above exception was the direct cause of the following exception:\n",
      "\u001b[0;31mKeyError\u001b[0m                                  Traceback (most recent call last)",
      "\u001b[0;32m<ipython-input-273-4d93177fae5b>\u001b[0m in \u001b[0;36m<module>\u001b[0;34m\u001b[0m\n\u001b[0;32m----> 1\u001b[0;31m \u001b[0mdata\u001b[0m\u001b[0;34m[\u001b[0m\u001b[0;34m'DTHR_IN_UTI'\u001b[0m\u001b[0;34m]\u001b[0m\u001b[0;34m.\u001b[0m\u001b[0mvalue_counts\u001b[0m\u001b[0;34m(\u001b[0m\u001b[0;34m)\u001b[0m \u001b[0;31m#DROP\u001b[0m\u001b[0;34m\u001b[0m\u001b[0;34m\u001b[0m\u001b[0m\n\u001b[0m",
      "\u001b[0;32m~/opt/anaconda3/envs/edaML/lib/python3.6/site-packages/pandas/core/frame.py\u001b[0m in \u001b[0;36m__getitem__\u001b[0;34m(self, key)\u001b[0m\n\u001b[1;32m   2900\u001b[0m             \u001b[0;32mif\u001b[0m \u001b[0mself\u001b[0m\u001b[0;34m.\u001b[0m\u001b[0mcolumns\u001b[0m\u001b[0;34m.\u001b[0m\u001b[0mnlevels\u001b[0m \u001b[0;34m>\u001b[0m \u001b[0;36m1\u001b[0m\u001b[0;34m:\u001b[0m\u001b[0;34m\u001b[0m\u001b[0;34m\u001b[0m\u001b[0m\n\u001b[1;32m   2901\u001b[0m                 \u001b[0;32mreturn\u001b[0m \u001b[0mself\u001b[0m\u001b[0;34m.\u001b[0m\u001b[0m_getitem_multilevel\u001b[0m\u001b[0;34m(\u001b[0m\u001b[0mkey\u001b[0m\u001b[0;34m)\u001b[0m\u001b[0;34m\u001b[0m\u001b[0;34m\u001b[0m\u001b[0m\n\u001b[0;32m-> 2902\u001b[0;31m             \u001b[0mindexer\u001b[0m \u001b[0;34m=\u001b[0m \u001b[0mself\u001b[0m\u001b[0;34m.\u001b[0m\u001b[0mcolumns\u001b[0m\u001b[0;34m.\u001b[0m\u001b[0mget_loc\u001b[0m\u001b[0;34m(\u001b[0m\u001b[0mkey\u001b[0m\u001b[0;34m)\u001b[0m\u001b[0;34m\u001b[0m\u001b[0;34m\u001b[0m\u001b[0m\n\u001b[0m\u001b[1;32m   2903\u001b[0m             \u001b[0;32mif\u001b[0m \u001b[0mis_integer\u001b[0m\u001b[0;34m(\u001b[0m\u001b[0mindexer\u001b[0m\u001b[0;34m)\u001b[0m\u001b[0;34m:\u001b[0m\u001b[0;34m\u001b[0m\u001b[0;34m\u001b[0m\u001b[0m\n\u001b[1;32m   2904\u001b[0m                 \u001b[0mindexer\u001b[0m \u001b[0;34m=\u001b[0m \u001b[0;34m[\u001b[0m\u001b[0mindexer\u001b[0m\u001b[0;34m]\u001b[0m\u001b[0;34m\u001b[0m\u001b[0;34m\u001b[0m\u001b[0m\n",
      "\u001b[0;32m~/opt/anaconda3/envs/edaML/lib/python3.6/site-packages/pandas/core/indexes/base.py\u001b[0m in \u001b[0;36mget_loc\u001b[0;34m(self, key, method, tolerance)\u001b[0m\n\u001b[1;32m   2895\u001b[0m                 \u001b[0;32mreturn\u001b[0m \u001b[0mself\u001b[0m\u001b[0;34m.\u001b[0m\u001b[0m_engine\u001b[0m\u001b[0;34m.\u001b[0m\u001b[0mget_loc\u001b[0m\u001b[0;34m(\u001b[0m\u001b[0mcasted_key\u001b[0m\u001b[0;34m)\u001b[0m\u001b[0;34m\u001b[0m\u001b[0;34m\u001b[0m\u001b[0m\n\u001b[1;32m   2896\u001b[0m             \u001b[0;32mexcept\u001b[0m \u001b[0mKeyError\u001b[0m \u001b[0;32mas\u001b[0m \u001b[0merr\u001b[0m\u001b[0;34m:\u001b[0m\u001b[0;34m\u001b[0m\u001b[0;34m\u001b[0m\u001b[0m\n\u001b[0;32m-> 2897\u001b[0;31m                 \u001b[0;32mraise\u001b[0m \u001b[0mKeyError\u001b[0m\u001b[0;34m(\u001b[0m\u001b[0mkey\u001b[0m\u001b[0;34m)\u001b[0m \u001b[0;32mfrom\u001b[0m \u001b[0merr\u001b[0m\u001b[0;34m\u001b[0m\u001b[0;34m\u001b[0m\u001b[0m\n\u001b[0m\u001b[1;32m   2898\u001b[0m \u001b[0;34m\u001b[0m\u001b[0m\n\u001b[1;32m   2899\u001b[0m         \u001b[0;32mif\u001b[0m \u001b[0mtolerance\u001b[0m \u001b[0;32mis\u001b[0m \u001b[0;32mnot\u001b[0m \u001b[0;32mNone\u001b[0m\u001b[0;34m:\u001b[0m\u001b[0;34m\u001b[0m\u001b[0;34m\u001b[0m\u001b[0m\n",
      "\u001b[0;31mKeyError\u001b[0m: 'DTHR_IN_UTI'"
     ]
    }
   ],
   "source": [
    "data['DTHR_IN_UTI'].value_counts() #DROP"
   ]
  },
  {
   "cell_type": "code",
   "execution_count": 248,
   "id": "effective-mandate",
   "metadata": {},
   "outputs": [],
   "source": [
    "data = data.drop(['DTHR_IN_UTI'], axis=1)"
   ]
  },
  {
   "cell_type": "markdown",
   "id": "killing-judges",
   "metadata": {},
   "source": [
    "#### DTHR_UTI_OUT"
   ]
  },
  {
   "cell_type": "code",
   "execution_count": 245,
   "id": "administrative-illness",
   "metadata": {},
   "outputs": [
    {
     "data": {
      "text/plain": [
       "13/01/2021 18:02:08    1\n",
       "19/02/2021 10:16:56    1\n",
       "10/09/2020 18:58:04    1\n",
       "16/01/2021 07:15:00    1\n",
       "08/12/2020 10:10:57    1\n",
       "                      ..\n",
       "07/08/2020 10:44:17    1\n",
       "08/08/2020 12:37:32    1\n",
       "12/02/2021 14:05:51    1\n",
       "31/12/2020 10:23:58    1\n",
       "29/10/2020 09:21:05    1\n",
       "Name: DTHR_OUT_UTI, Length: 1309, dtype: int64"
      ]
     },
     "execution_count": 245,
     "metadata": {},
     "output_type": "execute_result"
    }
   ],
   "source": [
    "data['DTHR_OUT_UTI'].value_counts() #DROP"
   ]
  },
  {
   "cell_type": "code",
   "execution_count": 246,
   "id": "attended-parameter",
   "metadata": {},
   "outputs": [],
   "source": [
    "data = data.drop(['DTHR_OUT_UTI'], axis=1)"
   ]
  },
  {
   "cell_type": "markdown",
   "id": "unlikely-jacksonville",
   "metadata": {},
   "source": [
    "## Ver Features"
   ]
  },
  {
   "cell_type": "code",
   "execution_count": 276,
   "id": "suspended-pierre",
   "metadata": {},
   "outputs": [
    {
     "name": "stdout",
     "output_type": "stream",
     "text": [
      "Unnamed: 0 , 0 ,\n",
      "COLETOU_AMOSTRA , 2 ,\n",
      "IFI_OUTRO_VIRUS , 0 ,\n",
      "STATUS_COVID_FROM_MRG_REG_EST , 0 ,\n",
      "CD_PACIENTE , 0 ,\n",
      "GENERO , 0 ,\n",
      "IDADE , 0 ,\n",
      "DIAGNOSTICO_SARS , 0 ,\n",
      "CD_CID , 21 ,\n",
      "DS_ESPECIALID_SAI , 0 ,\n",
      "REINTER_30D , 0 ,\n",
      "CARATER_ATENDIMENTO , 0 ,\n",
      "EMERG_SERVICO , 0 ,\n",
      "EMERG_RISCO , 0 ,\n",
      "CID_DIAG_ATEND , 2 ,\n",
      "CID_CAPITULO_DIAG , 0 ,\n",
      "BLOCO_CENTRAL_ST , 0 ,\n",
      "HEMODINAMICA_ST , 0 ,\n",
      "EX_LAB_ST , 0 ,\n",
      "EX_IMG_ST , 0 ,\n",
      "EX_OUTROS_ST , 0 ,\n",
      "TIPO_REGISTRO , 0 ,\n",
      "SN_CRIT_CONTATO_CASO_COVID , 0 ,\n",
      "SN_CRIT_SRAG , 0 ,\n",
      "SN_CRIT_SINDROME_GRIPAL , 0 ,\n",
      "ESTUDO_TP_EXPOSICAO , 0 ,\n",
      "ESTUDO_COMORB_PREV_HAS , 0 ,\n",
      "ESTUDO_COMORB_PREV_IAM , 0 ,\n",
      "ESTUDO_COMORB_PREV_IC , 0 ,\n",
      "ESTUDO_COMORB_PREV_DRC , 0 ,\n",
      "ESTUDO_COMORB_PREV_DMII , 0 ,\n",
      "ESTUDO_COMORB_PREV_CARCINOMA , 0 ,\n",
      "ESTUDO_COMORB_PREV_AVC , 0 ,\n",
      "ESTUDO_COMORB_PREV_ASMA , 0 ,\n",
      "ESTUDO_COMORB_PREV_DPOC , 0 ,\n",
      "ESTUDO_COMORB_PREV_OBESIDADE , 0 ,\n",
      "ESTUDO_COMORB_PREV_EPILEPSIA , 0 ,\n",
      "ESTUDO_COMORB_PREV_HIGIDO , 0 ,\n",
      "ESTUDO_COMORB_PREV_OUTRAS , 0 ,\n",
      "ESTUDO_CHARLSON , 0 ,\n",
      "ESTUDO_LOCAL_CONTAMINACAO , 0 ,\n",
      "ESTUDO_LOCAL_CONTAM_UI , 0 ,\n",
      "ESTUDO_COMORB_PREV_DEMENCIA , 0 ,\n",
      "ESTUDO_COMORB_PREV_DFM , 0 ,\n",
      "ESTUDO_COMORB_PREV_LEUCEMIA , 0 ,\n",
      "ESTUDO_COMORB_PREV_HIV , 0 ,\n",
      "ESTUDO_COMORB_PREV_TUL , 0 ,\n",
      "DIAS_PRE_UTI , 0 ,\n",
      "DIAS_NA_UTI , 0 ,\n"
     ]
    }
   ],
   "source": [
    "showMissing(data)"
   ]
  },
  {
   "cell_type": "markdown",
   "id": "possible-trouble",
   "metadata": {},
   "source": [
    "## Checando dados faltantes"
   ]
  },
  {
   "cell_type": "code",
   "execution_count": 277,
   "id": "adopted-rebel",
   "metadata": {},
   "outputs": [],
   "source": [
    "columns = data.columns.tolist()"
   ]
  },
  {
   "cell_type": "code",
   "execution_count": 278,
   "id": "secret-headquarters",
   "metadata": {},
   "outputs": [
    {
     "name": "stdout",
     "output_type": "stream",
     "text": [
      "COLETOU_AMOSTRA\n",
      "CD_CID\n",
      "CID_DIAG_ATEND\n"
     ]
    }
   ],
   "source": [
    "for c in columns:\n",
    "    _aux = data[c].isnull().tolist()\n",
    "    _aux = [str(v) for v in _aux]\n",
    "    if 'True' in _aux:\n",
    "        print(c)\n",
    "    _aux = []"
   ]
  },
  {
   "cell_type": "markdown",
   "id": "developmental-tomorrow",
   "metadata": {},
   "source": [
    "## Mapa de Calor - Pearson"
   ]
  },
  {
   "cell_type": "code",
   "execution_count": 252,
   "id": "blind-cliff",
   "metadata": {},
   "outputs": [
    {
     "data": {
      "image/png": "[encoded data removed]",
      "text/plain": [
       "<Figure size 1440x1224 with 2 Axes>"
      ]
     },
     "metadata": {},
     "output_type": "display_data"
    }
   ],
   "source": [
    "sns.set(rc={'figure.figsize':(20, 17)})\n",
    "corr_matrix = data.corr(method='pearson')\n",
    "plt.subplots(figsize=(20,17))\n",
    "sns.heatmap(corr_matrix, vmax=1, square=True)\n",
    "plt.savefig('heatmap.png')\n",
    "plt.show()"
   ]
  },
  {
   "cell_type": "code",
   "execution_count": null,
   "id": "improved-ballet",
   "metadata": {},
   "outputs": [],
   "source": []
  }
 ],
 "metadata": {
  "kernelspec": {
   "display_name": "Python 3",
   "language": "python",
   "name": "python3"
  },
  "language_info": {
   "codemirror_mode": {
    "name": "ipython",
    "version": 3
   },
   "file_extension": ".py",
   "mimetype": "text/x-python",
   "name": "python",
   "nbconvert_exporter": "python",
   "pygments_lexer": "ipython3",
   "version": "3.6.13"
  }
 },
 "nbformat": 4,
 "nbformat_minor": 5
}
