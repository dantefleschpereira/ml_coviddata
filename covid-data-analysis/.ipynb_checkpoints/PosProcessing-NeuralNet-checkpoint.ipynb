{
 "cells": [
  {
   "cell_type": "markdown",
   "id": "patient-cornwall",
   "metadata": {},
   "source": [
    "# Processando dataset para os modelos de Machine Learning\n",
    "\n",
    "Esse notebook é uma continuação do notebook \"PreProcessingData.ipynb\".\n",
    "Além disso, esse notebook cria os dois datasets finais que são usados diretamente nos modelos de ML.\n",
    "Ou seja, ao final da execução desse algoritmo dois datasets estarão prontos para ser usados em modelos de ML. </ br>\n",
    "\n",
    "O principal objetivo desse notebook é transformar o dataset original em formato CATEGORICO para NUMÉRICO."
   ]
  },
  {
   "cell_type": "code",
   "execution_count": 1181,
   "id": "roman-berry",
   "metadata": {},
   "outputs": [],
   "source": [
    "import numpy as np\n",
    "import pandas as pd\n",
    "import seaborn as sns\n",
    "import matplotlib.pyplot as plt\n",
    "from sklearn.preprocessing import OrdinalEncoder\n",
    "pd.set_option('display.max_columns', None)"
   ]
  },
  {
   "cell_type": "code",
   "execution_count": 1182,
   "id": "mysterious-telling",
   "metadata": {},
   "outputs": [],
   "source": [
    "# df = pd.read_csv('./DataSteps/STEP_6_Final_Dataset.csv', delimiter='\\t')\n",
    "df = pd.read_csv('./data/DataSteps/STEP_6_Final_Dataset.csv', delimiter='\\t')"
   ]
  },
  {
   "cell_type": "code",
   "execution_count": 1183,
   "id": "martial-flesh",
   "metadata": {},
   "outputs": [
    {
     "data": {
      "text/html": [
       "<div>\n",
       "<style scoped>\n",
       "    .dataframe tbody tr th:only-of-type {\n",
       "        vertical-align: middle;\n",
       "    }\n",
       "\n",
       "    .dataframe tbody tr th {\n",
       "        vertical-align: top;\n",
       "    }\n",
       "\n",
       "    .dataframe thead th {\n",
       "        text-align: right;\n",
       "    }\n",
       "</style>\n",
       "<table border=\"1\" class=\"dataframe\">\n",
       "  <thead>\n",
       "    <tr style=\"text-align: right;\">\n",
       "      <th></th>\n",
       "      <th>ID</th>\n",
       "      <th>DTHR_REGISTRO</th>\n",
       "      <th>PORTA_ENTRADA</th>\n",
       "      <th>DATA_INICIO_SINTOMAS</th>\n",
       "      <th>HISTORICO_VIAGEM</th>\n",
       "      <th>PAIS_VISITADO</th>\n",
       "      <th>CIDADES_VISITADAS</th>\n",
       "      <th>DATA_RETORNO</th>\n",
       "      <th>COLETOU_AMOSTRA</th>\n",
       "      <th>LOCAL_COLETA</th>\n",
       "      <th>DATA_COLETA</th>\n",
       "      <th>PCR_INFLUENZA</th>\n",
       "      <th>IFI_OUTRO_VIRUS</th>\n",
       "      <th>PCR_COVID_19</th>\n",
       "      <th>STATUS_COVID</th>\n",
       "      <th>STATUS_COVID_ORDEM</th>\n",
       "      <th>DESFECHO</th>\n",
       "      <th>CD_ATENDIMENTO</th>\n",
       "      <th>DS_TP_ATENDIMENTO</th>\n",
       "      <th>CD_PACIENTE</th>\n",
       "      <th>GENERO</th>\n",
       "      <th>IDADE</th>\n",
       "      <th>SN_OBITO</th>\n",
       "      <th>DIAGNOSTICO_SARS</th>\n",
       "      <th>OBITO_SARS</th>\n",
       "      <th>TIPO_SAIDA</th>\n",
       "      <th>TIPO_OBITO</th>\n",
       "      <th>DTHR_ALTA</th>\n",
       "      <th>CD_CID</th>\n",
       "      <th>DS_ESPECIALID_SAI</th>\n",
       "      <th>REINTER_30D</th>\n",
       "      <th>CARATER_ATENDIMENTO</th>\n",
       "      <th>EMERG_SERVICO</th>\n",
       "      <th>EMERG_RISCO</th>\n",
       "      <th>CID_DIAG_ATEND</th>\n",
       "      <th>CID_CAPITULO_DIAG</th>\n",
       "      <th>BLOCO_CENTRAL_ST</th>\n",
       "      <th>HEMODINAMICA_ST</th>\n",
       "      <th>EX_LAB_ST</th>\n",
       "      <th>EX_IMG_ST</th>\n",
       "      <th>EX_OUTROS_ST</th>\n",
       "      <th>CD_PACIENTE_FROM_ESTUDO</th>\n",
       "      <th>COMPETENCIA</th>\n",
       "      <th>PORTA_ENTRADA_FROM_ESTUDO</th>\n",
       "      <th>DATA_INICIO_SINTOMAS_FROM_ESTUDO</th>\n",
       "      <th>HISTORICO_VIAGEM_FROM_ESTUDO</th>\n",
       "      <th>CIDADES_VISITADAS_FROM_ESTUDO</th>\n",
       "      <th>LOCAL_COLETA_FROM_ESTUDO</th>\n",
       "      <th>DATA_COLETA_FROM_ESTUDO</th>\n",
       "      <th>PCR_COVID_19_FROM_ESTUDO</th>\n",
       "      <th>DESFECHO_FROM_ESTUDO</th>\n",
       "      <th>TIPO_REGISTRO</th>\n",
       "      <th>SN_IFI_OV_SINCICIAL_RESP</th>\n",
       "      <th>SN_IFI_OV_PARAINFLU3</th>\n",
       "      <th>SN_IFI_OV_PARAINFLU2</th>\n",
       "      <th>SN_IFI_OV_PARAINFLU1</th>\n",
       "      <th>SN_IFI_OV_INFLUA</th>\n",
       "      <th>SN_IFI_OV_INFLUB</th>\n",
       "      <th>SN_IFI_OV_ADENOVIRUS</th>\n",
       "      <th>SN_CRIT_CONTATO_CASO_COVID</th>\n",
       "      <th>SN_CRIT_CONTATO_CASO_SUSPEITO</th>\n",
       "      <th>SN_CRIT_PROF_SAUDE_HOSPITAL</th>\n",
       "      <th>SN_CRIT_PROF_SAUDE_OUT</th>\n",
       "      <th>SN_CRIT_SRAG</th>\n",
       "      <th>SN_CRIT_SINDROME_GRIPAL</th>\n",
       "      <th>SN_CRIT_IGNORADO</th>\n",
       "      <th>SN_CRIT_OUTROS</th>\n",
       "      <th>SN_CRIT_PROT_COVID19</th>\n",
       "      <th>ESTUDO_TP_EXPOSICAO</th>\n",
       "      <th>ESTUDO_COMORB_PREV_HAS</th>\n",
       "      <th>ESTUDO_COMORB_PREV_IAM</th>\n",
       "      <th>ESTUDO_COMORB_PREV_IC</th>\n",
       "      <th>ESTUDO_COMORB_PREV_DRC</th>\n",
       "      <th>ESTUDO_COMORB_PREV_DMI</th>\n",
       "      <th>ESTUDO_COMORB_PREV_DMII</th>\n",
       "      <th>ESTUDO_COMORB_PREV_CARCINOMA</th>\n",
       "      <th>ESTUDO_COMORB_PREV_ADENOMA</th>\n",
       "      <th>ESTUDO_COMORB_PREV_LINFOMA</th>\n",
       "      <th>ESTUDO_COMORB_PREV_AVC</th>\n",
       "      <th>ESTUDO_COMORB_PREV_ASMA</th>\n",
       "      <th>ESTUDO_COMORB_PREV_DPOC</th>\n",
       "      <th>ESTUDO_COMORB_PREV_OBESIDADE</th>\n",
       "      <th>ESTUDO_COMORB_PREV_EPILEPSIA</th>\n",
       "      <th>ESTUDO_COMORB_PREV_HIGIDO</th>\n",
       "      <th>ESTUDO_COMORB_PREV_OUTRAS</th>\n",
       "      <th>ESTUDO_CHARLSON</th>\n",
       "      <th>ESTUDO_FR_DIA_COLETA</th>\n",
       "      <th>ESTUDO_FC_DIA_COLETA</th>\n",
       "      <th>ESTUDO_PA_DIA_COLETA</th>\n",
       "      <th>ESTUDO_TEMPERATURA_DIA_COLETA</th>\n",
       "      <th>ESTUDO_SATURACAO_DIA_COLETA</th>\n",
       "      <th>ESTUDO_APACHE2</th>\n",
       "      <th>ESTUDO_RISCO</th>\n",
       "      <th>ESTUDO_TRATAMENTO</th>\n",
       "      <th>ESTUDO_COMORB_PREV_TX_ORG_SOL</th>\n",
       "      <th>ESTUDO_CONDUTA</th>\n",
       "      <th>ESTUDO_LOCAL_CONTAMINACAO</th>\n",
       "      <th>ESTUDO_LOCAL_CONTAM_UI</th>\n",
       "      <th>ESTUDO_DT_DESFECHO</th>\n",
       "      <th>ESTUDO_COMORB_PREV_DESCON</th>\n",
       "      <th>ESTUDO_COMORB_PREV_DVP</th>\n",
       "      <th>ESTUDO_COMORB_PREV_DEMENCIA</th>\n",
       "      <th>ESTUDO_COMORB_PREV_DTC</th>\n",
       "      <th>ESTUDO_COMORB_PREV_UP</th>\n",
       "      <th>ESTUDO_COMORB_PREV_DFL</th>\n",
       "      <th>ESTUDO_COMORB_PREV_DFM</th>\n",
       "      <th>ESTUDO_COMORB_PREV_HEMIPLEGIA</th>\n",
       "      <th>ESTUDO_COMORB_PREV_LEUCEMIA</th>\n",
       "      <th>ESTUDO_COMORB_PREV_HIV</th>\n",
       "      <th>ESTUDO_COMORB_PREV_TUL</th>\n",
       "      <th>ESTUDO_COMORB_PREV_TUM</th>\n",
       "      <th>DIAS_CORRIDOS</th>\n",
       "      <th>STATUS_COVID.1</th>\n",
       "      <th>CD_ATENDIMENTO.1</th>\n",
       "      <th>CD_PACIENTE_FROM_UTI</th>\n",
       "      <th>CD_LEITO</th>\n",
       "      <th>CD_UNIDADE</th>\n",
       "      <th>DS_UNIDADE</th>\n",
       "      <th>DT_ENTRADA</th>\n",
       "      <th>HR_ENTRADA</th>\n",
       "      <th>DT_SAIDA</th>\n",
       "      <th>HR_SAIDA</th>\n",
       "      <th>DTHR_UTI_IN</th>\n",
       "      <th>DTHR_UTI_OUT</th>\n",
       "      <th>SEGUNDOS_NA_UTI</th>\n",
       "      <th>DIAS_NA_UTI</th>\n",
       "    </tr>\n",
       "  </thead>\n",
       "  <tbody>\n",
       "    <tr>\n",
       "      <th>0</th>\n",
       "      <td>25958</td>\n",
       "      <td>07/03/2021 17:29:00</td>\n",
       "      <td>NaN</td>\n",
       "      <td>NaN</td>\n",
       "      <td>NaN</td>\n",
       "      <td>NaN</td>\n",
       "      <td>NaN</td>\n",
       "      <td>NaN</td>\n",
       "      <td>SIM</td>\n",
       "      <td>PRONTOPUC ADULTO/INTE</td>\n",
       "      <td>07/03/2021 17:33:56</td>\n",
       "      <td>NaN</td>\n",
       "      <td>NaN</td>\n",
       "      <td>POSITIVO</td>\n",
       "      <td>CONFIRMADOS</td>\n",
       "      <td>1</td>\n",
       "      <td>NÃO INFORMADO</td>\n",
       "      <td>1584431.0</td>\n",
       "      <td>INTERNADO</td>\n",
       "      <td>1597032.0</td>\n",
       "      <td>MASCULINO</td>\n",
       "      <td>60,8381278538813</td>\n",
       "      <td>N</td>\n",
       "      <td>NÃO</td>\n",
       "      <td>NÃO</td>\n",
       "      <td>ALTA</td>\n",
       "      <td>NaN</td>\n",
       "      <td>12/03/2021 16:13:56</td>\n",
       "      <td>I64</td>\n",
       "      <td>NEUROLOGIA</td>\n",
       "      <td>NÃO</td>\n",
       "      <td>ELETIVO</td>\n",
       "      <td>NÃO INFORMADO</td>\n",
       "      <td>NÃO INFORMADO</td>\n",
       "      <td>I64</td>\n",
       "      <td>Aparelho circulatório</td>\n",
       "      <td>NÃO</td>\n",
       "      <td>NÃO</td>\n",
       "      <td>SIM</td>\n",
       "      <td>SIM</td>\n",
       "      <td>SIM</td>\n",
       "      <td>1597032.0</td>\n",
       "      <td>07/03/2021</td>\n",
       "      <td>NaN</td>\n",
       "      <td>NaN</td>\n",
       "      <td>NaN</td>\n",
       "      <td>NaN</td>\n",
       "      <td>PRONTOPUC ADULTO/INTE</td>\n",
       "      <td>07/03/2021 17:33:56</td>\n",
       "      <td>POSITIVO</td>\n",
       "      <td>INTERNAÇÃO</td>\n",
       "      <td>A</td>\n",
       "      <td>N</td>\n",
       "      <td>N</td>\n",
       "      <td>N</td>\n",
       "      <td>N</td>\n",
       "      <td>N</td>\n",
       "      <td>N</td>\n",
       "      <td>N</td>\n",
       "      <td>N</td>\n",
       "      <td>N</td>\n",
       "      <td>NaN</td>\n",
       "      <td>N</td>\n",
       "      <td>N</td>\n",
       "      <td>N</td>\n",
       "      <td>N</td>\n",
       "      <td>N</td>\n",
       "      <td>N</td>\n",
       "      <td>NaN</td>\n",
       "      <td>N</td>\n",
       "      <td>N</td>\n",
       "      <td>N</td>\n",
       "      <td>N</td>\n",
       "      <td>N</td>\n",
       "      <td>N</td>\n",
       "      <td>N</td>\n",
       "      <td>N</td>\n",
       "      <td>N</td>\n",
       "      <td>N</td>\n",
       "      <td>N</td>\n",
       "      <td>N</td>\n",
       "      <td>N</td>\n",
       "      <td>N</td>\n",
       "      <td>N</td>\n",
       "      <td>NaN</td>\n",
       "      <td>NaN</td>\n",
       "      <td>NaN</td>\n",
       "      <td>NaN</td>\n",
       "      <td>NaN</td>\n",
       "      <td>NaN</td>\n",
       "      <td>NaN</td>\n",
       "      <td>NaN</td>\n",
       "      <td>NaN</td>\n",
       "      <td>NaN</td>\n",
       "      <td>N</td>\n",
       "      <td>L</td>\n",
       "      <td>NaN</td>\n",
       "      <td>NaN</td>\n",
       "      <td>NaN</td>\n",
       "      <td>N</td>\n",
       "      <td>N</td>\n",
       "      <td>N</td>\n",
       "      <td>N</td>\n",
       "      <td>N</td>\n",
       "      <td>N</td>\n",
       "      <td>N</td>\n",
       "      <td>N</td>\n",
       "      <td>N</td>\n",
       "      <td>N</td>\n",
       "      <td>N</td>\n",
       "      <td>N</td>\n",
       "      <td>5</td>\n",
       "      <td>NaN</td>\n",
       "      <td>NaN</td>\n",
       "      <td>NaN</td>\n",
       "      <td>NaN</td>\n",
       "      <td>NaN</td>\n",
       "      <td>NaN</td>\n",
       "      <td>NaN</td>\n",
       "      <td>NaN</td>\n",
       "      <td>NaN</td>\n",
       "      <td>NaN</td>\n",
       "      <td>NaN</td>\n",
       "      <td>NaN</td>\n",
       "      <td>0.0</td>\n",
       "      <td>0.000000</td>\n",
       "    </tr>\n",
       "    <tr>\n",
       "      <th>1</th>\n",
       "      <td>25917</td>\n",
       "      <td>06/03/2021 08:22:00</td>\n",
       "      <td>NaN</td>\n",
       "      <td>NaN</td>\n",
       "      <td>NaN</td>\n",
       "      <td>NaN</td>\n",
       "      <td>NaN</td>\n",
       "      <td>NaN</td>\n",
       "      <td>SIM</td>\n",
       "      <td>PRONTOPUC ADULTO/INTE</td>\n",
       "      <td>06/03/2021 09:11:54</td>\n",
       "      <td>NaN</td>\n",
       "      <td>NaN</td>\n",
       "      <td>POSITIVO</td>\n",
       "      <td>CONFIRMADOS</td>\n",
       "      <td>1</td>\n",
       "      <td>NÃO INFORMADO</td>\n",
       "      <td>1584037.0</td>\n",
       "      <td>INTERNADO</td>\n",
       "      <td>1651281.0</td>\n",
       "      <td>FEMININO</td>\n",
       "      <td>74,1093607305936</td>\n",
       "      <td>S</td>\n",
       "      <td>SIM</td>\n",
       "      <td>SIM</td>\n",
       "      <td>ÓBITO</td>\n",
       "      <td>NaN</td>\n",
       "      <td>19/03/2021 11:33:20</td>\n",
       "      <td>B342</td>\n",
       "      <td>CLINICA MEDICA</td>\n",
       "      <td>NÃO</td>\n",
       "      <td>URGÊNCIA</td>\n",
       "      <td>PRONTOSUS</td>\n",
       "      <td>LARANJA</td>\n",
       "      <td>B342</td>\n",
       "      <td>Infecciosas e parasitárias</td>\n",
       "      <td>NÃO</td>\n",
       "      <td>NÃO</td>\n",
       "      <td>SIM</td>\n",
       "      <td>SIM</td>\n",
       "      <td>NÃO</td>\n",
       "      <td>1651281.0</td>\n",
       "      <td>06/03/2021</td>\n",
       "      <td>NaN</td>\n",
       "      <td>NaN</td>\n",
       "      <td>NaN</td>\n",
       "      <td>NaN</td>\n",
       "      <td>PRONTOPUC ADULTO/INTE</td>\n",
       "      <td>06/03/2021 09:11:54</td>\n",
       "      <td>POSITIVO</td>\n",
       "      <td>INTERNAÇÃO</td>\n",
       "      <td>A</td>\n",
       "      <td>N</td>\n",
       "      <td>N</td>\n",
       "      <td>N</td>\n",
       "      <td>N</td>\n",
       "      <td>N</td>\n",
       "      <td>N</td>\n",
       "      <td>N</td>\n",
       "      <td>N</td>\n",
       "      <td>N</td>\n",
       "      <td>NaN</td>\n",
       "      <td>N</td>\n",
       "      <td>N</td>\n",
       "      <td>N</td>\n",
       "      <td>N</td>\n",
       "      <td>N</td>\n",
       "      <td>N</td>\n",
       "      <td>NaN</td>\n",
       "      <td>N</td>\n",
       "      <td>N</td>\n",
       "      <td>N</td>\n",
       "      <td>N</td>\n",
       "      <td>N</td>\n",
       "      <td>N</td>\n",
       "      <td>N</td>\n",
       "      <td>N</td>\n",
       "      <td>N</td>\n",
       "      <td>N</td>\n",
       "      <td>N</td>\n",
       "      <td>N</td>\n",
       "      <td>N</td>\n",
       "      <td>N</td>\n",
       "      <td>N</td>\n",
       "      <td>NaN</td>\n",
       "      <td>NaN</td>\n",
       "      <td>NaN</td>\n",
       "      <td>NaN</td>\n",
       "      <td>NaN</td>\n",
       "      <td>NaN</td>\n",
       "      <td>NaN</td>\n",
       "      <td>NaN</td>\n",
       "      <td>NaN</td>\n",
       "      <td>NaN</td>\n",
       "      <td>N</td>\n",
       "      <td>L</td>\n",
       "      <td>NaN</td>\n",
       "      <td>NaN</td>\n",
       "      <td>NaN</td>\n",
       "      <td>N</td>\n",
       "      <td>N</td>\n",
       "      <td>N</td>\n",
       "      <td>N</td>\n",
       "      <td>N</td>\n",
       "      <td>N</td>\n",
       "      <td>N</td>\n",
       "      <td>N</td>\n",
       "      <td>N</td>\n",
       "      <td>N</td>\n",
       "      <td>N</td>\n",
       "      <td>N</td>\n",
       "      <td>13</td>\n",
       "      <td>CONFIRMADOS</td>\n",
       "      <td>1584037.0</td>\n",
       "      <td>1651281.0</td>\n",
       "      <td>1674.0</td>\n",
       "      <td>6.0</td>\n",
       "      <td>UTI</td>\n",
       "      <td>12/03/2021</td>\n",
       "      <td>15:56:05</td>\n",
       "      <td>19/03/2021</td>\n",
       "      <td>11:33:20</td>\n",
       "      <td>12/03/2021 15:56:05</td>\n",
       "      <td>19/03/2021 11:33:20</td>\n",
       "      <td>589035.0</td>\n",
       "      <td>6.817535</td>\n",
       "    </tr>\n",
       "    <tr>\n",
       "      <th>2</th>\n",
       "      <td>26270</td>\n",
       "      <td>12/03/2021 17:44:00</td>\n",
       "      <td>NaN</td>\n",
       "      <td>NaN</td>\n",
       "      <td>NaN</td>\n",
       "      <td>NaN</td>\n",
       "      <td>NaN</td>\n",
       "      <td>NaN</td>\n",
       "      <td>SIM</td>\n",
       "      <td>PRONTOPUC ADULTO</td>\n",
       "      <td>12/03/2021 17:47:00</td>\n",
       "      <td>NaN</td>\n",
       "      <td>NaN</td>\n",
       "      <td>POSITIVO</td>\n",
       "      <td>CONFIRMADOS</td>\n",
       "      <td>1</td>\n",
       "      <td>NÃO INFORMADO</td>\n",
       "      <td>1591014.0</td>\n",
       "      <td>INTERNADO</td>\n",
       "      <td>1688648.0</td>\n",
       "      <td>FEMININO</td>\n",
       "      <td>72,4682648401826</td>\n",
       "      <td>N</td>\n",
       "      <td>NÃO</td>\n",
       "      <td>NÃO</td>\n",
       "      <td>ALTA</td>\n",
       "      <td>NaN</td>\n",
       "      <td>27/03/2021 10:55:29</td>\n",
       "      <td>F430</td>\n",
       "      <td>PNEUMOLOGIA</td>\n",
       "      <td>SIM</td>\n",
       "      <td>URGÊNCIA</td>\n",
       "      <td>PRONTOPUC</td>\n",
       "      <td>LARANJA</td>\n",
       "      <td>F430</td>\n",
       "      <td>Transtornos mentais e comportamentais</td>\n",
       "      <td>NÃO</td>\n",
       "      <td>NÃO</td>\n",
       "      <td>SIM</td>\n",
       "      <td>SIM</td>\n",
       "      <td>NÃO</td>\n",
       "      <td>1688648.0</td>\n",
       "      <td>18/02/2021</td>\n",
       "      <td>NaN</td>\n",
       "      <td>NaN</td>\n",
       "      <td>NaN</td>\n",
       "      <td>NaN</td>\n",
       "      <td>PRONTOPUC ADULTO/INTE</td>\n",
       "      <td>18/02/2021 13:48:11</td>\n",
       "      <td>POSITIVO</td>\n",
       "      <td>INTERNAÇÃO</td>\n",
       "      <td>A</td>\n",
       "      <td>N</td>\n",
       "      <td>N</td>\n",
       "      <td>N</td>\n",
       "      <td>N</td>\n",
       "      <td>N</td>\n",
       "      <td>N</td>\n",
       "      <td>N</td>\n",
       "      <td>N</td>\n",
       "      <td>N</td>\n",
       "      <td>NaN</td>\n",
       "      <td>N</td>\n",
       "      <td>N</td>\n",
       "      <td>N</td>\n",
       "      <td>N</td>\n",
       "      <td>N</td>\n",
       "      <td>N</td>\n",
       "      <td>NaN</td>\n",
       "      <td>N</td>\n",
       "      <td>N</td>\n",
       "      <td>N</td>\n",
       "      <td>N</td>\n",
       "      <td>N</td>\n",
       "      <td>N</td>\n",
       "      <td>N</td>\n",
       "      <td>N</td>\n",
       "      <td>N</td>\n",
       "      <td>N</td>\n",
       "      <td>N</td>\n",
       "      <td>N</td>\n",
       "      <td>N</td>\n",
       "      <td>N</td>\n",
       "      <td>N</td>\n",
       "      <td>NaN</td>\n",
       "      <td>NaN</td>\n",
       "      <td>NaN</td>\n",
       "      <td>NaN</td>\n",
       "      <td>NaN</td>\n",
       "      <td>NaN</td>\n",
       "      <td>NaN</td>\n",
       "      <td>NaN</td>\n",
       "      <td>NaN</td>\n",
       "      <td>NaN</td>\n",
       "      <td>N</td>\n",
       "      <td>L</td>\n",
       "      <td>NaN</td>\n",
       "      <td>NaN</td>\n",
       "      <td>NaN</td>\n",
       "      <td>N</td>\n",
       "      <td>N</td>\n",
       "      <td>N</td>\n",
       "      <td>N</td>\n",
       "      <td>N</td>\n",
       "      <td>N</td>\n",
       "      <td>N</td>\n",
       "      <td>N</td>\n",
       "      <td>N</td>\n",
       "      <td>N</td>\n",
       "      <td>N</td>\n",
       "      <td>N</td>\n",
       "      <td>15</td>\n",
       "      <td>NaN</td>\n",
       "      <td>NaN</td>\n",
       "      <td>NaN</td>\n",
       "      <td>NaN</td>\n",
       "      <td>NaN</td>\n",
       "      <td>NaN</td>\n",
       "      <td>NaN</td>\n",
       "      <td>NaN</td>\n",
       "      <td>NaN</td>\n",
       "      <td>NaN</td>\n",
       "      <td>NaN</td>\n",
       "      <td>NaN</td>\n",
       "      <td>0.0</td>\n",
       "      <td>0.000000</td>\n",
       "    </tr>\n",
       "    <tr>\n",
       "      <th>3</th>\n",
       "      <td>26734</td>\n",
       "      <td>24/03/2021 00:33:00</td>\n",
       "      <td>NaN</td>\n",
       "      <td>NaN</td>\n",
       "      <td>NaN</td>\n",
       "      <td>NaN</td>\n",
       "      <td>NaN</td>\n",
       "      <td>NaN</td>\n",
       "      <td>SIM</td>\n",
       "      <td>PRONTOPUC ADULTO/INTE</td>\n",
       "      <td>24/03/2021 01:37:07</td>\n",
       "      <td>NaN</td>\n",
       "      <td>NaN</td>\n",
       "      <td>POSITIVO</td>\n",
       "      <td>CONFIRMADOS</td>\n",
       "      <td>1</td>\n",
       "      <td>NÃO INFORMADO</td>\n",
       "      <td>1600335.0</td>\n",
       "      <td>INTERNADO</td>\n",
       "      <td>1725344.0</td>\n",
       "      <td>MASCULINO</td>\n",
       "      <td>37,9942922374429</td>\n",
       "      <td>N</td>\n",
       "      <td>SIM</td>\n",
       "      <td>NÃO</td>\n",
       "      <td>ALTA</td>\n",
       "      <td>NaN</td>\n",
       "      <td>29/03/2021 19:30:02</td>\n",
       "      <td>B342</td>\n",
       "      <td>CLINICA MEDICA</td>\n",
       "      <td>NÃO</td>\n",
       "      <td>ELETIVO</td>\n",
       "      <td>NÃO INFORMADO</td>\n",
       "      <td>NÃO INFORMADO</td>\n",
       "      <td>B342</td>\n",
       "      <td>Infecciosas e parasitárias</td>\n",
       "      <td>NÃO</td>\n",
       "      <td>NÃO</td>\n",
       "      <td>SIM</td>\n",
       "      <td>SIM</td>\n",
       "      <td>NÃO</td>\n",
       "      <td>1725344.0</td>\n",
       "      <td>24/03/2021</td>\n",
       "      <td>NaN</td>\n",
       "      <td>NaN</td>\n",
       "      <td>NaN</td>\n",
       "      <td>NaN</td>\n",
       "      <td>PRONTOPUC ADULTO/INTE</td>\n",
       "      <td>24/03/2021 01:37:07</td>\n",
       "      <td>POSITIVO</td>\n",
       "      <td>INTERNAÇÃO</td>\n",
       "      <td>A</td>\n",
       "      <td>N</td>\n",
       "      <td>N</td>\n",
       "      <td>N</td>\n",
       "      <td>N</td>\n",
       "      <td>N</td>\n",
       "      <td>N</td>\n",
       "      <td>N</td>\n",
       "      <td>N</td>\n",
       "      <td>N</td>\n",
       "      <td>NaN</td>\n",
       "      <td>N</td>\n",
       "      <td>N</td>\n",
       "      <td>N</td>\n",
       "      <td>N</td>\n",
       "      <td>N</td>\n",
       "      <td>N</td>\n",
       "      <td>NaN</td>\n",
       "      <td>N</td>\n",
       "      <td>N</td>\n",
       "      <td>N</td>\n",
       "      <td>N</td>\n",
       "      <td>N</td>\n",
       "      <td>N</td>\n",
       "      <td>N</td>\n",
       "      <td>N</td>\n",
       "      <td>N</td>\n",
       "      <td>N</td>\n",
       "      <td>N</td>\n",
       "      <td>N</td>\n",
       "      <td>N</td>\n",
       "      <td>N</td>\n",
       "      <td>N</td>\n",
       "      <td>NaN</td>\n",
       "      <td>NaN</td>\n",
       "      <td>NaN</td>\n",
       "      <td>NaN</td>\n",
       "      <td>NaN</td>\n",
       "      <td>NaN</td>\n",
       "      <td>NaN</td>\n",
       "      <td>NaN</td>\n",
       "      <td>NaN</td>\n",
       "      <td>NaN</td>\n",
       "      <td>N</td>\n",
       "      <td>L</td>\n",
       "      <td>NaN</td>\n",
       "      <td>NaN</td>\n",
       "      <td>NaN</td>\n",
       "      <td>N</td>\n",
       "      <td>N</td>\n",
       "      <td>N</td>\n",
       "      <td>N</td>\n",
       "      <td>N</td>\n",
       "      <td>N</td>\n",
       "      <td>N</td>\n",
       "      <td>N</td>\n",
       "      <td>N</td>\n",
       "      <td>N</td>\n",
       "      <td>N</td>\n",
       "      <td>N</td>\n",
       "      <td>5</td>\n",
       "      <td>NaN</td>\n",
       "      <td>NaN</td>\n",
       "      <td>NaN</td>\n",
       "      <td>NaN</td>\n",
       "      <td>NaN</td>\n",
       "      <td>NaN</td>\n",
       "      <td>NaN</td>\n",
       "      <td>NaN</td>\n",
       "      <td>NaN</td>\n",
       "      <td>NaN</td>\n",
       "      <td>NaN</td>\n",
       "      <td>NaN</td>\n",
       "      <td>0.0</td>\n",
       "      <td>0.000000</td>\n",
       "    </tr>\n",
       "    <tr>\n",
       "      <th>4</th>\n",
       "      <td>26473</td>\n",
       "      <td>17/03/2021 13:34:00</td>\n",
       "      <td>NaN</td>\n",
       "      <td>NaN</td>\n",
       "      <td>NaN</td>\n",
       "      <td>NaN</td>\n",
       "      <td>NaN</td>\n",
       "      <td>NaN</td>\n",
       "      <td>SIM</td>\n",
       "      <td>PRONTOPUC ADULTO/INTE</td>\n",
       "      <td>17/03/2021 16:44:24</td>\n",
       "      <td>NaN</td>\n",
       "      <td>NaN</td>\n",
       "      <td>POSITIVO</td>\n",
       "      <td>CONFIRMADOS</td>\n",
       "      <td>1</td>\n",
       "      <td>NÃO INFORMADO</td>\n",
       "      <td>1593987.0</td>\n",
       "      <td>INTERNADO</td>\n",
       "      <td>1766519.0</td>\n",
       "      <td>MASCULINO</td>\n",
       "      <td>46,2655251141553</td>\n",
       "      <td>S</td>\n",
       "      <td>NÃO</td>\n",
       "      <td>NÃO</td>\n",
       "      <td>ÓBITO</td>\n",
       "      <td>NaN</td>\n",
       "      <td>21/03/2021 14:19:15</td>\n",
       "      <td>J180</td>\n",
       "      <td>PNEUMOLOGIA</td>\n",
       "      <td>NÃO</td>\n",
       "      <td>URGÊNCIA</td>\n",
       "      <td>PRONTOPUC</td>\n",
       "      <td>LARANJA</td>\n",
       "      <td>U071</td>\n",
       "      <td>Códigos para propósitos especiais</td>\n",
       "      <td>NÃO</td>\n",
       "      <td>NÃO</td>\n",
       "      <td>SIM</td>\n",
       "      <td>SIM</td>\n",
       "      <td>NÃO</td>\n",
       "      <td>1766519.0</td>\n",
       "      <td>17/03/2021</td>\n",
       "      <td>NaN</td>\n",
       "      <td>NaN</td>\n",
       "      <td>NaN</td>\n",
       "      <td>NaN</td>\n",
       "      <td>PRONTOPUC ADULTO/INTE</td>\n",
       "      <td>17/03/2021 16:44:24</td>\n",
       "      <td>POSITIVO</td>\n",
       "      <td>INTERNAÇÃO</td>\n",
       "      <td>A</td>\n",
       "      <td>N</td>\n",
       "      <td>N</td>\n",
       "      <td>N</td>\n",
       "      <td>N</td>\n",
       "      <td>N</td>\n",
       "      <td>N</td>\n",
       "      <td>N</td>\n",
       "      <td>N</td>\n",
       "      <td>N</td>\n",
       "      <td>NaN</td>\n",
       "      <td>N</td>\n",
       "      <td>N</td>\n",
       "      <td>N</td>\n",
       "      <td>N</td>\n",
       "      <td>N</td>\n",
       "      <td>N</td>\n",
       "      <td>NaN</td>\n",
       "      <td>N</td>\n",
       "      <td>N</td>\n",
       "      <td>N</td>\n",
       "      <td>N</td>\n",
       "      <td>N</td>\n",
       "      <td>N</td>\n",
       "      <td>N</td>\n",
       "      <td>N</td>\n",
       "      <td>N</td>\n",
       "      <td>N</td>\n",
       "      <td>N</td>\n",
       "      <td>N</td>\n",
       "      <td>N</td>\n",
       "      <td>N</td>\n",
       "      <td>N</td>\n",
       "      <td>NaN</td>\n",
       "      <td>NaN</td>\n",
       "      <td>NaN</td>\n",
       "      <td>NaN</td>\n",
       "      <td>NaN</td>\n",
       "      <td>NaN</td>\n",
       "      <td>NaN</td>\n",
       "      <td>NaN</td>\n",
       "      <td>NaN</td>\n",
       "      <td>NaN</td>\n",
       "      <td>N</td>\n",
       "      <td>L</td>\n",
       "      <td>NaN</td>\n",
       "      <td>NaN</td>\n",
       "      <td>NaN</td>\n",
       "      <td>N</td>\n",
       "      <td>N</td>\n",
       "      <td>N</td>\n",
       "      <td>N</td>\n",
       "      <td>N</td>\n",
       "      <td>N</td>\n",
       "      <td>N</td>\n",
       "      <td>N</td>\n",
       "      <td>N</td>\n",
       "      <td>N</td>\n",
       "      <td>N</td>\n",
       "      <td>N</td>\n",
       "      <td>4</td>\n",
       "      <td>CONFIRMADOS</td>\n",
       "      <td>1593987.0</td>\n",
       "      <td>1766519.0</td>\n",
       "      <td>1601.0</td>\n",
       "      <td>7.0</td>\n",
       "      <td>UTI</td>\n",
       "      <td>18/03/2021</td>\n",
       "      <td>21:52:23</td>\n",
       "      <td>21/03/2021</td>\n",
       "      <td>14:19:15</td>\n",
       "      <td>18/03/2021 21:52:23</td>\n",
       "      <td>21/03/2021 14:19:15</td>\n",
       "      <td>232012.0</td>\n",
       "      <td>2.685324</td>\n",
       "    </tr>\n",
       "    <tr>\n",
       "      <th>...</th>\n",
       "      <td>...</td>\n",
       "      <td>...</td>\n",
       "      <td>...</td>\n",
       "      <td>...</td>\n",
       "      <td>...</td>\n",
       "      <td>...</td>\n",
       "      <td>...</td>\n",
       "      <td>...</td>\n",
       "      <td>...</td>\n",
       "      <td>...</td>\n",
       "      <td>...</td>\n",
       "      <td>...</td>\n",
       "      <td>...</td>\n",
       "      <td>...</td>\n",
       "      <td>...</td>\n",
       "      <td>...</td>\n",
       "      <td>...</td>\n",
       "      <td>...</td>\n",
       "      <td>...</td>\n",
       "      <td>...</td>\n",
       "      <td>...</td>\n",
       "      <td>...</td>\n",
       "      <td>...</td>\n",
       "      <td>...</td>\n",
       "      <td>...</td>\n",
       "      <td>...</td>\n",
       "      <td>...</td>\n",
       "      <td>...</td>\n",
       "      <td>...</td>\n",
       "      <td>...</td>\n",
       "      <td>...</td>\n",
       "      <td>...</td>\n",
       "      <td>...</td>\n",
       "      <td>...</td>\n",
       "      <td>...</td>\n",
       "      <td>...</td>\n",
       "      <td>...</td>\n",
       "      <td>...</td>\n",
       "      <td>...</td>\n",
       "      <td>...</td>\n",
       "      <td>...</td>\n",
       "      <td>...</td>\n",
       "      <td>...</td>\n",
       "      <td>...</td>\n",
       "      <td>...</td>\n",
       "      <td>...</td>\n",
       "      <td>...</td>\n",
       "      <td>...</td>\n",
       "      <td>...</td>\n",
       "      <td>...</td>\n",
       "      <td>...</td>\n",
       "      <td>...</td>\n",
       "      <td>...</td>\n",
       "      <td>...</td>\n",
       "      <td>...</td>\n",
       "      <td>...</td>\n",
       "      <td>...</td>\n",
       "      <td>...</td>\n",
       "      <td>...</td>\n",
       "      <td>...</td>\n",
       "      <td>...</td>\n",
       "      <td>...</td>\n",
       "      <td>...</td>\n",
       "      <td>...</td>\n",
       "      <td>...</td>\n",
       "      <td>...</td>\n",
       "      <td>...</td>\n",
       "      <td>...</td>\n",
       "      <td>...</td>\n",
       "      <td>...</td>\n",
       "      <td>...</td>\n",
       "      <td>...</td>\n",
       "      <td>...</td>\n",
       "      <td>...</td>\n",
       "      <td>...</td>\n",
       "      <td>...</td>\n",
       "      <td>...</td>\n",
       "      <td>...</td>\n",
       "      <td>...</td>\n",
       "      <td>...</td>\n",
       "      <td>...</td>\n",
       "      <td>...</td>\n",
       "      <td>...</td>\n",
       "      <td>...</td>\n",
       "      <td>...</td>\n",
       "      <td>...</td>\n",
       "      <td>...</td>\n",
       "      <td>...</td>\n",
       "      <td>...</td>\n",
       "      <td>...</td>\n",
       "      <td>...</td>\n",
       "      <td>...</td>\n",
       "      <td>...</td>\n",
       "      <td>...</td>\n",
       "      <td>...</td>\n",
       "      <td>...</td>\n",
       "      <td>...</td>\n",
       "      <td>...</td>\n",
       "      <td>...</td>\n",
       "      <td>...</td>\n",
       "      <td>...</td>\n",
       "      <td>...</td>\n",
       "      <td>...</td>\n",
       "      <td>...</td>\n",
       "      <td>...</td>\n",
       "      <td>...</td>\n",
       "      <td>...</td>\n",
       "      <td>...</td>\n",
       "      <td>...</td>\n",
       "      <td>...</td>\n",
       "      <td>...</td>\n",
       "      <td>...</td>\n",
       "      <td>...</td>\n",
       "      <td>...</td>\n",
       "      <td>...</td>\n",
       "      <td>...</td>\n",
       "      <td>...</td>\n",
       "      <td>...</td>\n",
       "      <td>...</td>\n",
       "      <td>...</td>\n",
       "      <td>...</td>\n",
       "      <td>...</td>\n",
       "      <td>...</td>\n",
       "      <td>...</td>\n",
       "      <td>...</td>\n",
       "      <td>...</td>\n",
       "    </tr>\n",
       "    <tr>\n",
       "      <th>1323</th>\n",
       "      <td>25936</td>\n",
       "      <td>05/03/2021 20:28:00</td>\n",
       "      <td>NaN</td>\n",
       "      <td>NaN</td>\n",
       "      <td>NaN</td>\n",
       "      <td>NaN</td>\n",
       "      <td>NaN</td>\n",
       "      <td>NaN</td>\n",
       "      <td>SIM</td>\n",
       "      <td>8 S - INTERNACAO</td>\n",
       "      <td>05/03/2021 22:43:16</td>\n",
       "      <td>NaN</td>\n",
       "      <td>NaN</td>\n",
       "      <td>POSITIVO</td>\n",
       "      <td>CONFIRMADOS</td>\n",
       "      <td>1</td>\n",
       "      <td>NÃO INFORMADO</td>\n",
       "      <td>1577130.0</td>\n",
       "      <td>INTERNADO</td>\n",
       "      <td>2387683.0</td>\n",
       "      <td>FEMININO</td>\n",
       "      <td>86,0737442922374</td>\n",
       "      <td>N</td>\n",
       "      <td>NÃO</td>\n",
       "      <td>NÃO</td>\n",
       "      <td>ALTA</td>\n",
       "      <td>NaN</td>\n",
       "      <td>14/03/2021 14:54:20</td>\n",
       "      <td>B349</td>\n",
       "      <td>INFECTOLOGIA</td>\n",
       "      <td>NÃO</td>\n",
       "      <td>URGÊNCIA</td>\n",
       "      <td>PRONTOPUC</td>\n",
       "      <td>AMARELO</td>\n",
       "      <td>B349</td>\n",
       "      <td>Infecciosas e parasitárias</td>\n",
       "      <td>NÃO</td>\n",
       "      <td>NÃO</td>\n",
       "      <td>SIM</td>\n",
       "      <td>SIM</td>\n",
       "      <td>NÃO</td>\n",
       "      <td>2387683.0</td>\n",
       "      <td>05/03/2021</td>\n",
       "      <td>NaN</td>\n",
       "      <td>NaN</td>\n",
       "      <td>NaN</td>\n",
       "      <td>NaN</td>\n",
       "      <td>8 S - INTERNACAO</td>\n",
       "      <td>05/03/2021 22:43:16</td>\n",
       "      <td>POSITIVO</td>\n",
       "      <td>INTERNAÇÃO</td>\n",
       "      <td>A</td>\n",
       "      <td>N</td>\n",
       "      <td>N</td>\n",
       "      <td>N</td>\n",
       "      <td>N</td>\n",
       "      <td>N</td>\n",
       "      <td>N</td>\n",
       "      <td>N</td>\n",
       "      <td>N</td>\n",
       "      <td>N</td>\n",
       "      <td>NaN</td>\n",
       "      <td>N</td>\n",
       "      <td>N</td>\n",
       "      <td>N</td>\n",
       "      <td>N</td>\n",
       "      <td>N</td>\n",
       "      <td>N</td>\n",
       "      <td>NaN</td>\n",
       "      <td>N</td>\n",
       "      <td>N</td>\n",
       "      <td>N</td>\n",
       "      <td>N</td>\n",
       "      <td>N</td>\n",
       "      <td>N</td>\n",
       "      <td>N</td>\n",
       "      <td>N</td>\n",
       "      <td>N</td>\n",
       "      <td>N</td>\n",
       "      <td>N</td>\n",
       "      <td>N</td>\n",
       "      <td>N</td>\n",
       "      <td>N</td>\n",
       "      <td>N</td>\n",
       "      <td>NaN</td>\n",
       "      <td>NaN</td>\n",
       "      <td>NaN</td>\n",
       "      <td>NaN</td>\n",
       "      <td>NaN</td>\n",
       "      <td>NaN</td>\n",
       "      <td>NaN</td>\n",
       "      <td>NaN</td>\n",
       "      <td>NaN</td>\n",
       "      <td>NaN</td>\n",
       "      <td>N</td>\n",
       "      <td>L</td>\n",
       "      <td>NaN</td>\n",
       "      <td>NaN</td>\n",
       "      <td>NaN</td>\n",
       "      <td>N</td>\n",
       "      <td>N</td>\n",
       "      <td>N</td>\n",
       "      <td>N</td>\n",
       "      <td>N</td>\n",
       "      <td>N</td>\n",
       "      <td>N</td>\n",
       "      <td>N</td>\n",
       "      <td>N</td>\n",
       "      <td>N</td>\n",
       "      <td>N</td>\n",
       "      <td>N</td>\n",
       "      <td>9</td>\n",
       "      <td>NaN</td>\n",
       "      <td>NaN</td>\n",
       "      <td>NaN</td>\n",
       "      <td>NaN</td>\n",
       "      <td>NaN</td>\n",
       "      <td>NaN</td>\n",
       "      <td>NaN</td>\n",
       "      <td>NaN</td>\n",
       "      <td>NaN</td>\n",
       "      <td>NaN</td>\n",
       "      <td>NaN</td>\n",
       "      <td>NaN</td>\n",
       "      <td>0.0</td>\n",
       "      <td>0.000000</td>\n",
       "    </tr>\n",
       "    <tr>\n",
       "      <th>1324</th>\n",
       "      <td>26428</td>\n",
       "      <td>16/03/2021 05:12:00</td>\n",
       "      <td>NaN</td>\n",
       "      <td>NaN</td>\n",
       "      <td>NaN</td>\n",
       "      <td>NaN</td>\n",
       "      <td>NaN</td>\n",
       "      <td>NaN</td>\n",
       "      <td>SIM</td>\n",
       "      <td>PRONTOPUC ADULTO/INTE</td>\n",
       "      <td>16/03/2021 15:19:50</td>\n",
       "      <td>NaN</td>\n",
       "      <td>NaN</td>\n",
       "      <td>POSITIVO</td>\n",
       "      <td>CONFIRMADOS</td>\n",
       "      <td>1</td>\n",
       "      <td>NÃO INFORMADO</td>\n",
       "      <td>1592679.0</td>\n",
       "      <td>INTERNADO</td>\n",
       "      <td>2234420.0</td>\n",
       "      <td>MASCULINO</td>\n",
       "      <td>78,2518264840183</td>\n",
       "      <td>S</td>\n",
       "      <td>SIM</td>\n",
       "      <td>SIM</td>\n",
       "      <td>ÓBITO</td>\n",
       "      <td>NaN</td>\n",
       "      <td>23/03/2021 23:28:09</td>\n",
       "      <td>B342</td>\n",
       "      <td>CLINICA MEDICA</td>\n",
       "      <td>NÃO</td>\n",
       "      <td>URGÊNCIA</td>\n",
       "      <td>PRONTOPUC</td>\n",
       "      <td>AMARELO</td>\n",
       "      <td>J960</td>\n",
       "      <td>Aparelho respiratório</td>\n",
       "      <td>NÃO</td>\n",
       "      <td>NÃO</td>\n",
       "      <td>SIM</td>\n",
       "      <td>SIM</td>\n",
       "      <td>NÃO</td>\n",
       "      <td>2234420.0</td>\n",
       "      <td>16/03/2021</td>\n",
       "      <td>NaN</td>\n",
       "      <td>NaN</td>\n",
       "      <td>NaN</td>\n",
       "      <td>NaN</td>\n",
       "      <td>PRONTOPUC ADULTO/INTE</td>\n",
       "      <td>16/03/2021 15:19:50</td>\n",
       "      <td>POSITIVO</td>\n",
       "      <td>INTERNAÇÃO</td>\n",
       "      <td>A</td>\n",
       "      <td>N</td>\n",
       "      <td>N</td>\n",
       "      <td>N</td>\n",
       "      <td>N</td>\n",
       "      <td>N</td>\n",
       "      <td>N</td>\n",
       "      <td>N</td>\n",
       "      <td>N</td>\n",
       "      <td>N</td>\n",
       "      <td>NaN</td>\n",
       "      <td>N</td>\n",
       "      <td>N</td>\n",
       "      <td>N</td>\n",
       "      <td>N</td>\n",
       "      <td>N</td>\n",
       "      <td>N</td>\n",
       "      <td>NaN</td>\n",
       "      <td>N</td>\n",
       "      <td>N</td>\n",
       "      <td>N</td>\n",
       "      <td>N</td>\n",
       "      <td>N</td>\n",
       "      <td>N</td>\n",
       "      <td>N</td>\n",
       "      <td>N</td>\n",
       "      <td>N</td>\n",
       "      <td>N</td>\n",
       "      <td>N</td>\n",
       "      <td>N</td>\n",
       "      <td>N</td>\n",
       "      <td>N</td>\n",
       "      <td>N</td>\n",
       "      <td>NaN</td>\n",
       "      <td>NaN</td>\n",
       "      <td>NaN</td>\n",
       "      <td>NaN</td>\n",
       "      <td>NaN</td>\n",
       "      <td>NaN</td>\n",
       "      <td>NaN</td>\n",
       "      <td>NaN</td>\n",
       "      <td>NaN</td>\n",
       "      <td>NaN</td>\n",
       "      <td>N</td>\n",
       "      <td>L</td>\n",
       "      <td>NaN</td>\n",
       "      <td>NaN</td>\n",
       "      <td>NaN</td>\n",
       "      <td>N</td>\n",
       "      <td>N</td>\n",
       "      <td>N</td>\n",
       "      <td>N</td>\n",
       "      <td>N</td>\n",
       "      <td>N</td>\n",
       "      <td>N</td>\n",
       "      <td>N</td>\n",
       "      <td>N</td>\n",
       "      <td>N</td>\n",
       "      <td>N</td>\n",
       "      <td>N</td>\n",
       "      <td>7</td>\n",
       "      <td>NaN</td>\n",
       "      <td>NaN</td>\n",
       "      <td>NaN</td>\n",
       "      <td>NaN</td>\n",
       "      <td>NaN</td>\n",
       "      <td>NaN</td>\n",
       "      <td>NaN</td>\n",
       "      <td>NaN</td>\n",
       "      <td>NaN</td>\n",
       "      <td>NaN</td>\n",
       "      <td>NaN</td>\n",
       "      <td>NaN</td>\n",
       "      <td>0.0</td>\n",
       "      <td>0.000000</td>\n",
       "    </tr>\n",
       "    <tr>\n",
       "      <th>1325</th>\n",
       "      <td>26448</td>\n",
       "      <td>16/03/2021 13:37:32</td>\n",
       "      <td>NaN</td>\n",
       "      <td>NaN</td>\n",
       "      <td>NaN</td>\n",
       "      <td>NaN</td>\n",
       "      <td>NaN</td>\n",
       "      <td>NaN</td>\n",
       "      <td>SIM</td>\n",
       "      <td>PRONTOPUC ADULTO/INTE</td>\n",
       "      <td>16/03/2021 15:28:14</td>\n",
       "      <td>NaN</td>\n",
       "      <td>NaN</td>\n",
       "      <td>POSITIVO</td>\n",
       "      <td>CONFIRMADOS</td>\n",
       "      <td>1</td>\n",
       "      <td>NÃO INFORMADO</td>\n",
       "      <td>1593536.0</td>\n",
       "      <td>INTERNADO</td>\n",
       "      <td>1936797.0</td>\n",
       "      <td>MASCULINO</td>\n",
       "      <td>32,3285388127854</td>\n",
       "      <td>N</td>\n",
       "      <td>NÃO</td>\n",
       "      <td>NÃO</td>\n",
       "      <td>ALTA</td>\n",
       "      <td>NaN</td>\n",
       "      <td>18/03/2021 10:44:30</td>\n",
       "      <td>K359</td>\n",
       "      <td>CIRURGIA GERAL</td>\n",
       "      <td>NÃO</td>\n",
       "      <td>URGÊNCIA</td>\n",
       "      <td>PRONTOPUC</td>\n",
       "      <td>LARANJA</td>\n",
       "      <td>K359</td>\n",
       "      <td>Aparelho digestivo</td>\n",
       "      <td>SIM</td>\n",
       "      <td>NÃO</td>\n",
       "      <td>SIM</td>\n",
       "      <td>NÃO</td>\n",
       "      <td>SIM</td>\n",
       "      <td>1936797.0</td>\n",
       "      <td>16/03/2021</td>\n",
       "      <td>NaN</td>\n",
       "      <td>NaN</td>\n",
       "      <td>NaN</td>\n",
       "      <td>NaN</td>\n",
       "      <td>PRONTOPUC ADULTO/INTE</td>\n",
       "      <td>16/03/2021 15:28:14</td>\n",
       "      <td>POSITIVO</td>\n",
       "      <td>INTERNAÇÃO</td>\n",
       "      <td>A</td>\n",
       "      <td>N</td>\n",
       "      <td>N</td>\n",
       "      <td>N</td>\n",
       "      <td>N</td>\n",
       "      <td>N</td>\n",
       "      <td>N</td>\n",
       "      <td>N</td>\n",
       "      <td>N</td>\n",
       "      <td>N</td>\n",
       "      <td>NaN</td>\n",
       "      <td>N</td>\n",
       "      <td>N</td>\n",
       "      <td>N</td>\n",
       "      <td>N</td>\n",
       "      <td>N</td>\n",
       "      <td>N</td>\n",
       "      <td>NaN</td>\n",
       "      <td>N</td>\n",
       "      <td>N</td>\n",
       "      <td>N</td>\n",
       "      <td>N</td>\n",
       "      <td>N</td>\n",
       "      <td>N</td>\n",
       "      <td>N</td>\n",
       "      <td>N</td>\n",
       "      <td>N</td>\n",
       "      <td>N</td>\n",
       "      <td>N</td>\n",
       "      <td>N</td>\n",
       "      <td>N</td>\n",
       "      <td>N</td>\n",
       "      <td>N</td>\n",
       "      <td>NaN</td>\n",
       "      <td>NaN</td>\n",
       "      <td>NaN</td>\n",
       "      <td>NaN</td>\n",
       "      <td>NaN</td>\n",
       "      <td>NaN</td>\n",
       "      <td>NaN</td>\n",
       "      <td>NaN</td>\n",
       "      <td>NaN</td>\n",
       "      <td>NaN</td>\n",
       "      <td>N</td>\n",
       "      <td>L</td>\n",
       "      <td>NaN</td>\n",
       "      <td>NaN</td>\n",
       "      <td>NaN</td>\n",
       "      <td>N</td>\n",
       "      <td>N</td>\n",
       "      <td>N</td>\n",
       "      <td>N</td>\n",
       "      <td>N</td>\n",
       "      <td>N</td>\n",
       "      <td>N</td>\n",
       "      <td>N</td>\n",
       "      <td>N</td>\n",
       "      <td>N</td>\n",
       "      <td>N</td>\n",
       "      <td>N</td>\n",
       "      <td>2</td>\n",
       "      <td>NaN</td>\n",
       "      <td>NaN</td>\n",
       "      <td>NaN</td>\n",
       "      <td>NaN</td>\n",
       "      <td>NaN</td>\n",
       "      <td>NaN</td>\n",
       "      <td>NaN</td>\n",
       "      <td>NaN</td>\n",
       "      <td>NaN</td>\n",
       "      <td>NaN</td>\n",
       "      <td>NaN</td>\n",
       "      <td>NaN</td>\n",
       "      <td>0.0</td>\n",
       "      <td>0.000000</td>\n",
       "    </tr>\n",
       "    <tr>\n",
       "      <th>1326</th>\n",
       "      <td>25643</td>\n",
       "      <td>02/03/2021 08:33:00</td>\n",
       "      <td>NaN</td>\n",
       "      <td>NaN</td>\n",
       "      <td>NaN</td>\n",
       "      <td>NaN</td>\n",
       "      <td>NaN</td>\n",
       "      <td>NaN</td>\n",
       "      <td>SIM</td>\n",
       "      <td>UTI POS OPERATORIO CIRURGIA CARDIACA</td>\n",
       "      <td>02/03/2021 09:43:13</td>\n",
       "      <td>NaN</td>\n",
       "      <td>NaN</td>\n",
       "      <td>POSITIVO</td>\n",
       "      <td>CONFIRMADOS</td>\n",
       "      <td>1</td>\n",
       "      <td>NÃO INFORMADO</td>\n",
       "      <td>1567762.0</td>\n",
       "      <td>INTERNADO</td>\n",
       "      <td>2385774.0</td>\n",
       "      <td>FEMININO</td>\n",
       "      <td>73,2518264840183</td>\n",
       "      <td>S</td>\n",
       "      <td>NÃO</td>\n",
       "      <td>NÃO</td>\n",
       "      <td>ÓBITO</td>\n",
       "      <td>NaN</td>\n",
       "      <td>09/03/2021 09:16:57</td>\n",
       "      <td>R579</td>\n",
       "      <td>CARDIOLOGIA</td>\n",
       "      <td>NÃO</td>\n",
       "      <td>ELETIVO</td>\n",
       "      <td>NÃO INFORMADO</td>\n",
       "      <td>NÃO INFORMADO</td>\n",
       "      <td>R579</td>\n",
       "      <td>Sintomas, sinais e achados anormais de exames ...</td>\n",
       "      <td>SIM</td>\n",
       "      <td>NÃO</td>\n",
       "      <td>SIM</td>\n",
       "      <td>SIM</td>\n",
       "      <td>SIM</td>\n",
       "      <td>2385774.0</td>\n",
       "      <td>02/03/2021</td>\n",
       "      <td>NaN</td>\n",
       "      <td>NaN</td>\n",
       "      <td>NaN</td>\n",
       "      <td>NaN</td>\n",
       "      <td>UTI POS OPERATORIO CIRURGIA CARDIACA</td>\n",
       "      <td>02/03/2021 09:43:13</td>\n",
       "      <td>POSITIVO</td>\n",
       "      <td>INTERNAÇÃO</td>\n",
       "      <td>A</td>\n",
       "      <td>N</td>\n",
       "      <td>N</td>\n",
       "      <td>N</td>\n",
       "      <td>N</td>\n",
       "      <td>N</td>\n",
       "      <td>N</td>\n",
       "      <td>N</td>\n",
       "      <td>N</td>\n",
       "      <td>N</td>\n",
       "      <td>NaN</td>\n",
       "      <td>N</td>\n",
       "      <td>N</td>\n",
       "      <td>N</td>\n",
       "      <td>N</td>\n",
       "      <td>N</td>\n",
       "      <td>N</td>\n",
       "      <td>HOSPITALAR HSL</td>\n",
       "      <td>N</td>\n",
       "      <td>N</td>\n",
       "      <td>N</td>\n",
       "      <td>N</td>\n",
       "      <td>N</td>\n",
       "      <td>N</td>\n",
       "      <td>N</td>\n",
       "      <td>N</td>\n",
       "      <td>N</td>\n",
       "      <td>N</td>\n",
       "      <td>N</td>\n",
       "      <td>N</td>\n",
       "      <td>N</td>\n",
       "      <td>N</td>\n",
       "      <td>N</td>\n",
       "      <td>NaN</td>\n",
       "      <td>NaN</td>\n",
       "      <td>NaN</td>\n",
       "      <td>NaN</td>\n",
       "      <td>NaN</td>\n",
       "      <td>NaN</td>\n",
       "      <td>NaN</td>\n",
       "      <td>NaN</td>\n",
       "      <td>NaN</td>\n",
       "      <td>NaN</td>\n",
       "      <td>N</td>\n",
       "      <td>L</td>\n",
       "      <td>NaN</td>\n",
       "      <td>NaN</td>\n",
       "      <td>NaN</td>\n",
       "      <td>N</td>\n",
       "      <td>N</td>\n",
       "      <td>N</td>\n",
       "      <td>N</td>\n",
       "      <td>N</td>\n",
       "      <td>N</td>\n",
       "      <td>N</td>\n",
       "      <td>N</td>\n",
       "      <td>N</td>\n",
       "      <td>N</td>\n",
       "      <td>N</td>\n",
       "      <td>N</td>\n",
       "      <td>7</td>\n",
       "      <td>CONFIRMADOS</td>\n",
       "      <td>1567762.0</td>\n",
       "      <td>2385774.0</td>\n",
       "      <td>1609.0</td>\n",
       "      <td>7.0</td>\n",
       "      <td>UTI</td>\n",
       "      <td>02/03/2021</td>\n",
       "      <td>20:51:49</td>\n",
       "      <td>09/03/2021</td>\n",
       "      <td>09:16:57</td>\n",
       "      <td>02/03/2021 20:51:49</td>\n",
       "      <td>09/03/2021 09:16:57</td>\n",
       "      <td>563108.0</td>\n",
       "      <td>6.517454</td>\n",
       "    </tr>\n",
       "    <tr>\n",
       "      <th>1327</th>\n",
       "      <td>26292</td>\n",
       "      <td>13/03/2021 12:40:00</td>\n",
       "      <td>NaN</td>\n",
       "      <td>NaN</td>\n",
       "      <td>NaN</td>\n",
       "      <td>NaN</td>\n",
       "      <td>NaN</td>\n",
       "      <td>NaN</td>\n",
       "      <td>SIM</td>\n",
       "      <td>UTI POS OPERATORIO CIRURGIA CARDIACA</td>\n",
       "      <td>13/03/2021 12:42:59</td>\n",
       "      <td>NaN</td>\n",
       "      <td>NaN</td>\n",
       "      <td>POSITIVO</td>\n",
       "      <td>CONFIRMADOS</td>\n",
       "      <td>1</td>\n",
       "      <td>NÃO INFORMADO</td>\n",
       "      <td>1576495.0</td>\n",
       "      <td>INTERNADO</td>\n",
       "      <td>2387419.0</td>\n",
       "      <td>FEMININO</td>\n",
       "      <td>66,2436073059361</td>\n",
       "      <td>S</td>\n",
       "      <td>NÃO</td>\n",
       "      <td>NÃO</td>\n",
       "      <td>ÓBITO</td>\n",
       "      <td>NaN</td>\n",
       "      <td>15/03/2021 12:26:45</td>\n",
       "      <td>B349</td>\n",
       "      <td>CLINICA MEDICA</td>\n",
       "      <td>NÃO</td>\n",
       "      <td>URGÊNCIA</td>\n",
       "      <td>PRONTOSUS</td>\n",
       "      <td>VERMELHO</td>\n",
       "      <td>A419</td>\n",
       "      <td>Infecciosas e parasitárias</td>\n",
       "      <td>NÃO</td>\n",
       "      <td>NÃO</td>\n",
       "      <td>SIM</td>\n",
       "      <td>SIM</td>\n",
       "      <td>NÃO</td>\n",
       "      <td>2387419.0</td>\n",
       "      <td>13/03/2021</td>\n",
       "      <td>NaN</td>\n",
       "      <td>NaN</td>\n",
       "      <td>NaN</td>\n",
       "      <td>NaN</td>\n",
       "      <td>UTI POS OPERATORIO CIRURGIA CARDIACA</td>\n",
       "      <td>13/03/2021 12:42:59</td>\n",
       "      <td>POSITIVO</td>\n",
       "      <td>INTERNAÇÃO</td>\n",
       "      <td>A</td>\n",
       "      <td>N</td>\n",
       "      <td>N</td>\n",
       "      <td>N</td>\n",
       "      <td>N</td>\n",
       "      <td>N</td>\n",
       "      <td>N</td>\n",
       "      <td>N</td>\n",
       "      <td>N</td>\n",
       "      <td>N</td>\n",
       "      <td>NaN</td>\n",
       "      <td>N</td>\n",
       "      <td>N</td>\n",
       "      <td>N</td>\n",
       "      <td>N</td>\n",
       "      <td>N</td>\n",
       "      <td>N</td>\n",
       "      <td>HOSPITALAR HSL</td>\n",
       "      <td>N</td>\n",
       "      <td>N</td>\n",
       "      <td>N</td>\n",
       "      <td>N</td>\n",
       "      <td>N</td>\n",
       "      <td>N</td>\n",
       "      <td>N</td>\n",
       "      <td>N</td>\n",
       "      <td>N</td>\n",
       "      <td>N</td>\n",
       "      <td>N</td>\n",
       "      <td>N</td>\n",
       "      <td>N</td>\n",
       "      <td>N</td>\n",
       "      <td>N</td>\n",
       "      <td>NaN</td>\n",
       "      <td>NaN</td>\n",
       "      <td>NaN</td>\n",
       "      <td>NaN</td>\n",
       "      <td>NaN</td>\n",
       "      <td>NaN</td>\n",
       "      <td>NaN</td>\n",
       "      <td>NaN</td>\n",
       "      <td>NaN</td>\n",
       "      <td>NaN</td>\n",
       "      <td>N</td>\n",
       "      <td>L</td>\n",
       "      <td>NaN</td>\n",
       "      <td>NaN</td>\n",
       "      <td>NaN</td>\n",
       "      <td>N</td>\n",
       "      <td>N</td>\n",
       "      <td>N</td>\n",
       "      <td>N</td>\n",
       "      <td>N</td>\n",
       "      <td>N</td>\n",
       "      <td>N</td>\n",
       "      <td>N</td>\n",
       "      <td>N</td>\n",
       "      <td>N</td>\n",
       "      <td>N</td>\n",
       "      <td>N</td>\n",
       "      <td>2</td>\n",
       "      <td>CONFIRMADOS</td>\n",
       "      <td>1576495.0</td>\n",
       "      <td>2387419.0</td>\n",
       "      <td>1673.0</td>\n",
       "      <td>6.0</td>\n",
       "      <td>UTI</td>\n",
       "      <td>12/03/2021</td>\n",
       "      <td>02:03:59</td>\n",
       "      <td>15/03/2021</td>\n",
       "      <td>12:26:45</td>\n",
       "      <td>12/03/2021 02:03:59</td>\n",
       "      <td>15/03/2021 12:26:45</td>\n",
       "      <td>296566.0</td>\n",
       "      <td>3.432477</td>\n",
       "    </tr>\n",
       "  </tbody>\n",
       "</table>\n",
       "<p>1328 rows × 126 columns</p>\n",
       "</div>"
      ],
      "text/plain": [
       "         ID        DTHR_REGISTRO PORTA_ENTRADA DATA_INICIO_SINTOMAS  \\\n",
       "0     25958  07/03/2021 17:29:00           NaN                  NaN   \n",
       "1     25917  06/03/2021 08:22:00           NaN                  NaN   \n",
       "2     26270  12/03/2021 17:44:00           NaN                  NaN   \n",
       "3     26734  24/03/2021 00:33:00           NaN                  NaN   \n",
       "4     26473  17/03/2021 13:34:00           NaN                  NaN   \n",
       "...     ...                  ...           ...                  ...   \n",
       "1323  25936  05/03/2021 20:28:00           NaN                  NaN   \n",
       "1324  26428  16/03/2021 05:12:00           NaN                  NaN   \n",
       "1325  26448  16/03/2021 13:37:32           NaN                  NaN   \n",
       "1326  25643  02/03/2021 08:33:00           NaN                  NaN   \n",
       "1327  26292  13/03/2021 12:40:00           NaN                  NaN   \n",
       "\n",
       "     HISTORICO_VIAGEM  PAIS_VISITADO  CIDADES_VISITADAS  DATA_RETORNO  \\\n",
       "0                 NaN            NaN                NaN           NaN   \n",
       "1                 NaN            NaN                NaN           NaN   \n",
       "2                 NaN            NaN                NaN           NaN   \n",
       "3                 NaN            NaN                NaN           NaN   \n",
       "4                 NaN            NaN                NaN           NaN   \n",
       "...               ...            ...                ...           ...   \n",
       "1323              NaN            NaN                NaN           NaN   \n",
       "1324              NaN            NaN                NaN           NaN   \n",
       "1325              NaN            NaN                NaN           NaN   \n",
       "1326              NaN            NaN                NaN           NaN   \n",
       "1327              NaN            NaN                NaN           NaN   \n",
       "\n",
       "     COLETOU_AMOSTRA                          LOCAL_COLETA  \\\n",
       "0                SIM                 PRONTOPUC ADULTO/INTE   \n",
       "1                SIM                 PRONTOPUC ADULTO/INTE   \n",
       "2                SIM                      PRONTOPUC ADULTO   \n",
       "3                SIM                 PRONTOPUC ADULTO/INTE   \n",
       "4                SIM                 PRONTOPUC ADULTO/INTE   \n",
       "...              ...                                   ...   \n",
       "1323             SIM                      8 S - INTERNACAO   \n",
       "1324             SIM                 PRONTOPUC ADULTO/INTE   \n",
       "1325             SIM                 PRONTOPUC ADULTO/INTE   \n",
       "1326             SIM  UTI POS OPERATORIO CIRURGIA CARDIACA   \n",
       "1327             SIM  UTI POS OPERATORIO CIRURGIA CARDIACA   \n",
       "\n",
       "              DATA_COLETA PCR_INFLUENZA IFI_OUTRO_VIRUS PCR_COVID_19  \\\n",
       "0     07/03/2021 17:33:56           NaN             NaN     POSITIVO   \n",
       "1     06/03/2021 09:11:54           NaN             NaN     POSITIVO   \n",
       "2     12/03/2021 17:47:00           NaN             NaN     POSITIVO   \n",
       "3     24/03/2021 01:37:07           NaN             NaN     POSITIVO   \n",
       "4     17/03/2021 16:44:24           NaN             NaN     POSITIVO   \n",
       "...                   ...           ...             ...          ...   \n",
       "1323  05/03/2021 22:43:16           NaN             NaN     POSITIVO   \n",
       "1324  16/03/2021 15:19:50           NaN             NaN     POSITIVO   \n",
       "1325  16/03/2021 15:28:14           NaN             NaN     POSITIVO   \n",
       "1326  02/03/2021 09:43:13           NaN             NaN     POSITIVO   \n",
       "1327  13/03/2021 12:42:59           NaN             NaN     POSITIVO   \n",
       "\n",
       "     STATUS_COVID  STATUS_COVID_ORDEM       DESFECHO  CD_ATENDIMENTO  \\\n",
       "0     CONFIRMADOS                   1  NÃO INFORMADO       1584431.0   \n",
       "1     CONFIRMADOS                   1  NÃO INFORMADO       1584037.0   \n",
       "2     CONFIRMADOS                   1  NÃO INFORMADO       1591014.0   \n",
       "3     CONFIRMADOS                   1  NÃO INFORMADO       1600335.0   \n",
       "4     CONFIRMADOS                   1  NÃO INFORMADO       1593987.0   \n",
       "...           ...                 ...            ...             ...   \n",
       "1323  CONFIRMADOS                   1  NÃO INFORMADO       1577130.0   \n",
       "1324  CONFIRMADOS                   1  NÃO INFORMADO       1592679.0   \n",
       "1325  CONFIRMADOS                   1  NÃO INFORMADO       1593536.0   \n",
       "1326  CONFIRMADOS                   1  NÃO INFORMADO       1567762.0   \n",
       "1327  CONFIRMADOS                   1  NÃO INFORMADO       1576495.0   \n",
       "\n",
       "     DS_TP_ATENDIMENTO  CD_PACIENTE     GENERO             IDADE SN_OBITO  \\\n",
       "0            INTERNADO    1597032.0  MASCULINO  60,8381278538813        N   \n",
       "1            INTERNADO    1651281.0   FEMININO  74,1093607305936        S   \n",
       "2            INTERNADO    1688648.0   FEMININO  72,4682648401826        N   \n",
       "3            INTERNADO    1725344.0  MASCULINO  37,9942922374429        N   \n",
       "4            INTERNADO    1766519.0  MASCULINO  46,2655251141553        S   \n",
       "...                ...          ...        ...               ...      ...   \n",
       "1323         INTERNADO    2387683.0   FEMININO  86,0737442922374        N   \n",
       "1324         INTERNADO    2234420.0  MASCULINO  78,2518264840183        S   \n",
       "1325         INTERNADO    1936797.0  MASCULINO  32,3285388127854        N   \n",
       "1326         INTERNADO    2385774.0   FEMININO  73,2518264840183        S   \n",
       "1327         INTERNADO    2387419.0   FEMININO  66,2436073059361        S   \n",
       "\n",
       "     DIAGNOSTICO_SARS OBITO_SARS TIPO_SAIDA TIPO_OBITO            DTHR_ALTA  \\\n",
       "0                 NÃO        NÃO       ALTA        NaN  12/03/2021 16:13:56   \n",
       "1                 SIM        SIM      ÓBITO        NaN  19/03/2021 11:33:20   \n",
       "2                 NÃO        NÃO       ALTA        NaN  27/03/2021 10:55:29   \n",
       "3                 SIM        NÃO       ALTA        NaN  29/03/2021 19:30:02   \n",
       "4                 NÃO        NÃO      ÓBITO        NaN  21/03/2021 14:19:15   \n",
       "...               ...        ...        ...        ...                  ...   \n",
       "1323              NÃO        NÃO       ALTA        NaN  14/03/2021 14:54:20   \n",
       "1324              SIM        SIM      ÓBITO        NaN  23/03/2021 23:28:09   \n",
       "1325              NÃO        NÃO       ALTA        NaN  18/03/2021 10:44:30   \n",
       "1326              NÃO        NÃO      ÓBITO        NaN  09/03/2021 09:16:57   \n",
       "1327              NÃO        NÃO      ÓBITO        NaN  15/03/2021 12:26:45   \n",
       "\n",
       "     CD_CID DS_ESPECIALID_SAI REINTER_30D CARATER_ATENDIMENTO  EMERG_SERVICO  \\\n",
       "0       I64        NEUROLOGIA         NÃO             ELETIVO  NÃO INFORMADO   \n",
       "1      B342    CLINICA MEDICA         NÃO            URGÊNCIA      PRONTOSUS   \n",
       "2      F430       PNEUMOLOGIA         SIM            URGÊNCIA      PRONTOPUC   \n",
       "3      B342    CLINICA MEDICA         NÃO             ELETIVO  NÃO INFORMADO   \n",
       "4      J180       PNEUMOLOGIA         NÃO            URGÊNCIA      PRONTOPUC   \n",
       "...     ...               ...         ...                 ...            ...   \n",
       "1323   B349      INFECTOLOGIA         NÃO            URGÊNCIA      PRONTOPUC   \n",
       "1324   B342    CLINICA MEDICA         NÃO            URGÊNCIA      PRONTOPUC   \n",
       "1325   K359    CIRURGIA GERAL         NÃO            URGÊNCIA      PRONTOPUC   \n",
       "1326   R579       CARDIOLOGIA         NÃO             ELETIVO  NÃO INFORMADO   \n",
       "1327   B349    CLINICA MEDICA         NÃO            URGÊNCIA      PRONTOSUS   \n",
       "\n",
       "        EMERG_RISCO CID_DIAG_ATEND  \\\n",
       "0     NÃO INFORMADO            I64   \n",
       "1           LARANJA           B342   \n",
       "2           LARANJA           F430   \n",
       "3     NÃO INFORMADO           B342   \n",
       "4           LARANJA           U071   \n",
       "...             ...            ...   \n",
       "1323        AMARELO           B349   \n",
       "1324        AMARELO           J960   \n",
       "1325        LARANJA           K359   \n",
       "1326  NÃO INFORMADO           R579   \n",
       "1327       VERMELHO           A419   \n",
       "\n",
       "                                      CID_CAPITULO_DIAG BLOCO_CENTRAL_ST  \\\n",
       "0                                 Aparelho circulatório              NÃO   \n",
       "1                            Infecciosas e parasitárias              NÃO   \n",
       "2                 Transtornos mentais e comportamentais              NÃO   \n",
       "3                            Infecciosas e parasitárias              NÃO   \n",
       "4                     Códigos para propósitos especiais              NÃO   \n",
       "...                                                 ...              ...   \n",
       "1323                         Infecciosas e parasitárias              NÃO   \n",
       "1324                              Aparelho respiratório              NÃO   \n",
       "1325                                 Aparelho digestivo              SIM   \n",
       "1326  Sintomas, sinais e achados anormais de exames ...              SIM   \n",
       "1327                         Infecciosas e parasitárias              NÃO   \n",
       "\n",
       "     HEMODINAMICA_ST EX_LAB_ST EX_IMG_ST EX_OUTROS_ST  \\\n",
       "0                NÃO       SIM       SIM          SIM   \n",
       "1                NÃO       SIM       SIM          NÃO   \n",
       "2                NÃO       SIM       SIM          NÃO   \n",
       "3                NÃO       SIM       SIM          NÃO   \n",
       "4                NÃO       SIM       SIM          NÃO   \n",
       "...              ...       ...       ...          ...   \n",
       "1323             NÃO       SIM       SIM          NÃO   \n",
       "1324             NÃO       SIM       SIM          NÃO   \n",
       "1325             NÃO       SIM       NÃO          SIM   \n",
       "1326             NÃO       SIM       SIM          SIM   \n",
       "1327             NÃO       SIM       SIM          NÃO   \n",
       "\n",
       "      CD_PACIENTE_FROM_ESTUDO COMPETENCIA PORTA_ENTRADA_FROM_ESTUDO  \\\n",
       "0                   1597032.0  07/03/2021                       NaN   \n",
       "1                   1651281.0  06/03/2021                       NaN   \n",
       "2                   1688648.0  18/02/2021                       NaN   \n",
       "3                   1725344.0  24/03/2021                       NaN   \n",
       "4                   1766519.0  17/03/2021                       NaN   \n",
       "...                       ...         ...                       ...   \n",
       "1323                2387683.0  05/03/2021                       NaN   \n",
       "1324                2234420.0  16/03/2021                       NaN   \n",
       "1325                1936797.0  16/03/2021                       NaN   \n",
       "1326                2385774.0  02/03/2021                       NaN   \n",
       "1327                2387419.0  13/03/2021                       NaN   \n",
       "\n",
       "     DATA_INICIO_SINTOMAS_FROM_ESTUDO HISTORICO_VIAGEM_FROM_ESTUDO  \\\n",
       "0                                 NaN                          NaN   \n",
       "1                                 NaN                          NaN   \n",
       "2                                 NaN                          NaN   \n",
       "3                                 NaN                          NaN   \n",
       "4                                 NaN                          NaN   \n",
       "...                               ...                          ...   \n",
       "1323                              NaN                          NaN   \n",
       "1324                              NaN                          NaN   \n",
       "1325                              NaN                          NaN   \n",
       "1326                              NaN                          NaN   \n",
       "1327                              NaN                          NaN   \n",
       "\n",
       "     CIDADES_VISITADAS_FROM_ESTUDO              LOCAL_COLETA_FROM_ESTUDO  \\\n",
       "0                              NaN                 PRONTOPUC ADULTO/INTE   \n",
       "1                              NaN                 PRONTOPUC ADULTO/INTE   \n",
       "2                              NaN                 PRONTOPUC ADULTO/INTE   \n",
       "3                              NaN                 PRONTOPUC ADULTO/INTE   \n",
       "4                              NaN                 PRONTOPUC ADULTO/INTE   \n",
       "...                            ...                                   ...   \n",
       "1323                           NaN                      8 S - INTERNACAO   \n",
       "1324                           NaN                 PRONTOPUC ADULTO/INTE   \n",
       "1325                           NaN                 PRONTOPUC ADULTO/INTE   \n",
       "1326                           NaN  UTI POS OPERATORIO CIRURGIA CARDIACA   \n",
       "1327                           NaN  UTI POS OPERATORIO CIRURGIA CARDIACA   \n",
       "\n",
       "     DATA_COLETA_FROM_ESTUDO PCR_COVID_19_FROM_ESTUDO DESFECHO_FROM_ESTUDO  \\\n",
       "0        07/03/2021 17:33:56                 POSITIVO           INTERNAÇÃO   \n",
       "1        06/03/2021 09:11:54                 POSITIVO           INTERNAÇÃO   \n",
       "2        18/02/2021 13:48:11                 POSITIVO           INTERNAÇÃO   \n",
       "3        24/03/2021 01:37:07                 POSITIVO           INTERNAÇÃO   \n",
       "4        17/03/2021 16:44:24                 POSITIVO           INTERNAÇÃO   \n",
       "...                      ...                      ...                  ...   \n",
       "1323     05/03/2021 22:43:16                 POSITIVO           INTERNAÇÃO   \n",
       "1324     16/03/2021 15:19:50                 POSITIVO           INTERNAÇÃO   \n",
       "1325     16/03/2021 15:28:14                 POSITIVO           INTERNAÇÃO   \n",
       "1326     02/03/2021 09:43:13                 POSITIVO           INTERNAÇÃO   \n",
       "1327     13/03/2021 12:42:59                 POSITIVO           INTERNAÇÃO   \n",
       "\n",
       "     TIPO_REGISTRO SN_IFI_OV_SINCICIAL_RESP SN_IFI_OV_PARAINFLU3  \\\n",
       "0                A                        N                    N   \n",
       "1                A                        N                    N   \n",
       "2                A                        N                    N   \n",
       "3                A                        N                    N   \n",
       "4                A                        N                    N   \n",
       "...            ...                      ...                  ...   \n",
       "1323             A                        N                    N   \n",
       "1324             A                        N                    N   \n",
       "1325             A                        N                    N   \n",
       "1326             A                        N                    N   \n",
       "1327             A                        N                    N   \n",
       "\n",
       "     SN_IFI_OV_PARAINFLU2 SN_IFI_OV_PARAINFLU1 SN_IFI_OV_INFLUA  \\\n",
       "0                       N                    N                N   \n",
       "1                       N                    N                N   \n",
       "2                       N                    N                N   \n",
       "3                       N                    N                N   \n",
       "4                       N                    N                N   \n",
       "...                   ...                  ...              ...   \n",
       "1323                    N                    N                N   \n",
       "1324                    N                    N                N   \n",
       "1325                    N                    N                N   \n",
       "1326                    N                    N                N   \n",
       "1327                    N                    N                N   \n",
       "\n",
       "     SN_IFI_OV_INFLUB SN_IFI_OV_ADENOVIRUS SN_CRIT_CONTATO_CASO_COVID  \\\n",
       "0                   N                    N                          N   \n",
       "1                   N                    N                          N   \n",
       "2                   N                    N                          N   \n",
       "3                   N                    N                          N   \n",
       "4                   N                    N                          N   \n",
       "...               ...                  ...                        ...   \n",
       "1323                N                    N                          N   \n",
       "1324                N                    N                          N   \n",
       "1325                N                    N                          N   \n",
       "1326                N                    N                          N   \n",
       "1327                N                    N                          N   \n",
       "\n",
       "     SN_CRIT_CONTATO_CASO_SUSPEITO  SN_CRIT_PROF_SAUDE_HOSPITAL  \\\n",
       "0                                N                          NaN   \n",
       "1                                N                          NaN   \n",
       "2                                N                          NaN   \n",
       "3                                N                          NaN   \n",
       "4                                N                          NaN   \n",
       "...                            ...                          ...   \n",
       "1323                             N                          NaN   \n",
       "1324                             N                          NaN   \n",
       "1325                             N                          NaN   \n",
       "1326                             N                          NaN   \n",
       "1327                             N                          NaN   \n",
       "\n",
       "     SN_CRIT_PROF_SAUDE_OUT SN_CRIT_SRAG SN_CRIT_SINDROME_GRIPAL  \\\n",
       "0                         N            N                       N   \n",
       "1                         N            N                       N   \n",
       "2                         N            N                       N   \n",
       "3                         N            N                       N   \n",
       "4                         N            N                       N   \n",
       "...                     ...          ...                     ...   \n",
       "1323                      N            N                       N   \n",
       "1324                      N            N                       N   \n",
       "1325                      N            N                       N   \n",
       "1326                      N            N                       N   \n",
       "1327                      N            N                       N   \n",
       "\n",
       "     SN_CRIT_IGNORADO SN_CRIT_OUTROS SN_CRIT_PROT_COVID19 ESTUDO_TP_EXPOSICAO  \\\n",
       "0                   N              N                    N                 NaN   \n",
       "1                   N              N                    N                 NaN   \n",
       "2                   N              N                    N                 NaN   \n",
       "3                   N              N                    N                 NaN   \n",
       "4                   N              N                    N                 NaN   \n",
       "...               ...            ...                  ...                 ...   \n",
       "1323                N              N                    N                 NaN   \n",
       "1324                N              N                    N                 NaN   \n",
       "1325                N              N                    N                 NaN   \n",
       "1326                N              N                    N      HOSPITALAR HSL   \n",
       "1327                N              N                    N      HOSPITALAR HSL   \n",
       "\n",
       "     ESTUDO_COMORB_PREV_HAS ESTUDO_COMORB_PREV_IAM ESTUDO_COMORB_PREV_IC  \\\n",
       "0                         N                      N                     N   \n",
       "1                         N                      N                     N   \n",
       "2                         N                      N                     N   \n",
       "3                         N                      N                     N   \n",
       "4                         N                      N                     N   \n",
       "...                     ...                    ...                   ...   \n",
       "1323                      N                      N                     N   \n",
       "1324                      N                      N                     N   \n",
       "1325                      N                      N                     N   \n",
       "1326                      N                      N                     N   \n",
       "1327                      N                      N                     N   \n",
       "\n",
       "     ESTUDO_COMORB_PREV_DRC ESTUDO_COMORB_PREV_DMI ESTUDO_COMORB_PREV_DMII  \\\n",
       "0                         N                      N                       N   \n",
       "1                         N                      N                       N   \n",
       "2                         N                      N                       N   \n",
       "3                         N                      N                       N   \n",
       "4                         N                      N                       N   \n",
       "...                     ...                    ...                     ...   \n",
       "1323                      N                      N                       N   \n",
       "1324                      N                      N                       N   \n",
       "1325                      N                      N                       N   \n",
       "1326                      N                      N                       N   \n",
       "1327                      N                      N                       N   \n",
       "\n",
       "     ESTUDO_COMORB_PREV_CARCINOMA ESTUDO_COMORB_PREV_ADENOMA  \\\n",
       "0                               N                          N   \n",
       "1                               N                          N   \n",
       "2                               N                          N   \n",
       "3                               N                          N   \n",
       "4                               N                          N   \n",
       "...                           ...                        ...   \n",
       "1323                            N                          N   \n",
       "1324                            N                          N   \n",
       "1325                            N                          N   \n",
       "1326                            N                          N   \n",
       "1327                            N                          N   \n",
       "\n",
       "     ESTUDO_COMORB_PREV_LINFOMA ESTUDO_COMORB_PREV_AVC  \\\n",
       "0                             N                      N   \n",
       "1                             N                      N   \n",
       "2                             N                      N   \n",
       "3                             N                      N   \n",
       "4                             N                      N   \n",
       "...                         ...                    ...   \n",
       "1323                          N                      N   \n",
       "1324                          N                      N   \n",
       "1325                          N                      N   \n",
       "1326                          N                      N   \n",
       "1327                          N                      N   \n",
       "\n",
       "     ESTUDO_COMORB_PREV_ASMA ESTUDO_COMORB_PREV_DPOC  \\\n",
       "0                          N                       N   \n",
       "1                          N                       N   \n",
       "2                          N                       N   \n",
       "3                          N                       N   \n",
       "4                          N                       N   \n",
       "...                      ...                     ...   \n",
       "1323                       N                       N   \n",
       "1324                       N                       N   \n",
       "1325                       N                       N   \n",
       "1326                       N                       N   \n",
       "1327                       N                       N   \n",
       "\n",
       "     ESTUDO_COMORB_PREV_OBESIDADE ESTUDO_COMORB_PREV_EPILEPSIA  \\\n",
       "0                               N                            N   \n",
       "1                               N                            N   \n",
       "2                               N                            N   \n",
       "3                               N                            N   \n",
       "4                               N                            N   \n",
       "...                           ...                          ...   \n",
       "1323                            N                            N   \n",
       "1324                            N                            N   \n",
       "1325                            N                            N   \n",
       "1326                            N                            N   \n",
       "1327                            N                            N   \n",
       "\n",
       "     ESTUDO_COMORB_PREV_HIGIDO ESTUDO_COMORB_PREV_OUTRAS  ESTUDO_CHARLSON  \\\n",
       "0                            N                       NaN              NaN   \n",
       "1                            N                       NaN              NaN   \n",
       "2                            N                       NaN              NaN   \n",
       "3                            N                       NaN              NaN   \n",
       "4                            N                       NaN              NaN   \n",
       "...                        ...                       ...              ...   \n",
       "1323                         N                       NaN              NaN   \n",
       "1324                         N                       NaN              NaN   \n",
       "1325                         N                       NaN              NaN   \n",
       "1326                         N                       NaN              NaN   \n",
       "1327                         N                       NaN              NaN   \n",
       "\n",
       "     ESTUDO_FR_DIA_COLETA  ESTUDO_FC_DIA_COLETA ESTUDO_PA_DIA_COLETA  \\\n",
       "0                     NaN                   NaN                  NaN   \n",
       "1                     NaN                   NaN                  NaN   \n",
       "2                     NaN                   NaN                  NaN   \n",
       "3                     NaN                   NaN                  NaN   \n",
       "4                     NaN                   NaN                  NaN   \n",
       "...                   ...                   ...                  ...   \n",
       "1323                  NaN                   NaN                  NaN   \n",
       "1324                  NaN                   NaN                  NaN   \n",
       "1325                  NaN                   NaN                  NaN   \n",
       "1326                  NaN                   NaN                  NaN   \n",
       "1327                  NaN                   NaN                  NaN   \n",
       "\n",
       "     ESTUDO_TEMPERATURA_DIA_COLETA ESTUDO_SATURACAO_DIA_COLETA  \\\n",
       "0                              NaN                         NaN   \n",
       "1                              NaN                         NaN   \n",
       "2                              NaN                         NaN   \n",
       "3                              NaN                         NaN   \n",
       "4                              NaN                         NaN   \n",
       "...                            ...                         ...   \n",
       "1323                           NaN                         NaN   \n",
       "1324                           NaN                         NaN   \n",
       "1325                           NaN                         NaN   \n",
       "1326                           NaN                         NaN   \n",
       "1327                           NaN                         NaN   \n",
       "\n",
       "      ESTUDO_APACHE2  ESTUDO_RISCO ESTUDO_TRATAMENTO  \\\n",
       "0                NaN           NaN               NaN   \n",
       "1                NaN           NaN               NaN   \n",
       "2                NaN           NaN               NaN   \n",
       "3                NaN           NaN               NaN   \n",
       "4                NaN           NaN               NaN   \n",
       "...              ...           ...               ...   \n",
       "1323             NaN           NaN               NaN   \n",
       "1324             NaN           NaN               NaN   \n",
       "1325             NaN           NaN               NaN   \n",
       "1326             NaN           NaN               NaN   \n",
       "1327             NaN           NaN               NaN   \n",
       "\n",
       "     ESTUDO_COMORB_PREV_TX_ORG_SOL ESTUDO_CONDUTA ESTUDO_LOCAL_CONTAMINACAO  \\\n",
       "0                                N              L                       NaN   \n",
       "1                                N              L                       NaN   \n",
       "2                                N              L                       NaN   \n",
       "3                                N              L                       NaN   \n",
       "4                                N              L                       NaN   \n",
       "...                            ...            ...                       ...   \n",
       "1323                             N              L                       NaN   \n",
       "1324                             N              L                       NaN   \n",
       "1325                             N              L                       NaN   \n",
       "1326                             N              L                       NaN   \n",
       "1327                             N              L                       NaN   \n",
       "\n",
       "      ESTUDO_LOCAL_CONTAM_UI ESTUDO_DT_DESFECHO ESTUDO_COMORB_PREV_DESCON  \\\n",
       "0                        NaN                NaN                         N   \n",
       "1                        NaN                NaN                         N   \n",
       "2                        NaN                NaN                         N   \n",
       "3                        NaN                NaN                         N   \n",
       "4                        NaN                NaN                         N   \n",
       "...                      ...                ...                       ...   \n",
       "1323                     NaN                NaN                         N   \n",
       "1324                     NaN                NaN                         N   \n",
       "1325                     NaN                NaN                         N   \n",
       "1326                     NaN                NaN                         N   \n",
       "1327                     NaN                NaN                         N   \n",
       "\n",
       "     ESTUDO_COMORB_PREV_DVP ESTUDO_COMORB_PREV_DEMENCIA  \\\n",
       "0                         N                           N   \n",
       "1                         N                           N   \n",
       "2                         N                           N   \n",
       "3                         N                           N   \n",
       "4                         N                           N   \n",
       "...                     ...                         ...   \n",
       "1323                      N                           N   \n",
       "1324                      N                           N   \n",
       "1325                      N                           N   \n",
       "1326                      N                           N   \n",
       "1327                      N                           N   \n",
       "\n",
       "     ESTUDO_COMORB_PREV_DTC ESTUDO_COMORB_PREV_UP ESTUDO_COMORB_PREV_DFL  \\\n",
       "0                         N                     N                      N   \n",
       "1                         N                     N                      N   \n",
       "2                         N                     N                      N   \n",
       "3                         N                     N                      N   \n",
       "4                         N                     N                      N   \n",
       "...                     ...                   ...                    ...   \n",
       "1323                      N                     N                      N   \n",
       "1324                      N                     N                      N   \n",
       "1325                      N                     N                      N   \n",
       "1326                      N                     N                      N   \n",
       "1327                      N                     N                      N   \n",
       "\n",
       "     ESTUDO_COMORB_PREV_DFM ESTUDO_COMORB_PREV_HEMIPLEGIA  \\\n",
       "0                         N                             N   \n",
       "1                         N                             N   \n",
       "2                         N                             N   \n",
       "3                         N                             N   \n",
       "4                         N                             N   \n",
       "...                     ...                           ...   \n",
       "1323                      N                             N   \n",
       "1324                      N                             N   \n",
       "1325                      N                             N   \n",
       "1326                      N                             N   \n",
       "1327                      N                             N   \n",
       "\n",
       "     ESTUDO_COMORB_PREV_LEUCEMIA ESTUDO_COMORB_PREV_HIV  \\\n",
       "0                              N                      N   \n",
       "1                              N                      N   \n",
       "2                              N                      N   \n",
       "3                              N                      N   \n",
       "4                              N                      N   \n",
       "...                          ...                    ...   \n",
       "1323                           N                      N   \n",
       "1324                           N                      N   \n",
       "1325                           N                      N   \n",
       "1326                           N                      N   \n",
       "1327                           N                      N   \n",
       "\n",
       "     ESTUDO_COMORB_PREV_TUL ESTUDO_COMORB_PREV_TUM  DIAS_CORRIDOS  \\\n",
       "0                         N                      N              5   \n",
       "1                         N                      N             13   \n",
       "2                         N                      N             15   \n",
       "3                         N                      N              5   \n",
       "4                         N                      N              4   \n",
       "...                     ...                    ...            ...   \n",
       "1323                      N                      N              9   \n",
       "1324                      N                      N              7   \n",
       "1325                      N                      N              2   \n",
       "1326                      N                      N              7   \n",
       "1327                      N                      N              2   \n",
       "\n",
       "     STATUS_COVID.1  CD_ATENDIMENTO.1  CD_PACIENTE_FROM_UTI  CD_LEITO  \\\n",
       "0               NaN               NaN                   NaN       NaN   \n",
       "1       CONFIRMADOS         1584037.0             1651281.0    1674.0   \n",
       "2               NaN               NaN                   NaN       NaN   \n",
       "3               NaN               NaN                   NaN       NaN   \n",
       "4       CONFIRMADOS         1593987.0             1766519.0    1601.0   \n",
       "...             ...               ...                   ...       ...   \n",
       "1323            NaN               NaN                   NaN       NaN   \n",
       "1324            NaN               NaN                   NaN       NaN   \n",
       "1325            NaN               NaN                   NaN       NaN   \n",
       "1326    CONFIRMADOS         1567762.0             2385774.0    1609.0   \n",
       "1327    CONFIRMADOS         1576495.0             2387419.0    1673.0   \n",
       "\n",
       "     CD_UNIDADE DS_UNIDADE  DT_ENTRADA HR_ENTRADA    DT_SAIDA  HR_SAIDA  \\\n",
       "0           NaN        NaN         NaN        NaN         NaN       NaN   \n",
       "1           6.0        UTI  12/03/2021   15:56:05  19/03/2021  11:33:20   \n",
       "2           NaN        NaN         NaN        NaN         NaN       NaN   \n",
       "3           NaN        NaN         NaN        NaN         NaN       NaN   \n",
       "4           7.0        UTI  18/03/2021   21:52:23  21/03/2021  14:19:15   \n",
       "...         ...        ...         ...        ...         ...       ...   \n",
       "1323        NaN        NaN         NaN        NaN         NaN       NaN   \n",
       "1324        NaN        NaN         NaN        NaN         NaN       NaN   \n",
       "1325        NaN        NaN         NaN        NaN         NaN       NaN   \n",
       "1326        7.0        UTI  02/03/2021   20:51:49  09/03/2021  09:16:57   \n",
       "1327        6.0        UTI  12/03/2021   02:03:59  15/03/2021  12:26:45   \n",
       "\n",
       "              DTHR_UTI_IN         DTHR_UTI_OUT  SEGUNDOS_NA_UTI  DIAS_NA_UTI  \n",
       "0                     NaN                  NaN              0.0     0.000000  \n",
       "1     12/03/2021 15:56:05  19/03/2021 11:33:20         589035.0     6.817535  \n",
       "2                     NaN                  NaN              0.0     0.000000  \n",
       "3                     NaN                  NaN              0.0     0.000000  \n",
       "4     18/03/2021 21:52:23  21/03/2021 14:19:15         232012.0     2.685324  \n",
       "...                   ...                  ...              ...          ...  \n",
       "1323                  NaN                  NaN              0.0     0.000000  \n",
       "1324                  NaN                  NaN              0.0     0.000000  \n",
       "1325                  NaN                  NaN              0.0     0.000000  \n",
       "1326  02/03/2021 20:51:49  09/03/2021 09:16:57         563108.0     6.517454  \n",
       "1327  12/03/2021 02:03:59  15/03/2021 12:26:45         296566.0     3.432477  \n",
       "\n",
       "[1328 rows x 126 columns]"
      ]
     },
     "execution_count": 1183,
     "metadata": {},
     "output_type": "execute_result"
    }
   ],
   "source": [
    "df"
   ]
  },
  {
   "cell_type": "markdown",
   "id": "satellite-detection",
   "metadata": {},
   "source": [
    "O bloco abaixo exclui colunas que não são necessárias para o aprendizado dos modelos:"
   ]
  },
  {
   "cell_type": "code",
   "execution_count": 1184,
   "id": "rational-gilbert",
   "metadata": {},
   "outputs": [],
   "source": [
    "def showMissing(data):\n",
    "    for column in data.columns:\n",
    "        missingC = data[column].isnull().sum()\n",
    "        print(column,',',missingC,',')\n",
    "        \n",
    "def showValues(data):\n",
    "    for column in data.columns:\n",
    "        values = data[column].value_counts()\n",
    "        print(column,',',values,',')"
   ]
  },
  {
   "cell_type": "code",
   "execution_count": 1185,
   "id": "hourly-oracle",
   "metadata": {},
   "outputs": [
    {
     "name": "stdout",
     "output_type": "stream",
     "text": [
      "ID , 0 ,\n",
      "DTHR_REGISTRO , 0 ,\n",
      "PORTA_ENTRADA , 1309 ,\n",
      "DATA_INICIO_SINTOMAS , 1309 ,\n",
      "HISTORICO_VIAGEM , 1322 ,\n",
      "PAIS_VISITADO , 1328 ,\n",
      "CIDADES_VISITADAS , 1328 ,\n",
      "DATA_RETORNO , 1328 ,\n",
      "COLETOU_AMOSTRA , 0 ,\n",
      "LOCAL_COLETA , 1 ,\n",
      "DATA_COLETA , 6 ,\n",
      "PCR_INFLUENZA , 1324 ,\n",
      "IFI_OUTRO_VIRUS , 1322 ,\n",
      "PCR_COVID_19 , 0 ,\n",
      "STATUS_COVID , 0 ,\n",
      "STATUS_COVID_ORDEM , 0 ,\n",
      "DESFECHO , 0 ,\n",
      "CD_ATENDIMENTO , 0 ,\n",
      "DS_TP_ATENDIMENTO , 0 ,\n",
      "CD_PACIENTE , 0 ,\n",
      "GENERO , 0 ,\n",
      "IDADE , 0 ,\n",
      "SN_OBITO , 0 ,\n",
      "DIAGNOSTICO_SARS , 0 ,\n",
      "OBITO_SARS , 0 ,\n",
      "TIPO_SAIDA , 0 ,\n",
      "TIPO_OBITO , 1315 ,\n",
      "DTHR_ALTA , 0 ,\n",
      "CD_CID , 0 ,\n",
      "DS_ESPECIALID_SAI , 0 ,\n",
      "REINTER_30D , 0 ,\n",
      "CARATER_ATENDIMENTO , 0 ,\n",
      "EMERG_SERVICO , 0 ,\n",
      "EMERG_RISCO , 0 ,\n",
      "CID_DIAG_ATEND , 0 ,\n",
      "CID_CAPITULO_DIAG , 0 ,\n",
      "BLOCO_CENTRAL_ST , 0 ,\n",
      "HEMODINAMICA_ST , 0 ,\n",
      "EX_LAB_ST , 0 ,\n",
      "EX_IMG_ST , 0 ,\n",
      "EX_OUTROS_ST , 0 ,\n",
      "CD_PACIENTE_FROM_ESTUDO , 5 ,\n",
      "COMPETENCIA , 5 ,\n",
      "PORTA_ENTRADA_FROM_ESTUDO , 1297 ,\n",
      "DATA_INICIO_SINTOMAS_FROM_ESTUDO , 1166 ,\n",
      "HISTORICO_VIAGEM_FROM_ESTUDO , 1316 ,\n",
      "CIDADES_VISITADAS_FROM_ESTUDO , 1323 ,\n",
      "LOCAL_COLETA_FROM_ESTUDO , 5 ,\n",
      "DATA_COLETA_FROM_ESTUDO , 10 ,\n",
      "PCR_COVID_19_FROM_ESTUDO , 5 ,\n",
      "DESFECHO_FROM_ESTUDO , 5 ,\n",
      "TIPO_REGISTRO , 5 ,\n",
      "SN_IFI_OV_SINCICIAL_RESP , 5 ,\n",
      "SN_IFI_OV_PARAINFLU3 , 5 ,\n",
      "SN_IFI_OV_PARAINFLU2 , 5 ,\n",
      "SN_IFI_OV_PARAINFLU1 , 5 ,\n",
      "SN_IFI_OV_INFLUA , 5 ,\n",
      "SN_IFI_OV_INFLUB , 5 ,\n",
      "SN_IFI_OV_ADENOVIRUS , 5 ,\n",
      "SN_CRIT_CONTATO_CASO_COVID , 5 ,\n",
      "SN_CRIT_CONTATO_CASO_SUSPEITO , 5 ,\n",
      "SN_CRIT_PROF_SAUDE_HOSPITAL , 1328 ,\n",
      "SN_CRIT_PROF_SAUDE_OUT , 5 ,\n",
      "SN_CRIT_SRAG , 5 ,\n",
      "SN_CRIT_SINDROME_GRIPAL , 5 ,\n",
      "SN_CRIT_IGNORADO , 5 ,\n",
      "SN_CRIT_OUTROS , 5 ,\n",
      "SN_CRIT_PROT_COVID19 , 5 ,\n",
      "ESTUDO_TP_EXPOSICAO , 1054 ,\n",
      "ESTUDO_COMORB_PREV_HAS , 5 ,\n",
      "ESTUDO_COMORB_PREV_IAM , 5 ,\n",
      "ESTUDO_COMORB_PREV_IC , 5 ,\n",
      "ESTUDO_COMORB_PREV_DRC , 5 ,\n",
      "ESTUDO_COMORB_PREV_DMI , 5 ,\n",
      "ESTUDO_COMORB_PREV_DMII , 5 ,\n",
      "ESTUDO_COMORB_PREV_CARCINOMA , 5 ,\n",
      "ESTUDO_COMORB_PREV_ADENOMA , 5 ,\n",
      "ESTUDO_COMORB_PREV_LINFOMA , 5 ,\n",
      "ESTUDO_COMORB_PREV_AVC , 5 ,\n",
      "ESTUDO_COMORB_PREV_ASMA , 5 ,\n",
      "ESTUDO_COMORB_PREV_DPOC , 5 ,\n",
      "ESTUDO_COMORB_PREV_OBESIDADE , 5 ,\n",
      "ESTUDO_COMORB_PREV_EPILEPSIA , 5 ,\n",
      "ESTUDO_COMORB_PREV_HIGIDO , 5 ,\n",
      "ESTUDO_COMORB_PREV_OUTRAS , 1163 ,\n",
      "ESTUDO_CHARLSON , 1185 ,\n",
      "ESTUDO_FR_DIA_COLETA , 1319 ,\n",
      "ESTUDO_FC_DIA_COLETA , 1319 ,\n",
      "ESTUDO_PA_DIA_COLETA , 1319 ,\n",
      "ESTUDO_TEMPERATURA_DIA_COLETA , 1320 ,\n",
      "ESTUDO_SATURACAO_DIA_COLETA , 1320 ,\n",
      "ESTUDO_APACHE2 , 1328 ,\n",
      "ESTUDO_RISCO , 1328 ,\n",
      "ESTUDO_TRATAMENTO , 1322 ,\n",
      "ESTUDO_COMORB_PREV_TX_ORG_SOL , 5 ,\n",
      "ESTUDO_CONDUTA , 6 ,\n",
      "ESTUDO_LOCAL_CONTAMINACAO , 1101 ,\n",
      "ESTUDO_LOCAL_CONTAM_UI , 1237 ,\n",
      "ESTUDO_DT_DESFECHO , 1319 ,\n",
      "ESTUDO_COMORB_PREV_DESCON , 5 ,\n",
      "ESTUDO_COMORB_PREV_DVP , 5 ,\n",
      "ESTUDO_COMORB_PREV_DEMENCIA , 5 ,\n",
      "ESTUDO_COMORB_PREV_DTC , 5 ,\n",
      "ESTUDO_COMORB_PREV_UP , 5 ,\n",
      "ESTUDO_COMORB_PREV_DFL , 5 ,\n",
      "ESTUDO_COMORB_PREV_DFM , 5 ,\n",
      "ESTUDO_COMORB_PREV_HEMIPLEGIA , 5 ,\n",
      "ESTUDO_COMORB_PREV_LEUCEMIA , 5 ,\n",
      "ESTUDO_COMORB_PREV_HIV , 5 ,\n",
      "ESTUDO_COMORB_PREV_TUL , 5 ,\n",
      "ESTUDO_COMORB_PREV_TUM , 5 ,\n",
      "DIAS_CORRIDOS , 0 ,\n",
      "STATUS_COVID.1 , 813 ,\n",
      "CD_ATENDIMENTO.1 , 813 ,\n",
      "CD_PACIENTE_FROM_UTI , 813 ,\n",
      "CD_LEITO , 813 ,\n",
      "CD_UNIDADE , 802 ,\n",
      "DS_UNIDADE , 813 ,\n",
      "DT_ENTRADA , 813 ,\n",
      "HR_ENTRADA , 813 ,\n",
      "DT_SAIDA , 813 ,\n",
      "HR_SAIDA , 813 ,\n",
      "DTHR_UTI_IN , 813 ,\n",
      "DTHR_UTI_OUT , 813 ,\n",
      "SEGUNDOS_NA_UTI , 0 ,\n",
      "DIAS_NA_UTI , 0 ,\n"
     ]
    }
   ],
   "source": [
    "showMissing(df)"
   ]
  },
  {
   "cell_type": "code",
   "execution_count": 1186,
   "id": "excess-allergy",
   "metadata": {},
   "outputs": [],
   "source": [
    "data = df.drop([\n",
    "    'ID',\n",
    "    'DTHR_REGISTRO',\n",
    "    'SN_OBITO',\n",
    "    'DATA_INICIO_SINTOMAS',\n",
    "    'PAIS_VISITADO',\n",
    "    'CIDADES_VISITADAS',\n",
    "    'CD_ATENDIMENTO',\n",
    "    'DATA_RETORNO',\n",
    "    'DATA_COLETA',\n",
    "    'DTHR_ALTA',\n",
    "    'COMPETENCIA',\n",
    "    'CD_PACIENTE_FROM_ESTUDO',\n",
    "    'PORTA_ENTRADA_FROM_ESTUDO',\n",
    "    'DATA_INICIO_SINTOMAS_FROM_ESTUDO',\n",
    "    'HISTORICO_VIAGEM_FROM_ESTUDO',\n",
    "    'CIDADES_VISITADAS_FROM_ESTUDO',\n",
    "    'LOCAL_COLETA_FROM_ESTUDO',\n",
    "    'DATA_COLETA_FROM_ESTUDO',\n",
    "    'PCR_COVID_19_FROM_ESTUDO',\n",
    "    'DESFECHO_FROM_ESTUDO',\n",
    "    'CD_PACIENTE_FROM_UTI',\n",
    "    'DT_ENTRADA',\n",
    "    'HR_ENTRADA',\n",
    "    'DT_SAIDA',\n",
    "    'HR_SAIDA',\n",
    "    'SEGUNDOS_NA_UTI',\n",
    "    'STATUS_COVID_ORDEM',\n",
    "    'PCR_COVID_19',\n",
    "    'STATUS_COVID',\n",
    "    'PORTA_ENTRADA',\n",
    "    'HISTORICO_VIAGEM',\n",
    "    'DS_TP_ATENDIMENTO',\n",
    "    'OBITO_SARS',\n",
    "    'TIPO_SAIDA',\n",
    "    'TIPO_OBITO',\n",
    "    'SN_CRIT_CONTATO_CASO_SUSPEITO',\n",
    "    'SN_CRIT_PROF_SAUDE_HOSPITAL',\n",
    "    'SN_CRIT_PROF_SAUDE_OUT',\n",
    "    'SN_CRIT_IGNORADO',\n",
    "    'SN_CRIT_PROT_COVID19',\n",
    "    'CD_UNIDADE',\n",
    "    'CD_LEITO',\n",
    "    'DS_UNIDADE'], axis=1)"
   ]
  },
  {
   "cell_type": "code",
   "execution_count": 1187,
   "id": "center-arrangement",
   "metadata": {},
   "outputs": [
    {
     "data": {
      "text/plain": [
       "0       1597032.0\n",
       "1       1651281.0\n",
       "2       1688648.0\n",
       "3       1725344.0\n",
       "4       1766519.0\n",
       "          ...    \n",
       "1323    2387683.0\n",
       "1324    2234420.0\n",
       "1325    1936797.0\n",
       "1326    2385774.0\n",
       "1327    2387419.0\n",
       "Name: CD_PACIENTE, Length: 1328, dtype: float64"
      ]
     },
     "execution_count": 1187,
     "metadata": {},
     "output_type": "execute_result"
    }
   ],
   "source": [
    "data['CD_PACIENTE']"
   ]
  },
  {
   "cell_type": "markdown",
   "id": "juvenile-pilot",
   "metadata": {},
   "source": [
    "## Calculadora do Charlson"
   ]
  },
  {
   "cell_type": "code",
   "execution_count": 1188,
   "id": "cardiovascular-southwest",
   "metadata": {},
   "outputs": [],
   "source": [
    "def resume(coluna, df):\n",
    "    missingC = df[coluna].isnull().sum()\n",
    "    print(\"Valores Faltantes: \", missingC)\n",
    "    print(df[coluna].value_counts())\n",
    "    ndf = df[~df[coluna].isna()].copy()\n",
    "    lista = ndf[coluna].unique().tolist()\n",
    "    print(coluna+\": \", lista)\n",
    "    return missingC\n",
    "\n",
    "def pre_dataset(df):\n",
    "    df = df[df['ESTUDO_CHARLSON'].isna()]\n",
    "    columns_list = df.columns.to_list()\n",
    "    list_comorb = []\n",
    "    for i in columns_list:\n",
    "        if i.startswith('ESTUDO_COMORB_PREV_'):\n",
    "            list_comorb.append(i)\n",
    "\n",
    "    df_cii = df[[\"CD_PACIENTE\", \"IDADE\", *list_comorb]]\n",
    "    df_cii = df_cii.rename(columns=str.lower)\n",
    "    df_cii.idade = df_cii.idade.str.split(',').str[0].astype(int)\n",
    "    return df_cii\n",
    "\n",
    "def score_charlson(df_cii):\n",
    "    columns_cii = ['estudo_comorb_prev_iam', 'estudo_comorb_prev_ic', 'estudo_comorb_prev_drc',\n",
    "               'estudo_comorb_prev_dmii', 'estudo_comorb_prev_carcinoma',\n",
    "               'estudo_comorb_prev_avc', 'estudo_comorb_prev_dpoc', 'estudo_comorb_prev_demencia', \n",
    "               'estudo_comorb_prev_leucemia', 'estudo_comorb_prev_hiv']\n",
    "\n",
    "    score = {'estudo_comorb_prev_iam': 1, 'estudo_comorb_prev_ic': 1, 'estudo_comorb_prev_drc': 2, 'estudo_comorb_prev_dmi': 1,\n",
    "             'estudo_comorb_prev_dmii': 2, 'estudo_comorb_prev_carcinoma': 6, 'estudo_comorb_prev_adenoma': 2,\n",
    "             'estudo_comorb_prev_linfoma': 2, 'estudo_comorb_prev_avc': 1, 'estudo_comorb_prev_dpoc': 1,\n",
    "             'estudo_comorb_prev_demencia': 1, 'estudo_comorb_prev_dtc': 1, 'estudo_comorb_prev_hemiplegia': 2,\n",
    "             'estudo_comorb_prev_leucemia': 2, 'estudo_comorb_prev_hiv': 6}\n",
    "\n",
    "    df_ciiF = df_cii[[\"cd_paciente\", \"idade\", *columns_cii]]\n",
    "    \n",
    "    df_ciiF['estudo_comorb_prev_iam'].replace({\"N\": 0, \"S\": 1}, inplace=True)\n",
    "    df_ciiF['estudo_comorb_prev_ic'].replace({\"N\": 0, \"S\": 1}, inplace=True)\n",
    "    df_ciiF['estudo_comorb_prev_drc'].replace({\"N\": 0, \"S\": 2}, inplace=True)\n",
    "    df_ciiF['estudo_comorb_prev_dmii'].replace({\"N\": 0, \"S\": 2}, inplace=True)\n",
    "    df_ciiF['estudo_comorb_prev_carcinoma'].replace({\"N\": 0, \"S\": 6}, inplace=True)\n",
    "    df_ciiF['estudo_comorb_prev_avc'].replace({\"N\": 0, \"S\": 1}, inplace=True)\n",
    "    df_ciiF['estudo_comorb_prev_dpoc'].replace({\"N\": 0, \"S\": 1}, inplace=True)\n",
    "    df_ciiF['estudo_comorb_prev_demencia'].replace({\"N\": 0, \"S\": 1}, inplace=True)\n",
    "    df_ciiF['estudo_comorb_prev_leucemia'].replace({\"N\": 0, \"S\": 2}, inplace=True)\n",
    "    df_ciiF['estudo_comorb_prev_hiv'].replace({\"N\": 0, \"S\": 6}, inplace=True)\n",
    "    \n",
    "    search = ' // ' or ','\n",
    "    df_ciiF['count_outras']= df_cii['estudo_comorb_prev_outras'].astype(str).str.count('//|,')\n",
    "    \n",
    "    idade_cii = []    \n",
    "\n",
    "    for idade in df_ciiF.idade:\n",
    "        if (idade >= 80):\n",
    "            idade_cii.append(4)\n",
    "        elif (idade >= 70 and idade <=79):\n",
    "            idade_cii.append(3)\n",
    "        elif (idade >= 60 and idade <=69):\n",
    "            idade_cii.append(2) \n",
    "        elif (idade >= 50 and idade <=59):\n",
    "            idade_cii.append(1)\n",
    "        else:\n",
    "            idade_cii.append(0)\n",
    "\n",
    "    df_ciiF['idade'] = idade_cii\n",
    "        \n",
    "    charlson = df_ciiF[['count_outras','idade', *columns_cii]].sum(axis = 1, skipna = True) \n",
    "    print(charlson)\n",
    "    \n",
    "    df_final = pd.DataFrame(charlson, columns=['estudo_charlson'])\n",
    "\n",
    "    df_final = df_final.assign(cd_paciente = df_ciiF['cd_paciente'])\n",
    "#    df_final = df_final.assign(idade = df_cii['idade'])\n",
    "    \n",
    "    return df_final"
   ]
  },
  {
   "cell_type": "code",
   "execution_count": 1189,
   "id": "inclusive-litigation",
   "metadata": {},
   "outputs": [
    {
     "data": {
      "text/plain": [
       "Index(['cd_paciente', 'idade', 'estudo_comorb_prev_has',\n",
       "       'estudo_comorb_prev_iam', 'estudo_comorb_prev_ic',\n",
       "       'estudo_comorb_prev_drc', 'estudo_comorb_prev_dmi',\n",
       "       'estudo_comorb_prev_dmii', 'estudo_comorb_prev_carcinoma',\n",
       "       'estudo_comorb_prev_adenoma', 'estudo_comorb_prev_linfoma',\n",
       "       'estudo_comorb_prev_avc', 'estudo_comorb_prev_asma',\n",
       "       'estudo_comorb_prev_dpoc', 'estudo_comorb_prev_obesidade',\n",
       "       'estudo_comorb_prev_epilepsia', 'estudo_comorb_prev_higido',\n",
       "       'estudo_comorb_prev_outras', 'estudo_comorb_prev_tx_org_sol',\n",
       "       'estudo_comorb_prev_descon', 'estudo_comorb_prev_dvp',\n",
       "       'estudo_comorb_prev_demencia', 'estudo_comorb_prev_dtc',\n",
       "       'estudo_comorb_prev_up', 'estudo_comorb_prev_dfl',\n",
       "       'estudo_comorb_prev_dfm', 'estudo_comorb_prev_hemiplegia',\n",
       "       'estudo_comorb_prev_leucemia', 'estudo_comorb_prev_hiv',\n",
       "       'estudo_comorb_prev_tul', 'estudo_comorb_prev_tum'],\n",
       "      dtype='object')"
      ]
     },
     "execution_count": 1189,
     "metadata": {},
     "output_type": "execute_result"
    }
   ],
   "source": [
    "pre_processing_data = pre_dataset(data)\n",
    "pre_processing_data.columns"
   ]
  },
  {
   "cell_type": "code",
   "execution_count": 1190,
   "id": "thorough-announcement",
   "metadata": {},
   "outputs": [
    {
     "name": "stdout",
     "output_type": "stream",
     "text": [
      "Valores Faltantes:  1185\n",
      "5.0     33\n",
      "4.0     24\n",
      "2.0     19\n",
      "6.0     17\n",
      "3.0     16\n",
      "1.0     10\n",
      "7.0      8\n",
      "10.0     6\n",
      "8.0      6\n",
      "0.0      2\n",
      "9.0      2\n",
      "Name: ESTUDO_CHARLSON, dtype: int64\n",
      "ESTUDO_CHARLSON:  [2.0, 5.0, 1.0, 3.0, 6.0, 7.0, 4.0, 8.0, 9.0, 10.0, 0.0]\n"
     ]
    },
    {
     "data": {
      "text/plain": [
       "1185"
      ]
     },
     "execution_count": 1190,
     "metadata": {},
     "output_type": "execute_result"
    }
   ],
   "source": [
    "resume('ESTUDO_CHARLSON', df)"
   ]
  },
  {
   "cell_type": "code",
   "execution_count": 1191,
   "id": "described-earthquake",
   "metadata": {
    "scrolled": true
   },
   "outputs": [
    {
     "name": "stdout",
     "output_type": "stream",
     "text": [
      "0       2.0\n",
      "1       3.0\n",
      "2       3.0\n",
      "3       0.0\n",
      "4       0.0\n",
      "       ... \n",
      "1323    4.0\n",
      "1324    3.0\n",
      "1325    0.0\n",
      "1326    3.0\n",
      "1327    2.0\n",
      "Length: 1185, dtype: float64\n"
     ]
    },
    {
     "name": "stderr",
     "output_type": "stream",
     "text": [
      "/Users/giggio/opt/anaconda3/envs/edaML/lib/python3.6/site-packages/pandas/core/series.py:4569: SettingWithCopyWarning: \n",
      "A value is trying to be set on a copy of a slice from a DataFrame\n",
      "\n",
      "See the caveats in the documentation: https://pandas.pydata.org/pandas-docs/stable/user_guide/indexing.html#returning-a-view-versus-a-copy\n",
      "  method=method,\n",
      "/Users/giggio/opt/anaconda3/envs/edaML/lib/python3.6/site-packages/ipykernel_launcher.py:49: SettingWithCopyWarning: \n",
      "A value is trying to be set on a copy of a slice from a DataFrame.\n",
      "Try using .loc[row_indexer,col_indexer] = value instead\n",
      "\n",
      "See the caveats in the documentation: https://pandas.pydata.org/pandas-docs/stable/user_guide/indexing.html#returning-a-view-versus-a-copy\n",
      "/Users/giggio/opt/anaconda3/envs/edaML/lib/python3.6/site-packages/ipykernel_launcher.py:65: SettingWithCopyWarning: \n",
      "A value is trying to be set on a copy of a slice from a DataFrame.\n",
      "Try using .loc[row_indexer,col_indexer] = value instead\n",
      "\n",
      "See the caveats in the documentation: https://pandas.pydata.org/pandas-docs/stable/user_guide/indexing.html#returning-a-view-versus-a-copy\n"
     ]
    }
   ],
   "source": [
    "charlson_complete = score_charlson(pre_processing_data)"
   ]
  },
  {
   "cell_type": "code",
   "execution_count": 1192,
   "id": "mineral-acrobat",
   "metadata": {},
   "outputs": [
    {
     "data": {
      "text/html": [
       "<div>\n",
       "<style scoped>\n",
       "    .dataframe tbody tr th:only-of-type {\n",
       "        vertical-align: middle;\n",
       "    }\n",
       "\n",
       "    .dataframe tbody tr th {\n",
       "        vertical-align: top;\n",
       "    }\n",
       "\n",
       "    .dataframe thead th {\n",
       "        text-align: right;\n",
       "    }\n",
       "</style>\n",
       "<table border=\"1\" class=\"dataframe\">\n",
       "  <thead>\n",
       "    <tr style=\"text-align: right;\">\n",
       "      <th></th>\n",
       "      <th>estudo_charlson</th>\n",
       "      <th>cd_paciente</th>\n",
       "    </tr>\n",
       "  </thead>\n",
       "  <tbody>\n",
       "    <tr>\n",
       "      <th>0</th>\n",
       "      <td>2.0</td>\n",
       "      <td>1597032.0</td>\n",
       "    </tr>\n",
       "    <tr>\n",
       "      <th>1</th>\n",
       "      <td>3.0</td>\n",
       "      <td>1651281.0</td>\n",
       "    </tr>\n",
       "    <tr>\n",
       "      <th>2</th>\n",
       "      <td>3.0</td>\n",
       "      <td>1688648.0</td>\n",
       "    </tr>\n",
       "    <tr>\n",
       "      <th>3</th>\n",
       "      <td>0.0</td>\n",
       "      <td>1725344.0</td>\n",
       "    </tr>\n",
       "    <tr>\n",
       "      <th>4</th>\n",
       "      <td>0.0</td>\n",
       "      <td>1766519.0</td>\n",
       "    </tr>\n",
       "  </tbody>\n",
       "</table>\n",
       "</div>"
      ],
      "text/plain": [
       "   estudo_charlson  cd_paciente\n",
       "0              2.0    1597032.0\n",
       "1              3.0    1651281.0\n",
       "2              3.0    1688648.0\n",
       "3              0.0    1725344.0\n",
       "4              0.0    1766519.0"
      ]
     },
     "execution_count": 1192,
     "metadata": {},
     "output_type": "execute_result"
    }
   ],
   "source": [
    "charlson_complete.head()"
   ]
  },
  {
   "cell_type": "code",
   "execution_count": 1193,
   "id": "dietary-biodiversity",
   "metadata": {},
   "outputs": [
    {
     "data": {
      "image/png": "[encoded data removed]",
      "text/plain": [
       "<Figure size 1440x720 with 1 Axes>"
      ]
     },
     "metadata": {},
     "output_type": "display_data"
    }
   ],
   "source": [
    "plt.figure(figsize=(20, 10))\n",
    "sns.histplot(charlson_complete.estudo_charlson, kde=True)\n",
    "plt.title(\"Charlson\")\n",
    "plt.show()"
   ]
  },
  {
   "cell_type": "code",
   "execution_count": 1194,
   "id": "destroyed-dream",
   "metadata": {},
   "outputs": [
    {
     "data": {
      "text/plain": [
       "0.0     278\n",
       "2.0     275\n",
       "3.0     234\n",
       "4.0     202\n",
       "1.0     194\n",
       "6.0       1\n",
       "11.0      1\n",
       "Name: estudo_charlson, dtype: int64"
      ]
     },
     "execution_count": 1194,
     "metadata": {},
     "output_type": "execute_result"
    }
   ],
   "source": [
    "charlson_complete.estudo_charlson.value_counts()"
   ]
  },
  {
   "cell_type": "markdown",
   "id": "applied-difference",
   "metadata": {},
   "source": [
    "## Análise de cada variável restante"
   ]
  },
  {
   "cell_type": "code",
   "execution_count": 1195,
   "id": "smoking-marsh",
   "metadata": {},
   "outputs": [],
   "source": [
    "def __getDictToReplace(keys):\n",
    "    d = {}\n",
    "    for k in keys:\n",
    "        d[k] = keys.index(k) + 1\n",
    "    return d"
   ]
  },
  {
   "cell_type": "markdown",
   "id": "advised-carter",
   "metadata": {},
   "source": [
    "#### COLETOU_AMOSTRA"
   ]
  },
  {
   "cell_type": "code",
   "execution_count": 1196,
   "id": "touched-victim",
   "metadata": {},
   "outputs": [
    {
     "data": {
      "text/plain": [
       "SIM    1316\n",
       "NAO      12\n",
       "Name: COLETOU_AMOSTRA, dtype: int64"
      ]
     },
     "execution_count": 1196,
     "metadata": {},
     "output_type": "execute_result"
    }
   ],
   "source": [
    "data['COLETOU_AMOSTRA'].value_counts()"
   ]
  },
  {
   "cell_type": "code",
   "execution_count": 1197,
   "id": "arranged-fairy",
   "metadata": {},
   "outputs": [],
   "source": [
    "data['COLETOU_AMOSTRA'] = data['COLETOU_AMOSTRA'].replace({'SIM': 1, 'NAO': 0})"
   ]
  },
  {
   "cell_type": "markdown",
   "id": "backed-memorabilia",
   "metadata": {},
   "source": [
    "#### [REMOVED] LOCAL_COLETA"
   ]
  },
  {
   "cell_type": "code",
   "execution_count": 1198,
   "id": "lyric-corpus",
   "metadata": {},
   "outputs": [
    {
     "data": {
      "text/plain": [
       "PRONTOPUC ADULTO/INTE                   484\n",
       "PRONTOPUC ADULTO                        353\n",
       "EMERGENCIA ADULTA SUS/INTE               93\n",
       "EMERGENCIA ADULTA SUS                    75\n",
       "8 S - INTERNACAO                         54\n",
       "8 N - INTERNACAO                         31\n",
       "SALA DE RECUPERACAO                      29\n",
       "UTI-CORONARIANA                          28\n",
       "7 S - INTERNACAO                         27\n",
       "5 S - INTERNAÇÃO                         22\n",
       "7 N - INTERNACAO                         19\n",
       "UTI GERAL AREA II                        17\n",
       "6 S - INTERNACAO                         15\n",
       "COVID SUS - INTERNACAO                   11\n",
       "9 N - INTERNACAO                          8\n",
       "UTI POS OPERATORIO CIRURGIA CARDIACA      8\n",
       "UTI-CIRURGICA                             7\n",
       "9 S - INTERNACAO                          5\n",
       "6 N - INTERNACAO                          5\n",
       "UTI 3A COVID CONVENIOS ADULTO             4\n",
       "PSIQUIATRIA - INTERNACAO                  4\n",
       "UTI GERAL AREA I                          4\n",
       "HEMODINAMICA                              4\n",
       "5 S - INTERNAÇÃO CCG                      3\n",
       "LACEN                                     3\n",
       "LACEN/Particular                          3\n",
       "TRAUMATO AMBULATORIAL                     2\n",
       "LACEN, particular                         1\n",
       "AMBULATORIOS  GERAL CONJ                  1\n",
       "Particular                                1\n",
       "LACEN/HSL                                 1\n",
       "LACEN,Particular                          1\n",
       "LACEN+particular                          1\n",
       "PPUC                                      1\n",
       "exame externo                             1\n",
       "LACEN, Particular                         1\n",
       "Name: LOCAL_COLETA, dtype: int64"
      ]
     },
     "execution_count": 1198,
     "metadata": {},
     "output_type": "execute_result"
    }
   ],
   "source": [
    "data['LOCAL_COLETA'].value_counts() #DROP"
   ]
  },
  {
   "cell_type": "code",
   "execution_count": 1199,
   "id": "undefined-following",
   "metadata": {},
   "outputs": [],
   "source": [
    "data = data.drop(['LOCAL_COLETA'], axis=1)"
   ]
  },
  {
   "cell_type": "markdown",
   "id": "pharmaceutical-transformation",
   "metadata": {},
   "source": [
    "#### [REMOVED] PCR_INFLUENZA"
   ]
  },
  {
   "cell_type": "code",
   "execution_count": 1200,
   "id": "romantic-arrow",
   "metadata": {},
   "outputs": [
    {
     "data": {
      "text/plain": [
       "EM ANDAMENTO    4\n",
       "Name: PCR_INFLUENZA, dtype: int64"
      ]
     },
     "execution_count": 1200,
     "metadata": {},
     "output_type": "execute_result"
    }
   ],
   "source": [
    "data['PCR_INFLUENZA'].value_counts() #DROP"
   ]
  },
  {
   "cell_type": "code",
   "execution_count": 1201,
   "id": "robust-probe",
   "metadata": {},
   "outputs": [],
   "source": [
    "data = data.drop(['PCR_INFLUENZA'], axis=1)"
   ]
  },
  {
   "cell_type": "markdown",
   "id": "august-north",
   "metadata": {},
   "source": [
    "#### IFI_OUTRO_VIRUS"
   ]
  },
  {
   "cell_type": "code",
   "execution_count": 1202,
   "id": "ready-enlargement",
   "metadata": {},
   "outputs": [],
   "source": [
    "data['IFI_OUTRO_VIRUS'] = data['IFI_OUTRO_VIRUS'].fillna('NI')"
   ]
  },
  {
   "cell_type": "code",
   "execution_count": 1203,
   "id": "matched-disability",
   "metadata": {},
   "outputs": [
    {
     "data": {
      "text/plain": [
       "NI              1322\n",
       "EM ANDAMENTO       4\n",
       "NEGATIVO           2\n",
       "Name: IFI_OUTRO_VIRUS, dtype: int64"
      ]
     },
     "execution_count": 1203,
     "metadata": {},
     "output_type": "execute_result"
    }
   ],
   "source": [
    "data['IFI_OUTRO_VIRUS'].value_counts()"
   ]
  },
  {
   "cell_type": "code",
   "execution_count": 1204,
   "id": "informational-biotechnology",
   "metadata": {},
   "outputs": [],
   "source": [
    "data['IFI_OUTRO_VIRUS'] = data['IFI_OUTRO_VIRUS'].replace({'EM ANDAMENTO': 1, 'NEGATIVO': 0, 'NI': 2})"
   ]
  },
  {
   "cell_type": "markdown",
   "id": "defined-skirt",
   "metadata": {},
   "source": [
    "#### [REMOVED] DESFECHO"
   ]
  },
  {
   "cell_type": "code",
   "execution_count": 1205,
   "id": "universal-thomson",
   "metadata": {},
   "outputs": [
    {
     "data": {
      "text/plain": [
       "NÃO INFORMADO    1302\n",
       "INTERNAÇÃO         26\n",
       "Name: DESFECHO, dtype: int64"
      ]
     },
     "execution_count": 1205,
     "metadata": {},
     "output_type": "execute_result"
    }
   ],
   "source": [
    "data['DESFECHO'].value_counts() #DROP"
   ]
  },
  {
   "cell_type": "code",
   "execution_count": 1206,
   "id": "dietary-seating",
   "metadata": {},
   "outputs": [],
   "source": [
    "data = data.drop(['DESFECHO'], axis=1)"
   ]
  },
  {
   "cell_type": "markdown",
   "id": "entertaining-allocation",
   "metadata": {},
   "source": [
    "#### CD_PACIENTE"
   ]
  },
  {
   "cell_type": "markdown",
   "id": "outstanding-wealth",
   "metadata": {},
   "source": [
    "Essa feature permance no dataset, pois depois permite fazer buscas mais precisas.\n",
    "Não é necessário fazer nenhum processamento nela."
   ]
  },
  {
   "cell_type": "markdown",
   "id": "stock-picture",
   "metadata": {},
   "source": [
    "#### GENERO"
   ]
  },
  {
   "cell_type": "code",
   "execution_count": 1207,
   "id": "upset-declaration",
   "metadata": {},
   "outputs": [
    {
     "data": {
      "text/plain": [
       "MASCULINO    676\n",
       "FEMININO     652\n",
       "Name: GENERO, dtype: int64"
      ]
     },
     "execution_count": 1207,
     "metadata": {},
     "output_type": "execute_result"
    }
   ],
   "source": [
    "data['GENERO'].value_counts()"
   ]
  },
  {
   "cell_type": "code",
   "execution_count": 1208,
   "id": "numerous-letter",
   "metadata": {},
   "outputs": [],
   "source": [
    "data['GENERO'] = data['GENERO'].replace({'MASCULINO': 1, 'FEMININO': 0})"
   ]
  },
  {
   "cell_type": "markdown",
   "id": "patent-thickness",
   "metadata": {},
   "source": [
    "#### IDADE"
   ]
  },
  {
   "cell_type": "code",
   "execution_count": 1209,
   "id": "proof-bosnia",
   "metadata": {},
   "outputs": [
    {
     "data": {
      "text/plain": [
       "66,8901826484018    2\n",
       "80,9559360730594    2\n",
       "80,0299086757991    2\n",
       "75,7285388127854    2\n",
       "63,4353881278539    2\n",
       "                   ..\n",
       "67,8792237442922    1\n",
       "52,1997716894977    1\n",
       "66,8764840182648    1\n",
       "47,5860730593607    1\n",
       "66,4408675799087    1\n",
       "Name: IDADE, Length: 1293, dtype: int64"
      ]
     },
     "execution_count": 1209,
     "metadata": {},
     "output_type": "execute_result"
    }
   ],
   "source": [
    "data['IDADE'].value_counts()"
   ]
  },
  {
   "cell_type": "markdown",
   "id": "filled-waters",
   "metadata": {},
   "source": [
    "Essa feature já é numérica."
   ]
  },
  {
   "cell_type": "markdown",
   "id": "requested-spectacular",
   "metadata": {},
   "source": [
    "#### DIAGNOSTICO_SARS"
   ]
  },
  {
   "cell_type": "code",
   "execution_count": 1210,
   "id": "headed-vector",
   "metadata": {},
   "outputs": [
    {
     "data": {
      "text/plain": [
       "NÃO    973\n",
       "SIM    355\n",
       "Name: DIAGNOSTICO_SARS, dtype: int64"
      ]
     },
     "execution_count": 1210,
     "metadata": {},
     "output_type": "execute_result"
    }
   ],
   "source": [
    "data['DIAGNOSTICO_SARS'].value_counts()"
   ]
  },
  {
   "cell_type": "code",
   "execution_count": 1211,
   "id": "considered-alarm",
   "metadata": {},
   "outputs": [],
   "source": [
    "data['DIAGNOSTICO_SARS'] = data['DIAGNOSTICO_SARS'].replace({'SIM': 1, 'NÃO': 0})"
   ]
  },
  {
   "cell_type": "markdown",
   "id": "chicken-withdrawal",
   "metadata": {},
   "source": [
    "#### CD_CID"
   ]
  },
  {
   "cell_type": "code",
   "execution_count": 1212,
   "id": "northern-movement",
   "metadata": {},
   "outputs": [
    {
     "data": {
      "text/plain": [
       "B342    353\n",
       "B349    236\n",
       "A419     55\n",
       "U071     23\n",
       "I200     22\n",
       "       ... \n",
       "C967      1\n",
       "I060      1\n",
       "C162      1\n",
       "I029      1\n",
       "L023      1\n",
       "Name: CD_CID, Length: 328, dtype: int64"
      ]
     },
     "execution_count": 1212,
     "metadata": {},
     "output_type": "execute_result"
    }
   ],
   "source": [
    "data['CD_CID'].value_counts()"
   ]
  },
  {
   "cell_type": "code",
   "execution_count": 1213,
   "id": "urban-going",
   "metadata": {},
   "outputs": [],
   "source": [
    "keys = data['CD_CID'].value_counts().keys().tolist()"
   ]
  },
  {
   "cell_type": "code",
   "execution_count": 1214,
   "id": "egyptian-rubber",
   "metadata": {},
   "outputs": [],
   "source": [
    "dictToReplace = __getDictToReplace(keys)"
   ]
  },
  {
   "cell_type": "code",
   "execution_count": 1215,
   "id": "technical-writer",
   "metadata": {},
   "outputs": [
    {
     "data": {
      "text/plain": [
       "{'B342': 1,\n",
       " 'B349': 2,\n",
       " 'A419': 3,\n",
       " 'U071': 4,\n",
       " 'I200': 5,\n",
       " 'I64': 6,\n",
       " 'I500': 7,\n",
       " 'K359': 8,\n",
       " 'J180': 9,\n",
       " 'N180': 10,\n",
       " 'J960': 11,\n",
       " 'I219': 12,\n",
       " 'N179': 13,\n",
       " 'J159': 14,\n",
       " 'I743': 15,\n",
       " 'N390': 16,\n",
       " 'J18': 17,\n",
       " 'R100': 18,\n",
       " 'R060': 19,\n",
       " 'A499': 20,\n",
       " 'J81': 21,\n",
       " 'K810': 22,\n",
       " 'J15': 23,\n",
       " 'I639': 24,\n",
       " 'K921': 25,\n",
       " 'I48': 26,\n",
       " 'I269': 27,\n",
       " 'J189': 28,\n",
       " 'J129': 29,\n",
       " 'C509': 30,\n",
       " 'C61': 31,\n",
       " 'G409': 32,\n",
       " 'I509': 33,\n",
       " 'K920': 34,\n",
       " 'N189': 35,\n",
       " 'C349': 36,\n",
       " 'J90': 37,\n",
       " 'K859': 38,\n",
       " 'G402': 39,\n",
       " 'B972': 40,\n",
       " 'S828': 41,\n",
       " 'B338': 42,\n",
       " 'K850': 43,\n",
       " 'I442': 44,\n",
       " 'S720': 45,\n",
       " 'N188': 46,\n",
       " 'C348': 47,\n",
       " 'N200': 48,\n",
       " 'B340': 49,\n",
       " 'I26': 50,\n",
       " 'I50': 51,\n",
       " 'I21': 52,\n",
       " 'I255': 53,\n",
       " 'M169': 54,\n",
       " 'K57': 55,\n",
       " 'N17': 56,\n",
       " 'J12': 57,\n",
       " 'C679': 58,\n",
       " 'C189': 59,\n",
       " 'E141': 60,\n",
       " 'I739': 61,\n",
       " 'C188': 62,\n",
       " 'B258': 63,\n",
       " 'N029': 64,\n",
       " 'N201': 65,\n",
       " 'I209': 66,\n",
       " 'F05': 67,\n",
       " 'S721': 68,\n",
       " 'M009': 69,\n",
       " 'E875': 70,\n",
       " 'C811': 71,\n",
       " 'A498': 72,\n",
       " 'T813': 73,\n",
       " 'Z988': 74,\n",
       " 'C187': 75,\n",
       " 'I710': 76,\n",
       " 'J80': 77,\n",
       " 'C64': 78,\n",
       " 'G049': 79,\n",
       " 'R579': 80,\n",
       " 'R34': 81,\n",
       " 'C793': 82,\n",
       " 'B34': 83,\n",
       " 'G959': 84,\n",
       " 'D638': 85,\n",
       " 'A415': 86,\n",
       " 'C329': 87,\n",
       " 'I210': 88,\n",
       " 'R520': 89,\n",
       " 'K830': 90,\n",
       " 'A488': 91,\n",
       " 'C80': 92,\n",
       " 'B348': 93,\n",
       " 'U049': 94,\n",
       " 'K562': 95,\n",
       " 'R074': 96,\n",
       " 'C629': 97,\n",
       " 'R51': 98,\n",
       " 'A09': 99,\n",
       " 'D376': 100,\n",
       " 'C798': 101,\n",
       " 'A41': 102,\n",
       " 'J441': 103,\n",
       " 'A418': 104,\n",
       " 'C20': 105,\n",
       " 'K802': 106,\n",
       " 'F609': 107,\n",
       " 'C169': 108,\n",
       " 'F29': 109,\n",
       " 'N165': 110,\n",
       " 'K729': 111,\n",
       " 'G058': 112,\n",
       " 'G700': 113,\n",
       " 'J948': 114,\n",
       " 'S722': 115,\n",
       " 'I81': 116,\n",
       " 'Q282': 117,\n",
       " 'I652': 118,\n",
       " 'K81': 119,\n",
       " 'N288': 120,\n",
       " 'J440': 121,\n",
       " 'N40': 122,\n",
       " 'S423': 123,\n",
       " 'L038': 124,\n",
       " 'C340': 125,\n",
       " 'I832': 126,\n",
       " 'I635': 127,\n",
       " 'K804': 128,\n",
       " 'R571': 129,\n",
       " 'A490': 130,\n",
       " 'K40': 131,\n",
       " 'S06': 132,\n",
       " 'I248': 133,\n",
       " 'N20': 134,\n",
       " 'E105': 135,\n",
       " 'N39': 136,\n",
       " 'K509': 137,\n",
       " 'K659': 138,\n",
       " 'K590': 139,\n",
       " 'K564': 140,\n",
       " 'E112': 141,\n",
       " 'C676': 142,\n",
       " 'D71': 143,\n",
       " 'G408': 144,\n",
       " 'E871': 145,\n",
       " 'J100': 146,\n",
       " 'J00': 147,\n",
       " 'D320': 148,\n",
       " 'G629': 149,\n",
       " 'K818': 150,\n",
       " 'C53': 151,\n",
       " 'G822': 152,\n",
       " 'C50': 153,\n",
       " 'I20': 154,\n",
       " 'J068': 155,\n",
       " 'I618': 156,\n",
       " 'R55': 157,\n",
       " 'I714': 158,\n",
       " 'I470': 159,\n",
       " 'I428': 160,\n",
       " 'I738': 161,\n",
       " 'G45': 162,\n",
       " 'I469': 163,\n",
       " 'C248': 164,\n",
       " 'J156': 165,\n",
       " 'R529': 166,\n",
       " 'K858': 167,\n",
       " 'J110': 168,\n",
       " 'C56': 169,\n",
       " 'F209': 170,\n",
       " 'A521': 171,\n",
       " 'F059': 172,\n",
       " 'B207': 173,\n",
       " 'V049': 174,\n",
       " 'I330': 175,\n",
       " 'C25': 176,\n",
       " 'J930': 177,\n",
       " 'A183': 178,\n",
       " 'L129': 179,\n",
       " 'K800': 180,\n",
       " 'I24': 181,\n",
       " 'J188': 182,\n",
       " 'R198': 183,\n",
       " 'J219': 184,\n",
       " 'G610': 185,\n",
       " 'F02': 186,\n",
       " 'D110': 187,\n",
       " 'R001': 188,\n",
       " 'G40': 189,\n",
       " 'B199': 190,\n",
       " 'K251': 191,\n",
       " 'G403': 192,\n",
       " 'C19': 193,\n",
       " 'C79': 194,\n",
       " 'A199': 195,\n",
       " 'A483': 196,\n",
       " 'R578': 197,\n",
       " 'J128': 198,\n",
       " 'D440': 199,\n",
       " 'B022': 200,\n",
       " 'I441': 201,\n",
       " 'C343': 202,\n",
       " 'C911': 203,\n",
       " 'F312': 204,\n",
       " 'A698': 205,\n",
       " 'A154': 206,\n",
       " 'D489': 207,\n",
       " 'M629': 208,\n",
       " 'I158': 209,\n",
       " 'K572': 210,\n",
       " 'S730': 211,\n",
       " 'D758': 212,\n",
       " 'I214': 213,\n",
       " 'M86': 214,\n",
       " 'S069': 215,\n",
       " 'I211': 216,\n",
       " 'F430': 217,\n",
       " 'M862': 218,\n",
       " 'M342': 219,\n",
       " 'K750': 220,\n",
       " 'A879': 221,\n",
       " 'R33': 222,\n",
       " 'N18': 223,\n",
       " 'D481': 224,\n",
       " 'S729': 225,\n",
       " 'I802': 226,\n",
       " 'B004': 227,\n",
       " 'G458': 228,\n",
       " 'J152': 229,\n",
       " 'R739': 230,\n",
       " 'R52': 231,\n",
       " 'G35': 232,\n",
       " 'N412': 233,\n",
       " 'C259': 234,\n",
       " 'M993': 235,\n",
       " 'C229': 236,\n",
       " 'C830': 237,\n",
       " 'F319': 238,\n",
       " 'M352': 239,\n",
       " 'N359': 240,\n",
       " 'C439': 241,\n",
       " 'I959': 242,\n",
       " 'C16': 243,\n",
       " 'C950': 244,\n",
       " 'C504': 245,\n",
       " 'M966': 246,\n",
       " 'E142': 247,\n",
       " 'G934': 248,\n",
       " 'C435': 249,\n",
       " 'G368': 250,\n",
       " 'I159': 251,\n",
       " 'D259': 252,\n",
       " 'M662': 253,\n",
       " 'T861': 254,\n",
       " 'G373': 255,\n",
       " 'F69': 256,\n",
       " 'C538': 257,\n",
       " 'R521': 258,\n",
       " 'C460': 259,\n",
       " 'C719': 260,\n",
       " 'G009': 261,\n",
       " 'K639': 262,\n",
       " 'B439': 263,\n",
       " 'G932': 264,\n",
       " 'L08': 265,\n",
       " 'R220': 266,\n",
       " 'C787': 267,\n",
       " 'T782': 268,\n",
       " 'C901': 269,\n",
       " 'K922': 270,\n",
       " 'C929': 271,\n",
       " 'C18': 272,\n",
       " 'B690': 273,\n",
       " 'B344': 274,\n",
       " 'R18': 275,\n",
       " 'M490': 276,\n",
       " 'C10': 277,\n",
       " 'N19': 278,\n",
       " 'D619': 279,\n",
       " 'K593': 280,\n",
       " 'J988': 281,\n",
       " 'K36': 282,\n",
       " 'D649': 283,\n",
       " 'I61': 284,\n",
       " 'C889': 285,\n",
       " 'C959': 286,\n",
       " 'S723': 287,\n",
       " 'K628': 288,\n",
       " 'D377': 289,\n",
       " 'B24': 290,\n",
       " 'K808': 291,\n",
       " 'R410': 292,\n",
       " 'M542': 293,\n",
       " 'C541': 294,\n",
       " 'J42': 295,\n",
       " 'K929': 296,\n",
       " 'N132': 297,\n",
       " 'J96': 298,\n",
       " 'C920': 299,\n",
       " 'K566': 300,\n",
       " 'B41': 301,\n",
       " 'J969': 302,\n",
       " 'X640': 303,\n",
       " 'C844': 304,\n",
       " 'C34': 305,\n",
       " 'I501': 306,\n",
       " 'M199': 307,\n",
       " 'C269': 308,\n",
       " 'K610': 309,\n",
       " 'B341': 310,\n",
       " 'F322': 311,\n",
       " 'L089': 312,\n",
       " 'G952': 313,\n",
       " 'I472': 314,\n",
       " 'C220': 315,\n",
       " 'C900': 316,\n",
       " 'J158': 317,\n",
       " 'C498': 318,\n",
       " 'E111': 319,\n",
       " 'J069': 320,\n",
       " 'G031': 321,\n",
       " 'E86': 322,\n",
       " 'N511': 323,\n",
       " 'C967': 324,\n",
       " 'I060': 325,\n",
       " 'C162': 326,\n",
       " 'I029': 327,\n",
       " 'L023': 328}"
      ]
     },
     "execution_count": 1215,
     "metadata": {},
     "output_type": "execute_result"
    }
   ],
   "source": [
    "dictToReplace"
   ]
  },
  {
   "cell_type": "code",
   "execution_count": 1216,
   "id": "durable-evolution",
   "metadata": {},
   "outputs": [],
   "source": [
    "data['CD_CID'] = data['CD_CID'].replace(dictToReplace)"
   ]
  },
  {
   "cell_type": "markdown",
   "id": "headed-badge",
   "metadata": {},
   "source": [
    "#### DS_ESPECIALID_SAI"
   ]
  },
  {
   "cell_type": "code",
   "execution_count": 1217,
   "id": "ambient-worcester",
   "metadata": {},
   "outputs": [
    {
     "data": {
      "text/plain": [
       "CLINICA MEDICA                    402\n",
       "NEFROLOGIA                        182\n",
       "PNEUMOLOGIA                       131\n",
       "INFECTOLOGIA                      129\n",
       "CARDIOLOGIA                       100\n",
       "NEUROLOGIA                         75\n",
       "MEDICINA INTENSIVA                 50\n",
       "ONCOLOGIA CLINICA                  47\n",
       "CIRURGIA GERAL                     34\n",
       "ORTOPEDIA E TRAUMATOLOGIA          25\n",
       "GERIATRIA                          25\n",
       "UROLOGIA                           23\n",
       "CIRURGIA DO APARELHO DIGESTIVO     22\n",
       "GASTROENTEROLOGIA                  19\n",
       "CIRURGIA CARDIOVASCULAR            15\n",
       "PSIQUIATRIA                         7\n",
       "HEMATOLOGIA E HEMOTERAPIA           6\n",
       "COLOPROCTOLOGIA                     6\n",
       "CIRURGIA TORACICA                   6\n",
       "GINECOLOGIA E OBSTETRICIA           5\n",
       "NEUROCIRURGIA                       4\n",
       "OTORRINOLARINGOLOGIA                3\n",
       "MEDICINA DE EMERGENCIA              2\n",
       "CIRURGIA ONCOLOGICA                 2\n",
       "CIRURGIA VASCULAR                   2\n",
       "MEDICINA FAMILIA E COMUNIDADE       1\n",
       "CIRURGIA DE CABEÇA E PESCOÇO        1\n",
       "ENDOCRINOLOGIA E METABOLOGIA        1\n",
       "REUMATOLOGIA                        1\n",
       "ENDOSCOPIA                          1\n",
       "CIRURGIA DA MÃO                     1\n",
       "Name: DS_ESPECIALID_SAI, dtype: int64"
      ]
     },
     "execution_count": 1217,
     "metadata": {},
     "output_type": "execute_result"
    }
   ],
   "source": [
    "data['DS_ESPECIALID_SAI'].value_counts()"
   ]
  },
  {
   "cell_type": "code",
   "execution_count": 1218,
   "id": "positive-pattern",
   "metadata": {},
   "outputs": [],
   "source": [
    "keys = data['DS_ESPECIALID_SAI'].value_counts().keys().tolist()"
   ]
  },
  {
   "cell_type": "code",
   "execution_count": 1219,
   "id": "underlying-coffee",
   "metadata": {},
   "outputs": [],
   "source": [
    "dictToReplace = __getDictToReplace(keys)"
   ]
  },
  {
   "cell_type": "code",
   "execution_count": 1220,
   "id": "copyrighted-convenience",
   "metadata": {},
   "outputs": [
    {
     "data": {
      "text/plain": [
       "{'CLINICA MEDICA': 1,\n",
       " 'NEFROLOGIA': 2,\n",
       " 'PNEUMOLOGIA': 3,\n",
       " 'INFECTOLOGIA': 4,\n",
       " 'CARDIOLOGIA': 5,\n",
       " 'NEUROLOGIA': 6,\n",
       " 'MEDICINA INTENSIVA': 7,\n",
       " 'ONCOLOGIA CLINICA': 8,\n",
       " 'CIRURGIA GERAL': 9,\n",
       " 'ORTOPEDIA E TRAUMATOLOGIA': 10,\n",
       " 'GERIATRIA': 11,\n",
       " 'UROLOGIA': 12,\n",
       " 'CIRURGIA DO APARELHO DIGESTIVO': 13,\n",
       " 'GASTROENTEROLOGIA': 14,\n",
       " 'CIRURGIA CARDIOVASCULAR': 15,\n",
       " 'PSIQUIATRIA': 16,\n",
       " 'HEMATOLOGIA E HEMOTERAPIA': 17,\n",
       " 'COLOPROCTOLOGIA': 18,\n",
       " 'CIRURGIA TORACICA': 19,\n",
       " 'GINECOLOGIA E OBSTETRICIA': 20,\n",
       " 'NEUROCIRURGIA': 21,\n",
       " 'OTORRINOLARINGOLOGIA': 22,\n",
       " 'MEDICINA DE EMERGENCIA': 23,\n",
       " 'CIRURGIA ONCOLOGICA': 24,\n",
       " 'CIRURGIA VASCULAR': 25,\n",
       " 'MEDICINA FAMILIA E COMUNIDADE': 26,\n",
       " 'CIRURGIA DE CABEÇA E PESCOÇO': 27,\n",
       " 'ENDOCRINOLOGIA E METABOLOGIA': 28,\n",
       " 'REUMATOLOGIA': 29,\n",
       " 'ENDOSCOPIA': 30,\n",
       " 'CIRURGIA DA MÃO': 31}"
      ]
     },
     "execution_count": 1220,
     "metadata": {},
     "output_type": "execute_result"
    }
   ],
   "source": [
    "dictToReplace"
   ]
  },
  {
   "cell_type": "code",
   "execution_count": 1221,
   "id": "directed-harvey",
   "metadata": {},
   "outputs": [],
   "source": [
    "data['DS_ESPECIALID_SAI'] = data['DS_ESPECIALID_SAI'].replace(dictToReplace)"
   ]
  },
  {
   "cell_type": "markdown",
   "id": "forbidden-acoustic",
   "metadata": {},
   "source": [
    "#### REINTER_30D"
   ]
  },
  {
   "cell_type": "code",
   "execution_count": 1222,
   "id": "meaningful-archive",
   "metadata": {},
   "outputs": [
    {
     "data": {
      "text/plain": [
       "NÃO    1204\n",
       "SIM     124\n",
       "Name: REINTER_30D, dtype: int64"
      ]
     },
     "execution_count": 1222,
     "metadata": {},
     "output_type": "execute_result"
    }
   ],
   "source": [
    "data['REINTER_30D'].value_counts()"
   ]
  },
  {
   "cell_type": "code",
   "execution_count": 1223,
   "id": "enclosed-merit",
   "metadata": {},
   "outputs": [],
   "source": [
    "data['REINTER_30D'] = data['REINTER_30D'].replace({'SIM': 1, 'NÃO': 0})"
   ]
  },
  {
   "cell_type": "markdown",
   "id": "planned-longitude",
   "metadata": {},
   "source": [
    "#### CARATER_ATENDIMENTO"
   ]
  },
  {
   "cell_type": "code",
   "execution_count": 1224,
   "id": "aggressive-insert",
   "metadata": {},
   "outputs": [
    {
     "data": {
      "text/plain": [
       "URGÊNCIA    1008\n",
       "ELETIVO      320\n",
       "Name: CARATER_ATENDIMENTO, dtype: int64"
      ]
     },
     "execution_count": 1224,
     "metadata": {},
     "output_type": "execute_result"
    }
   ],
   "source": [
    "data['CARATER_ATENDIMENTO'].value_counts()"
   ]
  },
  {
   "cell_type": "code",
   "execution_count": 1225,
   "id": "twelve-snapshot",
   "metadata": {},
   "outputs": [],
   "source": [
    "data['CARATER_ATENDIMENTO'] = data['CARATER_ATENDIMENTO'].replace({'URGÊNCIA': 1, 'ELETIVO': 0})"
   ]
  },
  {
   "cell_type": "markdown",
   "id": "continuing-success",
   "metadata": {},
   "source": [
    "#### EMERG_SERVICO"
   ]
  },
  {
   "cell_type": "code",
   "execution_count": 1226,
   "id": "ongoing-vienna",
   "metadata": {},
   "outputs": [
    {
     "data": {
      "text/plain": [
       "PRONTOPUC        702\n",
       "NÃO INFORMADO    320\n",
       "PRONTOSUS        295\n",
       "TRAUMATO          11\n",
       "Name: EMERG_SERVICO, dtype: int64"
      ]
     },
     "execution_count": 1226,
     "metadata": {},
     "output_type": "execute_result"
    }
   ],
   "source": [
    "data['EMERG_SERVICO'].value_counts()"
   ]
  },
  {
   "cell_type": "code",
   "execution_count": 1227,
   "id": "sudden-assignment",
   "metadata": {},
   "outputs": [],
   "source": [
    "keys = data['EMERG_SERVICO'].value_counts().keys().tolist()"
   ]
  },
  {
   "cell_type": "code",
   "execution_count": 1228,
   "id": "endless-service",
   "metadata": {},
   "outputs": [],
   "source": [
    "dictToReplace = __getDictToReplace(keys)"
   ]
  },
  {
   "cell_type": "code",
   "execution_count": 1229,
   "id": "confident-greenhouse",
   "metadata": {},
   "outputs": [
    {
     "data": {
      "text/plain": [
       "{'PRONTOPUC': 1, 'NÃO INFORMADO': 2, 'PRONTOSUS': 3, 'TRAUMATO': 4}"
      ]
     },
     "execution_count": 1229,
     "metadata": {},
     "output_type": "execute_result"
    }
   ],
   "source": [
    "dictToReplace"
   ]
  },
  {
   "cell_type": "code",
   "execution_count": 1230,
   "id": "similar-contemporary",
   "metadata": {},
   "outputs": [],
   "source": [
    "data['EMERG_SERVICO'] = data['EMERG_SERVICO'].replace(dictToReplace)"
   ]
  },
  {
   "cell_type": "markdown",
   "id": "animated-glory",
   "metadata": {},
   "source": [
    "#### EMERG_RISCO"
   ]
  },
  {
   "cell_type": "code",
   "execution_count": 1231,
   "id": "automotive-chambers",
   "metadata": {},
   "outputs": [
    {
     "data": {
      "text/plain": [
       "LARANJA          428\n",
       "AMARELO          374\n",
       "NÃO INFORMADO    330\n",
       "VERDE            116\n",
       "VERMELHO          78\n",
       "AZUL               2\n",
       "Name: EMERG_RISCO, dtype: int64"
      ]
     },
     "execution_count": 1231,
     "metadata": {},
     "output_type": "execute_result"
    }
   ],
   "source": [
    "data['EMERG_RISCO'].value_counts()"
   ]
  },
  {
   "cell_type": "code",
   "execution_count": 1232,
   "id": "affecting-racing",
   "metadata": {},
   "outputs": [],
   "source": [
    "keys = data['EMERG_RISCO'].value_counts().keys().tolist()"
   ]
  },
  {
   "cell_type": "code",
   "execution_count": 1233,
   "id": "interested-siemens",
   "metadata": {},
   "outputs": [],
   "source": [
    "dictToReplace = __getDictToReplace(keys)"
   ]
  },
  {
   "cell_type": "code",
   "execution_count": 1234,
   "id": "linear-salad",
   "metadata": {},
   "outputs": [
    {
     "data": {
      "text/plain": [
       "{'LARANJA': 1,\n",
       " 'AMARELO': 2,\n",
       " 'NÃO INFORMADO': 3,\n",
       " 'VERDE': 4,\n",
       " 'VERMELHO': 5,\n",
       " 'AZUL': 6}"
      ]
     },
     "execution_count": 1234,
     "metadata": {},
     "output_type": "execute_result"
    }
   ],
   "source": [
    "dictToReplace"
   ]
  },
  {
   "cell_type": "code",
   "execution_count": 1235,
   "id": "general-melissa",
   "metadata": {},
   "outputs": [],
   "source": [
    "data['EMERG_RISCO'] = data['EMERG_RISCO'].replace(dictToReplace)"
   ]
  },
  {
   "cell_type": "markdown",
   "id": "useful-intention",
   "metadata": {},
   "source": [
    "#### CID_DIAG_ATEND"
   ]
  },
  {
   "cell_type": "code",
   "execution_count": 1236,
   "id": "greenhouse-breakfast",
   "metadata": {},
   "outputs": [
    {
     "data": {
      "text/plain": [
       "B342    428\n",
       "B349    189\n",
       "A419     75\n",
       "U071     52\n",
       "J960     20\n",
       "       ... \n",
       "Z940      1\n",
       "R220      1\n",
       "C162      1\n",
       "C187      1\n",
       "A483      1\n",
       "Name: CID_DIAG_ATEND, Length: 291, dtype: int64"
      ]
     },
     "execution_count": 1236,
     "metadata": {},
     "output_type": "execute_result"
    }
   ],
   "source": [
    "data['CID_DIAG_ATEND'].value_counts()"
   ]
  },
  {
   "cell_type": "code",
   "execution_count": 1237,
   "id": "protective-manner",
   "metadata": {},
   "outputs": [],
   "source": [
    "keys = data['CID_DIAG_ATEND'].value_counts().keys().tolist()"
   ]
  },
  {
   "cell_type": "code",
   "execution_count": 1238,
   "id": "initial-auditor",
   "metadata": {},
   "outputs": [],
   "source": [
    "dictToReplace = __getDictToReplace(keys)"
   ]
  },
  {
   "cell_type": "code",
   "execution_count": 1239,
   "id": "herbal-comfort",
   "metadata": {},
   "outputs": [
    {
     "data": {
      "text/plain": [
       "{'B342': 1,\n",
       " 'B349': 2,\n",
       " 'A419': 3,\n",
       " 'U071': 4,\n",
       " 'J960': 5,\n",
       " 'I200': 6,\n",
       " 'A418': 7,\n",
       " 'I64': 8,\n",
       " 'K359': 9,\n",
       " 'J180': 10,\n",
       " 'I500': 11,\n",
       " 'I219': 12,\n",
       " 'R579': 13,\n",
       " 'N180': 14,\n",
       " 'J159': 15,\n",
       " 'B972': 16,\n",
       " 'A499': 17,\n",
       " 'N390': 18,\n",
       " 'K810': 19,\n",
       " 'R060': 20,\n",
       " 'R100': 21,\n",
       " 'I269': 22,\n",
       " 'I743': 23,\n",
       " 'C509': 24,\n",
       " 'I48': 25,\n",
       " 'N189': 26,\n",
       " 'I639': 27,\n",
       " 'G409': 28,\n",
       " 'A415': 29,\n",
       " 'C61': 30,\n",
       " 'K921': 31,\n",
       " 'J189': 32,\n",
       " 'K859': 33,\n",
       " 'C189': 34,\n",
       " 'S828': 35,\n",
       " 'R571': 36,\n",
       " 'C349': 37,\n",
       " 'C679': 38,\n",
       " 'J158': 39,\n",
       " 'I255': 40,\n",
       " 'K57': 41,\n",
       " 'J969': 42,\n",
       " 'I509': 43,\n",
       " 'J15': 44,\n",
       " 'J18': 45,\n",
       " 'J81': 46,\n",
       " 'N17': 47,\n",
       " 'R578': 48,\n",
       " 'G402': 49,\n",
       " 'J90': 50,\n",
       " 'N200': 51,\n",
       " 'J129': 52,\n",
       " 'I442': 53,\n",
       " 'J80': 54,\n",
       " 'M169': 55,\n",
       " 'I50': 56,\n",
       " 'K920': 57,\n",
       " 'A488': 58,\n",
       " 'K850': 59,\n",
       " 'S720': 60,\n",
       " 'A498': 61,\n",
       " 'I739': 62,\n",
       " 'R51': 63,\n",
       " 'I26': 64,\n",
       " 'C348': 65,\n",
       " 'I21': 66,\n",
       " 'C80': 67,\n",
       " 'I209': 68,\n",
       " 'N179': 69,\n",
       " 'F609': 70,\n",
       " 'N029': 71,\n",
       " 'K922': 72,\n",
       " 'I330': 73,\n",
       " 'C64': 74,\n",
       " 'K562': 75,\n",
       " 'N201': 76,\n",
       " 'T813': 77,\n",
       " 'K802': 78,\n",
       " 'E141': 79,\n",
       " 'B338': 80,\n",
       " 'D638': 81,\n",
       " 'D376': 82,\n",
       " 'C538': 83,\n",
       " 'I210': 84,\n",
       " 'G049': 85,\n",
       " 'F05': 86,\n",
       " 'R092': 87,\n",
       " 'C793': 88,\n",
       " 'C20': 89,\n",
       " 'A09': 90,\n",
       " 'U049': 91,\n",
       " 'C629': 92,\n",
       " 'R074': 93,\n",
       " 'G40': 94,\n",
       " 'B199': 95,\n",
       " 'R001': 96,\n",
       " 'C950': 97,\n",
       " 'D110': 98,\n",
       " 'F02': 99,\n",
       " 'N39': 100,\n",
       " 'K590': 101,\n",
       " 'C830': 102,\n",
       " 'C340': 103,\n",
       " 'I029': 104,\n",
       " 'E871': 105,\n",
       " 'I24': 106,\n",
       " 'I832': 107,\n",
       " 'N165': 108,\n",
       " 'F29': 109,\n",
       " 'K81': 110,\n",
       " 'J440': 111,\n",
       " 'S423': 112,\n",
       " 'N19': 113,\n",
       " 'J00': 114,\n",
       " 'J12': 115,\n",
       " 'K593': 116,\n",
       " 'G009': 117,\n",
       " 'J219': 118,\n",
       " 'N40': 119,\n",
       " 'A183': 120,\n",
       " 'C19': 121,\n",
       " 'G700': 122,\n",
       " 'A199': 123,\n",
       " 'J930': 124,\n",
       " 'C25': 125,\n",
       " 'G629': 126,\n",
       " 'G822': 127,\n",
       " 'N288': 128,\n",
       " 'Q282': 129,\n",
       " 'S722': 130,\n",
       " 'I652': 131,\n",
       " 'L038': 132,\n",
       " 'J948': 133,\n",
       " 'G058': 134,\n",
       " 'J110': 135,\n",
       " 'I635': 136,\n",
       " 'C676': 137,\n",
       " 'E112': 138,\n",
       " 'K659': 139,\n",
       " 'K509': 140,\n",
       " 'E105': 141,\n",
       " 'N412': 142,\n",
       " 'K804': 143,\n",
       " 'N20': 144,\n",
       " 'C329': 145,\n",
       " 'S06': 146,\n",
       " 'L129': 147,\n",
       " 'M862': 148,\n",
       " 'I260': 149,\n",
       " 'J22': 150,\n",
       " 'I738': 151,\n",
       " 'G403': 152,\n",
       " 'M009': 153,\n",
       " 'C508': 154,\n",
       " 'I714': 155,\n",
       " 'B340': 156,\n",
       " 'C229': 157,\n",
       " 'C819': 158,\n",
       " 'K858': 159,\n",
       " 'J188': 160,\n",
       " 'F209': 161,\n",
       " 'M993': 162,\n",
       " 'C259': 163,\n",
       " 'N130': 164,\n",
       " 'D320': 165,\n",
       " 'C248': 166,\n",
       " 'G45': 167,\n",
       " 'I428': 168,\n",
       " 'R55': 169,\n",
       " 'I618': 170,\n",
       " 'I20': 171,\n",
       " 'B377': 172,\n",
       " 'F059': 173,\n",
       " 'C79': 174,\n",
       " 'E875': 175,\n",
       " 'C435': 176,\n",
       " 'F319': 177,\n",
       " 'J128': 178,\n",
       " 'R568': 179,\n",
       " 'A698': 180,\n",
       " 'S069': 181,\n",
       " 'I211': 182,\n",
       " 'F430': 183,\n",
       " 'K40': 184,\n",
       " 'M966': 185,\n",
       " 'K750': 186,\n",
       " 'A879': 187,\n",
       " 'R33': 188,\n",
       " 'N18': 189,\n",
       " 'D481': 190,\n",
       " 'S729': 191,\n",
       " 'I802': 192,\n",
       " 'I959': 193,\n",
       " 'B004': 194,\n",
       " 'J441': 195,\n",
       " 'G458': 196,\n",
       " 'K639': 197,\n",
       " 'B439': 198,\n",
       " 'G932': 199,\n",
       " 'C920': 200,\n",
       " 'K566': 201,\n",
       " 'B41': 202,\n",
       " 'R520': 203,\n",
       " 'C889': 204,\n",
       " 'C798': 205,\n",
       " 'C844': 206,\n",
       " 'K572': 207,\n",
       " 'C504': 208,\n",
       " 'D381': 209,\n",
       " 'G934': 210,\n",
       " 'G408': 211,\n",
       " 'D259': 212,\n",
       " 'I472': 213,\n",
       " 'C16': 214,\n",
       " 'G373': 215,\n",
       " 'F69': 216,\n",
       " 'J690': 217,\n",
       " 'R521': 218,\n",
       " 'C460': 219,\n",
       " 'C719': 220,\n",
       " 'G35': 221,\n",
       " 'R739': 222,\n",
       " 'J152': 223,\n",
       " 'D440': 224,\n",
       " 'B022': 225,\n",
       " 'I441': 226,\n",
       " 'C343': 227,\n",
       " 'F312': 228,\n",
       " 'K830': 229,\n",
       " 'A154': 230,\n",
       " 'M629': 231,\n",
       " 'I158': 232,\n",
       " 'X640': 233,\n",
       " 'I850': 234,\n",
       " 'I612': 235,\n",
       " 'C901': 236,\n",
       " 'C18': 237,\n",
       " 'B690': 238,\n",
       " 'B344': 239,\n",
       " 'R18': 240,\n",
       " 'M490': 241,\n",
       " 'K818': 242,\n",
       " 'C10': 243,\n",
       " 'Z988': 244,\n",
       " 'L023': 245,\n",
       " 'I710': 246,\n",
       " 'D619': 247,\n",
       " 'J988': 248,\n",
       " 'K36': 249,\n",
       " 'D649': 250,\n",
       " 'N359': 251,\n",
       " 'K628': 252,\n",
       " 'D377': 253,\n",
       " 'B24': 254,\n",
       " 'K808': 255,\n",
       " 'B348': 256,\n",
       " 'M542': 257,\n",
       " 'C56': 258,\n",
       " 'S721': 259,\n",
       " 'R529': 260,\n",
       " 'A490': 261,\n",
       " 'C929': 262,\n",
       " 'T782': 263,\n",
       " 'N188': 264,\n",
       " 'C787': 265,\n",
       " 'I501': 266,\n",
       " 'M199': 267,\n",
       " 'K610': 268,\n",
       " 'R52': 269,\n",
       " 'F322': 270,\n",
       " 'L089': 271,\n",
       " 'G952': 272,\n",
       " 'M662': 273,\n",
       " 'C220': 274,\n",
       " 'C900': 275,\n",
       " 'G959': 276,\n",
       " 'B34': 277,\n",
       " 'I715': 278,\n",
       " 'E111': 279,\n",
       " 'J069': 280,\n",
       " 'N511': 281,\n",
       " 'C967': 282,\n",
       " 'C159': 283,\n",
       " 'C169': 284,\n",
       " 'R34': 285,\n",
       " 'K929': 286,\n",
       " 'Z940': 287,\n",
       " 'R220': 288,\n",
       " 'C162': 289,\n",
       " 'C187': 290,\n",
       " 'A483': 291}"
      ]
     },
     "execution_count": 1239,
     "metadata": {},
     "output_type": "execute_result"
    }
   ],
   "source": [
    "dictToReplace"
   ]
  },
  {
   "cell_type": "code",
   "execution_count": 1240,
   "id": "excellent-madrid",
   "metadata": {},
   "outputs": [],
   "source": [
    "data['CID_DIAG_ATEND'] = data['CID_DIAG_ATEND'].replace(dictToReplace)"
   ]
  },
  {
   "cell_type": "markdown",
   "id": "crucial-energy",
   "metadata": {},
   "source": [
    "#### CID_CAPITULO_DIAG"
   ]
  },
  {
   "cell_type": "code",
   "execution_count": 1241,
   "id": "threatened-spine",
   "metadata": {},
   "outputs": [
    {
     "data": {
      "text/plain": [
       "Infecciosas e parasitárias                                                 755\n",
       "Aparelho circulatório                                                      121\n",
       "Aparelho respiratório                                                       84\n",
       "Neoplasias (tumores)                                                        78\n",
       "Aparelho digestivo                                                          61\n",
       "Códigos para propósitos especiais                                           54\n",
       "Sintomas, sinais e achados anormais de exames clínicos e de laboratório     45\n",
       "Aparelho geniturinário                                                      45\n",
       "Sistema nervoso                                                             26\n",
       "Lesões, envenenamento e algumas outras conseqüências de causas externas     15\n",
       "Transtornos mentais e comportamentais                                       13\n",
       "Sistema osteomuscular e do tecido conjuntivo                                12\n",
       "Endócrinas, nutricionais e metabólicas                                       7\n",
       "Sangue e órgãos hematopoéticos e transtornos imunitários                     4\n",
       "Pele e do tecido subcutâneo                                                  4\n",
       "Fatores que influenciam o estado de saúde                                    2\n",
       "Malformações congênitas, deformidades e anomalias cromossômicas              1\n",
       "Causas externas de morbidade e de mortalidade                                1\n",
       "Name: CID_CAPITULO_DIAG, dtype: int64"
      ]
     },
     "execution_count": 1241,
     "metadata": {},
     "output_type": "execute_result"
    }
   ],
   "source": [
    "data['CID_CAPITULO_DIAG'].value_counts()"
   ]
  },
  {
   "cell_type": "code",
   "execution_count": 1242,
   "id": "later-passenger",
   "metadata": {},
   "outputs": [],
   "source": [
    "keys = data['CID_CAPITULO_DIAG'].value_counts().keys().tolist()"
   ]
  },
  {
   "cell_type": "code",
   "execution_count": 1243,
   "id": "sticky-british",
   "metadata": {},
   "outputs": [],
   "source": [
    "dictToReplace = __getDictToReplace(keys)"
   ]
  },
  {
   "cell_type": "code",
   "execution_count": 1244,
   "id": "relative-extra",
   "metadata": {},
   "outputs": [
    {
     "data": {
      "text/plain": [
       "{'Infecciosas e parasitárias': 1,\n",
       " 'Aparelho circulatório': 2,\n",
       " 'Aparelho respiratório': 3,\n",
       " 'Neoplasias (tumores)': 4,\n",
       " 'Aparelho digestivo': 5,\n",
       " 'Códigos para propósitos especiais': 6,\n",
       " 'Sintomas, sinais e achados anormais de exames clínicos e de laboratório': 7,\n",
       " 'Aparelho geniturinário': 8,\n",
       " 'Sistema nervoso': 9,\n",
       " 'Lesões, envenenamento e algumas outras conseqüências de causas externas': 10,\n",
       " 'Transtornos mentais e comportamentais': 11,\n",
       " 'Sistema osteomuscular e do tecido conjuntivo': 12,\n",
       " 'Endócrinas, nutricionais e metabólicas': 13,\n",
       " 'Sangue e órgãos hematopoéticos e transtornos imunitários': 14,\n",
       " 'Pele e do tecido subcutâneo': 15,\n",
       " 'Fatores que influenciam o estado de saúde': 16,\n",
       " 'Malformações congênitas, deformidades e anomalias cromossômicas': 17,\n",
       " 'Causas externas de morbidade e de mortalidade': 18}"
      ]
     },
     "execution_count": 1244,
     "metadata": {},
     "output_type": "execute_result"
    }
   ],
   "source": [
    "dictToReplace"
   ]
  },
  {
   "cell_type": "code",
   "execution_count": 1245,
   "id": "welsh-membership",
   "metadata": {},
   "outputs": [],
   "source": [
    "data['CID_CAPITULO_DIAG'] = data['CID_CAPITULO_DIAG'].replace(dictToReplace)"
   ]
  },
  {
   "cell_type": "markdown",
   "id": "asian-johns",
   "metadata": {},
   "source": [
    "#### BLOCO_CENTRAL_ST"
   ]
  },
  {
   "cell_type": "code",
   "execution_count": 1246,
   "id": "dominant-visit",
   "metadata": {},
   "outputs": [
    {
     "data": {
      "text/plain": [
       "NÃO    1053\n",
       "SIM     275\n",
       "Name: BLOCO_CENTRAL_ST, dtype: int64"
      ]
     },
     "execution_count": 1246,
     "metadata": {},
     "output_type": "execute_result"
    }
   ],
   "source": [
    "data['BLOCO_CENTRAL_ST'].value_counts()"
   ]
  },
  {
   "cell_type": "code",
   "execution_count": 1247,
   "id": "julian-eating",
   "metadata": {},
   "outputs": [],
   "source": [
    "data['BLOCO_CENTRAL_ST'] = data['BLOCO_CENTRAL_ST'].replace({'SIM': 1, 'NÃO': 0})"
   ]
  },
  {
   "cell_type": "markdown",
   "id": "becoming-designer",
   "metadata": {},
   "source": [
    "#### HEMODINAMICA_ST"
   ]
  },
  {
   "cell_type": "code",
   "execution_count": 1248,
   "id": "announced-proxy",
   "metadata": {},
   "outputs": [
    {
     "data": {
      "text/plain": [
       "NÃO    1250\n",
       "SIM      78\n",
       "Name: HEMODINAMICA_ST, dtype: int64"
      ]
     },
     "execution_count": 1248,
     "metadata": {},
     "output_type": "execute_result"
    }
   ],
   "source": [
    "data['HEMODINAMICA_ST'].value_counts()"
   ]
  },
  {
   "cell_type": "code",
   "execution_count": 1249,
   "id": "focal-commission",
   "metadata": {},
   "outputs": [],
   "source": [
    "data['HEMODINAMICA_ST'] = data['HEMODINAMICA_ST'].replace({'SIM': 1, 'NÃO': 0})"
   ]
  },
  {
   "cell_type": "markdown",
   "id": "royal-disability",
   "metadata": {},
   "source": [
    "#### EX_LAB_ST"
   ]
  },
  {
   "cell_type": "code",
   "execution_count": 1250,
   "id": "artistic-example",
   "metadata": {},
   "outputs": [
    {
     "data": {
      "text/plain": [
       "SIM    1295\n",
       "NÃO      33\n",
       "Name: EX_LAB_ST, dtype: int64"
      ]
     },
     "execution_count": 1250,
     "metadata": {},
     "output_type": "execute_result"
    }
   ],
   "source": [
    "data['EX_LAB_ST'].value_counts()"
   ]
  },
  {
   "cell_type": "code",
   "execution_count": 1251,
   "id": "light-tonight",
   "metadata": {},
   "outputs": [],
   "source": [
    "data['EX_LAB_ST'] = data['EX_LAB_ST'].replace({'SIM': 1, 'NÃO': 0})"
   ]
  },
  {
   "cell_type": "markdown",
   "id": "imperial-tenant",
   "metadata": {},
   "source": [
    "#### EX_IMG_ST"
   ]
  },
  {
   "cell_type": "code",
   "execution_count": 1252,
   "id": "processed-harbor",
   "metadata": {},
   "outputs": [
    {
     "data": {
      "text/plain": [
       "SIM    1048\n",
       "NÃO     280\n",
       "Name: EX_IMG_ST, dtype: int64"
      ]
     },
     "execution_count": 1252,
     "metadata": {},
     "output_type": "execute_result"
    }
   ],
   "source": [
    "data['EX_IMG_ST'].value_counts()"
   ]
  },
  {
   "cell_type": "code",
   "execution_count": 1253,
   "id": "liable-annex",
   "metadata": {},
   "outputs": [],
   "source": [
    "data['EX_IMG_ST'] = data['EX_IMG_ST'].replace({'SIM': 1, 'NÃO': 0})"
   ]
  },
  {
   "cell_type": "markdown",
   "id": "taken-grenada",
   "metadata": {},
   "source": [
    "#### EX_OUTROS_ST"
   ]
  },
  {
   "cell_type": "code",
   "execution_count": 1254,
   "id": "simple-raleigh",
   "metadata": {},
   "outputs": [
    {
     "data": {
      "text/plain": [
       "NÃO    892\n",
       "SIM    436\n",
       "Name: EX_OUTROS_ST, dtype: int64"
      ]
     },
     "execution_count": 1254,
     "metadata": {},
     "output_type": "execute_result"
    }
   ],
   "source": [
    "data['EX_OUTROS_ST'].value_counts()"
   ]
  },
  {
   "cell_type": "code",
   "execution_count": 1255,
   "id": "italic-wildlife",
   "metadata": {},
   "outputs": [],
   "source": [
    "data['EX_OUTROS_ST'] = data['EX_OUTROS_ST'].replace({'SIM': 1, 'NÃO': 0})"
   ]
  },
  {
   "cell_type": "markdown",
   "id": "aboriginal-cosmetic",
   "metadata": {},
   "source": [
    "#### TIPO_REGISTRO"
   ]
  },
  {
   "cell_type": "code",
   "execution_count": 1256,
   "id": "rubber-compromise",
   "metadata": {},
   "outputs": [],
   "source": [
    "data['TIPO_REGISTRO'] = data['TIPO_REGISTRO'].fillna('NI')"
   ]
  },
  {
   "cell_type": "code",
   "execution_count": 1257,
   "id": "considered-tiger",
   "metadata": {},
   "outputs": [
    {
     "data": {
      "text/plain": [
       "A     1309\n",
       "M       14\n",
       "NI       5\n",
       "Name: TIPO_REGISTRO, dtype: int64"
      ]
     },
     "execution_count": 1257,
     "metadata": {},
     "output_type": "execute_result"
    }
   ],
   "source": [
    "data['TIPO_REGISTRO'].value_counts()"
   ]
  },
  {
   "cell_type": "code",
   "execution_count": 1258,
   "id": "detected-contamination",
   "metadata": {},
   "outputs": [],
   "source": [
    "data['TIPO_REGISTRO'] = data['TIPO_REGISTRO'].replace({'A': 1, 'M': 0, 'NI': 2})"
   ]
  },
  {
   "cell_type": "markdown",
   "id": "stupid-verse",
   "metadata": {},
   "source": [
    "#### [REMOVED] SN_IFI_OV_SINCICIAL_RESP"
   ]
  },
  {
   "cell_type": "code",
   "execution_count": 1259,
   "id": "generic-optimum",
   "metadata": {},
   "outputs": [
    {
     "data": {
      "text/plain": [
       "N    1323\n",
       "Name: SN_IFI_OV_SINCICIAL_RESP, dtype: int64"
      ]
     },
     "execution_count": 1259,
     "metadata": {},
     "output_type": "execute_result"
    }
   ],
   "source": [
    "data['SN_IFI_OV_SINCICIAL_RESP'].value_counts() #DROP"
   ]
  },
  {
   "cell_type": "code",
   "execution_count": 1260,
   "id": "adjustable-spanish",
   "metadata": {},
   "outputs": [],
   "source": [
    "data = data.drop(['SN_IFI_OV_SINCICIAL_RESP'], axis=1)"
   ]
  },
  {
   "cell_type": "markdown",
   "id": "decent-jenny",
   "metadata": {},
   "source": [
    "#### [REMOVED] SN_IFI_OV_PARAINFLU3"
   ]
  },
  {
   "cell_type": "code",
   "execution_count": 1261,
   "id": "soviet-netherlands",
   "metadata": {},
   "outputs": [
    {
     "data": {
      "text/plain": [
       "N    1323\n",
       "Name: SN_IFI_OV_PARAINFLU3, dtype: int64"
      ]
     },
     "execution_count": 1261,
     "metadata": {},
     "output_type": "execute_result"
    }
   ],
   "source": [
    "data['SN_IFI_OV_PARAINFLU3'].value_counts() #DROP"
   ]
  },
  {
   "cell_type": "code",
   "execution_count": 1262,
   "id": "classified-stationery",
   "metadata": {},
   "outputs": [],
   "source": [
    "data = data.drop(['SN_IFI_OV_PARAINFLU3'], axis=1)"
   ]
  },
  {
   "cell_type": "markdown",
   "id": "atomic-agency",
   "metadata": {},
   "source": [
    "#### [REMOVED] SN_IFI_OV_PARAINFLU2"
   ]
  },
  {
   "cell_type": "code",
   "execution_count": 1263,
   "id": "organized-australian",
   "metadata": {},
   "outputs": [
    {
     "data": {
      "text/plain": [
       "N    1323\n",
       "Name: SN_IFI_OV_PARAINFLU2, dtype: int64"
      ]
     },
     "execution_count": 1263,
     "metadata": {},
     "output_type": "execute_result"
    }
   ],
   "source": [
    "data['SN_IFI_OV_PARAINFLU2'].value_counts() #DROP"
   ]
  },
  {
   "cell_type": "code",
   "execution_count": 1264,
   "id": "electronic-catch",
   "metadata": {},
   "outputs": [],
   "source": [
    "data = data.drop(['SN_IFI_OV_PARAINFLU2'], axis=1)"
   ]
  },
  {
   "cell_type": "markdown",
   "id": "vital-collins",
   "metadata": {},
   "source": [
    "#### [REMOVED] SN_IFI_OV_PARAINFLU1"
   ]
  },
  {
   "cell_type": "code",
   "execution_count": 1265,
   "id": "right-november",
   "metadata": {},
   "outputs": [
    {
     "data": {
      "text/plain": [
       "N    1323\n",
       "Name: SN_IFI_OV_PARAINFLU1, dtype: int64"
      ]
     },
     "execution_count": 1265,
     "metadata": {},
     "output_type": "execute_result"
    }
   ],
   "source": [
    "data['SN_IFI_OV_PARAINFLU1'].value_counts() #DROP"
   ]
  },
  {
   "cell_type": "code",
   "execution_count": 1266,
   "id": "excited-norman",
   "metadata": {},
   "outputs": [],
   "source": [
    "data = data.drop(['SN_IFI_OV_PARAINFLU1'], axis=1)"
   ]
  },
  {
   "cell_type": "markdown",
   "id": "adapted-assumption",
   "metadata": {},
   "source": [
    "#### [REMOVED] SN_IFI_OV_INFLUA"
   ]
  },
  {
   "cell_type": "code",
   "execution_count": 1267,
   "id": "extra-concert",
   "metadata": {},
   "outputs": [
    {
     "data": {
      "text/plain": [
       "N    1323\n",
       "Name: SN_IFI_OV_INFLUA, dtype: int64"
      ]
     },
     "execution_count": 1267,
     "metadata": {},
     "output_type": "execute_result"
    }
   ],
   "source": [
    "data['SN_IFI_OV_INFLUA'].value_counts() #DROP"
   ]
  },
  {
   "cell_type": "code",
   "execution_count": 1268,
   "id": "fundamental-survivor",
   "metadata": {},
   "outputs": [],
   "source": [
    "data = data.drop(['SN_IFI_OV_INFLUA'], axis=1)"
   ]
  },
  {
   "cell_type": "markdown",
   "id": "italic-expansion",
   "metadata": {},
   "source": [
    "#### [REMOVED] SN_IFI_OV_INFLUB"
   ]
  },
  {
   "cell_type": "code",
   "execution_count": 1269,
   "id": "failing-composite",
   "metadata": {},
   "outputs": [
    {
     "data": {
      "text/plain": [
       "N    1323\n",
       "Name: SN_IFI_OV_INFLUB, dtype: int64"
      ]
     },
     "execution_count": 1269,
     "metadata": {},
     "output_type": "execute_result"
    }
   ],
   "source": [
    "data['SN_IFI_OV_INFLUB'].value_counts() #DROP"
   ]
  },
  {
   "cell_type": "code",
   "execution_count": 1270,
   "id": "buried-picnic",
   "metadata": {},
   "outputs": [],
   "source": [
    "data = data.drop(['SN_IFI_OV_INFLUB'], axis=1)"
   ]
  },
  {
   "cell_type": "markdown",
   "id": "talented-engineer",
   "metadata": {},
   "source": [
    "#### [REMOVED] SN_IFI_OV_ADENOVIRUS"
   ]
  },
  {
   "cell_type": "code",
   "execution_count": 1271,
   "id": "geographic-wellington",
   "metadata": {},
   "outputs": [
    {
     "data": {
      "text/plain": [
       "N    1323\n",
       "Name: SN_IFI_OV_ADENOVIRUS, dtype: int64"
      ]
     },
     "execution_count": 1271,
     "metadata": {},
     "output_type": "execute_result"
    }
   ],
   "source": [
    "data['SN_IFI_OV_ADENOVIRUS'].value_counts() #DROP"
   ]
  },
  {
   "cell_type": "code",
   "execution_count": 1272,
   "id": "organic-franchise",
   "metadata": {},
   "outputs": [],
   "source": [
    "data = data.drop(['SN_IFI_OV_ADENOVIRUS'], axis=1)"
   ]
  },
  {
   "cell_type": "markdown",
   "id": "correct-variable",
   "metadata": {},
   "source": [
    "#### SN_CRIT_CONTATO_CASO_COVID"
   ]
  },
  {
   "cell_type": "code",
   "execution_count": 1273,
   "id": "floral-merit",
   "metadata": {},
   "outputs": [],
   "source": [
    "data['SN_CRIT_CONTATO_CASO_COVID'] = data['SN_CRIT_CONTATO_CASO_COVID'].fillna('NI')"
   ]
  },
  {
   "cell_type": "code",
   "execution_count": 1274,
   "id": "accessory-investment",
   "metadata": {},
   "outputs": [
    {
     "data": {
      "text/plain": [
       "N     1319\n",
       "NI       5\n",
       "S        4\n",
       "Name: SN_CRIT_CONTATO_CASO_COVID, dtype: int64"
      ]
     },
     "execution_count": 1274,
     "metadata": {},
     "output_type": "execute_result"
    }
   ],
   "source": [
    "data['SN_CRIT_CONTATO_CASO_COVID'].value_counts() "
   ]
  },
  {
   "cell_type": "code",
   "execution_count": 1275,
   "id": "interested-precipitation",
   "metadata": {},
   "outputs": [],
   "source": [
    "data['SN_CRIT_CONTATO_CASO_COVID'] = data['SN_CRIT_CONTATO_CASO_COVID'].replace({'S': 1, 'N': 0, 'NI': 2})"
   ]
  },
  {
   "cell_type": "markdown",
   "id": "essential-relation",
   "metadata": {},
   "source": [
    "#### SN_CRIT_SRAG"
   ]
  },
  {
   "cell_type": "code",
   "execution_count": 1276,
   "id": "actual-chase",
   "metadata": {},
   "outputs": [],
   "source": [
    "data['SN_CRIT_SRAG'] = data['SN_CRIT_SRAG'].fillna('NI')"
   ]
  },
  {
   "cell_type": "code",
   "execution_count": 1277,
   "id": "amateur-economics",
   "metadata": {},
   "outputs": [
    {
     "data": {
      "text/plain": [
       "N     1292\n",
       "S       31\n",
       "NI       5\n",
       "Name: SN_CRIT_SRAG, dtype: int64"
      ]
     },
     "execution_count": 1277,
     "metadata": {},
     "output_type": "execute_result"
    }
   ],
   "source": [
    "data['SN_CRIT_SRAG'].value_counts()"
   ]
  },
  {
   "cell_type": "code",
   "execution_count": 1278,
   "id": "invisible-breach",
   "metadata": {},
   "outputs": [],
   "source": [
    "data['SN_CRIT_SRAG'] = data['SN_CRIT_SRAG'].replace({'S': 1, 'N': 0, 'NI': 2})"
   ]
  },
  {
   "cell_type": "markdown",
   "id": "political-johns",
   "metadata": {},
   "source": [
    "#### SN_CRIT_SINDROME_GRIPAL"
   ]
  },
  {
   "cell_type": "code",
   "execution_count": 1279,
   "id": "united-retro",
   "metadata": {},
   "outputs": [],
   "source": [
    "data['SN_CRIT_SINDROME_GRIPAL'] = data['SN_CRIT_SINDROME_GRIPAL'].fillna('NI')"
   ]
  },
  {
   "cell_type": "code",
   "execution_count": 1280,
   "id": "italic-boring",
   "metadata": {},
   "outputs": [
    {
     "data": {
      "text/plain": [
       "N     1322\n",
       "NI       5\n",
       "S        1\n",
       "Name: SN_CRIT_SINDROME_GRIPAL, dtype: int64"
      ]
     },
     "execution_count": 1280,
     "metadata": {},
     "output_type": "execute_result"
    }
   ],
   "source": [
    "data['SN_CRIT_SINDROME_GRIPAL'].value_counts()"
   ]
  },
  {
   "cell_type": "code",
   "execution_count": 1281,
   "id": "bridal-match",
   "metadata": {},
   "outputs": [],
   "source": [
    "data['SN_CRIT_SINDROME_GRIPAL'] = data['SN_CRIT_SINDROME_GRIPAL'].replace({'S': 1, 'N': 0, 'NI': 2})"
   ]
  },
  {
   "cell_type": "markdown",
   "id": "finished-continuity",
   "metadata": {},
   "source": [
    "#### SN_CRIT_OUTROS"
   ]
  },
  {
   "cell_type": "code",
   "execution_count": 1282,
   "id": "built-essay",
   "metadata": {},
   "outputs": [
    {
     "data": {
      "text/plain": [
       "N    1321\n",
       "S       2\n",
       "Name: SN_CRIT_OUTROS, dtype: int64"
      ]
     },
     "execution_count": 1282,
     "metadata": {},
     "output_type": "execute_result"
    }
   ],
   "source": [
    "# Verificar\n",
    "data['SN_CRIT_OUTROS'].value_counts() #DROP"
   ]
  },
  {
   "cell_type": "code",
   "execution_count": 1283,
   "id": "premium-compression",
   "metadata": {},
   "outputs": [],
   "source": [
    "data = data.drop(['SN_CRIT_OUTROS'], axis=1)"
   ]
  },
  {
   "cell_type": "markdown",
   "id": "amended-convention",
   "metadata": {},
   "source": [
    "#### ESTUDO_TP_EXPOSICAO"
   ]
  },
  {
   "cell_type": "code",
   "execution_count": 1284,
   "id": "ruled-biotechnology",
   "metadata": {},
   "outputs": [],
   "source": [
    "data['ESTUDO_TP_EXPOSICAO'] = data['ESTUDO_TP_EXPOSICAO'].fillna('NI')"
   ]
  },
  {
   "cell_type": "code",
   "execution_count": 1285,
   "id": "governmental-capacity",
   "metadata": {},
   "outputs": [
    {
     "data": {
      "text/plain": [
       "NI                                                       1054\n",
       "HOSPITALAR HSL                                            131\n",
       "DESCONHECIDO                                               98\n",
       "CONTATO COM SUSPEITO CONFIRMADO                            22\n",
       "PROFISSIONAL DE SAUDE - HSL                                 9\n",
       "INSTITUICAO DE LONGA PERMANENCIA                            6\n",
       "VIAGEM                                                      3\n",
       "HOSITALAR OU INSTITUICAO DE SAUDE                           2\n",
       "PROFISSIONAL DE SAUDE                                       1\n",
       "HOSITALAR OU INSTITUICAO DE SAUDE - OUTRA INSTITUICAO       1\n",
       "PROFISSIONAL DE SAÚDE - HSL                                 1\n",
       "Name: ESTUDO_TP_EXPOSICAO, dtype: int64"
      ]
     },
     "execution_count": 1285,
     "metadata": {},
     "output_type": "execute_result"
    }
   ],
   "source": [
    "data['ESTUDO_TP_EXPOSICAO'].value_counts()"
   ]
  },
  {
   "cell_type": "code",
   "execution_count": 1286,
   "id": "beginning-aging",
   "metadata": {},
   "outputs": [],
   "source": [
    "keys = data['ESTUDO_TP_EXPOSICAO'].value_counts().keys().tolist()"
   ]
  },
  {
   "cell_type": "code",
   "execution_count": 1287,
   "id": "aboriginal-socket",
   "metadata": {},
   "outputs": [],
   "source": [
    "dictToReplace = __getDictToReplace(keys)"
   ]
  },
  {
   "cell_type": "code",
   "execution_count": 1288,
   "id": "handy-captain",
   "metadata": {},
   "outputs": [
    {
     "data": {
      "text/plain": [
       "{'NI': 1,\n",
       " 'HOSPITALAR HSL': 2,\n",
       " 'DESCONHECIDO': 3,\n",
       " 'CONTATO COM SUSPEITO CONFIRMADO': 4,\n",
       " 'PROFISSIONAL DE SAUDE - HSL': 5,\n",
       " 'INSTITUICAO DE LONGA PERMANENCIA': 6,\n",
       " 'VIAGEM': 7,\n",
       " 'HOSITALAR OU INSTITUICAO DE SAUDE': 8,\n",
       " 'PROFISSIONAL DE SAUDE': 9,\n",
       " 'HOSITALAR OU INSTITUICAO DE SAUDE - OUTRA INSTITUICAO': 10,\n",
       " 'PROFISSIONAL DE SAÚDE - HSL': 11}"
      ]
     },
     "execution_count": 1288,
     "metadata": {},
     "output_type": "execute_result"
    }
   ],
   "source": [
    "dictToReplace"
   ]
  },
  {
   "cell_type": "code",
   "execution_count": 1289,
   "id": "supported-crystal",
   "metadata": {},
   "outputs": [],
   "source": [
    "data['ESTUDO_TP_EXPOSICAO'] = data['ESTUDO_TP_EXPOSICAO'].replace(dictToReplace)"
   ]
  },
  {
   "cell_type": "markdown",
   "id": "oriented-pacific",
   "metadata": {},
   "source": [
    "#### ESTUDO_COMORB_PREV_HAS"
   ]
  },
  {
   "cell_type": "code",
   "execution_count": 1290,
   "id": "western-coaching",
   "metadata": {},
   "outputs": [],
   "source": [
    "data['ESTUDO_COMORB_PREV_HAS'] = data['ESTUDO_COMORB_PREV_HAS'].fillna('NI')"
   ]
  },
  {
   "cell_type": "code",
   "execution_count": 1291,
   "id": "catholic-leader",
   "metadata": {},
   "outputs": [
    {
     "data": {
      "text/plain": [
       "N     1243\n",
       "S       80\n",
       "NI       5\n",
       "Name: ESTUDO_COMORB_PREV_HAS, dtype: int64"
      ]
     },
     "execution_count": 1291,
     "metadata": {},
     "output_type": "execute_result"
    }
   ],
   "source": [
    "data['ESTUDO_COMORB_PREV_HAS'].value_counts()"
   ]
  },
  {
   "cell_type": "code",
   "execution_count": 1292,
   "id": "local-photographer",
   "metadata": {},
   "outputs": [],
   "source": [
    "data['ESTUDO_COMORB_PREV_HAS'] = data['ESTUDO_COMORB_PREV_HAS'].replace({'S': 1, 'N': 0, 'NI': 2})"
   ]
  },
  {
   "cell_type": "markdown",
   "id": "liable-enhancement",
   "metadata": {},
   "source": [
    "#### ESTUDO_COMORB_PREV_IAM"
   ]
  },
  {
   "cell_type": "code",
   "execution_count": 1293,
   "id": "hollow-architecture",
   "metadata": {},
   "outputs": [],
   "source": [
    "data['ESTUDO_COMORB_PREV_IAM'] = data['ESTUDO_COMORB_PREV_IAM'].fillna('NI')"
   ]
  },
  {
   "cell_type": "code",
   "execution_count": 1294,
   "id": "attached-weekly",
   "metadata": {},
   "outputs": [
    {
     "data": {
      "text/plain": [
       "N     1307\n",
       "S       16\n",
       "NI       5\n",
       "Name: ESTUDO_COMORB_PREV_IAM, dtype: int64"
      ]
     },
     "execution_count": 1294,
     "metadata": {},
     "output_type": "execute_result"
    }
   ],
   "source": [
    "data['ESTUDO_COMORB_PREV_IAM'].value_counts()"
   ]
  },
  {
   "cell_type": "code",
   "execution_count": 1295,
   "id": "nutritional-chuck",
   "metadata": {},
   "outputs": [],
   "source": [
    "data['ESTUDO_COMORB_PREV_IAM'] = data['ESTUDO_COMORB_PREV_IAM'].replace({'S': 1, 'N': 0, 'NI': 2})"
   ]
  },
  {
   "cell_type": "markdown",
   "id": "simplified-shelter",
   "metadata": {},
   "source": [
    "#### ESTUDO_COMORB_PREV_IC"
   ]
  },
  {
   "cell_type": "code",
   "execution_count": 1296,
   "id": "static-posting",
   "metadata": {},
   "outputs": [],
   "source": [
    "data['ESTUDO_COMORB_PREV_IC'] = data['ESTUDO_COMORB_PREV_IC'].fillna('NI')"
   ]
  },
  {
   "cell_type": "code",
   "execution_count": 1297,
   "id": "attempted-medicine",
   "metadata": {},
   "outputs": [
    {
     "data": {
      "text/plain": [
       "N     1309\n",
       "S       14\n",
       "NI       5\n",
       "Name: ESTUDO_COMORB_PREV_IC, dtype: int64"
      ]
     },
     "execution_count": 1297,
     "metadata": {},
     "output_type": "execute_result"
    }
   ],
   "source": [
    "data['ESTUDO_COMORB_PREV_IC'].value_counts()"
   ]
  },
  {
   "cell_type": "code",
   "execution_count": 1298,
   "id": "departmental-authority",
   "metadata": {},
   "outputs": [],
   "source": [
    "data['ESTUDO_COMORB_PREV_IC'] = data['ESTUDO_COMORB_PREV_IC'].replace({'S': 1, 'N': 0, 'NI': 2})"
   ]
  },
  {
   "cell_type": "markdown",
   "id": "peripheral-cotton",
   "metadata": {},
   "source": [
    "#### ESTUDO_COMORB_PREV_DRC"
   ]
  },
  {
   "cell_type": "code",
   "execution_count": 1299,
   "id": "outside-andrews",
   "metadata": {},
   "outputs": [],
   "source": [
    "data['ESTUDO_COMORB_PREV_DRC'] = data['ESTUDO_COMORB_PREV_DRC'].fillna('NI')"
   ]
  },
  {
   "cell_type": "code",
   "execution_count": 1300,
   "id": "billion-glossary",
   "metadata": {},
   "outputs": [
    {
     "data": {
      "text/plain": [
       "N     1297\n",
       "S       26\n",
       "NI       5\n",
       "Name: ESTUDO_COMORB_PREV_DRC, dtype: int64"
      ]
     },
     "execution_count": 1300,
     "metadata": {},
     "output_type": "execute_result"
    }
   ],
   "source": [
    "data['ESTUDO_COMORB_PREV_DRC'].value_counts()"
   ]
  },
  {
   "cell_type": "code",
   "execution_count": 1301,
   "id": "theoretical-advocacy",
   "metadata": {},
   "outputs": [],
   "source": [
    "data['ESTUDO_COMORB_PREV_DRC'] = data['ESTUDO_COMORB_PREV_DRC'].replace({'S': 1, 'N': 0, 'NI': 2})"
   ]
  },
  {
   "cell_type": "markdown",
   "id": "indonesian-gentleman",
   "metadata": {},
   "source": [
    "#### ESTUDO_COMORB_PREV_DMI"
   ]
  },
  {
   "cell_type": "code",
   "execution_count": 1302,
   "id": "sacred-egypt",
   "metadata": {},
   "outputs": [
    {
     "data": {
      "text/plain": [
       "N    1323\n",
       "Name: ESTUDO_COMORB_PREV_DMI, dtype: int64"
      ]
     },
     "execution_count": 1302,
     "metadata": {},
     "output_type": "execute_result"
    }
   ],
   "source": [
    "data['ESTUDO_COMORB_PREV_DMI'].value_counts() #DROP"
   ]
  },
  {
   "cell_type": "code",
   "execution_count": 1303,
   "id": "empty-sleeve",
   "metadata": {},
   "outputs": [],
   "source": [
    "data = data.drop(['ESTUDO_COMORB_PREV_DMI'], axis=1)"
   ]
  },
  {
   "cell_type": "markdown",
   "id": "nervous-civilian",
   "metadata": {},
   "source": [
    "#### ESTUDO_COMORB_PREV_DMII"
   ]
  },
  {
   "cell_type": "code",
   "execution_count": 1304,
   "id": "suspected-joshua",
   "metadata": {},
   "outputs": [],
   "source": [
    "data['ESTUDO_COMORB_PREV_DMII'] = data['ESTUDO_COMORB_PREV_DMII'].fillna('NI')"
   ]
  },
  {
   "cell_type": "code",
   "execution_count": 1305,
   "id": "taken-minimum",
   "metadata": {},
   "outputs": [
    {
     "data": {
      "text/plain": [
       "N     1276\n",
       "S       47\n",
       "NI       5\n",
       "Name: ESTUDO_COMORB_PREV_DMII, dtype: int64"
      ]
     },
     "execution_count": 1305,
     "metadata": {},
     "output_type": "execute_result"
    }
   ],
   "source": [
    "data['ESTUDO_COMORB_PREV_DMII'].value_counts()"
   ]
  },
  {
   "cell_type": "code",
   "execution_count": 1306,
   "id": "respected-syndication",
   "metadata": {},
   "outputs": [],
   "source": [
    "data['ESTUDO_COMORB_PREV_DMII'] = data['ESTUDO_COMORB_PREV_DMII'].replace({'S': 1, 'N': 0, 'NI': 2})"
   ]
  },
  {
   "cell_type": "markdown",
   "id": "mineral-accommodation",
   "metadata": {},
   "source": [
    "#### ESTUDO_COMORB_PREV_CARCINOMA"
   ]
  },
  {
   "cell_type": "code",
   "execution_count": 1307,
   "id": "incident-external",
   "metadata": {},
   "outputs": [],
   "source": [
    "data['ESTUDO_COMORB_PREV_CARCINOMA'] = data['ESTUDO_COMORB_PREV_CARCINOMA'].fillna('NI')"
   ]
  },
  {
   "cell_type": "code",
   "execution_count": 1308,
   "id": "outside-orlando",
   "metadata": {},
   "outputs": [
    {
     "data": {
      "text/plain": [
       "N     1300\n",
       "S       23\n",
       "NI       5\n",
       "Name: ESTUDO_COMORB_PREV_CARCINOMA, dtype: int64"
      ]
     },
     "execution_count": 1308,
     "metadata": {},
     "output_type": "execute_result"
    }
   ],
   "source": [
    "data['ESTUDO_COMORB_PREV_CARCINOMA'].value_counts()"
   ]
  },
  {
   "cell_type": "code",
   "execution_count": 1309,
   "id": "handy-pacific",
   "metadata": {},
   "outputs": [],
   "source": [
    "data['ESTUDO_COMORB_PREV_CARCINOMA'] = data['ESTUDO_COMORB_PREV_CARCINOMA'].replace({'S': 1, 'N': 0, 'NI': 2})"
   ]
  },
  {
   "cell_type": "markdown",
   "id": "documentary-florist",
   "metadata": {},
   "source": [
    "#### ESTUDO_COMORB_PREV_ADENOMA"
   ]
  },
  {
   "cell_type": "code",
   "execution_count": 1310,
   "id": "fixed-athletics",
   "metadata": {},
   "outputs": [
    {
     "data": {
      "text/plain": [
       "N    1323\n",
       "Name: ESTUDO_COMORB_PREV_ADENOMA, dtype: int64"
      ]
     },
     "execution_count": 1310,
     "metadata": {},
     "output_type": "execute_result"
    }
   ],
   "source": [
    "data['ESTUDO_COMORB_PREV_ADENOMA'].value_counts() #DROP"
   ]
  },
  {
   "cell_type": "code",
   "execution_count": 1311,
   "id": "weekly-robin",
   "metadata": {},
   "outputs": [],
   "source": [
    "data = data.drop(['ESTUDO_COMORB_PREV_ADENOMA'], axis=1)"
   ]
  },
  {
   "cell_type": "markdown",
   "id": "shared-setup",
   "metadata": {},
   "source": [
    "#### ESTUDO_COMORB_PREV_LINFOMA"
   ]
  },
  {
   "cell_type": "code",
   "execution_count": 1312,
   "id": "external-carol",
   "metadata": {},
   "outputs": [
    {
     "data": {
      "text/plain": [
       "N    1323\n",
       "Name: ESTUDO_COMORB_PREV_LINFOMA, dtype: int64"
      ]
     },
     "execution_count": 1312,
     "metadata": {},
     "output_type": "execute_result"
    }
   ],
   "source": [
    "data['ESTUDO_COMORB_PREV_LINFOMA'].value_counts() #DROP"
   ]
  },
  {
   "cell_type": "code",
   "execution_count": 1313,
   "id": "random-qualification",
   "metadata": {},
   "outputs": [],
   "source": [
    "data = data.drop(['ESTUDO_COMORB_PREV_LINFOMA'], axis=1)"
   ]
  },
  {
   "cell_type": "markdown",
   "id": "bridal-coordinate",
   "metadata": {},
   "source": [
    "#### ESTUDO_COMORB_PREV_AVC"
   ]
  },
  {
   "cell_type": "code",
   "execution_count": 1314,
   "id": "exceptional-tourist",
   "metadata": {},
   "outputs": [],
   "source": [
    "data['ESTUDO_COMORB_PREV_AVC'] = data['ESTUDO_COMORB_PREV_AVC'].fillna('NI')"
   ]
  },
  {
   "cell_type": "code",
   "execution_count": 1315,
   "id": "congressional-employee",
   "metadata": {},
   "outputs": [
    {
     "data": {
      "text/plain": [
       "N     1315\n",
       "S        8\n",
       "NI       5\n",
       "Name: ESTUDO_COMORB_PREV_AVC, dtype: int64"
      ]
     },
     "execution_count": 1315,
     "metadata": {},
     "output_type": "execute_result"
    }
   ],
   "source": [
    "data['ESTUDO_COMORB_PREV_AVC'].value_counts()"
   ]
  },
  {
   "cell_type": "code",
   "execution_count": 1316,
   "id": "legislative-matrix",
   "metadata": {},
   "outputs": [],
   "source": [
    "data['ESTUDO_COMORB_PREV_AVC'] = data['ESTUDO_COMORB_PREV_AVC'].replace({'S': 1, 'N': 0, 'NI': 2})"
   ]
  },
  {
   "cell_type": "markdown",
   "id": "analyzed-reaction",
   "metadata": {},
   "source": [
    "#### ESTUDO_COMORB_PREV_ASMA"
   ]
  },
  {
   "cell_type": "code",
   "execution_count": 1317,
   "id": "legitimate-button",
   "metadata": {},
   "outputs": [],
   "source": [
    "data['ESTUDO_COMORB_PREV_ASMA'] = data['ESTUDO_COMORB_PREV_ASMA'].fillna('NI')"
   ]
  },
  {
   "cell_type": "code",
   "execution_count": 1318,
   "id": "hawaiian-flight",
   "metadata": {},
   "outputs": [
    {
     "data": {
      "text/plain": [
       "N     1317\n",
       "S        6\n",
       "NI       5\n",
       "Name: ESTUDO_COMORB_PREV_ASMA, dtype: int64"
      ]
     },
     "execution_count": 1318,
     "metadata": {},
     "output_type": "execute_result"
    }
   ],
   "source": [
    "data['ESTUDO_COMORB_PREV_ASMA'].value_counts()"
   ]
  },
  {
   "cell_type": "code",
   "execution_count": 1319,
   "id": "constant-liquid",
   "metadata": {},
   "outputs": [],
   "source": [
    "data['ESTUDO_COMORB_PREV_ASMA'] = data['ESTUDO_COMORB_PREV_ASMA'].replace({'S': 1, 'N': 0, 'NI': 2})"
   ]
  },
  {
   "cell_type": "markdown",
   "id": "informational-optimum",
   "metadata": {},
   "source": [
    "#### ESTUDO_COMORB_PREV_DPOC"
   ]
  },
  {
   "cell_type": "code",
   "execution_count": 1320,
   "id": "retired-imaging",
   "metadata": {},
   "outputs": [],
   "source": [
    "data['ESTUDO_COMORB_PREV_DPOC'] = data['ESTUDO_COMORB_PREV_DPOC'].fillna('NI')"
   ]
  },
  {
   "cell_type": "code",
   "execution_count": 1321,
   "id": "prescribed-dependence",
   "metadata": {},
   "outputs": [
    {
     "data": {
      "text/plain": [
       "N     1312\n",
       "S       11\n",
       "NI       5\n",
       "Name: ESTUDO_COMORB_PREV_DPOC, dtype: int64"
      ]
     },
     "execution_count": 1321,
     "metadata": {},
     "output_type": "execute_result"
    }
   ],
   "source": [
    "data['ESTUDO_COMORB_PREV_DPOC'].value_counts()"
   ]
  },
  {
   "cell_type": "code",
   "execution_count": 1322,
   "id": "modular-hartford",
   "metadata": {},
   "outputs": [],
   "source": [
    "data['ESTUDO_COMORB_PREV_DPOC'] = data['ESTUDO_COMORB_PREV_DPOC'].replace({'S': 1, 'N': 0, 'NI': 2})"
   ]
  },
  {
   "cell_type": "markdown",
   "id": "eastern-economics",
   "metadata": {},
   "source": [
    "#### ESTUDO_COMORB_PREV_OBESIDADE"
   ]
  },
  {
   "cell_type": "code",
   "execution_count": 1323,
   "id": "complex-estonia",
   "metadata": {},
   "outputs": [],
   "source": [
    "data['ESTUDO_COMORB_PREV_OBESIDADE'] = data['ESTUDO_COMORB_PREV_OBESIDADE'].fillna('NI')"
   ]
  },
  {
   "cell_type": "code",
   "execution_count": 1324,
   "id": "returning-auction",
   "metadata": {},
   "outputs": [
    {
     "data": {
      "text/plain": [
       "N     1308\n",
       "S       15\n",
       "NI       5\n",
       "Name: ESTUDO_COMORB_PREV_OBESIDADE, dtype: int64"
      ]
     },
     "execution_count": 1324,
     "metadata": {},
     "output_type": "execute_result"
    }
   ],
   "source": [
    "data['ESTUDO_COMORB_PREV_OBESIDADE'].value_counts()"
   ]
  },
  {
   "cell_type": "code",
   "execution_count": 1325,
   "id": "smart-trinidad",
   "metadata": {},
   "outputs": [],
   "source": [
    "data['ESTUDO_COMORB_PREV_OBESIDADE'] = data['ESTUDO_COMORB_PREV_OBESIDADE'].replace({'S': 1, 'N': 0, 'NI': 2})"
   ]
  },
  {
   "cell_type": "markdown",
   "id": "conceptual-shock",
   "metadata": {},
   "source": [
    "#### ESTUDO_COMORB_PREV_EPILEPSIA',"
   ]
  },
  {
   "cell_type": "code",
   "execution_count": 1326,
   "id": "marine-implement",
   "metadata": {},
   "outputs": [],
   "source": [
    "data['ESTUDO_COMORB_PREV_EPILEPSIA'] = data['ESTUDO_COMORB_PREV_EPILEPSIA'].fillna('NI')"
   ]
  },
  {
   "cell_type": "code",
   "execution_count": 1327,
   "id": "solid-conversion",
   "metadata": {},
   "outputs": [
    {
     "data": {
      "text/plain": [
       "N     1318\n",
       "S        5\n",
       "NI       5\n",
       "Name: ESTUDO_COMORB_PREV_EPILEPSIA, dtype: int64"
      ]
     },
     "execution_count": 1327,
     "metadata": {},
     "output_type": "execute_result"
    }
   ],
   "source": [
    "data['ESTUDO_COMORB_PREV_EPILEPSIA'].value_counts()"
   ]
  },
  {
   "cell_type": "code",
   "execution_count": 1328,
   "id": "presidential-workplace",
   "metadata": {},
   "outputs": [],
   "source": [
    "data['ESTUDO_COMORB_PREV_EPILEPSIA'] = data['ESTUDO_COMORB_PREV_EPILEPSIA'].replace({'S': 1, 'N': 0, 'NI': 2})"
   ]
  },
  {
   "cell_type": "markdown",
   "id": "endless-employer",
   "metadata": {},
   "source": [
    "#### ESTUDO_COMORB_PREV_HIGIDO"
   ]
  },
  {
   "cell_type": "code",
   "execution_count": 1329,
   "id": "disturbed-staff",
   "metadata": {},
   "outputs": [],
   "source": [
    "data['ESTUDO_COMORB_PREV_HIGIDO'] = data['ESTUDO_COMORB_PREV_HIGIDO'].fillna('NI')"
   ]
  },
  {
   "cell_type": "code",
   "execution_count": 1330,
   "id": "frank-experience",
   "metadata": {},
   "outputs": [
    {
     "data": {
      "text/plain": [
       "N     1312\n",
       "S       11\n",
       "NI       5\n",
       "Name: ESTUDO_COMORB_PREV_HIGIDO, dtype: int64"
      ]
     },
     "execution_count": 1330,
     "metadata": {},
     "output_type": "execute_result"
    }
   ],
   "source": [
    "data['ESTUDO_COMORB_PREV_HIGIDO'].value_counts()"
   ]
  },
  {
   "cell_type": "code",
   "execution_count": 1331,
   "id": "practical-extraction",
   "metadata": {},
   "outputs": [],
   "source": [
    "data['ESTUDO_COMORB_PREV_HIGIDO'] = data['ESTUDO_COMORB_PREV_HIGIDO'].replace({'S': 1, 'N': 0, 'NI': 2})"
   ]
  },
  {
   "cell_type": "markdown",
   "id": "stopped-times",
   "metadata": {},
   "source": [
    "#### ESTUDO_COMORB_PREV_OUTRAS"
   ]
  },
  {
   "cell_type": "code",
   "execution_count": 1332,
   "id": "married-timing",
   "metadata": {},
   "outputs": [
    {
     "data": {
      "text/plain": [
       "HIGIDO                                            11\n",
       "HAS, DM                                            3\n",
       "EPILEPSIA                                          2\n",
       "HIV                                                2\n",
       "HAS                                                2\n",
       "                                                  ..\n",
       "CA DE BEXIGA, INSUFICIENCIA CARD¡ACA, HAS, DRC     1\n",
       "LEUCEMIA                                           1\n",
       "TX RENAL, HAS                                      1\n",
       "TVP. PANCREATITE                                   1\n",
       "DM, HAS, ANGINA INST VEL                           1\n",
       "Name: ESTUDO_COMORB_PREV_OUTRAS, Length: 150, dtype: int64"
      ]
     },
     "execution_count": 1332,
     "metadata": {},
     "output_type": "execute_result"
    }
   ],
   "source": [
    "data['ESTUDO_COMORB_PREV_OUTRAS'].value_counts()"
   ]
  },
  {
   "cell_type": "code",
   "execution_count": 1333,
   "id": "absolute-banks",
   "metadata": {},
   "outputs": [],
   "source": [
    "data['ESTUDO_COMORB_PREV_OUTRAS'] = data['ESTUDO_COMORB_PREV_OUTRAS'].notna()"
   ]
  },
  {
   "cell_type": "code",
   "execution_count": 1334,
   "id": "necessary-collar",
   "metadata": {},
   "outputs": [
    {
     "data": {
      "text/plain": [
       "0    1163\n",
       "1     165\n",
       "Name: ESTUDO_COMORB_PREV_OUTRAS, dtype: int64"
      ]
     },
     "execution_count": 1334,
     "metadata": {},
     "output_type": "execute_result"
    }
   ],
   "source": [
    "# data = data.drop(['ESTUDO_COMORB_PREV_OUTRAS'], axis=1)\n",
    "\n",
    "data['ESTUDO_COMORB_PREV_OUTRAS'] = data['ESTUDO_COMORB_PREV_OUTRAS'].replace({False: 0, True: 1})\n",
    "data['ESTUDO_COMORB_PREV_OUTRAS'].value_counts()"
   ]
  },
  {
   "cell_type": "markdown",
   "id": "lovely-literacy",
   "metadata": {},
   "source": [
    "#### ESTUDO_CHARLSON"
   ]
  },
  {
   "cell_type": "code",
   "execution_count": 1335,
   "id": "stupid-cleaning",
   "metadata": {},
   "outputs": [
    {
     "name": "stdout",
     "output_type": "stream",
     "text": [
      "Valores Faltantes:  1185\n",
      "5.0     33\n",
      "4.0     24\n",
      "2.0     19\n",
      "6.0     17\n",
      "3.0     16\n",
      "1.0     10\n",
      "7.0      8\n",
      "10.0     6\n",
      "8.0      6\n",
      "0.0      2\n",
      "9.0      2\n",
      "Name: ESTUDO_CHARLSON, dtype: int64\n",
      "ESTUDO_CHARLSON:  [2.0, 5.0, 1.0, 3.0, 6.0, 7.0, 4.0, 8.0, 9.0, 10.0, 0.0]\n"
     ]
    },
    {
     "data": {
      "text/plain": [
       "1185"
      ]
     },
     "execution_count": 1335,
     "metadata": {},
     "output_type": "execute_result"
    }
   ],
   "source": [
    "resume(\"ESTUDO_CHARLSON\", data)"
   ]
  },
  {
   "cell_type": "code",
   "execution_count": 1336,
   "id": "rough-kinase",
   "metadata": {},
   "outputs": [
    {
     "data": {
      "text/html": [
       "<div>\n",
       "<style scoped>\n",
       "    .dataframe tbody tr th:only-of-type {\n",
       "        vertical-align: middle;\n",
       "    }\n",
       "\n",
       "    .dataframe tbody tr th {\n",
       "        vertical-align: top;\n",
       "    }\n",
       "\n",
       "    .dataframe thead th {\n",
       "        text-align: right;\n",
       "    }\n",
       "</style>\n",
       "<table border=\"1\" class=\"dataframe\">\n",
       "  <thead>\n",
       "    <tr style=\"text-align: right;\">\n",
       "      <th></th>\n",
       "      <th>COLETOU_AMOSTRA</th>\n",
       "      <th>IFI_OUTRO_VIRUS</th>\n",
       "      <th>CD_PACIENTE</th>\n",
       "      <th>GENERO</th>\n",
       "      <th>IDADE</th>\n",
       "      <th>DIAGNOSTICO_SARS</th>\n",
       "      <th>CD_CID</th>\n",
       "      <th>DS_ESPECIALID_SAI</th>\n",
       "      <th>REINTER_30D</th>\n",
       "      <th>CARATER_ATENDIMENTO</th>\n",
       "      <th>EMERG_SERVICO</th>\n",
       "      <th>EMERG_RISCO</th>\n",
       "      <th>CID_DIAG_ATEND</th>\n",
       "      <th>CID_CAPITULO_DIAG</th>\n",
       "      <th>BLOCO_CENTRAL_ST</th>\n",
       "      <th>HEMODINAMICA_ST</th>\n",
       "      <th>EX_LAB_ST</th>\n",
       "      <th>EX_IMG_ST</th>\n",
       "      <th>EX_OUTROS_ST</th>\n",
       "      <th>TIPO_REGISTRO</th>\n",
       "      <th>SN_CRIT_CONTATO_CASO_COVID</th>\n",
       "      <th>SN_CRIT_SRAG</th>\n",
       "      <th>SN_CRIT_SINDROME_GRIPAL</th>\n",
       "      <th>ESTUDO_TP_EXPOSICAO</th>\n",
       "      <th>ESTUDO_COMORB_PREV_HAS</th>\n",
       "      <th>ESTUDO_COMORB_PREV_IAM</th>\n",
       "      <th>ESTUDO_COMORB_PREV_IC</th>\n",
       "      <th>ESTUDO_COMORB_PREV_DRC</th>\n",
       "      <th>ESTUDO_COMORB_PREV_DMII</th>\n",
       "      <th>ESTUDO_COMORB_PREV_CARCINOMA</th>\n",
       "      <th>ESTUDO_COMORB_PREV_AVC</th>\n",
       "      <th>ESTUDO_COMORB_PREV_ASMA</th>\n",
       "      <th>ESTUDO_COMORB_PREV_DPOC</th>\n",
       "      <th>ESTUDO_COMORB_PREV_OBESIDADE</th>\n",
       "      <th>ESTUDO_COMORB_PREV_EPILEPSIA</th>\n",
       "      <th>ESTUDO_COMORB_PREV_HIGIDO</th>\n",
       "      <th>ESTUDO_COMORB_PREV_OUTRAS</th>\n",
       "      <th>ESTUDO_CHARLSON</th>\n",
       "      <th>ESTUDO_FR_DIA_COLETA</th>\n",
       "      <th>ESTUDO_FC_DIA_COLETA</th>\n",
       "      <th>ESTUDO_PA_DIA_COLETA</th>\n",
       "      <th>ESTUDO_TEMPERATURA_DIA_COLETA</th>\n",
       "      <th>ESTUDO_SATURACAO_DIA_COLETA</th>\n",
       "      <th>ESTUDO_APACHE2</th>\n",
       "      <th>ESTUDO_RISCO</th>\n",
       "      <th>ESTUDO_TRATAMENTO</th>\n",
       "      <th>ESTUDO_COMORB_PREV_TX_ORG_SOL</th>\n",
       "      <th>ESTUDO_CONDUTA</th>\n",
       "      <th>ESTUDO_LOCAL_CONTAMINACAO</th>\n",
       "      <th>ESTUDO_LOCAL_CONTAM_UI</th>\n",
       "      <th>ESTUDO_DT_DESFECHO</th>\n",
       "      <th>ESTUDO_COMORB_PREV_DESCON</th>\n",
       "      <th>ESTUDO_COMORB_PREV_DVP</th>\n",
       "      <th>ESTUDO_COMORB_PREV_DEMENCIA</th>\n",
       "      <th>ESTUDO_COMORB_PREV_DTC</th>\n",
       "      <th>ESTUDO_COMORB_PREV_UP</th>\n",
       "      <th>ESTUDO_COMORB_PREV_DFL</th>\n",
       "      <th>ESTUDO_COMORB_PREV_DFM</th>\n",
       "      <th>ESTUDO_COMORB_PREV_HEMIPLEGIA</th>\n",
       "      <th>ESTUDO_COMORB_PREV_LEUCEMIA</th>\n",
       "      <th>ESTUDO_COMORB_PREV_HIV</th>\n",
       "      <th>ESTUDO_COMORB_PREV_TUL</th>\n",
       "      <th>ESTUDO_COMORB_PREV_TUM</th>\n",
       "      <th>DIAS_CORRIDOS</th>\n",
       "      <th>STATUS_COVID.1</th>\n",
       "      <th>CD_ATENDIMENTO.1</th>\n",
       "      <th>DTHR_UTI_IN</th>\n",
       "      <th>DTHR_UTI_OUT</th>\n",
       "      <th>DIAS_NA_UTI</th>\n",
       "    </tr>\n",
       "  </thead>\n",
       "  <tbody>\n",
       "    <tr>\n",
       "      <th>8</th>\n",
       "      <td>1</td>\n",
       "      <td>2</td>\n",
       "      <td>2345773.0</td>\n",
       "      <td>1</td>\n",
       "      <td>29,6025114155251</td>\n",
       "      <td>0</td>\n",
       "      <td>244</td>\n",
       "      <td>8</td>\n",
       "      <td>1</td>\n",
       "      <td>0</td>\n",
       "      <td>2</td>\n",
       "      <td>3</td>\n",
       "      <td>97</td>\n",
       "      <td>4</td>\n",
       "      <td>1</td>\n",
       "      <td>0</td>\n",
       "      <td>1</td>\n",
       "      <td>1</td>\n",
       "      <td>0</td>\n",
       "      <td>1</td>\n",
       "      <td>0</td>\n",
       "      <td>0</td>\n",
       "      <td>0</td>\n",
       "      <td>3</td>\n",
       "      <td>0</td>\n",
       "      <td>0</td>\n",
       "      <td>0</td>\n",
       "      <td>0</td>\n",
       "      <td>0</td>\n",
       "      <td>0</td>\n",
       "      <td>0</td>\n",
       "      <td>0</td>\n",
       "      <td>0</td>\n",
       "      <td>0</td>\n",
       "      <td>0</td>\n",
       "      <td>0</td>\n",
       "      <td>1</td>\n",
       "      <td>2.0</td>\n",
       "      <td>NaN</td>\n",
       "      <td>NaN</td>\n",
       "      <td>NaN</td>\n",
       "      <td>NaN</td>\n",
       "      <td>NaN</td>\n",
       "      <td>NaN</td>\n",
       "      <td>NaN</td>\n",
       "      <td>NaN</td>\n",
       "      <td>N</td>\n",
       "      <td>L</td>\n",
       "      <td>DESCONHECIDO</td>\n",
       "      <td>NaN</td>\n",
       "      <td>NaN</td>\n",
       "      <td>N</td>\n",
       "      <td>N</td>\n",
       "      <td>N</td>\n",
       "      <td>N</td>\n",
       "      <td>N</td>\n",
       "      <td>N</td>\n",
       "      <td>N</td>\n",
       "      <td>N</td>\n",
       "      <td>S</td>\n",
       "      <td>N</td>\n",
       "      <td>N</td>\n",
       "      <td>N</td>\n",
       "      <td>0</td>\n",
       "      <td>NaN</td>\n",
       "      <td>NaN</td>\n",
       "      <td>NaN</td>\n",
       "      <td>NaN</td>\n",
       "      <td>0.000000</td>\n",
       "    </tr>\n",
       "    <tr>\n",
       "      <th>12</th>\n",
       "      <td>1</td>\n",
       "      <td>2</td>\n",
       "      <td>2338422.0</td>\n",
       "      <td>1</td>\n",
       "      <td>68,7203196347032</td>\n",
       "      <td>0</td>\n",
       "      <td>26</td>\n",
       "      <td>5</td>\n",
       "      <td>1</td>\n",
       "      <td>1</td>\n",
       "      <td>1</td>\n",
       "      <td>2</td>\n",
       "      <td>25</td>\n",
       "      <td>2</td>\n",
       "      <td>0</td>\n",
       "      <td>0</td>\n",
       "      <td>1</td>\n",
       "      <td>1</td>\n",
       "      <td>0</td>\n",
       "      <td>1</td>\n",
       "      <td>0</td>\n",
       "      <td>0</td>\n",
       "      <td>0</td>\n",
       "      <td>2</td>\n",
       "      <td>1</td>\n",
       "      <td>0</td>\n",
       "      <td>1</td>\n",
       "      <td>1</td>\n",
       "      <td>0</td>\n",
       "      <td>0</td>\n",
       "      <td>0</td>\n",
       "      <td>0</td>\n",
       "      <td>0</td>\n",
       "      <td>0</td>\n",
       "      <td>0</td>\n",
       "      <td>0</td>\n",
       "      <td>1</td>\n",
       "      <td>5.0</td>\n",
       "      <td>NaN</td>\n",
       "      <td>NaN</td>\n",
       "      <td>NaN</td>\n",
       "      <td>NaN</td>\n",
       "      <td>NaN</td>\n",
       "      <td>NaN</td>\n",
       "      <td>NaN</td>\n",
       "      <td>NaN</td>\n",
       "      <td>N</td>\n",
       "      <td>L</td>\n",
       "      <td>UNIDADE DE INTERNACAO HSL</td>\n",
       "      <td>15.0</td>\n",
       "      <td>NaN</td>\n",
       "      <td>N</td>\n",
       "      <td>N</td>\n",
       "      <td>N</td>\n",
       "      <td>N</td>\n",
       "      <td>N</td>\n",
       "      <td>N</td>\n",
       "      <td>N</td>\n",
       "      <td>N</td>\n",
       "      <td>N</td>\n",
       "      <td>N</td>\n",
       "      <td>N</td>\n",
       "      <td>N</td>\n",
       "      <td>5</td>\n",
       "      <td>NaN</td>\n",
       "      <td>NaN</td>\n",
       "      <td>NaN</td>\n",
       "      <td>NaN</td>\n",
       "      <td>0.000000</td>\n",
       "    </tr>\n",
       "    <tr>\n",
       "      <th>25</th>\n",
       "      <td>1</td>\n",
       "      <td>1</td>\n",
       "      <td>1111099.0</td>\n",
       "      <td>0</td>\n",
       "      <td>74,1203196347032</td>\n",
       "      <td>0</td>\n",
       "      <td>2</td>\n",
       "      <td>1</td>\n",
       "      <td>0</td>\n",
       "      <td>1</td>\n",
       "      <td>1</td>\n",
       "      <td>4</td>\n",
       "      <td>2</td>\n",
       "      <td>1</td>\n",
       "      <td>0</td>\n",
       "      <td>0</td>\n",
       "      <td>1</td>\n",
       "      <td>0</td>\n",
       "      <td>0</td>\n",
       "      <td>0</td>\n",
       "      <td>0</td>\n",
       "      <td>1</td>\n",
       "      <td>0</td>\n",
       "      <td>3</td>\n",
       "      <td>0</td>\n",
       "      <td>0</td>\n",
       "      <td>0</td>\n",
       "      <td>0</td>\n",
       "      <td>1</td>\n",
       "      <td>0</td>\n",
       "      <td>0</td>\n",
       "      <td>1</td>\n",
       "      <td>0</td>\n",
       "      <td>0</td>\n",
       "      <td>0</td>\n",
       "      <td>0</td>\n",
       "      <td>1</td>\n",
       "      <td>5.0</td>\n",
       "      <td>NaN</td>\n",
       "      <td>NaN</td>\n",
       "      <td>NaN</td>\n",
       "      <td>NaN</td>\n",
       "      <td>NaN</td>\n",
       "      <td>NaN</td>\n",
       "      <td>NaN</td>\n",
       "      <td>NaN</td>\n",
       "      <td>N</td>\n",
       "      <td>L</td>\n",
       "      <td>EXTERNO</td>\n",
       "      <td>NaN</td>\n",
       "      <td>NaN</td>\n",
       "      <td>N</td>\n",
       "      <td>N</td>\n",
       "      <td>N</td>\n",
       "      <td>N</td>\n",
       "      <td>N</td>\n",
       "      <td>N</td>\n",
       "      <td>N</td>\n",
       "      <td>N</td>\n",
       "      <td>N</td>\n",
       "      <td>N</td>\n",
       "      <td>N</td>\n",
       "      <td>N</td>\n",
       "      <td>4</td>\n",
       "      <td>NaN</td>\n",
       "      <td>NaN</td>\n",
       "      <td>NaN</td>\n",
       "      <td>NaN</td>\n",
       "      <td>0.000000</td>\n",
       "    </tr>\n",
       "    <tr>\n",
       "      <th>34</th>\n",
       "      <td>1</td>\n",
       "      <td>2</td>\n",
       "      <td>2238084.0</td>\n",
       "      <td>1</td>\n",
       "      <td>37,7011415525114</td>\n",
       "      <td>0</td>\n",
       "      <td>3</td>\n",
       "      <td>2</td>\n",
       "      <td>1</td>\n",
       "      <td>1</td>\n",
       "      <td>3</td>\n",
       "      <td>4</td>\n",
       "      <td>3</td>\n",
       "      <td>1</td>\n",
       "      <td>1</td>\n",
       "      <td>1</td>\n",
       "      <td>1</td>\n",
       "      <td>1</td>\n",
       "      <td>1</td>\n",
       "      <td>0</td>\n",
       "      <td>0</td>\n",
       "      <td>1</td>\n",
       "      <td>0</td>\n",
       "      <td>2</td>\n",
       "      <td>0</td>\n",
       "      <td>0</td>\n",
       "      <td>0</td>\n",
       "      <td>1</td>\n",
       "      <td>0</td>\n",
       "      <td>0</td>\n",
       "      <td>0</td>\n",
       "      <td>0</td>\n",
       "      <td>0</td>\n",
       "      <td>0</td>\n",
       "      <td>0</td>\n",
       "      <td>0</td>\n",
       "      <td>1</td>\n",
       "      <td>2.0</td>\n",
       "      <td>NaN</td>\n",
       "      <td>NaN</td>\n",
       "      <td>NaN</td>\n",
       "      <td>NaN</td>\n",
       "      <td>NaN</td>\n",
       "      <td>NaN</td>\n",
       "      <td>NaN</td>\n",
       "      <td>NaN</td>\n",
       "      <td>S</td>\n",
       "      <td>L</td>\n",
       "      <td>UNIDADE DE INTERNACAO HSL</td>\n",
       "      <td>12.0</td>\n",
       "      <td>NaN</td>\n",
       "      <td>N</td>\n",
       "      <td>N</td>\n",
       "      <td>N</td>\n",
       "      <td>N</td>\n",
       "      <td>N</td>\n",
       "      <td>N</td>\n",
       "      <td>N</td>\n",
       "      <td>N</td>\n",
       "      <td>N</td>\n",
       "      <td>N</td>\n",
       "      <td>N</td>\n",
       "      <td>N</td>\n",
       "      <td>85</td>\n",
       "      <td>NaN</td>\n",
       "      <td>NaN</td>\n",
       "      <td>NaN</td>\n",
       "      <td>NaN</td>\n",
       "      <td>0.000000</td>\n",
       "    </tr>\n",
       "    <tr>\n",
       "      <th>52</th>\n",
       "      <td>1</td>\n",
       "      <td>2</td>\n",
       "      <td>2341063.0</td>\n",
       "      <td>0</td>\n",
       "      <td>58,112100456621</td>\n",
       "      <td>0</td>\n",
       "      <td>18</td>\n",
       "      <td>9</td>\n",
       "      <td>0</td>\n",
       "      <td>0</td>\n",
       "      <td>2</td>\n",
       "      <td>3</td>\n",
       "      <td>21</td>\n",
       "      <td>7</td>\n",
       "      <td>1</td>\n",
       "      <td>0</td>\n",
       "      <td>1</td>\n",
       "      <td>1</td>\n",
       "      <td>1</td>\n",
       "      <td>0</td>\n",
       "      <td>0</td>\n",
       "      <td>1</td>\n",
       "      <td>0</td>\n",
       "      <td>3</td>\n",
       "      <td>1</td>\n",
       "      <td>0</td>\n",
       "      <td>0</td>\n",
       "      <td>0</td>\n",
       "      <td>0</td>\n",
       "      <td>0</td>\n",
       "      <td>0</td>\n",
       "      <td>1</td>\n",
       "      <td>0</td>\n",
       "      <td>0</td>\n",
       "      <td>0</td>\n",
       "      <td>0</td>\n",
       "      <td>1</td>\n",
       "      <td>1.0</td>\n",
       "      <td>NaN</td>\n",
       "      <td>NaN</td>\n",
       "      <td>NaN</td>\n",
       "      <td>NaN</td>\n",
       "      <td>NaN</td>\n",
       "      <td>NaN</td>\n",
       "      <td>NaN</td>\n",
       "      <td>NaN</td>\n",
       "      <td>N</td>\n",
       "      <td>L</td>\n",
       "      <td>EXTERNO</td>\n",
       "      <td>NaN</td>\n",
       "      <td>NaN</td>\n",
       "      <td>N</td>\n",
       "      <td>N</td>\n",
       "      <td>N</td>\n",
       "      <td>N</td>\n",
       "      <td>N</td>\n",
       "      <td>N</td>\n",
       "      <td>N</td>\n",
       "      <td>N</td>\n",
       "      <td>N</td>\n",
       "      <td>N</td>\n",
       "      <td>N</td>\n",
       "      <td>N</td>\n",
       "      <td>1</td>\n",
       "      <td>CONFIRMADOS</td>\n",
       "      <td>1262191.0</td>\n",
       "      <td>09/04/2020 11:45:12</td>\n",
       "      <td>11/04/2020 12:30:00</td>\n",
       "      <td>2.031111</td>\n",
       "    </tr>\n",
       "    <tr>\n",
       "      <th>...</th>\n",
       "      <td>...</td>\n",
       "      <td>...</td>\n",
       "      <td>...</td>\n",
       "      <td>...</td>\n",
       "      <td>...</td>\n",
       "      <td>...</td>\n",
       "      <td>...</td>\n",
       "      <td>...</td>\n",
       "      <td>...</td>\n",
       "      <td>...</td>\n",
       "      <td>...</td>\n",
       "      <td>...</td>\n",
       "      <td>...</td>\n",
       "      <td>...</td>\n",
       "      <td>...</td>\n",
       "      <td>...</td>\n",
       "      <td>...</td>\n",
       "      <td>...</td>\n",
       "      <td>...</td>\n",
       "      <td>...</td>\n",
       "      <td>...</td>\n",
       "      <td>...</td>\n",
       "      <td>...</td>\n",
       "      <td>...</td>\n",
       "      <td>...</td>\n",
       "      <td>...</td>\n",
       "      <td>...</td>\n",
       "      <td>...</td>\n",
       "      <td>...</td>\n",
       "      <td>...</td>\n",
       "      <td>...</td>\n",
       "      <td>...</td>\n",
       "      <td>...</td>\n",
       "      <td>...</td>\n",
       "      <td>...</td>\n",
       "      <td>...</td>\n",
       "      <td>...</td>\n",
       "      <td>...</td>\n",
       "      <td>...</td>\n",
       "      <td>...</td>\n",
       "      <td>...</td>\n",
       "      <td>...</td>\n",
       "      <td>...</td>\n",
       "      <td>...</td>\n",
       "      <td>...</td>\n",
       "      <td>...</td>\n",
       "      <td>...</td>\n",
       "      <td>...</td>\n",
       "      <td>...</td>\n",
       "      <td>...</td>\n",
       "      <td>...</td>\n",
       "      <td>...</td>\n",
       "      <td>...</td>\n",
       "      <td>...</td>\n",
       "      <td>...</td>\n",
       "      <td>...</td>\n",
       "      <td>...</td>\n",
       "      <td>...</td>\n",
       "      <td>...</td>\n",
       "      <td>...</td>\n",
       "      <td>...</td>\n",
       "      <td>...</td>\n",
       "      <td>...</td>\n",
       "      <td>...</td>\n",
       "      <td>...</td>\n",
       "      <td>...</td>\n",
       "      <td>...</td>\n",
       "      <td>...</td>\n",
       "      <td>...</td>\n",
       "    </tr>\n",
       "    <tr>\n",
       "      <th>475</th>\n",
       "      <td>1</td>\n",
       "      <td>2</td>\n",
       "      <td>2353833.0</td>\n",
       "      <td>1</td>\n",
       "      <td>81,6079908675799</td>\n",
       "      <td>0</td>\n",
       "      <td>2</td>\n",
       "      <td>4</td>\n",
       "      <td>0</td>\n",
       "      <td>1</td>\n",
       "      <td>1</td>\n",
       "      <td>5</td>\n",
       "      <td>1</td>\n",
       "      <td>1</td>\n",
       "      <td>0</td>\n",
       "      <td>0</td>\n",
       "      <td>1</td>\n",
       "      <td>1</td>\n",
       "      <td>0</td>\n",
       "      <td>1</td>\n",
       "      <td>0</td>\n",
       "      <td>0</td>\n",
       "      <td>0</td>\n",
       "      <td>6</td>\n",
       "      <td>1</td>\n",
       "      <td>0</td>\n",
       "      <td>0</td>\n",
       "      <td>0</td>\n",
       "      <td>0</td>\n",
       "      <td>0</td>\n",
       "      <td>1</td>\n",
       "      <td>0</td>\n",
       "      <td>0</td>\n",
       "      <td>0</td>\n",
       "      <td>0</td>\n",
       "      <td>0</td>\n",
       "      <td>1</td>\n",
       "      <td>5.0</td>\n",
       "      <td>NaN</td>\n",
       "      <td>NaN</td>\n",
       "      <td>NaN</td>\n",
       "      <td>NaN</td>\n",
       "      <td>NaN</td>\n",
       "      <td>NaN</td>\n",
       "      <td>NaN</td>\n",
       "      <td>NaN</td>\n",
       "      <td>N</td>\n",
       "      <td>L</td>\n",
       "      <td>OUTRA INSTITUIÇÃO DE SAÚDE</td>\n",
       "      <td>NaN</td>\n",
       "      <td>NaN</td>\n",
       "      <td>N</td>\n",
       "      <td>N</td>\n",
       "      <td>N</td>\n",
       "      <td>N</td>\n",
       "      <td>N</td>\n",
       "      <td>N</td>\n",
       "      <td>N</td>\n",
       "      <td>N</td>\n",
       "      <td>N</td>\n",
       "      <td>N</td>\n",
       "      <td>N</td>\n",
       "      <td>N</td>\n",
       "      <td>9</td>\n",
       "      <td>NaN</td>\n",
       "      <td>NaN</td>\n",
       "      <td>NaN</td>\n",
       "      <td>NaN</td>\n",
       "      <td>0.000000</td>\n",
       "    </tr>\n",
       "    <tr>\n",
       "      <th>479</th>\n",
       "      <td>1</td>\n",
       "      <td>2</td>\n",
       "      <td>2353959.0</td>\n",
       "      <td>0</td>\n",
       "      <td>82,4025114155251</td>\n",
       "      <td>0</td>\n",
       "      <td>2</td>\n",
       "      <td>1</td>\n",
       "      <td>0</td>\n",
       "      <td>1</td>\n",
       "      <td>1</td>\n",
       "      <td>2</td>\n",
       "      <td>2</td>\n",
       "      <td>1</td>\n",
       "      <td>0</td>\n",
       "      <td>0</td>\n",
       "      <td>1</td>\n",
       "      <td>0</td>\n",
       "      <td>0</td>\n",
       "      <td>1</td>\n",
       "      <td>0</td>\n",
       "      <td>0</td>\n",
       "      <td>0</td>\n",
       "      <td>3</td>\n",
       "      <td>1</td>\n",
       "      <td>0</td>\n",
       "      <td>0</td>\n",
       "      <td>0</td>\n",
       "      <td>1</td>\n",
       "      <td>0</td>\n",
       "      <td>0</td>\n",
       "      <td>0</td>\n",
       "      <td>0</td>\n",
       "      <td>0</td>\n",
       "      <td>0</td>\n",
       "      <td>0</td>\n",
       "      <td>1</td>\n",
       "      <td>5.0</td>\n",
       "      <td>NaN</td>\n",
       "      <td>NaN</td>\n",
       "      <td>NaN</td>\n",
       "      <td>NaN</td>\n",
       "      <td>NaN</td>\n",
       "      <td>NaN</td>\n",
       "      <td>NaN</td>\n",
       "      <td>NaN</td>\n",
       "      <td>N</td>\n",
       "      <td>L</td>\n",
       "      <td>EXTERNO</td>\n",
       "      <td>NaN</td>\n",
       "      <td>NaN</td>\n",
       "      <td>N</td>\n",
       "      <td>N</td>\n",
       "      <td>N</td>\n",
       "      <td>N</td>\n",
       "      <td>N</td>\n",
       "      <td>N</td>\n",
       "      <td>N</td>\n",
       "      <td>N</td>\n",
       "      <td>N</td>\n",
       "      <td>N</td>\n",
       "      <td>N</td>\n",
       "      <td>N</td>\n",
       "      <td>1</td>\n",
       "      <td>NaN</td>\n",
       "      <td>NaN</td>\n",
       "      <td>NaN</td>\n",
       "      <td>NaN</td>\n",
       "      <td>0.000000</td>\n",
       "    </tr>\n",
       "    <tr>\n",
       "      <th>481</th>\n",
       "      <td>1</td>\n",
       "      <td>2</td>\n",
       "      <td>2352411.0</td>\n",
       "      <td>1</td>\n",
       "      <td>34,9833333333333</td>\n",
       "      <td>1</td>\n",
       "      <td>1</td>\n",
       "      <td>7</td>\n",
       "      <td>0</td>\n",
       "      <td>1</td>\n",
       "      <td>1</td>\n",
       "      <td>1</td>\n",
       "      <td>1</td>\n",
       "      <td>1</td>\n",
       "      <td>0</td>\n",
       "      <td>0</td>\n",
       "      <td>0</td>\n",
       "      <td>1</td>\n",
       "      <td>0</td>\n",
       "      <td>1</td>\n",
       "      <td>0</td>\n",
       "      <td>0</td>\n",
       "      <td>0</td>\n",
       "      <td>3</td>\n",
       "      <td>0</td>\n",
       "      <td>1</td>\n",
       "      <td>0</td>\n",
       "      <td>0</td>\n",
       "      <td>0</td>\n",
       "      <td>0</td>\n",
       "      <td>0</td>\n",
       "      <td>0</td>\n",
       "      <td>0</td>\n",
       "      <td>0</td>\n",
       "      <td>0</td>\n",
       "      <td>0</td>\n",
       "      <td>1</td>\n",
       "      <td>2.0</td>\n",
       "      <td>NaN</td>\n",
       "      <td>NaN</td>\n",
       "      <td>NaN</td>\n",
       "      <td>NaN</td>\n",
       "      <td>NaN</td>\n",
       "      <td>NaN</td>\n",
       "      <td>NaN</td>\n",
       "      <td>NaN</td>\n",
       "      <td>N</td>\n",
       "      <td>L</td>\n",
       "      <td>EXTERNO</td>\n",
       "      <td>NaN</td>\n",
       "      <td>NaN</td>\n",
       "      <td>N</td>\n",
       "      <td>N</td>\n",
       "      <td>N</td>\n",
       "      <td>N</td>\n",
       "      <td>N</td>\n",
       "      <td>N</td>\n",
       "      <td>N</td>\n",
       "      <td>N</td>\n",
       "      <td>N</td>\n",
       "      <td>N</td>\n",
       "      <td>N</td>\n",
       "      <td>N</td>\n",
       "      <td>3</td>\n",
       "      <td>NaN</td>\n",
       "      <td>NaN</td>\n",
       "      <td>NaN</td>\n",
       "      <td>NaN</td>\n",
       "      <td>0.000000</td>\n",
       "    </tr>\n",
       "    <tr>\n",
       "      <th>482</th>\n",
       "      <td>1</td>\n",
       "      <td>2</td>\n",
       "      <td>2354906.0</td>\n",
       "      <td>1</td>\n",
       "      <td>82,4326484018265</td>\n",
       "      <td>0</td>\n",
       "      <td>2</td>\n",
       "      <td>4</td>\n",
       "      <td>0</td>\n",
       "      <td>1</td>\n",
       "      <td>1</td>\n",
       "      <td>2</td>\n",
       "      <td>2</td>\n",
       "      <td>1</td>\n",
       "      <td>0</td>\n",
       "      <td>0</td>\n",
       "      <td>1</td>\n",
       "      <td>0</td>\n",
       "      <td>0</td>\n",
       "      <td>1</td>\n",
       "      <td>0</td>\n",
       "      <td>0</td>\n",
       "      <td>1</td>\n",
       "      <td>3</td>\n",
       "      <td>0</td>\n",
       "      <td>0</td>\n",
       "      <td>0</td>\n",
       "      <td>0</td>\n",
       "      <td>0</td>\n",
       "      <td>0</td>\n",
       "      <td>0</td>\n",
       "      <td>0</td>\n",
       "      <td>0</td>\n",
       "      <td>0</td>\n",
       "      <td>0</td>\n",
       "      <td>0</td>\n",
       "      <td>1</td>\n",
       "      <td>4.0</td>\n",
       "      <td>22</td>\n",
       "      <td>100.0</td>\n",
       "      <td>156/30</td>\n",
       "      <td>36,8</td>\n",
       "      <td>93</td>\n",
       "      <td>NaN</td>\n",
       "      <td>NaN</td>\n",
       "      <td>D</td>\n",
       "      <td>N</td>\n",
       "      <td>L</td>\n",
       "      <td>EXTERNO</td>\n",
       "      <td>NaN</td>\n",
       "      <td>17/08/2020</td>\n",
       "      <td>N</td>\n",
       "      <td>N</td>\n",
       "      <td>N</td>\n",
       "      <td>N</td>\n",
       "      <td>N</td>\n",
       "      <td>N</td>\n",
       "      <td>N</td>\n",
       "      <td>N</td>\n",
       "      <td>N</td>\n",
       "      <td>N</td>\n",
       "      <td>N</td>\n",
       "      <td>N</td>\n",
       "      <td>7</td>\n",
       "      <td>NaN</td>\n",
       "      <td>NaN</td>\n",
       "      <td>NaN</td>\n",
       "      <td>NaN</td>\n",
       "      <td>0.000000</td>\n",
       "    </tr>\n",
       "    <tr>\n",
       "      <th>483</th>\n",
       "      <td>1</td>\n",
       "      <td>2</td>\n",
       "      <td>2354985.0</td>\n",
       "      <td>1</td>\n",
       "      <td>79,284703196347</td>\n",
       "      <td>0</td>\n",
       "      <td>13</td>\n",
       "      <td>1</td>\n",
       "      <td>0</td>\n",
       "      <td>0</td>\n",
       "      <td>2</td>\n",
       "      <td>3</td>\n",
       "      <td>3</td>\n",
       "      <td>1</td>\n",
       "      <td>1</td>\n",
       "      <td>0</td>\n",
       "      <td>1</td>\n",
       "      <td>1</td>\n",
       "      <td>1</td>\n",
       "      <td>1</td>\n",
       "      <td>0</td>\n",
       "      <td>1</td>\n",
       "      <td>0</td>\n",
       "      <td>2</td>\n",
       "      <td>0</td>\n",
       "      <td>0</td>\n",
       "      <td>0</td>\n",
       "      <td>1</td>\n",
       "      <td>1</td>\n",
       "      <td>0</td>\n",
       "      <td>0</td>\n",
       "      <td>0</td>\n",
       "      <td>0</td>\n",
       "      <td>0</td>\n",
       "      <td>0</td>\n",
       "      <td>0</td>\n",
       "      <td>0</td>\n",
       "      <td>3.0</td>\n",
       "      <td>17</td>\n",
       "      <td>66.0</td>\n",
       "      <td>120/60</td>\n",
       "      <td>37,3</td>\n",
       "      <td>76-88%</td>\n",
       "      <td>NaN</td>\n",
       "      <td>NaN</td>\n",
       "      <td>N</td>\n",
       "      <td>N</td>\n",
       "      <td>L</td>\n",
       "      <td>HSL</td>\n",
       "      <td>14.0</td>\n",
       "      <td>20/10/2020</td>\n",
       "      <td>N</td>\n",
       "      <td>N</td>\n",
       "      <td>N</td>\n",
       "      <td>N</td>\n",
       "      <td>N</td>\n",
       "      <td>N</td>\n",
       "      <td>N</td>\n",
       "      <td>N</td>\n",
       "      <td>N</td>\n",
       "      <td>N</td>\n",
       "      <td>N</td>\n",
       "      <td>N</td>\n",
       "      <td>72</td>\n",
       "      <td>CONFIRMADOS</td>\n",
       "      <td>1354901.0</td>\n",
       "      <td>12/10/2020 18:14:08</td>\n",
       "      <td>20/10/2020 04:00:10</td>\n",
       "      <td>7.406968</td>\n",
       "    </tr>\n",
       "  </tbody>\n",
       "</table>\n",
       "<p>143 rows × 69 columns</p>\n",
       "</div>"
      ],
      "text/plain": [
       "     COLETOU_AMOSTRA  IFI_OUTRO_VIRUS  CD_PACIENTE  GENERO             IDADE  \\\n",
       "8                  1                2    2345773.0       1  29,6025114155251   \n",
       "12                 1                2    2338422.0       1  68,7203196347032   \n",
       "25                 1                1    1111099.0       0  74,1203196347032   \n",
       "34                 1                2    2238084.0       1  37,7011415525114   \n",
       "52                 1                2    2341063.0       0   58,112100456621   \n",
       "..               ...              ...          ...     ...               ...   \n",
       "475                1                2    2353833.0       1  81,6079908675799   \n",
       "479                1                2    2353959.0       0  82,4025114155251   \n",
       "481                1                2    2352411.0       1  34,9833333333333   \n",
       "482                1                2    2354906.0       1  82,4326484018265   \n",
       "483                1                2    2354985.0       1   79,284703196347   \n",
       "\n",
       "     DIAGNOSTICO_SARS  CD_CID  DS_ESPECIALID_SAI  REINTER_30D  \\\n",
       "8                   0     244                  8            1   \n",
       "12                  0      26                  5            1   \n",
       "25                  0       2                  1            0   \n",
       "34                  0       3                  2            1   \n",
       "52                  0      18                  9            0   \n",
       "..                ...     ...                ...          ...   \n",
       "475                 0       2                  4            0   \n",
       "479                 0       2                  1            0   \n",
       "481                 1       1                  7            0   \n",
       "482                 0       2                  4            0   \n",
       "483                 0      13                  1            0   \n",
       "\n",
       "     CARATER_ATENDIMENTO  EMERG_SERVICO  EMERG_RISCO  CID_DIAG_ATEND  \\\n",
       "8                      0              2            3              97   \n",
       "12                     1              1            2              25   \n",
       "25                     1              1            4               2   \n",
       "34                     1              3            4               3   \n",
       "52                     0              2            3              21   \n",
       "..                   ...            ...          ...             ...   \n",
       "475                    1              1            5               1   \n",
       "479                    1              1            2               2   \n",
       "481                    1              1            1               1   \n",
       "482                    1              1            2               2   \n",
       "483                    0              2            3               3   \n",
       "\n",
       "     CID_CAPITULO_DIAG  BLOCO_CENTRAL_ST  HEMODINAMICA_ST  EX_LAB_ST  \\\n",
       "8                    4                 1                0          1   \n",
       "12                   2                 0                0          1   \n",
       "25                   1                 0                0          1   \n",
       "34                   1                 1                1          1   \n",
       "52                   7                 1                0          1   \n",
       "..                 ...               ...              ...        ...   \n",
       "475                  1                 0                0          1   \n",
       "479                  1                 0                0          1   \n",
       "481                  1                 0                0          0   \n",
       "482                  1                 0                0          1   \n",
       "483                  1                 1                0          1   \n",
       "\n",
       "     EX_IMG_ST  EX_OUTROS_ST  TIPO_REGISTRO  SN_CRIT_CONTATO_CASO_COVID  \\\n",
       "8            1             0              1                           0   \n",
       "12           1             0              1                           0   \n",
       "25           0             0              0                           0   \n",
       "34           1             1              0                           0   \n",
       "52           1             1              0                           0   \n",
       "..         ...           ...            ...                         ...   \n",
       "475          1             0              1                           0   \n",
       "479          0             0              1                           0   \n",
       "481          1             0              1                           0   \n",
       "482          0             0              1                           0   \n",
       "483          1             1              1                           0   \n",
       "\n",
       "     SN_CRIT_SRAG  SN_CRIT_SINDROME_GRIPAL  ESTUDO_TP_EXPOSICAO  \\\n",
       "8               0                        0                    3   \n",
       "12              0                        0                    2   \n",
       "25              1                        0                    3   \n",
       "34              1                        0                    2   \n",
       "52              1                        0                    3   \n",
       "..            ...                      ...                  ...   \n",
       "475             0                        0                    6   \n",
       "479             0                        0                    3   \n",
       "481             0                        0                    3   \n",
       "482             0                        1                    3   \n",
       "483             1                        0                    2   \n",
       "\n",
       "     ESTUDO_COMORB_PREV_HAS  ESTUDO_COMORB_PREV_IAM  ESTUDO_COMORB_PREV_IC  \\\n",
       "8                         0                       0                      0   \n",
       "12                        1                       0                      1   \n",
       "25                        0                       0                      0   \n",
       "34                        0                       0                      0   \n",
       "52                        1                       0                      0   \n",
       "..                      ...                     ...                    ...   \n",
       "475                       1                       0                      0   \n",
       "479                       1                       0                      0   \n",
       "481                       0                       1                      0   \n",
       "482                       0                       0                      0   \n",
       "483                       0                       0                      0   \n",
       "\n",
       "     ESTUDO_COMORB_PREV_DRC  ESTUDO_COMORB_PREV_DMII  \\\n",
       "8                         0                        0   \n",
       "12                        1                        0   \n",
       "25                        0                        1   \n",
       "34                        1                        0   \n",
       "52                        0                        0   \n",
       "..                      ...                      ...   \n",
       "475                       0                        0   \n",
       "479                       0                        1   \n",
       "481                       0                        0   \n",
       "482                       0                        0   \n",
       "483                       1                        1   \n",
       "\n",
       "     ESTUDO_COMORB_PREV_CARCINOMA  ESTUDO_COMORB_PREV_AVC  \\\n",
       "8                               0                       0   \n",
       "12                              0                       0   \n",
       "25                              0                       0   \n",
       "34                              0                       0   \n",
       "52                              0                       0   \n",
       "..                            ...                     ...   \n",
       "475                             0                       1   \n",
       "479                             0                       0   \n",
       "481                             0                       0   \n",
       "482                             0                       0   \n",
       "483                             0                       0   \n",
       "\n",
       "     ESTUDO_COMORB_PREV_ASMA  ESTUDO_COMORB_PREV_DPOC  \\\n",
       "8                          0                        0   \n",
       "12                         0                        0   \n",
       "25                         1                        0   \n",
       "34                         0                        0   \n",
       "52                         1                        0   \n",
       "..                       ...                      ...   \n",
       "475                        0                        0   \n",
       "479                        0                        0   \n",
       "481                        0                        0   \n",
       "482                        0                        0   \n",
       "483                        0                        0   \n",
       "\n",
       "     ESTUDO_COMORB_PREV_OBESIDADE  ESTUDO_COMORB_PREV_EPILEPSIA  \\\n",
       "8                               0                             0   \n",
       "12                              0                             0   \n",
       "25                              0                             0   \n",
       "34                              0                             0   \n",
       "52                              0                             0   \n",
       "..                            ...                           ...   \n",
       "475                             0                             0   \n",
       "479                             0                             0   \n",
       "481                             0                             0   \n",
       "482                             0                             0   \n",
       "483                             0                             0   \n",
       "\n",
       "     ESTUDO_COMORB_PREV_HIGIDO  ESTUDO_COMORB_PREV_OUTRAS  ESTUDO_CHARLSON  \\\n",
       "8                            0                          1              2.0   \n",
       "12                           0                          1              5.0   \n",
       "25                           0                          1              5.0   \n",
       "34                           0                          1              2.0   \n",
       "52                           0                          1              1.0   \n",
       "..                         ...                        ...              ...   \n",
       "475                          0                          1              5.0   \n",
       "479                          0                          1              5.0   \n",
       "481                          0                          1              2.0   \n",
       "482                          0                          1              4.0   \n",
       "483                          0                          0              3.0   \n",
       "\n",
       "    ESTUDO_FR_DIA_COLETA  ESTUDO_FC_DIA_COLETA ESTUDO_PA_DIA_COLETA  \\\n",
       "8                    NaN                   NaN                  NaN   \n",
       "12                   NaN                   NaN                  NaN   \n",
       "25                   NaN                   NaN                  NaN   \n",
       "34                   NaN                   NaN                  NaN   \n",
       "52                   NaN                   NaN                  NaN   \n",
       "..                   ...                   ...                  ...   \n",
       "475                  NaN                   NaN                  NaN   \n",
       "479                  NaN                   NaN                  NaN   \n",
       "481                  NaN                   NaN                  NaN   \n",
       "482                   22                 100.0               156/30   \n",
       "483                   17                  66.0               120/60   \n",
       "\n",
       "    ESTUDO_TEMPERATURA_DIA_COLETA ESTUDO_SATURACAO_DIA_COLETA  ESTUDO_APACHE2  \\\n",
       "8                             NaN                         NaN             NaN   \n",
       "12                            NaN                         NaN             NaN   \n",
       "25                            NaN                         NaN             NaN   \n",
       "34                            NaN                         NaN             NaN   \n",
       "52                            NaN                         NaN             NaN   \n",
       "..                            ...                         ...             ...   \n",
       "475                           NaN                         NaN             NaN   \n",
       "479                           NaN                         NaN             NaN   \n",
       "481                           NaN                         NaN             NaN   \n",
       "482                          36,8                          93             NaN   \n",
       "483                          37,3                      76-88%             NaN   \n",
       "\n",
       "     ESTUDO_RISCO ESTUDO_TRATAMENTO ESTUDO_COMORB_PREV_TX_ORG_SOL  \\\n",
       "8             NaN               NaN                             N   \n",
       "12            NaN               NaN                             N   \n",
       "25            NaN               NaN                             N   \n",
       "34            NaN               NaN                             S   \n",
       "52            NaN               NaN                             N   \n",
       "..            ...               ...                           ...   \n",
       "475           NaN               NaN                             N   \n",
       "479           NaN               NaN                             N   \n",
       "481           NaN               NaN                             N   \n",
       "482           NaN                 D                             N   \n",
       "483           NaN                 N                             N   \n",
       "\n",
       "    ESTUDO_CONDUTA   ESTUDO_LOCAL_CONTAMINACAO  ESTUDO_LOCAL_CONTAM_UI  \\\n",
       "8                L                DESCONHECIDO                     NaN   \n",
       "12               L   UNIDADE DE INTERNACAO HSL                    15.0   \n",
       "25               L                     EXTERNO                     NaN   \n",
       "34               L   UNIDADE DE INTERNACAO HSL                    12.0   \n",
       "52               L                     EXTERNO                     NaN   \n",
       "..             ...                         ...                     ...   \n",
       "475              L  OUTRA INSTITUIÇÃO DE SAÚDE                     NaN   \n",
       "479              L                     EXTERNO                     NaN   \n",
       "481              L                     EXTERNO                     NaN   \n",
       "482              L                     EXTERNO                     NaN   \n",
       "483              L                         HSL                    14.0   \n",
       "\n",
       "    ESTUDO_DT_DESFECHO ESTUDO_COMORB_PREV_DESCON ESTUDO_COMORB_PREV_DVP  \\\n",
       "8                  NaN                         N                      N   \n",
       "12                 NaN                         N                      N   \n",
       "25                 NaN                         N                      N   \n",
       "34                 NaN                         N                      N   \n",
       "52                 NaN                         N                      N   \n",
       "..                 ...                       ...                    ...   \n",
       "475                NaN                         N                      N   \n",
       "479                NaN                         N                      N   \n",
       "481                NaN                         N                      N   \n",
       "482         17/08/2020                         N                      N   \n",
       "483         20/10/2020                         N                      N   \n",
       "\n",
       "    ESTUDO_COMORB_PREV_DEMENCIA ESTUDO_COMORB_PREV_DTC ESTUDO_COMORB_PREV_UP  \\\n",
       "8                             N                      N                     N   \n",
       "12                            N                      N                     N   \n",
       "25                            N                      N                     N   \n",
       "34                            N                      N                     N   \n",
       "52                            N                      N                     N   \n",
       "..                          ...                    ...                   ...   \n",
       "475                           N                      N                     N   \n",
       "479                           N                      N                     N   \n",
       "481                           N                      N                     N   \n",
       "482                           N                      N                     N   \n",
       "483                           N                      N                     N   \n",
       "\n",
       "    ESTUDO_COMORB_PREV_DFL ESTUDO_COMORB_PREV_DFM  \\\n",
       "8                        N                      N   \n",
       "12                       N                      N   \n",
       "25                       N                      N   \n",
       "34                       N                      N   \n",
       "52                       N                      N   \n",
       "..                     ...                    ...   \n",
       "475                      N                      N   \n",
       "479                      N                      N   \n",
       "481                      N                      N   \n",
       "482                      N                      N   \n",
       "483                      N                      N   \n",
       "\n",
       "    ESTUDO_COMORB_PREV_HEMIPLEGIA ESTUDO_COMORB_PREV_LEUCEMIA  \\\n",
       "8                               N                           S   \n",
       "12                              N                           N   \n",
       "25                              N                           N   \n",
       "34                              N                           N   \n",
       "52                              N                           N   \n",
       "..                            ...                         ...   \n",
       "475                             N                           N   \n",
       "479                             N                           N   \n",
       "481                             N                           N   \n",
       "482                             N                           N   \n",
       "483                             N                           N   \n",
       "\n",
       "    ESTUDO_COMORB_PREV_HIV ESTUDO_COMORB_PREV_TUL ESTUDO_COMORB_PREV_TUM  \\\n",
       "8                        N                      N                      N   \n",
       "12                       N                      N                      N   \n",
       "25                       N                      N                      N   \n",
       "34                       N                      N                      N   \n",
       "52                       N                      N                      N   \n",
       "..                     ...                    ...                    ...   \n",
       "475                      N                      N                      N   \n",
       "479                      N                      N                      N   \n",
       "481                      N                      N                      N   \n",
       "482                      N                      N                      N   \n",
       "483                      N                      N                      N   \n",
       "\n",
       "     DIAS_CORRIDOS STATUS_COVID.1  CD_ATENDIMENTO.1          DTHR_UTI_IN  \\\n",
       "8                0            NaN               NaN                  NaN   \n",
       "12               5            NaN               NaN                  NaN   \n",
       "25               4            NaN               NaN                  NaN   \n",
       "34              85            NaN               NaN                  NaN   \n",
       "52               1    CONFIRMADOS         1262191.0  09/04/2020 11:45:12   \n",
       "..             ...            ...               ...                  ...   \n",
       "475              9            NaN               NaN                  NaN   \n",
       "479              1            NaN               NaN                  NaN   \n",
       "481              3            NaN               NaN                  NaN   \n",
       "482              7            NaN               NaN                  NaN   \n",
       "483             72    CONFIRMADOS         1354901.0  12/10/2020 18:14:08   \n",
       "\n",
       "            DTHR_UTI_OUT  DIAS_NA_UTI  \n",
       "8                    NaN     0.000000  \n",
       "12                   NaN     0.000000  \n",
       "25                   NaN     0.000000  \n",
       "34                   NaN     0.000000  \n",
       "52   11/04/2020 12:30:00     2.031111  \n",
       "..                   ...          ...  \n",
       "475                  NaN     0.000000  \n",
       "479                  NaN     0.000000  \n",
       "481                  NaN     0.000000  \n",
       "482                  NaN     0.000000  \n",
       "483  20/10/2020 04:00:10     7.406968  \n",
       "\n",
       "[143 rows x 69 columns]"
      ]
     },
     "execution_count": 1336,
     "metadata": {},
     "output_type": "execute_result"
    }
   ],
   "source": [
    "#data = data.drop(['ESTUDO_CHARLSON'], axis=1)\n",
    "need_fill = data[data['ESTUDO_CHARLSON'].isna()]\n",
    "already_charlson = data[data['ESTUDO_CHARLSON'].notna()]\n",
    "already_charlson"
   ]
  },
  {
   "cell_type": "code",
   "execution_count": 1337,
   "id": "subtle-israeli",
   "metadata": {},
   "outputs": [
    {
     "data": {
      "text/plain": [
       "0       2.0\n",
       "1       5.0\n",
       "2       5.0\n",
       "3       2.0\n",
       "4       1.0\n",
       "       ... \n",
       "1323    4.0\n",
       "1324    3.0\n",
       "1325    0.0\n",
       "1326    3.0\n",
       "1327    2.0\n",
       "Name: ESTUDO_CHARLSON_x, Length: 1328, dtype: float64"
      ]
     },
     "execution_count": 1337,
     "metadata": {},
     "output_type": "execute_result"
    }
   ],
   "source": [
    "charlson_complete = charlson_complete.rename(columns=str.upper)\n",
    "\n",
    "final = pd.concat([already_charlson, need_fill])\n",
    "merged = pd.merge(final, charlson_complete, how='left', on='CD_PACIENTE')\n",
    "\n",
    "merged['ESTUDO_CHARLSON_x'] = merged['ESTUDO_CHARLSON_x'].fillna(merged['ESTUDO_CHARLSON_y'])\n",
    "merged['ESTUDO_CHARLSON_x']"
   ]
  },
  {
   "cell_type": "code",
   "execution_count": 1338,
   "id": "patient-dragon",
   "metadata": {},
   "outputs": [
    {
     "data": {
      "image/png": "[encoded data removed]",
      "text/plain": [
       "<Figure size 1440x720 with 1 Axes>"
      ]
     },
     "metadata": {},
     "output_type": "display_data"
    }
   ],
   "source": [
    "plt.figure(figsize=(20, 10))\n",
    "sns.histplot(merged['ESTUDO_CHARLSON_x'], kde=True)\n",
    "plt.title(\"Charlson Final\")\n",
    "plt.show()"
   ]
  },
  {
   "cell_type": "code",
   "execution_count": 1339,
   "id": "corporate-charles",
   "metadata": {},
   "outputs": [
    {
     "name": "stdout",
     "output_type": "stream",
     "text": [
      "Valores Faltantes:  0\n",
      "2.0     294\n",
      "0.0     280\n",
      "3.0     250\n",
      "4.0     226\n",
      "1.0     204\n",
      "5.0      33\n",
      "6.0      18\n",
      "7.0       8\n",
      "10.0      6\n",
      "8.0       6\n",
      "9.0       2\n",
      "11.0      1\n",
      "Name: ESTUDO_CHARLSON, dtype: int64\n",
      "ESTUDO_CHARLSON:  [2.0, 5.0, 1.0, 3.0, 6.0, 7.0, 4.0, 8.0, 9.0, 10.0, 0.0, 11.0]\n"
     ]
    },
    {
     "data": {
      "text/plain": [
       "0"
      ]
     },
     "execution_count": 1339,
     "metadata": {},
     "output_type": "execute_result"
    }
   ],
   "source": [
    "data['ESTUDO_CHARLSON'] = merged['ESTUDO_CHARLSON_x']\n",
    "resume('ESTUDO_CHARLSON', data)"
   ]
  },
  {
   "cell_type": "markdown",
   "id": "secure-database",
   "metadata": {},
   "source": [
    "#### ESTUDO_FR_DIA_COLETA"
   ]
  },
  {
   "cell_type": "code",
   "execution_count": 1340,
   "id": "thermal-permission",
   "metadata": {},
   "outputs": [
    {
     "data": {
      "text/plain": [
       "23      1\n",
       "13      1\n",
       "22      1\n",
       "20.0    1\n",
       "17      1\n",
       "26.0    1\n",
       "26      1\n",
       "18.0    1\n",
       "NC      1\n",
       "Name: ESTUDO_FR_DIA_COLETA, dtype: int64"
      ]
     },
     "execution_count": 1340,
     "metadata": {},
     "output_type": "execute_result"
    }
   ],
   "source": [
    "data['ESTUDO_FR_DIA_COLETA'].value_counts() #DROP SEM INFO NO DICIONARIO"
   ]
  },
  {
   "cell_type": "code",
   "execution_count": 1341,
   "id": "naughty-abraham",
   "metadata": {},
   "outputs": [],
   "source": [
    "data = data.drop(['ESTUDO_FR_DIA_COLETA'], axis=1)"
   ]
  },
  {
   "cell_type": "markdown",
   "id": "acceptable-telling",
   "metadata": {},
   "source": [
    "#### ESTUDO_FC_DIA_COLETA"
   ]
  },
  {
   "cell_type": "code",
   "execution_count": 1342,
   "id": "decreased-excellence",
   "metadata": {},
   "outputs": [],
   "source": [
    "data['ESTUDO_FC_DIA_COLETA'] = data['ESTUDO_FC_DIA_COLETA'].fillna('NI')"
   ]
  },
  {
   "cell_type": "code",
   "execution_count": 1343,
   "id": "hired-begin",
   "metadata": {},
   "outputs": [
    {
     "data": {
      "text/plain": [
       "NI       1319\n",
       "105.0       1\n",
       "102.0       1\n",
       "100.0       1\n",
       "96.0        1\n",
       "95.0        1\n",
       "82.0        1\n",
       "66.0        1\n",
       "64.0        1\n",
       "63.0        1\n",
       "Name: ESTUDO_FC_DIA_COLETA, dtype: int64"
      ]
     },
     "execution_count": 1343,
     "metadata": {},
     "output_type": "execute_result"
    }
   ],
   "source": [
    "data['ESTUDO_FC_DIA_COLETA'].value_counts() #DROP SEM INFO NO DICIONARIO"
   ]
  },
  {
   "cell_type": "code",
   "execution_count": 1344,
   "id": "automated-apple",
   "metadata": {},
   "outputs": [],
   "source": [
    "data = data.drop(['ESTUDO_FC_DIA_COLETA'], axis=1)"
   ]
  },
  {
   "cell_type": "markdown",
   "id": "dramatic-norman",
   "metadata": {},
   "source": [
    "#### ESTUDO_PA_DIA_COLETA"
   ]
  },
  {
   "cell_type": "code",
   "execution_count": 1345,
   "id": "resident-location",
   "metadata": {},
   "outputs": [],
   "source": [
    "data['ESTUDO_PA_DIA_COLETA'] = data['ESTUDO_PA_DIA_COLETA'].fillna('NI')"
   ]
  },
  {
   "cell_type": "code",
   "execution_count": 1346,
   "id": "serious-tours",
   "metadata": {},
   "outputs": [
    {
     "data": {
      "text/plain": [
       "NI        1319\n",
       "115/65       1\n",
       "170/90       1\n",
       "110/80       1\n",
       "109/64       1\n",
       "149/77       1\n",
       "163/72       1\n",
       "109/74       1\n",
       "120/60       1\n",
       "156/30       1\n",
       "Name: ESTUDO_PA_DIA_COLETA, dtype: int64"
      ]
     },
     "execution_count": 1346,
     "metadata": {},
     "output_type": "execute_result"
    }
   ],
   "source": [
    "data['ESTUDO_PA_DIA_COLETA'].value_counts() #DROP SEM INFO NO DICIONARIO"
   ]
  },
  {
   "cell_type": "code",
   "execution_count": 1347,
   "id": "portable-instrument",
   "metadata": {},
   "outputs": [],
   "source": [
    "data = data.drop(['ESTUDO_PA_DIA_COLETA'], axis=1)"
   ]
  },
  {
   "cell_type": "markdown",
   "id": "saved-scenario",
   "metadata": {},
   "source": [
    "#### ESTUDO_TEMPERATURA_DIA_COLETA"
   ]
  },
  {
   "cell_type": "code",
   "execution_count": 1348,
   "id": "wired-entertainment",
   "metadata": {},
   "outputs": [],
   "source": [
    "data['ESTUDO_TEMPERATURA_DIA_COLETA'] = data['ESTUDO_TEMPERATURA_DIA_COLETA'].fillna('NI')"
   ]
  },
  {
   "cell_type": "code",
   "execution_count": 1349,
   "id": "motivated-appointment",
   "metadata": {},
   "outputs": [
    {
     "data": {
      "text/plain": [
       "NI      1320\n",
       "36,4       2\n",
       "36,3       1\n",
       "37,3       1\n",
       "36.0       1\n",
       "36,9       1\n",
       "36,8       1\n",
       "37,9       1\n",
       "Name: ESTUDO_TEMPERATURA_DIA_COLETA, dtype: int64"
      ]
     },
     "execution_count": 1349,
     "metadata": {},
     "output_type": "execute_result"
    }
   ],
   "source": [
    "data['ESTUDO_TEMPERATURA_DIA_COLETA'].value_counts() #DROP SEM INFO NO DICIONARIO"
   ]
  },
  {
   "cell_type": "code",
   "execution_count": 1350,
   "id": "therapeutic-planet",
   "metadata": {},
   "outputs": [],
   "source": [
    "data = data.drop(['ESTUDO_TEMPERATURA_DIA_COLETA'], axis=1)"
   ]
  },
  {
   "cell_type": "markdown",
   "id": "passing-officer",
   "metadata": {},
   "source": [
    "#### ESTUDO_SATURACAO_DIA_COLETA"
   ]
  },
  {
   "cell_type": "code",
   "execution_count": 1351,
   "id": "fifty-runner",
   "metadata": {},
   "outputs": [],
   "source": [
    "data['ESTUDO_SATURACAO_DIA_COLETA'] = data['ESTUDO_SATURACAO_DIA_COLETA'].fillna('NI')"
   ]
  },
  {
   "cell_type": "code",
   "execution_count": 1352,
   "id": "alpine-track",
   "metadata": {},
   "outputs": [
    {
     "data": {
      "text/plain": [
       "NI        1320\n",
       "95           2\n",
       "93           1\n",
       "76-88%       1\n",
       "91           1\n",
       "92.0         1\n",
       "95.0         1\n",
       "97.0         1\n",
       "Name: ESTUDO_SATURACAO_DIA_COLETA, dtype: int64"
      ]
     },
     "execution_count": 1352,
     "metadata": {},
     "output_type": "execute_result"
    }
   ],
   "source": [
    "data['ESTUDO_SATURACAO_DIA_COLETA'].value_counts() #DROP SEM INFO NO DICIONARIO"
   ]
  },
  {
   "cell_type": "code",
   "execution_count": 1353,
   "id": "greenhouse-vegetation",
   "metadata": {},
   "outputs": [],
   "source": [
    "data = data.drop(['ESTUDO_SATURACAO_DIA_COLETA'], axis=1)"
   ]
  },
  {
   "cell_type": "markdown",
   "id": "integrated-meditation",
   "metadata": {},
   "source": [
    "#### ESTUDO_APACHE2"
   ]
  },
  {
   "cell_type": "code",
   "execution_count": 1354,
   "id": "diagnostic-examination",
   "metadata": {},
   "outputs": [],
   "source": [
    "data['ESTUDO_APACHE2'] = data['ESTUDO_APACHE2'].fillna('NI')"
   ]
  },
  {
   "cell_type": "code",
   "execution_count": 1355,
   "id": "molecular-elder",
   "metadata": {},
   "outputs": [
    {
     "data": {
      "text/plain": [
       "NI    1328\n",
       "Name: ESTUDO_APACHE2, dtype: int64"
      ]
     },
     "execution_count": 1355,
     "metadata": {},
     "output_type": "execute_result"
    }
   ],
   "source": [
    "data['ESTUDO_APACHE2'].value_counts() #DROP"
   ]
  },
  {
   "cell_type": "code",
   "execution_count": 1356,
   "id": "assumed-cosmetic",
   "metadata": {},
   "outputs": [],
   "source": [
    "data = data.drop(['ESTUDO_APACHE2'], axis=1)"
   ]
  },
  {
   "cell_type": "markdown",
   "id": "environmental-plumbing",
   "metadata": {},
   "source": [
    "#### ESTUDO_RISCO"
   ]
  },
  {
   "cell_type": "code",
   "execution_count": 1357,
   "id": "legislative-yeast",
   "metadata": {},
   "outputs": [
    {
     "data": {
      "text/plain": [
       "Series([], Name: ESTUDO_RISCO, dtype: int64)"
      ]
     },
     "execution_count": 1357,
     "metadata": {},
     "output_type": "execute_result"
    }
   ],
   "source": [
    "data['ESTUDO_RISCO'].value_counts() #DROP SEM INFO NO DICIONARIO"
   ]
  },
  {
   "cell_type": "code",
   "execution_count": 1358,
   "id": "civilian-coordination",
   "metadata": {},
   "outputs": [],
   "source": [
    "data = data.drop(['ESTUDO_RISCO'], axis=1)"
   ]
  },
  {
   "cell_type": "markdown",
   "id": "supposed-representative",
   "metadata": {},
   "source": [
    "#### ESTUDO_TRATAMENTO"
   ]
  },
  {
   "cell_type": "code",
   "execution_count": 1359,
   "id": "sapphire-adjustment",
   "metadata": {},
   "outputs": [
    {
     "data": {
      "text/plain": [
       "D    4\n",
       "N    2\n",
       "Name: ESTUDO_TRATAMENTO, dtype: int64"
      ]
     },
     "execution_count": 1359,
     "metadata": {},
     "output_type": "execute_result"
    }
   ],
   "source": [
    "data['ESTUDO_TRATAMENTO'].value_counts() #DROP SEM INFO NO DICIONARIO"
   ]
  },
  {
   "cell_type": "code",
   "execution_count": 1360,
   "id": "optimum-solution",
   "metadata": {},
   "outputs": [],
   "source": [
    "data = data.drop(['ESTUDO_TRATAMENTO'], axis=1)"
   ]
  },
  {
   "cell_type": "markdown",
   "id": "reliable-island",
   "metadata": {},
   "source": [
    "#### ESTUDO_COMORB_PREV_TX_ORG_SOL"
   ]
  },
  {
   "cell_type": "code",
   "execution_count": 1361,
   "id": "wound-stack",
   "metadata": {},
   "outputs": [
    {
     "data": {
      "text/plain": [
       "N    1315\n",
       "S       8\n",
       "Name: ESTUDO_COMORB_PREV_TX_ORG_SOL, dtype: int64"
      ]
     },
     "execution_count": 1361,
     "metadata": {},
     "output_type": "execute_result"
    }
   ],
   "source": [
    "data['ESTUDO_COMORB_PREV_TX_ORG_SOL'].value_counts() #DROP SEM INFO NO DICIONARIO"
   ]
  },
  {
   "cell_type": "code",
   "execution_count": 1362,
   "id": "injured-shuttle",
   "metadata": {},
   "outputs": [],
   "source": [
    "data = data.drop(['ESTUDO_COMORB_PREV_TX_ORG_SOL'], axis=1)"
   ]
  },
  {
   "cell_type": "markdown",
   "id": "fatty-prague",
   "metadata": {},
   "source": [
    "#### ESTUDO_CONDUTA"
   ]
  },
  {
   "cell_type": "code",
   "execution_count": 1363,
   "id": "alpine-hardware",
   "metadata": {},
   "outputs": [
    {
     "data": {
      "text/plain": [
       "L    1322\n",
       "Name: ESTUDO_CONDUTA, dtype: int64"
      ]
     },
     "execution_count": 1363,
     "metadata": {},
     "output_type": "execute_result"
    }
   ],
   "source": [
    "data['ESTUDO_CONDUTA'].value_counts() #DROP SEM INFO NO DICIONARIO"
   ]
  },
  {
   "cell_type": "code",
   "execution_count": 1364,
   "id": "engaging-cream",
   "metadata": {},
   "outputs": [],
   "source": [
    "data = data.drop(['ESTUDO_CONDUTA'], axis=1)"
   ]
  },
  {
   "cell_type": "markdown",
   "id": "western-operations",
   "metadata": {},
   "source": [
    "#### ESTUDO_LOCAL_CONTAMINACAO"
   ]
  },
  {
   "cell_type": "code",
   "execution_count": 1365,
   "id": "mediterranean-jesus",
   "metadata": {},
   "outputs": [],
   "source": [
    "data['ESTUDO_LOCAL_CONTAMINACAO'] = data['ESTUDO_LOCAL_CONTAMINACAO'].fillna('NI')"
   ]
  },
  {
   "cell_type": "code",
   "execution_count": 1366,
   "id": "hearing-plane",
   "metadata": {},
   "outputs": [
    {
     "data": {
      "text/plain": [
       "NI                                  1101\n",
       "EXTERNO                              114\n",
       "UNIDADE DE INTERNACAO HSL             86\n",
       "OUTRA INSTITUIÇÃO DE SAÚDE            10\n",
       "HSL                                    8\n",
       "DESCONHECIDO                           6\n",
       "INSTITUIÇÃO DE LONGA PERMANÊNCIA       2\n",
       "OUTRA INSTITUICAO DE SAUDE             1\n",
       "Name: ESTUDO_LOCAL_CONTAMINACAO, dtype: int64"
      ]
     },
     "execution_count": 1366,
     "metadata": {},
     "output_type": "execute_result"
    }
   ],
   "source": [
    "data['ESTUDO_LOCAL_CONTAMINACAO'].value_counts()"
   ]
  },
  {
   "cell_type": "code",
   "execution_count": 1367,
   "id": "noticed-annotation",
   "metadata": {},
   "outputs": [],
   "source": [
    "keys = data['ESTUDO_LOCAL_CONTAMINACAO'].value_counts().keys().tolist()"
   ]
  },
  {
   "cell_type": "code",
   "execution_count": 1368,
   "id": "lucky-packaging",
   "metadata": {},
   "outputs": [],
   "source": [
    "dictToReplace = __getDictToReplace(keys)"
   ]
  },
  {
   "cell_type": "code",
   "execution_count": 1369,
   "id": "reliable-coordinator",
   "metadata": {},
   "outputs": [
    {
     "data": {
      "text/plain": [
       "{'NI': 1,\n",
       " 'EXTERNO': 2,\n",
       " 'UNIDADE DE INTERNACAO HSL': 3,\n",
       " 'OUTRA INSTITUIÇÃO DE SAÚDE': 4,\n",
       " 'HSL': 5,\n",
       " 'DESCONHECIDO': 6,\n",
       " 'INSTITUIÇÃO DE LONGA PERMANÊNCIA': 7,\n",
       " 'OUTRA INSTITUICAO DE SAUDE': 8}"
      ]
     },
     "execution_count": 1369,
     "metadata": {},
     "output_type": "execute_result"
    }
   ],
   "source": [
    "dictToReplace"
   ]
  },
  {
   "cell_type": "code",
   "execution_count": 1370,
   "id": "normal-slope",
   "metadata": {},
   "outputs": [],
   "source": [
    "data['ESTUDO_LOCAL_CONTAMINACAO'] = data['ESTUDO_LOCAL_CONTAMINACAO'].replace(dictToReplace)"
   ]
  },
  {
   "cell_type": "markdown",
   "id": "legislative-sending",
   "metadata": {},
   "source": [
    "#### ESTUDO_LOCAL_CONTAM_UI"
   ]
  },
  {
   "cell_type": "code",
   "execution_count": 1371,
   "id": "impossible-infrared",
   "metadata": {},
   "outputs": [],
   "source": [
    "data['ESTUDO_LOCAL_CONTAM_UI'] = data['ESTUDO_LOCAL_CONTAM_UI'].fillna('NI')"
   ]
  },
  {
   "cell_type": "code",
   "execution_count": 1372,
   "id": "warming-adventure",
   "metadata": {},
   "outputs": [
    {
     "data": {
      "text/plain": [
       "NI      1237\n",
       "15.0      20\n",
       "13.0      16\n",
       "12.0      16\n",
       "14.0       8\n",
       "9.0        8\n",
       "8.0        7\n",
       "18.0       5\n",
       "19.0       4\n",
       "6.0        4\n",
       "17.0       1\n",
       "16.0       1\n",
       "5.0        1\n",
       "Name: ESTUDO_LOCAL_CONTAM_UI, dtype: int64"
      ]
     },
     "execution_count": 1372,
     "metadata": {},
     "output_type": "execute_result"
    }
   ],
   "source": [
    "data['ESTUDO_LOCAL_CONTAM_UI'].value_counts()"
   ]
  },
  {
   "cell_type": "code",
   "execution_count": 1373,
   "id": "stupid-duration",
   "metadata": {},
   "outputs": [],
   "source": [
    "data['ESTUDO_LOCAL_CONTAM_UI'] = data['ESTUDO_LOCAL_CONTAM_UI'].replace({'NI': 2})"
   ]
  },
  {
   "cell_type": "markdown",
   "id": "caroline-glasgow",
   "metadata": {},
   "source": [
    "#### ESTUDO_DT_DESFECHO"
   ]
  },
  {
   "cell_type": "code",
   "execution_count": 1374,
   "id": "floating-stress",
   "metadata": {},
   "outputs": [
    {
     "data": {
      "text/plain": [
       "17/08/2020    2\n",
       "22/09/2020    1\n",
       "26/08/2020    1\n",
       "15/08/2020    1\n",
       "18/11/2020    1\n",
       "01/09/2020    1\n",
       "20/10/2020    1\n",
       "23/09/2020    1\n",
       "Name: ESTUDO_DT_DESFECHO, dtype: int64"
      ]
     },
     "execution_count": 1374,
     "metadata": {},
     "output_type": "execute_result"
    }
   ],
   "source": [
    "data['ESTUDO_DT_DESFECHO'].value_counts() #DROP"
   ]
  },
  {
   "cell_type": "code",
   "execution_count": 1375,
   "id": "polished-advertiser",
   "metadata": {},
   "outputs": [],
   "source": [
    "data = data.drop(['ESTUDO_DT_DESFECHO'], axis=1)"
   ]
  },
  {
   "cell_type": "markdown",
   "id": "heavy-cheat",
   "metadata": {},
   "source": [
    "#### ESTUDO_COMORB_PREV_DESCON"
   ]
  },
  {
   "cell_type": "code",
   "execution_count": 1376,
   "id": "nearby-screen",
   "metadata": {},
   "outputs": [
    {
     "data": {
      "text/plain": [
       "N    1323\n",
       "Name: ESTUDO_COMORB_PREV_DESCON, dtype: int64"
      ]
     },
     "execution_count": 1376,
     "metadata": {},
     "output_type": "execute_result"
    }
   ],
   "source": [
    "data['ESTUDO_COMORB_PREV_DESCON'].value_counts() #DROP"
   ]
  },
  {
   "cell_type": "code",
   "execution_count": 1377,
   "id": "remarkable-agenda",
   "metadata": {},
   "outputs": [],
   "source": [
    "data = data.drop(['ESTUDO_COMORB_PREV_DESCON'], axis=1)"
   ]
  },
  {
   "cell_type": "markdown",
   "id": "comic-accommodation",
   "metadata": {},
   "source": [
    "#### ESTUDO_COMORB_PREV_DVP"
   ]
  },
  {
   "cell_type": "code",
   "execution_count": 1378,
   "id": "distributed-measurement",
   "metadata": {},
   "outputs": [
    {
     "data": {
      "text/plain": [
       "N    1320\n",
       "S       3\n",
       "Name: ESTUDO_COMORB_PREV_DVP, dtype: int64"
      ]
     },
     "execution_count": 1378,
     "metadata": {},
     "output_type": "execute_result"
    }
   ],
   "source": [
    "data['ESTUDO_COMORB_PREV_DVP'].value_counts() #DROP"
   ]
  },
  {
   "cell_type": "code",
   "execution_count": 1379,
   "id": "lucky-international",
   "metadata": {},
   "outputs": [],
   "source": [
    "data = data.drop(['ESTUDO_COMORB_PREV_DVP'], axis=1)"
   ]
  },
  {
   "cell_type": "markdown",
   "id": "polyphonic-party",
   "metadata": {},
   "source": [
    "#### ESTUDO_COMORB_PREV_DEMENCIA"
   ]
  },
  {
   "cell_type": "code",
   "execution_count": 1380,
   "id": "harmful-printer",
   "metadata": {},
   "outputs": [],
   "source": [
    "data['ESTUDO_COMORB_PREV_DEMENCIA'] = data['ESTUDO_COMORB_PREV_DEMENCIA'].fillna('NI')"
   ]
  },
  {
   "cell_type": "code",
   "execution_count": 1381,
   "id": "crude-process",
   "metadata": {},
   "outputs": [
    {
     "data": {
      "text/plain": [
       "N     1315\n",
       "S        8\n",
       "NI       5\n",
       "Name: ESTUDO_COMORB_PREV_DEMENCIA, dtype: int64"
      ]
     },
     "execution_count": 1381,
     "metadata": {},
     "output_type": "execute_result"
    }
   ],
   "source": [
    "data['ESTUDO_COMORB_PREV_DEMENCIA'].value_counts()"
   ]
  },
  {
   "cell_type": "code",
   "execution_count": 1382,
   "id": "hourly-extreme",
   "metadata": {},
   "outputs": [],
   "source": [
    "data['ESTUDO_COMORB_PREV_DEMENCIA'] = data['ESTUDO_COMORB_PREV_DEMENCIA'].replace({'S': 1, 'N': 0, 'NI': 2})"
   ]
  },
  {
   "cell_type": "markdown",
   "id": "configured-disaster",
   "metadata": {},
   "source": [
    "#### ESTUDO_COMORB_PREV_DTC"
   ]
  },
  {
   "cell_type": "code",
   "execution_count": 1383,
   "id": "understood-threshold",
   "metadata": {},
   "outputs": [
    {
     "data": {
      "text/plain": [
       "N    1323\n",
       "Name: ESTUDO_COMORB_PREV_DTC, dtype: int64"
      ]
     },
     "execution_count": 1383,
     "metadata": {},
     "output_type": "execute_result"
    }
   ],
   "source": [
    "data['ESTUDO_COMORB_PREV_DTC'].value_counts() #DROP"
   ]
  },
  {
   "cell_type": "code",
   "execution_count": 1384,
   "id": "indirect-village",
   "metadata": {},
   "outputs": [],
   "source": [
    "data = data.drop(['ESTUDO_COMORB_PREV_DTC'], axis=1)"
   ]
  },
  {
   "cell_type": "markdown",
   "id": "increasing-visitor",
   "metadata": {},
   "source": [
    "#### ESTUDO_COMORB_PREV_UP"
   ]
  },
  {
   "cell_type": "code",
   "execution_count": 1385,
   "id": "level-nature",
   "metadata": {},
   "outputs": [
    {
     "data": {
      "text/plain": [
       "N    1321\n",
       "S       2\n",
       "Name: ESTUDO_COMORB_PREV_UP, dtype: int64"
      ]
     },
     "execution_count": 1385,
     "metadata": {},
     "output_type": "execute_result"
    }
   ],
   "source": [
    "data['ESTUDO_COMORB_PREV_UP'].value_counts() #DROP SEM INFO NO DICIONARIO"
   ]
  },
  {
   "cell_type": "code",
   "execution_count": 1386,
   "id": "strategic-compact",
   "metadata": {},
   "outputs": [],
   "source": [
    "data = data.drop(['ESTUDO_COMORB_PREV_UP'], axis=1)"
   ]
  },
  {
   "cell_type": "markdown",
   "id": "german-petersburg",
   "metadata": {},
   "source": [
    "#### ESTUDO_COMORB_PREV_DFL"
   ]
  },
  {
   "cell_type": "code",
   "execution_count": 1387,
   "id": "serious-platform",
   "metadata": {},
   "outputs": [
    {
     "data": {
      "text/plain": [
       "N    1323\n",
       "Name: ESTUDO_COMORB_PREV_DFL, dtype: int64"
      ]
     },
     "execution_count": 1387,
     "metadata": {},
     "output_type": "execute_result"
    }
   ],
   "source": [
    "data['ESTUDO_COMORB_PREV_DFL'].value_counts() #DROP SEM INFO NO DICIONARIO"
   ]
  },
  {
   "cell_type": "code",
   "execution_count": 1388,
   "id": "naval-orlando",
   "metadata": {},
   "outputs": [],
   "source": [
    "data = data.drop(['ESTUDO_COMORB_PREV_DFL'], axis=1)"
   ]
  },
  {
   "cell_type": "markdown",
   "id": "downtown-bradford",
   "metadata": {},
   "source": [
    "#### ESTUDO_COMORB_PREV_DFM"
   ]
  },
  {
   "cell_type": "code",
   "execution_count": 1389,
   "id": "demonstrated-expert",
   "metadata": {},
   "outputs": [],
   "source": [
    "data['ESTUDO_COMORB_PREV_DFM'] = data['ESTUDO_COMORB_PREV_DFM'].fillna('NI')"
   ]
  },
  {
   "cell_type": "code",
   "execution_count": 1390,
   "id": "integral-decision",
   "metadata": {},
   "outputs": [
    {
     "data": {
      "text/plain": [
       "N     1317\n",
       "S        6\n",
       "NI       5\n",
       "Name: ESTUDO_COMORB_PREV_DFM, dtype: int64"
      ]
     },
     "execution_count": 1390,
     "metadata": {},
     "output_type": "execute_result"
    }
   ],
   "source": [
    "data['ESTUDO_COMORB_PREV_DFM'].value_counts()"
   ]
  },
  {
   "cell_type": "code",
   "execution_count": 1391,
   "id": "minimal-buffalo",
   "metadata": {},
   "outputs": [],
   "source": [
    "data['ESTUDO_COMORB_PREV_DFM'] = data['ESTUDO_COMORB_PREV_DFM'].replace({'S': 1, 'N': 0, 'NI': 2})"
   ]
  },
  {
   "cell_type": "markdown",
   "id": "instrumental-detective",
   "metadata": {},
   "source": [
    "#### ESTUDO_COMORB_PREV_HEMIPLEGIA"
   ]
  },
  {
   "cell_type": "code",
   "execution_count": 1392,
   "id": "collect-amazon",
   "metadata": {},
   "outputs": [
    {
     "data": {
      "text/plain": [
       "N    1323\n",
       "Name: ESTUDO_COMORB_PREV_HEMIPLEGIA, dtype: int64"
      ]
     },
     "execution_count": 1392,
     "metadata": {},
     "output_type": "execute_result"
    }
   ],
   "source": [
    "data['ESTUDO_COMORB_PREV_HEMIPLEGIA'].value_counts() #DROP"
   ]
  },
  {
   "cell_type": "code",
   "execution_count": 1393,
   "id": "racial-insulation",
   "metadata": {},
   "outputs": [],
   "source": [
    "data = data.drop(['ESTUDO_COMORB_PREV_HEMIPLEGIA'], axis=1)"
   ]
  },
  {
   "cell_type": "markdown",
   "id": "favorite-folder",
   "metadata": {},
   "source": [
    "#### ESTUDO_COMORB_PREV_LEUCEMIA',"
   ]
  },
  {
   "cell_type": "code",
   "execution_count": 1394,
   "id": "anticipated-invasion",
   "metadata": {},
   "outputs": [],
   "source": [
    "data['ESTUDO_COMORB_PREV_LEUCEMIA'] = data['ESTUDO_COMORB_PREV_LEUCEMIA'].fillna('NI')"
   ]
  },
  {
   "cell_type": "code",
   "execution_count": 1395,
   "id": "phantom-inside",
   "metadata": {},
   "outputs": [
    {
     "data": {
      "text/plain": [
       "N     1322\n",
       "NI       5\n",
       "S        1\n",
       "Name: ESTUDO_COMORB_PREV_LEUCEMIA, dtype: int64"
      ]
     },
     "execution_count": 1395,
     "metadata": {},
     "output_type": "execute_result"
    }
   ],
   "source": [
    "data['ESTUDO_COMORB_PREV_LEUCEMIA'].value_counts()"
   ]
  },
  {
   "cell_type": "code",
   "execution_count": 1396,
   "id": "greek-bibliography",
   "metadata": {},
   "outputs": [],
   "source": [
    "data['ESTUDO_COMORB_PREV_LEUCEMIA'] = data['ESTUDO_COMORB_PREV_LEUCEMIA'].replace({'S': 1, 'N': 0, 'NI': 2})"
   ]
  },
  {
   "cell_type": "markdown",
   "id": "tracked-munich",
   "metadata": {},
   "source": [
    "#### ESTUDO_COMORB_PREV_HIV"
   ]
  },
  {
   "cell_type": "code",
   "execution_count": 1397,
   "id": "interstate-hindu",
   "metadata": {},
   "outputs": [],
   "source": [
    "data['ESTUDO_COMORB_PREV_HIV'] = data['ESTUDO_COMORB_PREV_HIV'].fillna('NI')"
   ]
  },
  {
   "cell_type": "code",
   "execution_count": 1398,
   "id": "blind-zimbabwe",
   "metadata": {},
   "outputs": [
    {
     "data": {
      "text/plain": [
       "N     1320\n",
       "NI       5\n",
       "S        3\n",
       "Name: ESTUDO_COMORB_PREV_HIV, dtype: int64"
      ]
     },
     "execution_count": 1398,
     "metadata": {},
     "output_type": "execute_result"
    }
   ],
   "source": [
    "data['ESTUDO_COMORB_PREV_HIV'].value_counts()"
   ]
  },
  {
   "cell_type": "code",
   "execution_count": 1399,
   "id": "trying-tribe",
   "metadata": {},
   "outputs": [],
   "source": [
    "data['ESTUDO_COMORB_PREV_HIV'] = data['ESTUDO_COMORB_PREV_HIV'].replace({'S': 1, 'N': 0, 'NI': 2})"
   ]
  },
  {
   "cell_type": "markdown",
   "id": "educated-rogers",
   "metadata": {},
   "source": [
    "#### ESTUDO_COMORB_PREV_TUL"
   ]
  },
  {
   "cell_type": "code",
   "execution_count": 1400,
   "id": "ignored-victory",
   "metadata": {},
   "outputs": [],
   "source": [
    "data['ESTUDO_COMORB_PREV_TUL'] = data['ESTUDO_COMORB_PREV_TUL'].fillna('NI')"
   ]
  },
  {
   "cell_type": "code",
   "execution_count": 1401,
   "id": "registered-harvest",
   "metadata": {},
   "outputs": [
    {
     "data": {
      "text/plain": [
       "N     1303\n",
       "S       20\n",
       "NI       5\n",
       "Name: ESTUDO_COMORB_PREV_TUL, dtype: int64"
      ]
     },
     "execution_count": 1401,
     "metadata": {},
     "output_type": "execute_result"
    }
   ],
   "source": [
    "data['ESTUDO_COMORB_PREV_TUL'].value_counts()"
   ]
  },
  {
   "cell_type": "code",
   "execution_count": 1402,
   "id": "foster-investing",
   "metadata": {},
   "outputs": [],
   "source": [
    "data['ESTUDO_COMORB_PREV_TUL'] = data['ESTUDO_COMORB_PREV_TUL'].replace({'S': 1, 'N': 0, 'NI': 2})"
   ]
  },
  {
   "cell_type": "markdown",
   "id": "prostate-cassette",
   "metadata": {},
   "source": [
    "#### ESTUDO_COMORB_PREV_TUM"
   ]
  },
  {
   "cell_type": "code",
   "execution_count": 1403,
   "id": "senior-massachusetts",
   "metadata": {},
   "outputs": [
    {
     "data": {
      "text/plain": [
       "N    1317\n",
       "S       6\n",
       "Name: ESTUDO_COMORB_PREV_TUM, dtype: int64"
      ]
     },
     "execution_count": 1403,
     "metadata": {},
     "output_type": "execute_result"
    }
   ],
   "source": [
    "data['ESTUDO_COMORB_PREV_TUM'].value_counts() #DROP SEM INFO NO DICIONARIO"
   ]
  },
  {
   "cell_type": "code",
   "execution_count": 1404,
   "id": "frank-theater",
   "metadata": {},
   "outputs": [],
   "source": [
    "data = data.drop(['ESTUDO_COMORB_PREV_TUM'], axis=1)"
   ]
  },
  {
   "cell_type": "markdown",
   "id": "activated-cologne",
   "metadata": {},
   "source": [
    "#### STATUS_COVID.1"
   ]
  },
  {
   "cell_type": "code",
   "execution_count": 1405,
   "id": "suited-organization",
   "metadata": {},
   "outputs": [
    {
     "data": {
      "text/plain": [
       "CONFIRMADOS    489\n",
       "NEGATIVOS       26\n",
       "Name: STATUS_COVID.1, dtype: int64"
      ]
     },
     "execution_count": 1405,
     "metadata": {},
     "output_type": "execute_result"
    }
   ],
   "source": [
    "data['STATUS_COVID.1'].value_counts() #DROP"
   ]
  },
  {
   "cell_type": "code",
   "execution_count": 1406,
   "id": "collectible-sleep",
   "metadata": {},
   "outputs": [],
   "source": [
    "data = data.drop(['STATUS_COVID.1'], axis=1)"
   ]
  },
  {
   "cell_type": "markdown",
   "id": "alike-karen",
   "metadata": {},
   "source": [
    "#### CD_ATENDIMENTO.1"
   ]
  },
  {
   "cell_type": "code",
   "execution_count": 1407,
   "id": "dietary-bradford",
   "metadata": {},
   "outputs": [
    {
     "data": {
      "text/plain": [
       "1495039.0    1\n",
       "1553407.0    1\n",
       "1422582.0    1\n",
       "1474701.0    1\n",
       "1357058.0    1\n",
       "            ..\n",
       "1289054.0    1\n",
       "1415930.0    1\n",
       "1321725.0    1\n",
       "1293055.0    1\n",
       "1290241.0    1\n",
       "Name: CD_ATENDIMENTO.1, Length: 515, dtype: int64"
      ]
     },
     "execution_count": 1407,
     "metadata": {},
     "output_type": "execute_result"
    }
   ],
   "source": [
    "data['CD_ATENDIMENTO.1'].value_counts() #DROP"
   ]
  },
  {
   "cell_type": "code",
   "execution_count": 1408,
   "id": "ruled-sacramento",
   "metadata": {},
   "outputs": [],
   "source": [
    "data = data.drop(['CD_ATENDIMENTO.1'], axis=1)"
   ]
  },
  {
   "cell_type": "markdown",
   "id": "loving-wildlife",
   "metadata": {},
   "source": [
    "#### DTHR_UTI_IN"
   ]
  },
  {
   "cell_type": "code",
   "execution_count": 1409,
   "id": "virtual-speed",
   "metadata": {},
   "outputs": [
    {
     "data": {
      "text/plain": [
       "06/09/2020 15:12:25    1\n",
       "09/07/2020 18:40:03    1\n",
       "19/12/2020 13:45:45    1\n",
       "20/07/2020 17:48:06    1\n",
       "12/02/2021 15:57:21    1\n",
       "                      ..\n",
       "19/02/2021 21:52:01    1\n",
       "07/02/2021 18:23:15    1\n",
       "04/03/2021 21:03:56    1\n",
       "21/03/2021 15:38:43    1\n",
       "21/03/2021 22:48:30    1\n",
       "Name: DTHR_UTI_IN, Length: 515, dtype: int64"
      ]
     },
     "execution_count": 1409,
     "metadata": {},
     "output_type": "execute_result"
    }
   ],
   "source": [
    "data['DTHR_UTI_IN'].value_counts() #DROP"
   ]
  },
  {
   "cell_type": "code",
   "execution_count": 1410,
   "id": "cooperative-luxembourg",
   "metadata": {},
   "outputs": [],
   "source": [
    "data = data.drop(['DTHR_UTI_IN'], axis=1)"
   ]
  },
  {
   "cell_type": "markdown",
   "id": "laden-while",
   "metadata": {},
   "source": [
    "#### DTHR_UTI_OUT"
   ]
  },
  {
   "cell_type": "code",
   "execution_count": 1411,
   "id": "known-laugh",
   "metadata": {},
   "outputs": [
    {
     "data": {
      "text/plain": [
       "08/01/2021 16:03:07    1\n",
       "28/02/2021 21:40:24    1\n",
       "21/02/2021 14:28:45    1\n",
       "23/06/2020 12:33:42    1\n",
       "26/09/2020 12:57:27    1\n",
       "                      ..\n",
       "04/09/2020 18:54:30    1\n",
       "05/01/2021 21:43:26    1\n",
       "05/07/2020 00:17:42    1\n",
       "28/08/2020 18:16:14    1\n",
       "01/11/2020 22:29:43    1\n",
       "Name: DTHR_UTI_OUT, Length: 515, dtype: int64"
      ]
     },
     "execution_count": 1411,
     "metadata": {},
     "output_type": "execute_result"
    }
   ],
   "source": [
    "data['DTHR_UTI_OUT'].value_counts() #DROP"
   ]
  },
  {
   "cell_type": "code",
   "execution_count": 1412,
   "id": "expensive-template",
   "metadata": {},
   "outputs": [],
   "source": [
    "data = data.drop(['DTHR_UTI_OUT'], axis=1)"
   ]
  },
  {
   "cell_type": "markdown",
   "id": "threaded-sister",
   "metadata": {},
   "source": [
    "## Ver Features"
   ]
  },
  {
   "cell_type": "code",
   "execution_count": 1413,
   "id": "thorough-practice",
   "metadata": {},
   "outputs": [],
   "source": [
    "#showMissing(data)"
   ]
  },
  {
   "cell_type": "markdown",
   "id": "skilled-plate",
   "metadata": {},
   "source": [
    "## Checando dados faltantes"
   ]
  },
  {
   "cell_type": "code",
   "execution_count": 1414,
   "id": "commercial-footwear",
   "metadata": {},
   "outputs": [],
   "source": [
    "columns = data.columns.tolist()"
   ]
  },
  {
   "cell_type": "code",
   "execution_count": 1415,
   "id": "thorough-punch",
   "metadata": {},
   "outputs": [],
   "source": [
    "for c in columns:\n",
    "    _aux = data[c].isnull().tolist()\n",
    "    _aux = [str(v) for v in _aux]\n",
    "    if 'True' in _aux:\n",
    "        print(c)\n",
    "    _aux = []"
   ]
  },
  {
   "cell_type": "markdown",
   "id": "sitting-resident",
   "metadata": {},
   "source": [
    "## Mapa de Calor - Pearson"
   ]
  },
  {
   "cell_type": "code",
   "execution_count": 1416,
   "id": "exceptional-irrigation",
   "metadata": {},
   "outputs": [
    {
     "data": {
      "image/png": "[encoded data removed]",
      "text/plain": [
       "<Figure size 1440x1224 with 2 Axes>"
      ]
     },
     "metadata": {},
     "output_type": "display_data"
    }
   ],
   "source": [
    "sns.set(rc={'figure.figsize':(20, 17)})\n",
    "corr_matrix = data.corr(method='pearson')\n",
    "plt.subplots(figsize=(20,17))\n",
    "sns.heatmap(corr_matrix, vmax=1, square=True)\n",
    "plt.savefig('heatmap.png')\n",
    "plt.show()"
   ]
  },
  {
   "cell_type": "code",
   "execution_count": null,
   "id": "functional-niagara",
   "metadata": {},
   "outputs": [],
   "source": []
  }
 ],
 "metadata": {
  "kernelspec": {
   "display_name": "Python 3",
   "language": "python",
   "name": "python3"
  },
  "language_info": {
   "codemirror_mode": {
    "name": "ipython",
    "version": 3
   },
   "file_extension": ".py",
   "mimetype": "text/x-python",
   "name": "python",
   "nbconvert_exporter": "python",
   "pygments_lexer": "ipython3",
   "version": "3.6.13"
  }
 },
 "nbformat": 4,
 "nbformat_minor": 5
}
