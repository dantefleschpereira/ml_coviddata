{
 "cells": [
  {
   "cell_type": "markdown",
   "id": "accompanied-degree",
   "metadata": {},
   "source": [
    "# Processando dataset para os modelos de Machine Learning\n",
    "\n",
    "Esse notebook é uma continuação do notebook \"PreProcessingData.ipynb\".\n",
    "Além disso, esse notebook cria os dois datasets finais que são usados diretamente nos modelos de ML.\n",
    "Ou seja, ao final da execução desse algoritmo dois datasets estarão prontos para ser usados em modelos de ML. </ br>\n",
    "\n",
    "O principal objetivo desse notebook é transformar o dataset original em formato CATEGORICO para NUMÉRICO."
   ]
  },
  {
   "cell_type": "code",
   "execution_count": 1,
   "id": "purple-darkness",
   "metadata": {},
   "outputs": [],
   "source": [
    "import numpy as np\n",
    "import pandas as pd\n",
    "import seaborn as sns\n",
    "import matplotlib.pyplot as plt\n",
    "from sklearn.preprocessing import OrdinalEncoder\n",
    "pd.set_option('display.max_columns', None)"
   ]
  },
  {
   "cell_type": "code",
   "execution_count": 2,
   "id": "marked-agenda",
   "metadata": {},
   "outputs": [],
   "source": [
    "# df = pd.read_csv('./DataSteps/STEP_6_Final_Dataset.csv', delimiter='\\t')\n",
    "df = pd.read_csv('./data/DataSteps/STEP_6_Final_Dataset.csv', delimiter='\\t')"
   ]
  },
  {
   "cell_type": "code",
   "execution_count": 3,
   "id": "popular-jewelry",
   "metadata": {},
   "outputs": [
    {
     "data": {
      "text/html": [
       "<div>\n",
       "<style scoped>\n",
       "    .dataframe tbody tr th:only-of-type {\n",
       "        vertical-align: middle;\n",
       "    }\n",
       "\n",
       "    .dataframe tbody tr th {\n",
       "        vertical-align: top;\n",
       "    }\n",
       "\n",
       "    .dataframe thead th {\n",
       "        text-align: right;\n",
       "    }\n",
       "</style>\n",
       "<table border=\"1\" class=\"dataframe\">\n",
       "  <thead>\n",
       "    <tr style=\"text-align: right;\">\n",
       "      <th></th>\n",
       "      <th>ID</th>\n",
       "      <th>DTHR_REGISTRO</th>\n",
       "      <th>PORTA_ENTRADA</th>\n",
       "      <th>DATA_INICIO_SINTOMAS</th>\n",
       "      <th>HISTORICO_VIAGEM</th>\n",
       "      <th>PAIS_VISITADO</th>\n",
       "      <th>CIDADES_VISITADAS</th>\n",
       "      <th>DATA_RETORNO</th>\n",
       "      <th>COLETOU_AMOSTRA</th>\n",
       "      <th>LOCAL_COLETA</th>\n",
       "      <th>DATA_COLETA</th>\n",
       "      <th>PCR_INFLUENZA</th>\n",
       "      <th>IFI_OUTRO_VIRUS</th>\n",
       "      <th>PCR_COVID_19</th>\n",
       "      <th>STATUS_COVID</th>\n",
       "      <th>STATUS_COVID_ORDEM</th>\n",
       "      <th>DESFECHO</th>\n",
       "      <th>CD_ATENDIMENTO</th>\n",
       "      <th>DS_TP_ATENDIMENTO</th>\n",
       "      <th>CD_PACIENTE</th>\n",
       "      <th>GENERO</th>\n",
       "      <th>IDADE</th>\n",
       "      <th>SN_OBITO</th>\n",
       "      <th>DIAGNOSTICO_SARS</th>\n",
       "      <th>OBITO_SARS</th>\n",
       "      <th>TIPO_SAIDA</th>\n",
       "      <th>TIPO_OBITO</th>\n",
       "      <th>DTHR_ALTA</th>\n",
       "      <th>CD_CID</th>\n",
       "      <th>DS_ESPECIALID_SAI</th>\n",
       "      <th>REINTER_30D</th>\n",
       "      <th>CARATER_ATENDIMENTO</th>\n",
       "      <th>EMERG_SERVICO</th>\n",
       "      <th>EMERG_RISCO</th>\n",
       "      <th>CID_DIAG_ATEND</th>\n",
       "      <th>CID_CAPITULO_DIAG</th>\n",
       "      <th>BLOCO_CENTRAL_ST</th>\n",
       "      <th>HEMODINAMICA_ST</th>\n",
       "      <th>EX_LAB_ST</th>\n",
       "      <th>EX_IMG_ST</th>\n",
       "      <th>EX_OUTROS_ST</th>\n",
       "      <th>CD_PACIENTE_FROM_ESTUDO</th>\n",
       "      <th>COMPETENCIA</th>\n",
       "      <th>PORTA_ENTRADA_FROM_ESTUDO</th>\n",
       "      <th>DATA_INICIO_SINTOMAS_FROM_ESTUDO</th>\n",
       "      <th>HISTORICO_VIAGEM_FROM_ESTUDO</th>\n",
       "      <th>CIDADES_VISITADAS_FROM_ESTUDO</th>\n",
       "      <th>LOCAL_COLETA_FROM_ESTUDO</th>\n",
       "      <th>DATA_COLETA_FROM_ESTUDO</th>\n",
       "      <th>PCR_COVID_19_FROM_ESTUDO</th>\n",
       "      <th>DESFECHO_FROM_ESTUDO</th>\n",
       "      <th>TIPO_REGISTRO</th>\n",
       "      <th>SN_IFI_OV_SINCICIAL_RESP</th>\n",
       "      <th>SN_IFI_OV_PARAINFLU3</th>\n",
       "      <th>SN_IFI_OV_PARAINFLU2</th>\n",
       "      <th>SN_IFI_OV_PARAINFLU1</th>\n",
       "      <th>SN_IFI_OV_INFLUA</th>\n",
       "      <th>SN_IFI_OV_INFLUB</th>\n",
       "      <th>SN_IFI_OV_ADENOVIRUS</th>\n",
       "      <th>SN_CRIT_CONTATO_CASO_COVID</th>\n",
       "      <th>SN_CRIT_CONTATO_CASO_SUSPEITO</th>\n",
       "      <th>SN_CRIT_PROF_SAUDE_HOSPITAL</th>\n",
       "      <th>SN_CRIT_PROF_SAUDE_OUT</th>\n",
       "      <th>SN_CRIT_SRAG</th>\n",
       "      <th>SN_CRIT_SINDROME_GRIPAL</th>\n",
       "      <th>SN_CRIT_IGNORADO</th>\n",
       "      <th>SN_CRIT_OUTROS</th>\n",
       "      <th>SN_CRIT_PROT_COVID19</th>\n",
       "      <th>ESTUDO_TP_EXPOSICAO</th>\n",
       "      <th>ESTUDO_COMORB_PREV_HAS</th>\n",
       "      <th>ESTUDO_COMORB_PREV_IAM</th>\n",
       "      <th>ESTUDO_COMORB_PREV_IC</th>\n",
       "      <th>ESTUDO_COMORB_PREV_DRC</th>\n",
       "      <th>ESTUDO_COMORB_PREV_DMI</th>\n",
       "      <th>ESTUDO_COMORB_PREV_DMII</th>\n",
       "      <th>ESTUDO_COMORB_PREV_CARCINOMA</th>\n",
       "      <th>ESTUDO_COMORB_PREV_ADENOMA</th>\n",
       "      <th>ESTUDO_COMORB_PREV_LINFOMA</th>\n",
       "      <th>ESTUDO_COMORB_PREV_AVC</th>\n",
       "      <th>ESTUDO_COMORB_PREV_ASMA</th>\n",
       "      <th>ESTUDO_COMORB_PREV_DPOC</th>\n",
       "      <th>ESTUDO_COMORB_PREV_OBESIDADE</th>\n",
       "      <th>ESTUDO_COMORB_PREV_EPILEPSIA</th>\n",
       "      <th>ESTUDO_COMORB_PREV_HIGIDO</th>\n",
       "      <th>ESTUDO_COMORB_PREV_OUTRAS</th>\n",
       "      <th>ESTUDO_CHARLSON</th>\n",
       "      <th>ESTUDO_FR_DIA_COLETA</th>\n",
       "      <th>ESTUDO_FC_DIA_COLETA</th>\n",
       "      <th>ESTUDO_PA_DIA_COLETA</th>\n",
       "      <th>ESTUDO_TEMPERATURA_DIA_COLETA</th>\n",
       "      <th>ESTUDO_SATURACAO_DIA_COLETA</th>\n",
       "      <th>ESTUDO_APACHE2</th>\n",
       "      <th>ESTUDO_RISCO</th>\n",
       "      <th>ESTUDO_TRATAMENTO</th>\n",
       "      <th>ESTUDO_COMORB_PREV_TX_ORG_SOL</th>\n",
       "      <th>ESTUDO_CONDUTA</th>\n",
       "      <th>ESTUDO_LOCAL_CONTAMINACAO</th>\n",
       "      <th>ESTUDO_LOCAL_CONTAM_UI</th>\n",
       "      <th>ESTUDO_DT_DESFECHO</th>\n",
       "      <th>ESTUDO_COMORB_PREV_DESCON</th>\n",
       "      <th>ESTUDO_COMORB_PREV_DVP</th>\n",
       "      <th>ESTUDO_COMORB_PREV_DEMENCIA</th>\n",
       "      <th>ESTUDO_COMORB_PREV_DTC</th>\n",
       "      <th>ESTUDO_COMORB_PREV_UP</th>\n",
       "      <th>ESTUDO_COMORB_PREV_DFL</th>\n",
       "      <th>ESTUDO_COMORB_PREV_DFM</th>\n",
       "      <th>ESTUDO_COMORB_PREV_HEMIPLEGIA</th>\n",
       "      <th>ESTUDO_COMORB_PREV_LEUCEMIA</th>\n",
       "      <th>ESTUDO_COMORB_PREV_HIV</th>\n",
       "      <th>ESTUDO_COMORB_PREV_TUL</th>\n",
       "      <th>ESTUDO_COMORB_PREV_TUM</th>\n",
       "      <th>DIAS_CORRIDOS</th>\n",
       "      <th>STATUS_COVID.1</th>\n",
       "      <th>CD_ATENDIMENTO.1</th>\n",
       "      <th>CD_PACIENTE_FROM_UTI</th>\n",
       "      <th>CD_LEITO</th>\n",
       "      <th>CD_UNIDADE</th>\n",
       "      <th>DS_UNIDADE</th>\n",
       "      <th>DT_ENTRADA</th>\n",
       "      <th>HR_ENTRADA</th>\n",
       "      <th>DT_SAIDA</th>\n",
       "      <th>HR_SAIDA</th>\n",
       "      <th>DTHR_UTI_IN</th>\n",
       "      <th>DTHR_UTI_OUT</th>\n",
       "      <th>SEGUNDOS_NA_UTI</th>\n",
       "      <th>DIAS_NA_UTI</th>\n",
       "    </tr>\n",
       "  </thead>\n",
       "  <tbody>\n",
       "    <tr>\n",
       "      <th>0</th>\n",
       "      <td>25958</td>\n",
       "      <td>07/03/2021 17:29:00</td>\n",
       "      <td>NaN</td>\n",
       "      <td>NaN</td>\n",
       "      <td>NaN</td>\n",
       "      <td>NaN</td>\n",
       "      <td>NaN</td>\n",
       "      <td>NaN</td>\n",
       "      <td>SIM</td>\n",
       "      <td>PRONTOPUC ADULTO/INTE</td>\n",
       "      <td>07/03/2021 17:33:56</td>\n",
       "      <td>NaN</td>\n",
       "      <td>NaN</td>\n",
       "      <td>POSITIVO</td>\n",
       "      <td>CONFIRMADOS</td>\n",
       "      <td>1</td>\n",
       "      <td>NÃO INFORMADO</td>\n",
       "      <td>1584431.0</td>\n",
       "      <td>INTERNADO</td>\n",
       "      <td>1597032.0</td>\n",
       "      <td>MASCULINO</td>\n",
       "      <td>60,8381278538813</td>\n",
       "      <td>N</td>\n",
       "      <td>NÃO</td>\n",
       "      <td>NÃO</td>\n",
       "      <td>ALTA</td>\n",
       "      <td>NaN</td>\n",
       "      <td>12/03/2021 16:13:56</td>\n",
       "      <td>I64</td>\n",
       "      <td>NEUROLOGIA</td>\n",
       "      <td>NÃO</td>\n",
       "      <td>ELETIVO</td>\n",
       "      <td>NÃO INFORMADO</td>\n",
       "      <td>NÃO INFORMADO</td>\n",
       "      <td>I64</td>\n",
       "      <td>Aparelho circulatório</td>\n",
       "      <td>NÃO</td>\n",
       "      <td>NÃO</td>\n",
       "      <td>SIM</td>\n",
       "      <td>SIM</td>\n",
       "      <td>SIM</td>\n",
       "      <td>1597032.0</td>\n",
       "      <td>07/03/2021</td>\n",
       "      <td>NaN</td>\n",
       "      <td>NaN</td>\n",
       "      <td>NaN</td>\n",
       "      <td>NaN</td>\n",
       "      <td>PRONTOPUC ADULTO/INTE</td>\n",
       "      <td>07/03/2021 17:33:56</td>\n",
       "      <td>POSITIVO</td>\n",
       "      <td>INTERNAÇÃO</td>\n",
       "      <td>A</td>\n",
       "      <td>N</td>\n",
       "      <td>N</td>\n",
       "      <td>N</td>\n",
       "      <td>N</td>\n",
       "      <td>N</td>\n",
       "      <td>N</td>\n",
       "      <td>N</td>\n",
       "      <td>N</td>\n",
       "      <td>N</td>\n",
       "      <td>NaN</td>\n",
       "      <td>N</td>\n",
       "      <td>N</td>\n",
       "      <td>N</td>\n",
       "      <td>N</td>\n",
       "      <td>N</td>\n",
       "      <td>N</td>\n",
       "      <td>NaN</td>\n",
       "      <td>N</td>\n",
       "      <td>N</td>\n",
       "      <td>N</td>\n",
       "      <td>N</td>\n",
       "      <td>N</td>\n",
       "      <td>N</td>\n",
       "      <td>N</td>\n",
       "      <td>N</td>\n",
       "      <td>N</td>\n",
       "      <td>N</td>\n",
       "      <td>N</td>\n",
       "      <td>N</td>\n",
       "      <td>N</td>\n",
       "      <td>N</td>\n",
       "      <td>N</td>\n",
       "      <td>NaN</td>\n",
       "      <td>NaN</td>\n",
       "      <td>NaN</td>\n",
       "      <td>NaN</td>\n",
       "      <td>NaN</td>\n",
       "      <td>NaN</td>\n",
       "      <td>NaN</td>\n",
       "      <td>NaN</td>\n",
       "      <td>NaN</td>\n",
       "      <td>NaN</td>\n",
       "      <td>N</td>\n",
       "      <td>L</td>\n",
       "      <td>NaN</td>\n",
       "      <td>NaN</td>\n",
       "      <td>NaN</td>\n",
       "      <td>N</td>\n",
       "      <td>N</td>\n",
       "      <td>N</td>\n",
       "      <td>N</td>\n",
       "      <td>N</td>\n",
       "      <td>N</td>\n",
       "      <td>N</td>\n",
       "      <td>N</td>\n",
       "      <td>N</td>\n",
       "      <td>N</td>\n",
       "      <td>N</td>\n",
       "      <td>N</td>\n",
       "      <td>5</td>\n",
       "      <td>NaN</td>\n",
       "      <td>NaN</td>\n",
       "      <td>NaN</td>\n",
       "      <td>NaN</td>\n",
       "      <td>NaN</td>\n",
       "      <td>NaN</td>\n",
       "      <td>NaN</td>\n",
       "      <td>NaN</td>\n",
       "      <td>NaN</td>\n",
       "      <td>NaN</td>\n",
       "      <td>NaN</td>\n",
       "      <td>NaN</td>\n",
       "      <td>0.0</td>\n",
       "      <td>0.000000</td>\n",
       "    </tr>\n",
       "    <tr>\n",
       "      <th>1</th>\n",
       "      <td>25917</td>\n",
       "      <td>06/03/2021 08:22:00</td>\n",
       "      <td>NaN</td>\n",
       "      <td>NaN</td>\n",
       "      <td>NaN</td>\n",
       "      <td>NaN</td>\n",
       "      <td>NaN</td>\n",
       "      <td>NaN</td>\n",
       "      <td>SIM</td>\n",
       "      <td>PRONTOPUC ADULTO/INTE</td>\n",
       "      <td>06/03/2021 09:11:54</td>\n",
       "      <td>NaN</td>\n",
       "      <td>NaN</td>\n",
       "      <td>POSITIVO</td>\n",
       "      <td>CONFIRMADOS</td>\n",
       "      <td>1</td>\n",
       "      <td>NÃO INFORMADO</td>\n",
       "      <td>1584037.0</td>\n",
       "      <td>INTERNADO</td>\n",
       "      <td>1651281.0</td>\n",
       "      <td>FEMININO</td>\n",
       "      <td>74,1093607305936</td>\n",
       "      <td>S</td>\n",
       "      <td>SIM</td>\n",
       "      <td>SIM</td>\n",
       "      <td>ÓBITO</td>\n",
       "      <td>NaN</td>\n",
       "      <td>19/03/2021 11:33:20</td>\n",
       "      <td>B342</td>\n",
       "      <td>CLINICA MEDICA</td>\n",
       "      <td>NÃO</td>\n",
       "      <td>URGÊNCIA</td>\n",
       "      <td>PRONTOSUS</td>\n",
       "      <td>LARANJA</td>\n",
       "      <td>B342</td>\n",
       "      <td>Infecciosas e parasitárias</td>\n",
       "      <td>NÃO</td>\n",
       "      <td>NÃO</td>\n",
       "      <td>SIM</td>\n",
       "      <td>SIM</td>\n",
       "      <td>NÃO</td>\n",
       "      <td>1651281.0</td>\n",
       "      <td>06/03/2021</td>\n",
       "      <td>NaN</td>\n",
       "      <td>NaN</td>\n",
       "      <td>NaN</td>\n",
       "      <td>NaN</td>\n",
       "      <td>PRONTOPUC ADULTO/INTE</td>\n",
       "      <td>06/03/2021 09:11:54</td>\n",
       "      <td>POSITIVO</td>\n",
       "      <td>INTERNAÇÃO</td>\n",
       "      <td>A</td>\n",
       "      <td>N</td>\n",
       "      <td>N</td>\n",
       "      <td>N</td>\n",
       "      <td>N</td>\n",
       "      <td>N</td>\n",
       "      <td>N</td>\n",
       "      <td>N</td>\n",
       "      <td>N</td>\n",
       "      <td>N</td>\n",
       "      <td>NaN</td>\n",
       "      <td>N</td>\n",
       "      <td>N</td>\n",
       "      <td>N</td>\n",
       "      <td>N</td>\n",
       "      <td>N</td>\n",
       "      <td>N</td>\n",
       "      <td>NaN</td>\n",
       "      <td>N</td>\n",
       "      <td>N</td>\n",
       "      <td>N</td>\n",
       "      <td>N</td>\n",
       "      <td>N</td>\n",
       "      <td>N</td>\n",
       "      <td>N</td>\n",
       "      <td>N</td>\n",
       "      <td>N</td>\n",
       "      <td>N</td>\n",
       "      <td>N</td>\n",
       "      <td>N</td>\n",
       "      <td>N</td>\n",
       "      <td>N</td>\n",
       "      <td>N</td>\n",
       "      <td>NaN</td>\n",
       "      <td>NaN</td>\n",
       "      <td>NaN</td>\n",
       "      <td>NaN</td>\n",
       "      <td>NaN</td>\n",
       "      <td>NaN</td>\n",
       "      <td>NaN</td>\n",
       "      <td>NaN</td>\n",
       "      <td>NaN</td>\n",
       "      <td>NaN</td>\n",
       "      <td>N</td>\n",
       "      <td>L</td>\n",
       "      <td>NaN</td>\n",
       "      <td>NaN</td>\n",
       "      <td>NaN</td>\n",
       "      <td>N</td>\n",
       "      <td>N</td>\n",
       "      <td>N</td>\n",
       "      <td>N</td>\n",
       "      <td>N</td>\n",
       "      <td>N</td>\n",
       "      <td>N</td>\n",
       "      <td>N</td>\n",
       "      <td>N</td>\n",
       "      <td>N</td>\n",
       "      <td>N</td>\n",
       "      <td>N</td>\n",
       "      <td>13</td>\n",
       "      <td>CONFIRMADOS</td>\n",
       "      <td>1584037.0</td>\n",
       "      <td>1651281.0</td>\n",
       "      <td>1674.0</td>\n",
       "      <td>6.0</td>\n",
       "      <td>UTI</td>\n",
       "      <td>12/03/2021</td>\n",
       "      <td>15:56:05</td>\n",
       "      <td>19/03/2021</td>\n",
       "      <td>11:33:20</td>\n",
       "      <td>12/03/2021 15:56:05</td>\n",
       "      <td>19/03/2021 11:33:20</td>\n",
       "      <td>589035.0</td>\n",
       "      <td>6.817535</td>\n",
       "    </tr>\n",
       "    <tr>\n",
       "      <th>2</th>\n",
       "      <td>26270</td>\n",
       "      <td>12/03/2021 17:44:00</td>\n",
       "      <td>NaN</td>\n",
       "      <td>NaN</td>\n",
       "      <td>NaN</td>\n",
       "      <td>NaN</td>\n",
       "      <td>NaN</td>\n",
       "      <td>NaN</td>\n",
       "      <td>SIM</td>\n",
       "      <td>PRONTOPUC ADULTO</td>\n",
       "      <td>12/03/2021 17:47:00</td>\n",
       "      <td>NaN</td>\n",
       "      <td>NaN</td>\n",
       "      <td>POSITIVO</td>\n",
       "      <td>CONFIRMADOS</td>\n",
       "      <td>1</td>\n",
       "      <td>NÃO INFORMADO</td>\n",
       "      <td>1591014.0</td>\n",
       "      <td>INTERNADO</td>\n",
       "      <td>1688648.0</td>\n",
       "      <td>FEMININO</td>\n",
       "      <td>72,4682648401826</td>\n",
       "      <td>N</td>\n",
       "      <td>NÃO</td>\n",
       "      <td>NÃO</td>\n",
       "      <td>ALTA</td>\n",
       "      <td>NaN</td>\n",
       "      <td>27/03/2021 10:55:29</td>\n",
       "      <td>F430</td>\n",
       "      <td>PNEUMOLOGIA</td>\n",
       "      <td>SIM</td>\n",
       "      <td>URGÊNCIA</td>\n",
       "      <td>PRONTOPUC</td>\n",
       "      <td>LARANJA</td>\n",
       "      <td>F430</td>\n",
       "      <td>Transtornos mentais e comportamentais</td>\n",
       "      <td>NÃO</td>\n",
       "      <td>NÃO</td>\n",
       "      <td>SIM</td>\n",
       "      <td>SIM</td>\n",
       "      <td>NÃO</td>\n",
       "      <td>1688648.0</td>\n",
       "      <td>18/02/2021</td>\n",
       "      <td>NaN</td>\n",
       "      <td>NaN</td>\n",
       "      <td>NaN</td>\n",
       "      <td>NaN</td>\n",
       "      <td>PRONTOPUC ADULTO/INTE</td>\n",
       "      <td>18/02/2021 13:48:11</td>\n",
       "      <td>POSITIVO</td>\n",
       "      <td>INTERNAÇÃO</td>\n",
       "      <td>A</td>\n",
       "      <td>N</td>\n",
       "      <td>N</td>\n",
       "      <td>N</td>\n",
       "      <td>N</td>\n",
       "      <td>N</td>\n",
       "      <td>N</td>\n",
       "      <td>N</td>\n",
       "      <td>N</td>\n",
       "      <td>N</td>\n",
       "      <td>NaN</td>\n",
       "      <td>N</td>\n",
       "      <td>N</td>\n",
       "      <td>N</td>\n",
       "      <td>N</td>\n",
       "      <td>N</td>\n",
       "      <td>N</td>\n",
       "      <td>NaN</td>\n",
       "      <td>N</td>\n",
       "      <td>N</td>\n",
       "      <td>N</td>\n",
       "      <td>N</td>\n",
       "      <td>N</td>\n",
       "      <td>N</td>\n",
       "      <td>N</td>\n",
       "      <td>N</td>\n",
       "      <td>N</td>\n",
       "      <td>N</td>\n",
       "      <td>N</td>\n",
       "      <td>N</td>\n",
       "      <td>N</td>\n",
       "      <td>N</td>\n",
       "      <td>N</td>\n",
       "      <td>NaN</td>\n",
       "      <td>NaN</td>\n",
       "      <td>NaN</td>\n",
       "      <td>NaN</td>\n",
       "      <td>NaN</td>\n",
       "      <td>NaN</td>\n",
       "      <td>NaN</td>\n",
       "      <td>NaN</td>\n",
       "      <td>NaN</td>\n",
       "      <td>NaN</td>\n",
       "      <td>N</td>\n",
       "      <td>L</td>\n",
       "      <td>NaN</td>\n",
       "      <td>NaN</td>\n",
       "      <td>NaN</td>\n",
       "      <td>N</td>\n",
       "      <td>N</td>\n",
       "      <td>N</td>\n",
       "      <td>N</td>\n",
       "      <td>N</td>\n",
       "      <td>N</td>\n",
       "      <td>N</td>\n",
       "      <td>N</td>\n",
       "      <td>N</td>\n",
       "      <td>N</td>\n",
       "      <td>N</td>\n",
       "      <td>N</td>\n",
       "      <td>15</td>\n",
       "      <td>NaN</td>\n",
       "      <td>NaN</td>\n",
       "      <td>NaN</td>\n",
       "      <td>NaN</td>\n",
       "      <td>NaN</td>\n",
       "      <td>NaN</td>\n",
       "      <td>NaN</td>\n",
       "      <td>NaN</td>\n",
       "      <td>NaN</td>\n",
       "      <td>NaN</td>\n",
       "      <td>NaN</td>\n",
       "      <td>NaN</td>\n",
       "      <td>0.0</td>\n",
       "      <td>0.000000</td>\n",
       "    </tr>\n",
       "    <tr>\n",
       "      <th>3</th>\n",
       "      <td>26734</td>\n",
       "      <td>24/03/2021 00:33:00</td>\n",
       "      <td>NaN</td>\n",
       "      <td>NaN</td>\n",
       "      <td>NaN</td>\n",
       "      <td>NaN</td>\n",
       "      <td>NaN</td>\n",
       "      <td>NaN</td>\n",
       "      <td>SIM</td>\n",
       "      <td>PRONTOPUC ADULTO/INTE</td>\n",
       "      <td>24/03/2021 01:37:07</td>\n",
       "      <td>NaN</td>\n",
       "      <td>NaN</td>\n",
       "      <td>POSITIVO</td>\n",
       "      <td>CONFIRMADOS</td>\n",
       "      <td>1</td>\n",
       "      <td>NÃO INFORMADO</td>\n",
       "      <td>1600335.0</td>\n",
       "      <td>INTERNADO</td>\n",
       "      <td>1725344.0</td>\n",
       "      <td>MASCULINO</td>\n",
       "      <td>37,9942922374429</td>\n",
       "      <td>N</td>\n",
       "      <td>SIM</td>\n",
       "      <td>NÃO</td>\n",
       "      <td>ALTA</td>\n",
       "      <td>NaN</td>\n",
       "      <td>29/03/2021 19:30:02</td>\n",
       "      <td>B342</td>\n",
       "      <td>CLINICA MEDICA</td>\n",
       "      <td>NÃO</td>\n",
       "      <td>ELETIVO</td>\n",
       "      <td>NÃO INFORMADO</td>\n",
       "      <td>NÃO INFORMADO</td>\n",
       "      <td>B342</td>\n",
       "      <td>Infecciosas e parasitárias</td>\n",
       "      <td>NÃO</td>\n",
       "      <td>NÃO</td>\n",
       "      <td>SIM</td>\n",
       "      <td>SIM</td>\n",
       "      <td>NÃO</td>\n",
       "      <td>1725344.0</td>\n",
       "      <td>24/03/2021</td>\n",
       "      <td>NaN</td>\n",
       "      <td>NaN</td>\n",
       "      <td>NaN</td>\n",
       "      <td>NaN</td>\n",
       "      <td>PRONTOPUC ADULTO/INTE</td>\n",
       "      <td>24/03/2021 01:37:07</td>\n",
       "      <td>POSITIVO</td>\n",
       "      <td>INTERNAÇÃO</td>\n",
       "      <td>A</td>\n",
       "      <td>N</td>\n",
       "      <td>N</td>\n",
       "      <td>N</td>\n",
       "      <td>N</td>\n",
       "      <td>N</td>\n",
       "      <td>N</td>\n",
       "      <td>N</td>\n",
       "      <td>N</td>\n",
       "      <td>N</td>\n",
       "      <td>NaN</td>\n",
       "      <td>N</td>\n",
       "      <td>N</td>\n",
       "      <td>N</td>\n",
       "      <td>N</td>\n",
       "      <td>N</td>\n",
       "      <td>N</td>\n",
       "      <td>NaN</td>\n",
       "      <td>N</td>\n",
       "      <td>N</td>\n",
       "      <td>N</td>\n",
       "      <td>N</td>\n",
       "      <td>N</td>\n",
       "      <td>N</td>\n",
       "      <td>N</td>\n",
       "      <td>N</td>\n",
       "      <td>N</td>\n",
       "      <td>N</td>\n",
       "      <td>N</td>\n",
       "      <td>N</td>\n",
       "      <td>N</td>\n",
       "      <td>N</td>\n",
       "      <td>N</td>\n",
       "      <td>NaN</td>\n",
       "      <td>NaN</td>\n",
       "      <td>NaN</td>\n",
       "      <td>NaN</td>\n",
       "      <td>NaN</td>\n",
       "      <td>NaN</td>\n",
       "      <td>NaN</td>\n",
       "      <td>NaN</td>\n",
       "      <td>NaN</td>\n",
       "      <td>NaN</td>\n",
       "      <td>N</td>\n",
       "      <td>L</td>\n",
       "      <td>NaN</td>\n",
       "      <td>NaN</td>\n",
       "      <td>NaN</td>\n",
       "      <td>N</td>\n",
       "      <td>N</td>\n",
       "      <td>N</td>\n",
       "      <td>N</td>\n",
       "      <td>N</td>\n",
       "      <td>N</td>\n",
       "      <td>N</td>\n",
       "      <td>N</td>\n",
       "      <td>N</td>\n",
       "      <td>N</td>\n",
       "      <td>N</td>\n",
       "      <td>N</td>\n",
       "      <td>5</td>\n",
       "      <td>NaN</td>\n",
       "      <td>NaN</td>\n",
       "      <td>NaN</td>\n",
       "      <td>NaN</td>\n",
       "      <td>NaN</td>\n",
       "      <td>NaN</td>\n",
       "      <td>NaN</td>\n",
       "      <td>NaN</td>\n",
       "      <td>NaN</td>\n",
       "      <td>NaN</td>\n",
       "      <td>NaN</td>\n",
       "      <td>NaN</td>\n",
       "      <td>0.0</td>\n",
       "      <td>0.000000</td>\n",
       "    </tr>\n",
       "    <tr>\n",
       "      <th>4</th>\n",
       "      <td>26473</td>\n",
       "      <td>17/03/2021 13:34:00</td>\n",
       "      <td>NaN</td>\n",
       "      <td>NaN</td>\n",
       "      <td>NaN</td>\n",
       "      <td>NaN</td>\n",
       "      <td>NaN</td>\n",
       "      <td>NaN</td>\n",
       "      <td>SIM</td>\n",
       "      <td>PRONTOPUC ADULTO/INTE</td>\n",
       "      <td>17/03/2021 16:44:24</td>\n",
       "      <td>NaN</td>\n",
       "      <td>NaN</td>\n",
       "      <td>POSITIVO</td>\n",
       "      <td>CONFIRMADOS</td>\n",
       "      <td>1</td>\n",
       "      <td>NÃO INFORMADO</td>\n",
       "      <td>1593987.0</td>\n",
       "      <td>INTERNADO</td>\n",
       "      <td>1766519.0</td>\n",
       "      <td>MASCULINO</td>\n",
       "      <td>46,2655251141553</td>\n",
       "      <td>S</td>\n",
       "      <td>NÃO</td>\n",
       "      <td>NÃO</td>\n",
       "      <td>ÓBITO</td>\n",
       "      <td>NaN</td>\n",
       "      <td>21/03/2021 14:19:15</td>\n",
       "      <td>J180</td>\n",
       "      <td>PNEUMOLOGIA</td>\n",
       "      <td>NÃO</td>\n",
       "      <td>URGÊNCIA</td>\n",
       "      <td>PRONTOPUC</td>\n",
       "      <td>LARANJA</td>\n",
       "      <td>U071</td>\n",
       "      <td>Códigos para propósitos especiais</td>\n",
       "      <td>NÃO</td>\n",
       "      <td>NÃO</td>\n",
       "      <td>SIM</td>\n",
       "      <td>SIM</td>\n",
       "      <td>NÃO</td>\n",
       "      <td>1766519.0</td>\n",
       "      <td>17/03/2021</td>\n",
       "      <td>NaN</td>\n",
       "      <td>NaN</td>\n",
       "      <td>NaN</td>\n",
       "      <td>NaN</td>\n",
       "      <td>PRONTOPUC ADULTO/INTE</td>\n",
       "      <td>17/03/2021 16:44:24</td>\n",
       "      <td>POSITIVO</td>\n",
       "      <td>INTERNAÇÃO</td>\n",
       "      <td>A</td>\n",
       "      <td>N</td>\n",
       "      <td>N</td>\n",
       "      <td>N</td>\n",
       "      <td>N</td>\n",
       "      <td>N</td>\n",
       "      <td>N</td>\n",
       "      <td>N</td>\n",
       "      <td>N</td>\n",
       "      <td>N</td>\n",
       "      <td>NaN</td>\n",
       "      <td>N</td>\n",
       "      <td>N</td>\n",
       "      <td>N</td>\n",
       "      <td>N</td>\n",
       "      <td>N</td>\n",
       "      <td>N</td>\n",
       "      <td>NaN</td>\n",
       "      <td>N</td>\n",
       "      <td>N</td>\n",
       "      <td>N</td>\n",
       "      <td>N</td>\n",
       "      <td>N</td>\n",
       "      <td>N</td>\n",
       "      <td>N</td>\n",
       "      <td>N</td>\n",
       "      <td>N</td>\n",
       "      <td>N</td>\n",
       "      <td>N</td>\n",
       "      <td>N</td>\n",
       "      <td>N</td>\n",
       "      <td>N</td>\n",
       "      <td>N</td>\n",
       "      <td>NaN</td>\n",
       "      <td>NaN</td>\n",
       "      <td>NaN</td>\n",
       "      <td>NaN</td>\n",
       "      <td>NaN</td>\n",
       "      <td>NaN</td>\n",
       "      <td>NaN</td>\n",
       "      <td>NaN</td>\n",
       "      <td>NaN</td>\n",
       "      <td>NaN</td>\n",
       "      <td>N</td>\n",
       "      <td>L</td>\n",
       "      <td>NaN</td>\n",
       "      <td>NaN</td>\n",
       "      <td>NaN</td>\n",
       "      <td>N</td>\n",
       "      <td>N</td>\n",
       "      <td>N</td>\n",
       "      <td>N</td>\n",
       "      <td>N</td>\n",
       "      <td>N</td>\n",
       "      <td>N</td>\n",
       "      <td>N</td>\n",
       "      <td>N</td>\n",
       "      <td>N</td>\n",
       "      <td>N</td>\n",
       "      <td>N</td>\n",
       "      <td>4</td>\n",
       "      <td>CONFIRMADOS</td>\n",
       "      <td>1593987.0</td>\n",
       "      <td>1766519.0</td>\n",
       "      <td>1601.0</td>\n",
       "      <td>7.0</td>\n",
       "      <td>UTI</td>\n",
       "      <td>18/03/2021</td>\n",
       "      <td>21:52:23</td>\n",
       "      <td>21/03/2021</td>\n",
       "      <td>14:19:15</td>\n",
       "      <td>18/03/2021 21:52:23</td>\n",
       "      <td>21/03/2021 14:19:15</td>\n",
       "      <td>232012.0</td>\n",
       "      <td>2.685324</td>\n",
       "    </tr>\n",
       "    <tr>\n",
       "      <th>...</th>\n",
       "      <td>...</td>\n",
       "      <td>...</td>\n",
       "      <td>...</td>\n",
       "      <td>...</td>\n",
       "      <td>...</td>\n",
       "      <td>...</td>\n",
       "      <td>...</td>\n",
       "      <td>...</td>\n",
       "      <td>...</td>\n",
       "      <td>...</td>\n",
       "      <td>...</td>\n",
       "      <td>...</td>\n",
       "      <td>...</td>\n",
       "      <td>...</td>\n",
       "      <td>...</td>\n",
       "      <td>...</td>\n",
       "      <td>...</td>\n",
       "      <td>...</td>\n",
       "      <td>...</td>\n",
       "      <td>...</td>\n",
       "      <td>...</td>\n",
       "      <td>...</td>\n",
       "      <td>...</td>\n",
       "      <td>...</td>\n",
       "      <td>...</td>\n",
       "      <td>...</td>\n",
       "      <td>...</td>\n",
       "      <td>...</td>\n",
       "      <td>...</td>\n",
       "      <td>...</td>\n",
       "      <td>...</td>\n",
       "      <td>...</td>\n",
       "      <td>...</td>\n",
       "      <td>...</td>\n",
       "      <td>...</td>\n",
       "      <td>...</td>\n",
       "      <td>...</td>\n",
       "      <td>...</td>\n",
       "      <td>...</td>\n",
       "      <td>...</td>\n",
       "      <td>...</td>\n",
       "      <td>...</td>\n",
       "      <td>...</td>\n",
       "      <td>...</td>\n",
       "      <td>...</td>\n",
       "      <td>...</td>\n",
       "      <td>...</td>\n",
       "      <td>...</td>\n",
       "      <td>...</td>\n",
       "      <td>...</td>\n",
       "      <td>...</td>\n",
       "      <td>...</td>\n",
       "      <td>...</td>\n",
       "      <td>...</td>\n",
       "      <td>...</td>\n",
       "      <td>...</td>\n",
       "      <td>...</td>\n",
       "      <td>...</td>\n",
       "      <td>...</td>\n",
       "      <td>...</td>\n",
       "      <td>...</td>\n",
       "      <td>...</td>\n",
       "      <td>...</td>\n",
       "      <td>...</td>\n",
       "      <td>...</td>\n",
       "      <td>...</td>\n",
       "      <td>...</td>\n",
       "      <td>...</td>\n",
       "      <td>...</td>\n",
       "      <td>...</td>\n",
       "      <td>...</td>\n",
       "      <td>...</td>\n",
       "      <td>...</td>\n",
       "      <td>...</td>\n",
       "      <td>...</td>\n",
       "      <td>...</td>\n",
       "      <td>...</td>\n",
       "      <td>...</td>\n",
       "      <td>...</td>\n",
       "      <td>...</td>\n",
       "      <td>...</td>\n",
       "      <td>...</td>\n",
       "      <td>...</td>\n",
       "      <td>...</td>\n",
       "      <td>...</td>\n",
       "      <td>...</td>\n",
       "      <td>...</td>\n",
       "      <td>...</td>\n",
       "      <td>...</td>\n",
       "      <td>...</td>\n",
       "      <td>...</td>\n",
       "      <td>...</td>\n",
       "      <td>...</td>\n",
       "      <td>...</td>\n",
       "      <td>...</td>\n",
       "      <td>...</td>\n",
       "      <td>...</td>\n",
       "      <td>...</td>\n",
       "      <td>...</td>\n",
       "      <td>...</td>\n",
       "      <td>...</td>\n",
       "      <td>...</td>\n",
       "      <td>...</td>\n",
       "      <td>...</td>\n",
       "      <td>...</td>\n",
       "      <td>...</td>\n",
       "      <td>...</td>\n",
       "      <td>...</td>\n",
       "      <td>...</td>\n",
       "      <td>...</td>\n",
       "      <td>...</td>\n",
       "      <td>...</td>\n",
       "      <td>...</td>\n",
       "      <td>...</td>\n",
       "      <td>...</td>\n",
       "      <td>...</td>\n",
       "      <td>...</td>\n",
       "      <td>...</td>\n",
       "      <td>...</td>\n",
       "      <td>...</td>\n",
       "      <td>...</td>\n",
       "      <td>...</td>\n",
       "      <td>...</td>\n",
       "      <td>...</td>\n",
       "      <td>...</td>\n",
       "      <td>...</td>\n",
       "    </tr>\n",
       "    <tr>\n",
       "      <th>1323</th>\n",
       "      <td>25936</td>\n",
       "      <td>05/03/2021 20:28:00</td>\n",
       "      <td>NaN</td>\n",
       "      <td>NaN</td>\n",
       "      <td>NaN</td>\n",
       "      <td>NaN</td>\n",
       "      <td>NaN</td>\n",
       "      <td>NaN</td>\n",
       "      <td>SIM</td>\n",
       "      <td>8 S - INTERNACAO</td>\n",
       "      <td>05/03/2021 22:43:16</td>\n",
       "      <td>NaN</td>\n",
       "      <td>NaN</td>\n",
       "      <td>POSITIVO</td>\n",
       "      <td>CONFIRMADOS</td>\n",
       "      <td>1</td>\n",
       "      <td>NÃO INFORMADO</td>\n",
       "      <td>1577130.0</td>\n",
       "      <td>INTERNADO</td>\n",
       "      <td>2387683.0</td>\n",
       "      <td>FEMININO</td>\n",
       "      <td>86,0737442922374</td>\n",
       "      <td>N</td>\n",
       "      <td>NÃO</td>\n",
       "      <td>NÃO</td>\n",
       "      <td>ALTA</td>\n",
       "      <td>NaN</td>\n",
       "      <td>14/03/2021 14:54:20</td>\n",
       "      <td>B349</td>\n",
       "      <td>INFECTOLOGIA</td>\n",
       "      <td>NÃO</td>\n",
       "      <td>URGÊNCIA</td>\n",
       "      <td>PRONTOPUC</td>\n",
       "      <td>AMARELO</td>\n",
       "      <td>B349</td>\n",
       "      <td>Infecciosas e parasitárias</td>\n",
       "      <td>NÃO</td>\n",
       "      <td>NÃO</td>\n",
       "      <td>SIM</td>\n",
       "      <td>SIM</td>\n",
       "      <td>NÃO</td>\n",
       "      <td>2387683.0</td>\n",
       "      <td>05/03/2021</td>\n",
       "      <td>NaN</td>\n",
       "      <td>NaN</td>\n",
       "      <td>NaN</td>\n",
       "      <td>NaN</td>\n",
       "      <td>8 S - INTERNACAO</td>\n",
       "      <td>05/03/2021 22:43:16</td>\n",
       "      <td>POSITIVO</td>\n",
       "      <td>INTERNAÇÃO</td>\n",
       "      <td>A</td>\n",
       "      <td>N</td>\n",
       "      <td>N</td>\n",
       "      <td>N</td>\n",
       "      <td>N</td>\n",
       "      <td>N</td>\n",
       "      <td>N</td>\n",
       "      <td>N</td>\n",
       "      <td>N</td>\n",
       "      <td>N</td>\n",
       "      <td>NaN</td>\n",
       "      <td>N</td>\n",
       "      <td>N</td>\n",
       "      <td>N</td>\n",
       "      <td>N</td>\n",
       "      <td>N</td>\n",
       "      <td>N</td>\n",
       "      <td>NaN</td>\n",
       "      <td>N</td>\n",
       "      <td>N</td>\n",
       "      <td>N</td>\n",
       "      <td>N</td>\n",
       "      <td>N</td>\n",
       "      <td>N</td>\n",
       "      <td>N</td>\n",
       "      <td>N</td>\n",
       "      <td>N</td>\n",
       "      <td>N</td>\n",
       "      <td>N</td>\n",
       "      <td>N</td>\n",
       "      <td>N</td>\n",
       "      <td>N</td>\n",
       "      <td>N</td>\n",
       "      <td>NaN</td>\n",
       "      <td>NaN</td>\n",
       "      <td>NaN</td>\n",
       "      <td>NaN</td>\n",
       "      <td>NaN</td>\n",
       "      <td>NaN</td>\n",
       "      <td>NaN</td>\n",
       "      <td>NaN</td>\n",
       "      <td>NaN</td>\n",
       "      <td>NaN</td>\n",
       "      <td>N</td>\n",
       "      <td>L</td>\n",
       "      <td>NaN</td>\n",
       "      <td>NaN</td>\n",
       "      <td>NaN</td>\n",
       "      <td>N</td>\n",
       "      <td>N</td>\n",
       "      <td>N</td>\n",
       "      <td>N</td>\n",
       "      <td>N</td>\n",
       "      <td>N</td>\n",
       "      <td>N</td>\n",
       "      <td>N</td>\n",
       "      <td>N</td>\n",
       "      <td>N</td>\n",
       "      <td>N</td>\n",
       "      <td>N</td>\n",
       "      <td>9</td>\n",
       "      <td>NaN</td>\n",
       "      <td>NaN</td>\n",
       "      <td>NaN</td>\n",
       "      <td>NaN</td>\n",
       "      <td>NaN</td>\n",
       "      <td>NaN</td>\n",
       "      <td>NaN</td>\n",
       "      <td>NaN</td>\n",
       "      <td>NaN</td>\n",
       "      <td>NaN</td>\n",
       "      <td>NaN</td>\n",
       "      <td>NaN</td>\n",
       "      <td>0.0</td>\n",
       "      <td>0.000000</td>\n",
       "    </tr>\n",
       "    <tr>\n",
       "      <th>1324</th>\n",
       "      <td>26428</td>\n",
       "      <td>16/03/2021 05:12:00</td>\n",
       "      <td>NaN</td>\n",
       "      <td>NaN</td>\n",
       "      <td>NaN</td>\n",
       "      <td>NaN</td>\n",
       "      <td>NaN</td>\n",
       "      <td>NaN</td>\n",
       "      <td>SIM</td>\n",
       "      <td>PRONTOPUC ADULTO/INTE</td>\n",
       "      <td>16/03/2021 15:19:50</td>\n",
       "      <td>NaN</td>\n",
       "      <td>NaN</td>\n",
       "      <td>POSITIVO</td>\n",
       "      <td>CONFIRMADOS</td>\n",
       "      <td>1</td>\n",
       "      <td>NÃO INFORMADO</td>\n",
       "      <td>1592679.0</td>\n",
       "      <td>INTERNADO</td>\n",
       "      <td>2234420.0</td>\n",
       "      <td>MASCULINO</td>\n",
       "      <td>78,2518264840183</td>\n",
       "      <td>S</td>\n",
       "      <td>SIM</td>\n",
       "      <td>SIM</td>\n",
       "      <td>ÓBITO</td>\n",
       "      <td>NaN</td>\n",
       "      <td>23/03/2021 23:28:09</td>\n",
       "      <td>B342</td>\n",
       "      <td>CLINICA MEDICA</td>\n",
       "      <td>NÃO</td>\n",
       "      <td>URGÊNCIA</td>\n",
       "      <td>PRONTOPUC</td>\n",
       "      <td>AMARELO</td>\n",
       "      <td>J960</td>\n",
       "      <td>Aparelho respiratório</td>\n",
       "      <td>NÃO</td>\n",
       "      <td>NÃO</td>\n",
       "      <td>SIM</td>\n",
       "      <td>SIM</td>\n",
       "      <td>NÃO</td>\n",
       "      <td>2234420.0</td>\n",
       "      <td>16/03/2021</td>\n",
       "      <td>NaN</td>\n",
       "      <td>NaN</td>\n",
       "      <td>NaN</td>\n",
       "      <td>NaN</td>\n",
       "      <td>PRONTOPUC ADULTO/INTE</td>\n",
       "      <td>16/03/2021 15:19:50</td>\n",
       "      <td>POSITIVO</td>\n",
       "      <td>INTERNAÇÃO</td>\n",
       "      <td>A</td>\n",
       "      <td>N</td>\n",
       "      <td>N</td>\n",
       "      <td>N</td>\n",
       "      <td>N</td>\n",
       "      <td>N</td>\n",
       "      <td>N</td>\n",
       "      <td>N</td>\n",
       "      <td>N</td>\n",
       "      <td>N</td>\n",
       "      <td>NaN</td>\n",
       "      <td>N</td>\n",
       "      <td>N</td>\n",
       "      <td>N</td>\n",
       "      <td>N</td>\n",
       "      <td>N</td>\n",
       "      <td>N</td>\n",
       "      <td>NaN</td>\n",
       "      <td>N</td>\n",
       "      <td>N</td>\n",
       "      <td>N</td>\n",
       "      <td>N</td>\n",
       "      <td>N</td>\n",
       "      <td>N</td>\n",
       "      <td>N</td>\n",
       "      <td>N</td>\n",
       "      <td>N</td>\n",
       "      <td>N</td>\n",
       "      <td>N</td>\n",
       "      <td>N</td>\n",
       "      <td>N</td>\n",
       "      <td>N</td>\n",
       "      <td>N</td>\n",
       "      <td>NaN</td>\n",
       "      <td>NaN</td>\n",
       "      <td>NaN</td>\n",
       "      <td>NaN</td>\n",
       "      <td>NaN</td>\n",
       "      <td>NaN</td>\n",
       "      <td>NaN</td>\n",
       "      <td>NaN</td>\n",
       "      <td>NaN</td>\n",
       "      <td>NaN</td>\n",
       "      <td>N</td>\n",
       "      <td>L</td>\n",
       "      <td>NaN</td>\n",
       "      <td>NaN</td>\n",
       "      <td>NaN</td>\n",
       "      <td>N</td>\n",
       "      <td>N</td>\n",
       "      <td>N</td>\n",
       "      <td>N</td>\n",
       "      <td>N</td>\n",
       "      <td>N</td>\n",
       "      <td>N</td>\n",
       "      <td>N</td>\n",
       "      <td>N</td>\n",
       "      <td>N</td>\n",
       "      <td>N</td>\n",
       "      <td>N</td>\n",
       "      <td>7</td>\n",
       "      <td>NaN</td>\n",
       "      <td>NaN</td>\n",
       "      <td>NaN</td>\n",
       "      <td>NaN</td>\n",
       "      <td>NaN</td>\n",
       "      <td>NaN</td>\n",
       "      <td>NaN</td>\n",
       "      <td>NaN</td>\n",
       "      <td>NaN</td>\n",
       "      <td>NaN</td>\n",
       "      <td>NaN</td>\n",
       "      <td>NaN</td>\n",
       "      <td>0.0</td>\n",
       "      <td>0.000000</td>\n",
       "    </tr>\n",
       "    <tr>\n",
       "      <th>1325</th>\n",
       "      <td>26448</td>\n",
       "      <td>16/03/2021 13:37:32</td>\n",
       "      <td>NaN</td>\n",
       "      <td>NaN</td>\n",
       "      <td>NaN</td>\n",
       "      <td>NaN</td>\n",
       "      <td>NaN</td>\n",
       "      <td>NaN</td>\n",
       "      <td>SIM</td>\n",
       "      <td>PRONTOPUC ADULTO/INTE</td>\n",
       "      <td>16/03/2021 15:28:14</td>\n",
       "      <td>NaN</td>\n",
       "      <td>NaN</td>\n",
       "      <td>POSITIVO</td>\n",
       "      <td>CONFIRMADOS</td>\n",
       "      <td>1</td>\n",
       "      <td>NÃO INFORMADO</td>\n",
       "      <td>1593536.0</td>\n",
       "      <td>INTERNADO</td>\n",
       "      <td>1936797.0</td>\n",
       "      <td>MASCULINO</td>\n",
       "      <td>32,3285388127854</td>\n",
       "      <td>N</td>\n",
       "      <td>NÃO</td>\n",
       "      <td>NÃO</td>\n",
       "      <td>ALTA</td>\n",
       "      <td>NaN</td>\n",
       "      <td>18/03/2021 10:44:30</td>\n",
       "      <td>K359</td>\n",
       "      <td>CIRURGIA GERAL</td>\n",
       "      <td>NÃO</td>\n",
       "      <td>URGÊNCIA</td>\n",
       "      <td>PRONTOPUC</td>\n",
       "      <td>LARANJA</td>\n",
       "      <td>K359</td>\n",
       "      <td>Aparelho digestivo</td>\n",
       "      <td>SIM</td>\n",
       "      <td>NÃO</td>\n",
       "      <td>SIM</td>\n",
       "      <td>NÃO</td>\n",
       "      <td>SIM</td>\n",
       "      <td>1936797.0</td>\n",
       "      <td>16/03/2021</td>\n",
       "      <td>NaN</td>\n",
       "      <td>NaN</td>\n",
       "      <td>NaN</td>\n",
       "      <td>NaN</td>\n",
       "      <td>PRONTOPUC ADULTO/INTE</td>\n",
       "      <td>16/03/2021 15:28:14</td>\n",
       "      <td>POSITIVO</td>\n",
       "      <td>INTERNAÇÃO</td>\n",
       "      <td>A</td>\n",
       "      <td>N</td>\n",
       "      <td>N</td>\n",
       "      <td>N</td>\n",
       "      <td>N</td>\n",
       "      <td>N</td>\n",
       "      <td>N</td>\n",
       "      <td>N</td>\n",
       "      <td>N</td>\n",
       "      <td>N</td>\n",
       "      <td>NaN</td>\n",
       "      <td>N</td>\n",
       "      <td>N</td>\n",
       "      <td>N</td>\n",
       "      <td>N</td>\n",
       "      <td>N</td>\n",
       "      <td>N</td>\n",
       "      <td>NaN</td>\n",
       "      <td>N</td>\n",
       "      <td>N</td>\n",
       "      <td>N</td>\n",
       "      <td>N</td>\n",
       "      <td>N</td>\n",
       "      <td>N</td>\n",
       "      <td>N</td>\n",
       "      <td>N</td>\n",
       "      <td>N</td>\n",
       "      <td>N</td>\n",
       "      <td>N</td>\n",
       "      <td>N</td>\n",
       "      <td>N</td>\n",
       "      <td>N</td>\n",
       "      <td>N</td>\n",
       "      <td>NaN</td>\n",
       "      <td>NaN</td>\n",
       "      <td>NaN</td>\n",
       "      <td>NaN</td>\n",
       "      <td>NaN</td>\n",
       "      <td>NaN</td>\n",
       "      <td>NaN</td>\n",
       "      <td>NaN</td>\n",
       "      <td>NaN</td>\n",
       "      <td>NaN</td>\n",
       "      <td>N</td>\n",
       "      <td>L</td>\n",
       "      <td>NaN</td>\n",
       "      <td>NaN</td>\n",
       "      <td>NaN</td>\n",
       "      <td>N</td>\n",
       "      <td>N</td>\n",
       "      <td>N</td>\n",
       "      <td>N</td>\n",
       "      <td>N</td>\n",
       "      <td>N</td>\n",
       "      <td>N</td>\n",
       "      <td>N</td>\n",
       "      <td>N</td>\n",
       "      <td>N</td>\n",
       "      <td>N</td>\n",
       "      <td>N</td>\n",
       "      <td>2</td>\n",
       "      <td>NaN</td>\n",
       "      <td>NaN</td>\n",
       "      <td>NaN</td>\n",
       "      <td>NaN</td>\n",
       "      <td>NaN</td>\n",
       "      <td>NaN</td>\n",
       "      <td>NaN</td>\n",
       "      <td>NaN</td>\n",
       "      <td>NaN</td>\n",
       "      <td>NaN</td>\n",
       "      <td>NaN</td>\n",
       "      <td>NaN</td>\n",
       "      <td>0.0</td>\n",
       "      <td>0.000000</td>\n",
       "    </tr>\n",
       "    <tr>\n",
       "      <th>1326</th>\n",
       "      <td>25643</td>\n",
       "      <td>02/03/2021 08:33:00</td>\n",
       "      <td>NaN</td>\n",
       "      <td>NaN</td>\n",
       "      <td>NaN</td>\n",
       "      <td>NaN</td>\n",
       "      <td>NaN</td>\n",
       "      <td>NaN</td>\n",
       "      <td>SIM</td>\n",
       "      <td>UTI POS OPERATORIO CIRURGIA CARDIACA</td>\n",
       "      <td>02/03/2021 09:43:13</td>\n",
       "      <td>NaN</td>\n",
       "      <td>NaN</td>\n",
       "      <td>POSITIVO</td>\n",
       "      <td>CONFIRMADOS</td>\n",
       "      <td>1</td>\n",
       "      <td>NÃO INFORMADO</td>\n",
       "      <td>1567762.0</td>\n",
       "      <td>INTERNADO</td>\n",
       "      <td>2385774.0</td>\n",
       "      <td>FEMININO</td>\n",
       "      <td>73,2518264840183</td>\n",
       "      <td>S</td>\n",
       "      <td>NÃO</td>\n",
       "      <td>NÃO</td>\n",
       "      <td>ÓBITO</td>\n",
       "      <td>NaN</td>\n",
       "      <td>09/03/2021 09:16:57</td>\n",
       "      <td>R579</td>\n",
       "      <td>CARDIOLOGIA</td>\n",
       "      <td>NÃO</td>\n",
       "      <td>ELETIVO</td>\n",
       "      <td>NÃO INFORMADO</td>\n",
       "      <td>NÃO INFORMADO</td>\n",
       "      <td>R579</td>\n",
       "      <td>Sintomas, sinais e achados anormais de exames ...</td>\n",
       "      <td>SIM</td>\n",
       "      <td>NÃO</td>\n",
       "      <td>SIM</td>\n",
       "      <td>SIM</td>\n",
       "      <td>SIM</td>\n",
       "      <td>2385774.0</td>\n",
       "      <td>02/03/2021</td>\n",
       "      <td>NaN</td>\n",
       "      <td>NaN</td>\n",
       "      <td>NaN</td>\n",
       "      <td>NaN</td>\n",
       "      <td>UTI POS OPERATORIO CIRURGIA CARDIACA</td>\n",
       "      <td>02/03/2021 09:43:13</td>\n",
       "      <td>POSITIVO</td>\n",
       "      <td>INTERNAÇÃO</td>\n",
       "      <td>A</td>\n",
       "      <td>N</td>\n",
       "      <td>N</td>\n",
       "      <td>N</td>\n",
       "      <td>N</td>\n",
       "      <td>N</td>\n",
       "      <td>N</td>\n",
       "      <td>N</td>\n",
       "      <td>N</td>\n",
       "      <td>N</td>\n",
       "      <td>NaN</td>\n",
       "      <td>N</td>\n",
       "      <td>N</td>\n",
       "      <td>N</td>\n",
       "      <td>N</td>\n",
       "      <td>N</td>\n",
       "      <td>N</td>\n",
       "      <td>HOSPITALAR HSL</td>\n",
       "      <td>N</td>\n",
       "      <td>N</td>\n",
       "      <td>N</td>\n",
       "      <td>N</td>\n",
       "      <td>N</td>\n",
       "      <td>N</td>\n",
       "      <td>N</td>\n",
       "      <td>N</td>\n",
       "      <td>N</td>\n",
       "      <td>N</td>\n",
       "      <td>N</td>\n",
       "      <td>N</td>\n",
       "      <td>N</td>\n",
       "      <td>N</td>\n",
       "      <td>N</td>\n",
       "      <td>NaN</td>\n",
       "      <td>NaN</td>\n",
       "      <td>NaN</td>\n",
       "      <td>NaN</td>\n",
       "      <td>NaN</td>\n",
       "      <td>NaN</td>\n",
       "      <td>NaN</td>\n",
       "      <td>NaN</td>\n",
       "      <td>NaN</td>\n",
       "      <td>NaN</td>\n",
       "      <td>N</td>\n",
       "      <td>L</td>\n",
       "      <td>NaN</td>\n",
       "      <td>NaN</td>\n",
       "      <td>NaN</td>\n",
       "      <td>N</td>\n",
       "      <td>N</td>\n",
       "      <td>N</td>\n",
       "      <td>N</td>\n",
       "      <td>N</td>\n",
       "      <td>N</td>\n",
       "      <td>N</td>\n",
       "      <td>N</td>\n",
       "      <td>N</td>\n",
       "      <td>N</td>\n",
       "      <td>N</td>\n",
       "      <td>N</td>\n",
       "      <td>7</td>\n",
       "      <td>CONFIRMADOS</td>\n",
       "      <td>1567762.0</td>\n",
       "      <td>2385774.0</td>\n",
       "      <td>1609.0</td>\n",
       "      <td>7.0</td>\n",
       "      <td>UTI</td>\n",
       "      <td>02/03/2021</td>\n",
       "      <td>20:51:49</td>\n",
       "      <td>09/03/2021</td>\n",
       "      <td>09:16:57</td>\n",
       "      <td>02/03/2021 20:51:49</td>\n",
       "      <td>09/03/2021 09:16:57</td>\n",
       "      <td>563108.0</td>\n",
       "      <td>6.517454</td>\n",
       "    </tr>\n",
       "    <tr>\n",
       "      <th>1327</th>\n",
       "      <td>26292</td>\n",
       "      <td>13/03/2021 12:40:00</td>\n",
       "      <td>NaN</td>\n",
       "      <td>NaN</td>\n",
       "      <td>NaN</td>\n",
       "      <td>NaN</td>\n",
       "      <td>NaN</td>\n",
       "      <td>NaN</td>\n",
       "      <td>SIM</td>\n",
       "      <td>UTI POS OPERATORIO CIRURGIA CARDIACA</td>\n",
       "      <td>13/03/2021 12:42:59</td>\n",
       "      <td>NaN</td>\n",
       "      <td>NaN</td>\n",
       "      <td>POSITIVO</td>\n",
       "      <td>CONFIRMADOS</td>\n",
       "      <td>1</td>\n",
       "      <td>NÃO INFORMADO</td>\n",
       "      <td>1576495.0</td>\n",
       "      <td>INTERNADO</td>\n",
       "      <td>2387419.0</td>\n",
       "      <td>FEMININO</td>\n",
       "      <td>66,2436073059361</td>\n",
       "      <td>S</td>\n",
       "      <td>NÃO</td>\n",
       "      <td>NÃO</td>\n",
       "      <td>ÓBITO</td>\n",
       "      <td>NaN</td>\n",
       "      <td>15/03/2021 12:26:45</td>\n",
       "      <td>B349</td>\n",
       "      <td>CLINICA MEDICA</td>\n",
       "      <td>NÃO</td>\n",
       "      <td>URGÊNCIA</td>\n",
       "      <td>PRONTOSUS</td>\n",
       "      <td>VERMELHO</td>\n",
       "      <td>A419</td>\n",
       "      <td>Infecciosas e parasitárias</td>\n",
       "      <td>NÃO</td>\n",
       "      <td>NÃO</td>\n",
       "      <td>SIM</td>\n",
       "      <td>SIM</td>\n",
       "      <td>NÃO</td>\n",
       "      <td>2387419.0</td>\n",
       "      <td>13/03/2021</td>\n",
       "      <td>NaN</td>\n",
       "      <td>NaN</td>\n",
       "      <td>NaN</td>\n",
       "      <td>NaN</td>\n",
       "      <td>UTI POS OPERATORIO CIRURGIA CARDIACA</td>\n",
       "      <td>13/03/2021 12:42:59</td>\n",
       "      <td>POSITIVO</td>\n",
       "      <td>INTERNAÇÃO</td>\n",
       "      <td>A</td>\n",
       "      <td>N</td>\n",
       "      <td>N</td>\n",
       "      <td>N</td>\n",
       "      <td>N</td>\n",
       "      <td>N</td>\n",
       "      <td>N</td>\n",
       "      <td>N</td>\n",
       "      <td>N</td>\n",
       "      <td>N</td>\n",
       "      <td>NaN</td>\n",
       "      <td>N</td>\n",
       "      <td>N</td>\n",
       "      <td>N</td>\n",
       "      <td>N</td>\n",
       "      <td>N</td>\n",
       "      <td>N</td>\n",
       "      <td>HOSPITALAR HSL</td>\n",
       "      <td>N</td>\n",
       "      <td>N</td>\n",
       "      <td>N</td>\n",
       "      <td>N</td>\n",
       "      <td>N</td>\n",
       "      <td>N</td>\n",
       "      <td>N</td>\n",
       "      <td>N</td>\n",
       "      <td>N</td>\n",
       "      <td>N</td>\n",
       "      <td>N</td>\n",
       "      <td>N</td>\n",
       "      <td>N</td>\n",
       "      <td>N</td>\n",
       "      <td>N</td>\n",
       "      <td>NaN</td>\n",
       "      <td>NaN</td>\n",
       "      <td>NaN</td>\n",
       "      <td>NaN</td>\n",
       "      <td>NaN</td>\n",
       "      <td>NaN</td>\n",
       "      <td>NaN</td>\n",
       "      <td>NaN</td>\n",
       "      <td>NaN</td>\n",
       "      <td>NaN</td>\n",
       "      <td>N</td>\n",
       "      <td>L</td>\n",
       "      <td>NaN</td>\n",
       "      <td>NaN</td>\n",
       "      <td>NaN</td>\n",
       "      <td>N</td>\n",
       "      <td>N</td>\n",
       "      <td>N</td>\n",
       "      <td>N</td>\n",
       "      <td>N</td>\n",
       "      <td>N</td>\n",
       "      <td>N</td>\n",
       "      <td>N</td>\n",
       "      <td>N</td>\n",
       "      <td>N</td>\n",
       "      <td>N</td>\n",
       "      <td>N</td>\n",
       "      <td>2</td>\n",
       "      <td>CONFIRMADOS</td>\n",
       "      <td>1576495.0</td>\n",
       "      <td>2387419.0</td>\n",
       "      <td>1673.0</td>\n",
       "      <td>6.0</td>\n",
       "      <td>UTI</td>\n",
       "      <td>12/03/2021</td>\n",
       "      <td>02:03:59</td>\n",
       "      <td>15/03/2021</td>\n",
       "      <td>12:26:45</td>\n",
       "      <td>12/03/2021 02:03:59</td>\n",
       "      <td>15/03/2021 12:26:45</td>\n",
       "      <td>296566.0</td>\n",
       "      <td>3.432477</td>\n",
       "    </tr>\n",
       "  </tbody>\n",
       "</table>\n",
       "<p>1328 rows × 126 columns</p>\n",
       "</div>"
      ],
      "text/plain": [
       "         ID        DTHR_REGISTRO PORTA_ENTRADA DATA_INICIO_SINTOMAS  \\\n",
       "0     25958  07/03/2021 17:29:00           NaN                  NaN   \n",
       "1     25917  06/03/2021 08:22:00           NaN                  NaN   \n",
       "2     26270  12/03/2021 17:44:00           NaN                  NaN   \n",
       "3     26734  24/03/2021 00:33:00           NaN                  NaN   \n",
       "4     26473  17/03/2021 13:34:00           NaN                  NaN   \n",
       "...     ...                  ...           ...                  ...   \n",
       "1323  25936  05/03/2021 20:28:00           NaN                  NaN   \n",
       "1324  26428  16/03/2021 05:12:00           NaN                  NaN   \n",
       "1325  26448  16/03/2021 13:37:32           NaN                  NaN   \n",
       "1326  25643  02/03/2021 08:33:00           NaN                  NaN   \n",
       "1327  26292  13/03/2021 12:40:00           NaN                  NaN   \n",
       "\n",
       "     HISTORICO_VIAGEM  PAIS_VISITADO  CIDADES_VISITADAS  DATA_RETORNO  \\\n",
       "0                 NaN            NaN                NaN           NaN   \n",
       "1                 NaN            NaN                NaN           NaN   \n",
       "2                 NaN            NaN                NaN           NaN   \n",
       "3                 NaN            NaN                NaN           NaN   \n",
       "4                 NaN            NaN                NaN           NaN   \n",
       "...               ...            ...                ...           ...   \n",
       "1323              NaN            NaN                NaN           NaN   \n",
       "1324              NaN            NaN                NaN           NaN   \n",
       "1325              NaN            NaN                NaN           NaN   \n",
       "1326              NaN            NaN                NaN           NaN   \n",
       "1327              NaN            NaN                NaN           NaN   \n",
       "\n",
       "     COLETOU_AMOSTRA                          LOCAL_COLETA  \\\n",
       "0                SIM                 PRONTOPUC ADULTO/INTE   \n",
       "1                SIM                 PRONTOPUC ADULTO/INTE   \n",
       "2                SIM                      PRONTOPUC ADULTO   \n",
       "3                SIM                 PRONTOPUC ADULTO/INTE   \n",
       "4                SIM                 PRONTOPUC ADULTO/INTE   \n",
       "...              ...                                   ...   \n",
       "1323             SIM                      8 S - INTERNACAO   \n",
       "1324             SIM                 PRONTOPUC ADULTO/INTE   \n",
       "1325             SIM                 PRONTOPUC ADULTO/INTE   \n",
       "1326             SIM  UTI POS OPERATORIO CIRURGIA CARDIACA   \n",
       "1327             SIM  UTI POS OPERATORIO CIRURGIA CARDIACA   \n",
       "\n",
       "              DATA_COLETA PCR_INFLUENZA IFI_OUTRO_VIRUS PCR_COVID_19  \\\n",
       "0     07/03/2021 17:33:56           NaN             NaN     POSITIVO   \n",
       "1     06/03/2021 09:11:54           NaN             NaN     POSITIVO   \n",
       "2     12/03/2021 17:47:00           NaN             NaN     POSITIVO   \n",
       "3     24/03/2021 01:37:07           NaN             NaN     POSITIVO   \n",
       "4     17/03/2021 16:44:24           NaN             NaN     POSITIVO   \n",
       "...                   ...           ...             ...          ...   \n",
       "1323  05/03/2021 22:43:16           NaN             NaN     POSITIVO   \n",
       "1324  16/03/2021 15:19:50           NaN             NaN     POSITIVO   \n",
       "1325  16/03/2021 15:28:14           NaN             NaN     POSITIVO   \n",
       "1326  02/03/2021 09:43:13           NaN             NaN     POSITIVO   \n",
       "1327  13/03/2021 12:42:59           NaN             NaN     POSITIVO   \n",
       "\n",
       "     STATUS_COVID  STATUS_COVID_ORDEM       DESFECHO  CD_ATENDIMENTO  \\\n",
       "0     CONFIRMADOS                   1  NÃO INFORMADO       1584431.0   \n",
       "1     CONFIRMADOS                   1  NÃO INFORMADO       1584037.0   \n",
       "2     CONFIRMADOS                   1  NÃO INFORMADO       1591014.0   \n",
       "3     CONFIRMADOS                   1  NÃO INFORMADO       1600335.0   \n",
       "4     CONFIRMADOS                   1  NÃO INFORMADO       1593987.0   \n",
       "...           ...                 ...            ...             ...   \n",
       "1323  CONFIRMADOS                   1  NÃO INFORMADO       1577130.0   \n",
       "1324  CONFIRMADOS                   1  NÃO INFORMADO       1592679.0   \n",
       "1325  CONFIRMADOS                   1  NÃO INFORMADO       1593536.0   \n",
       "1326  CONFIRMADOS                   1  NÃO INFORMADO       1567762.0   \n",
       "1327  CONFIRMADOS                   1  NÃO INFORMADO       1576495.0   \n",
       "\n",
       "     DS_TP_ATENDIMENTO  CD_PACIENTE     GENERO             IDADE SN_OBITO  \\\n",
       "0            INTERNADO    1597032.0  MASCULINO  60,8381278538813        N   \n",
       "1            INTERNADO    1651281.0   FEMININO  74,1093607305936        S   \n",
       "2            INTERNADO    1688648.0   FEMININO  72,4682648401826        N   \n",
       "3            INTERNADO    1725344.0  MASCULINO  37,9942922374429        N   \n",
       "4            INTERNADO    1766519.0  MASCULINO  46,2655251141553        S   \n",
       "...                ...          ...        ...               ...      ...   \n",
       "1323         INTERNADO    2387683.0   FEMININO  86,0737442922374        N   \n",
       "1324         INTERNADO    2234420.0  MASCULINO  78,2518264840183        S   \n",
       "1325         INTERNADO    1936797.0  MASCULINO  32,3285388127854        N   \n",
       "1326         INTERNADO    2385774.0   FEMININO  73,2518264840183        S   \n",
       "1327         INTERNADO    2387419.0   FEMININO  66,2436073059361        S   \n",
       "\n",
       "     DIAGNOSTICO_SARS OBITO_SARS TIPO_SAIDA TIPO_OBITO            DTHR_ALTA  \\\n",
       "0                 NÃO        NÃO       ALTA        NaN  12/03/2021 16:13:56   \n",
       "1                 SIM        SIM      ÓBITO        NaN  19/03/2021 11:33:20   \n",
       "2                 NÃO        NÃO       ALTA        NaN  27/03/2021 10:55:29   \n",
       "3                 SIM        NÃO       ALTA        NaN  29/03/2021 19:30:02   \n",
       "4                 NÃO        NÃO      ÓBITO        NaN  21/03/2021 14:19:15   \n",
       "...               ...        ...        ...        ...                  ...   \n",
       "1323              NÃO        NÃO       ALTA        NaN  14/03/2021 14:54:20   \n",
       "1324              SIM        SIM      ÓBITO        NaN  23/03/2021 23:28:09   \n",
       "1325              NÃO        NÃO       ALTA        NaN  18/03/2021 10:44:30   \n",
       "1326              NÃO        NÃO      ÓBITO        NaN  09/03/2021 09:16:57   \n",
       "1327              NÃO        NÃO      ÓBITO        NaN  15/03/2021 12:26:45   \n",
       "\n",
       "     CD_CID DS_ESPECIALID_SAI REINTER_30D CARATER_ATENDIMENTO  EMERG_SERVICO  \\\n",
       "0       I64        NEUROLOGIA         NÃO             ELETIVO  NÃO INFORMADO   \n",
       "1      B342    CLINICA MEDICA         NÃO            URGÊNCIA      PRONTOSUS   \n",
       "2      F430       PNEUMOLOGIA         SIM            URGÊNCIA      PRONTOPUC   \n",
       "3      B342    CLINICA MEDICA         NÃO             ELETIVO  NÃO INFORMADO   \n",
       "4      J180       PNEUMOLOGIA         NÃO            URGÊNCIA      PRONTOPUC   \n",
       "...     ...               ...         ...                 ...            ...   \n",
       "1323   B349      INFECTOLOGIA         NÃO            URGÊNCIA      PRONTOPUC   \n",
       "1324   B342    CLINICA MEDICA         NÃO            URGÊNCIA      PRONTOPUC   \n",
       "1325   K359    CIRURGIA GERAL         NÃO            URGÊNCIA      PRONTOPUC   \n",
       "1326   R579       CARDIOLOGIA         NÃO             ELETIVO  NÃO INFORMADO   \n",
       "1327   B349    CLINICA MEDICA         NÃO            URGÊNCIA      PRONTOSUS   \n",
       "\n",
       "        EMERG_RISCO CID_DIAG_ATEND  \\\n",
       "0     NÃO INFORMADO            I64   \n",
       "1           LARANJA           B342   \n",
       "2           LARANJA           F430   \n",
       "3     NÃO INFORMADO           B342   \n",
       "4           LARANJA           U071   \n",
       "...             ...            ...   \n",
       "1323        AMARELO           B349   \n",
       "1324        AMARELO           J960   \n",
       "1325        LARANJA           K359   \n",
       "1326  NÃO INFORMADO           R579   \n",
       "1327       VERMELHO           A419   \n",
       "\n",
       "                                      CID_CAPITULO_DIAG BLOCO_CENTRAL_ST  \\\n",
       "0                                 Aparelho circulatório              NÃO   \n",
       "1                            Infecciosas e parasitárias              NÃO   \n",
       "2                 Transtornos mentais e comportamentais              NÃO   \n",
       "3                            Infecciosas e parasitárias              NÃO   \n",
       "4                     Códigos para propósitos especiais              NÃO   \n",
       "...                                                 ...              ...   \n",
       "1323                         Infecciosas e parasitárias              NÃO   \n",
       "1324                              Aparelho respiratório              NÃO   \n",
       "1325                                 Aparelho digestivo              SIM   \n",
       "1326  Sintomas, sinais e achados anormais de exames ...              SIM   \n",
       "1327                         Infecciosas e parasitárias              NÃO   \n",
       "\n",
       "     HEMODINAMICA_ST EX_LAB_ST EX_IMG_ST EX_OUTROS_ST  \\\n",
       "0                NÃO       SIM       SIM          SIM   \n",
       "1                NÃO       SIM       SIM          NÃO   \n",
       "2                NÃO       SIM       SIM          NÃO   \n",
       "3                NÃO       SIM       SIM          NÃO   \n",
       "4                NÃO       SIM       SIM          NÃO   \n",
       "...              ...       ...       ...          ...   \n",
       "1323             NÃO       SIM       SIM          NÃO   \n",
       "1324             NÃO       SIM       SIM          NÃO   \n",
       "1325             NÃO       SIM       NÃO          SIM   \n",
       "1326             NÃO       SIM       SIM          SIM   \n",
       "1327             NÃO       SIM       SIM          NÃO   \n",
       "\n",
       "      CD_PACIENTE_FROM_ESTUDO COMPETENCIA PORTA_ENTRADA_FROM_ESTUDO  \\\n",
       "0                   1597032.0  07/03/2021                       NaN   \n",
       "1                   1651281.0  06/03/2021                       NaN   \n",
       "2                   1688648.0  18/02/2021                       NaN   \n",
       "3                   1725344.0  24/03/2021                       NaN   \n",
       "4                   1766519.0  17/03/2021                       NaN   \n",
       "...                       ...         ...                       ...   \n",
       "1323                2387683.0  05/03/2021                       NaN   \n",
       "1324                2234420.0  16/03/2021                       NaN   \n",
       "1325                1936797.0  16/03/2021                       NaN   \n",
       "1326                2385774.0  02/03/2021                       NaN   \n",
       "1327                2387419.0  13/03/2021                       NaN   \n",
       "\n",
       "     DATA_INICIO_SINTOMAS_FROM_ESTUDO HISTORICO_VIAGEM_FROM_ESTUDO  \\\n",
       "0                                 NaN                          NaN   \n",
       "1                                 NaN                          NaN   \n",
       "2                                 NaN                          NaN   \n",
       "3                                 NaN                          NaN   \n",
       "4                                 NaN                          NaN   \n",
       "...                               ...                          ...   \n",
       "1323                              NaN                          NaN   \n",
       "1324                              NaN                          NaN   \n",
       "1325                              NaN                          NaN   \n",
       "1326                              NaN                          NaN   \n",
       "1327                              NaN                          NaN   \n",
       "\n",
       "     CIDADES_VISITADAS_FROM_ESTUDO              LOCAL_COLETA_FROM_ESTUDO  \\\n",
       "0                              NaN                 PRONTOPUC ADULTO/INTE   \n",
       "1                              NaN                 PRONTOPUC ADULTO/INTE   \n",
       "2                              NaN                 PRONTOPUC ADULTO/INTE   \n",
       "3                              NaN                 PRONTOPUC ADULTO/INTE   \n",
       "4                              NaN                 PRONTOPUC ADULTO/INTE   \n",
       "...                            ...                                   ...   \n",
       "1323                           NaN                      8 S - INTERNACAO   \n",
       "1324                           NaN                 PRONTOPUC ADULTO/INTE   \n",
       "1325                           NaN                 PRONTOPUC ADULTO/INTE   \n",
       "1326                           NaN  UTI POS OPERATORIO CIRURGIA CARDIACA   \n",
       "1327                           NaN  UTI POS OPERATORIO CIRURGIA CARDIACA   \n",
       "\n",
       "     DATA_COLETA_FROM_ESTUDO PCR_COVID_19_FROM_ESTUDO DESFECHO_FROM_ESTUDO  \\\n",
       "0        07/03/2021 17:33:56                 POSITIVO           INTERNAÇÃO   \n",
       "1        06/03/2021 09:11:54                 POSITIVO           INTERNAÇÃO   \n",
       "2        18/02/2021 13:48:11                 POSITIVO           INTERNAÇÃO   \n",
       "3        24/03/2021 01:37:07                 POSITIVO           INTERNAÇÃO   \n",
       "4        17/03/2021 16:44:24                 POSITIVO           INTERNAÇÃO   \n",
       "...                      ...                      ...                  ...   \n",
       "1323     05/03/2021 22:43:16                 POSITIVO           INTERNAÇÃO   \n",
       "1324     16/03/2021 15:19:50                 POSITIVO           INTERNAÇÃO   \n",
       "1325     16/03/2021 15:28:14                 POSITIVO           INTERNAÇÃO   \n",
       "1326     02/03/2021 09:43:13                 POSITIVO           INTERNAÇÃO   \n",
       "1327     13/03/2021 12:42:59                 POSITIVO           INTERNAÇÃO   \n",
       "\n",
       "     TIPO_REGISTRO SN_IFI_OV_SINCICIAL_RESP SN_IFI_OV_PARAINFLU3  \\\n",
       "0                A                        N                    N   \n",
       "1                A                        N                    N   \n",
       "2                A                        N                    N   \n",
       "3                A                        N                    N   \n",
       "4                A                        N                    N   \n",
       "...            ...                      ...                  ...   \n",
       "1323             A                        N                    N   \n",
       "1324             A                        N                    N   \n",
       "1325             A                        N                    N   \n",
       "1326             A                        N                    N   \n",
       "1327             A                        N                    N   \n",
       "\n",
       "     SN_IFI_OV_PARAINFLU2 SN_IFI_OV_PARAINFLU1 SN_IFI_OV_INFLUA  \\\n",
       "0                       N                    N                N   \n",
       "1                       N                    N                N   \n",
       "2                       N                    N                N   \n",
       "3                       N                    N                N   \n",
       "4                       N                    N                N   \n",
       "...                   ...                  ...              ...   \n",
       "1323                    N                    N                N   \n",
       "1324                    N                    N                N   \n",
       "1325                    N                    N                N   \n",
       "1326                    N                    N                N   \n",
       "1327                    N                    N                N   \n",
       "\n",
       "     SN_IFI_OV_INFLUB SN_IFI_OV_ADENOVIRUS SN_CRIT_CONTATO_CASO_COVID  \\\n",
       "0                   N                    N                          N   \n",
       "1                   N                    N                          N   \n",
       "2                   N                    N                          N   \n",
       "3                   N                    N                          N   \n",
       "4                   N                    N                          N   \n",
       "...               ...                  ...                        ...   \n",
       "1323                N                    N                          N   \n",
       "1324                N                    N                          N   \n",
       "1325                N                    N                          N   \n",
       "1326                N                    N                          N   \n",
       "1327                N                    N                          N   \n",
       "\n",
       "     SN_CRIT_CONTATO_CASO_SUSPEITO  SN_CRIT_PROF_SAUDE_HOSPITAL  \\\n",
       "0                                N                          NaN   \n",
       "1                                N                          NaN   \n",
       "2                                N                          NaN   \n",
       "3                                N                          NaN   \n",
       "4                                N                          NaN   \n",
       "...                            ...                          ...   \n",
       "1323                             N                          NaN   \n",
       "1324                             N                          NaN   \n",
       "1325                             N                          NaN   \n",
       "1326                             N                          NaN   \n",
       "1327                             N                          NaN   \n",
       "\n",
       "     SN_CRIT_PROF_SAUDE_OUT SN_CRIT_SRAG SN_CRIT_SINDROME_GRIPAL  \\\n",
       "0                         N            N                       N   \n",
       "1                         N            N                       N   \n",
       "2                         N            N                       N   \n",
       "3                         N            N                       N   \n",
       "4                         N            N                       N   \n",
       "...                     ...          ...                     ...   \n",
       "1323                      N            N                       N   \n",
       "1324                      N            N                       N   \n",
       "1325                      N            N                       N   \n",
       "1326                      N            N                       N   \n",
       "1327                      N            N                       N   \n",
       "\n",
       "     SN_CRIT_IGNORADO SN_CRIT_OUTROS SN_CRIT_PROT_COVID19 ESTUDO_TP_EXPOSICAO  \\\n",
       "0                   N              N                    N                 NaN   \n",
       "1                   N              N                    N                 NaN   \n",
       "2                   N              N                    N                 NaN   \n",
       "3                   N              N                    N                 NaN   \n",
       "4                   N              N                    N                 NaN   \n",
       "...               ...            ...                  ...                 ...   \n",
       "1323                N              N                    N                 NaN   \n",
       "1324                N              N                    N                 NaN   \n",
       "1325                N              N                    N                 NaN   \n",
       "1326                N              N                    N      HOSPITALAR HSL   \n",
       "1327                N              N                    N      HOSPITALAR HSL   \n",
       "\n",
       "     ESTUDO_COMORB_PREV_HAS ESTUDO_COMORB_PREV_IAM ESTUDO_COMORB_PREV_IC  \\\n",
       "0                         N                      N                     N   \n",
       "1                         N                      N                     N   \n",
       "2                         N                      N                     N   \n",
       "3                         N                      N                     N   \n",
       "4                         N                      N                     N   \n",
       "...                     ...                    ...                   ...   \n",
       "1323                      N                      N                     N   \n",
       "1324                      N                      N                     N   \n",
       "1325                      N                      N                     N   \n",
       "1326                      N                      N                     N   \n",
       "1327                      N                      N                     N   \n",
       "\n",
       "     ESTUDO_COMORB_PREV_DRC ESTUDO_COMORB_PREV_DMI ESTUDO_COMORB_PREV_DMII  \\\n",
       "0                         N                      N                       N   \n",
       "1                         N                      N                       N   \n",
       "2                         N                      N                       N   \n",
       "3                         N                      N                       N   \n",
       "4                         N                      N                       N   \n",
       "...                     ...                    ...                     ...   \n",
       "1323                      N                      N                       N   \n",
       "1324                      N                      N                       N   \n",
       "1325                      N                      N                       N   \n",
       "1326                      N                      N                       N   \n",
       "1327                      N                      N                       N   \n",
       "\n",
       "     ESTUDO_COMORB_PREV_CARCINOMA ESTUDO_COMORB_PREV_ADENOMA  \\\n",
       "0                               N                          N   \n",
       "1                               N                          N   \n",
       "2                               N                          N   \n",
       "3                               N                          N   \n",
       "4                               N                          N   \n",
       "...                           ...                        ...   \n",
       "1323                            N                          N   \n",
       "1324                            N                          N   \n",
       "1325                            N                          N   \n",
       "1326                            N                          N   \n",
       "1327                            N                          N   \n",
       "\n",
       "     ESTUDO_COMORB_PREV_LINFOMA ESTUDO_COMORB_PREV_AVC  \\\n",
       "0                             N                      N   \n",
       "1                             N                      N   \n",
       "2                             N                      N   \n",
       "3                             N                      N   \n",
       "4                             N                      N   \n",
       "...                         ...                    ...   \n",
       "1323                          N                      N   \n",
       "1324                          N                      N   \n",
       "1325                          N                      N   \n",
       "1326                          N                      N   \n",
       "1327                          N                      N   \n",
       "\n",
       "     ESTUDO_COMORB_PREV_ASMA ESTUDO_COMORB_PREV_DPOC  \\\n",
       "0                          N                       N   \n",
       "1                          N                       N   \n",
       "2                          N                       N   \n",
       "3                          N                       N   \n",
       "4                          N                       N   \n",
       "...                      ...                     ...   \n",
       "1323                       N                       N   \n",
       "1324                       N                       N   \n",
       "1325                       N                       N   \n",
       "1326                       N                       N   \n",
       "1327                       N                       N   \n",
       "\n",
       "     ESTUDO_COMORB_PREV_OBESIDADE ESTUDO_COMORB_PREV_EPILEPSIA  \\\n",
       "0                               N                            N   \n",
       "1                               N                            N   \n",
       "2                               N                            N   \n",
       "3                               N                            N   \n",
       "4                               N                            N   \n",
       "...                           ...                          ...   \n",
       "1323                            N                            N   \n",
       "1324                            N                            N   \n",
       "1325                            N                            N   \n",
       "1326                            N                            N   \n",
       "1327                            N                            N   \n",
       "\n",
       "     ESTUDO_COMORB_PREV_HIGIDO ESTUDO_COMORB_PREV_OUTRAS  ESTUDO_CHARLSON  \\\n",
       "0                            N                       NaN              NaN   \n",
       "1                            N                       NaN              NaN   \n",
       "2                            N                       NaN              NaN   \n",
       "3                            N                       NaN              NaN   \n",
       "4                            N                       NaN              NaN   \n",
       "...                        ...                       ...              ...   \n",
       "1323                         N                       NaN              NaN   \n",
       "1324                         N                       NaN              NaN   \n",
       "1325                         N                       NaN              NaN   \n",
       "1326                         N                       NaN              NaN   \n",
       "1327                         N                       NaN              NaN   \n",
       "\n",
       "     ESTUDO_FR_DIA_COLETA  ESTUDO_FC_DIA_COLETA ESTUDO_PA_DIA_COLETA  \\\n",
       "0                     NaN                   NaN                  NaN   \n",
       "1                     NaN                   NaN                  NaN   \n",
       "2                     NaN                   NaN                  NaN   \n",
       "3                     NaN                   NaN                  NaN   \n",
       "4                     NaN                   NaN                  NaN   \n",
       "...                   ...                   ...                  ...   \n",
       "1323                  NaN                   NaN                  NaN   \n",
       "1324                  NaN                   NaN                  NaN   \n",
       "1325                  NaN                   NaN                  NaN   \n",
       "1326                  NaN                   NaN                  NaN   \n",
       "1327                  NaN                   NaN                  NaN   \n",
       "\n",
       "     ESTUDO_TEMPERATURA_DIA_COLETA ESTUDO_SATURACAO_DIA_COLETA  \\\n",
       "0                              NaN                         NaN   \n",
       "1                              NaN                         NaN   \n",
       "2                              NaN                         NaN   \n",
       "3                              NaN                         NaN   \n",
       "4                              NaN                         NaN   \n",
       "...                            ...                         ...   \n",
       "1323                           NaN                         NaN   \n",
       "1324                           NaN                         NaN   \n",
       "1325                           NaN                         NaN   \n",
       "1326                           NaN                         NaN   \n",
       "1327                           NaN                         NaN   \n",
       "\n",
       "      ESTUDO_APACHE2  ESTUDO_RISCO ESTUDO_TRATAMENTO  \\\n",
       "0                NaN           NaN               NaN   \n",
       "1                NaN           NaN               NaN   \n",
       "2                NaN           NaN               NaN   \n",
       "3                NaN           NaN               NaN   \n",
       "4                NaN           NaN               NaN   \n",
       "...              ...           ...               ...   \n",
       "1323             NaN           NaN               NaN   \n",
       "1324             NaN           NaN               NaN   \n",
       "1325             NaN           NaN               NaN   \n",
       "1326             NaN           NaN               NaN   \n",
       "1327             NaN           NaN               NaN   \n",
       "\n",
       "     ESTUDO_COMORB_PREV_TX_ORG_SOL ESTUDO_CONDUTA ESTUDO_LOCAL_CONTAMINACAO  \\\n",
       "0                                N              L                       NaN   \n",
       "1                                N              L                       NaN   \n",
       "2                                N              L                       NaN   \n",
       "3                                N              L                       NaN   \n",
       "4                                N              L                       NaN   \n",
       "...                            ...            ...                       ...   \n",
       "1323                             N              L                       NaN   \n",
       "1324                             N              L                       NaN   \n",
       "1325                             N              L                       NaN   \n",
       "1326                             N              L                       NaN   \n",
       "1327                             N              L                       NaN   \n",
       "\n",
       "      ESTUDO_LOCAL_CONTAM_UI ESTUDO_DT_DESFECHO ESTUDO_COMORB_PREV_DESCON  \\\n",
       "0                        NaN                NaN                         N   \n",
       "1                        NaN                NaN                         N   \n",
       "2                        NaN                NaN                         N   \n",
       "3                        NaN                NaN                         N   \n",
       "4                        NaN                NaN                         N   \n",
       "...                      ...                ...                       ...   \n",
       "1323                     NaN                NaN                         N   \n",
       "1324                     NaN                NaN                         N   \n",
       "1325                     NaN                NaN                         N   \n",
       "1326                     NaN                NaN                         N   \n",
       "1327                     NaN                NaN                         N   \n",
       "\n",
       "     ESTUDO_COMORB_PREV_DVP ESTUDO_COMORB_PREV_DEMENCIA  \\\n",
       "0                         N                           N   \n",
       "1                         N                           N   \n",
       "2                         N                           N   \n",
       "3                         N                           N   \n",
       "4                         N                           N   \n",
       "...                     ...                         ...   \n",
       "1323                      N                           N   \n",
       "1324                      N                           N   \n",
       "1325                      N                           N   \n",
       "1326                      N                           N   \n",
       "1327                      N                           N   \n",
       "\n",
       "     ESTUDO_COMORB_PREV_DTC ESTUDO_COMORB_PREV_UP ESTUDO_COMORB_PREV_DFL  \\\n",
       "0                         N                     N                      N   \n",
       "1                         N                     N                      N   \n",
       "2                         N                     N                      N   \n",
       "3                         N                     N                      N   \n",
       "4                         N                     N                      N   \n",
       "...                     ...                   ...                    ...   \n",
       "1323                      N                     N                      N   \n",
       "1324                      N                     N                      N   \n",
       "1325                      N                     N                      N   \n",
       "1326                      N                     N                      N   \n",
       "1327                      N                     N                      N   \n",
       "\n",
       "     ESTUDO_COMORB_PREV_DFM ESTUDO_COMORB_PREV_HEMIPLEGIA  \\\n",
       "0                         N                             N   \n",
       "1                         N                             N   \n",
       "2                         N                             N   \n",
       "3                         N                             N   \n",
       "4                         N                             N   \n",
       "...                     ...                           ...   \n",
       "1323                      N                             N   \n",
       "1324                      N                             N   \n",
       "1325                      N                             N   \n",
       "1326                      N                             N   \n",
       "1327                      N                             N   \n",
       "\n",
       "     ESTUDO_COMORB_PREV_LEUCEMIA ESTUDO_COMORB_PREV_HIV  \\\n",
       "0                              N                      N   \n",
       "1                              N                      N   \n",
       "2                              N                      N   \n",
       "3                              N                      N   \n",
       "4                              N                      N   \n",
       "...                          ...                    ...   \n",
       "1323                           N                      N   \n",
       "1324                           N                      N   \n",
       "1325                           N                      N   \n",
       "1326                           N                      N   \n",
       "1327                           N                      N   \n",
       "\n",
       "     ESTUDO_COMORB_PREV_TUL ESTUDO_COMORB_PREV_TUM  DIAS_CORRIDOS  \\\n",
       "0                         N                      N              5   \n",
       "1                         N                      N             13   \n",
       "2                         N                      N             15   \n",
       "3                         N                      N              5   \n",
       "4                         N                      N              4   \n",
       "...                     ...                    ...            ...   \n",
       "1323                      N                      N              9   \n",
       "1324                      N                      N              7   \n",
       "1325                      N                      N              2   \n",
       "1326                      N                      N              7   \n",
       "1327                      N                      N              2   \n",
       "\n",
       "     STATUS_COVID.1  CD_ATENDIMENTO.1  CD_PACIENTE_FROM_UTI  CD_LEITO  \\\n",
       "0               NaN               NaN                   NaN       NaN   \n",
       "1       CONFIRMADOS         1584037.0             1651281.0    1674.0   \n",
       "2               NaN               NaN                   NaN       NaN   \n",
       "3               NaN               NaN                   NaN       NaN   \n",
       "4       CONFIRMADOS         1593987.0             1766519.0    1601.0   \n",
       "...             ...               ...                   ...       ...   \n",
       "1323            NaN               NaN                   NaN       NaN   \n",
       "1324            NaN               NaN                   NaN       NaN   \n",
       "1325            NaN               NaN                   NaN       NaN   \n",
       "1326    CONFIRMADOS         1567762.0             2385774.0    1609.0   \n",
       "1327    CONFIRMADOS         1576495.0             2387419.0    1673.0   \n",
       "\n",
       "     CD_UNIDADE DS_UNIDADE  DT_ENTRADA HR_ENTRADA    DT_SAIDA  HR_SAIDA  \\\n",
       "0           NaN        NaN         NaN        NaN         NaN       NaN   \n",
       "1           6.0        UTI  12/03/2021   15:56:05  19/03/2021  11:33:20   \n",
       "2           NaN        NaN         NaN        NaN         NaN       NaN   \n",
       "3           NaN        NaN         NaN        NaN         NaN       NaN   \n",
       "4           7.0        UTI  18/03/2021   21:52:23  21/03/2021  14:19:15   \n",
       "...         ...        ...         ...        ...         ...       ...   \n",
       "1323        NaN        NaN         NaN        NaN         NaN       NaN   \n",
       "1324        NaN        NaN         NaN        NaN         NaN       NaN   \n",
       "1325        NaN        NaN         NaN        NaN         NaN       NaN   \n",
       "1326        7.0        UTI  02/03/2021   20:51:49  09/03/2021  09:16:57   \n",
       "1327        6.0        UTI  12/03/2021   02:03:59  15/03/2021  12:26:45   \n",
       "\n",
       "              DTHR_UTI_IN         DTHR_UTI_OUT  SEGUNDOS_NA_UTI  DIAS_NA_UTI  \n",
       "0                     NaN                  NaN              0.0     0.000000  \n",
       "1     12/03/2021 15:56:05  19/03/2021 11:33:20         589035.0     6.817535  \n",
       "2                     NaN                  NaN              0.0     0.000000  \n",
       "3                     NaN                  NaN              0.0     0.000000  \n",
       "4     18/03/2021 21:52:23  21/03/2021 14:19:15         232012.0     2.685324  \n",
       "...                   ...                  ...              ...          ...  \n",
       "1323                  NaN                  NaN              0.0     0.000000  \n",
       "1324                  NaN                  NaN              0.0     0.000000  \n",
       "1325                  NaN                  NaN              0.0     0.000000  \n",
       "1326  02/03/2021 20:51:49  09/03/2021 09:16:57         563108.0     6.517454  \n",
       "1327  12/03/2021 02:03:59  15/03/2021 12:26:45         296566.0     3.432477  \n",
       "\n",
       "[1328 rows x 126 columns]"
      ]
     },
     "execution_count": 3,
     "metadata": {},
     "output_type": "execute_result"
    }
   ],
   "source": [
    "df"
   ]
  },
  {
   "cell_type": "markdown",
   "id": "overhead-outline",
   "metadata": {},
   "source": [
    "O bloco abaixo exclui colunas que não são necessárias para o aprendizado dos modelos:"
   ]
  },
  {
   "cell_type": "code",
   "execution_count": 4,
   "id": "reserved-brother",
   "metadata": {},
   "outputs": [],
   "source": [
    "def showMissing(data):\n",
    "    for column in data.columns:\n",
    "        missingC = data[column].isnull().sum()\n",
    "        print(column,',',missingC,',')\n",
    "        \n",
    "def showValues(data):\n",
    "    for column in data.columns:\n",
    "        values = data[column].value_counts()\n",
    "        print(column,',',values,',')"
   ]
  },
  {
   "cell_type": "code",
   "execution_count": 5,
   "id": "noticed-restoration",
   "metadata": {},
   "outputs": [
    {
     "name": "stdout",
     "output_type": "stream",
     "text": [
      "ID , 0 ,\n",
      "DTHR_REGISTRO , 0 ,\n",
      "PORTA_ENTRADA , 1309 ,\n",
      "DATA_INICIO_SINTOMAS , 1309 ,\n",
      "HISTORICO_VIAGEM , 1322 ,\n",
      "PAIS_VISITADO , 1328 ,\n",
      "CIDADES_VISITADAS , 1328 ,\n",
      "DATA_RETORNO , 1328 ,\n",
      "COLETOU_AMOSTRA , 0 ,\n",
      "LOCAL_COLETA , 1 ,\n",
      "DATA_COLETA , 6 ,\n",
      "PCR_INFLUENZA , 1324 ,\n",
      "IFI_OUTRO_VIRUS , 1322 ,\n",
      "PCR_COVID_19 , 0 ,\n",
      "STATUS_COVID , 0 ,\n",
      "STATUS_COVID_ORDEM , 0 ,\n",
      "DESFECHO , 0 ,\n",
      "CD_ATENDIMENTO , 0 ,\n",
      "DS_TP_ATENDIMENTO , 0 ,\n",
      "CD_PACIENTE , 0 ,\n",
      "GENERO , 0 ,\n",
      "IDADE , 0 ,\n",
      "SN_OBITO , 0 ,\n",
      "DIAGNOSTICO_SARS , 0 ,\n",
      "OBITO_SARS , 0 ,\n",
      "TIPO_SAIDA , 0 ,\n",
      "TIPO_OBITO , 1315 ,\n",
      "DTHR_ALTA , 0 ,\n",
      "CD_CID , 0 ,\n",
      "DS_ESPECIALID_SAI , 0 ,\n",
      "REINTER_30D , 0 ,\n",
      "CARATER_ATENDIMENTO , 0 ,\n",
      "EMERG_SERVICO , 0 ,\n",
      "EMERG_RISCO , 0 ,\n",
      "CID_DIAG_ATEND , 0 ,\n",
      "CID_CAPITULO_DIAG , 0 ,\n",
      "BLOCO_CENTRAL_ST , 0 ,\n",
      "HEMODINAMICA_ST , 0 ,\n",
      "EX_LAB_ST , 0 ,\n",
      "EX_IMG_ST , 0 ,\n",
      "EX_OUTROS_ST , 0 ,\n",
      "CD_PACIENTE_FROM_ESTUDO , 5 ,\n",
      "COMPETENCIA , 5 ,\n",
      "PORTA_ENTRADA_FROM_ESTUDO , 1297 ,\n",
      "DATA_INICIO_SINTOMAS_FROM_ESTUDO , 1166 ,\n",
      "HISTORICO_VIAGEM_FROM_ESTUDO , 1316 ,\n",
      "CIDADES_VISITADAS_FROM_ESTUDO , 1323 ,\n",
      "LOCAL_COLETA_FROM_ESTUDO , 5 ,\n",
      "DATA_COLETA_FROM_ESTUDO , 10 ,\n",
      "PCR_COVID_19_FROM_ESTUDO , 5 ,\n",
      "DESFECHO_FROM_ESTUDO , 5 ,\n",
      "TIPO_REGISTRO , 5 ,\n",
      "SN_IFI_OV_SINCICIAL_RESP , 5 ,\n",
      "SN_IFI_OV_PARAINFLU3 , 5 ,\n",
      "SN_IFI_OV_PARAINFLU2 , 5 ,\n",
      "SN_IFI_OV_PARAINFLU1 , 5 ,\n",
      "SN_IFI_OV_INFLUA , 5 ,\n",
      "SN_IFI_OV_INFLUB , 5 ,\n",
      "SN_IFI_OV_ADENOVIRUS , 5 ,\n",
      "SN_CRIT_CONTATO_CASO_COVID , 5 ,\n",
      "SN_CRIT_CONTATO_CASO_SUSPEITO , 5 ,\n",
      "SN_CRIT_PROF_SAUDE_HOSPITAL , 1328 ,\n",
      "SN_CRIT_PROF_SAUDE_OUT , 5 ,\n",
      "SN_CRIT_SRAG , 5 ,\n",
      "SN_CRIT_SINDROME_GRIPAL , 5 ,\n",
      "SN_CRIT_IGNORADO , 5 ,\n",
      "SN_CRIT_OUTROS , 5 ,\n",
      "SN_CRIT_PROT_COVID19 , 5 ,\n",
      "ESTUDO_TP_EXPOSICAO , 1054 ,\n",
      "ESTUDO_COMORB_PREV_HAS , 5 ,\n",
      "ESTUDO_COMORB_PREV_IAM , 5 ,\n",
      "ESTUDO_COMORB_PREV_IC , 5 ,\n",
      "ESTUDO_COMORB_PREV_DRC , 5 ,\n",
      "ESTUDO_COMORB_PREV_DMI , 5 ,\n",
      "ESTUDO_COMORB_PREV_DMII , 5 ,\n",
      "ESTUDO_COMORB_PREV_CARCINOMA , 5 ,\n",
      "ESTUDO_COMORB_PREV_ADENOMA , 5 ,\n",
      "ESTUDO_COMORB_PREV_LINFOMA , 5 ,\n",
      "ESTUDO_COMORB_PREV_AVC , 5 ,\n",
      "ESTUDO_COMORB_PREV_ASMA , 5 ,\n",
      "ESTUDO_COMORB_PREV_DPOC , 5 ,\n",
      "ESTUDO_COMORB_PREV_OBESIDADE , 5 ,\n",
      "ESTUDO_COMORB_PREV_EPILEPSIA , 5 ,\n",
      "ESTUDO_COMORB_PREV_HIGIDO , 5 ,\n",
      "ESTUDO_COMORB_PREV_OUTRAS , 1163 ,\n",
      "ESTUDO_CHARLSON , 1185 ,\n",
      "ESTUDO_FR_DIA_COLETA , 1319 ,\n",
      "ESTUDO_FC_DIA_COLETA , 1319 ,\n",
      "ESTUDO_PA_DIA_COLETA , 1319 ,\n",
      "ESTUDO_TEMPERATURA_DIA_COLETA , 1320 ,\n",
      "ESTUDO_SATURACAO_DIA_COLETA , 1320 ,\n",
      "ESTUDO_APACHE2 , 1328 ,\n",
      "ESTUDO_RISCO , 1328 ,\n",
      "ESTUDO_TRATAMENTO , 1322 ,\n",
      "ESTUDO_COMORB_PREV_TX_ORG_SOL , 5 ,\n",
      "ESTUDO_CONDUTA , 6 ,\n",
      "ESTUDO_LOCAL_CONTAMINACAO , 1101 ,\n",
      "ESTUDO_LOCAL_CONTAM_UI , 1237 ,\n",
      "ESTUDO_DT_DESFECHO , 1319 ,\n",
      "ESTUDO_COMORB_PREV_DESCON , 5 ,\n",
      "ESTUDO_COMORB_PREV_DVP , 5 ,\n",
      "ESTUDO_COMORB_PREV_DEMENCIA , 5 ,\n",
      "ESTUDO_COMORB_PREV_DTC , 5 ,\n",
      "ESTUDO_COMORB_PREV_UP , 5 ,\n",
      "ESTUDO_COMORB_PREV_DFL , 5 ,\n",
      "ESTUDO_COMORB_PREV_DFM , 5 ,\n",
      "ESTUDO_COMORB_PREV_HEMIPLEGIA , 5 ,\n",
      "ESTUDO_COMORB_PREV_LEUCEMIA , 5 ,\n",
      "ESTUDO_COMORB_PREV_HIV , 5 ,\n",
      "ESTUDO_COMORB_PREV_TUL , 5 ,\n",
      "ESTUDO_COMORB_PREV_TUM , 5 ,\n",
      "DIAS_CORRIDOS , 0 ,\n",
      "STATUS_COVID.1 , 813 ,\n",
      "CD_ATENDIMENTO.1 , 813 ,\n",
      "CD_PACIENTE_FROM_UTI , 813 ,\n",
      "CD_LEITO , 813 ,\n",
      "CD_UNIDADE , 802 ,\n",
      "DS_UNIDADE , 813 ,\n",
      "DT_ENTRADA , 813 ,\n",
      "HR_ENTRADA , 813 ,\n",
      "DT_SAIDA , 813 ,\n",
      "HR_SAIDA , 813 ,\n",
      "DTHR_UTI_IN , 813 ,\n",
      "DTHR_UTI_OUT , 813 ,\n",
      "SEGUNDOS_NA_UTI , 0 ,\n",
      "DIAS_NA_UTI , 0 ,\n"
     ]
    }
   ],
   "source": [
    "showMissing(df)"
   ]
  },
  {
   "cell_type": "code",
   "execution_count": 6,
   "id": "civilian-species",
   "metadata": {},
   "outputs": [],
   "source": [
    "data = df.drop([\n",
    "    'ID',\n",
    "    'DTHR_REGISTRO',\n",
    "    'SN_OBITO',\n",
    "    'DATA_INICIO_SINTOMAS',\n",
    "    'PAIS_VISITADO',\n",
    "    'CIDADES_VISITADAS',\n",
    "    'CD_ATENDIMENTO',\n",
    "    'DATA_RETORNO',\n",
    "    'DATA_COLETA',\n",
    "    'DTHR_ALTA',\n",
    "    'COMPETENCIA',\n",
    "    'CD_PACIENTE_FROM_ESTUDO',\n",
    "    'PORTA_ENTRADA_FROM_ESTUDO',\n",
    "    'DATA_INICIO_SINTOMAS_FROM_ESTUDO',\n",
    "    'HISTORICO_VIAGEM_FROM_ESTUDO',\n",
    "    'CIDADES_VISITADAS_FROM_ESTUDO',\n",
    "    'LOCAL_COLETA_FROM_ESTUDO',\n",
    "    'DATA_COLETA_FROM_ESTUDO',\n",
    "    'PCR_COVID_19_FROM_ESTUDO',\n",
    "    'DESFECHO_FROM_ESTUDO',\n",
    "    'CD_PACIENTE_FROM_UTI',\n",
    "    'DT_ENTRADA',\n",
    "    'HR_ENTRADA',\n",
    "    'DT_SAIDA',\n",
    "    'HR_SAIDA',\n",
    "    'SEGUNDOS_NA_UTI',\n",
    "    'STATUS_COVID_ORDEM',\n",
    "    'PCR_COVID_19',\n",
    "    'STATUS_COVID',\n",
    "    'PORTA_ENTRADA',\n",
    "    'HISTORICO_VIAGEM',\n",
    "    'DS_TP_ATENDIMENTO',\n",
    "    'OBITO_SARS',\n",
    "    'TIPO_SAIDA',\n",
    "    'TIPO_OBITO',\n",
    "    'SN_CRIT_CONTATO_CASO_SUSPEITO',\n",
    "    'SN_CRIT_PROF_SAUDE_HOSPITAL',\n",
    "    'SN_CRIT_PROF_SAUDE_OUT',\n",
    "    'SN_CRIT_IGNORADO',\n",
    "    'SN_CRIT_PROT_COVID19',\n",
    "    'CD_UNIDADE',\n",
    "    'CD_LEITO',\n",
    "    'DS_UNIDADE'], axis=1)"
   ]
  },
  {
   "cell_type": "code",
   "execution_count": 7,
   "id": "faced-somalia",
   "metadata": {},
   "outputs": [
    {
     "data": {
      "text/plain": [
       "0       1597032.0\n",
       "1       1651281.0\n",
       "2       1688648.0\n",
       "3       1725344.0\n",
       "4       1766519.0\n",
       "          ...    \n",
       "1323    2387683.0\n",
       "1324    2234420.0\n",
       "1325    1936797.0\n",
       "1326    2385774.0\n",
       "1327    2387419.0\n",
       "Name: CD_PACIENTE, Length: 1328, dtype: float64"
      ]
     },
     "execution_count": 7,
     "metadata": {},
     "output_type": "execute_result"
    }
   ],
   "source": [
    "data['CD_PACIENTE']"
   ]
  },
  {
   "cell_type": "markdown",
   "id": "electrical-symbol",
   "metadata": {},
   "source": [
    "## Calculadora do Charlson"
   ]
  },
  {
   "cell_type": "code",
   "execution_count": 8,
   "id": "coated-examination",
   "metadata": {},
   "outputs": [],
   "source": [
    "def resume(coluna, df):\n",
    "    missingC = df[coluna].isnull().sum()\n",
    "    print(\"Valores Faltantes: \", missingC)\n",
    "    print(df[coluna].value_counts())\n",
    "    ndf = df[~df[coluna].isna()].copy()\n",
    "    lista = ndf[coluna].unique().tolist()\n",
    "    print(coluna+\": \", lista)\n",
    "    return missingC\n",
    "\n",
    "def pre_dataset(df):\n",
    "    df = df[df['ESTUDO_CHARLSON'].isna()]\n",
    "    columns_list = df.columns.to_list()\n",
    "    list_comorb = []\n",
    "    for i in columns_list:\n",
    "        if i.startswith('ESTUDO_COMORB_PREV_'):\n",
    "            list_comorb.append(i)\n",
    "\n",
    "    df_cii = df[[\"CD_PACIENTE\", \"IDADE\", *list_comorb]]\n",
    "    df_cii = df_cii.rename(columns=str.lower)\n",
    "    df_cii.idade = df_cii.idade.str.split(',').str[0].astype(int)\n",
    "    return df_cii\n",
    "\n",
    "def score_charlson(df_cii):\n",
    "    columns_cii = ['estudo_comorb_prev_iam', 'estudo_comorb_prev_ic', 'estudo_comorb_prev_drc',\n",
    "               'estudo_comorb_prev_dmii', 'estudo_comorb_prev_carcinoma',\n",
    "               'estudo_comorb_prev_avc', 'estudo_comorb_prev_dpoc', 'estudo_comorb_prev_demencia', \n",
    "               'estudo_comorb_prev_leucemia', 'estudo_comorb_prev_hiv']\n",
    "\n",
    "    score = {'estudo_comorb_prev_iam': 1, 'estudo_comorb_prev_ic': 1, 'estudo_comorb_prev_drc': 2, 'estudo_comorb_prev_dmi': 1,\n",
    "             'estudo_comorb_prev_dmii': 2, 'estudo_comorb_prev_carcinoma': 6, 'estudo_comorb_prev_adenoma': 2,\n",
    "             'estudo_comorb_prev_linfoma': 2, 'estudo_comorb_prev_avc': 1, 'estudo_comorb_prev_dpoc': 1,\n",
    "             'estudo_comorb_prev_demencia': 1, 'estudo_comorb_prev_dtc': 1, 'estudo_comorb_prev_hemiplegia': 2,\n",
    "             'estudo_comorb_prev_leucemia': 2, 'estudo_comorb_prev_hiv': 6}\n",
    "\n",
    "    df_ciiF = df_cii[[\"cd_paciente\", \"idade\", *columns_cii]]\n",
    "    \n",
    "    df_ciiF['estudo_comorb_prev_iam'].replace({\"N\": 0, \"S\": 1}, inplace=True)\n",
    "    df_ciiF['estudo_comorb_prev_ic'].replace({\"N\": 0, \"S\": 1}, inplace=True)\n",
    "    df_ciiF['estudo_comorb_prev_drc'].replace({\"N\": 0, \"S\": 2}, inplace=True)\n",
    "    df_ciiF['estudo_comorb_prev_dmii'].replace({\"N\": 0, \"S\": 2}, inplace=True)\n",
    "    df_ciiF['estudo_comorb_prev_carcinoma'].replace({\"N\": 0, \"S\": 6}, inplace=True)\n",
    "    df_ciiF['estudo_comorb_prev_avc'].replace({\"N\": 0, \"S\": 1}, inplace=True)\n",
    "    df_ciiF['estudo_comorb_prev_dpoc'].replace({\"N\": 0, \"S\": 1}, inplace=True)\n",
    "    df_ciiF['estudo_comorb_prev_demencia'].replace({\"N\": 0, \"S\": 1}, inplace=True)\n",
    "    df_ciiF['estudo_comorb_prev_leucemia'].replace({\"N\": 0, \"S\": 2}, inplace=True)\n",
    "    df_ciiF['estudo_comorb_prev_hiv'].replace({\"N\": 0, \"S\": 6}, inplace=True)\n",
    "    \n",
    "    search = ' // ' or ','\n",
    "    df_ciiF['count_outras']= df_cii['estudo_comorb_prev_outras'].astype(str).str.count('//|,')\n",
    "    \n",
    "    idade_cii = []    \n",
    "\n",
    "    for idade in df_ciiF.idade:\n",
    "        if (idade >= 80):\n",
    "            idade_cii.append(4)\n",
    "        elif (idade >= 70 and idade <=79):\n",
    "            idade_cii.append(3)\n",
    "        elif (idade >= 60 and idade <=69):\n",
    "            idade_cii.append(2) \n",
    "        elif (idade >= 50 and idade <=59):\n",
    "            idade_cii.append(1)\n",
    "        else:\n",
    "            idade_cii.append(0)\n",
    "\n",
    "    df_ciiF['idade'] = idade_cii\n",
    "        \n",
    "    charlson = df_ciiF[['count_outras','idade', *columns_cii]].sum(axis = 1, skipna = True) \n",
    "    print(charlson)\n",
    "    \n",
    "    df_final = pd.DataFrame(charlson, columns=['estudo_charlson'])\n",
    "\n",
    "    df_final = df_final.assign(cd_paciente = df_ciiF['cd_paciente'])\n",
    "#    df_final = df_final.assign(idade = df_cii['idade'])\n",
    "    \n",
    "    return df_final"
   ]
  },
  {
   "cell_type": "code",
   "execution_count": 9,
   "id": "loving-strip",
   "metadata": {},
   "outputs": [
    {
     "data": {
      "text/plain": [
       "Index(['cd_paciente', 'idade', 'estudo_comorb_prev_has',\n",
       "       'estudo_comorb_prev_iam', 'estudo_comorb_prev_ic',\n",
       "       'estudo_comorb_prev_drc', 'estudo_comorb_prev_dmi',\n",
       "       'estudo_comorb_prev_dmii', 'estudo_comorb_prev_carcinoma',\n",
       "       'estudo_comorb_prev_adenoma', 'estudo_comorb_prev_linfoma',\n",
       "       'estudo_comorb_prev_avc', 'estudo_comorb_prev_asma',\n",
       "       'estudo_comorb_prev_dpoc', 'estudo_comorb_prev_obesidade',\n",
       "       'estudo_comorb_prev_epilepsia', 'estudo_comorb_prev_higido',\n",
       "       'estudo_comorb_prev_outras', 'estudo_comorb_prev_tx_org_sol',\n",
       "       'estudo_comorb_prev_descon', 'estudo_comorb_prev_dvp',\n",
       "       'estudo_comorb_prev_demencia', 'estudo_comorb_prev_dtc',\n",
       "       'estudo_comorb_prev_up', 'estudo_comorb_prev_dfl',\n",
       "       'estudo_comorb_prev_dfm', 'estudo_comorb_prev_hemiplegia',\n",
       "       'estudo_comorb_prev_leucemia', 'estudo_comorb_prev_hiv',\n",
       "       'estudo_comorb_prev_tul', 'estudo_comorb_prev_tum'],\n",
       "      dtype='object')"
      ]
     },
     "execution_count": 9,
     "metadata": {},
     "output_type": "execute_result"
    }
   ],
   "source": [
    "pre_processing_data = pre_dataset(data)\n",
    "pre_processing_data.columns"
   ]
  },
  {
   "cell_type": "code",
   "execution_count": 10,
   "id": "standard-cheese",
   "metadata": {},
   "outputs": [
    {
     "name": "stdout",
     "output_type": "stream",
     "text": [
      "Valores Faltantes:  1185\n",
      "5.0     33\n",
      "4.0     24\n",
      "2.0     19\n",
      "6.0     17\n",
      "3.0     16\n",
      "1.0     10\n",
      "7.0      8\n",
      "10.0     6\n",
      "8.0      6\n",
      "0.0      2\n",
      "9.0      2\n",
      "Name: ESTUDO_CHARLSON, dtype: int64\n",
      "ESTUDO_CHARLSON:  [2.0, 5.0, 1.0, 3.0, 6.0, 7.0, 4.0, 8.0, 9.0, 10.0, 0.0]\n"
     ]
    },
    {
     "data": {
      "text/plain": [
       "1185"
      ]
     },
     "execution_count": 10,
     "metadata": {},
     "output_type": "execute_result"
    }
   ],
   "source": [
    "resume('ESTUDO_CHARLSON', df)"
   ]
  },
  {
   "cell_type": "code",
   "execution_count": 11,
   "id": "ranking-reputation",
   "metadata": {
    "scrolled": true
   },
   "outputs": [
    {
     "name": "stdout",
     "output_type": "stream",
     "text": [
      "0       2.0\n",
      "1       3.0\n",
      "2       3.0\n",
      "3       0.0\n",
      "4       0.0\n",
      "       ... \n",
      "1323    4.0\n",
      "1324    3.0\n",
      "1325    0.0\n",
      "1326    3.0\n",
      "1327    2.0\n",
      "Length: 1185, dtype: float64\n"
     ]
    },
    {
     "name": "stderr",
     "output_type": "stream",
     "text": [
      "/Users/giggio/opt/anaconda3/envs/edaML/lib/python3.6/site-packages/pandas/core/series.py:4569: SettingWithCopyWarning: \n",
      "A value is trying to be set on a copy of a slice from a DataFrame\n",
      "\n",
      "See the caveats in the documentation: https://pandas.pydata.org/pandas-docs/stable/user_guide/indexing.html#returning-a-view-versus-a-copy\n",
      "  method=method,\n",
      "/Users/giggio/opt/anaconda3/envs/edaML/lib/python3.6/site-packages/ipykernel_launcher.py:49: SettingWithCopyWarning: \n",
      "A value is trying to be set on a copy of a slice from a DataFrame.\n",
      "Try using .loc[row_indexer,col_indexer] = value instead\n",
      "\n",
      "See the caveats in the documentation: https://pandas.pydata.org/pandas-docs/stable/user_guide/indexing.html#returning-a-view-versus-a-copy\n",
      "/Users/giggio/opt/anaconda3/envs/edaML/lib/python3.6/site-packages/ipykernel_launcher.py:65: SettingWithCopyWarning: \n",
      "A value is trying to be set on a copy of a slice from a DataFrame.\n",
      "Try using .loc[row_indexer,col_indexer] = value instead\n",
      "\n",
      "See the caveats in the documentation: https://pandas.pydata.org/pandas-docs/stable/user_guide/indexing.html#returning-a-view-versus-a-copy\n"
     ]
    }
   ],
   "source": [
    "charlson_complete = score_charlson(pre_processing_data)"
   ]
  },
  {
   "cell_type": "code",
   "execution_count": 12,
   "id": "opposed-retirement",
   "metadata": {},
   "outputs": [
    {
     "data": {
      "text/html": [
       "<div>\n",
       "<style scoped>\n",
       "    .dataframe tbody tr th:only-of-type {\n",
       "        vertical-align: middle;\n",
       "    }\n",
       "\n",
       "    .dataframe tbody tr th {\n",
       "        vertical-align: top;\n",
       "    }\n",
       "\n",
       "    .dataframe thead th {\n",
       "        text-align: right;\n",
       "    }\n",
       "</style>\n",
       "<table border=\"1\" class=\"dataframe\">\n",
       "  <thead>\n",
       "    <tr style=\"text-align: right;\">\n",
       "      <th></th>\n",
       "      <th>estudo_charlson</th>\n",
       "      <th>cd_paciente</th>\n",
       "    </tr>\n",
       "  </thead>\n",
       "  <tbody>\n",
       "    <tr>\n",
       "      <th>0</th>\n",
       "      <td>2.0</td>\n",
       "      <td>1597032.0</td>\n",
       "    </tr>\n",
       "    <tr>\n",
       "      <th>1</th>\n",
       "      <td>3.0</td>\n",
       "      <td>1651281.0</td>\n",
       "    </tr>\n",
       "    <tr>\n",
       "      <th>2</th>\n",
       "      <td>3.0</td>\n",
       "      <td>1688648.0</td>\n",
       "    </tr>\n",
       "    <tr>\n",
       "      <th>3</th>\n",
       "      <td>0.0</td>\n",
       "      <td>1725344.0</td>\n",
       "    </tr>\n",
       "    <tr>\n",
       "      <th>4</th>\n",
       "      <td>0.0</td>\n",
       "      <td>1766519.0</td>\n",
       "    </tr>\n",
       "  </tbody>\n",
       "</table>\n",
       "</div>"
      ],
      "text/plain": [
       "   estudo_charlson  cd_paciente\n",
       "0              2.0    1597032.0\n",
       "1              3.0    1651281.0\n",
       "2              3.0    1688648.0\n",
       "3              0.0    1725344.0\n",
       "4              0.0    1766519.0"
      ]
     },
     "execution_count": 12,
     "metadata": {},
     "output_type": "execute_result"
    }
   ],
   "source": [
    "charlson_complete.head()"
   ]
  },
  {
   "cell_type": "code",
   "execution_count": 13,
   "id": "directed-bible",
   "metadata": {},
   "outputs": [
    {
     "data": {
      "image/png": "[encoded data removed]",
      "text/plain": [
       "<Figure size 1440x720 with 1 Axes>"
      ]
     },
     "metadata": {
      "needs_background": "light"
     },
     "output_type": "display_data"
    }
   ],
   "source": [
    "plt.figure(figsize=(20, 10))\n",
    "sns.histplot(charlson_complete.estudo_charlson, kde=True)\n",
    "plt.title(\"Charlson\")\n",
    "plt.show()"
   ]
  },
  {
   "cell_type": "code",
   "execution_count": 14,
   "id": "descending-monthly",
   "metadata": {},
   "outputs": [
    {
     "data": {
      "text/plain": [
       "0.0     278\n",
       "2.0     275\n",
       "3.0     234\n",
       "4.0     202\n",
       "1.0     194\n",
       "6.0       1\n",
       "11.0      1\n",
       "Name: estudo_charlson, dtype: int64"
      ]
     },
     "execution_count": 14,
     "metadata": {},
     "output_type": "execute_result"
    }
   ],
   "source": [
    "charlson_complete.estudo_charlson.value_counts()"
   ]
  },
  {
   "cell_type": "markdown",
   "id": "rotary-george",
   "metadata": {},
   "source": [
    "## Análise de cada variável restante"
   ]
  },
  {
   "cell_type": "code",
   "execution_count": 15,
   "id": "developed-australia",
   "metadata": {},
   "outputs": [],
   "source": [
    "def __getDictToReplace(keys):\n",
    "    d = {}\n",
    "    for k in keys:\n",
    "        d[k] = keys.index(k) + 1\n",
    "    return d"
   ]
  },
  {
   "cell_type": "markdown",
   "id": "mature-cover",
   "metadata": {},
   "source": [
    "#### COLETOU_AMOSTRA"
   ]
  },
  {
   "cell_type": "code",
   "execution_count": 16,
   "id": "gorgeous-client",
   "metadata": {},
   "outputs": [
    {
     "data": {
      "text/plain": [
       "SIM    1316\n",
       "NAO      12\n",
       "Name: COLETOU_AMOSTRA, dtype: int64"
      ]
     },
     "execution_count": 16,
     "metadata": {},
     "output_type": "execute_result"
    }
   ],
   "source": [
    "data['COLETOU_AMOSTRA'].value_counts()"
   ]
  },
  {
   "cell_type": "code",
   "execution_count": 17,
   "id": "collected-accessory",
   "metadata": {},
   "outputs": [],
   "source": [
    "data['COLETOU_AMOSTRA'] = data['COLETOU_AMOSTRA'].replace({'SIM': 1, 'NAO': 0})"
   ]
  },
  {
   "cell_type": "markdown",
   "id": "rocky-distinction",
   "metadata": {},
   "source": [
    "#### [REMOVED] LOCAL_COLETA"
   ]
  },
  {
   "cell_type": "code",
   "execution_count": 18,
   "id": "historical-enlargement",
   "metadata": {},
   "outputs": [
    {
     "data": {
      "text/plain": [
       "PRONTOPUC ADULTO/INTE                   484\n",
       "PRONTOPUC ADULTO                        353\n",
       "EMERGENCIA ADULTA SUS/INTE               93\n",
       "EMERGENCIA ADULTA SUS                    75\n",
       "8 S - INTERNACAO                         54\n",
       "8 N - INTERNACAO                         31\n",
       "SALA DE RECUPERACAO                      29\n",
       "UTI-CORONARIANA                          28\n",
       "7 S - INTERNACAO                         27\n",
       "5 S - INTERNAÇÃO                         22\n",
       "7 N - INTERNACAO                         19\n",
       "UTI GERAL AREA II                        17\n",
       "6 S - INTERNACAO                         15\n",
       "COVID SUS - INTERNACAO                   11\n",
       "UTI POS OPERATORIO CIRURGIA CARDIACA      8\n",
       "9 N - INTERNACAO                          8\n",
       "UTI-CIRURGICA                             7\n",
       "9 S - INTERNACAO                          5\n",
       "6 N - INTERNACAO                          5\n",
       "PSIQUIATRIA - INTERNACAO                  4\n",
       "HEMODINAMICA                              4\n",
       "UTI GERAL AREA I                          4\n",
       "UTI 3A COVID CONVENIOS ADULTO             4\n",
       "5 S - INTERNAÇÃO CCG                      3\n",
       "LACEN                                     3\n",
       "LACEN/Particular                          3\n",
       "TRAUMATO AMBULATORIAL                     2\n",
       "Particular                                1\n",
       "exame externo                             1\n",
       "LACEN+particular                          1\n",
       "LACEN, Particular                         1\n",
       "PPUC                                      1\n",
       "AMBULATORIOS  GERAL CONJ                  1\n",
       "LACEN/HSL                                 1\n",
       "LACEN, particular                         1\n",
       "LACEN,Particular                          1\n",
       "Name: LOCAL_COLETA, dtype: int64"
      ]
     },
     "execution_count": 18,
     "metadata": {},
     "output_type": "execute_result"
    }
   ],
   "source": [
    "data['LOCAL_COLETA'].value_counts() #DROP"
   ]
  },
  {
   "cell_type": "code",
   "execution_count": 19,
   "id": "approximate-direction",
   "metadata": {},
   "outputs": [],
   "source": [
    "data = data.drop(['LOCAL_COLETA'], axis=1)"
   ]
  },
  {
   "cell_type": "markdown",
   "id": "posted-prison",
   "metadata": {},
   "source": [
    "#### [REMOVED] PCR_INFLUENZA"
   ]
  },
  {
   "cell_type": "code",
   "execution_count": 20,
   "id": "fatty-entry",
   "metadata": {},
   "outputs": [
    {
     "data": {
      "text/plain": [
       "EM ANDAMENTO    4\n",
       "Name: PCR_INFLUENZA, dtype: int64"
      ]
     },
     "execution_count": 20,
     "metadata": {},
     "output_type": "execute_result"
    }
   ],
   "source": [
    "data['PCR_INFLUENZA'].value_counts() #DROP"
   ]
  },
  {
   "cell_type": "code",
   "execution_count": 21,
   "id": "efficient-hebrew",
   "metadata": {},
   "outputs": [],
   "source": [
    "data = data.drop(['PCR_INFLUENZA'], axis=1)"
   ]
  },
  {
   "cell_type": "markdown",
   "id": "intense-emphasis",
   "metadata": {},
   "source": [
    "#### IFI_OUTRO_VIRUS"
   ]
  },
  {
   "cell_type": "code",
   "execution_count": 22,
   "id": "quiet-programming",
   "metadata": {},
   "outputs": [],
   "source": [
    "data['IFI_OUTRO_VIRUS'] = data['IFI_OUTRO_VIRUS'].fillna('NI')"
   ]
  },
  {
   "cell_type": "code",
   "execution_count": 23,
   "id": "desirable-coral",
   "metadata": {},
   "outputs": [
    {
     "data": {
      "text/plain": [
       "NI              1322\n",
       "EM ANDAMENTO       4\n",
       "NEGATIVO           2\n",
       "Name: IFI_OUTRO_VIRUS, dtype: int64"
      ]
     },
     "execution_count": 23,
     "metadata": {},
     "output_type": "execute_result"
    }
   ],
   "source": [
    "data['IFI_OUTRO_VIRUS'].value_counts()"
   ]
  },
  {
   "cell_type": "code",
   "execution_count": 24,
   "id": "interior-frank",
   "metadata": {},
   "outputs": [],
   "source": [
    "data['IFI_OUTRO_VIRUS'] = data['IFI_OUTRO_VIRUS'].replace({'EM ANDAMENTO': 1, 'NEGATIVO': 0, 'NI': 2})"
   ]
  },
  {
   "cell_type": "markdown",
   "id": "removable-queens",
   "metadata": {},
   "source": [
    "#### [REMOVED] DESFECHO"
   ]
  },
  {
   "cell_type": "code",
   "execution_count": 25,
   "id": "express-journal",
   "metadata": {},
   "outputs": [
    {
     "data": {
      "text/plain": [
       "NÃO INFORMADO    1302\n",
       "INTERNAÇÃO         26\n",
       "Name: DESFECHO, dtype: int64"
      ]
     },
     "execution_count": 25,
     "metadata": {},
     "output_type": "execute_result"
    }
   ],
   "source": [
    "data['DESFECHO'].value_counts() #DROP"
   ]
  },
  {
   "cell_type": "code",
   "execution_count": 26,
   "id": "tight-honduras",
   "metadata": {},
   "outputs": [],
   "source": [
    "data = data.drop(['DESFECHO'], axis=1)"
   ]
  },
  {
   "cell_type": "markdown",
   "id": "verbal-access",
   "metadata": {},
   "source": [
    "#### CD_PACIENTE"
   ]
  },
  {
   "cell_type": "markdown",
   "id": "sophisticated-portland",
   "metadata": {},
   "source": [
    "Essa feature permance no dataset, pois depois permite fazer buscas mais precisas.\n",
    "Não é necessário fazer nenhum processamento nela."
   ]
  },
  {
   "cell_type": "markdown",
   "id": "hundred-hamburg",
   "metadata": {},
   "source": [
    "#### GENERO"
   ]
  },
  {
   "cell_type": "code",
   "execution_count": 27,
   "id": "fuzzy-remark",
   "metadata": {},
   "outputs": [
    {
     "data": {
      "text/plain": [
       "MASCULINO    676\n",
       "FEMININO     652\n",
       "Name: GENERO, dtype: int64"
      ]
     },
     "execution_count": 27,
     "metadata": {},
     "output_type": "execute_result"
    }
   ],
   "source": [
    "data['GENERO'].value_counts()"
   ]
  },
  {
   "cell_type": "code",
   "execution_count": 28,
   "id": "interpreted-advice",
   "metadata": {},
   "outputs": [],
   "source": [
    "data['GENERO'] = data['GENERO'].replace({'MASCULINO': 1, 'FEMININO': 0})"
   ]
  },
  {
   "cell_type": "markdown",
   "id": "based-liver",
   "metadata": {},
   "source": [
    "#### IDADE"
   ]
  },
  {
   "cell_type": "code",
   "execution_count": 29,
   "id": "vertical-broadcast",
   "metadata": {},
   "outputs": [
    {
     "data": {
      "text/plain": [
       "64,2052511415525    2\n",
       "80,0299086757991    2\n",
       "68,4627853881279    2\n",
       "65,8326484018265    2\n",
       "63,2682648401826    2\n",
       "                   ..\n",
       "67,1888127853881    1\n",
       "76,7723744292237    1\n",
       "51,3641552511416    1\n",
       "80,325799086758     1\n",
       "99,2299086757991    1\n",
       "Name: IDADE, Length: 1293, dtype: int64"
      ]
     },
     "execution_count": 29,
     "metadata": {},
     "output_type": "execute_result"
    }
   ],
   "source": [
    "data['IDADE'].value_counts()"
   ]
  },
  {
   "cell_type": "markdown",
   "id": "protective-parish",
   "metadata": {},
   "source": [
    "Essa feature já é numérica."
   ]
  },
  {
   "cell_type": "markdown",
   "id": "split-right",
   "metadata": {},
   "source": [
    "#### DIAGNOSTICO_SARS"
   ]
  },
  {
   "cell_type": "code",
   "execution_count": 30,
   "id": "vital-department",
   "metadata": {},
   "outputs": [
    {
     "data": {
      "text/plain": [
       "NÃO    973\n",
       "SIM    355\n",
       "Name: DIAGNOSTICO_SARS, dtype: int64"
      ]
     },
     "execution_count": 30,
     "metadata": {},
     "output_type": "execute_result"
    }
   ],
   "source": [
    "data['DIAGNOSTICO_SARS'].value_counts()"
   ]
  },
  {
   "cell_type": "code",
   "execution_count": 31,
   "id": "statutory-capacity",
   "metadata": {},
   "outputs": [],
   "source": [
    "data['DIAGNOSTICO_SARS'] = data['DIAGNOSTICO_SARS'].replace({'SIM': 1, 'NÃO': 0})"
   ]
  },
  {
   "cell_type": "markdown",
   "id": "tracked-acquisition",
   "metadata": {},
   "source": [
    "#### CD_CID"
   ]
  },
  {
   "cell_type": "code",
   "execution_count": 32,
   "id": "demanding-feelings",
   "metadata": {},
   "outputs": [
    {
     "data": {
      "text/plain": [
       "B342    353\n",
       "B349    236\n",
       "A419     55\n",
       "U071     23\n",
       "I200     22\n",
       "       ... \n",
       "I211      1\n",
       "K593      1\n",
       "D71       1\n",
       "B207      1\n",
       "I652      1\n",
       "Name: CD_CID, Length: 328, dtype: int64"
      ]
     },
     "execution_count": 32,
     "metadata": {},
     "output_type": "execute_result"
    }
   ],
   "source": [
    "data['CD_CID'].value_counts()"
   ]
  },
  {
   "cell_type": "code",
   "execution_count": 33,
   "id": "lesbian-samuel",
   "metadata": {},
   "outputs": [],
   "source": [
    "keys = data['CD_CID'].value_counts().keys().tolist()"
   ]
  },
  {
   "cell_type": "code",
   "execution_count": 34,
   "id": "documented-candy",
   "metadata": {},
   "outputs": [],
   "source": [
    "dictToReplace = __getDictToReplace(keys)"
   ]
  },
  {
   "cell_type": "code",
   "execution_count": 35,
   "id": "genetic-archives",
   "metadata": {},
   "outputs": [
    {
     "data": {
      "text/plain": [
       "{'B342': 1,\n",
       " 'B349': 2,\n",
       " 'A419': 3,\n",
       " 'U071': 4,\n",
       " 'I200': 5,\n",
       " 'I64': 6,\n",
       " 'I500': 7,\n",
       " 'K359': 8,\n",
       " 'J180': 9,\n",
       " 'N180': 10,\n",
       " 'J960': 11,\n",
       " 'I219': 12,\n",
       " 'N179': 13,\n",
       " 'J159': 14,\n",
       " 'I743': 15,\n",
       " 'N390': 16,\n",
       " 'A499': 17,\n",
       " 'R060': 18,\n",
       " 'R100': 19,\n",
       " 'J18': 20,\n",
       " 'K921': 21,\n",
       " 'J15': 22,\n",
       " 'I639': 23,\n",
       " 'J81': 24,\n",
       " 'K810': 25,\n",
       " 'I48': 26,\n",
       " 'C61': 27,\n",
       " 'J189': 28,\n",
       " 'I269': 29,\n",
       " 'N189': 30,\n",
       " 'I509': 31,\n",
       " 'K920': 32,\n",
       " 'J129': 33,\n",
       " 'C509': 34,\n",
       " 'G409': 35,\n",
       " 'C349': 36,\n",
       " 'B338': 37,\n",
       " 'I442': 38,\n",
       " 'S828': 39,\n",
       " 'G402': 40,\n",
       " 'K850': 41,\n",
       " 'B972': 42,\n",
       " 'J90': 43,\n",
       " 'K859': 44,\n",
       " 'I21': 45,\n",
       " 'N188': 46,\n",
       " 'K57': 47,\n",
       " 'I255': 48,\n",
       " 'C679': 49,\n",
       " 'S720': 50,\n",
       " 'C189': 51,\n",
       " 'J12': 52,\n",
       " 'N200': 53,\n",
       " 'I26': 54,\n",
       " 'C348': 55,\n",
       " 'I50': 56,\n",
       " 'N17': 57,\n",
       " 'M169': 58,\n",
       " 'B340': 59,\n",
       " 'G049': 60,\n",
       " 'C187': 61,\n",
       " 'A418': 62,\n",
       " 'K562': 63,\n",
       " 'I739': 64,\n",
       " 'C188': 65,\n",
       " 'B348': 66,\n",
       " 'I710': 67,\n",
       " 'J441': 68,\n",
       " 'I210': 69,\n",
       " 'D376': 70,\n",
       " 'G959': 71,\n",
       " 'C20': 72,\n",
       " 'F609': 73,\n",
       " 'B258': 74,\n",
       " 'Z988': 75,\n",
       " 'R074': 76,\n",
       " 'C629': 77,\n",
       " 'A488': 78,\n",
       " 'J80': 79,\n",
       " 'C169': 80,\n",
       " 'K830': 81,\n",
       " 'R34': 82,\n",
       " 'N029': 83,\n",
       " 'C811': 84,\n",
       " 'E141': 85,\n",
       " 'C793': 86,\n",
       " 'R51': 87,\n",
       " 'A415': 88,\n",
       " 'A09': 89,\n",
       " 'N201': 90,\n",
       " 'C798': 91,\n",
       " 'C329': 92,\n",
       " 'F05': 93,\n",
       " 'S721': 94,\n",
       " 'M009': 95,\n",
       " 'I209': 96,\n",
       " 'B34': 97,\n",
       " 'R520': 98,\n",
       " 'C64': 99,\n",
       " 'D638': 100,\n",
       " 'R579': 101,\n",
       " 'C80': 102,\n",
       " 'A498': 103,\n",
       " 'E875': 104,\n",
       " 'U049': 105,\n",
       " 'A41': 106,\n",
       " 'T813': 107,\n",
       " 'K802': 108,\n",
       " 'I635': 109,\n",
       " 'D758': 110,\n",
       " 'J948': 111,\n",
       " 'I61': 112,\n",
       " 'C538': 113,\n",
       " 'C901': 114,\n",
       " 'K610': 115,\n",
       " 'G700': 116,\n",
       " 'A698': 117,\n",
       " 'G629': 118,\n",
       " 'C900': 119,\n",
       " 'J110': 120,\n",
       " 'C844': 121,\n",
       " 'B022': 122,\n",
       " 'D259': 123,\n",
       " 'G408': 124,\n",
       " 'K251': 125,\n",
       " 'F69': 126,\n",
       " 'I428': 127,\n",
       " 'M490': 128,\n",
       " 'R739': 129,\n",
       " 'C340': 130,\n",
       " 'M352': 131,\n",
       " 'C343': 132,\n",
       " 'G40': 133,\n",
       " 'K628': 134,\n",
       " 'F02': 135,\n",
       " 'C53': 136,\n",
       " 'R55': 137,\n",
       " 'K509': 138,\n",
       " 'I714': 139,\n",
       " 'R001': 140,\n",
       " 'T782': 141,\n",
       " 'K572': 142,\n",
       " 'I501': 143,\n",
       " 'I441': 144,\n",
       " 'J152': 145,\n",
       " 'L023': 146,\n",
       " 'J440': 147,\n",
       " 'I330': 148,\n",
       " 'A183': 149,\n",
       " 'J100': 150,\n",
       " 'J96': 151,\n",
       " 'M86': 152,\n",
       " 'K750': 153,\n",
       " 'M342': 154,\n",
       " 'N18': 155,\n",
       " 'J068': 156,\n",
       " 'C719': 157,\n",
       " 'C248': 158,\n",
       " 'N288': 159,\n",
       " 'K729': 160,\n",
       " 'C16': 161,\n",
       " 'J158': 162,\n",
       " 'C889': 163,\n",
       " 'E142': 164,\n",
       " 'S06': 165,\n",
       " 'K808': 166,\n",
       " 'S730': 167,\n",
       " 'C269': 168,\n",
       " 'K922': 169,\n",
       " 'F059': 170,\n",
       " 'K564': 171,\n",
       " 'F29': 172,\n",
       " 'S423': 173,\n",
       " 'C830': 174,\n",
       " 'K36': 175,\n",
       " 'F319': 176,\n",
       " 'B690': 177,\n",
       " 'C439': 178,\n",
       " 'J128': 179,\n",
       " 'I20': 180,\n",
       " 'S069': 181,\n",
       " 'G35': 182,\n",
       " 'R578': 183,\n",
       " 'A154': 184,\n",
       " 'B41': 185,\n",
       " 'R33': 186,\n",
       " 'C959': 187,\n",
       " 'C498': 188,\n",
       " 'D619': 189,\n",
       " 'I738': 190,\n",
       " 'L089': 191,\n",
       " 'C56': 192,\n",
       " 'I959': 193,\n",
       " 'N39': 194,\n",
       " 'G031': 195,\n",
       " 'G458': 196,\n",
       " 'D320': 197,\n",
       " 'X640': 198,\n",
       " 'J188': 199,\n",
       " 'C259': 200,\n",
       " 'Q282': 201,\n",
       " 'B341': 202,\n",
       " 'D481': 203,\n",
       " 'I159': 204,\n",
       " 'I832': 205,\n",
       " 'K40': 206,\n",
       " 'N20': 207,\n",
       " 'J219': 208,\n",
       " 'N412': 209,\n",
       " 'I802': 210,\n",
       " 'T861': 211,\n",
       " 'E86': 212,\n",
       " 'C787': 213,\n",
       " 'C435': 214,\n",
       " 'E871': 215,\n",
       " 'G403': 216,\n",
       " 'K659': 217,\n",
       " 'C541': 218,\n",
       " 'C460': 219,\n",
       " 'D489': 220,\n",
       " 'R571': 221,\n",
       " 'K639': 222,\n",
       " 'I470': 223,\n",
       " 'I472': 224,\n",
       " 'E105': 225,\n",
       " 'C19': 226,\n",
       " 'K566': 227,\n",
       " 'A483': 228,\n",
       " 'B199': 229,\n",
       " 'K81': 230,\n",
       " 'G932': 231,\n",
       " 'K929': 232,\n",
       " 'J969': 233,\n",
       " 'C676': 234,\n",
       " 'J00': 235,\n",
       " 'C911': 236,\n",
       " 'I248': 237,\n",
       " 'J930': 238,\n",
       " 'R529': 239,\n",
       " 'G610': 240,\n",
       " 'D110': 241,\n",
       " 'M993': 242,\n",
       " 'M966': 243,\n",
       " 'F430': 244,\n",
       " 'A879': 245,\n",
       " 'D649': 246,\n",
       " 'F209': 247,\n",
       " 'I029': 248,\n",
       " 'S722': 249,\n",
       " 'C10': 250,\n",
       " 'J988': 251,\n",
       " 'J156': 252,\n",
       " 'C920': 253,\n",
       " 'L038': 254,\n",
       " 'N19': 255,\n",
       " 'A521': 256,\n",
       " 'R52': 257,\n",
       " 'M629': 258,\n",
       " 'G373': 259,\n",
       " 'B344': 260,\n",
       " 'G009': 261,\n",
       " 'G45': 262,\n",
       " 'R410': 263,\n",
       " 'I214': 264,\n",
       " 'D440': 265,\n",
       " 'K804': 266,\n",
       " 'N511': 267,\n",
       " 'G822': 268,\n",
       " 'I81': 269,\n",
       " 'E112': 270,\n",
       " 'C220': 271,\n",
       " 'C25': 272,\n",
       " 'C929': 273,\n",
       " 'N132': 274,\n",
       " 'I24': 275,\n",
       " 'S723': 276,\n",
       " 'C504': 277,\n",
       " 'R18': 278,\n",
       " 'C967': 279,\n",
       " 'C18': 280,\n",
       " 'C229': 281,\n",
       " 'R198': 282,\n",
       " 'C950': 283,\n",
       " 'M199': 284,\n",
       " 'K590': 285,\n",
       " 'M542': 286,\n",
       " 'K800': 287,\n",
       " 'R220': 288,\n",
       " 'D377': 289,\n",
       " 'I618': 290,\n",
       " 'G952': 291,\n",
       " 'G368': 292,\n",
       " 'C162': 293,\n",
       " 'M862': 294,\n",
       " 'F312': 295,\n",
       " 'C50': 296,\n",
       " 'V049': 297,\n",
       " 'M662': 298,\n",
       " 'K858': 299,\n",
       " 'N165': 300,\n",
       " 'A490': 301,\n",
       " 'N359': 302,\n",
       " 'N40': 303,\n",
       " 'L129': 304,\n",
       " 'B004': 305,\n",
       " 'I469': 306,\n",
       " 'C79': 307,\n",
       " 'K818': 308,\n",
       " 'J069': 309,\n",
       " 'B24': 310,\n",
       " 'E111': 311,\n",
       " 'R521': 312,\n",
       " 'L08': 313,\n",
       " 'I060': 314,\n",
       " 'A199': 315,\n",
       " 'F322': 316,\n",
       " 'I158': 317,\n",
       " 'G934': 318,\n",
       " 'G058': 319,\n",
       " 'S729': 320,\n",
       " 'B439': 321,\n",
       " 'C34': 322,\n",
       " 'J42': 323,\n",
       " 'I211': 324,\n",
       " 'K593': 325,\n",
       " 'D71': 326,\n",
       " 'B207': 327,\n",
       " 'I652': 328}"
      ]
     },
     "execution_count": 35,
     "metadata": {},
     "output_type": "execute_result"
    }
   ],
   "source": [
    "dictToReplace"
   ]
  },
  {
   "cell_type": "code",
   "execution_count": 36,
   "id": "bizarre-tower",
   "metadata": {},
   "outputs": [],
   "source": [
    "data['CD_CID'] = data['CD_CID'].replace(dictToReplace)"
   ]
  },
  {
   "cell_type": "markdown",
   "id": "developmental-turner",
   "metadata": {},
   "source": [
    "#### DS_ESPECIALID_SAI"
   ]
  },
  {
   "cell_type": "code",
   "execution_count": 37,
   "id": "altered-indonesia",
   "metadata": {},
   "outputs": [
    {
     "data": {
      "text/plain": [
       "CLINICA MEDICA                    402\n",
       "NEFROLOGIA                        182\n",
       "PNEUMOLOGIA                       131\n",
       "INFECTOLOGIA                      129\n",
       "CARDIOLOGIA                       100\n",
       "NEUROLOGIA                         75\n",
       "MEDICINA INTENSIVA                 50\n",
       "ONCOLOGIA CLINICA                  47\n",
       "CIRURGIA GERAL                     34\n",
       "ORTOPEDIA E TRAUMATOLOGIA          25\n",
       "GERIATRIA                          25\n",
       "UROLOGIA                           23\n",
       "CIRURGIA DO APARELHO DIGESTIVO     22\n",
       "GASTROENTEROLOGIA                  19\n",
       "CIRURGIA CARDIOVASCULAR            15\n",
       "PSIQUIATRIA                         7\n",
       "COLOPROCTOLOGIA                     6\n",
       "CIRURGIA TORACICA                   6\n",
       "HEMATOLOGIA E HEMOTERAPIA           6\n",
       "GINECOLOGIA E OBSTETRICIA           5\n",
       "NEUROCIRURGIA                       4\n",
       "OTORRINOLARINGOLOGIA                3\n",
       "CIRURGIA ONCOLOGICA                 2\n",
       "CIRURGIA VASCULAR                   2\n",
       "MEDICINA DE EMERGENCIA              2\n",
       "CIRURGIA DE CABEÇA E PESCOÇO        1\n",
       "ENDOCRINOLOGIA E METABOLOGIA        1\n",
       "MEDICINA FAMILIA E COMUNIDADE       1\n",
       "REUMATOLOGIA                        1\n",
       "CIRURGIA DA MÃO                     1\n",
       "ENDOSCOPIA                          1\n",
       "Name: DS_ESPECIALID_SAI, dtype: int64"
      ]
     },
     "execution_count": 37,
     "metadata": {},
     "output_type": "execute_result"
    }
   ],
   "source": [
    "data['DS_ESPECIALID_SAI'].value_counts()"
   ]
  },
  {
   "cell_type": "code",
   "execution_count": 38,
   "id": "british-bunny",
   "metadata": {},
   "outputs": [],
   "source": [
    "keys = data['DS_ESPECIALID_SAI'].value_counts().keys().tolist()"
   ]
  },
  {
   "cell_type": "code",
   "execution_count": 39,
   "id": "interior-mailing",
   "metadata": {},
   "outputs": [],
   "source": [
    "dictToReplace = __getDictToReplace(keys)"
   ]
  },
  {
   "cell_type": "code",
   "execution_count": 40,
   "id": "alpha-dutch",
   "metadata": {},
   "outputs": [
    {
     "data": {
      "text/plain": [
       "{'CLINICA MEDICA': 1,\n",
       " 'NEFROLOGIA': 2,\n",
       " 'PNEUMOLOGIA': 3,\n",
       " 'INFECTOLOGIA': 4,\n",
       " 'CARDIOLOGIA': 5,\n",
       " 'NEUROLOGIA': 6,\n",
       " 'MEDICINA INTENSIVA': 7,\n",
       " 'ONCOLOGIA CLINICA': 8,\n",
       " 'CIRURGIA GERAL': 9,\n",
       " 'ORTOPEDIA E TRAUMATOLOGIA': 10,\n",
       " 'GERIATRIA': 11,\n",
       " 'UROLOGIA': 12,\n",
       " 'CIRURGIA DO APARELHO DIGESTIVO': 13,\n",
       " 'GASTROENTEROLOGIA': 14,\n",
       " 'CIRURGIA CARDIOVASCULAR': 15,\n",
       " 'PSIQUIATRIA': 16,\n",
       " 'COLOPROCTOLOGIA': 17,\n",
       " 'CIRURGIA TORACICA': 18,\n",
       " 'HEMATOLOGIA E HEMOTERAPIA': 19,\n",
       " 'GINECOLOGIA E OBSTETRICIA': 20,\n",
       " 'NEUROCIRURGIA': 21,\n",
       " 'OTORRINOLARINGOLOGIA': 22,\n",
       " 'CIRURGIA ONCOLOGICA': 23,\n",
       " 'CIRURGIA VASCULAR': 24,\n",
       " 'MEDICINA DE EMERGENCIA': 25,\n",
       " 'CIRURGIA DE CABEÇA E PESCOÇO': 26,\n",
       " 'ENDOCRINOLOGIA E METABOLOGIA': 27,\n",
       " 'MEDICINA FAMILIA E COMUNIDADE': 28,\n",
       " 'REUMATOLOGIA': 29,\n",
       " 'CIRURGIA DA MÃO': 30,\n",
       " 'ENDOSCOPIA': 31}"
      ]
     },
     "execution_count": 40,
     "metadata": {},
     "output_type": "execute_result"
    }
   ],
   "source": [
    "dictToReplace"
   ]
  },
  {
   "cell_type": "code",
   "execution_count": 41,
   "id": "compact-recruitment",
   "metadata": {},
   "outputs": [],
   "source": [
    "data['DS_ESPECIALID_SAI'] = data['DS_ESPECIALID_SAI'].replace(dictToReplace)"
   ]
  },
  {
   "cell_type": "markdown",
   "id": "competitive-floor",
   "metadata": {},
   "source": [
    "#### REINTER_30D"
   ]
  },
  {
   "cell_type": "code",
   "execution_count": 42,
   "id": "noble-springer",
   "metadata": {},
   "outputs": [
    {
     "data": {
      "text/plain": [
       "NÃO    1204\n",
       "SIM     124\n",
       "Name: REINTER_30D, dtype: int64"
      ]
     },
     "execution_count": 42,
     "metadata": {},
     "output_type": "execute_result"
    }
   ],
   "source": [
    "data['REINTER_30D'].value_counts()"
   ]
  },
  {
   "cell_type": "code",
   "execution_count": 43,
   "id": "established-killer",
   "metadata": {},
   "outputs": [],
   "source": [
    "data['REINTER_30D'] = data['REINTER_30D'].replace({'SIM': 1, 'NÃO': 0})"
   ]
  },
  {
   "cell_type": "markdown",
   "id": "productive-backup",
   "metadata": {},
   "source": [
    "#### CARATER_ATENDIMENTO"
   ]
  },
  {
   "cell_type": "code",
   "execution_count": 44,
   "id": "completed-holocaust",
   "metadata": {},
   "outputs": [
    {
     "data": {
      "text/plain": [
       "URGÊNCIA    1008\n",
       "ELETIVO      320\n",
       "Name: CARATER_ATENDIMENTO, dtype: int64"
      ]
     },
     "execution_count": 44,
     "metadata": {},
     "output_type": "execute_result"
    }
   ],
   "source": [
    "data['CARATER_ATENDIMENTO'].value_counts()"
   ]
  },
  {
   "cell_type": "code",
   "execution_count": 45,
   "id": "pending-peter",
   "metadata": {},
   "outputs": [],
   "source": [
    "data['CARATER_ATENDIMENTO'] = data['CARATER_ATENDIMENTO'].replace({'URGÊNCIA': 1, 'ELETIVO': 0})"
   ]
  },
  {
   "cell_type": "markdown",
   "id": "guided-tribune",
   "metadata": {},
   "source": [
    "#### EMERG_SERVICO"
   ]
  },
  {
   "cell_type": "code",
   "execution_count": 46,
   "id": "plain-tunnel",
   "metadata": {},
   "outputs": [
    {
     "data": {
      "text/plain": [
       "PRONTOPUC        702\n",
       "NÃO INFORMADO    320\n",
       "PRONTOSUS        295\n",
       "TRAUMATO          11\n",
       "Name: EMERG_SERVICO, dtype: int64"
      ]
     },
     "execution_count": 46,
     "metadata": {},
     "output_type": "execute_result"
    }
   ],
   "source": [
    "data['EMERG_SERVICO'].value_counts()"
   ]
  },
  {
   "cell_type": "code",
   "execution_count": 47,
   "id": "electric-hampton",
   "metadata": {},
   "outputs": [],
   "source": [
    "keys = data['EMERG_SERVICO'].value_counts().keys().tolist()"
   ]
  },
  {
   "cell_type": "code",
   "execution_count": 48,
   "id": "alternative-equality",
   "metadata": {},
   "outputs": [],
   "source": [
    "dictToReplace = __getDictToReplace(keys)"
   ]
  },
  {
   "cell_type": "code",
   "execution_count": 49,
   "id": "bronze-holmes",
   "metadata": {},
   "outputs": [
    {
     "data": {
      "text/plain": [
       "{'PRONTOPUC': 1, 'NÃO INFORMADO': 2, 'PRONTOSUS': 3, 'TRAUMATO': 4}"
      ]
     },
     "execution_count": 49,
     "metadata": {},
     "output_type": "execute_result"
    }
   ],
   "source": [
    "dictToReplace"
   ]
  },
  {
   "cell_type": "code",
   "execution_count": 50,
   "id": "appropriate-supplier",
   "metadata": {},
   "outputs": [],
   "source": [
    "data['EMERG_SERVICO'] = data['EMERG_SERVICO'].replace(dictToReplace)"
   ]
  },
  {
   "cell_type": "markdown",
   "id": "completed-delivery",
   "metadata": {},
   "source": [
    "#### EMERG_RISCO"
   ]
  },
  {
   "cell_type": "code",
   "execution_count": 51,
   "id": "established-animation",
   "metadata": {},
   "outputs": [
    {
     "data": {
      "text/plain": [
       "LARANJA          428\n",
       "AMARELO          374\n",
       "NÃO INFORMADO    330\n",
       "VERDE            116\n",
       "VERMELHO          78\n",
       "AZUL               2\n",
       "Name: EMERG_RISCO, dtype: int64"
      ]
     },
     "execution_count": 51,
     "metadata": {},
     "output_type": "execute_result"
    }
   ],
   "source": [
    "data['EMERG_RISCO'].value_counts()"
   ]
  },
  {
   "cell_type": "code",
   "execution_count": 52,
   "id": "reverse-lotus",
   "metadata": {},
   "outputs": [],
   "source": [
    "keys = data['EMERG_RISCO'].value_counts().keys().tolist()"
   ]
  },
  {
   "cell_type": "code",
   "execution_count": 53,
   "id": "aquatic-freight",
   "metadata": {},
   "outputs": [],
   "source": [
    "dictToReplace = __getDictToReplace(keys)"
   ]
  },
  {
   "cell_type": "code",
   "execution_count": 54,
   "id": "foreign-canada",
   "metadata": {},
   "outputs": [
    {
     "data": {
      "text/plain": [
       "{'LARANJA': 1,\n",
       " 'AMARELO': 2,\n",
       " 'NÃO INFORMADO': 3,\n",
       " 'VERDE': 4,\n",
       " 'VERMELHO': 5,\n",
       " 'AZUL': 6}"
      ]
     },
     "execution_count": 54,
     "metadata": {},
     "output_type": "execute_result"
    }
   ],
   "source": [
    "dictToReplace"
   ]
  },
  {
   "cell_type": "code",
   "execution_count": 55,
   "id": "adapted-irrigation",
   "metadata": {},
   "outputs": [],
   "source": [
    "data['EMERG_RISCO'] = data['EMERG_RISCO'].replace(dictToReplace)"
   ]
  },
  {
   "cell_type": "markdown",
   "id": "major-visibility",
   "metadata": {},
   "source": [
    "#### CID_DIAG_ATEND"
   ]
  },
  {
   "cell_type": "code",
   "execution_count": 56,
   "id": "black-highway",
   "metadata": {},
   "outputs": [
    {
     "data": {
      "text/plain": [
       "B342    428\n",
       "B349    189\n",
       "A419     75\n",
       "U071     52\n",
       "J960     20\n",
       "       ... \n",
       "D649      1\n",
       "A879      1\n",
       "F430      1\n",
       "C460      1\n",
       "R520      1\n",
       "Name: CID_DIAG_ATEND, Length: 291, dtype: int64"
      ]
     },
     "execution_count": 56,
     "metadata": {},
     "output_type": "execute_result"
    }
   ],
   "source": [
    "data['CID_DIAG_ATEND'].value_counts()"
   ]
  },
  {
   "cell_type": "code",
   "execution_count": 57,
   "id": "interim-voltage",
   "metadata": {},
   "outputs": [],
   "source": [
    "keys = data['CID_DIAG_ATEND'].value_counts().keys().tolist()"
   ]
  },
  {
   "cell_type": "code",
   "execution_count": 58,
   "id": "incident-newton",
   "metadata": {},
   "outputs": [],
   "source": [
    "dictToReplace = __getDictToReplace(keys)"
   ]
  },
  {
   "cell_type": "code",
   "execution_count": 59,
   "id": "lesser-greensboro",
   "metadata": {},
   "outputs": [
    {
     "data": {
      "text/plain": [
       "{'B342': 1,\n",
       " 'B349': 2,\n",
       " 'A419': 3,\n",
       " 'U071': 4,\n",
       " 'J960': 5,\n",
       " 'I200': 6,\n",
       " 'A418': 7,\n",
       " 'I64': 8,\n",
       " 'K359': 9,\n",
       " 'J180': 10,\n",
       " 'I500': 11,\n",
       " 'N180': 12,\n",
       " 'I219': 13,\n",
       " 'R579': 14,\n",
       " 'J159': 15,\n",
       " 'B972': 16,\n",
       " 'N390': 17,\n",
       " 'A499': 18,\n",
       " 'K810': 19,\n",
       " 'R100': 20,\n",
       " 'R060': 21,\n",
       " 'I269': 22,\n",
       " 'I743': 23,\n",
       " 'G409': 24,\n",
       " 'I48': 25,\n",
       " 'A415': 26,\n",
       " 'C509': 27,\n",
       " 'N189': 28,\n",
       " 'I639': 29,\n",
       " 'J189': 30,\n",
       " 'S828': 31,\n",
       " 'K859': 32,\n",
       " 'C61': 33,\n",
       " 'C189': 34,\n",
       " 'K921': 35,\n",
       " 'J15': 36,\n",
       " 'C349': 37,\n",
       " 'M169': 38,\n",
       " 'I50': 39,\n",
       " 'N17': 40,\n",
       " 'I509': 41,\n",
       " 'J90': 42,\n",
       " 'N200': 43,\n",
       " 'J129': 44,\n",
       " 'J81': 45,\n",
       " 'R571': 46,\n",
       " 'J969': 47,\n",
       " 'I255': 48,\n",
       " 'J80': 49,\n",
       " 'K920': 50,\n",
       " 'J158': 51,\n",
       " 'I442': 52,\n",
       " 'G402': 53,\n",
       " 'R578': 54,\n",
       " 'C679': 55,\n",
       " 'J18': 56,\n",
       " 'K57': 57,\n",
       " 'G049': 58,\n",
       " 'N029': 59,\n",
       " 'I739': 60,\n",
       " 'C20': 61,\n",
       " 'F05': 62,\n",
       " 'I330': 63,\n",
       " 'D638': 64,\n",
       " 'K562': 65,\n",
       " 'K802': 66,\n",
       " 'S720': 67,\n",
       " 'C629': 68,\n",
       " 'E141': 69,\n",
       " 'D376': 70,\n",
       " 'F609': 71,\n",
       " 'I21': 72,\n",
       " 'C538': 73,\n",
       " 'C793': 74,\n",
       " 'K922': 75,\n",
       " 'K850': 76,\n",
       " 'I210': 77,\n",
       " 'A09': 78,\n",
       " 'N179': 79,\n",
       " 'R074': 80,\n",
       " 'R092': 81,\n",
       " 'I209': 82,\n",
       " 'R51': 83,\n",
       " 'B338': 84,\n",
       " 'N201': 85,\n",
       " 'A498': 86,\n",
       " 'A488': 87,\n",
       " 'C64': 88,\n",
       " 'U049': 89,\n",
       " 'T813': 90,\n",
       " 'C80': 91,\n",
       " 'C348': 92,\n",
       " 'I26': 93,\n",
       " 'I802': 94,\n",
       " 'M862': 95,\n",
       " 'I20': 96,\n",
       " 'D377': 97,\n",
       " 'G952': 98,\n",
       " 'D619': 99,\n",
       " 'C259': 100,\n",
       " 'J188': 101,\n",
       " 'N39': 102,\n",
       " 'D320': 103,\n",
       " 'G458': 104,\n",
       " 'J219': 105,\n",
       " 'N412': 106,\n",
       " 'M662': 107,\n",
       " 'L089': 108,\n",
       " 'G629': 109,\n",
       " 'S069': 110,\n",
       " 'M542': 111,\n",
       " 'J690': 112,\n",
       " 'I738': 113,\n",
       " 'K593': 114,\n",
       " 'F322': 115,\n",
       " 'Z988': 116,\n",
       " 'A154': 117,\n",
       " 'N165': 118,\n",
       " 'C967': 119,\n",
       " 'Q282': 120,\n",
       " 'C18': 121,\n",
       " 'M009': 122,\n",
       " 'N20': 123,\n",
       " 'G35': 124,\n",
       " 'M199': 125,\n",
       " 'C56': 126,\n",
       " 'C16': 127,\n",
       " 'C901': 128,\n",
       " 'E871': 129,\n",
       " 'N18': 130,\n",
       " 'I441': 131,\n",
       " 'A698': 132,\n",
       " 'M490': 133,\n",
       " 'R34': 134,\n",
       " 'K750': 135,\n",
       " 'K808': 136,\n",
       " 'R55': 137,\n",
       " 'I211': 138,\n",
       " 'K36': 139,\n",
       " 'C719': 140,\n",
       " 'C248': 141,\n",
       " 'C900': 142,\n",
       " 'C798': 143,\n",
       " 'K610': 144,\n",
       " 'I635': 145,\n",
       " 'J948': 146,\n",
       " 'C844': 147,\n",
       " 'D481': 148,\n",
       " 'C169': 149,\n",
       " 'L023': 150,\n",
       " 'K628': 151,\n",
       " 'F02': 152,\n",
       " 'F319': 153,\n",
       " 'C435': 154,\n",
       " 'I714': 155,\n",
       " 'R001': 156,\n",
       " 'I618': 157,\n",
       " 'I428': 158,\n",
       " 'S423': 159,\n",
       " 'F69': 160,\n",
       " 'K572': 161,\n",
       " 'J12': 162,\n",
       " 'G408': 163,\n",
       " 'D259': 164,\n",
       " 'K858': 165,\n",
       " 'C504': 166,\n",
       " 'C819': 167,\n",
       " 'B24': 168,\n",
       " 'S721': 169,\n",
       " 'S06': 170,\n",
       " 'I501': 171,\n",
       " 'T782': 172,\n",
       " 'K509': 173,\n",
       " 'K659': 174,\n",
       " 'I715': 175,\n",
       " 'C19': 176,\n",
       " 'C162': 177,\n",
       " 'K590': 178,\n",
       " 'I850': 179,\n",
       " 'C950': 180,\n",
       " 'D381': 181,\n",
       " 'R220': 182,\n",
       " 'A490': 183,\n",
       " 'G934': 184,\n",
       " 'S729': 185,\n",
       " 'G058': 186,\n",
       " 'I158': 187,\n",
       " 'A199': 188,\n",
       " 'N40': 189,\n",
       " 'E111': 190,\n",
       " 'K818': 191,\n",
       " 'C929': 192,\n",
       " 'R568': 193,\n",
       " 'K929': 194,\n",
       " 'K566': 195,\n",
       " 'I612': 196,\n",
       " 'C220': 197,\n",
       " 'J152': 198,\n",
       " 'J440': 199,\n",
       " 'A183': 200,\n",
       " 'E105': 201,\n",
       " 'N188': 202,\n",
       " 'R33': 203,\n",
       " 'B41': 204,\n",
       " 'J128': 205,\n",
       " 'B690': 206,\n",
       " 'C229': 207,\n",
       " 'C830': 208,\n",
       " 'F29': 209,\n",
       " 'C787': 210,\n",
       " 'R18': 211,\n",
       " 'C889': 212,\n",
       " 'J930': 213,\n",
       " 'K40': 214,\n",
       " 'I832': 215,\n",
       " 'C508': 216,\n",
       " 'F059': 217,\n",
       " 'X640': 218,\n",
       " 'E875': 219,\n",
       " 'I959': 220,\n",
       " 'G40': 221,\n",
       " 'N288': 222,\n",
       " 'R739': 223,\n",
       " 'B022': 224,\n",
       " 'J110': 225,\n",
       " 'G700': 226,\n",
       " 'C340': 227,\n",
       " 'C343': 228,\n",
       " 'G403': 229,\n",
       " 'I260': 230,\n",
       " 'N511': 231,\n",
       " 'I472': 232,\n",
       " 'G959': 233,\n",
       " 'A483': 234,\n",
       " 'B199': 235,\n",
       " 'K81': 236,\n",
       " 'G932': 237,\n",
       " 'Z940': 238,\n",
       " 'C676': 239,\n",
       " 'J441': 240,\n",
       " 'J00': 241,\n",
       " 'N130': 242,\n",
       " 'I24': 243,\n",
       " 'B348': 244,\n",
       " 'R529': 245,\n",
       " 'C329': 246,\n",
       " 'D110': 247,\n",
       " 'M993': 248,\n",
       " 'M966': 249,\n",
       " 'C25': 250,\n",
       " 'N359': 251,\n",
       " 'L129': 252,\n",
       " 'B004': 253,\n",
       " 'C79': 254,\n",
       " 'I652': 255,\n",
       " 'J069': 256,\n",
       " 'R521': 257,\n",
       " 'C159': 258,\n",
       " 'C187': 259,\n",
       " 'F312': 260,\n",
       " 'B377': 261,\n",
       " 'K804': 262,\n",
       " 'K639': 263,\n",
       " 'F209': 264,\n",
       " 'R52': 265,\n",
       " 'N19': 266,\n",
       " 'C920': 267,\n",
       " 'J22': 268,\n",
       " 'I029': 269,\n",
       " 'S722': 270,\n",
       " 'C10': 271,\n",
       " 'J988': 272,\n",
       " 'B439': 273,\n",
       " 'K830': 274,\n",
       " 'L038': 275,\n",
       " 'B34': 276,\n",
       " 'M629': 277,\n",
       " 'G373': 278,\n",
       " 'G009': 279,\n",
       " 'G45': 280,\n",
       " 'B340': 281,\n",
       " 'D440': 282,\n",
       " 'I710': 283,\n",
       " 'G822': 284,\n",
       " 'E112': 285,\n",
       " 'B344': 286,\n",
       " 'D649': 287,\n",
       " 'A879': 288,\n",
       " 'F430': 289,\n",
       " 'C460': 290,\n",
       " 'R520': 291}"
      ]
     },
     "execution_count": 59,
     "metadata": {},
     "output_type": "execute_result"
    }
   ],
   "source": [
    "dictToReplace"
   ]
  },
  {
   "cell_type": "code",
   "execution_count": 60,
   "id": "inappropriate-mitchell",
   "metadata": {},
   "outputs": [],
   "source": [
    "data['CID_DIAG_ATEND'] = data['CID_DIAG_ATEND'].replace(dictToReplace)"
   ]
  },
  {
   "cell_type": "markdown",
   "id": "distinguished-drive",
   "metadata": {},
   "source": [
    "#### CID_CAPITULO_DIAG"
   ]
  },
  {
   "cell_type": "code",
   "execution_count": 61,
   "id": "statistical-oriental",
   "metadata": {},
   "outputs": [
    {
     "data": {
      "text/plain": [
       "Infecciosas e parasitárias                                                 755\n",
       "Aparelho circulatório                                                      121\n",
       "Aparelho respiratório                                                       84\n",
       "Neoplasias (tumores)                                                        78\n",
       "Aparelho digestivo                                                          61\n",
       "Códigos para propósitos especiais                                           54\n",
       "Sintomas, sinais e achados anormais de exames clínicos e de laboratório     45\n",
       "Aparelho geniturinário                                                      45\n",
       "Sistema nervoso                                                             26\n",
       "Lesões, envenenamento e algumas outras conseqüências de causas externas     15\n",
       "Transtornos mentais e comportamentais                                       13\n",
       "Sistema osteomuscular e do tecido conjuntivo                                12\n",
       "Endócrinas, nutricionais e metabólicas                                       7\n",
       "Sangue e órgãos hematopoéticos e transtornos imunitários                     4\n",
       "Pele e do tecido subcutâneo                                                  4\n",
       "Fatores que influenciam o estado de saúde                                    2\n",
       "Malformações congênitas, deformidades e anomalias cromossômicas              1\n",
       "Causas externas de morbidade e de mortalidade                                1\n",
       "Name: CID_CAPITULO_DIAG, dtype: int64"
      ]
     },
     "execution_count": 61,
     "metadata": {},
     "output_type": "execute_result"
    }
   ],
   "source": [
    "data['CID_CAPITULO_DIAG'].value_counts()"
   ]
  },
  {
   "cell_type": "code",
   "execution_count": 62,
   "id": "numerous-arthur",
   "metadata": {},
   "outputs": [],
   "source": [
    "keys = data['CID_CAPITULO_DIAG'].value_counts().keys().tolist()"
   ]
  },
  {
   "cell_type": "code",
   "execution_count": 63,
   "id": "regulation-update",
   "metadata": {},
   "outputs": [],
   "source": [
    "dictToReplace = __getDictToReplace(keys)"
   ]
  },
  {
   "cell_type": "code",
   "execution_count": 64,
   "id": "lesser-corruption",
   "metadata": {},
   "outputs": [
    {
     "data": {
      "text/plain": [
       "{'Infecciosas e parasitárias': 1,\n",
       " 'Aparelho circulatório': 2,\n",
       " 'Aparelho respiratório': 3,\n",
       " 'Neoplasias (tumores)': 4,\n",
       " 'Aparelho digestivo': 5,\n",
       " 'Códigos para propósitos especiais': 6,\n",
       " 'Sintomas, sinais e achados anormais de exames clínicos e de laboratório': 7,\n",
       " 'Aparelho geniturinário': 8,\n",
       " 'Sistema nervoso': 9,\n",
       " 'Lesões, envenenamento e algumas outras conseqüências de causas externas': 10,\n",
       " 'Transtornos mentais e comportamentais': 11,\n",
       " 'Sistema osteomuscular e do tecido conjuntivo': 12,\n",
       " 'Endócrinas, nutricionais e metabólicas': 13,\n",
       " 'Sangue e órgãos hematopoéticos e transtornos imunitários': 14,\n",
       " 'Pele e do tecido subcutâneo': 15,\n",
       " 'Fatores que influenciam o estado de saúde': 16,\n",
       " 'Malformações congênitas, deformidades e anomalias cromossômicas': 17,\n",
       " 'Causas externas de morbidade e de mortalidade': 18}"
      ]
     },
     "execution_count": 64,
     "metadata": {},
     "output_type": "execute_result"
    }
   ],
   "source": [
    "dictToReplace"
   ]
  },
  {
   "cell_type": "code",
   "execution_count": 65,
   "id": "devoted-duplicate",
   "metadata": {},
   "outputs": [],
   "source": [
    "data['CID_CAPITULO_DIAG'] = data['CID_CAPITULO_DIAG'].replace(dictToReplace)"
   ]
  },
  {
   "cell_type": "markdown",
   "id": "abroad-juvenile",
   "metadata": {},
   "source": [
    "#### BLOCO_CENTRAL_ST"
   ]
  },
  {
   "cell_type": "code",
   "execution_count": 66,
   "id": "sustained-montreal",
   "metadata": {},
   "outputs": [
    {
     "data": {
      "text/plain": [
       "NÃO    1053\n",
       "SIM     275\n",
       "Name: BLOCO_CENTRAL_ST, dtype: int64"
      ]
     },
     "execution_count": 66,
     "metadata": {},
     "output_type": "execute_result"
    }
   ],
   "source": [
    "data['BLOCO_CENTRAL_ST'].value_counts()"
   ]
  },
  {
   "cell_type": "code",
   "execution_count": 67,
   "id": "smart-church",
   "metadata": {},
   "outputs": [],
   "source": [
    "data['BLOCO_CENTRAL_ST'] = data['BLOCO_CENTRAL_ST'].replace({'SIM': 1, 'NÃO': 0})"
   ]
  },
  {
   "cell_type": "markdown",
   "id": "enormous-testimony",
   "metadata": {},
   "source": [
    "#### HEMODINAMICA_ST"
   ]
  },
  {
   "cell_type": "code",
   "execution_count": 68,
   "id": "supreme-yukon",
   "metadata": {},
   "outputs": [
    {
     "data": {
      "text/plain": [
       "NÃO    1250\n",
       "SIM      78\n",
       "Name: HEMODINAMICA_ST, dtype: int64"
      ]
     },
     "execution_count": 68,
     "metadata": {},
     "output_type": "execute_result"
    }
   ],
   "source": [
    "data['HEMODINAMICA_ST'].value_counts()"
   ]
  },
  {
   "cell_type": "code",
   "execution_count": 69,
   "id": "motivated-germany",
   "metadata": {},
   "outputs": [],
   "source": [
    "data['HEMODINAMICA_ST'] = data['HEMODINAMICA_ST'].replace({'SIM': 1, 'NÃO': 0})"
   ]
  },
  {
   "cell_type": "markdown",
   "id": "royal-statement",
   "metadata": {},
   "source": [
    "#### EX_LAB_ST"
   ]
  },
  {
   "cell_type": "code",
   "execution_count": 70,
   "id": "smaller-agent",
   "metadata": {},
   "outputs": [
    {
     "data": {
      "text/plain": [
       "SIM    1295\n",
       "NÃO      33\n",
       "Name: EX_LAB_ST, dtype: int64"
      ]
     },
     "execution_count": 70,
     "metadata": {},
     "output_type": "execute_result"
    }
   ],
   "source": [
    "data['EX_LAB_ST'].value_counts()"
   ]
  },
  {
   "cell_type": "code",
   "execution_count": 71,
   "id": "flexible-desert",
   "metadata": {},
   "outputs": [],
   "source": [
    "data['EX_LAB_ST'] = data['EX_LAB_ST'].replace({'SIM': 1, 'NÃO': 0})"
   ]
  },
  {
   "cell_type": "markdown",
   "id": "silver-fusion",
   "metadata": {},
   "source": [
    "#### EX_IMG_ST"
   ]
  },
  {
   "cell_type": "code",
   "execution_count": 72,
   "id": "civilian-detroit",
   "metadata": {},
   "outputs": [
    {
     "data": {
      "text/plain": [
       "SIM    1048\n",
       "NÃO     280\n",
       "Name: EX_IMG_ST, dtype: int64"
      ]
     },
     "execution_count": 72,
     "metadata": {},
     "output_type": "execute_result"
    }
   ],
   "source": [
    "data['EX_IMG_ST'].value_counts()"
   ]
  },
  {
   "cell_type": "code",
   "execution_count": 73,
   "id": "statutory-ethics",
   "metadata": {},
   "outputs": [],
   "source": [
    "data['EX_IMG_ST'] = data['EX_IMG_ST'].replace({'SIM': 1, 'NÃO': 0})"
   ]
  },
  {
   "cell_type": "markdown",
   "id": "satellite-greek",
   "metadata": {},
   "source": [
    "#### EX_OUTROS_ST"
   ]
  },
  {
   "cell_type": "code",
   "execution_count": 74,
   "id": "stuffed-bleeding",
   "metadata": {},
   "outputs": [
    {
     "data": {
      "text/plain": [
       "NÃO    892\n",
       "SIM    436\n",
       "Name: EX_OUTROS_ST, dtype: int64"
      ]
     },
     "execution_count": 74,
     "metadata": {},
     "output_type": "execute_result"
    }
   ],
   "source": [
    "data['EX_OUTROS_ST'].value_counts()"
   ]
  },
  {
   "cell_type": "code",
   "execution_count": 75,
   "id": "disabled-revolution",
   "metadata": {},
   "outputs": [],
   "source": [
    "data['EX_OUTROS_ST'] = data['EX_OUTROS_ST'].replace({'SIM': 1, 'NÃO': 0})"
   ]
  },
  {
   "cell_type": "markdown",
   "id": "interstate-buffer",
   "metadata": {},
   "source": [
    "#### TIPO_REGISTRO"
   ]
  },
  {
   "cell_type": "code",
   "execution_count": 76,
   "id": "ahead-samba",
   "metadata": {},
   "outputs": [],
   "source": [
    "data['TIPO_REGISTRO'] = data['TIPO_REGISTRO'].fillna('NI')"
   ]
  },
  {
   "cell_type": "code",
   "execution_count": 77,
   "id": "comparative-south",
   "metadata": {},
   "outputs": [
    {
     "data": {
      "text/plain": [
       "A     1309\n",
       "M       14\n",
       "NI       5\n",
       "Name: TIPO_REGISTRO, dtype: int64"
      ]
     },
     "execution_count": 77,
     "metadata": {},
     "output_type": "execute_result"
    }
   ],
   "source": [
    "data['TIPO_REGISTRO'].value_counts()"
   ]
  },
  {
   "cell_type": "code",
   "execution_count": 78,
   "id": "bigger-seller",
   "metadata": {},
   "outputs": [],
   "source": [
    "data['TIPO_REGISTRO'] = data['TIPO_REGISTRO'].replace({'A': 1, 'M': 0, 'NI': 2})"
   ]
  },
  {
   "cell_type": "markdown",
   "id": "revised-primary",
   "metadata": {},
   "source": [
    "#### [REMOVED] SN_IFI_OV_SINCICIAL_RESP"
   ]
  },
  {
   "cell_type": "code",
   "execution_count": 79,
   "id": "animated-vegetarian",
   "metadata": {},
   "outputs": [
    {
     "data": {
      "text/plain": [
       "N    1323\n",
       "Name: SN_IFI_OV_SINCICIAL_RESP, dtype: int64"
      ]
     },
     "execution_count": 79,
     "metadata": {},
     "output_type": "execute_result"
    }
   ],
   "source": [
    "data['SN_IFI_OV_SINCICIAL_RESP'].value_counts() #DROP"
   ]
  },
  {
   "cell_type": "code",
   "execution_count": 80,
   "id": "regular-event",
   "metadata": {},
   "outputs": [],
   "source": [
    "data = data.drop(['SN_IFI_OV_SINCICIAL_RESP'], axis=1)"
   ]
  },
  {
   "cell_type": "markdown",
   "id": "sound-aging",
   "metadata": {},
   "source": [
    "#### [REMOVED] SN_IFI_OV_PARAINFLU3"
   ]
  },
  {
   "cell_type": "code",
   "execution_count": 81,
   "id": "removed-fishing",
   "metadata": {},
   "outputs": [
    {
     "data": {
      "text/plain": [
       "N    1323\n",
       "Name: SN_IFI_OV_PARAINFLU3, dtype: int64"
      ]
     },
     "execution_count": 81,
     "metadata": {},
     "output_type": "execute_result"
    }
   ],
   "source": [
    "data['SN_IFI_OV_PARAINFLU3'].value_counts() #DROP"
   ]
  },
  {
   "cell_type": "code",
   "execution_count": 82,
   "id": "configured-progress",
   "metadata": {},
   "outputs": [],
   "source": [
    "data = data.drop(['SN_IFI_OV_PARAINFLU3'], axis=1)"
   ]
  },
  {
   "cell_type": "markdown",
   "id": "embedded-jordan",
   "metadata": {},
   "source": [
    "#### [REMOVED] SN_IFI_OV_PARAINFLU2"
   ]
  },
  {
   "cell_type": "code",
   "execution_count": 83,
   "id": "engaging-genius",
   "metadata": {},
   "outputs": [
    {
     "data": {
      "text/plain": [
       "N    1323\n",
       "Name: SN_IFI_OV_PARAINFLU2, dtype: int64"
      ]
     },
     "execution_count": 83,
     "metadata": {},
     "output_type": "execute_result"
    }
   ],
   "source": [
    "data['SN_IFI_OV_PARAINFLU2'].value_counts() #DROP"
   ]
  },
  {
   "cell_type": "code",
   "execution_count": 84,
   "id": "forward-tomato",
   "metadata": {},
   "outputs": [],
   "source": [
    "data = data.drop(['SN_IFI_OV_PARAINFLU2'], axis=1)"
   ]
  },
  {
   "cell_type": "markdown",
   "id": "multiple-tackle",
   "metadata": {},
   "source": [
    "#### [REMOVED] SN_IFI_OV_PARAINFLU1"
   ]
  },
  {
   "cell_type": "code",
   "execution_count": 85,
   "id": "addressed-interface",
   "metadata": {},
   "outputs": [
    {
     "data": {
      "text/plain": [
       "N    1323\n",
       "Name: SN_IFI_OV_PARAINFLU1, dtype: int64"
      ]
     },
     "execution_count": 85,
     "metadata": {},
     "output_type": "execute_result"
    }
   ],
   "source": [
    "data['SN_IFI_OV_PARAINFLU1'].value_counts() #DROP"
   ]
  },
  {
   "cell_type": "code",
   "execution_count": 86,
   "id": "express-california",
   "metadata": {},
   "outputs": [],
   "source": [
    "data = data.drop(['SN_IFI_OV_PARAINFLU1'], axis=1)"
   ]
  },
  {
   "cell_type": "markdown",
   "id": "first-planner",
   "metadata": {},
   "source": [
    "#### [REMOVED] SN_IFI_OV_INFLUA"
   ]
  },
  {
   "cell_type": "code",
   "execution_count": 87,
   "id": "closed-times",
   "metadata": {},
   "outputs": [
    {
     "data": {
      "text/plain": [
       "N    1323\n",
       "Name: SN_IFI_OV_INFLUA, dtype: int64"
      ]
     },
     "execution_count": 87,
     "metadata": {},
     "output_type": "execute_result"
    }
   ],
   "source": [
    "data['SN_IFI_OV_INFLUA'].value_counts() #DROP"
   ]
  },
  {
   "cell_type": "code",
   "execution_count": 88,
   "id": "rental-spotlight",
   "metadata": {},
   "outputs": [],
   "source": [
    "data = data.drop(['SN_IFI_OV_INFLUA'], axis=1)"
   ]
  },
  {
   "cell_type": "markdown",
   "id": "brazilian-alliance",
   "metadata": {},
   "source": [
    "#### [REMOVED] SN_IFI_OV_INFLUB"
   ]
  },
  {
   "cell_type": "code",
   "execution_count": 89,
   "id": "secret-france",
   "metadata": {},
   "outputs": [
    {
     "data": {
      "text/plain": [
       "N    1323\n",
       "Name: SN_IFI_OV_INFLUB, dtype: int64"
      ]
     },
     "execution_count": 89,
     "metadata": {},
     "output_type": "execute_result"
    }
   ],
   "source": [
    "data['SN_IFI_OV_INFLUB'].value_counts() #DROP"
   ]
  },
  {
   "cell_type": "code",
   "execution_count": 90,
   "id": "cutting-leave",
   "metadata": {},
   "outputs": [],
   "source": [
    "data = data.drop(['SN_IFI_OV_INFLUB'], axis=1)"
   ]
  },
  {
   "cell_type": "markdown",
   "id": "black-straight",
   "metadata": {},
   "source": [
    "#### [REMOVED] SN_IFI_OV_ADENOVIRUS"
   ]
  },
  {
   "cell_type": "code",
   "execution_count": 91,
   "id": "opposite-bishop",
   "metadata": {},
   "outputs": [
    {
     "data": {
      "text/plain": [
       "N    1323\n",
       "Name: SN_IFI_OV_ADENOVIRUS, dtype: int64"
      ]
     },
     "execution_count": 91,
     "metadata": {},
     "output_type": "execute_result"
    }
   ],
   "source": [
    "data['SN_IFI_OV_ADENOVIRUS'].value_counts() #DROP"
   ]
  },
  {
   "cell_type": "code",
   "execution_count": 92,
   "id": "pleasant-elite",
   "metadata": {},
   "outputs": [],
   "source": [
    "data = data.drop(['SN_IFI_OV_ADENOVIRUS'], axis=1)"
   ]
  },
  {
   "cell_type": "markdown",
   "id": "hungarian-software",
   "metadata": {},
   "source": [
    "#### SN_CRIT_CONTATO_CASO_COVID"
   ]
  },
  {
   "cell_type": "code",
   "execution_count": 93,
   "id": "outstanding-transparency",
   "metadata": {},
   "outputs": [],
   "source": [
    "data['SN_CRIT_CONTATO_CASO_COVID'] = data['SN_CRIT_CONTATO_CASO_COVID'].fillna('NI')"
   ]
  },
  {
   "cell_type": "code",
   "execution_count": 94,
   "id": "electronic-subdivision",
   "metadata": {},
   "outputs": [
    {
     "data": {
      "text/plain": [
       "N     1319\n",
       "NI       5\n",
       "S        4\n",
       "Name: SN_CRIT_CONTATO_CASO_COVID, dtype: int64"
      ]
     },
     "execution_count": 94,
     "metadata": {},
     "output_type": "execute_result"
    }
   ],
   "source": [
    "data['SN_CRIT_CONTATO_CASO_COVID'].value_counts() "
   ]
  },
  {
   "cell_type": "code",
   "execution_count": 95,
   "id": "dietary-crystal",
   "metadata": {},
   "outputs": [],
   "source": [
    "data['SN_CRIT_CONTATO_CASO_COVID'] = data['SN_CRIT_CONTATO_CASO_COVID'].replace({'S': 1, 'N': 0, 'NI': 2})"
   ]
  },
  {
   "cell_type": "markdown",
   "id": "timely-healthcare",
   "metadata": {},
   "source": [
    "#### SN_CRIT_SRAG"
   ]
  },
  {
   "cell_type": "code",
   "execution_count": 96,
   "id": "complimentary-image",
   "metadata": {},
   "outputs": [],
   "source": [
    "data['SN_CRIT_SRAG'] = data['SN_CRIT_SRAG'].fillna('NI')"
   ]
  },
  {
   "cell_type": "code",
   "execution_count": 97,
   "id": "inside-cleaner",
   "metadata": {},
   "outputs": [
    {
     "data": {
      "text/plain": [
       "N     1292\n",
       "S       31\n",
       "NI       5\n",
       "Name: SN_CRIT_SRAG, dtype: int64"
      ]
     },
     "execution_count": 97,
     "metadata": {},
     "output_type": "execute_result"
    }
   ],
   "source": [
    "data['SN_CRIT_SRAG'].value_counts()"
   ]
  },
  {
   "cell_type": "code",
   "execution_count": 98,
   "id": "coupled-voltage",
   "metadata": {},
   "outputs": [],
   "source": [
    "data['SN_CRIT_SRAG'] = data['SN_CRIT_SRAG'].replace({'S': 1, 'N': 0, 'NI': 2})"
   ]
  },
  {
   "cell_type": "markdown",
   "id": "celtic-sewing",
   "metadata": {},
   "source": [
    "#### SN_CRIT_SINDROME_GRIPAL"
   ]
  },
  {
   "cell_type": "code",
   "execution_count": 99,
   "id": "hydraulic-coffee",
   "metadata": {},
   "outputs": [],
   "source": [
    "data['SN_CRIT_SINDROME_GRIPAL'] = data['SN_CRIT_SINDROME_GRIPAL'].fillna('NI')"
   ]
  },
  {
   "cell_type": "code",
   "execution_count": 100,
   "id": "transparent-education",
   "metadata": {},
   "outputs": [
    {
     "data": {
      "text/plain": [
       "N     1322\n",
       "NI       5\n",
       "S        1\n",
       "Name: SN_CRIT_SINDROME_GRIPAL, dtype: int64"
      ]
     },
     "execution_count": 100,
     "metadata": {},
     "output_type": "execute_result"
    }
   ],
   "source": [
    "data['SN_CRIT_SINDROME_GRIPAL'].value_counts()"
   ]
  },
  {
   "cell_type": "code",
   "execution_count": 101,
   "id": "signed-gather",
   "metadata": {},
   "outputs": [],
   "source": [
    "data['SN_CRIT_SINDROME_GRIPAL'] = data['SN_CRIT_SINDROME_GRIPAL'].replace({'S': 1, 'N': 0, 'NI': 2})"
   ]
  },
  {
   "cell_type": "markdown",
   "id": "amber-winner",
   "metadata": {},
   "source": [
    "#### SN_CRIT_OUTROS"
   ]
  },
  {
   "cell_type": "code",
   "execution_count": 102,
   "id": "respected-attention",
   "metadata": {},
   "outputs": [
    {
     "data": {
      "text/plain": [
       "N    1321\n",
       "S       2\n",
       "Name: SN_CRIT_OUTROS, dtype: int64"
      ]
     },
     "execution_count": 102,
     "metadata": {},
     "output_type": "execute_result"
    }
   ],
   "source": [
    "# Verificar\n",
    "data['SN_CRIT_OUTROS'].value_counts() #DROP"
   ]
  },
  {
   "cell_type": "code",
   "execution_count": 103,
   "id": "aggregate-recall",
   "metadata": {},
   "outputs": [],
   "source": [
    "data = data.drop(['SN_CRIT_OUTROS'], axis=1)"
   ]
  },
  {
   "cell_type": "markdown",
   "id": "pointed-genetics",
   "metadata": {},
   "source": [
    "#### ESTUDO_TP_EXPOSICAO"
   ]
  },
  {
   "cell_type": "code",
   "execution_count": 104,
   "id": "deluxe-daniel",
   "metadata": {},
   "outputs": [],
   "source": [
    "data['ESTUDO_TP_EXPOSICAO'] = data['ESTUDO_TP_EXPOSICAO'].fillna('NI')"
   ]
  },
  {
   "cell_type": "code",
   "execution_count": 105,
   "id": "nutritional-liberal",
   "metadata": {},
   "outputs": [
    {
     "data": {
      "text/plain": [
       "NI                                                       1054\n",
       "HOSPITALAR HSL                                            131\n",
       "DESCONHECIDO                                               98\n",
       "CONTATO COM SUSPEITO CONFIRMADO                            22\n",
       "PROFISSIONAL DE SAUDE - HSL                                 9\n",
       "INSTITUICAO DE LONGA PERMANENCIA                            6\n",
       "VIAGEM                                                      3\n",
       "HOSITALAR OU INSTITUICAO DE SAUDE                           2\n",
       "PROFISSIONAL DE SAUDE                                       1\n",
       "PROFISSIONAL DE SAÚDE - HSL                                 1\n",
       "HOSITALAR OU INSTITUICAO DE SAUDE - OUTRA INSTITUICAO       1\n",
       "Name: ESTUDO_TP_EXPOSICAO, dtype: int64"
      ]
     },
     "execution_count": 105,
     "metadata": {},
     "output_type": "execute_result"
    }
   ],
   "source": [
    "data['ESTUDO_TP_EXPOSICAO'].value_counts()"
   ]
  },
  {
   "cell_type": "code",
   "execution_count": 106,
   "id": "desperate-specific",
   "metadata": {},
   "outputs": [],
   "source": [
    "keys = data['ESTUDO_TP_EXPOSICAO'].value_counts().keys().tolist()"
   ]
  },
  {
   "cell_type": "code",
   "execution_count": 107,
   "id": "appointed-baking",
   "metadata": {},
   "outputs": [],
   "source": [
    "dictToReplace = __getDictToReplace(keys)"
   ]
  },
  {
   "cell_type": "code",
   "execution_count": 108,
   "id": "particular-swimming",
   "metadata": {},
   "outputs": [
    {
     "data": {
      "text/plain": [
       "{'NI': 1,\n",
       " 'HOSPITALAR HSL': 2,\n",
       " 'DESCONHECIDO': 3,\n",
       " 'CONTATO COM SUSPEITO CONFIRMADO': 4,\n",
       " 'PROFISSIONAL DE SAUDE - HSL': 5,\n",
       " 'INSTITUICAO DE LONGA PERMANENCIA': 6,\n",
       " 'VIAGEM': 7,\n",
       " 'HOSITALAR OU INSTITUICAO DE SAUDE': 8,\n",
       " 'PROFISSIONAL DE SAUDE': 9,\n",
       " 'PROFISSIONAL DE SAÚDE - HSL': 10,\n",
       " 'HOSITALAR OU INSTITUICAO DE SAUDE - OUTRA INSTITUICAO': 11}"
      ]
     },
     "execution_count": 108,
     "metadata": {},
     "output_type": "execute_result"
    }
   ],
   "source": [
    "dictToReplace"
   ]
  },
  {
   "cell_type": "code",
   "execution_count": 109,
   "id": "welsh-skill",
   "metadata": {},
   "outputs": [],
   "source": [
    "data['ESTUDO_TP_EXPOSICAO'] = data['ESTUDO_TP_EXPOSICAO'].replace(dictToReplace)"
   ]
  },
  {
   "cell_type": "markdown",
   "id": "complimentary-rebecca",
   "metadata": {},
   "source": [
    "#### ESTUDO_COMORB_PREV_HAS"
   ]
  },
  {
   "cell_type": "code",
   "execution_count": 110,
   "id": "suitable-lawyer",
   "metadata": {},
   "outputs": [],
   "source": [
    "data['ESTUDO_COMORB_PREV_HAS'] = data['ESTUDO_COMORB_PREV_HAS'].fillna('NI')"
   ]
  },
  {
   "cell_type": "code",
   "execution_count": 111,
   "id": "vocational-remains",
   "metadata": {},
   "outputs": [
    {
     "data": {
      "text/plain": [
       "N     1243\n",
       "S       80\n",
       "NI       5\n",
       "Name: ESTUDO_COMORB_PREV_HAS, dtype: int64"
      ]
     },
     "execution_count": 111,
     "metadata": {},
     "output_type": "execute_result"
    }
   ],
   "source": [
    "data['ESTUDO_COMORB_PREV_HAS'].value_counts()"
   ]
  },
  {
   "cell_type": "code",
   "execution_count": 112,
   "id": "assumed-briefing",
   "metadata": {},
   "outputs": [],
   "source": [
    "data['ESTUDO_COMORB_PREV_HAS'] = data['ESTUDO_COMORB_PREV_HAS'].replace({'S': 1, 'N': 0, 'NI': 2})"
   ]
  },
  {
   "cell_type": "markdown",
   "id": "honest-anger",
   "metadata": {},
   "source": [
    "#### ESTUDO_COMORB_PREV_IAM"
   ]
  },
  {
   "cell_type": "code",
   "execution_count": 113,
   "id": "convinced-headline",
   "metadata": {},
   "outputs": [],
   "source": [
    "data['ESTUDO_COMORB_PREV_IAM'] = data['ESTUDO_COMORB_PREV_IAM'].fillna('NI')"
   ]
  },
  {
   "cell_type": "code",
   "execution_count": 114,
   "id": "second-generation",
   "metadata": {},
   "outputs": [
    {
     "data": {
      "text/plain": [
       "N     1307\n",
       "S       16\n",
       "NI       5\n",
       "Name: ESTUDO_COMORB_PREV_IAM, dtype: int64"
      ]
     },
     "execution_count": 114,
     "metadata": {},
     "output_type": "execute_result"
    }
   ],
   "source": [
    "data['ESTUDO_COMORB_PREV_IAM'].value_counts()"
   ]
  },
  {
   "cell_type": "code",
   "execution_count": 115,
   "id": "welsh-catalyst",
   "metadata": {},
   "outputs": [],
   "source": [
    "data['ESTUDO_COMORB_PREV_IAM'] = data['ESTUDO_COMORB_PREV_IAM'].replace({'S': 1, 'N': 0, 'NI': 2})"
   ]
  },
  {
   "cell_type": "markdown",
   "id": "smoking-floor",
   "metadata": {},
   "source": [
    "#### ESTUDO_COMORB_PREV_IC"
   ]
  },
  {
   "cell_type": "code",
   "execution_count": 116,
   "id": "removable-running",
   "metadata": {},
   "outputs": [],
   "source": [
    "data['ESTUDO_COMORB_PREV_IC'] = data['ESTUDO_COMORB_PREV_IC'].fillna('NI')"
   ]
  },
  {
   "cell_type": "code",
   "execution_count": 117,
   "id": "light-active",
   "metadata": {},
   "outputs": [
    {
     "data": {
      "text/plain": [
       "N     1309\n",
       "S       14\n",
       "NI       5\n",
       "Name: ESTUDO_COMORB_PREV_IC, dtype: int64"
      ]
     },
     "execution_count": 117,
     "metadata": {},
     "output_type": "execute_result"
    }
   ],
   "source": [
    "data['ESTUDO_COMORB_PREV_IC'].value_counts()"
   ]
  },
  {
   "cell_type": "code",
   "execution_count": 118,
   "id": "mathematical-coating",
   "metadata": {},
   "outputs": [],
   "source": [
    "data['ESTUDO_COMORB_PREV_IC'] = data['ESTUDO_COMORB_PREV_IC'].replace({'S': 1, 'N': 0, 'NI': 2})"
   ]
  },
  {
   "cell_type": "markdown",
   "id": "protective-quantity",
   "metadata": {},
   "source": [
    "#### ESTUDO_COMORB_PREV_DRC"
   ]
  },
  {
   "cell_type": "code",
   "execution_count": 119,
   "id": "coated-ballet",
   "metadata": {},
   "outputs": [],
   "source": [
    "data['ESTUDO_COMORB_PREV_DRC'] = data['ESTUDO_COMORB_PREV_DRC'].fillna('NI')"
   ]
  },
  {
   "cell_type": "code",
   "execution_count": 120,
   "id": "secure-ceramic",
   "metadata": {},
   "outputs": [
    {
     "data": {
      "text/plain": [
       "N     1297\n",
       "S       26\n",
       "NI       5\n",
       "Name: ESTUDO_COMORB_PREV_DRC, dtype: int64"
      ]
     },
     "execution_count": 120,
     "metadata": {},
     "output_type": "execute_result"
    }
   ],
   "source": [
    "data['ESTUDO_COMORB_PREV_DRC'].value_counts()"
   ]
  },
  {
   "cell_type": "code",
   "execution_count": 121,
   "id": "southern-steps",
   "metadata": {},
   "outputs": [],
   "source": [
    "data['ESTUDO_COMORB_PREV_DRC'] = data['ESTUDO_COMORB_PREV_DRC'].replace({'S': 1, 'N': 0, 'NI': 2})"
   ]
  },
  {
   "cell_type": "markdown",
   "id": "naval-choice",
   "metadata": {},
   "source": [
    "#### ESTUDO_COMORB_PREV_DMI"
   ]
  },
  {
   "cell_type": "code",
   "execution_count": 122,
   "id": "imposed-scanner",
   "metadata": {},
   "outputs": [
    {
     "data": {
      "text/plain": [
       "N    1323\n",
       "Name: ESTUDO_COMORB_PREV_DMI, dtype: int64"
      ]
     },
     "execution_count": 122,
     "metadata": {},
     "output_type": "execute_result"
    }
   ],
   "source": [
    "data['ESTUDO_COMORB_PREV_DMI'].value_counts() #DROP"
   ]
  },
  {
   "cell_type": "code",
   "execution_count": 123,
   "id": "surprised-attempt",
   "metadata": {},
   "outputs": [],
   "source": [
    "data = data.drop(['ESTUDO_COMORB_PREV_DMI'], axis=1)"
   ]
  },
  {
   "cell_type": "markdown",
   "id": "gross-vegetation",
   "metadata": {},
   "source": [
    "#### ESTUDO_COMORB_PREV_DMII"
   ]
  },
  {
   "cell_type": "code",
   "execution_count": 124,
   "id": "psychological-arrangement",
   "metadata": {},
   "outputs": [],
   "source": [
    "data['ESTUDO_COMORB_PREV_DMII'] = data['ESTUDO_COMORB_PREV_DMII'].fillna('NI')"
   ]
  },
  {
   "cell_type": "code",
   "execution_count": 125,
   "id": "editorial-pixel",
   "metadata": {},
   "outputs": [
    {
     "data": {
      "text/plain": [
       "N     1276\n",
       "S       47\n",
       "NI       5\n",
       "Name: ESTUDO_COMORB_PREV_DMII, dtype: int64"
      ]
     },
     "execution_count": 125,
     "metadata": {},
     "output_type": "execute_result"
    }
   ],
   "source": [
    "data['ESTUDO_COMORB_PREV_DMII'].value_counts()"
   ]
  },
  {
   "cell_type": "code",
   "execution_count": 126,
   "id": "latin-subscription",
   "metadata": {},
   "outputs": [],
   "source": [
    "data['ESTUDO_COMORB_PREV_DMII'] = data['ESTUDO_COMORB_PREV_DMII'].replace({'S': 1, 'N': 0, 'NI': 2})"
   ]
  },
  {
   "cell_type": "markdown",
   "id": "proof-tattoo",
   "metadata": {},
   "source": [
    "#### ESTUDO_COMORB_PREV_CARCINOMA"
   ]
  },
  {
   "cell_type": "code",
   "execution_count": 127,
   "id": "suspected-lawrence",
   "metadata": {},
   "outputs": [],
   "source": [
    "data['ESTUDO_COMORB_PREV_CARCINOMA'] = data['ESTUDO_COMORB_PREV_CARCINOMA'].fillna('NI')"
   ]
  },
  {
   "cell_type": "code",
   "execution_count": 128,
   "id": "concrete-detail",
   "metadata": {},
   "outputs": [
    {
     "data": {
      "text/plain": [
       "N     1300\n",
       "S       23\n",
       "NI       5\n",
       "Name: ESTUDO_COMORB_PREV_CARCINOMA, dtype: int64"
      ]
     },
     "execution_count": 128,
     "metadata": {},
     "output_type": "execute_result"
    }
   ],
   "source": [
    "data['ESTUDO_COMORB_PREV_CARCINOMA'].value_counts()"
   ]
  },
  {
   "cell_type": "code",
   "execution_count": 129,
   "id": "christian-device",
   "metadata": {},
   "outputs": [],
   "source": [
    "data['ESTUDO_COMORB_PREV_CARCINOMA'] = data['ESTUDO_COMORB_PREV_CARCINOMA'].replace({'S': 1, 'N': 0, 'NI': 2})"
   ]
  },
  {
   "cell_type": "markdown",
   "id": "liked-alliance",
   "metadata": {},
   "source": [
    "#### ESTUDO_COMORB_PREV_ADENOMA"
   ]
  },
  {
   "cell_type": "code",
   "execution_count": 130,
   "id": "sporting-russell",
   "metadata": {},
   "outputs": [
    {
     "data": {
      "text/plain": [
       "N    1323\n",
       "Name: ESTUDO_COMORB_PREV_ADENOMA, dtype: int64"
      ]
     },
     "execution_count": 130,
     "metadata": {},
     "output_type": "execute_result"
    }
   ],
   "source": [
    "data['ESTUDO_COMORB_PREV_ADENOMA'].value_counts() #DROP"
   ]
  },
  {
   "cell_type": "code",
   "execution_count": 131,
   "id": "finite-underground",
   "metadata": {},
   "outputs": [],
   "source": [
    "data = data.drop(['ESTUDO_COMORB_PREV_ADENOMA'], axis=1)"
   ]
  },
  {
   "cell_type": "markdown",
   "id": "hollywood-spread",
   "metadata": {},
   "source": [
    "#### ESTUDO_COMORB_PREV_LINFOMA"
   ]
  },
  {
   "cell_type": "code",
   "execution_count": 132,
   "id": "protecting-exhaust",
   "metadata": {},
   "outputs": [
    {
     "data": {
      "text/plain": [
       "N    1323\n",
       "Name: ESTUDO_COMORB_PREV_LINFOMA, dtype: int64"
      ]
     },
     "execution_count": 132,
     "metadata": {},
     "output_type": "execute_result"
    }
   ],
   "source": [
    "data['ESTUDO_COMORB_PREV_LINFOMA'].value_counts() #DROP"
   ]
  },
  {
   "cell_type": "code",
   "execution_count": 133,
   "id": "related-maryland",
   "metadata": {},
   "outputs": [],
   "source": [
    "data = data.drop(['ESTUDO_COMORB_PREV_LINFOMA'], axis=1)"
   ]
  },
  {
   "cell_type": "markdown",
   "id": "measured-mixture",
   "metadata": {},
   "source": [
    "#### ESTUDO_COMORB_PREV_AVC"
   ]
  },
  {
   "cell_type": "code",
   "execution_count": 134,
   "id": "annual-interaction",
   "metadata": {},
   "outputs": [],
   "source": [
    "data['ESTUDO_COMORB_PREV_AVC'] = data['ESTUDO_COMORB_PREV_AVC'].fillna('NI')"
   ]
  },
  {
   "cell_type": "code",
   "execution_count": 135,
   "id": "placed-advice",
   "metadata": {},
   "outputs": [
    {
     "data": {
      "text/plain": [
       "N     1315\n",
       "S        8\n",
       "NI       5\n",
       "Name: ESTUDO_COMORB_PREV_AVC, dtype: int64"
      ]
     },
     "execution_count": 135,
     "metadata": {},
     "output_type": "execute_result"
    }
   ],
   "source": [
    "data['ESTUDO_COMORB_PREV_AVC'].value_counts()"
   ]
  },
  {
   "cell_type": "code",
   "execution_count": 136,
   "id": "leading-newport",
   "metadata": {},
   "outputs": [],
   "source": [
    "data['ESTUDO_COMORB_PREV_AVC'] = data['ESTUDO_COMORB_PREV_AVC'].replace({'S': 1, 'N': 0, 'NI': 2})"
   ]
  },
  {
   "cell_type": "markdown",
   "id": "unsigned-speech",
   "metadata": {},
   "source": [
    "#### ESTUDO_COMORB_PREV_ASMA"
   ]
  },
  {
   "cell_type": "code",
   "execution_count": 137,
   "id": "legal-saturn",
   "metadata": {},
   "outputs": [],
   "source": [
    "data['ESTUDO_COMORB_PREV_ASMA'] = data['ESTUDO_COMORB_PREV_ASMA'].fillna('NI')"
   ]
  },
  {
   "cell_type": "code",
   "execution_count": 138,
   "id": "prescribed-situation",
   "metadata": {},
   "outputs": [
    {
     "data": {
      "text/plain": [
       "N     1317\n",
       "S        6\n",
       "NI       5\n",
       "Name: ESTUDO_COMORB_PREV_ASMA, dtype: int64"
      ]
     },
     "execution_count": 138,
     "metadata": {},
     "output_type": "execute_result"
    }
   ],
   "source": [
    "data['ESTUDO_COMORB_PREV_ASMA'].value_counts()"
   ]
  },
  {
   "cell_type": "code",
   "execution_count": 139,
   "id": "underlying-syntax",
   "metadata": {},
   "outputs": [],
   "source": [
    "data['ESTUDO_COMORB_PREV_ASMA'] = data['ESTUDO_COMORB_PREV_ASMA'].replace({'S': 1, 'N': 0, 'NI': 2})"
   ]
  },
  {
   "cell_type": "markdown",
   "id": "covered-restoration",
   "metadata": {},
   "source": [
    "#### ESTUDO_COMORB_PREV_DPOC"
   ]
  },
  {
   "cell_type": "code",
   "execution_count": 140,
   "id": "brilliant-stuart",
   "metadata": {},
   "outputs": [],
   "source": [
    "data['ESTUDO_COMORB_PREV_DPOC'] = data['ESTUDO_COMORB_PREV_DPOC'].fillna('NI')"
   ]
  },
  {
   "cell_type": "code",
   "execution_count": 141,
   "id": "least-suspension",
   "metadata": {},
   "outputs": [
    {
     "data": {
      "text/plain": [
       "N     1312\n",
       "S       11\n",
       "NI       5\n",
       "Name: ESTUDO_COMORB_PREV_DPOC, dtype: int64"
      ]
     },
     "execution_count": 141,
     "metadata": {},
     "output_type": "execute_result"
    }
   ],
   "source": [
    "data['ESTUDO_COMORB_PREV_DPOC'].value_counts()"
   ]
  },
  {
   "cell_type": "code",
   "execution_count": 142,
   "id": "increased-punch",
   "metadata": {},
   "outputs": [],
   "source": [
    "data['ESTUDO_COMORB_PREV_DPOC'] = data['ESTUDO_COMORB_PREV_DPOC'].replace({'S': 1, 'N': 0, 'NI': 2})"
   ]
  },
  {
   "cell_type": "markdown",
   "id": "powerful-robertson",
   "metadata": {},
   "source": [
    "#### ESTUDO_COMORB_PREV_OBESIDADE"
   ]
  },
  {
   "cell_type": "code",
   "execution_count": 143,
   "id": "animal-budapest",
   "metadata": {},
   "outputs": [],
   "source": [
    "data['ESTUDO_COMORB_PREV_OBESIDADE'] = data['ESTUDO_COMORB_PREV_OBESIDADE'].fillna('NI')"
   ]
  },
  {
   "cell_type": "code",
   "execution_count": 144,
   "id": "second-robinson",
   "metadata": {},
   "outputs": [
    {
     "data": {
      "text/plain": [
       "N     1308\n",
       "S       15\n",
       "NI       5\n",
       "Name: ESTUDO_COMORB_PREV_OBESIDADE, dtype: int64"
      ]
     },
     "execution_count": 144,
     "metadata": {},
     "output_type": "execute_result"
    }
   ],
   "source": [
    "data['ESTUDO_COMORB_PREV_OBESIDADE'].value_counts()"
   ]
  },
  {
   "cell_type": "code",
   "execution_count": 145,
   "id": "dated-diagnosis",
   "metadata": {},
   "outputs": [],
   "source": [
    "data['ESTUDO_COMORB_PREV_OBESIDADE'] = data['ESTUDO_COMORB_PREV_OBESIDADE'].replace({'S': 1, 'N': 0, 'NI': 2})"
   ]
  },
  {
   "cell_type": "markdown",
   "id": "korean-configuration",
   "metadata": {},
   "source": [
    "#### ESTUDO_COMORB_PREV_EPILEPSIA',"
   ]
  },
  {
   "cell_type": "code",
   "execution_count": 146,
   "id": "appreciated-furniture",
   "metadata": {},
   "outputs": [],
   "source": [
    "data['ESTUDO_COMORB_PREV_EPILEPSIA'] = data['ESTUDO_COMORB_PREV_EPILEPSIA'].fillna('NI')"
   ]
  },
  {
   "cell_type": "code",
   "execution_count": 147,
   "id": "restricted-hamburg",
   "metadata": {},
   "outputs": [
    {
     "data": {
      "text/plain": [
       "N     1318\n",
       "S        5\n",
       "NI       5\n",
       "Name: ESTUDO_COMORB_PREV_EPILEPSIA, dtype: int64"
      ]
     },
     "execution_count": 147,
     "metadata": {},
     "output_type": "execute_result"
    }
   ],
   "source": [
    "data['ESTUDO_COMORB_PREV_EPILEPSIA'].value_counts()"
   ]
  },
  {
   "cell_type": "code",
   "execution_count": 148,
   "id": "collectible-variation",
   "metadata": {},
   "outputs": [],
   "source": [
    "data['ESTUDO_COMORB_PREV_EPILEPSIA'] = data['ESTUDO_COMORB_PREV_EPILEPSIA'].replace({'S': 1, 'N': 0, 'NI': 2})"
   ]
  },
  {
   "cell_type": "markdown",
   "id": "orange-bowling",
   "metadata": {},
   "source": [
    "#### ESTUDO_COMORB_PREV_HIGIDO"
   ]
  },
  {
   "cell_type": "code",
   "execution_count": 149,
   "id": "checked-thinking",
   "metadata": {},
   "outputs": [],
   "source": [
    "data['ESTUDO_COMORB_PREV_HIGIDO'] = data['ESTUDO_COMORB_PREV_HIGIDO'].fillna('NI')"
   ]
  },
  {
   "cell_type": "code",
   "execution_count": 150,
   "id": "demonstrated-middle",
   "metadata": {},
   "outputs": [
    {
     "data": {
      "text/plain": [
       "N     1312\n",
       "S       11\n",
       "NI       5\n",
       "Name: ESTUDO_COMORB_PREV_HIGIDO, dtype: int64"
      ]
     },
     "execution_count": 150,
     "metadata": {},
     "output_type": "execute_result"
    }
   ],
   "source": [
    "data['ESTUDO_COMORB_PREV_HIGIDO'].value_counts()"
   ]
  },
  {
   "cell_type": "code",
   "execution_count": 151,
   "id": "floral-relief",
   "metadata": {},
   "outputs": [],
   "source": [
    "data['ESTUDO_COMORB_PREV_HIGIDO'] = data['ESTUDO_COMORB_PREV_HIGIDO'].replace({'S': 1, 'N': 0, 'NI': 2})"
   ]
  },
  {
   "cell_type": "markdown",
   "id": "interested-access",
   "metadata": {},
   "source": [
    "#### ESTUDO_COMORB_PREV_OUTRAS"
   ]
  },
  {
   "cell_type": "code",
   "execution_count": 152,
   "id": "later-straight",
   "metadata": {},
   "outputs": [
    {
     "data": {
      "text/plain": [
       "HIGIDO                                                                                                                                                                                                 11\n",
       "HAS, DM                                                                                                                                                                                                 3\n",
       "HAS                                                                                                                                                                                                     2\n",
       "HIV                                                                                                                                                                                                     2\n",
       "EPILEPSIA                                                                                                                                                                                               2\n",
       "                                                                                                                                                                                                       ..\n",
       "EX ETILISTA (CESSOU EM DEZ/2019) // CIRROSE POR  LCOOL COM DIAGNOSTICO RECENTE (02/2020)                                                                                                                1\n",
       "DRC, TX RENAL, HAS, DM, OBESIDADE                                                                                                                                                                       1\n",
       "HAS // DM2  // AVCI PREVIO - DEMENCIA VASCULAR + AMAUROSE BILATERAL - VIDA DE RELAÇAO PREJUDICADA // HIPOTIREOIDISMO // OBESIDADE // DRC (CREAT BASAL ~ 1,3) // DAC  // ICFER - ETIOLOGIA ISQUEMICA     1\n",
       "DPOC, HAS, HIPOTIREOIDISMO                                                                                                                                                                              1\n",
       "HAS, AVC ISQUEMICO COM SEQUELA CONGNITIVA                                                                                                                                                               1\n",
       "Name: ESTUDO_COMORB_PREV_OUTRAS, Length: 150, dtype: int64"
      ]
     },
     "execution_count": 152,
     "metadata": {},
     "output_type": "execute_result"
    }
   ],
   "source": [
    "data['ESTUDO_COMORB_PREV_OUTRAS'].value_counts()"
   ]
  },
  {
   "cell_type": "code",
   "execution_count": 153,
   "id": "cellular-journalist",
   "metadata": {},
   "outputs": [],
   "source": [
    "data['ESTUDO_COMORB_PREV_OUTRAS'] = data['ESTUDO_COMORB_PREV_OUTRAS'].notna()"
   ]
  },
  {
   "cell_type": "code",
   "execution_count": 154,
   "id": "crazy-survival",
   "metadata": {},
   "outputs": [
    {
     "data": {
      "text/plain": [
       "0    1163\n",
       "1     165\n",
       "Name: ESTUDO_COMORB_PREV_OUTRAS, dtype: int64"
      ]
     },
     "execution_count": 154,
     "metadata": {},
     "output_type": "execute_result"
    }
   ],
   "source": [
    "# data = data.drop(['ESTUDO_COMORB_PREV_OUTRAS'], axis=1)\n",
    "\n",
    "data['ESTUDO_COMORB_PREV_OUTRAS'] = data['ESTUDO_COMORB_PREV_OUTRAS'].replace({False: 0, True: 1})\n",
    "data['ESTUDO_COMORB_PREV_OUTRAS'].value_counts()"
   ]
  },
  {
   "cell_type": "markdown",
   "id": "interstate-ratio",
   "metadata": {},
   "source": [
    "#### ESTUDO_CHARLSON"
   ]
  },
  {
   "cell_type": "code",
   "execution_count": 155,
   "id": "abroad-messenger",
   "metadata": {},
   "outputs": [
    {
     "name": "stdout",
     "output_type": "stream",
     "text": [
      "Valores Faltantes:  1185\n",
      "5.0     33\n",
      "4.0     24\n",
      "2.0     19\n",
      "6.0     17\n",
      "3.0     16\n",
      "1.0     10\n",
      "7.0      8\n",
      "10.0     6\n",
      "8.0      6\n",
      "0.0      2\n",
      "9.0      2\n",
      "Name: ESTUDO_CHARLSON, dtype: int64\n",
      "ESTUDO_CHARLSON:  [2.0, 5.0, 1.0, 3.0, 6.0, 7.0, 4.0, 8.0, 9.0, 10.0, 0.0]\n"
     ]
    },
    {
     "data": {
      "text/plain": [
       "1185"
      ]
     },
     "execution_count": 155,
     "metadata": {},
     "output_type": "execute_result"
    }
   ],
   "source": [
    "resume(\"ESTUDO_CHARLSON\", data)"
   ]
  },
  {
   "cell_type": "code",
   "execution_count": 156,
   "id": "imperial-azerbaijan",
   "metadata": {},
   "outputs": [
    {
     "data": {
      "text/html": [
       "<div>\n",
       "<style scoped>\n",
       "    .dataframe tbody tr th:only-of-type {\n",
       "        vertical-align: middle;\n",
       "    }\n",
       "\n",
       "    .dataframe tbody tr th {\n",
       "        vertical-align: top;\n",
       "    }\n",
       "\n",
       "    .dataframe thead th {\n",
       "        text-align: right;\n",
       "    }\n",
       "</style>\n",
       "<table border=\"1\" class=\"dataframe\">\n",
       "  <thead>\n",
       "    <tr style=\"text-align: right;\">\n",
       "      <th></th>\n",
       "      <th>COLETOU_AMOSTRA</th>\n",
       "      <th>IFI_OUTRO_VIRUS</th>\n",
       "      <th>CD_PACIENTE</th>\n",
       "      <th>GENERO</th>\n",
       "      <th>IDADE</th>\n",
       "      <th>DIAGNOSTICO_SARS</th>\n",
       "      <th>CD_CID</th>\n",
       "      <th>DS_ESPECIALID_SAI</th>\n",
       "      <th>REINTER_30D</th>\n",
       "      <th>CARATER_ATENDIMENTO</th>\n",
       "      <th>EMERG_SERVICO</th>\n",
       "      <th>EMERG_RISCO</th>\n",
       "      <th>CID_DIAG_ATEND</th>\n",
       "      <th>CID_CAPITULO_DIAG</th>\n",
       "      <th>BLOCO_CENTRAL_ST</th>\n",
       "      <th>HEMODINAMICA_ST</th>\n",
       "      <th>EX_LAB_ST</th>\n",
       "      <th>EX_IMG_ST</th>\n",
       "      <th>EX_OUTROS_ST</th>\n",
       "      <th>TIPO_REGISTRO</th>\n",
       "      <th>SN_CRIT_CONTATO_CASO_COVID</th>\n",
       "      <th>SN_CRIT_SRAG</th>\n",
       "      <th>SN_CRIT_SINDROME_GRIPAL</th>\n",
       "      <th>ESTUDO_TP_EXPOSICAO</th>\n",
       "      <th>ESTUDO_COMORB_PREV_HAS</th>\n",
       "      <th>ESTUDO_COMORB_PREV_IAM</th>\n",
       "      <th>ESTUDO_COMORB_PREV_IC</th>\n",
       "      <th>ESTUDO_COMORB_PREV_DRC</th>\n",
       "      <th>ESTUDO_COMORB_PREV_DMII</th>\n",
       "      <th>ESTUDO_COMORB_PREV_CARCINOMA</th>\n",
       "      <th>ESTUDO_COMORB_PREV_AVC</th>\n",
       "      <th>ESTUDO_COMORB_PREV_ASMA</th>\n",
       "      <th>ESTUDO_COMORB_PREV_DPOC</th>\n",
       "      <th>ESTUDO_COMORB_PREV_OBESIDADE</th>\n",
       "      <th>ESTUDO_COMORB_PREV_EPILEPSIA</th>\n",
       "      <th>ESTUDO_COMORB_PREV_HIGIDO</th>\n",
       "      <th>ESTUDO_COMORB_PREV_OUTRAS</th>\n",
       "      <th>ESTUDO_CHARLSON</th>\n",
       "      <th>ESTUDO_FR_DIA_COLETA</th>\n",
       "      <th>ESTUDO_FC_DIA_COLETA</th>\n",
       "      <th>ESTUDO_PA_DIA_COLETA</th>\n",
       "      <th>ESTUDO_TEMPERATURA_DIA_COLETA</th>\n",
       "      <th>ESTUDO_SATURACAO_DIA_COLETA</th>\n",
       "      <th>ESTUDO_APACHE2</th>\n",
       "      <th>ESTUDO_RISCO</th>\n",
       "      <th>ESTUDO_TRATAMENTO</th>\n",
       "      <th>ESTUDO_COMORB_PREV_TX_ORG_SOL</th>\n",
       "      <th>ESTUDO_CONDUTA</th>\n",
       "      <th>ESTUDO_LOCAL_CONTAMINACAO</th>\n",
       "      <th>ESTUDO_LOCAL_CONTAM_UI</th>\n",
       "      <th>ESTUDO_DT_DESFECHO</th>\n",
       "      <th>ESTUDO_COMORB_PREV_DESCON</th>\n",
       "      <th>ESTUDO_COMORB_PREV_DVP</th>\n",
       "      <th>ESTUDO_COMORB_PREV_DEMENCIA</th>\n",
       "      <th>ESTUDO_COMORB_PREV_DTC</th>\n",
       "      <th>ESTUDO_COMORB_PREV_UP</th>\n",
       "      <th>ESTUDO_COMORB_PREV_DFL</th>\n",
       "      <th>ESTUDO_COMORB_PREV_DFM</th>\n",
       "      <th>ESTUDO_COMORB_PREV_HEMIPLEGIA</th>\n",
       "      <th>ESTUDO_COMORB_PREV_LEUCEMIA</th>\n",
       "      <th>ESTUDO_COMORB_PREV_HIV</th>\n",
       "      <th>ESTUDO_COMORB_PREV_TUL</th>\n",
       "      <th>ESTUDO_COMORB_PREV_TUM</th>\n",
       "      <th>DIAS_CORRIDOS</th>\n",
       "      <th>STATUS_COVID.1</th>\n",
       "      <th>CD_ATENDIMENTO.1</th>\n",
       "      <th>DTHR_UTI_IN</th>\n",
       "      <th>DTHR_UTI_OUT</th>\n",
       "      <th>DIAS_NA_UTI</th>\n",
       "    </tr>\n",
       "  </thead>\n",
       "  <tbody>\n",
       "    <tr>\n",
       "      <th>8</th>\n",
       "      <td>1</td>\n",
       "      <td>2</td>\n",
       "      <td>2345773.0</td>\n",
       "      <td>1</td>\n",
       "      <td>29,6025114155251</td>\n",
       "      <td>0</td>\n",
       "      <td>283</td>\n",
       "      <td>8</td>\n",
       "      <td>1</td>\n",
       "      <td>0</td>\n",
       "      <td>2</td>\n",
       "      <td>3</td>\n",
       "      <td>180</td>\n",
       "      <td>4</td>\n",
       "      <td>1</td>\n",
       "      <td>0</td>\n",
       "      <td>1</td>\n",
       "      <td>1</td>\n",
       "      <td>0</td>\n",
       "      <td>1</td>\n",
       "      <td>0</td>\n",
       "      <td>0</td>\n",
       "      <td>0</td>\n",
       "      <td>3</td>\n",
       "      <td>0</td>\n",
       "      <td>0</td>\n",
       "      <td>0</td>\n",
       "      <td>0</td>\n",
       "      <td>0</td>\n",
       "      <td>0</td>\n",
       "      <td>0</td>\n",
       "      <td>0</td>\n",
       "      <td>0</td>\n",
       "      <td>0</td>\n",
       "      <td>0</td>\n",
       "      <td>0</td>\n",
       "      <td>1</td>\n",
       "      <td>2.0</td>\n",
       "      <td>NaN</td>\n",
       "      <td>NaN</td>\n",
       "      <td>NaN</td>\n",
       "      <td>NaN</td>\n",
       "      <td>NaN</td>\n",
       "      <td>NaN</td>\n",
       "      <td>NaN</td>\n",
       "      <td>NaN</td>\n",
       "      <td>N</td>\n",
       "      <td>L</td>\n",
       "      <td>DESCONHECIDO</td>\n",
       "      <td>NaN</td>\n",
       "      <td>NaN</td>\n",
       "      <td>N</td>\n",
       "      <td>N</td>\n",
       "      <td>N</td>\n",
       "      <td>N</td>\n",
       "      <td>N</td>\n",
       "      <td>N</td>\n",
       "      <td>N</td>\n",
       "      <td>N</td>\n",
       "      <td>S</td>\n",
       "      <td>N</td>\n",
       "      <td>N</td>\n",
       "      <td>N</td>\n",
       "      <td>0</td>\n",
       "      <td>NaN</td>\n",
       "      <td>NaN</td>\n",
       "      <td>NaN</td>\n",
       "      <td>NaN</td>\n",
       "      <td>0.000000</td>\n",
       "    </tr>\n",
       "    <tr>\n",
       "      <th>12</th>\n",
       "      <td>1</td>\n",
       "      <td>2</td>\n",
       "      <td>2338422.0</td>\n",
       "      <td>1</td>\n",
       "      <td>68,7203196347032</td>\n",
       "      <td>0</td>\n",
       "      <td>26</td>\n",
       "      <td>5</td>\n",
       "      <td>1</td>\n",
       "      <td>1</td>\n",
       "      <td>1</td>\n",
       "      <td>2</td>\n",
       "      <td>25</td>\n",
       "      <td>2</td>\n",
       "      <td>0</td>\n",
       "      <td>0</td>\n",
       "      <td>1</td>\n",
       "      <td>1</td>\n",
       "      <td>0</td>\n",
       "      <td>1</td>\n",
       "      <td>0</td>\n",
       "      <td>0</td>\n",
       "      <td>0</td>\n",
       "      <td>2</td>\n",
       "      <td>1</td>\n",
       "      <td>0</td>\n",
       "      <td>1</td>\n",
       "      <td>1</td>\n",
       "      <td>0</td>\n",
       "      <td>0</td>\n",
       "      <td>0</td>\n",
       "      <td>0</td>\n",
       "      <td>0</td>\n",
       "      <td>0</td>\n",
       "      <td>0</td>\n",
       "      <td>0</td>\n",
       "      <td>1</td>\n",
       "      <td>5.0</td>\n",
       "      <td>NaN</td>\n",
       "      <td>NaN</td>\n",
       "      <td>NaN</td>\n",
       "      <td>NaN</td>\n",
       "      <td>NaN</td>\n",
       "      <td>NaN</td>\n",
       "      <td>NaN</td>\n",
       "      <td>NaN</td>\n",
       "      <td>N</td>\n",
       "      <td>L</td>\n",
       "      <td>UNIDADE DE INTERNACAO HSL</td>\n",
       "      <td>15.0</td>\n",
       "      <td>NaN</td>\n",
       "      <td>N</td>\n",
       "      <td>N</td>\n",
       "      <td>N</td>\n",
       "      <td>N</td>\n",
       "      <td>N</td>\n",
       "      <td>N</td>\n",
       "      <td>N</td>\n",
       "      <td>N</td>\n",
       "      <td>N</td>\n",
       "      <td>N</td>\n",
       "      <td>N</td>\n",
       "      <td>N</td>\n",
       "      <td>5</td>\n",
       "      <td>NaN</td>\n",
       "      <td>NaN</td>\n",
       "      <td>NaN</td>\n",
       "      <td>NaN</td>\n",
       "      <td>0.000000</td>\n",
       "    </tr>\n",
       "    <tr>\n",
       "      <th>25</th>\n",
       "      <td>1</td>\n",
       "      <td>1</td>\n",
       "      <td>1111099.0</td>\n",
       "      <td>0</td>\n",
       "      <td>74,1203196347032</td>\n",
       "      <td>0</td>\n",
       "      <td>2</td>\n",
       "      <td>1</td>\n",
       "      <td>0</td>\n",
       "      <td>1</td>\n",
       "      <td>1</td>\n",
       "      <td>4</td>\n",
       "      <td>2</td>\n",
       "      <td>1</td>\n",
       "      <td>0</td>\n",
       "      <td>0</td>\n",
       "      <td>1</td>\n",
       "      <td>0</td>\n",
       "      <td>0</td>\n",
       "      <td>0</td>\n",
       "      <td>0</td>\n",
       "      <td>1</td>\n",
       "      <td>0</td>\n",
       "      <td>3</td>\n",
       "      <td>0</td>\n",
       "      <td>0</td>\n",
       "      <td>0</td>\n",
       "      <td>0</td>\n",
       "      <td>1</td>\n",
       "      <td>0</td>\n",
       "      <td>0</td>\n",
       "      <td>1</td>\n",
       "      <td>0</td>\n",
       "      <td>0</td>\n",
       "      <td>0</td>\n",
       "      <td>0</td>\n",
       "      <td>1</td>\n",
       "      <td>5.0</td>\n",
       "      <td>NaN</td>\n",
       "      <td>NaN</td>\n",
       "      <td>NaN</td>\n",
       "      <td>NaN</td>\n",
       "      <td>NaN</td>\n",
       "      <td>NaN</td>\n",
       "      <td>NaN</td>\n",
       "      <td>NaN</td>\n",
       "      <td>N</td>\n",
       "      <td>L</td>\n",
       "      <td>EXTERNO</td>\n",
       "      <td>NaN</td>\n",
       "      <td>NaN</td>\n",
       "      <td>N</td>\n",
       "      <td>N</td>\n",
       "      <td>N</td>\n",
       "      <td>N</td>\n",
       "      <td>N</td>\n",
       "      <td>N</td>\n",
       "      <td>N</td>\n",
       "      <td>N</td>\n",
       "      <td>N</td>\n",
       "      <td>N</td>\n",
       "      <td>N</td>\n",
       "      <td>N</td>\n",
       "      <td>4</td>\n",
       "      <td>NaN</td>\n",
       "      <td>NaN</td>\n",
       "      <td>NaN</td>\n",
       "      <td>NaN</td>\n",
       "      <td>0.000000</td>\n",
       "    </tr>\n",
       "    <tr>\n",
       "      <th>34</th>\n",
       "      <td>1</td>\n",
       "      <td>2</td>\n",
       "      <td>2238084.0</td>\n",
       "      <td>1</td>\n",
       "      <td>37,7011415525114</td>\n",
       "      <td>0</td>\n",
       "      <td>3</td>\n",
       "      <td>2</td>\n",
       "      <td>1</td>\n",
       "      <td>1</td>\n",
       "      <td>3</td>\n",
       "      <td>4</td>\n",
       "      <td>3</td>\n",
       "      <td>1</td>\n",
       "      <td>1</td>\n",
       "      <td>1</td>\n",
       "      <td>1</td>\n",
       "      <td>1</td>\n",
       "      <td>1</td>\n",
       "      <td>0</td>\n",
       "      <td>0</td>\n",
       "      <td>1</td>\n",
       "      <td>0</td>\n",
       "      <td>2</td>\n",
       "      <td>0</td>\n",
       "      <td>0</td>\n",
       "      <td>0</td>\n",
       "      <td>1</td>\n",
       "      <td>0</td>\n",
       "      <td>0</td>\n",
       "      <td>0</td>\n",
       "      <td>0</td>\n",
       "      <td>0</td>\n",
       "      <td>0</td>\n",
       "      <td>0</td>\n",
       "      <td>0</td>\n",
       "      <td>1</td>\n",
       "      <td>2.0</td>\n",
       "      <td>NaN</td>\n",
       "      <td>NaN</td>\n",
       "      <td>NaN</td>\n",
       "      <td>NaN</td>\n",
       "      <td>NaN</td>\n",
       "      <td>NaN</td>\n",
       "      <td>NaN</td>\n",
       "      <td>NaN</td>\n",
       "      <td>S</td>\n",
       "      <td>L</td>\n",
       "      <td>UNIDADE DE INTERNACAO HSL</td>\n",
       "      <td>12.0</td>\n",
       "      <td>NaN</td>\n",
       "      <td>N</td>\n",
       "      <td>N</td>\n",
       "      <td>N</td>\n",
       "      <td>N</td>\n",
       "      <td>N</td>\n",
       "      <td>N</td>\n",
       "      <td>N</td>\n",
       "      <td>N</td>\n",
       "      <td>N</td>\n",
       "      <td>N</td>\n",
       "      <td>N</td>\n",
       "      <td>N</td>\n",
       "      <td>85</td>\n",
       "      <td>NaN</td>\n",
       "      <td>NaN</td>\n",
       "      <td>NaN</td>\n",
       "      <td>NaN</td>\n",
       "      <td>0.000000</td>\n",
       "    </tr>\n",
       "    <tr>\n",
       "      <th>52</th>\n",
       "      <td>1</td>\n",
       "      <td>2</td>\n",
       "      <td>2341063.0</td>\n",
       "      <td>0</td>\n",
       "      <td>58,112100456621</td>\n",
       "      <td>0</td>\n",
       "      <td>19</td>\n",
       "      <td>9</td>\n",
       "      <td>0</td>\n",
       "      <td>0</td>\n",
       "      <td>2</td>\n",
       "      <td>3</td>\n",
       "      <td>20</td>\n",
       "      <td>7</td>\n",
       "      <td>1</td>\n",
       "      <td>0</td>\n",
       "      <td>1</td>\n",
       "      <td>1</td>\n",
       "      <td>1</td>\n",
       "      <td>0</td>\n",
       "      <td>0</td>\n",
       "      <td>1</td>\n",
       "      <td>0</td>\n",
       "      <td>3</td>\n",
       "      <td>1</td>\n",
       "      <td>0</td>\n",
       "      <td>0</td>\n",
       "      <td>0</td>\n",
       "      <td>0</td>\n",
       "      <td>0</td>\n",
       "      <td>0</td>\n",
       "      <td>1</td>\n",
       "      <td>0</td>\n",
       "      <td>0</td>\n",
       "      <td>0</td>\n",
       "      <td>0</td>\n",
       "      <td>1</td>\n",
       "      <td>1.0</td>\n",
       "      <td>NaN</td>\n",
       "      <td>NaN</td>\n",
       "      <td>NaN</td>\n",
       "      <td>NaN</td>\n",
       "      <td>NaN</td>\n",
       "      <td>NaN</td>\n",
       "      <td>NaN</td>\n",
       "      <td>NaN</td>\n",
       "      <td>N</td>\n",
       "      <td>L</td>\n",
       "      <td>EXTERNO</td>\n",
       "      <td>NaN</td>\n",
       "      <td>NaN</td>\n",
       "      <td>N</td>\n",
       "      <td>N</td>\n",
       "      <td>N</td>\n",
       "      <td>N</td>\n",
       "      <td>N</td>\n",
       "      <td>N</td>\n",
       "      <td>N</td>\n",
       "      <td>N</td>\n",
       "      <td>N</td>\n",
       "      <td>N</td>\n",
       "      <td>N</td>\n",
       "      <td>N</td>\n",
       "      <td>1</td>\n",
       "      <td>CONFIRMADOS</td>\n",
       "      <td>1262191.0</td>\n",
       "      <td>09/04/2020 11:45:12</td>\n",
       "      <td>11/04/2020 12:30:00</td>\n",
       "      <td>2.031111</td>\n",
       "    </tr>\n",
       "    <tr>\n",
       "      <th>...</th>\n",
       "      <td>...</td>\n",
       "      <td>...</td>\n",
       "      <td>...</td>\n",
       "      <td>...</td>\n",
       "      <td>...</td>\n",
       "      <td>...</td>\n",
       "      <td>...</td>\n",
       "      <td>...</td>\n",
       "      <td>...</td>\n",
       "      <td>...</td>\n",
       "      <td>...</td>\n",
       "      <td>...</td>\n",
       "      <td>...</td>\n",
       "      <td>...</td>\n",
       "      <td>...</td>\n",
       "      <td>...</td>\n",
       "      <td>...</td>\n",
       "      <td>...</td>\n",
       "      <td>...</td>\n",
       "      <td>...</td>\n",
       "      <td>...</td>\n",
       "      <td>...</td>\n",
       "      <td>...</td>\n",
       "      <td>...</td>\n",
       "      <td>...</td>\n",
       "      <td>...</td>\n",
       "      <td>...</td>\n",
       "      <td>...</td>\n",
       "      <td>...</td>\n",
       "      <td>...</td>\n",
       "      <td>...</td>\n",
       "      <td>...</td>\n",
       "      <td>...</td>\n",
       "      <td>...</td>\n",
       "      <td>...</td>\n",
       "      <td>...</td>\n",
       "      <td>...</td>\n",
       "      <td>...</td>\n",
       "      <td>...</td>\n",
       "      <td>...</td>\n",
       "      <td>...</td>\n",
       "      <td>...</td>\n",
       "      <td>...</td>\n",
       "      <td>...</td>\n",
       "      <td>...</td>\n",
       "      <td>...</td>\n",
       "      <td>...</td>\n",
       "      <td>...</td>\n",
       "      <td>...</td>\n",
       "      <td>...</td>\n",
       "      <td>...</td>\n",
       "      <td>...</td>\n",
       "      <td>...</td>\n",
       "      <td>...</td>\n",
       "      <td>...</td>\n",
       "      <td>...</td>\n",
       "      <td>...</td>\n",
       "      <td>...</td>\n",
       "      <td>...</td>\n",
       "      <td>...</td>\n",
       "      <td>...</td>\n",
       "      <td>...</td>\n",
       "      <td>...</td>\n",
       "      <td>...</td>\n",
       "      <td>...</td>\n",
       "      <td>...</td>\n",
       "      <td>...</td>\n",
       "      <td>...</td>\n",
       "      <td>...</td>\n",
       "    </tr>\n",
       "    <tr>\n",
       "      <th>475</th>\n",
       "      <td>1</td>\n",
       "      <td>2</td>\n",
       "      <td>2353833.0</td>\n",
       "      <td>1</td>\n",
       "      <td>81,6079908675799</td>\n",
       "      <td>0</td>\n",
       "      <td>2</td>\n",
       "      <td>4</td>\n",
       "      <td>0</td>\n",
       "      <td>1</td>\n",
       "      <td>1</td>\n",
       "      <td>5</td>\n",
       "      <td>1</td>\n",
       "      <td>1</td>\n",
       "      <td>0</td>\n",
       "      <td>0</td>\n",
       "      <td>1</td>\n",
       "      <td>1</td>\n",
       "      <td>0</td>\n",
       "      <td>1</td>\n",
       "      <td>0</td>\n",
       "      <td>0</td>\n",
       "      <td>0</td>\n",
       "      <td>6</td>\n",
       "      <td>1</td>\n",
       "      <td>0</td>\n",
       "      <td>0</td>\n",
       "      <td>0</td>\n",
       "      <td>0</td>\n",
       "      <td>0</td>\n",
       "      <td>1</td>\n",
       "      <td>0</td>\n",
       "      <td>0</td>\n",
       "      <td>0</td>\n",
       "      <td>0</td>\n",
       "      <td>0</td>\n",
       "      <td>1</td>\n",
       "      <td>5.0</td>\n",
       "      <td>NaN</td>\n",
       "      <td>NaN</td>\n",
       "      <td>NaN</td>\n",
       "      <td>NaN</td>\n",
       "      <td>NaN</td>\n",
       "      <td>NaN</td>\n",
       "      <td>NaN</td>\n",
       "      <td>NaN</td>\n",
       "      <td>N</td>\n",
       "      <td>L</td>\n",
       "      <td>OUTRA INSTITUIÇÃO DE SAÚDE</td>\n",
       "      <td>NaN</td>\n",
       "      <td>NaN</td>\n",
       "      <td>N</td>\n",
       "      <td>N</td>\n",
       "      <td>N</td>\n",
       "      <td>N</td>\n",
       "      <td>N</td>\n",
       "      <td>N</td>\n",
       "      <td>N</td>\n",
       "      <td>N</td>\n",
       "      <td>N</td>\n",
       "      <td>N</td>\n",
       "      <td>N</td>\n",
       "      <td>N</td>\n",
       "      <td>9</td>\n",
       "      <td>NaN</td>\n",
       "      <td>NaN</td>\n",
       "      <td>NaN</td>\n",
       "      <td>NaN</td>\n",
       "      <td>0.000000</td>\n",
       "    </tr>\n",
       "    <tr>\n",
       "      <th>479</th>\n",
       "      <td>1</td>\n",
       "      <td>2</td>\n",
       "      <td>2353959.0</td>\n",
       "      <td>0</td>\n",
       "      <td>82,4025114155251</td>\n",
       "      <td>0</td>\n",
       "      <td>2</td>\n",
       "      <td>1</td>\n",
       "      <td>0</td>\n",
       "      <td>1</td>\n",
       "      <td>1</td>\n",
       "      <td>2</td>\n",
       "      <td>2</td>\n",
       "      <td>1</td>\n",
       "      <td>0</td>\n",
       "      <td>0</td>\n",
       "      <td>1</td>\n",
       "      <td>0</td>\n",
       "      <td>0</td>\n",
       "      <td>1</td>\n",
       "      <td>0</td>\n",
       "      <td>0</td>\n",
       "      <td>0</td>\n",
       "      <td>3</td>\n",
       "      <td>1</td>\n",
       "      <td>0</td>\n",
       "      <td>0</td>\n",
       "      <td>0</td>\n",
       "      <td>1</td>\n",
       "      <td>0</td>\n",
       "      <td>0</td>\n",
       "      <td>0</td>\n",
       "      <td>0</td>\n",
       "      <td>0</td>\n",
       "      <td>0</td>\n",
       "      <td>0</td>\n",
       "      <td>1</td>\n",
       "      <td>5.0</td>\n",
       "      <td>NaN</td>\n",
       "      <td>NaN</td>\n",
       "      <td>NaN</td>\n",
       "      <td>NaN</td>\n",
       "      <td>NaN</td>\n",
       "      <td>NaN</td>\n",
       "      <td>NaN</td>\n",
       "      <td>NaN</td>\n",
       "      <td>N</td>\n",
       "      <td>L</td>\n",
       "      <td>EXTERNO</td>\n",
       "      <td>NaN</td>\n",
       "      <td>NaN</td>\n",
       "      <td>N</td>\n",
       "      <td>N</td>\n",
       "      <td>N</td>\n",
       "      <td>N</td>\n",
       "      <td>N</td>\n",
       "      <td>N</td>\n",
       "      <td>N</td>\n",
       "      <td>N</td>\n",
       "      <td>N</td>\n",
       "      <td>N</td>\n",
       "      <td>N</td>\n",
       "      <td>N</td>\n",
       "      <td>1</td>\n",
       "      <td>NaN</td>\n",
       "      <td>NaN</td>\n",
       "      <td>NaN</td>\n",
       "      <td>NaN</td>\n",
       "      <td>0.000000</td>\n",
       "    </tr>\n",
       "    <tr>\n",
       "      <th>481</th>\n",
       "      <td>1</td>\n",
       "      <td>2</td>\n",
       "      <td>2352411.0</td>\n",
       "      <td>1</td>\n",
       "      <td>34,9833333333333</td>\n",
       "      <td>1</td>\n",
       "      <td>1</td>\n",
       "      <td>7</td>\n",
       "      <td>0</td>\n",
       "      <td>1</td>\n",
       "      <td>1</td>\n",
       "      <td>1</td>\n",
       "      <td>1</td>\n",
       "      <td>1</td>\n",
       "      <td>0</td>\n",
       "      <td>0</td>\n",
       "      <td>0</td>\n",
       "      <td>1</td>\n",
       "      <td>0</td>\n",
       "      <td>1</td>\n",
       "      <td>0</td>\n",
       "      <td>0</td>\n",
       "      <td>0</td>\n",
       "      <td>3</td>\n",
       "      <td>0</td>\n",
       "      <td>1</td>\n",
       "      <td>0</td>\n",
       "      <td>0</td>\n",
       "      <td>0</td>\n",
       "      <td>0</td>\n",
       "      <td>0</td>\n",
       "      <td>0</td>\n",
       "      <td>0</td>\n",
       "      <td>0</td>\n",
       "      <td>0</td>\n",
       "      <td>0</td>\n",
       "      <td>1</td>\n",
       "      <td>2.0</td>\n",
       "      <td>NaN</td>\n",
       "      <td>NaN</td>\n",
       "      <td>NaN</td>\n",
       "      <td>NaN</td>\n",
       "      <td>NaN</td>\n",
       "      <td>NaN</td>\n",
       "      <td>NaN</td>\n",
       "      <td>NaN</td>\n",
       "      <td>N</td>\n",
       "      <td>L</td>\n",
       "      <td>EXTERNO</td>\n",
       "      <td>NaN</td>\n",
       "      <td>NaN</td>\n",
       "      <td>N</td>\n",
       "      <td>N</td>\n",
       "      <td>N</td>\n",
       "      <td>N</td>\n",
       "      <td>N</td>\n",
       "      <td>N</td>\n",
       "      <td>N</td>\n",
       "      <td>N</td>\n",
       "      <td>N</td>\n",
       "      <td>N</td>\n",
       "      <td>N</td>\n",
       "      <td>N</td>\n",
       "      <td>3</td>\n",
       "      <td>NaN</td>\n",
       "      <td>NaN</td>\n",
       "      <td>NaN</td>\n",
       "      <td>NaN</td>\n",
       "      <td>0.000000</td>\n",
       "    </tr>\n",
       "    <tr>\n",
       "      <th>482</th>\n",
       "      <td>1</td>\n",
       "      <td>2</td>\n",
       "      <td>2354906.0</td>\n",
       "      <td>1</td>\n",
       "      <td>82,4326484018265</td>\n",
       "      <td>0</td>\n",
       "      <td>2</td>\n",
       "      <td>4</td>\n",
       "      <td>0</td>\n",
       "      <td>1</td>\n",
       "      <td>1</td>\n",
       "      <td>2</td>\n",
       "      <td>2</td>\n",
       "      <td>1</td>\n",
       "      <td>0</td>\n",
       "      <td>0</td>\n",
       "      <td>1</td>\n",
       "      <td>0</td>\n",
       "      <td>0</td>\n",
       "      <td>1</td>\n",
       "      <td>0</td>\n",
       "      <td>0</td>\n",
       "      <td>1</td>\n",
       "      <td>3</td>\n",
       "      <td>0</td>\n",
       "      <td>0</td>\n",
       "      <td>0</td>\n",
       "      <td>0</td>\n",
       "      <td>0</td>\n",
       "      <td>0</td>\n",
       "      <td>0</td>\n",
       "      <td>0</td>\n",
       "      <td>0</td>\n",
       "      <td>0</td>\n",
       "      <td>0</td>\n",
       "      <td>0</td>\n",
       "      <td>1</td>\n",
       "      <td>4.0</td>\n",
       "      <td>22</td>\n",
       "      <td>100.0</td>\n",
       "      <td>156/30</td>\n",
       "      <td>36,8</td>\n",
       "      <td>93</td>\n",
       "      <td>NaN</td>\n",
       "      <td>NaN</td>\n",
       "      <td>D</td>\n",
       "      <td>N</td>\n",
       "      <td>L</td>\n",
       "      <td>EXTERNO</td>\n",
       "      <td>NaN</td>\n",
       "      <td>17/08/2020</td>\n",
       "      <td>N</td>\n",
       "      <td>N</td>\n",
       "      <td>N</td>\n",
       "      <td>N</td>\n",
       "      <td>N</td>\n",
       "      <td>N</td>\n",
       "      <td>N</td>\n",
       "      <td>N</td>\n",
       "      <td>N</td>\n",
       "      <td>N</td>\n",
       "      <td>N</td>\n",
       "      <td>N</td>\n",
       "      <td>7</td>\n",
       "      <td>NaN</td>\n",
       "      <td>NaN</td>\n",
       "      <td>NaN</td>\n",
       "      <td>NaN</td>\n",
       "      <td>0.000000</td>\n",
       "    </tr>\n",
       "    <tr>\n",
       "      <th>483</th>\n",
       "      <td>1</td>\n",
       "      <td>2</td>\n",
       "      <td>2354985.0</td>\n",
       "      <td>1</td>\n",
       "      <td>79,284703196347</td>\n",
       "      <td>0</td>\n",
       "      <td>13</td>\n",
       "      <td>1</td>\n",
       "      <td>0</td>\n",
       "      <td>0</td>\n",
       "      <td>2</td>\n",
       "      <td>3</td>\n",
       "      <td>3</td>\n",
       "      <td>1</td>\n",
       "      <td>1</td>\n",
       "      <td>0</td>\n",
       "      <td>1</td>\n",
       "      <td>1</td>\n",
       "      <td>1</td>\n",
       "      <td>1</td>\n",
       "      <td>0</td>\n",
       "      <td>1</td>\n",
       "      <td>0</td>\n",
       "      <td>2</td>\n",
       "      <td>0</td>\n",
       "      <td>0</td>\n",
       "      <td>0</td>\n",
       "      <td>1</td>\n",
       "      <td>1</td>\n",
       "      <td>0</td>\n",
       "      <td>0</td>\n",
       "      <td>0</td>\n",
       "      <td>0</td>\n",
       "      <td>0</td>\n",
       "      <td>0</td>\n",
       "      <td>0</td>\n",
       "      <td>0</td>\n",
       "      <td>3.0</td>\n",
       "      <td>17</td>\n",
       "      <td>66.0</td>\n",
       "      <td>120/60</td>\n",
       "      <td>37,3</td>\n",
       "      <td>76-88%</td>\n",
       "      <td>NaN</td>\n",
       "      <td>NaN</td>\n",
       "      <td>N</td>\n",
       "      <td>N</td>\n",
       "      <td>L</td>\n",
       "      <td>HSL</td>\n",
       "      <td>14.0</td>\n",
       "      <td>20/10/2020</td>\n",
       "      <td>N</td>\n",
       "      <td>N</td>\n",
       "      <td>N</td>\n",
       "      <td>N</td>\n",
       "      <td>N</td>\n",
       "      <td>N</td>\n",
       "      <td>N</td>\n",
       "      <td>N</td>\n",
       "      <td>N</td>\n",
       "      <td>N</td>\n",
       "      <td>N</td>\n",
       "      <td>N</td>\n",
       "      <td>72</td>\n",
       "      <td>CONFIRMADOS</td>\n",
       "      <td>1354901.0</td>\n",
       "      <td>12/10/2020 18:14:08</td>\n",
       "      <td>20/10/2020 04:00:10</td>\n",
       "      <td>7.406968</td>\n",
       "    </tr>\n",
       "  </tbody>\n",
       "</table>\n",
       "<p>143 rows × 69 columns</p>\n",
       "</div>"
      ],
      "text/plain": [
       "     COLETOU_AMOSTRA  IFI_OUTRO_VIRUS  CD_PACIENTE  GENERO             IDADE  \\\n",
       "8                  1                2    2345773.0       1  29,6025114155251   \n",
       "12                 1                2    2338422.0       1  68,7203196347032   \n",
       "25                 1                1    1111099.0       0  74,1203196347032   \n",
       "34                 1                2    2238084.0       1  37,7011415525114   \n",
       "52                 1                2    2341063.0       0   58,112100456621   \n",
       "..               ...              ...          ...     ...               ...   \n",
       "475                1                2    2353833.0       1  81,6079908675799   \n",
       "479                1                2    2353959.0       0  82,4025114155251   \n",
       "481                1                2    2352411.0       1  34,9833333333333   \n",
       "482                1                2    2354906.0       1  82,4326484018265   \n",
       "483                1                2    2354985.0       1   79,284703196347   \n",
       "\n",
       "     DIAGNOSTICO_SARS  CD_CID  DS_ESPECIALID_SAI  REINTER_30D  \\\n",
       "8                   0     283                  8            1   \n",
       "12                  0      26                  5            1   \n",
       "25                  0       2                  1            0   \n",
       "34                  0       3                  2            1   \n",
       "52                  0      19                  9            0   \n",
       "..                ...     ...                ...          ...   \n",
       "475                 0       2                  4            0   \n",
       "479                 0       2                  1            0   \n",
       "481                 1       1                  7            0   \n",
       "482                 0       2                  4            0   \n",
       "483                 0      13                  1            0   \n",
       "\n",
       "     CARATER_ATENDIMENTO  EMERG_SERVICO  EMERG_RISCO  CID_DIAG_ATEND  \\\n",
       "8                      0              2            3             180   \n",
       "12                     1              1            2              25   \n",
       "25                     1              1            4               2   \n",
       "34                     1              3            4               3   \n",
       "52                     0              2            3              20   \n",
       "..                   ...            ...          ...             ...   \n",
       "475                    1              1            5               1   \n",
       "479                    1              1            2               2   \n",
       "481                    1              1            1               1   \n",
       "482                    1              1            2               2   \n",
       "483                    0              2            3               3   \n",
       "\n",
       "     CID_CAPITULO_DIAG  BLOCO_CENTRAL_ST  HEMODINAMICA_ST  EX_LAB_ST  \\\n",
       "8                    4                 1                0          1   \n",
       "12                   2                 0                0          1   \n",
       "25                   1                 0                0          1   \n",
       "34                   1                 1                1          1   \n",
       "52                   7                 1                0          1   \n",
       "..                 ...               ...              ...        ...   \n",
       "475                  1                 0                0          1   \n",
       "479                  1                 0                0          1   \n",
       "481                  1                 0                0          0   \n",
       "482                  1                 0                0          1   \n",
       "483                  1                 1                0          1   \n",
       "\n",
       "     EX_IMG_ST  EX_OUTROS_ST  TIPO_REGISTRO  SN_CRIT_CONTATO_CASO_COVID  \\\n",
       "8            1             0              1                           0   \n",
       "12           1             0              1                           0   \n",
       "25           0             0              0                           0   \n",
       "34           1             1              0                           0   \n",
       "52           1             1              0                           0   \n",
       "..         ...           ...            ...                         ...   \n",
       "475          1             0              1                           0   \n",
       "479          0             0              1                           0   \n",
       "481          1             0              1                           0   \n",
       "482          0             0              1                           0   \n",
       "483          1             1              1                           0   \n",
       "\n",
       "     SN_CRIT_SRAG  SN_CRIT_SINDROME_GRIPAL  ESTUDO_TP_EXPOSICAO  \\\n",
       "8               0                        0                    3   \n",
       "12              0                        0                    2   \n",
       "25              1                        0                    3   \n",
       "34              1                        0                    2   \n",
       "52              1                        0                    3   \n",
       "..            ...                      ...                  ...   \n",
       "475             0                        0                    6   \n",
       "479             0                        0                    3   \n",
       "481             0                        0                    3   \n",
       "482             0                        1                    3   \n",
       "483             1                        0                    2   \n",
       "\n",
       "     ESTUDO_COMORB_PREV_HAS  ESTUDO_COMORB_PREV_IAM  ESTUDO_COMORB_PREV_IC  \\\n",
       "8                         0                       0                      0   \n",
       "12                        1                       0                      1   \n",
       "25                        0                       0                      0   \n",
       "34                        0                       0                      0   \n",
       "52                        1                       0                      0   \n",
       "..                      ...                     ...                    ...   \n",
       "475                       1                       0                      0   \n",
       "479                       1                       0                      0   \n",
       "481                       0                       1                      0   \n",
       "482                       0                       0                      0   \n",
       "483                       0                       0                      0   \n",
       "\n",
       "     ESTUDO_COMORB_PREV_DRC  ESTUDO_COMORB_PREV_DMII  \\\n",
       "8                         0                        0   \n",
       "12                        1                        0   \n",
       "25                        0                        1   \n",
       "34                        1                        0   \n",
       "52                        0                        0   \n",
       "..                      ...                      ...   \n",
       "475                       0                        0   \n",
       "479                       0                        1   \n",
       "481                       0                        0   \n",
       "482                       0                        0   \n",
       "483                       1                        1   \n",
       "\n",
       "     ESTUDO_COMORB_PREV_CARCINOMA  ESTUDO_COMORB_PREV_AVC  \\\n",
       "8                               0                       0   \n",
       "12                              0                       0   \n",
       "25                              0                       0   \n",
       "34                              0                       0   \n",
       "52                              0                       0   \n",
       "..                            ...                     ...   \n",
       "475                             0                       1   \n",
       "479                             0                       0   \n",
       "481                             0                       0   \n",
       "482                             0                       0   \n",
       "483                             0                       0   \n",
       "\n",
       "     ESTUDO_COMORB_PREV_ASMA  ESTUDO_COMORB_PREV_DPOC  \\\n",
       "8                          0                        0   \n",
       "12                         0                        0   \n",
       "25                         1                        0   \n",
       "34                         0                        0   \n",
       "52                         1                        0   \n",
       "..                       ...                      ...   \n",
       "475                        0                        0   \n",
       "479                        0                        0   \n",
       "481                        0                        0   \n",
       "482                        0                        0   \n",
       "483                        0                        0   \n",
       "\n",
       "     ESTUDO_COMORB_PREV_OBESIDADE  ESTUDO_COMORB_PREV_EPILEPSIA  \\\n",
       "8                               0                             0   \n",
       "12                              0                             0   \n",
       "25                              0                             0   \n",
       "34                              0                             0   \n",
       "52                              0                             0   \n",
       "..                            ...                           ...   \n",
       "475                             0                             0   \n",
       "479                             0                             0   \n",
       "481                             0                             0   \n",
       "482                             0                             0   \n",
       "483                             0                             0   \n",
       "\n",
       "     ESTUDO_COMORB_PREV_HIGIDO  ESTUDO_COMORB_PREV_OUTRAS  ESTUDO_CHARLSON  \\\n",
       "8                            0                          1              2.0   \n",
       "12                           0                          1              5.0   \n",
       "25                           0                          1              5.0   \n",
       "34                           0                          1              2.0   \n",
       "52                           0                          1              1.0   \n",
       "..                         ...                        ...              ...   \n",
       "475                          0                          1              5.0   \n",
       "479                          0                          1              5.0   \n",
       "481                          0                          1              2.0   \n",
       "482                          0                          1              4.0   \n",
       "483                          0                          0              3.0   \n",
       "\n",
       "    ESTUDO_FR_DIA_COLETA  ESTUDO_FC_DIA_COLETA ESTUDO_PA_DIA_COLETA  \\\n",
       "8                    NaN                   NaN                  NaN   \n",
       "12                   NaN                   NaN                  NaN   \n",
       "25                   NaN                   NaN                  NaN   \n",
       "34                   NaN                   NaN                  NaN   \n",
       "52                   NaN                   NaN                  NaN   \n",
       "..                   ...                   ...                  ...   \n",
       "475                  NaN                   NaN                  NaN   \n",
       "479                  NaN                   NaN                  NaN   \n",
       "481                  NaN                   NaN                  NaN   \n",
       "482                   22                 100.0               156/30   \n",
       "483                   17                  66.0               120/60   \n",
       "\n",
       "    ESTUDO_TEMPERATURA_DIA_COLETA ESTUDO_SATURACAO_DIA_COLETA  ESTUDO_APACHE2  \\\n",
       "8                             NaN                         NaN             NaN   \n",
       "12                            NaN                         NaN             NaN   \n",
       "25                            NaN                         NaN             NaN   \n",
       "34                            NaN                         NaN             NaN   \n",
       "52                            NaN                         NaN             NaN   \n",
       "..                            ...                         ...             ...   \n",
       "475                           NaN                         NaN             NaN   \n",
       "479                           NaN                         NaN             NaN   \n",
       "481                           NaN                         NaN             NaN   \n",
       "482                          36,8                          93             NaN   \n",
       "483                          37,3                      76-88%             NaN   \n",
       "\n",
       "     ESTUDO_RISCO ESTUDO_TRATAMENTO ESTUDO_COMORB_PREV_TX_ORG_SOL  \\\n",
       "8             NaN               NaN                             N   \n",
       "12            NaN               NaN                             N   \n",
       "25            NaN               NaN                             N   \n",
       "34            NaN               NaN                             S   \n",
       "52            NaN               NaN                             N   \n",
       "..            ...               ...                           ...   \n",
       "475           NaN               NaN                             N   \n",
       "479           NaN               NaN                             N   \n",
       "481           NaN               NaN                             N   \n",
       "482           NaN                 D                             N   \n",
       "483           NaN                 N                             N   \n",
       "\n",
       "    ESTUDO_CONDUTA   ESTUDO_LOCAL_CONTAMINACAO  ESTUDO_LOCAL_CONTAM_UI  \\\n",
       "8                L                DESCONHECIDO                     NaN   \n",
       "12               L   UNIDADE DE INTERNACAO HSL                    15.0   \n",
       "25               L                     EXTERNO                     NaN   \n",
       "34               L   UNIDADE DE INTERNACAO HSL                    12.0   \n",
       "52               L                     EXTERNO                     NaN   \n",
       "..             ...                         ...                     ...   \n",
       "475              L  OUTRA INSTITUIÇÃO DE SAÚDE                     NaN   \n",
       "479              L                     EXTERNO                     NaN   \n",
       "481              L                     EXTERNO                     NaN   \n",
       "482              L                     EXTERNO                     NaN   \n",
       "483              L                         HSL                    14.0   \n",
       "\n",
       "    ESTUDO_DT_DESFECHO ESTUDO_COMORB_PREV_DESCON ESTUDO_COMORB_PREV_DVP  \\\n",
       "8                  NaN                         N                      N   \n",
       "12                 NaN                         N                      N   \n",
       "25                 NaN                         N                      N   \n",
       "34                 NaN                         N                      N   \n",
       "52                 NaN                         N                      N   \n",
       "..                 ...                       ...                    ...   \n",
       "475                NaN                         N                      N   \n",
       "479                NaN                         N                      N   \n",
       "481                NaN                         N                      N   \n",
       "482         17/08/2020                         N                      N   \n",
       "483         20/10/2020                         N                      N   \n",
       "\n",
       "    ESTUDO_COMORB_PREV_DEMENCIA ESTUDO_COMORB_PREV_DTC ESTUDO_COMORB_PREV_UP  \\\n",
       "8                             N                      N                     N   \n",
       "12                            N                      N                     N   \n",
       "25                            N                      N                     N   \n",
       "34                            N                      N                     N   \n",
       "52                            N                      N                     N   \n",
       "..                          ...                    ...                   ...   \n",
       "475                           N                      N                     N   \n",
       "479                           N                      N                     N   \n",
       "481                           N                      N                     N   \n",
       "482                           N                      N                     N   \n",
       "483                           N                      N                     N   \n",
       "\n",
       "    ESTUDO_COMORB_PREV_DFL ESTUDO_COMORB_PREV_DFM  \\\n",
       "8                        N                      N   \n",
       "12                       N                      N   \n",
       "25                       N                      N   \n",
       "34                       N                      N   \n",
       "52                       N                      N   \n",
       "..                     ...                    ...   \n",
       "475                      N                      N   \n",
       "479                      N                      N   \n",
       "481                      N                      N   \n",
       "482                      N                      N   \n",
       "483                      N                      N   \n",
       "\n",
       "    ESTUDO_COMORB_PREV_HEMIPLEGIA ESTUDO_COMORB_PREV_LEUCEMIA  \\\n",
       "8                               N                           S   \n",
       "12                              N                           N   \n",
       "25                              N                           N   \n",
       "34                              N                           N   \n",
       "52                              N                           N   \n",
       "..                            ...                         ...   \n",
       "475                             N                           N   \n",
       "479                             N                           N   \n",
       "481                             N                           N   \n",
       "482                             N                           N   \n",
       "483                             N                           N   \n",
       "\n",
       "    ESTUDO_COMORB_PREV_HIV ESTUDO_COMORB_PREV_TUL ESTUDO_COMORB_PREV_TUM  \\\n",
       "8                        N                      N                      N   \n",
       "12                       N                      N                      N   \n",
       "25                       N                      N                      N   \n",
       "34                       N                      N                      N   \n",
       "52                       N                      N                      N   \n",
       "..                     ...                    ...                    ...   \n",
       "475                      N                      N                      N   \n",
       "479                      N                      N                      N   \n",
       "481                      N                      N                      N   \n",
       "482                      N                      N                      N   \n",
       "483                      N                      N                      N   \n",
       "\n",
       "     DIAS_CORRIDOS STATUS_COVID.1  CD_ATENDIMENTO.1          DTHR_UTI_IN  \\\n",
       "8                0            NaN               NaN                  NaN   \n",
       "12               5            NaN               NaN                  NaN   \n",
       "25               4            NaN               NaN                  NaN   \n",
       "34              85            NaN               NaN                  NaN   \n",
       "52               1    CONFIRMADOS         1262191.0  09/04/2020 11:45:12   \n",
       "..             ...            ...               ...                  ...   \n",
       "475              9            NaN               NaN                  NaN   \n",
       "479              1            NaN               NaN                  NaN   \n",
       "481              3            NaN               NaN                  NaN   \n",
       "482              7            NaN               NaN                  NaN   \n",
       "483             72    CONFIRMADOS         1354901.0  12/10/2020 18:14:08   \n",
       "\n",
       "            DTHR_UTI_OUT  DIAS_NA_UTI  \n",
       "8                    NaN     0.000000  \n",
       "12                   NaN     0.000000  \n",
       "25                   NaN     0.000000  \n",
       "34                   NaN     0.000000  \n",
       "52   11/04/2020 12:30:00     2.031111  \n",
       "..                   ...          ...  \n",
       "475                  NaN     0.000000  \n",
       "479                  NaN     0.000000  \n",
       "481                  NaN     0.000000  \n",
       "482                  NaN     0.000000  \n",
       "483  20/10/2020 04:00:10     7.406968  \n",
       "\n",
       "[143 rows x 69 columns]"
      ]
     },
     "execution_count": 156,
     "metadata": {},
     "output_type": "execute_result"
    }
   ],
   "source": [
    "#data = data.drop(['ESTUDO_CHARLSON'], axis=1)\n",
    "need_fill = data[data['ESTUDO_CHARLSON'].isna()]\n",
    "already_charlson = data[data['ESTUDO_CHARLSON'].notna()]\n",
    "already_charlson"
   ]
  },
  {
   "cell_type": "code",
   "execution_count": 157,
   "id": "baking-bottom",
   "metadata": {},
   "outputs": [
    {
     "data": {
      "text/plain": [
       "0       2.0\n",
       "1       5.0\n",
       "2       5.0\n",
       "3       2.0\n",
       "4       1.0\n",
       "       ... \n",
       "1323    4.0\n",
       "1324    3.0\n",
       "1325    0.0\n",
       "1326    3.0\n",
       "1327    2.0\n",
       "Name: ESTUDO_CHARLSON_x, Length: 1328, dtype: float64"
      ]
     },
     "execution_count": 157,
     "metadata": {},
     "output_type": "execute_result"
    }
   ],
   "source": [
    "charlson_complete = charlson_complete.rename(columns=str.upper)\n",
    "\n",
    "final = pd.concat([already_charlson, need_fill])\n",
    "merged = pd.merge(final, charlson_complete, how='left', on='CD_PACIENTE')\n",
    "\n",
    "merged['ESTUDO_CHARLSON_x'] = merged['ESTUDO_CHARLSON_x'].fillna(merged['ESTUDO_CHARLSON_y'])\n",
    "merged['ESTUDO_CHARLSON_x']"
   ]
  },
  {
   "cell_type": "code",
   "execution_count": 158,
   "id": "heavy-banks",
   "metadata": {},
   "outputs": [
    {
     "data": {
      "image/png": "[encoded data removed]",
      "text/plain": [
       "<Figure size 1440x720 with 1 Axes>"
      ]
     },
     "metadata": {
      "needs_background": "light"
     },
     "output_type": "display_data"
    }
   ],
   "source": [
    "plt.figure(figsize=(20, 10))\n",
    "sns.histplot(merged['ESTUDO_CHARLSON_x'], kde=True)\n",
    "plt.title(\"Charlson Final\")\n",
    "plt.show()"
   ]
  },
  {
   "cell_type": "code",
   "execution_count": 159,
   "id": "whole-worship",
   "metadata": {},
   "outputs": [
    {
     "name": "stdout",
     "output_type": "stream",
     "text": [
      "Valores Faltantes:  0\n",
      "2.0     294\n",
      "0.0     280\n",
      "3.0     250\n",
      "4.0     226\n",
      "1.0     204\n",
      "5.0      33\n",
      "6.0      18\n",
      "7.0       8\n",
      "10.0      6\n",
      "8.0       6\n",
      "9.0       2\n",
      "11.0      1\n",
      "Name: ESTUDO_CHARLSON, dtype: int64\n",
      "ESTUDO_CHARLSON:  [2.0, 5.0, 1.0, 3.0, 6.0, 7.0, 4.0, 8.0, 9.0, 10.0, 0.0, 11.0]\n"
     ]
    },
    {
     "data": {
      "text/plain": [
       "0"
      ]
     },
     "execution_count": 159,
     "metadata": {},
     "output_type": "execute_result"
    }
   ],
   "source": [
    "data['ESTUDO_CHARLSON'] = merged['ESTUDO_CHARLSON_x']\n",
    "resume('ESTUDO_CHARLSON', data)"
   ]
  },
  {
   "cell_type": "markdown",
   "id": "level-interface",
   "metadata": {},
   "source": [
    "#### ESTUDO_FR_DIA_COLETA"
   ]
  },
  {
   "cell_type": "code",
   "execution_count": 160,
   "id": "foreign-completion",
   "metadata": {},
   "outputs": [
    {
     "data": {
      "text/plain": [
       "23      1\n",
       "NC      1\n",
       "17      1\n",
       "20.0    1\n",
       "26.0    1\n",
       "13      1\n",
       "22      1\n",
       "26      1\n",
       "18.0    1\n",
       "Name: ESTUDO_FR_DIA_COLETA, dtype: int64"
      ]
     },
     "execution_count": 160,
     "metadata": {},
     "output_type": "execute_result"
    }
   ],
   "source": [
    "data['ESTUDO_FR_DIA_COLETA'].value_counts() #DROP SEM INFO NO DICIONARIO"
   ]
  },
  {
   "cell_type": "code",
   "execution_count": 161,
   "id": "suited-graham",
   "metadata": {},
   "outputs": [],
   "source": [
    "data = data.drop(['ESTUDO_FR_DIA_COLETA'], axis=1)"
   ]
  },
  {
   "cell_type": "markdown",
   "id": "inclusive-settle",
   "metadata": {},
   "source": [
    "#### ESTUDO_FC_DIA_COLETA"
   ]
  },
  {
   "cell_type": "code",
   "execution_count": 162,
   "id": "excessive-parker",
   "metadata": {},
   "outputs": [],
   "source": [
    "data['ESTUDO_FC_DIA_COLETA'] = data['ESTUDO_FC_DIA_COLETA'].fillna('NI')"
   ]
  },
  {
   "cell_type": "code",
   "execution_count": 163,
   "id": "framed-polish",
   "metadata": {},
   "outputs": [
    {
     "data": {
      "text/plain": [
       "NI       1319\n",
       "105.0       1\n",
       "102.0       1\n",
       "100.0       1\n",
       "96.0        1\n",
       "95.0        1\n",
       "82.0        1\n",
       "66.0        1\n",
       "64.0        1\n",
       "63.0        1\n",
       "Name: ESTUDO_FC_DIA_COLETA, dtype: int64"
      ]
     },
     "execution_count": 163,
     "metadata": {},
     "output_type": "execute_result"
    }
   ],
   "source": [
    "data['ESTUDO_FC_DIA_COLETA'].value_counts() #DROP SEM INFO NO DICIONARIO"
   ]
  },
  {
   "cell_type": "code",
   "execution_count": 164,
   "id": "knowing-moderator",
   "metadata": {},
   "outputs": [],
   "source": [
    "data = data.drop(['ESTUDO_FC_DIA_COLETA'], axis=1)"
   ]
  },
  {
   "cell_type": "markdown",
   "id": "suspected-trance",
   "metadata": {},
   "source": [
    "#### ESTUDO_PA_DIA_COLETA"
   ]
  },
  {
   "cell_type": "code",
   "execution_count": 165,
   "id": "satisfied-chance",
   "metadata": {},
   "outputs": [],
   "source": [
    "data['ESTUDO_PA_DIA_COLETA'] = data['ESTUDO_PA_DIA_COLETA'].fillna('NI')"
   ]
  },
  {
   "cell_type": "code",
   "execution_count": 166,
   "id": "compliant-power",
   "metadata": {},
   "outputs": [
    {
     "data": {
      "text/plain": [
       "NI        1319\n",
       "163/72       1\n",
       "115/65       1\n",
       "149/77       1\n",
       "120/60       1\n",
       "170/90       1\n",
       "156/30       1\n",
       "110/80       1\n",
       "109/74       1\n",
       "109/64       1\n",
       "Name: ESTUDO_PA_DIA_COLETA, dtype: int64"
      ]
     },
     "execution_count": 166,
     "metadata": {},
     "output_type": "execute_result"
    }
   ],
   "source": [
    "data['ESTUDO_PA_DIA_COLETA'].value_counts() #DROP SEM INFO NO DICIONARIO"
   ]
  },
  {
   "cell_type": "code",
   "execution_count": 167,
   "id": "explicit-firmware",
   "metadata": {},
   "outputs": [],
   "source": [
    "data = data.drop(['ESTUDO_PA_DIA_COLETA'], axis=1)"
   ]
  },
  {
   "cell_type": "markdown",
   "id": "buried-drilling",
   "metadata": {},
   "source": [
    "#### ESTUDO_TEMPERATURA_DIA_COLETA"
   ]
  },
  {
   "cell_type": "code",
   "execution_count": 168,
   "id": "graduate-belief",
   "metadata": {},
   "outputs": [],
   "source": [
    "data['ESTUDO_TEMPERATURA_DIA_COLETA'] = data['ESTUDO_TEMPERATURA_DIA_COLETA'].fillna('NI')"
   ]
  },
  {
   "cell_type": "code",
   "execution_count": 169,
   "id": "adopted-married",
   "metadata": {},
   "outputs": [
    {
     "data": {
      "text/plain": [
       "NI      1320\n",
       "36,4       2\n",
       "36.0       1\n",
       "36,8       1\n",
       "37,9       1\n",
       "37,3       1\n",
       "36,3       1\n",
       "36,9       1\n",
       "Name: ESTUDO_TEMPERATURA_DIA_COLETA, dtype: int64"
      ]
     },
     "execution_count": 169,
     "metadata": {},
     "output_type": "execute_result"
    }
   ],
   "source": [
    "data['ESTUDO_TEMPERATURA_DIA_COLETA'].value_counts() #DROP SEM INFO NO DICIONARIO"
   ]
  },
  {
   "cell_type": "code",
   "execution_count": 170,
   "id": "inner-ownership",
   "metadata": {},
   "outputs": [],
   "source": [
    "data = data.drop(['ESTUDO_TEMPERATURA_DIA_COLETA'], axis=1)"
   ]
  },
  {
   "cell_type": "markdown",
   "id": "weekly-witness",
   "metadata": {},
   "source": [
    "#### ESTUDO_SATURACAO_DIA_COLETA"
   ]
  },
  {
   "cell_type": "code",
   "execution_count": 171,
   "id": "moving-machine",
   "metadata": {},
   "outputs": [],
   "source": [
    "data['ESTUDO_SATURACAO_DIA_COLETA'] = data['ESTUDO_SATURACAO_DIA_COLETA'].fillna('NI')"
   ]
  },
  {
   "cell_type": "code",
   "execution_count": 172,
   "id": "straight-jenny",
   "metadata": {},
   "outputs": [
    {
     "data": {
      "text/plain": [
       "NI        1320\n",
       "95           2\n",
       "92.0         1\n",
       "95.0         1\n",
       "97.0         1\n",
       "93           1\n",
       "91           1\n",
       "76-88%       1\n",
       "Name: ESTUDO_SATURACAO_DIA_COLETA, dtype: int64"
      ]
     },
     "execution_count": 172,
     "metadata": {},
     "output_type": "execute_result"
    }
   ],
   "source": [
    "data['ESTUDO_SATURACAO_DIA_COLETA'].value_counts() #DROP SEM INFO NO DICIONARIO"
   ]
  },
  {
   "cell_type": "code",
   "execution_count": 173,
   "id": "caroline-mystery",
   "metadata": {},
   "outputs": [],
   "source": [
    "data = data.drop(['ESTUDO_SATURACAO_DIA_COLETA'], axis=1)"
   ]
  },
  {
   "cell_type": "markdown",
   "id": "minimal-sellers",
   "metadata": {},
   "source": [
    "#### ESTUDO_APACHE2"
   ]
  },
  {
   "cell_type": "code",
   "execution_count": 174,
   "id": "resistant-tissue",
   "metadata": {},
   "outputs": [],
   "source": [
    "data['ESTUDO_APACHE2'] = data['ESTUDO_APACHE2'].fillna('NI')"
   ]
  },
  {
   "cell_type": "code",
   "execution_count": 175,
   "id": "raised-engagement",
   "metadata": {},
   "outputs": [
    {
     "data": {
      "text/plain": [
       "NI    1328\n",
       "Name: ESTUDO_APACHE2, dtype: int64"
      ]
     },
     "execution_count": 175,
     "metadata": {},
     "output_type": "execute_result"
    }
   ],
   "source": [
    "data['ESTUDO_APACHE2'].value_counts() #DROP"
   ]
  },
  {
   "cell_type": "code",
   "execution_count": 176,
   "id": "killing-abraham",
   "metadata": {},
   "outputs": [],
   "source": [
    "data = data.drop(['ESTUDO_APACHE2'], axis=1)"
   ]
  },
  {
   "cell_type": "markdown",
   "id": "compatible-content",
   "metadata": {},
   "source": [
    "#### ESTUDO_RISCO"
   ]
  },
  {
   "cell_type": "code",
   "execution_count": 177,
   "id": "ranging-polymer",
   "metadata": {},
   "outputs": [
    {
     "data": {
      "text/plain": [
       "Series([], Name: ESTUDO_RISCO, dtype: int64)"
      ]
     },
     "execution_count": 177,
     "metadata": {},
     "output_type": "execute_result"
    }
   ],
   "source": [
    "data['ESTUDO_RISCO'].value_counts() #DROP SEM INFO NO DICIONARIO"
   ]
  },
  {
   "cell_type": "code",
   "execution_count": 178,
   "id": "satisfied-article",
   "metadata": {},
   "outputs": [],
   "source": [
    "data = data.drop(['ESTUDO_RISCO'], axis=1)"
   ]
  },
  {
   "cell_type": "markdown",
   "id": "armed-recall",
   "metadata": {},
   "source": [
    "#### ESTUDO_TRATAMENTO"
   ]
  },
  {
   "cell_type": "code",
   "execution_count": 179,
   "id": "automated-consolidation",
   "metadata": {},
   "outputs": [
    {
     "data": {
      "text/plain": [
       "D    4\n",
       "N    2\n",
       "Name: ESTUDO_TRATAMENTO, dtype: int64"
      ]
     },
     "execution_count": 179,
     "metadata": {},
     "output_type": "execute_result"
    }
   ],
   "source": [
    "data['ESTUDO_TRATAMENTO'].value_counts() #DROP SEM INFO NO DICIONARIO"
   ]
  },
  {
   "cell_type": "code",
   "execution_count": 180,
   "id": "enormous-finger",
   "metadata": {},
   "outputs": [],
   "source": [
    "data = data.drop(['ESTUDO_TRATAMENTO'], axis=1)"
   ]
  },
  {
   "cell_type": "markdown",
   "id": "divine-instruction",
   "metadata": {},
   "source": [
    "#### ESTUDO_COMORB_PREV_TX_ORG_SOL"
   ]
  },
  {
   "cell_type": "code",
   "execution_count": 181,
   "id": "european-swaziland",
   "metadata": {},
   "outputs": [
    {
     "data": {
      "text/plain": [
       "N    1315\n",
       "S       8\n",
       "Name: ESTUDO_COMORB_PREV_TX_ORG_SOL, dtype: int64"
      ]
     },
     "execution_count": 181,
     "metadata": {},
     "output_type": "execute_result"
    }
   ],
   "source": [
    "data['ESTUDO_COMORB_PREV_TX_ORG_SOL'].value_counts() #DROP SEM INFO NO DICIONARIO"
   ]
  },
  {
   "cell_type": "code",
   "execution_count": 182,
   "id": "binding-hartford",
   "metadata": {},
   "outputs": [],
   "source": [
    "data = data.drop(['ESTUDO_COMORB_PREV_TX_ORG_SOL'], axis=1)"
   ]
  },
  {
   "cell_type": "markdown",
   "id": "infrared-lemon",
   "metadata": {},
   "source": [
    "#### ESTUDO_CONDUTA"
   ]
  },
  {
   "cell_type": "code",
   "execution_count": 183,
   "id": "lightweight-mills",
   "metadata": {},
   "outputs": [
    {
     "data": {
      "text/plain": [
       "L    1322\n",
       "Name: ESTUDO_CONDUTA, dtype: int64"
      ]
     },
     "execution_count": 183,
     "metadata": {},
     "output_type": "execute_result"
    }
   ],
   "source": [
    "data['ESTUDO_CONDUTA'].value_counts() #DROP SEM INFO NO DICIONARIO"
   ]
  },
  {
   "cell_type": "code",
   "execution_count": 184,
   "id": "macro-antenna",
   "metadata": {},
   "outputs": [],
   "source": [
    "data = data.drop(['ESTUDO_CONDUTA'], axis=1)"
   ]
  },
  {
   "cell_type": "markdown",
   "id": "broken-trading",
   "metadata": {},
   "source": [
    "#### ESTUDO_LOCAL_CONTAMINACAO"
   ]
  },
  {
   "cell_type": "code",
   "execution_count": 185,
   "id": "ordinary-jewelry",
   "metadata": {},
   "outputs": [],
   "source": [
    "data['ESTUDO_LOCAL_CONTAMINACAO'] = data['ESTUDO_LOCAL_CONTAMINACAO'].fillna('NI')"
   ]
  },
  {
   "cell_type": "code",
   "execution_count": 186,
   "id": "engaging-adelaide",
   "metadata": {},
   "outputs": [
    {
     "data": {
      "text/plain": [
       "NI                                  1101\n",
       "EXTERNO                              114\n",
       "UNIDADE DE INTERNACAO HSL             86\n",
       "OUTRA INSTITUIÇÃO DE SAÚDE            10\n",
       "HSL                                    8\n",
       "DESCONHECIDO                           6\n",
       "INSTITUIÇÃO DE LONGA PERMANÊNCIA       2\n",
       "OUTRA INSTITUICAO DE SAUDE             1\n",
       "Name: ESTUDO_LOCAL_CONTAMINACAO, dtype: int64"
      ]
     },
     "execution_count": 186,
     "metadata": {},
     "output_type": "execute_result"
    }
   ],
   "source": [
    "data['ESTUDO_LOCAL_CONTAMINACAO'].value_counts()"
   ]
  },
  {
   "cell_type": "code",
   "execution_count": 187,
   "id": "strategic-toronto",
   "metadata": {},
   "outputs": [],
   "source": [
    "keys = data['ESTUDO_LOCAL_CONTAMINACAO'].value_counts().keys().tolist()"
   ]
  },
  {
   "cell_type": "code",
   "execution_count": 188,
   "id": "renewable-runner",
   "metadata": {},
   "outputs": [],
   "source": [
    "dictToReplace = __getDictToReplace(keys)"
   ]
  },
  {
   "cell_type": "code",
   "execution_count": 189,
   "id": "reliable-voluntary",
   "metadata": {},
   "outputs": [
    {
     "data": {
      "text/plain": [
       "{'NI': 1,\n",
       " 'EXTERNO': 2,\n",
       " 'UNIDADE DE INTERNACAO HSL': 3,\n",
       " 'OUTRA INSTITUIÇÃO DE SAÚDE': 4,\n",
       " 'HSL': 5,\n",
       " 'DESCONHECIDO': 6,\n",
       " 'INSTITUIÇÃO DE LONGA PERMANÊNCIA': 7,\n",
       " 'OUTRA INSTITUICAO DE SAUDE': 8}"
      ]
     },
     "execution_count": 189,
     "metadata": {},
     "output_type": "execute_result"
    }
   ],
   "source": [
    "dictToReplace"
   ]
  },
  {
   "cell_type": "code",
   "execution_count": 190,
   "id": "prime-grocery",
   "metadata": {},
   "outputs": [],
   "source": [
    "data['ESTUDO_LOCAL_CONTAMINACAO'] = data['ESTUDO_LOCAL_CONTAMINACAO'].replace(dictToReplace)"
   ]
  },
  {
   "cell_type": "markdown",
   "id": "loved-maximum",
   "metadata": {},
   "source": [
    "#### ESTUDO_LOCAL_CONTAM_UI"
   ]
  },
  {
   "cell_type": "code",
   "execution_count": 191,
   "id": "fabulous-technical",
   "metadata": {},
   "outputs": [],
   "source": [
    "data['ESTUDO_LOCAL_CONTAM_UI'] = data['ESTUDO_LOCAL_CONTAM_UI'].fillna('NI')"
   ]
  },
  {
   "cell_type": "code",
   "execution_count": 192,
   "id": "continent-ghost",
   "metadata": {},
   "outputs": [
    {
     "data": {
      "text/plain": [
       "NI      1237\n",
       "15.0      20\n",
       "13.0      16\n",
       "12.0      16\n",
       "14.0       8\n",
       "9.0        8\n",
       "8.0        7\n",
       "18.0       5\n",
       "19.0       4\n",
       "6.0        4\n",
       "17.0       1\n",
       "16.0       1\n",
       "5.0        1\n",
       "Name: ESTUDO_LOCAL_CONTAM_UI, dtype: int64"
      ]
     },
     "execution_count": 192,
     "metadata": {},
     "output_type": "execute_result"
    }
   ],
   "source": [
    "data['ESTUDO_LOCAL_CONTAM_UI'].value_counts()"
   ]
  },
  {
   "cell_type": "code",
   "execution_count": 193,
   "id": "bibliographic-welsh",
   "metadata": {},
   "outputs": [],
   "source": [
    "data['ESTUDO_LOCAL_CONTAM_UI'] = data['ESTUDO_LOCAL_CONTAM_UI'].replace({'NI': 2})"
   ]
  },
  {
   "cell_type": "markdown",
   "id": "stylish-andrew",
   "metadata": {},
   "source": [
    "#### ESTUDO_DT_DESFECHO"
   ]
  },
  {
   "cell_type": "code",
   "execution_count": 194,
   "id": "surrounded-pipeline",
   "metadata": {},
   "outputs": [
    {
     "data": {
      "text/plain": [
       "17/08/2020    2\n",
       "22/09/2020    1\n",
       "15/08/2020    1\n",
       "20/10/2020    1\n",
       "26/08/2020    1\n",
       "23/09/2020    1\n",
       "01/09/2020    1\n",
       "18/11/2020    1\n",
       "Name: ESTUDO_DT_DESFECHO, dtype: int64"
      ]
     },
     "execution_count": 194,
     "metadata": {},
     "output_type": "execute_result"
    }
   ],
   "source": [
    "data['ESTUDO_DT_DESFECHO'].value_counts() #DROP"
   ]
  },
  {
   "cell_type": "code",
   "execution_count": 195,
   "id": "included-finance",
   "metadata": {},
   "outputs": [],
   "source": [
    "data = data.drop(['ESTUDO_DT_DESFECHO'], axis=1)"
   ]
  },
  {
   "cell_type": "markdown",
   "id": "mysterious-hungary",
   "metadata": {},
   "source": [
    "#### ESTUDO_COMORB_PREV_DESCON"
   ]
  },
  {
   "cell_type": "code",
   "execution_count": 196,
   "id": "regulated-collect",
   "metadata": {},
   "outputs": [
    {
     "data": {
      "text/plain": [
       "N    1323\n",
       "Name: ESTUDO_COMORB_PREV_DESCON, dtype: int64"
      ]
     },
     "execution_count": 196,
     "metadata": {},
     "output_type": "execute_result"
    }
   ],
   "source": [
    "data['ESTUDO_COMORB_PREV_DESCON'].value_counts() #DROP"
   ]
  },
  {
   "cell_type": "code",
   "execution_count": 197,
   "id": "incredible-directory",
   "metadata": {},
   "outputs": [],
   "source": [
    "data = data.drop(['ESTUDO_COMORB_PREV_DESCON'], axis=1)"
   ]
  },
  {
   "cell_type": "markdown",
   "id": "conservative-removal",
   "metadata": {},
   "source": [
    "#### ESTUDO_COMORB_PREV_DVP"
   ]
  },
  {
   "cell_type": "code",
   "execution_count": 198,
   "id": "still-particle",
   "metadata": {},
   "outputs": [
    {
     "data": {
      "text/plain": [
       "N    1320\n",
       "S       3\n",
       "Name: ESTUDO_COMORB_PREV_DVP, dtype: int64"
      ]
     },
     "execution_count": 198,
     "metadata": {},
     "output_type": "execute_result"
    }
   ],
   "source": [
    "data['ESTUDO_COMORB_PREV_DVP'].value_counts() #DROP"
   ]
  },
  {
   "cell_type": "code",
   "execution_count": 199,
   "id": "therapeutic-casting",
   "metadata": {},
   "outputs": [],
   "source": [
    "data = data.drop(['ESTUDO_COMORB_PREV_DVP'], axis=1)"
   ]
  },
  {
   "cell_type": "markdown",
   "id": "mechanical-marsh",
   "metadata": {},
   "source": [
    "#### ESTUDO_COMORB_PREV_DEMENCIA"
   ]
  },
  {
   "cell_type": "code",
   "execution_count": 200,
   "id": "satisfactory-zoning",
   "metadata": {},
   "outputs": [],
   "source": [
    "data['ESTUDO_COMORB_PREV_DEMENCIA'] = data['ESTUDO_COMORB_PREV_DEMENCIA'].fillna('NI')"
   ]
  },
  {
   "cell_type": "code",
   "execution_count": 201,
   "id": "continuous-acceptance",
   "metadata": {},
   "outputs": [
    {
     "data": {
      "text/plain": [
       "N     1315\n",
       "S        8\n",
       "NI       5\n",
       "Name: ESTUDO_COMORB_PREV_DEMENCIA, dtype: int64"
      ]
     },
     "execution_count": 201,
     "metadata": {},
     "output_type": "execute_result"
    }
   ],
   "source": [
    "data['ESTUDO_COMORB_PREV_DEMENCIA'].value_counts()"
   ]
  },
  {
   "cell_type": "code",
   "execution_count": 202,
   "id": "improving-description",
   "metadata": {},
   "outputs": [],
   "source": [
    "data['ESTUDO_COMORB_PREV_DEMENCIA'] = data['ESTUDO_COMORB_PREV_DEMENCIA'].replace({'S': 1, 'N': 0, 'NI': 2})"
   ]
  },
  {
   "cell_type": "markdown",
   "id": "universal-explosion",
   "metadata": {},
   "source": [
    "#### ESTUDO_COMORB_PREV_DTC"
   ]
  },
  {
   "cell_type": "code",
   "execution_count": 203,
   "id": "young-protest",
   "metadata": {},
   "outputs": [
    {
     "data": {
      "text/plain": [
       "N    1323\n",
       "Name: ESTUDO_COMORB_PREV_DTC, dtype: int64"
      ]
     },
     "execution_count": 203,
     "metadata": {},
     "output_type": "execute_result"
    }
   ],
   "source": [
    "data['ESTUDO_COMORB_PREV_DTC'].value_counts() #DROP"
   ]
  },
  {
   "cell_type": "code",
   "execution_count": 204,
   "id": "dutch-dakota",
   "metadata": {},
   "outputs": [],
   "source": [
    "data = data.drop(['ESTUDO_COMORB_PREV_DTC'], axis=1)"
   ]
  },
  {
   "cell_type": "markdown",
   "id": "opposed-uniform",
   "metadata": {},
   "source": [
    "#### ESTUDO_COMORB_PREV_UP"
   ]
  },
  {
   "cell_type": "code",
   "execution_count": 205,
   "id": "neural-sitting",
   "metadata": {},
   "outputs": [
    {
     "data": {
      "text/plain": [
       "N    1321\n",
       "S       2\n",
       "Name: ESTUDO_COMORB_PREV_UP, dtype: int64"
      ]
     },
     "execution_count": 205,
     "metadata": {},
     "output_type": "execute_result"
    }
   ],
   "source": [
    "data['ESTUDO_COMORB_PREV_UP'].value_counts() #DROP SEM INFO NO DICIONARIO"
   ]
  },
  {
   "cell_type": "code",
   "execution_count": 206,
   "id": "harmful-chancellor",
   "metadata": {},
   "outputs": [],
   "source": [
    "data = data.drop(['ESTUDO_COMORB_PREV_UP'], axis=1)"
   ]
  },
  {
   "cell_type": "markdown",
   "id": "useful-excuse",
   "metadata": {},
   "source": [
    "#### ESTUDO_COMORB_PREV_DFL"
   ]
  },
  {
   "cell_type": "code",
   "execution_count": 207,
   "id": "grand-vehicle",
   "metadata": {},
   "outputs": [
    {
     "data": {
      "text/plain": [
       "N    1323\n",
       "Name: ESTUDO_COMORB_PREV_DFL, dtype: int64"
      ]
     },
     "execution_count": 207,
     "metadata": {},
     "output_type": "execute_result"
    }
   ],
   "source": [
    "data['ESTUDO_COMORB_PREV_DFL'].value_counts() #DROP SEM INFO NO DICIONARIO"
   ]
  },
  {
   "cell_type": "code",
   "execution_count": 208,
   "id": "expensive-jenny",
   "metadata": {},
   "outputs": [],
   "source": [
    "data = data.drop(['ESTUDO_COMORB_PREV_DFL'], axis=1)"
   ]
  },
  {
   "cell_type": "markdown",
   "id": "educated-present",
   "metadata": {},
   "source": [
    "#### ESTUDO_COMORB_PREV_DFM"
   ]
  },
  {
   "cell_type": "code",
   "execution_count": 209,
   "id": "aware-reliance",
   "metadata": {},
   "outputs": [],
   "source": [
    "data['ESTUDO_COMORB_PREV_DFM'] = data['ESTUDO_COMORB_PREV_DFM'].fillna('NI')"
   ]
  },
  {
   "cell_type": "code",
   "execution_count": 210,
   "id": "interesting-engineer",
   "metadata": {},
   "outputs": [
    {
     "data": {
      "text/plain": [
       "N     1317\n",
       "S        6\n",
       "NI       5\n",
       "Name: ESTUDO_COMORB_PREV_DFM, dtype: int64"
      ]
     },
     "execution_count": 210,
     "metadata": {},
     "output_type": "execute_result"
    }
   ],
   "source": [
    "data['ESTUDO_COMORB_PREV_DFM'].value_counts()"
   ]
  },
  {
   "cell_type": "code",
   "execution_count": 211,
   "id": "referenced-pleasure",
   "metadata": {},
   "outputs": [],
   "source": [
    "data['ESTUDO_COMORB_PREV_DFM'] = data['ESTUDO_COMORB_PREV_DFM'].replace({'S': 1, 'N': 0, 'NI': 2})"
   ]
  },
  {
   "cell_type": "markdown",
   "id": "wanted-tension",
   "metadata": {},
   "source": [
    "#### ESTUDO_COMORB_PREV_HEMIPLEGIA"
   ]
  },
  {
   "cell_type": "code",
   "execution_count": 212,
   "id": "physical-margin",
   "metadata": {},
   "outputs": [
    {
     "data": {
      "text/plain": [
       "N    1323\n",
       "Name: ESTUDO_COMORB_PREV_HEMIPLEGIA, dtype: int64"
      ]
     },
     "execution_count": 212,
     "metadata": {},
     "output_type": "execute_result"
    }
   ],
   "source": [
    "data['ESTUDO_COMORB_PREV_HEMIPLEGIA'].value_counts() #DROP"
   ]
  },
  {
   "cell_type": "code",
   "execution_count": 213,
   "id": "accepted-negotiation",
   "metadata": {},
   "outputs": [],
   "source": [
    "data = data.drop(['ESTUDO_COMORB_PREV_HEMIPLEGIA'], axis=1)"
   ]
  },
  {
   "cell_type": "markdown",
   "id": "found-content",
   "metadata": {},
   "source": [
    "#### ESTUDO_COMORB_PREV_LEUCEMIA',"
   ]
  },
  {
   "cell_type": "code",
   "execution_count": 214,
   "id": "lesser-wright",
   "metadata": {},
   "outputs": [],
   "source": [
    "data['ESTUDO_COMORB_PREV_LEUCEMIA'] = data['ESTUDO_COMORB_PREV_LEUCEMIA'].fillna('NI')"
   ]
  },
  {
   "cell_type": "code",
   "execution_count": 215,
   "id": "convinced-health",
   "metadata": {},
   "outputs": [
    {
     "data": {
      "text/plain": [
       "N     1322\n",
       "NI       5\n",
       "S        1\n",
       "Name: ESTUDO_COMORB_PREV_LEUCEMIA, dtype: int64"
      ]
     },
     "execution_count": 215,
     "metadata": {},
     "output_type": "execute_result"
    }
   ],
   "source": [
    "data['ESTUDO_COMORB_PREV_LEUCEMIA'].value_counts()"
   ]
  },
  {
   "cell_type": "code",
   "execution_count": 216,
   "id": "negative-trinidad",
   "metadata": {},
   "outputs": [],
   "source": [
    "data['ESTUDO_COMORB_PREV_LEUCEMIA'] = data['ESTUDO_COMORB_PREV_LEUCEMIA'].replace({'S': 1, 'N': 0, 'NI': 2})"
   ]
  },
  {
   "cell_type": "markdown",
   "id": "reduced-seeker",
   "metadata": {},
   "source": [
    "#### ESTUDO_COMORB_PREV_HIV"
   ]
  },
  {
   "cell_type": "code",
   "execution_count": 217,
   "id": "perfect-ukraine",
   "metadata": {},
   "outputs": [],
   "source": [
    "data['ESTUDO_COMORB_PREV_HIV'] = data['ESTUDO_COMORB_PREV_HIV'].fillna('NI')"
   ]
  },
  {
   "cell_type": "code",
   "execution_count": 218,
   "id": "blocked-radius",
   "metadata": {},
   "outputs": [
    {
     "data": {
      "text/plain": [
       "N     1320\n",
       "NI       5\n",
       "S        3\n",
       "Name: ESTUDO_COMORB_PREV_HIV, dtype: int64"
      ]
     },
     "execution_count": 218,
     "metadata": {},
     "output_type": "execute_result"
    }
   ],
   "source": [
    "data['ESTUDO_COMORB_PREV_HIV'].value_counts()"
   ]
  },
  {
   "cell_type": "code",
   "execution_count": 219,
   "id": "critical-chart",
   "metadata": {},
   "outputs": [],
   "source": [
    "data['ESTUDO_COMORB_PREV_HIV'] = data['ESTUDO_COMORB_PREV_HIV'].replace({'S': 1, 'N': 0, 'NI': 2})"
   ]
  },
  {
   "cell_type": "markdown",
   "id": "circular-newsletter",
   "metadata": {},
   "source": [
    "#### ESTUDO_COMORB_PREV_TUL"
   ]
  },
  {
   "cell_type": "code",
   "execution_count": 220,
   "id": "suspected-undergraduate",
   "metadata": {},
   "outputs": [],
   "source": [
    "data['ESTUDO_COMORB_PREV_TUL'] = data['ESTUDO_COMORB_PREV_TUL'].fillna('NI')"
   ]
  },
  {
   "cell_type": "code",
   "execution_count": 221,
   "id": "cross-performer",
   "metadata": {},
   "outputs": [
    {
     "data": {
      "text/plain": [
       "N     1303\n",
       "S       20\n",
       "NI       5\n",
       "Name: ESTUDO_COMORB_PREV_TUL, dtype: int64"
      ]
     },
     "execution_count": 221,
     "metadata": {},
     "output_type": "execute_result"
    }
   ],
   "source": [
    "data['ESTUDO_COMORB_PREV_TUL'].value_counts()"
   ]
  },
  {
   "cell_type": "code",
   "execution_count": 222,
   "id": "becoming-developer",
   "metadata": {},
   "outputs": [],
   "source": [
    "data['ESTUDO_COMORB_PREV_TUL'] = data['ESTUDO_COMORB_PREV_TUL'].replace({'S': 1, 'N': 0, 'NI': 2})"
   ]
  },
  {
   "cell_type": "markdown",
   "id": "independent-venice",
   "metadata": {},
   "source": [
    "#### ESTUDO_COMORB_PREV_TUM"
   ]
  },
  {
   "cell_type": "code",
   "execution_count": 223,
   "id": "interior-chorus",
   "metadata": {},
   "outputs": [
    {
     "data": {
      "text/plain": [
       "N    1317\n",
       "S       6\n",
       "Name: ESTUDO_COMORB_PREV_TUM, dtype: int64"
      ]
     },
     "execution_count": 223,
     "metadata": {},
     "output_type": "execute_result"
    }
   ],
   "source": [
    "data['ESTUDO_COMORB_PREV_TUM'].value_counts() #DROP SEM INFO NO DICIONARIO"
   ]
  },
  {
   "cell_type": "code",
   "execution_count": 224,
   "id": "fourth-majority",
   "metadata": {},
   "outputs": [],
   "source": [
    "data = data.drop(['ESTUDO_COMORB_PREV_TUM'], axis=1)"
   ]
  },
  {
   "cell_type": "markdown",
   "id": "smart-invention",
   "metadata": {},
   "source": [
    "#### STATUS_COVID.1"
   ]
  },
  {
   "cell_type": "code",
   "execution_count": 225,
   "id": "useful-central",
   "metadata": {},
   "outputs": [
    {
     "data": {
      "text/plain": [
       "CONFIRMADOS    489\n",
       "NEGATIVOS       26\n",
       "Name: STATUS_COVID.1, dtype: int64"
      ]
     },
     "execution_count": 225,
     "metadata": {},
     "output_type": "execute_result"
    }
   ],
   "source": [
    "data['STATUS_COVID.1'].value_counts() #DROP"
   ]
  },
  {
   "cell_type": "code",
   "execution_count": 226,
   "id": "statistical-conflict",
   "metadata": {},
   "outputs": [],
   "source": [
    "data = data.drop(['STATUS_COVID.1'], axis=1)"
   ]
  },
  {
   "cell_type": "markdown",
   "id": "proof-shoulder",
   "metadata": {},
   "source": [
    "#### CD_ATENDIMENTO.1"
   ]
  },
  {
   "cell_type": "code",
   "execution_count": 227,
   "id": "productive-kruger",
   "metadata": {},
   "outputs": [
    {
     "data": {
      "text/plain": [
       "1495039.0    1\n",
       "1553407.0    1\n",
       "1422582.0    1\n",
       "1474701.0    1\n",
       "1357058.0    1\n",
       "            ..\n",
       "1289054.0    1\n",
       "1415930.0    1\n",
       "1321725.0    1\n",
       "1293055.0    1\n",
       "1290241.0    1\n",
       "Name: CD_ATENDIMENTO.1, Length: 515, dtype: int64"
      ]
     },
     "execution_count": 227,
     "metadata": {},
     "output_type": "execute_result"
    }
   ],
   "source": [
    "data['CD_ATENDIMENTO.1'].value_counts() #DROP"
   ]
  },
  {
   "cell_type": "code",
   "execution_count": 228,
   "id": "convinced-funeral",
   "metadata": {},
   "outputs": [],
   "source": [
    "data = data.drop(['CD_ATENDIMENTO.1'], axis=1)"
   ]
  },
  {
   "cell_type": "markdown",
   "id": "capable-chicken",
   "metadata": {},
   "source": [
    "#### DTHR_UTI_IN"
   ]
  },
  {
   "cell_type": "code",
   "execution_count": 229,
   "id": "patient-attention",
   "metadata": {},
   "outputs": [
    {
     "data": {
      "text/plain": [
       "01/12/2020 15:39:33    1\n",
       "16/06/2020 18:22:27    1\n",
       "07/03/2021 14:23:30    1\n",
       "29/08/2020 18:57:42    1\n",
       "12/03/2021 15:56:05    1\n",
       "                      ..\n",
       "20/06/2020 02:53:45    1\n",
       "09/10/2020 18:36:18    1\n",
       "23/12/2020 12:53:51    1\n",
       "23/09/2020 12:08:10    1\n",
       "01/12/2020 23:58:43    1\n",
       "Name: DTHR_UTI_IN, Length: 515, dtype: int64"
      ]
     },
     "execution_count": 229,
     "metadata": {},
     "output_type": "execute_result"
    }
   ],
   "source": [
    "data['DTHR_UTI_IN'].value_counts() #DROP"
   ]
  },
  {
   "cell_type": "code",
   "execution_count": 230,
   "id": "similar-cooler",
   "metadata": {},
   "outputs": [],
   "source": [
    "data = data.drop(['DTHR_UTI_IN'], axis=1)"
   ]
  },
  {
   "cell_type": "markdown",
   "id": "offshore-haiti",
   "metadata": {},
   "source": [
    "#### DTHR_UTI_OUT"
   ]
  },
  {
   "cell_type": "code",
   "execution_count": 231,
   "id": "acute-alarm",
   "metadata": {},
   "outputs": [
    {
     "data": {
      "text/plain": [
       "11/08/2020 16:54:22    1\n",
       "09/10/2020 10:59:15    1\n",
       "21/02/2021 14:28:45    1\n",
       "19/11/2020 18:37:41    1\n",
       "09/06/2020 15:10:38    1\n",
       "                      ..\n",
       "30/05/2020 18:07:02    1\n",
       "02/03/2021 17:56:45    1\n",
       "19/06/2020 17:53:55    1\n",
       "02/10/2020 17:34:13    1\n",
       "27/09/2020 15:45:00    1\n",
       "Name: DTHR_UTI_OUT, Length: 515, dtype: int64"
      ]
     },
     "execution_count": 231,
     "metadata": {},
     "output_type": "execute_result"
    }
   ],
   "source": [
    "data['DTHR_UTI_OUT'].value_counts() #DROP"
   ]
  },
  {
   "cell_type": "code",
   "execution_count": 232,
   "id": "operating-marks",
   "metadata": {},
   "outputs": [],
   "source": [
    "data = data.drop(['DTHR_UTI_OUT'], axis=1)"
   ]
  },
  {
   "cell_type": "markdown",
   "id": "specific-pierre",
   "metadata": {},
   "source": [
    "## Ver Features"
   ]
  },
  {
   "cell_type": "code",
   "execution_count": 237,
   "id": "injured-hands",
   "metadata": {},
   "outputs": [
    {
     "name": "stdout",
     "output_type": "stream",
     "text": [
      "COLETOU_AMOSTRA , 0 ,\n",
      "IFI_OUTRO_VIRUS , 0 ,\n",
      "CD_PACIENTE , 0 ,\n",
      "GENERO , 0 ,\n",
      "IDADE , 0 ,\n",
      "DIAGNOSTICO_SARS , 0 ,\n",
      "CD_CID , 0 ,\n",
      "DS_ESPECIALID_SAI , 0 ,\n",
      "REINTER_30D , 0 ,\n",
      "CARATER_ATENDIMENTO , 0 ,\n",
      "EMERG_SERVICO , 0 ,\n",
      "EMERG_RISCO , 0 ,\n",
      "CID_DIAG_ATEND , 0 ,\n",
      "CID_CAPITULO_DIAG , 0 ,\n",
      "BLOCO_CENTRAL_ST , 0 ,\n",
      "HEMODINAMICA_ST , 0 ,\n",
      "EX_LAB_ST , 0 ,\n",
      "EX_IMG_ST , 0 ,\n",
      "EX_OUTROS_ST , 0 ,\n",
      "TIPO_REGISTRO , 0 ,\n",
      "SN_CRIT_CONTATO_CASO_COVID , 0 ,\n",
      "SN_CRIT_SRAG , 0 ,\n",
      "SN_CRIT_SINDROME_GRIPAL , 0 ,\n",
      "ESTUDO_TP_EXPOSICAO , 0 ,\n",
      "ESTUDO_COMORB_PREV_HAS , 0 ,\n",
      "ESTUDO_COMORB_PREV_IAM , 0 ,\n",
      "ESTUDO_COMORB_PREV_IC , 0 ,\n",
      "ESTUDO_COMORB_PREV_DRC , 0 ,\n",
      "ESTUDO_COMORB_PREV_DMII , 0 ,\n",
      "ESTUDO_COMORB_PREV_CARCINOMA , 0 ,\n",
      "ESTUDO_COMORB_PREV_AVC , 0 ,\n",
      "ESTUDO_COMORB_PREV_ASMA , 0 ,\n",
      "ESTUDO_COMORB_PREV_DPOC , 0 ,\n",
      "ESTUDO_COMORB_PREV_OBESIDADE , 0 ,\n",
      "ESTUDO_COMORB_PREV_EPILEPSIA , 0 ,\n",
      "ESTUDO_COMORB_PREV_HIGIDO , 0 ,\n",
      "ESTUDO_COMORB_PREV_OUTRAS , 0 ,\n",
      "ESTUDO_CHARLSON , 0 ,\n",
      "ESTUDO_LOCAL_CONTAMINACAO , 0 ,\n",
      "ESTUDO_LOCAL_CONTAM_UI , 0 ,\n",
      "ESTUDO_COMORB_PREV_DEMENCIA , 0 ,\n",
      "ESTUDO_COMORB_PREV_DFM , 0 ,\n",
      "ESTUDO_COMORB_PREV_LEUCEMIA , 0 ,\n",
      "ESTUDO_COMORB_PREV_HIV , 0 ,\n",
      "ESTUDO_COMORB_PREV_TUL , 0 ,\n",
      "DIAS_CORRIDOS , 0 ,\n",
      "DIAS_NA_UTI , 0 ,\n"
     ]
    }
   ],
   "source": [
    "showMissing(data)"
   ]
  },
  {
   "cell_type": "markdown",
   "id": "adapted-republican",
   "metadata": {},
   "source": [
    "## Checando dados faltantes"
   ]
  },
  {
   "cell_type": "code",
   "execution_count": 238,
   "id": "fitting-circular",
   "metadata": {},
   "outputs": [],
   "source": [
    "columns = data.columns.tolist()"
   ]
  },
  {
   "cell_type": "code",
   "execution_count": 239,
   "id": "saving-sensitivity",
   "metadata": {},
   "outputs": [],
   "source": [
    "for c in columns:\n",
    "    _aux = data[c].isnull().tolist()\n",
    "    _aux = [str(v) for v in _aux]\n",
    "    if 'True' in _aux:\n",
    "        print(c)\n",
    "    _aux = []"
   ]
  },
  {
   "cell_type": "markdown",
   "id": "guided-delta",
   "metadata": {},
   "source": [
    "## Mapa de Calor - Pearson"
   ]
  },
  {
   "cell_type": "code",
   "execution_count": 236,
   "id": "satellite-empty",
   "metadata": {},
   "outputs": [
    {
     "data": {
      "image/png": "[encoded data removed]",
      "text/plain": [
       "<Figure size 1440x1224 with 2 Axes>"
      ]
     },
     "metadata": {},
     "output_type": "display_data"
    }
   ],
   "source": [
    "sns.set(rc={'figure.figsize':(20, 17)})\n",
    "corr_matrix = data.corr(method='pearson')\n",
    "plt.subplots(figsize=(20,17))\n",
    "sns.heatmap(corr_matrix, vmax=1, square=True)\n",
    "plt.savefig('heatmap.png')\n",
    "plt.show()"
   ]
  },
  {
   "cell_type": "code",
   "execution_count": null,
   "id": "foster-resident",
   "metadata": {},
   "outputs": [],
   "source": []
  }
 ],
 "metadata": {
  "kernelspec": {
   "display_name": "Python 3 (ipykernel)",
   "language": "python",
   "name": "python3"
  },
  "language_info": {
   "codemirror_mode": {
    "name": "ipython",
    "version": 3
   },
   "file_extension": ".py",
   "mimetype": "text/x-python",
   "name": "python",
   "nbconvert_exporter": "python",
   "pygments_lexer": "ipython3",
   "version": "3.9.12"
  }
 },
 "nbformat": 4,
 "nbformat_minor": 5
}
