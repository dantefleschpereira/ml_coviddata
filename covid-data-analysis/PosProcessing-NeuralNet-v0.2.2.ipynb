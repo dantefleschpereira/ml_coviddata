{
 "cells": [
  {
   "cell_type": "markdown",
   "id": "pending-trunk",
   "metadata": {},
   "source": [
    "# Processando dataset para os modelos de Machine Learning\n",
    "\n",
    "Esse notebook é uma continuação do notebook \"PreProcessingData.ipynb\".\n",
    "Além disso, esse notebook cria os dois datasets finais que são usados diretamente nos modelos de ML.\n",
    "Ou seja, ao final da execução desse algoritmo dois datasets estarão prontos para ser usados em modelos de ML. </ br>\n",
    "\n",
    "O principal objetivo desse notebook é transformar o dataset original em formato CATEGORICO para NUMÉRICO."
   ]
  },
  {
   "cell_type": "code",
   "execution_count": 549,
   "id": "abstract-context",
   "metadata": {},
   "outputs": [],
   "source": [
    "import numpy as np\n",
    "import pandas as pd\n",
    "import seaborn as sns\n",
    "import matplotlib.pyplot as plt\n",
    "from sklearn.preprocessing import OrdinalEncoder\n",
    "pd.set_option('display.max_columns', None)"
   ]
  },
  {
   "cell_type": "code",
   "execution_count": 550,
   "id": "indirect-republic",
   "metadata": {},
   "outputs": [
    {
     "name": "stderr",
     "output_type": "stream",
     "text": [
      "/Users/giggio/opt/anaconda3/envs/edaML/lib/python3.6/site-packages/IPython/core/interactiveshell.py:3072: DtypeWarning: Columns (3,4,5,6,7,8,12,13,47,87,89,90,91,94,99) have mixed types.Specify dtype option on import or set low_memory=False.\n",
      "  interactivity=interactivity, compiler=compiler, result=result)\n"
     ]
    }
   ],
   "source": [
    "# df = pd.read_csv('./DataSteps/STEP_6_Final_Dataset.csv', delimiter='\\t')\n",
    "df = pd.read_csv(r'./data/PosProcessing-v0.2.2/Final_Dataset.csv')"
   ]
  },
  {
   "cell_type": "code",
   "execution_count": 551,
   "id": "operational-alabama",
   "metadata": {},
   "outputs": [
    {
     "data": {
      "text/html": [
       "<div>\n",
       "<style scoped>\n",
       "    .dataframe tbody tr th:only-of-type {\n",
       "        vertical-align: middle;\n",
       "    }\n",
       "\n",
       "    .dataframe tbody tr th {\n",
       "        vertical-align: top;\n",
       "    }\n",
       "\n",
       "    .dataframe thead th {\n",
       "        text-align: right;\n",
       "    }\n",
       "</style>\n",
       "<table border=\"1\" class=\"dataframe\">\n",
       "  <thead>\n",
       "    <tr style=\"text-align: right;\">\n",
       "      <th></th>\n",
       "      <th>Unnamed: 0</th>\n",
       "      <th>ID</th>\n",
       "      <th>DTHR_REGISTRO</th>\n",
       "      <th>PORTA_ENTRADA</th>\n",
       "      <th>DATA_INICIO_SINTOMAS</th>\n",
       "      <th>HISTORICO_VIAGEM</th>\n",
       "      <th>PAIS_VISITADO</th>\n",
       "      <th>CIDADES_VISITADAS</th>\n",
       "      <th>DATA_RETORNO</th>\n",
       "      <th>COLETOU_AMOSTRA</th>\n",
       "      <th>LOCAL_COLETA</th>\n",
       "      <th>DATA_COLETA</th>\n",
       "      <th>PCR_INFLUENZA</th>\n",
       "      <th>IFI_OUTRO_VIRUS</th>\n",
       "      <th>PCR_COVID_19</th>\n",
       "      <th>STATUS_COVID_FROM_MRG_REG_EST</th>\n",
       "      <th>STATUS_COVID_ORDEM</th>\n",
       "      <th>DESFECHO</th>\n",
       "      <th>CD_ATENDIMENTO</th>\n",
       "      <th>DS_TP_ATENDIMENTO</th>\n",
       "      <th>CD_PACIENTE</th>\n",
       "      <th>GENERO</th>\n",
       "      <th>IDADE</th>\n",
       "      <th>SN_OBITO</th>\n",
       "      <th>DIAGNOSTICO_SARS</th>\n",
       "      <th>OBITO_SARS</th>\n",
       "      <th>TIPO_SAIDA</th>\n",
       "      <th>TIPO_OBITO</th>\n",
       "      <th>DTHR_ALTA</th>\n",
       "      <th>CD_CID</th>\n",
       "      <th>DS_ESPECIALID_SAI</th>\n",
       "      <th>REINTER_30D</th>\n",
       "      <th>CARATER_ATENDIMENTO</th>\n",
       "      <th>EMERG_SERVICO</th>\n",
       "      <th>EMERG_RISCO</th>\n",
       "      <th>CID_DIAG_ATEND</th>\n",
       "      <th>CID_CAPITULO_DIAG</th>\n",
       "      <th>BLOCO_CENTRAL_ST</th>\n",
       "      <th>HEMODINAMICA_ST</th>\n",
       "      <th>EX_LAB_ST</th>\n",
       "      <th>EX_IMG_ST</th>\n",
       "      <th>EX_OUTROS_ST</th>\n",
       "      <th>CD_PACIENTE_FROM_ESTUDO</th>\n",
       "      <th>COMPETENCIA</th>\n",
       "      <th>PORTA_ENTRADA_FROM_ESTUDO</th>\n",
       "      <th>DATA_INICIO_SINTOMAS_FROM_ESTUDO</th>\n",
       "      <th>HISTORICO_VIAGEM_FROM_ESTUDO</th>\n",
       "      <th>CIDADES_VISITADAS_FROM_ESTUDO</th>\n",
       "      <th>LOCAL_COLETA_FROM_ESTUDO</th>\n",
       "      <th>DATA_COLETA_FROM_ESTUDO</th>\n",
       "      <th>PCR_COVID_19_FROM_ESTUDO</th>\n",
       "      <th>DESFECHO_FROM_ESTUDO</th>\n",
       "      <th>TIPO_REGISTRO</th>\n",
       "      <th>SN_IFI_OV_SINCICIAL_RESP</th>\n",
       "      <th>SN_IFI_OV_PARAINFLU3</th>\n",
       "      <th>SN_IFI_OV_PARAINFLU2</th>\n",
       "      <th>SN_IFI_OV_PARAINFLU1</th>\n",
       "      <th>SN_IFI_OV_INFLUA</th>\n",
       "      <th>SN_IFI_OV_INFLUB</th>\n",
       "      <th>SN_IFI_OV_ADENOVIRUS</th>\n",
       "      <th>SN_CRIT_CONTATO_CASO_COVID</th>\n",
       "      <th>SN_CRIT_CONTATO_CASO_SUSPEITO</th>\n",
       "      <th>SN_CRIT_PROF_SAUDE_HOSPITAL</th>\n",
       "      <th>SN_CRIT_PROF_SAUDE_OUT</th>\n",
       "      <th>SN_CRIT_SRAG</th>\n",
       "      <th>SN_CRIT_SINDROME_GRIPAL</th>\n",
       "      <th>SN_CRIT_IGNORADO</th>\n",
       "      <th>SN_CRIT_OUTROS</th>\n",
       "      <th>SN_CRIT_PROT_COVID19</th>\n",
       "      <th>ESTUDO_TP_EXPOSICAO</th>\n",
       "      <th>ESTUDO_COMORB_PREV_HAS</th>\n",
       "      <th>ESTUDO_COMORB_PREV_IAM</th>\n",
       "      <th>ESTUDO_COMORB_PREV_IC</th>\n",
       "      <th>ESTUDO_COMORB_PREV_DRC</th>\n",
       "      <th>ESTUDO_COMORB_PREV_DMI</th>\n",
       "      <th>ESTUDO_COMORB_PREV_DMII</th>\n",
       "      <th>ESTUDO_COMORB_PREV_CARCINOMA</th>\n",
       "      <th>ESTUDO_COMORB_PREV_ADENOMA</th>\n",
       "      <th>ESTUDO_COMORB_PREV_LINFOMA</th>\n",
       "      <th>ESTUDO_COMORB_PREV_AVC</th>\n",
       "      <th>ESTUDO_COMORB_PREV_ASMA</th>\n",
       "      <th>ESTUDO_COMORB_PREV_DPOC</th>\n",
       "      <th>ESTUDO_COMORB_PREV_OBESIDADE</th>\n",
       "      <th>ESTUDO_COMORB_PREV_EPILEPSIA</th>\n",
       "      <th>ESTUDO_COMORB_PREV_HIGIDO</th>\n",
       "      <th>ESTUDO_COMORB_PREV_OUTRAS</th>\n",
       "      <th>ESTUDO_CHARLSON</th>\n",
       "      <th>ESTUDO_FR_DIA_COLETA</th>\n",
       "      <th>ESTUDO_FC_DIA_COLETA</th>\n",
       "      <th>ESTUDO_PA_DIA_COLETA</th>\n",
       "      <th>ESTUDO_TEMPERATURA_DIA_COLETA</th>\n",
       "      <th>ESTUDO_SATURACAO_DIA_COLETA</th>\n",
       "      <th>ESTUDO_APACHE2</th>\n",
       "      <th>ESTUDO_RISCO</th>\n",
       "      <th>ESTUDO_TRATAMENTO</th>\n",
       "      <th>ESTUDO_COMORB_PREV_TX_ORG_SOL</th>\n",
       "      <th>ESTUDO_CONDUTA</th>\n",
       "      <th>ESTUDO_LOCAL_CONTAMINACAO</th>\n",
       "      <th>ESTUDO_LOCAL_CONTAM_UI</th>\n",
       "      <th>ESTUDO_DT_DESFECHO</th>\n",
       "      <th>ESTUDO_COMORB_PREV_DESCON</th>\n",
       "      <th>ESTUDO_COMORB_PREV_DVP</th>\n",
       "      <th>ESTUDO_COMORB_PREV_DEMENCIA</th>\n",
       "      <th>ESTUDO_COMORB_PREV_DTC</th>\n",
       "      <th>ESTUDO_COMORB_PREV_UP</th>\n",
       "      <th>ESTUDO_COMORB_PREV_DFL</th>\n",
       "      <th>ESTUDO_COMORB_PREV_DFM</th>\n",
       "      <th>ESTUDO_COMORB_PREV_HEMIPLEGIA</th>\n",
       "      <th>ESTUDO_COMORB_PREV_LEUCEMIA</th>\n",
       "      <th>ESTUDO_COMORB_PREV_HIV</th>\n",
       "      <th>ESTUDO_COMORB_PREV_TUL</th>\n",
       "      <th>ESTUDO_COMORB_PREV_TUM</th>\n",
       "      <th>STATUS_COVID_FROM_UTI</th>\n",
       "      <th>CD_PACIENTE_FROM_UTI</th>\n",
       "      <th>CD_LEITO</th>\n",
       "      <th>CD_UNIDADE</th>\n",
       "      <th>DS_UNIDADE</th>\n",
       "      <th>DT_ENTRADA</th>\n",
       "      <th>HR_ENTRADA</th>\n",
       "      <th>DT_SAIDA</th>\n",
       "      <th>HR_SAIDA</th>\n",
       "      <th>DTHR_LEITO</th>\n",
       "      <th>DATA_HORA_ENTRADA</th>\n",
       "      <th>REENTRADA</th>\n",
       "      <th>DTHR_IN_UTI</th>\n",
       "      <th>DTHR_OUT_UTI</th>\n",
       "      <th>DIAS_PRE_UTI</th>\n",
       "      <th>DIAS_NA_UTI</th>\n",
       "    </tr>\n",
       "  </thead>\n",
       "  <tbody>\n",
       "    <tr>\n",
       "      <th>0</th>\n",
       "      <td>2</td>\n",
       "      <td>4463</td>\n",
       "      <td>08/07/2020 12:56:20</td>\n",
       "      <td>NaN</td>\n",
       "      <td>NaN</td>\n",
       "      <td>NaN</td>\n",
       "      <td>NaN</td>\n",
       "      <td>NaN</td>\n",
       "      <td>NaN</td>\n",
       "      <td>SIM</td>\n",
       "      <td>9 N - INTERNACAO</td>\n",
       "      <td>08/07/2020</td>\n",
       "      <td>NaN</td>\n",
       "      <td>NaN</td>\n",
       "      <td>NEGATIVO</td>\n",
       "      <td>NEGATIVOS</td>\n",
       "      <td>3</td>\n",
       "      <td>NÃO INFORMADO</td>\n",
       "      <td>925313.0</td>\n",
       "      <td>INTERNADO</td>\n",
       "      <td>454612.0</td>\n",
       "      <td>MASCULINO</td>\n",
       "      <td>42,498401826484</td>\n",
       "      <td>N</td>\n",
       "      <td>NÃO</td>\n",
       "      <td>NÃO</td>\n",
       "      <td>ALTA</td>\n",
       "      <td>NaN</td>\n",
       "      <td>07/10/2020 13:13:46</td>\n",
       "      <td>K263</td>\n",
       "      <td>NEUROCIRURGIA</td>\n",
       "      <td>NÃO</td>\n",
       "      <td>URGÊNCIA</td>\n",
       "      <td>PRONTOPUC</td>\n",
       "      <td>LARANJA</td>\n",
       "      <td>K263</td>\n",
       "      <td>Aparelho digestivo</td>\n",
       "      <td>SIM</td>\n",
       "      <td>SIM</td>\n",
       "      <td>SIM</td>\n",
       "      <td>SIM</td>\n",
       "      <td>SIM</td>\n",
       "      <td>454612.0</td>\n",
       "      <td>01/07/2020</td>\n",
       "      <td>NaN</td>\n",
       "      <td>NaN</td>\n",
       "      <td>NaN</td>\n",
       "      <td>NaN</td>\n",
       "      <td>9 N - INTERNACAO</td>\n",
       "      <td>08/07/2020</td>\n",
       "      <td>NEGATIVO</td>\n",
       "      <td>INTERNAÇÃO</td>\n",
       "      <td>A</td>\n",
       "      <td>N</td>\n",
       "      <td>N</td>\n",
       "      <td>N</td>\n",
       "      <td>N</td>\n",
       "      <td>N</td>\n",
       "      <td>N</td>\n",
       "      <td>N</td>\n",
       "      <td>N</td>\n",
       "      <td>N</td>\n",
       "      <td>NaN</td>\n",
       "      <td>N</td>\n",
       "      <td>N</td>\n",
       "      <td>N</td>\n",
       "      <td>N</td>\n",
       "      <td>N</td>\n",
       "      <td>N</td>\n",
       "      <td>HOSPITALAR HSL</td>\n",
       "      <td>N</td>\n",
       "      <td>N</td>\n",
       "      <td>N</td>\n",
       "      <td>N</td>\n",
       "      <td>N</td>\n",
       "      <td>N</td>\n",
       "      <td>N</td>\n",
       "      <td>N</td>\n",
       "      <td>N</td>\n",
       "      <td>N</td>\n",
       "      <td>N</td>\n",
       "      <td>N</td>\n",
       "      <td>N</td>\n",
       "      <td>N</td>\n",
       "      <td>N</td>\n",
       "      <td>NaN</td>\n",
       "      <td>NaN</td>\n",
       "      <td>NaN</td>\n",
       "      <td>NaN</td>\n",
       "      <td>NaN</td>\n",
       "      <td>NaN</td>\n",
       "      <td>NaN</td>\n",
       "      <td>NaN</td>\n",
       "      <td>NaN</td>\n",
       "      <td>NaN</td>\n",
       "      <td>N</td>\n",
       "      <td>L</td>\n",
       "      <td>NaN</td>\n",
       "      <td>NaN</td>\n",
       "      <td>NaN</td>\n",
       "      <td>N</td>\n",
       "      <td>N</td>\n",
       "      <td>N</td>\n",
       "      <td>N</td>\n",
       "      <td>N</td>\n",
       "      <td>N</td>\n",
       "      <td>N</td>\n",
       "      <td>N</td>\n",
       "      <td>N</td>\n",
       "      <td>N</td>\n",
       "      <td>N</td>\n",
       "      <td>N</td>\n",
       "      <td>NEGATIVOS</td>\n",
       "      <td>454612.0</td>\n",
       "      <td>1607.0</td>\n",
       "      <td>7.0</td>\n",
       "      <td>UTI</td>\n",
       "      <td>07/12/2019</td>\n",
       "      <td>11:51:59</td>\n",
       "      <td>18/12/2019</td>\n",
       "      <td>13:48:48</td>\n",
       "      <td>26/11/2019 17:53:24</td>\n",
       "      <td>2019-12-07 11:51:59</td>\n",
       "      <td>1.0</td>\n",
       "      <td>07/12/2019 11:51:59</td>\n",
       "      <td>18/12/2019 13:48:48</td>\n",
       "      <td>10.749016</td>\n",
       "      <td>11.081123</td>\n",
       "    </tr>\n",
       "    <tr>\n",
       "      <th>1</th>\n",
       "      <td>3</td>\n",
       "      <td>4463</td>\n",
       "      <td>08/07/2020 12:56:20</td>\n",
       "      <td>NaN</td>\n",
       "      <td>NaN</td>\n",
       "      <td>NaN</td>\n",
       "      <td>NaN</td>\n",
       "      <td>NaN</td>\n",
       "      <td>NaN</td>\n",
       "      <td>SIM</td>\n",
       "      <td>9 N - INTERNACAO</td>\n",
       "      <td>08/07/2020</td>\n",
       "      <td>NaN</td>\n",
       "      <td>NaN</td>\n",
       "      <td>NEGATIVO</td>\n",
       "      <td>NEGATIVOS</td>\n",
       "      <td>3</td>\n",
       "      <td>NÃO INFORMADO</td>\n",
       "      <td>925313.0</td>\n",
       "      <td>INTERNADO</td>\n",
       "      <td>454612.0</td>\n",
       "      <td>MASCULINO</td>\n",
       "      <td>42,498401826484</td>\n",
       "      <td>N</td>\n",
       "      <td>NÃO</td>\n",
       "      <td>NÃO</td>\n",
       "      <td>ALTA</td>\n",
       "      <td>NaN</td>\n",
       "      <td>07/10/2020 13:13:46</td>\n",
       "      <td>K263</td>\n",
       "      <td>NEUROCIRURGIA</td>\n",
       "      <td>NÃO</td>\n",
       "      <td>URGÊNCIA</td>\n",
       "      <td>PRONTOPUC</td>\n",
       "      <td>LARANJA</td>\n",
       "      <td>K263</td>\n",
       "      <td>Aparelho digestivo</td>\n",
       "      <td>SIM</td>\n",
       "      <td>SIM</td>\n",
       "      <td>SIM</td>\n",
       "      <td>SIM</td>\n",
       "      <td>SIM</td>\n",
       "      <td>454612.0</td>\n",
       "      <td>01/07/2020</td>\n",
       "      <td>NaN</td>\n",
       "      <td>NaN</td>\n",
       "      <td>NaN</td>\n",
       "      <td>NaN</td>\n",
       "      <td>9 N - INTERNACAO</td>\n",
       "      <td>08/07/2020</td>\n",
       "      <td>NEGATIVO</td>\n",
       "      <td>INTERNAÇÃO</td>\n",
       "      <td>A</td>\n",
       "      <td>N</td>\n",
       "      <td>N</td>\n",
       "      <td>N</td>\n",
       "      <td>N</td>\n",
       "      <td>N</td>\n",
       "      <td>N</td>\n",
       "      <td>N</td>\n",
       "      <td>N</td>\n",
       "      <td>N</td>\n",
       "      <td>NaN</td>\n",
       "      <td>N</td>\n",
       "      <td>N</td>\n",
       "      <td>N</td>\n",
       "      <td>N</td>\n",
       "      <td>N</td>\n",
       "      <td>N</td>\n",
       "      <td>HOSPITALAR HSL</td>\n",
       "      <td>N</td>\n",
       "      <td>N</td>\n",
       "      <td>N</td>\n",
       "      <td>N</td>\n",
       "      <td>N</td>\n",
       "      <td>N</td>\n",
       "      <td>N</td>\n",
       "      <td>N</td>\n",
       "      <td>N</td>\n",
       "      <td>N</td>\n",
       "      <td>N</td>\n",
       "      <td>N</td>\n",
       "      <td>N</td>\n",
       "      <td>N</td>\n",
       "      <td>N</td>\n",
       "      <td>NaN</td>\n",
       "      <td>NaN</td>\n",
       "      <td>NaN</td>\n",
       "      <td>NaN</td>\n",
       "      <td>NaN</td>\n",
       "      <td>NaN</td>\n",
       "      <td>NaN</td>\n",
       "      <td>NaN</td>\n",
       "      <td>NaN</td>\n",
       "      <td>NaN</td>\n",
       "      <td>N</td>\n",
       "      <td>L</td>\n",
       "      <td>NaN</td>\n",
       "      <td>NaN</td>\n",
       "      <td>NaN</td>\n",
       "      <td>N</td>\n",
       "      <td>N</td>\n",
       "      <td>N</td>\n",
       "      <td>N</td>\n",
       "      <td>N</td>\n",
       "      <td>N</td>\n",
       "      <td>N</td>\n",
       "      <td>N</td>\n",
       "      <td>N</td>\n",
       "      <td>N</td>\n",
       "      <td>N</td>\n",
       "      <td>N</td>\n",
       "      <td>NEGATIVOS</td>\n",
       "      <td>454612.0</td>\n",
       "      <td>1613.0</td>\n",
       "      <td>7.0</td>\n",
       "      <td>UTI</td>\n",
       "      <td>10/01/2020</td>\n",
       "      <td>05:43:14</td>\n",
       "      <td>03/02/2020</td>\n",
       "      <td>14:04:26</td>\n",
       "      <td>18/12/2019 13:48:48</td>\n",
       "      <td>2020-01-10 05:43:14</td>\n",
       "      <td>2.0</td>\n",
       "      <td>10/01/2020 05:43:14</td>\n",
       "      <td>03/02/2020 14:04:26</td>\n",
       "      <td>22.662801</td>\n",
       "      <td>24.348056</td>\n",
       "    </tr>\n",
       "    <tr>\n",
       "      <th>2</th>\n",
       "      <td>4</td>\n",
       "      <td>4463</td>\n",
       "      <td>08/07/2020 12:56:20</td>\n",
       "      <td>NaN</td>\n",
       "      <td>NaN</td>\n",
       "      <td>NaN</td>\n",
       "      <td>NaN</td>\n",
       "      <td>NaN</td>\n",
       "      <td>NaN</td>\n",
       "      <td>SIM</td>\n",
       "      <td>9 N - INTERNACAO</td>\n",
       "      <td>08/07/2020</td>\n",
       "      <td>NaN</td>\n",
       "      <td>NaN</td>\n",
       "      <td>NEGATIVO</td>\n",
       "      <td>NEGATIVOS</td>\n",
       "      <td>3</td>\n",
       "      <td>NÃO INFORMADO</td>\n",
       "      <td>925313.0</td>\n",
       "      <td>INTERNADO</td>\n",
       "      <td>454612.0</td>\n",
       "      <td>MASCULINO</td>\n",
       "      <td>42,498401826484</td>\n",
       "      <td>N</td>\n",
       "      <td>NÃO</td>\n",
       "      <td>NÃO</td>\n",
       "      <td>ALTA</td>\n",
       "      <td>NaN</td>\n",
       "      <td>07/10/2020 13:13:46</td>\n",
       "      <td>K263</td>\n",
       "      <td>NEUROCIRURGIA</td>\n",
       "      <td>NÃO</td>\n",
       "      <td>URGÊNCIA</td>\n",
       "      <td>PRONTOPUC</td>\n",
       "      <td>LARANJA</td>\n",
       "      <td>K263</td>\n",
       "      <td>Aparelho digestivo</td>\n",
       "      <td>SIM</td>\n",
       "      <td>SIM</td>\n",
       "      <td>SIM</td>\n",
       "      <td>SIM</td>\n",
       "      <td>SIM</td>\n",
       "      <td>454612.0</td>\n",
       "      <td>01/07/2020</td>\n",
       "      <td>NaN</td>\n",
       "      <td>NaN</td>\n",
       "      <td>NaN</td>\n",
       "      <td>NaN</td>\n",
       "      <td>9 N - INTERNACAO</td>\n",
       "      <td>08/07/2020</td>\n",
       "      <td>NEGATIVO</td>\n",
       "      <td>INTERNAÇÃO</td>\n",
       "      <td>A</td>\n",
       "      <td>N</td>\n",
       "      <td>N</td>\n",
       "      <td>N</td>\n",
       "      <td>N</td>\n",
       "      <td>N</td>\n",
       "      <td>N</td>\n",
       "      <td>N</td>\n",
       "      <td>N</td>\n",
       "      <td>N</td>\n",
       "      <td>NaN</td>\n",
       "      <td>N</td>\n",
       "      <td>N</td>\n",
       "      <td>N</td>\n",
       "      <td>N</td>\n",
       "      <td>N</td>\n",
       "      <td>N</td>\n",
       "      <td>HOSPITALAR HSL</td>\n",
       "      <td>N</td>\n",
       "      <td>N</td>\n",
       "      <td>N</td>\n",
       "      <td>N</td>\n",
       "      <td>N</td>\n",
       "      <td>N</td>\n",
       "      <td>N</td>\n",
       "      <td>N</td>\n",
       "      <td>N</td>\n",
       "      <td>N</td>\n",
       "      <td>N</td>\n",
       "      <td>N</td>\n",
       "      <td>N</td>\n",
       "      <td>N</td>\n",
       "      <td>N</td>\n",
       "      <td>NaN</td>\n",
       "      <td>NaN</td>\n",
       "      <td>NaN</td>\n",
       "      <td>NaN</td>\n",
       "      <td>NaN</td>\n",
       "      <td>NaN</td>\n",
       "      <td>NaN</td>\n",
       "      <td>NaN</td>\n",
       "      <td>NaN</td>\n",
       "      <td>NaN</td>\n",
       "      <td>N</td>\n",
       "      <td>L</td>\n",
       "      <td>NaN</td>\n",
       "      <td>NaN</td>\n",
       "      <td>NaN</td>\n",
       "      <td>N</td>\n",
       "      <td>N</td>\n",
       "      <td>N</td>\n",
       "      <td>N</td>\n",
       "      <td>N</td>\n",
       "      <td>N</td>\n",
       "      <td>N</td>\n",
       "      <td>N</td>\n",
       "      <td>N</td>\n",
       "      <td>N</td>\n",
       "      <td>N</td>\n",
       "      <td>N</td>\n",
       "      <td>NEGATIVOS</td>\n",
       "      <td>454612.0</td>\n",
       "      <td>2736.0</td>\n",
       "      <td>5.0</td>\n",
       "      <td>UTI</td>\n",
       "      <td>17/04/2020</td>\n",
       "      <td>12:05:17</td>\n",
       "      <td>22/04/2020</td>\n",
       "      <td>11:39:07</td>\n",
       "      <td>03/02/2020 14:04:26</td>\n",
       "      <td>2020-04-17 12:05:17</td>\n",
       "      <td>3.0</td>\n",
       "      <td>17/04/2020 12:05:17</td>\n",
       "      <td>22/04/2020 11:39:07</td>\n",
       "      <td>73.917257</td>\n",
       "      <td>4.981829</td>\n",
       "    </tr>\n",
       "    <tr>\n",
       "      <th>3</th>\n",
       "      <td>5</td>\n",
       "      <td>4463</td>\n",
       "      <td>08/07/2020 12:56:20</td>\n",
       "      <td>NaN</td>\n",
       "      <td>NaN</td>\n",
       "      <td>NaN</td>\n",
       "      <td>NaN</td>\n",
       "      <td>NaN</td>\n",
       "      <td>NaN</td>\n",
       "      <td>SIM</td>\n",
       "      <td>9 N - INTERNACAO</td>\n",
       "      <td>08/07/2020</td>\n",
       "      <td>NaN</td>\n",
       "      <td>NaN</td>\n",
       "      <td>NEGATIVO</td>\n",
       "      <td>NEGATIVOS</td>\n",
       "      <td>3</td>\n",
       "      <td>NÃO INFORMADO</td>\n",
       "      <td>925313.0</td>\n",
       "      <td>INTERNADO</td>\n",
       "      <td>454612.0</td>\n",
       "      <td>MASCULINO</td>\n",
       "      <td>42,498401826484</td>\n",
       "      <td>N</td>\n",
       "      <td>NÃO</td>\n",
       "      <td>NÃO</td>\n",
       "      <td>ALTA</td>\n",
       "      <td>NaN</td>\n",
       "      <td>07/10/2020 13:13:46</td>\n",
       "      <td>K263</td>\n",
       "      <td>NEUROCIRURGIA</td>\n",
       "      <td>NÃO</td>\n",
       "      <td>URGÊNCIA</td>\n",
       "      <td>PRONTOPUC</td>\n",
       "      <td>LARANJA</td>\n",
       "      <td>K263</td>\n",
       "      <td>Aparelho digestivo</td>\n",
       "      <td>SIM</td>\n",
       "      <td>SIM</td>\n",
       "      <td>SIM</td>\n",
       "      <td>SIM</td>\n",
       "      <td>SIM</td>\n",
       "      <td>454612.0</td>\n",
       "      <td>01/07/2020</td>\n",
       "      <td>NaN</td>\n",
       "      <td>NaN</td>\n",
       "      <td>NaN</td>\n",
       "      <td>NaN</td>\n",
       "      <td>9 N - INTERNACAO</td>\n",
       "      <td>08/07/2020</td>\n",
       "      <td>NEGATIVO</td>\n",
       "      <td>INTERNAÇÃO</td>\n",
       "      <td>A</td>\n",
       "      <td>N</td>\n",
       "      <td>N</td>\n",
       "      <td>N</td>\n",
       "      <td>N</td>\n",
       "      <td>N</td>\n",
       "      <td>N</td>\n",
       "      <td>N</td>\n",
       "      <td>N</td>\n",
       "      <td>N</td>\n",
       "      <td>NaN</td>\n",
       "      <td>N</td>\n",
       "      <td>N</td>\n",
       "      <td>N</td>\n",
       "      <td>N</td>\n",
       "      <td>N</td>\n",
       "      <td>N</td>\n",
       "      <td>HOSPITALAR HSL</td>\n",
       "      <td>N</td>\n",
       "      <td>N</td>\n",
       "      <td>N</td>\n",
       "      <td>N</td>\n",
       "      <td>N</td>\n",
       "      <td>N</td>\n",
       "      <td>N</td>\n",
       "      <td>N</td>\n",
       "      <td>N</td>\n",
       "      <td>N</td>\n",
       "      <td>N</td>\n",
       "      <td>N</td>\n",
       "      <td>N</td>\n",
       "      <td>N</td>\n",
       "      <td>N</td>\n",
       "      <td>NaN</td>\n",
       "      <td>NaN</td>\n",
       "      <td>NaN</td>\n",
       "      <td>NaN</td>\n",
       "      <td>NaN</td>\n",
       "      <td>NaN</td>\n",
       "      <td>NaN</td>\n",
       "      <td>NaN</td>\n",
       "      <td>NaN</td>\n",
       "      <td>NaN</td>\n",
       "      <td>N</td>\n",
       "      <td>L</td>\n",
       "      <td>NaN</td>\n",
       "      <td>NaN</td>\n",
       "      <td>NaN</td>\n",
       "      <td>N</td>\n",
       "      <td>N</td>\n",
       "      <td>N</td>\n",
       "      <td>N</td>\n",
       "      <td>N</td>\n",
       "      <td>N</td>\n",
       "      <td>N</td>\n",
       "      <td>N</td>\n",
       "      <td>N</td>\n",
       "      <td>N</td>\n",
       "      <td>N</td>\n",
       "      <td>N</td>\n",
       "      <td>NEGATIVOS</td>\n",
       "      <td>454612.0</td>\n",
       "      <td>1608.0</td>\n",
       "      <td>7.0</td>\n",
       "      <td>UTI</td>\n",
       "      <td>23/04/2020</td>\n",
       "      <td>12:10:26</td>\n",
       "      <td>27/04/2020</td>\n",
       "      <td>12:27:38</td>\n",
       "      <td>22/04/2020 11:39:07</td>\n",
       "      <td>2020-04-23 12:10:26</td>\n",
       "      <td>4.0</td>\n",
       "      <td>23/04/2020 12:10:26</td>\n",
       "      <td>27/04/2020 12:27:38</td>\n",
       "      <td>1.021748</td>\n",
       "      <td>4.011944</td>\n",
       "    </tr>\n",
       "    <tr>\n",
       "      <th>4</th>\n",
       "      <td>15</td>\n",
       "      <td>1149</td>\n",
       "      <td>27/03/2020 14:03:00</td>\n",
       "      <td>NaN</td>\n",
       "      <td>NaN</td>\n",
       "      <td>NaN</td>\n",
       "      <td>NaN</td>\n",
       "      <td>NaN</td>\n",
       "      <td>NaN</td>\n",
       "      <td>NAO</td>\n",
       "      <td>UTI-CIRURGICA</td>\n",
       "      <td>NaN</td>\n",
       "      <td>NaN</td>\n",
       "      <td>NaN</td>\n",
       "      <td>NEGATIVO</td>\n",
       "      <td>NEGATIVOS</td>\n",
       "      <td>3</td>\n",
       "      <td>NÃO INFORMADO</td>\n",
       "      <td>1230987.0</td>\n",
       "      <td>INTERNADO</td>\n",
       "      <td>1402382.0</td>\n",
       "      <td>FEMININO</td>\n",
       "      <td>83,3723744292237</td>\n",
       "      <td>N</td>\n",
       "      <td>NÃO</td>\n",
       "      <td>NÃO</td>\n",
       "      <td>ALTA</td>\n",
       "      <td>NaN</td>\n",
       "      <td>04/05/2020 12:53:00</td>\n",
       "      <td>J180</td>\n",
       "      <td>GERIATRIA</td>\n",
       "      <td>NÃO</td>\n",
       "      <td>URGÊNCIA</td>\n",
       "      <td>PRONTOPUC</td>\n",
       "      <td>VERMELHO</td>\n",
       "      <td>J180</td>\n",
       "      <td>Aparelho respiratório</td>\n",
       "      <td>NÃO</td>\n",
       "      <td>NÃO</td>\n",
       "      <td>SIM</td>\n",
       "      <td>SIM</td>\n",
       "      <td>NÃO</td>\n",
       "      <td>1402382.0</td>\n",
       "      <td>01/03/2020</td>\n",
       "      <td>NaN</td>\n",
       "      <td>NaN</td>\n",
       "      <td>NaN</td>\n",
       "      <td>NaN</td>\n",
       "      <td>UTI-CIRURGICA</td>\n",
       "      <td>11/07/2020</td>\n",
       "      <td>POSITIVO</td>\n",
       "      <td>ÓBITO POR OUTRAS CAUSAS</td>\n",
       "      <td>A</td>\n",
       "      <td>N</td>\n",
       "      <td>N</td>\n",
       "      <td>N</td>\n",
       "      <td>N</td>\n",
       "      <td>N</td>\n",
       "      <td>N</td>\n",
       "      <td>N</td>\n",
       "      <td>N</td>\n",
       "      <td>N</td>\n",
       "      <td>NaN</td>\n",
       "      <td>N</td>\n",
       "      <td>N</td>\n",
       "      <td>N</td>\n",
       "      <td>N</td>\n",
       "      <td>N</td>\n",
       "      <td>N</td>\n",
       "      <td>HOSPITALAR HSL</td>\n",
       "      <td>N</td>\n",
       "      <td>N</td>\n",
       "      <td>N</td>\n",
       "      <td>N</td>\n",
       "      <td>N</td>\n",
       "      <td>N</td>\n",
       "      <td>N</td>\n",
       "      <td>N</td>\n",
       "      <td>N</td>\n",
       "      <td>N</td>\n",
       "      <td>N</td>\n",
       "      <td>N</td>\n",
       "      <td>N</td>\n",
       "      <td>N</td>\n",
       "      <td>N</td>\n",
       "      <td>NaN</td>\n",
       "      <td>NaN</td>\n",
       "      <td>NaN</td>\n",
       "      <td>NaN</td>\n",
       "      <td>NaN</td>\n",
       "      <td>NaN</td>\n",
       "      <td>NaN</td>\n",
       "      <td>NaN</td>\n",
       "      <td>NaN</td>\n",
       "      <td>NaN</td>\n",
       "      <td>N</td>\n",
       "      <td>L</td>\n",
       "      <td>NaN</td>\n",
       "      <td>NaN</td>\n",
       "      <td>NaN</td>\n",
       "      <td>N</td>\n",
       "      <td>N</td>\n",
       "      <td>N</td>\n",
       "      <td>N</td>\n",
       "      <td>N</td>\n",
       "      <td>N</td>\n",
       "      <td>N</td>\n",
       "      <td>N</td>\n",
       "      <td>N</td>\n",
       "      <td>N</td>\n",
       "      <td>N</td>\n",
       "      <td>N</td>\n",
       "      <td>NEGATIVOS</td>\n",
       "      <td>1402382.0</td>\n",
       "      <td>1650.0</td>\n",
       "      <td>8.0</td>\n",
       "      <td>UTI</td>\n",
       "      <td>27/03/2020</td>\n",
       "      <td>07:26:07</td>\n",
       "      <td>30/03/2020</td>\n",
       "      <td>13:23:12</td>\n",
       "      <td>11/03/2020 18:39:45</td>\n",
       "      <td>2020-03-27 07:26:07</td>\n",
       "      <td>1.0</td>\n",
       "      <td>27/03/2020 07:26:07</td>\n",
       "      <td>30/03/2020 13:23:12</td>\n",
       "      <td>15.532199</td>\n",
       "      <td>3.247975</td>\n",
       "    </tr>\n",
       "    <tr>\n",
       "      <th>...</th>\n",
       "      <td>...</td>\n",
       "      <td>...</td>\n",
       "      <td>...</td>\n",
       "      <td>...</td>\n",
       "      <td>...</td>\n",
       "      <td>...</td>\n",
       "      <td>...</td>\n",
       "      <td>...</td>\n",
       "      <td>...</td>\n",
       "      <td>...</td>\n",
       "      <td>...</td>\n",
       "      <td>...</td>\n",
       "      <td>...</td>\n",
       "      <td>...</td>\n",
       "      <td>...</td>\n",
       "      <td>...</td>\n",
       "      <td>...</td>\n",
       "      <td>...</td>\n",
       "      <td>...</td>\n",
       "      <td>...</td>\n",
       "      <td>...</td>\n",
       "      <td>...</td>\n",
       "      <td>...</td>\n",
       "      <td>...</td>\n",
       "      <td>...</td>\n",
       "      <td>...</td>\n",
       "      <td>...</td>\n",
       "      <td>...</td>\n",
       "      <td>...</td>\n",
       "      <td>...</td>\n",
       "      <td>...</td>\n",
       "      <td>...</td>\n",
       "      <td>...</td>\n",
       "      <td>...</td>\n",
       "      <td>...</td>\n",
       "      <td>...</td>\n",
       "      <td>...</td>\n",
       "      <td>...</td>\n",
       "      <td>...</td>\n",
       "      <td>...</td>\n",
       "      <td>...</td>\n",
       "      <td>...</td>\n",
       "      <td>...</td>\n",
       "      <td>...</td>\n",
       "      <td>...</td>\n",
       "      <td>...</td>\n",
       "      <td>...</td>\n",
       "      <td>...</td>\n",
       "      <td>...</td>\n",
       "      <td>...</td>\n",
       "      <td>...</td>\n",
       "      <td>...</td>\n",
       "      <td>...</td>\n",
       "      <td>...</td>\n",
       "      <td>...</td>\n",
       "      <td>...</td>\n",
       "      <td>...</td>\n",
       "      <td>...</td>\n",
       "      <td>...</td>\n",
       "      <td>...</td>\n",
       "      <td>...</td>\n",
       "      <td>...</td>\n",
       "      <td>...</td>\n",
       "      <td>...</td>\n",
       "      <td>...</td>\n",
       "      <td>...</td>\n",
       "      <td>...</td>\n",
       "      <td>...</td>\n",
       "      <td>...</td>\n",
       "      <td>...</td>\n",
       "      <td>...</td>\n",
       "      <td>...</td>\n",
       "      <td>...</td>\n",
       "      <td>...</td>\n",
       "      <td>...</td>\n",
       "      <td>...</td>\n",
       "      <td>...</td>\n",
       "      <td>...</td>\n",
       "      <td>...</td>\n",
       "      <td>...</td>\n",
       "      <td>...</td>\n",
       "      <td>...</td>\n",
       "      <td>...</td>\n",
       "      <td>...</td>\n",
       "      <td>...</td>\n",
       "      <td>...</td>\n",
       "      <td>...</td>\n",
       "      <td>...</td>\n",
       "      <td>...</td>\n",
       "      <td>...</td>\n",
       "      <td>...</td>\n",
       "      <td>...</td>\n",
       "      <td>...</td>\n",
       "      <td>...</td>\n",
       "      <td>...</td>\n",
       "      <td>...</td>\n",
       "      <td>...</td>\n",
       "      <td>...</td>\n",
       "      <td>...</td>\n",
       "      <td>...</td>\n",
       "      <td>...</td>\n",
       "      <td>...</td>\n",
       "      <td>...</td>\n",
       "      <td>...</td>\n",
       "      <td>...</td>\n",
       "      <td>...</td>\n",
       "      <td>...</td>\n",
       "      <td>...</td>\n",
       "      <td>...</td>\n",
       "      <td>...</td>\n",
       "      <td>...</td>\n",
       "      <td>...</td>\n",
       "      <td>...</td>\n",
       "      <td>...</td>\n",
       "      <td>...</td>\n",
       "      <td>...</td>\n",
       "      <td>...</td>\n",
       "      <td>...</td>\n",
       "      <td>...</td>\n",
       "      <td>...</td>\n",
       "      <td>...</td>\n",
       "      <td>...</td>\n",
       "      <td>...</td>\n",
       "      <td>...</td>\n",
       "      <td>...</td>\n",
       "      <td>...</td>\n",
       "      <td>...</td>\n",
       "      <td>...</td>\n",
       "    </tr>\n",
       "    <tr>\n",
       "      <th>18009</th>\n",
       "      <td>25787</td>\n",
       "      <td>26952</td>\n",
       "      <td>29/03/2021 15:51:00</td>\n",
       "      <td>NaN</td>\n",
       "      <td>NaN</td>\n",
       "      <td>NaN</td>\n",
       "      <td>NaN</td>\n",
       "      <td>NaN</td>\n",
       "      <td>NaN</td>\n",
       "      <td>SIM</td>\n",
       "      <td>EMERGENCIA ADULTA SUS</td>\n",
       "      <td>30/03/2021 02:49:53</td>\n",
       "      <td>NaN</td>\n",
       "      <td>NaN</td>\n",
       "      <td>EM ANDAMENTO</td>\n",
       "      <td>SUSPEITOS</td>\n",
       "      <td>2</td>\n",
       "      <td>NÃO INFORMADO</td>\n",
       "      <td>1605181.0</td>\n",
       "      <td>URGENCIA</td>\n",
       "      <td>2392074.0</td>\n",
       "      <td>FEMININO</td>\n",
       "      <td>77,2079908675799</td>\n",
       "      <td>N</td>\n",
       "      <td>SIM</td>\n",
       "      <td>NÃO</td>\n",
       "      <td>AMBULATORIAL</td>\n",
       "      <td>NaN</td>\n",
       "      <td>29/03/2021 16:34:00</td>\n",
       "      <td>B342</td>\n",
       "      <td>CLINICA MEDICA</td>\n",
       "      <td>NÃO</td>\n",
       "      <td>URGÊNCIA</td>\n",
       "      <td>PRONTOSUS</td>\n",
       "      <td>LARANJA</td>\n",
       "      <td>B342</td>\n",
       "      <td>Infecciosas e parasitárias</td>\n",
       "      <td>NÃO</td>\n",
       "      <td>NÃO</td>\n",
       "      <td>SIM</td>\n",
       "      <td>NÃO</td>\n",
       "      <td>NÃO</td>\n",
       "      <td>2392074.0</td>\n",
       "      <td>29/03/2021</td>\n",
       "      <td>NaN</td>\n",
       "      <td>NaN</td>\n",
       "      <td>NaN</td>\n",
       "      <td>NaN</td>\n",
       "      <td>EMERGENCIA ADULTA SUS</td>\n",
       "      <td>30/03/2021 02:49:53</td>\n",
       "      <td>EM ANDAMENTO</td>\n",
       "      <td>INTERNAÇÃO</td>\n",
       "      <td>A</td>\n",
       "      <td>N</td>\n",
       "      <td>N</td>\n",
       "      <td>N</td>\n",
       "      <td>N</td>\n",
       "      <td>N</td>\n",
       "      <td>N</td>\n",
       "      <td>N</td>\n",
       "      <td>N</td>\n",
       "      <td>N</td>\n",
       "      <td>NaN</td>\n",
       "      <td>N</td>\n",
       "      <td>N</td>\n",
       "      <td>N</td>\n",
       "      <td>N</td>\n",
       "      <td>N</td>\n",
       "      <td>N</td>\n",
       "      <td>NaN</td>\n",
       "      <td>N</td>\n",
       "      <td>N</td>\n",
       "      <td>N</td>\n",
       "      <td>N</td>\n",
       "      <td>N</td>\n",
       "      <td>N</td>\n",
       "      <td>N</td>\n",
       "      <td>N</td>\n",
       "      <td>N</td>\n",
       "      <td>N</td>\n",
       "      <td>N</td>\n",
       "      <td>N</td>\n",
       "      <td>N</td>\n",
       "      <td>N</td>\n",
       "      <td>N</td>\n",
       "      <td>NaN</td>\n",
       "      <td>NaN</td>\n",
       "      <td>NaN</td>\n",
       "      <td>NaN</td>\n",
       "      <td>NaN</td>\n",
       "      <td>NaN</td>\n",
       "      <td>NaN</td>\n",
       "      <td>NaN</td>\n",
       "      <td>NaN</td>\n",
       "      <td>NaN</td>\n",
       "      <td>N</td>\n",
       "      <td>L</td>\n",
       "      <td>NaN</td>\n",
       "      <td>NaN</td>\n",
       "      <td>NaN</td>\n",
       "      <td>N</td>\n",
       "      <td>N</td>\n",
       "      <td>N</td>\n",
       "      <td>N</td>\n",
       "      <td>N</td>\n",
       "      <td>N</td>\n",
       "      <td>N</td>\n",
       "      <td>N</td>\n",
       "      <td>N</td>\n",
       "      <td>N</td>\n",
       "      <td>N</td>\n",
       "      <td>N</td>\n",
       "      <td>NaN</td>\n",
       "      <td>NaN</td>\n",
       "      <td>NaN</td>\n",
       "      <td>NaN</td>\n",
       "      <td>NaN</td>\n",
       "      <td>NaN</td>\n",
       "      <td>NaN</td>\n",
       "      <td>NaN</td>\n",
       "      <td>NaN</td>\n",
       "      <td>NaN</td>\n",
       "      <td>NaN</td>\n",
       "      <td>NaN</td>\n",
       "      <td>NaN</td>\n",
       "      <td>NaN</td>\n",
       "      <td>0.029861</td>\n",
       "      <td>0.000000</td>\n",
       "    </tr>\n",
       "    <tr>\n",
       "      <th>18010</th>\n",
       "      <td>25789</td>\n",
       "      <td>26939</td>\n",
       "      <td>29/03/2021 16:11:00</td>\n",
       "      <td>NaN</td>\n",
       "      <td>NaN</td>\n",
       "      <td>NaN</td>\n",
       "      <td>NaN</td>\n",
       "      <td>NaN</td>\n",
       "      <td>NaN</td>\n",
       "      <td>SIM</td>\n",
       "      <td>PRONTOPUC ADULTO</td>\n",
       "      <td>29/03/2021 16:21:42</td>\n",
       "      <td>NaN</td>\n",
       "      <td>NaN</td>\n",
       "      <td>NEGATIVO</td>\n",
       "      <td>NEGATIVOS</td>\n",
       "      <td>3</td>\n",
       "      <td>NÃO INFORMADO</td>\n",
       "      <td>1605209.0</td>\n",
       "      <td>URGENCIA</td>\n",
       "      <td>981692.0</td>\n",
       "      <td>FEMININO</td>\n",
       "      <td>32,4463470319635</td>\n",
       "      <td>N</td>\n",
       "      <td>NÃO</td>\n",
       "      <td>NÃO</td>\n",
       "      <td>AMBULATORIAL</td>\n",
       "      <td>NaN</td>\n",
       "      <td>29/03/2021 16:12:00</td>\n",
       "      <td>B349</td>\n",
       "      <td>CLINICA MEDICA</td>\n",
       "      <td>NÃO</td>\n",
       "      <td>URGÊNCIA</td>\n",
       "      <td>PRONTOPUC</td>\n",
       "      <td>VERDE</td>\n",
       "      <td>B349</td>\n",
       "      <td>Infecciosas e parasitárias</td>\n",
       "      <td>NÃO</td>\n",
       "      <td>NÃO</td>\n",
       "      <td>SIM</td>\n",
       "      <td>NÃO</td>\n",
       "      <td>NÃO</td>\n",
       "      <td>981692.0</td>\n",
       "      <td>29/03/2021</td>\n",
       "      <td>NaN</td>\n",
       "      <td>NaN</td>\n",
       "      <td>NaN</td>\n",
       "      <td>NaN</td>\n",
       "      <td>PRONTOPUC ADULTO</td>\n",
       "      <td>29/03/2021 16:21:42</td>\n",
       "      <td>NEGATIVO</td>\n",
       "      <td>NaN</td>\n",
       "      <td>A</td>\n",
       "      <td>N</td>\n",
       "      <td>N</td>\n",
       "      <td>N</td>\n",
       "      <td>N</td>\n",
       "      <td>N</td>\n",
       "      <td>N</td>\n",
       "      <td>N</td>\n",
       "      <td>N</td>\n",
       "      <td>N</td>\n",
       "      <td>NaN</td>\n",
       "      <td>N</td>\n",
       "      <td>N</td>\n",
       "      <td>N</td>\n",
       "      <td>N</td>\n",
       "      <td>N</td>\n",
       "      <td>N</td>\n",
       "      <td>PROFISSIONAL DE SAÚDE - HSL</td>\n",
       "      <td>N</td>\n",
       "      <td>N</td>\n",
       "      <td>N</td>\n",
       "      <td>N</td>\n",
       "      <td>N</td>\n",
       "      <td>N</td>\n",
       "      <td>N</td>\n",
       "      <td>N</td>\n",
       "      <td>N</td>\n",
       "      <td>N</td>\n",
       "      <td>N</td>\n",
       "      <td>N</td>\n",
       "      <td>N</td>\n",
       "      <td>N</td>\n",
       "      <td>N</td>\n",
       "      <td>NaN</td>\n",
       "      <td>NaN</td>\n",
       "      <td>NaN</td>\n",
       "      <td>NaN</td>\n",
       "      <td>NaN</td>\n",
       "      <td>NaN</td>\n",
       "      <td>NaN</td>\n",
       "      <td>NaN</td>\n",
       "      <td>NaN</td>\n",
       "      <td>NaN</td>\n",
       "      <td>N</td>\n",
       "      <td>L</td>\n",
       "      <td>NaN</td>\n",
       "      <td>NaN</td>\n",
       "      <td>NaN</td>\n",
       "      <td>N</td>\n",
       "      <td>N</td>\n",
       "      <td>N</td>\n",
       "      <td>N</td>\n",
       "      <td>N</td>\n",
       "      <td>N</td>\n",
       "      <td>N</td>\n",
       "      <td>N</td>\n",
       "      <td>N</td>\n",
       "      <td>N</td>\n",
       "      <td>N</td>\n",
       "      <td>N</td>\n",
       "      <td>NaN</td>\n",
       "      <td>NaN</td>\n",
       "      <td>NaN</td>\n",
       "      <td>NaN</td>\n",
       "      <td>NaN</td>\n",
       "      <td>NaN</td>\n",
       "      <td>NaN</td>\n",
       "      <td>NaN</td>\n",
       "      <td>NaN</td>\n",
       "      <td>NaN</td>\n",
       "      <td>NaN</td>\n",
       "      <td>NaN</td>\n",
       "      <td>NaN</td>\n",
       "      <td>NaN</td>\n",
       "      <td>0.000694</td>\n",
       "      <td>0.000000</td>\n",
       "    </tr>\n",
       "    <tr>\n",
       "      <th>18011</th>\n",
       "      <td>25799</td>\n",
       "      <td>26950</td>\n",
       "      <td>29/03/2021 23:10:00</td>\n",
       "      <td>NaN</td>\n",
       "      <td>NaN</td>\n",
       "      <td>NaN</td>\n",
       "      <td>NaN</td>\n",
       "      <td>NaN</td>\n",
       "      <td>NaN</td>\n",
       "      <td>SIM</td>\n",
       "      <td>EMERGENCIA ADULTA SUS</td>\n",
       "      <td>30/03/2021 01:07:37</td>\n",
       "      <td>NaN</td>\n",
       "      <td>NaN</td>\n",
       "      <td>EM ANDAMENTO</td>\n",
       "      <td>SUSPEITOS</td>\n",
       "      <td>2</td>\n",
       "      <td>NÃO INFORMADO</td>\n",
       "      <td>1605362.0</td>\n",
       "      <td>URGENCIA</td>\n",
       "      <td>2392113.0</td>\n",
       "      <td>MASCULINO</td>\n",
       "      <td>41,1860730593607</td>\n",
       "      <td>N</td>\n",
       "      <td>NÃO</td>\n",
       "      <td>NÃO</td>\n",
       "      <td>AMBULATORIAL</td>\n",
       "      <td>NaN</td>\n",
       "      <td>29/03/2021 23:23:00</td>\n",
       "      <td>K403</td>\n",
       "      <td>CLINICA MEDICA</td>\n",
       "      <td>NÃO</td>\n",
       "      <td>URGÊNCIA</td>\n",
       "      <td>PRONTOSUS</td>\n",
       "      <td>LARANJA</td>\n",
       "      <td>K403</td>\n",
       "      <td>Aparelho digestivo</td>\n",
       "      <td>NÃO</td>\n",
       "      <td>NÃO</td>\n",
       "      <td>SIM</td>\n",
       "      <td>NÃO</td>\n",
       "      <td>NÃO</td>\n",
       "      <td>2392113.0</td>\n",
       "      <td>29/03/2021</td>\n",
       "      <td>NaN</td>\n",
       "      <td>NaN</td>\n",
       "      <td>NaN</td>\n",
       "      <td>NaN</td>\n",
       "      <td>EMERGENCIA ADULTA SUS</td>\n",
       "      <td>30/03/2021 01:07:37</td>\n",
       "      <td>EM ANDAMENTO</td>\n",
       "      <td>INTERNAÇÃO</td>\n",
       "      <td>A</td>\n",
       "      <td>N</td>\n",
       "      <td>N</td>\n",
       "      <td>N</td>\n",
       "      <td>N</td>\n",
       "      <td>N</td>\n",
       "      <td>N</td>\n",
       "      <td>N</td>\n",
       "      <td>N</td>\n",
       "      <td>N</td>\n",
       "      <td>NaN</td>\n",
       "      <td>N</td>\n",
       "      <td>N</td>\n",
       "      <td>N</td>\n",
       "      <td>N</td>\n",
       "      <td>N</td>\n",
       "      <td>N</td>\n",
       "      <td>NaN</td>\n",
       "      <td>N</td>\n",
       "      <td>N</td>\n",
       "      <td>N</td>\n",
       "      <td>N</td>\n",
       "      <td>N</td>\n",
       "      <td>N</td>\n",
       "      <td>N</td>\n",
       "      <td>N</td>\n",
       "      <td>N</td>\n",
       "      <td>N</td>\n",
       "      <td>N</td>\n",
       "      <td>N</td>\n",
       "      <td>N</td>\n",
       "      <td>N</td>\n",
       "      <td>N</td>\n",
       "      <td>NaN</td>\n",
       "      <td>NaN</td>\n",
       "      <td>NaN</td>\n",
       "      <td>NaN</td>\n",
       "      <td>NaN</td>\n",
       "      <td>NaN</td>\n",
       "      <td>NaN</td>\n",
       "      <td>NaN</td>\n",
       "      <td>NaN</td>\n",
       "      <td>NaN</td>\n",
       "      <td>N</td>\n",
       "      <td>L</td>\n",
       "      <td>NaN</td>\n",
       "      <td>NaN</td>\n",
       "      <td>NaN</td>\n",
       "      <td>N</td>\n",
       "      <td>N</td>\n",
       "      <td>N</td>\n",
       "      <td>N</td>\n",
       "      <td>N</td>\n",
       "      <td>N</td>\n",
       "      <td>N</td>\n",
       "      <td>N</td>\n",
       "      <td>N</td>\n",
       "      <td>N</td>\n",
       "      <td>N</td>\n",
       "      <td>N</td>\n",
       "      <td>NaN</td>\n",
       "      <td>NaN</td>\n",
       "      <td>NaN</td>\n",
       "      <td>NaN</td>\n",
       "      <td>NaN</td>\n",
       "      <td>NaN</td>\n",
       "      <td>NaN</td>\n",
       "      <td>NaN</td>\n",
       "      <td>NaN</td>\n",
       "      <td>NaN</td>\n",
       "      <td>NaN</td>\n",
       "      <td>NaN</td>\n",
       "      <td>NaN</td>\n",
       "      <td>NaN</td>\n",
       "      <td>0.009028</td>\n",
       "      <td>0.000000</td>\n",
       "    </tr>\n",
       "    <tr>\n",
       "      <th>18012</th>\n",
       "      <td>25801</td>\n",
       "      <td>26953</td>\n",
       "      <td>30/03/2021 03:00:00</td>\n",
       "      <td>NaN</td>\n",
       "      <td>NaN</td>\n",
       "      <td>NaN</td>\n",
       "      <td>NaN</td>\n",
       "      <td>NaN</td>\n",
       "      <td>NaN</td>\n",
       "      <td>SIM</td>\n",
       "      <td>PRONTOPUC ADULTO</td>\n",
       "      <td>30/03/2021 03:20:26</td>\n",
       "      <td>NaN</td>\n",
       "      <td>NaN</td>\n",
       "      <td>EM ANDAMENTO</td>\n",
       "      <td>SUSPEITOS</td>\n",
       "      <td>2</td>\n",
       "      <td>NÃO INFORMADO</td>\n",
       "      <td>1605369.0</td>\n",
       "      <td>URGENCIA</td>\n",
       "      <td>1541136.0</td>\n",
       "      <td>FEMININO</td>\n",
       "      <td>42,3449771689498</td>\n",
       "      <td>N</td>\n",
       "      <td>NÃO</td>\n",
       "      <td>NÃO</td>\n",
       "      <td>AMBULATORIAL</td>\n",
       "      <td>NaN</td>\n",
       "      <td>30/03/2021 10:48:00</td>\n",
       "      <td>R074</td>\n",
       "      <td>CLINICA MEDICA</td>\n",
       "      <td>NÃO</td>\n",
       "      <td>URGÊNCIA</td>\n",
       "      <td>PRONTOPUC</td>\n",
       "      <td>VERDE</td>\n",
       "      <td>R074</td>\n",
       "      <td>Sintomas, sinais e achados anormais de exames ...</td>\n",
       "      <td>NÃO</td>\n",
       "      <td>NÃO</td>\n",
       "      <td>SIM</td>\n",
       "      <td>SIM</td>\n",
       "      <td>NÃO</td>\n",
       "      <td>1541136.0</td>\n",
       "      <td>01/08/2020</td>\n",
       "      <td>NaN</td>\n",
       "      <td>NaN</td>\n",
       "      <td>NaN</td>\n",
       "      <td>NaN</td>\n",
       "      <td>PRONTOPUC ADULTO</td>\n",
       "      <td>01/08/2020 22:51:22</td>\n",
       "      <td>NEGATIVO</td>\n",
       "      <td>NaN</td>\n",
       "      <td>A</td>\n",
       "      <td>N</td>\n",
       "      <td>N</td>\n",
       "      <td>N</td>\n",
       "      <td>N</td>\n",
       "      <td>N</td>\n",
       "      <td>N</td>\n",
       "      <td>N</td>\n",
       "      <td>N</td>\n",
       "      <td>N</td>\n",
       "      <td>NaN</td>\n",
       "      <td>N</td>\n",
       "      <td>N</td>\n",
       "      <td>N</td>\n",
       "      <td>N</td>\n",
       "      <td>N</td>\n",
       "      <td>N</td>\n",
       "      <td>PROFISSIONAL DE SAUDE - HSL</td>\n",
       "      <td>N</td>\n",
       "      <td>N</td>\n",
       "      <td>N</td>\n",
       "      <td>N</td>\n",
       "      <td>N</td>\n",
       "      <td>N</td>\n",
       "      <td>N</td>\n",
       "      <td>N</td>\n",
       "      <td>N</td>\n",
       "      <td>N</td>\n",
       "      <td>N</td>\n",
       "      <td>N</td>\n",
       "      <td>N</td>\n",
       "      <td>N</td>\n",
       "      <td>N</td>\n",
       "      <td>NaN</td>\n",
       "      <td>NaN</td>\n",
       "      <td>NaN</td>\n",
       "      <td>NaN</td>\n",
       "      <td>NaN</td>\n",
       "      <td>NaN</td>\n",
       "      <td>NaN</td>\n",
       "      <td>NaN</td>\n",
       "      <td>NaN</td>\n",
       "      <td>NaN</td>\n",
       "      <td>N</td>\n",
       "      <td>L</td>\n",
       "      <td>NaN</td>\n",
       "      <td>NaN</td>\n",
       "      <td>NaN</td>\n",
       "      <td>N</td>\n",
       "      <td>N</td>\n",
       "      <td>N</td>\n",
       "      <td>N</td>\n",
       "      <td>N</td>\n",
       "      <td>N</td>\n",
       "      <td>N</td>\n",
       "      <td>N</td>\n",
       "      <td>N</td>\n",
       "      <td>N</td>\n",
       "      <td>N</td>\n",
       "      <td>N</td>\n",
       "      <td>NaN</td>\n",
       "      <td>NaN</td>\n",
       "      <td>NaN</td>\n",
       "      <td>NaN</td>\n",
       "      <td>NaN</td>\n",
       "      <td>NaN</td>\n",
       "      <td>NaN</td>\n",
       "      <td>NaN</td>\n",
       "      <td>NaN</td>\n",
       "      <td>NaN</td>\n",
       "      <td>NaN</td>\n",
       "      <td>NaN</td>\n",
       "      <td>NaN</td>\n",
       "      <td>NaN</td>\n",
       "      <td>0.325000</td>\n",
       "      <td>0.000000</td>\n",
       "    </tr>\n",
       "    <tr>\n",
       "      <th>18013</th>\n",
       "      <td>25804</td>\n",
       "      <td>26958</td>\n",
       "      <td>30/03/2021 08:51:00</td>\n",
       "      <td>NaN</td>\n",
       "      <td>NaN</td>\n",
       "      <td>NaN</td>\n",
       "      <td>NaN</td>\n",
       "      <td>NaN</td>\n",
       "      <td>NaN</td>\n",
       "      <td>SIM</td>\n",
       "      <td>PRONTOPUC ADULTO</td>\n",
       "      <td>30/03/2021 09:25:23</td>\n",
       "      <td>NaN</td>\n",
       "      <td>NaN</td>\n",
       "      <td>EM ANDAMENTO</td>\n",
       "      <td>SUSPEITOS</td>\n",
       "      <td>2</td>\n",
       "      <td>NÃO INFORMADO</td>\n",
       "      <td>1605658.0</td>\n",
       "      <td>URGENCIA</td>\n",
       "      <td>1802152.0</td>\n",
       "      <td>FEMININO</td>\n",
       "      <td>39,4956621004566</td>\n",
       "      <td>N</td>\n",
       "      <td>NÃO</td>\n",
       "      <td>NÃO</td>\n",
       "      <td>AMBULATORIAL</td>\n",
       "      <td>NaN</td>\n",
       "      <td>30/03/2021 08:51:00</td>\n",
       "      <td>B349</td>\n",
       "      <td>INFECTOLOGIA</td>\n",
       "      <td>NÃO</td>\n",
       "      <td>URGÊNCIA</td>\n",
       "      <td>NÃO INFORMADO</td>\n",
       "      <td>NÃO INFORMADO</td>\n",
       "      <td>B349</td>\n",
       "      <td>Infecciosas e parasitárias</td>\n",
       "      <td>NÃO</td>\n",
       "      <td>NÃO</td>\n",
       "      <td>NÃO</td>\n",
       "      <td>NÃO</td>\n",
       "      <td>NÃO</td>\n",
       "      <td>1802152.0</td>\n",
       "      <td>30/03/2021</td>\n",
       "      <td>NaN</td>\n",
       "      <td>NaN</td>\n",
       "      <td>NaN</td>\n",
       "      <td>NaN</td>\n",
       "      <td>PRONTOPUC ADULTO</td>\n",
       "      <td>30/03/2021 09:25:23</td>\n",
       "      <td>EM ANDAMENTO</td>\n",
       "      <td>NaN</td>\n",
       "      <td>A</td>\n",
       "      <td>N</td>\n",
       "      <td>N</td>\n",
       "      <td>N</td>\n",
       "      <td>N</td>\n",
       "      <td>N</td>\n",
       "      <td>N</td>\n",
       "      <td>N</td>\n",
       "      <td>N</td>\n",
       "      <td>N</td>\n",
       "      <td>NaN</td>\n",
       "      <td>N</td>\n",
       "      <td>N</td>\n",
       "      <td>N</td>\n",
       "      <td>N</td>\n",
       "      <td>N</td>\n",
       "      <td>N</td>\n",
       "      <td>NaN</td>\n",
       "      <td>N</td>\n",
       "      <td>N</td>\n",
       "      <td>N</td>\n",
       "      <td>N</td>\n",
       "      <td>N</td>\n",
       "      <td>N</td>\n",
       "      <td>N</td>\n",
       "      <td>N</td>\n",
       "      <td>N</td>\n",
       "      <td>N</td>\n",
       "      <td>N</td>\n",
       "      <td>N</td>\n",
       "      <td>N</td>\n",
       "      <td>N</td>\n",
       "      <td>N</td>\n",
       "      <td>NaN</td>\n",
       "      <td>NaN</td>\n",
       "      <td>NaN</td>\n",
       "      <td>NaN</td>\n",
       "      <td>NaN</td>\n",
       "      <td>NaN</td>\n",
       "      <td>NaN</td>\n",
       "      <td>NaN</td>\n",
       "      <td>NaN</td>\n",
       "      <td>NaN</td>\n",
       "      <td>N</td>\n",
       "      <td>L</td>\n",
       "      <td>NaN</td>\n",
       "      <td>NaN</td>\n",
       "      <td>NaN</td>\n",
       "      <td>N</td>\n",
       "      <td>N</td>\n",
       "      <td>N</td>\n",
       "      <td>N</td>\n",
       "      <td>N</td>\n",
       "      <td>N</td>\n",
       "      <td>N</td>\n",
       "      <td>N</td>\n",
       "      <td>N</td>\n",
       "      <td>N</td>\n",
       "      <td>N</td>\n",
       "      <td>N</td>\n",
       "      <td>NaN</td>\n",
       "      <td>NaN</td>\n",
       "      <td>NaN</td>\n",
       "      <td>NaN</td>\n",
       "      <td>NaN</td>\n",
       "      <td>NaN</td>\n",
       "      <td>NaN</td>\n",
       "      <td>NaN</td>\n",
       "      <td>NaN</td>\n",
       "      <td>NaN</td>\n",
       "      <td>NaN</td>\n",
       "      <td>NaN</td>\n",
       "      <td>NaN</td>\n",
       "      <td>NaN</td>\n",
       "      <td>0.000000</td>\n",
       "      <td>0.000000</td>\n",
       "    </tr>\n",
       "  </tbody>\n",
       "</table>\n",
       "<p>18014 rows × 128 columns</p>\n",
       "</div>"
      ],
      "text/plain": [
       "       Unnamed: 0     ID        DTHR_REGISTRO PORTA_ENTRADA  \\\n",
       "0               2   4463  08/07/2020 12:56:20           NaN   \n",
       "1               3   4463  08/07/2020 12:56:20           NaN   \n",
       "2               4   4463  08/07/2020 12:56:20           NaN   \n",
       "3               5   4463  08/07/2020 12:56:20           NaN   \n",
       "4              15   1149  27/03/2020 14:03:00           NaN   \n",
       "...           ...    ...                  ...           ...   \n",
       "18009       25787  26952  29/03/2021 15:51:00           NaN   \n",
       "18010       25789  26939  29/03/2021 16:11:00           NaN   \n",
       "18011       25799  26950  29/03/2021 23:10:00           NaN   \n",
       "18012       25801  26953  30/03/2021 03:00:00           NaN   \n",
       "18013       25804  26958  30/03/2021 08:51:00           NaN   \n",
       "\n",
       "      DATA_INICIO_SINTOMAS HISTORICO_VIAGEM PAIS_VISITADO CIDADES_VISITADAS  \\\n",
       "0                      NaN              NaN           NaN               NaN   \n",
       "1                      NaN              NaN           NaN               NaN   \n",
       "2                      NaN              NaN           NaN               NaN   \n",
       "3                      NaN              NaN           NaN               NaN   \n",
       "4                      NaN              NaN           NaN               NaN   \n",
       "...                    ...              ...           ...               ...   \n",
       "18009                  NaN              NaN           NaN               NaN   \n",
       "18010                  NaN              NaN           NaN               NaN   \n",
       "18011                  NaN              NaN           NaN               NaN   \n",
       "18012                  NaN              NaN           NaN               NaN   \n",
       "18013                  NaN              NaN           NaN               NaN   \n",
       "\n",
       "      DATA_RETORNO COLETOU_AMOSTRA           LOCAL_COLETA  \\\n",
       "0              NaN             SIM       9 N - INTERNACAO   \n",
       "1              NaN             SIM       9 N - INTERNACAO   \n",
       "2              NaN             SIM       9 N - INTERNACAO   \n",
       "3              NaN             SIM       9 N - INTERNACAO   \n",
       "4              NaN             NAO          UTI-CIRURGICA   \n",
       "...            ...             ...                    ...   \n",
       "18009          NaN             SIM  EMERGENCIA ADULTA SUS   \n",
       "18010          NaN             SIM       PRONTOPUC ADULTO   \n",
       "18011          NaN             SIM  EMERGENCIA ADULTA SUS   \n",
       "18012          NaN             SIM       PRONTOPUC ADULTO   \n",
       "18013          NaN             SIM       PRONTOPUC ADULTO   \n",
       "\n",
       "               DATA_COLETA PCR_INFLUENZA IFI_OUTRO_VIRUS  PCR_COVID_19  \\\n",
       "0               08/07/2020           NaN             NaN      NEGATIVO   \n",
       "1               08/07/2020           NaN             NaN      NEGATIVO   \n",
       "2               08/07/2020           NaN             NaN      NEGATIVO   \n",
       "3               08/07/2020           NaN             NaN      NEGATIVO   \n",
       "4                      NaN           NaN             NaN      NEGATIVO   \n",
       "...                    ...           ...             ...           ...   \n",
       "18009  30/03/2021 02:49:53           NaN             NaN  EM ANDAMENTO   \n",
       "18010  29/03/2021 16:21:42           NaN             NaN      NEGATIVO   \n",
       "18011  30/03/2021 01:07:37           NaN             NaN  EM ANDAMENTO   \n",
       "18012  30/03/2021 03:20:26           NaN             NaN  EM ANDAMENTO   \n",
       "18013  30/03/2021 09:25:23           NaN             NaN  EM ANDAMENTO   \n",
       "\n",
       "      STATUS_COVID_FROM_MRG_REG_EST  STATUS_COVID_ORDEM       DESFECHO  \\\n",
       "0                         NEGATIVOS                   3  NÃO INFORMADO   \n",
       "1                         NEGATIVOS                   3  NÃO INFORMADO   \n",
       "2                         NEGATIVOS                   3  NÃO INFORMADO   \n",
       "3                         NEGATIVOS                   3  NÃO INFORMADO   \n",
       "4                         NEGATIVOS                   3  NÃO INFORMADO   \n",
       "...                             ...                 ...            ...   \n",
       "18009                     SUSPEITOS                   2  NÃO INFORMADO   \n",
       "18010                     NEGATIVOS                   3  NÃO INFORMADO   \n",
       "18011                     SUSPEITOS                   2  NÃO INFORMADO   \n",
       "18012                     SUSPEITOS                   2  NÃO INFORMADO   \n",
       "18013                     SUSPEITOS                   2  NÃO INFORMADO   \n",
       "\n",
       "       CD_ATENDIMENTO DS_TP_ATENDIMENTO  CD_PACIENTE     GENERO  \\\n",
       "0            925313.0         INTERNADO     454612.0  MASCULINO   \n",
       "1            925313.0         INTERNADO     454612.0  MASCULINO   \n",
       "2            925313.0         INTERNADO     454612.0  MASCULINO   \n",
       "3            925313.0         INTERNADO     454612.0  MASCULINO   \n",
       "4           1230987.0         INTERNADO    1402382.0   FEMININO   \n",
       "...               ...               ...          ...        ...   \n",
       "18009       1605181.0          URGENCIA    2392074.0   FEMININO   \n",
       "18010       1605209.0          URGENCIA     981692.0   FEMININO   \n",
       "18011       1605362.0          URGENCIA    2392113.0  MASCULINO   \n",
       "18012       1605369.0          URGENCIA    1541136.0   FEMININO   \n",
       "18013       1605658.0          URGENCIA    1802152.0   FEMININO   \n",
       "\n",
       "                  IDADE SN_OBITO DIAGNOSTICO_SARS OBITO_SARS    TIPO_SAIDA  \\\n",
       "0       42,498401826484        N              NÃO        NÃO          ALTA   \n",
       "1       42,498401826484        N              NÃO        NÃO          ALTA   \n",
       "2       42,498401826484        N              NÃO        NÃO          ALTA   \n",
       "3       42,498401826484        N              NÃO        NÃO          ALTA   \n",
       "4      83,3723744292237        N              NÃO        NÃO          ALTA   \n",
       "...                 ...      ...              ...        ...           ...   \n",
       "18009  77,2079908675799        N              SIM        NÃO  AMBULATORIAL   \n",
       "18010  32,4463470319635        N              NÃO        NÃO  AMBULATORIAL   \n",
       "18011  41,1860730593607        N              NÃO        NÃO  AMBULATORIAL   \n",
       "18012  42,3449771689498        N              NÃO        NÃO  AMBULATORIAL   \n",
       "18013  39,4956621004566        N              NÃO        NÃO  AMBULATORIAL   \n",
       "\n",
       "      TIPO_OBITO            DTHR_ALTA CD_CID DS_ESPECIALID_SAI REINTER_30D  \\\n",
       "0            NaN  07/10/2020 13:13:46   K263     NEUROCIRURGIA         NÃO   \n",
       "1            NaN  07/10/2020 13:13:46   K263     NEUROCIRURGIA         NÃO   \n",
       "2            NaN  07/10/2020 13:13:46   K263     NEUROCIRURGIA         NÃO   \n",
       "3            NaN  07/10/2020 13:13:46   K263     NEUROCIRURGIA         NÃO   \n",
       "4            NaN  04/05/2020 12:53:00   J180         GERIATRIA         NÃO   \n",
       "...          ...                  ...    ...               ...         ...   \n",
       "18009        NaN  29/03/2021 16:34:00   B342    CLINICA MEDICA         NÃO   \n",
       "18010        NaN  29/03/2021 16:12:00   B349    CLINICA MEDICA         NÃO   \n",
       "18011        NaN  29/03/2021 23:23:00   K403    CLINICA MEDICA         NÃO   \n",
       "18012        NaN  30/03/2021 10:48:00   R074    CLINICA MEDICA         NÃO   \n",
       "18013        NaN  30/03/2021 08:51:00   B349      INFECTOLOGIA         NÃO   \n",
       "\n",
       "      CARATER_ATENDIMENTO  EMERG_SERVICO    EMERG_RISCO CID_DIAG_ATEND  \\\n",
       "0                URGÊNCIA      PRONTOPUC        LARANJA           K263   \n",
       "1                URGÊNCIA      PRONTOPUC        LARANJA           K263   \n",
       "2                URGÊNCIA      PRONTOPUC        LARANJA           K263   \n",
       "3                URGÊNCIA      PRONTOPUC        LARANJA           K263   \n",
       "4                URGÊNCIA      PRONTOPUC       VERMELHO           J180   \n",
       "...                   ...            ...            ...            ...   \n",
       "18009            URGÊNCIA      PRONTOSUS        LARANJA           B342   \n",
       "18010            URGÊNCIA      PRONTOPUC          VERDE           B349   \n",
       "18011            URGÊNCIA      PRONTOSUS        LARANJA           K403   \n",
       "18012            URGÊNCIA      PRONTOPUC          VERDE           R074   \n",
       "18013            URGÊNCIA  NÃO INFORMADO  NÃO INFORMADO           B349   \n",
       "\n",
       "                                       CID_CAPITULO_DIAG BLOCO_CENTRAL_ST  \\\n",
       "0                                     Aparelho digestivo              SIM   \n",
       "1                                     Aparelho digestivo              SIM   \n",
       "2                                     Aparelho digestivo              SIM   \n",
       "3                                     Aparelho digestivo              SIM   \n",
       "4                                  Aparelho respiratório              NÃO   \n",
       "...                                                  ...              ...   \n",
       "18009                         Infecciosas e parasitárias              NÃO   \n",
       "18010                         Infecciosas e parasitárias              NÃO   \n",
       "18011                                 Aparelho digestivo              NÃO   \n",
       "18012  Sintomas, sinais e achados anormais de exames ...              NÃO   \n",
       "18013                         Infecciosas e parasitárias              NÃO   \n",
       "\n",
       "      HEMODINAMICA_ST EX_LAB_ST EX_IMG_ST EX_OUTROS_ST  \\\n",
       "0                 SIM       SIM       SIM          SIM   \n",
       "1                 SIM       SIM       SIM          SIM   \n",
       "2                 SIM       SIM       SIM          SIM   \n",
       "3                 SIM       SIM       SIM          SIM   \n",
       "4                 NÃO       SIM       SIM          NÃO   \n",
       "...               ...       ...       ...          ...   \n",
       "18009             NÃO       SIM       NÃO          NÃO   \n",
       "18010             NÃO       SIM       NÃO          NÃO   \n",
       "18011             NÃO       SIM       NÃO          NÃO   \n",
       "18012             NÃO       SIM       SIM          NÃO   \n",
       "18013             NÃO       NÃO       NÃO          NÃO   \n",
       "\n",
       "       CD_PACIENTE_FROM_ESTUDO COMPETENCIA PORTA_ENTRADA_FROM_ESTUDO  \\\n",
       "0                     454612.0  01/07/2020                       NaN   \n",
       "1                     454612.0  01/07/2020                       NaN   \n",
       "2                     454612.0  01/07/2020                       NaN   \n",
       "3                     454612.0  01/07/2020                       NaN   \n",
       "4                    1402382.0  01/03/2020                       NaN   \n",
       "...                        ...         ...                       ...   \n",
       "18009                2392074.0  29/03/2021                       NaN   \n",
       "18010                 981692.0  29/03/2021                       NaN   \n",
       "18011                2392113.0  29/03/2021                       NaN   \n",
       "18012                1541136.0  01/08/2020                       NaN   \n",
       "18013                1802152.0  30/03/2021                       NaN   \n",
       "\n",
       "      DATA_INICIO_SINTOMAS_FROM_ESTUDO HISTORICO_VIAGEM_FROM_ESTUDO  \\\n",
       "0                                  NaN                          NaN   \n",
       "1                                  NaN                          NaN   \n",
       "2                                  NaN                          NaN   \n",
       "3                                  NaN                          NaN   \n",
       "4                                  NaN                          NaN   \n",
       "...                                ...                          ...   \n",
       "18009                              NaN                          NaN   \n",
       "18010                              NaN                          NaN   \n",
       "18011                              NaN                          NaN   \n",
       "18012                              NaN                          NaN   \n",
       "18013                              NaN                          NaN   \n",
       "\n",
       "      CIDADES_VISITADAS_FROM_ESTUDO LOCAL_COLETA_FROM_ESTUDO  \\\n",
       "0                               NaN         9 N - INTERNACAO   \n",
       "1                               NaN         9 N - INTERNACAO   \n",
       "2                               NaN         9 N - INTERNACAO   \n",
       "3                               NaN         9 N - INTERNACAO   \n",
       "4                               NaN            UTI-CIRURGICA   \n",
       "...                             ...                      ...   \n",
       "18009                           NaN    EMERGENCIA ADULTA SUS   \n",
       "18010                           NaN         PRONTOPUC ADULTO   \n",
       "18011                           NaN    EMERGENCIA ADULTA SUS   \n",
       "18012                           NaN         PRONTOPUC ADULTO   \n",
       "18013                           NaN         PRONTOPUC ADULTO   \n",
       "\n",
       "      DATA_COLETA_FROM_ESTUDO PCR_COVID_19_FROM_ESTUDO  \\\n",
       "0                  08/07/2020                 NEGATIVO   \n",
       "1                  08/07/2020                 NEGATIVO   \n",
       "2                  08/07/2020                 NEGATIVO   \n",
       "3                  08/07/2020                 NEGATIVO   \n",
       "4                  11/07/2020                 POSITIVO   \n",
       "...                       ...                      ...   \n",
       "18009     30/03/2021 02:49:53             EM ANDAMENTO   \n",
       "18010     29/03/2021 16:21:42                 NEGATIVO   \n",
       "18011     30/03/2021 01:07:37             EM ANDAMENTO   \n",
       "18012     01/08/2020 22:51:22                 NEGATIVO   \n",
       "18013     30/03/2021 09:25:23             EM ANDAMENTO   \n",
       "\n",
       "          DESFECHO_FROM_ESTUDO TIPO_REGISTRO SN_IFI_OV_SINCICIAL_RESP  \\\n",
       "0                   INTERNAÇÃO             A                        N   \n",
       "1                   INTERNAÇÃO             A                        N   \n",
       "2                   INTERNAÇÃO             A                        N   \n",
       "3                   INTERNAÇÃO             A                        N   \n",
       "4      ÓBITO POR OUTRAS CAUSAS             A                        N   \n",
       "...                        ...           ...                      ...   \n",
       "18009               INTERNAÇÃO             A                        N   \n",
       "18010                      NaN             A                        N   \n",
       "18011               INTERNAÇÃO             A                        N   \n",
       "18012                      NaN             A                        N   \n",
       "18013                      NaN             A                        N   \n",
       "\n",
       "      SN_IFI_OV_PARAINFLU3 SN_IFI_OV_PARAINFLU2 SN_IFI_OV_PARAINFLU1  \\\n",
       "0                        N                    N                    N   \n",
       "1                        N                    N                    N   \n",
       "2                        N                    N                    N   \n",
       "3                        N                    N                    N   \n",
       "4                        N                    N                    N   \n",
       "...                    ...                  ...                  ...   \n",
       "18009                    N                    N                    N   \n",
       "18010                    N                    N                    N   \n",
       "18011                    N                    N                    N   \n",
       "18012                    N                    N                    N   \n",
       "18013                    N                    N                    N   \n",
       "\n",
       "      SN_IFI_OV_INFLUA SN_IFI_OV_INFLUB SN_IFI_OV_ADENOVIRUS  \\\n",
       "0                    N                N                    N   \n",
       "1                    N                N                    N   \n",
       "2                    N                N                    N   \n",
       "3                    N                N                    N   \n",
       "4                    N                N                    N   \n",
       "...                ...              ...                  ...   \n",
       "18009                N                N                    N   \n",
       "18010                N                N                    N   \n",
       "18011                N                N                    N   \n",
       "18012                N                N                    N   \n",
       "18013                N                N                    N   \n",
       "\n",
       "      SN_CRIT_CONTATO_CASO_COVID SN_CRIT_CONTATO_CASO_SUSPEITO  \\\n",
       "0                              N                             N   \n",
       "1                              N                             N   \n",
       "2                              N                             N   \n",
       "3                              N                             N   \n",
       "4                              N                             N   \n",
       "...                          ...                           ...   \n",
       "18009                          N                             N   \n",
       "18010                          N                             N   \n",
       "18011                          N                             N   \n",
       "18012                          N                             N   \n",
       "18013                          N                             N   \n",
       "\n",
       "       SN_CRIT_PROF_SAUDE_HOSPITAL SN_CRIT_PROF_SAUDE_OUT SN_CRIT_SRAG  \\\n",
       "0                              NaN                      N            N   \n",
       "1                              NaN                      N            N   \n",
       "2                              NaN                      N            N   \n",
       "3                              NaN                      N            N   \n",
       "4                              NaN                      N            N   \n",
       "...                            ...                    ...          ...   \n",
       "18009                          NaN                      N            N   \n",
       "18010                          NaN                      N            N   \n",
       "18011                          NaN                      N            N   \n",
       "18012                          NaN                      N            N   \n",
       "18013                          NaN                      N            N   \n",
       "\n",
       "      SN_CRIT_SINDROME_GRIPAL SN_CRIT_IGNORADO SN_CRIT_OUTROS  \\\n",
       "0                           N                N              N   \n",
       "1                           N                N              N   \n",
       "2                           N                N              N   \n",
       "3                           N                N              N   \n",
       "4                           N                N              N   \n",
       "...                       ...              ...            ...   \n",
       "18009                       N                N              N   \n",
       "18010                       N                N              N   \n",
       "18011                       N                N              N   \n",
       "18012                       N                N              N   \n",
       "18013                       N                N              N   \n",
       "\n",
       "      SN_CRIT_PROT_COVID19          ESTUDO_TP_EXPOSICAO  \\\n",
       "0                        N               HOSPITALAR HSL   \n",
       "1                        N               HOSPITALAR HSL   \n",
       "2                        N               HOSPITALAR HSL   \n",
       "3                        N               HOSPITALAR HSL   \n",
       "4                        N               HOSPITALAR HSL   \n",
       "...                    ...                          ...   \n",
       "18009                    N                          NaN   \n",
       "18010                    N  PROFISSIONAL DE SAÚDE - HSL   \n",
       "18011                    N                          NaN   \n",
       "18012                    N  PROFISSIONAL DE SAUDE - HSL   \n",
       "18013                    N                          NaN   \n",
       "\n",
       "      ESTUDO_COMORB_PREV_HAS ESTUDO_COMORB_PREV_IAM ESTUDO_COMORB_PREV_IC  \\\n",
       "0                          N                      N                     N   \n",
       "1                          N                      N                     N   \n",
       "2                          N                      N                     N   \n",
       "3                          N                      N                     N   \n",
       "4                          N                      N                     N   \n",
       "...                      ...                    ...                   ...   \n",
       "18009                      N                      N                     N   \n",
       "18010                      N                      N                     N   \n",
       "18011                      N                      N                     N   \n",
       "18012                      N                      N                     N   \n",
       "18013                      N                      N                     N   \n",
       "\n",
       "      ESTUDO_COMORB_PREV_DRC ESTUDO_COMORB_PREV_DMI ESTUDO_COMORB_PREV_DMII  \\\n",
       "0                          N                      N                       N   \n",
       "1                          N                      N                       N   \n",
       "2                          N                      N                       N   \n",
       "3                          N                      N                       N   \n",
       "4                          N                      N                       N   \n",
       "...                      ...                    ...                     ...   \n",
       "18009                      N                      N                       N   \n",
       "18010                      N                      N                       N   \n",
       "18011                      N                      N                       N   \n",
       "18012                      N                      N                       N   \n",
       "18013                      N                      N                       N   \n",
       "\n",
       "      ESTUDO_COMORB_PREV_CARCINOMA ESTUDO_COMORB_PREV_ADENOMA  \\\n",
       "0                                N                          N   \n",
       "1                                N                          N   \n",
       "2                                N                          N   \n",
       "3                                N                          N   \n",
       "4                                N                          N   \n",
       "...                            ...                        ...   \n",
       "18009                            N                          N   \n",
       "18010                            N                          N   \n",
       "18011                            N                          N   \n",
       "18012                            N                          N   \n",
       "18013                            N                          N   \n",
       "\n",
       "      ESTUDO_COMORB_PREV_LINFOMA ESTUDO_COMORB_PREV_AVC  \\\n",
       "0                              N                      N   \n",
       "1                              N                      N   \n",
       "2                              N                      N   \n",
       "3                              N                      N   \n",
       "4                              N                      N   \n",
       "...                          ...                    ...   \n",
       "18009                          N                      N   \n",
       "18010                          N                      N   \n",
       "18011                          N                      N   \n",
       "18012                          N                      N   \n",
       "18013                          N                      N   \n",
       "\n",
       "      ESTUDO_COMORB_PREV_ASMA ESTUDO_COMORB_PREV_DPOC  \\\n",
       "0                           N                       N   \n",
       "1                           N                       N   \n",
       "2                           N                       N   \n",
       "3                           N                       N   \n",
       "4                           N                       N   \n",
       "...                       ...                     ...   \n",
       "18009                       N                       N   \n",
       "18010                       N                       N   \n",
       "18011                       N                       N   \n",
       "18012                       N                       N   \n",
       "18013                       N                       N   \n",
       "\n",
       "      ESTUDO_COMORB_PREV_OBESIDADE ESTUDO_COMORB_PREV_EPILEPSIA  \\\n",
       "0                                N                            N   \n",
       "1                                N                            N   \n",
       "2                                N                            N   \n",
       "3                                N                            N   \n",
       "4                                N                            N   \n",
       "...                            ...                          ...   \n",
       "18009                            N                            N   \n",
       "18010                            N                            N   \n",
       "18011                            N                            N   \n",
       "18012                            N                            N   \n",
       "18013                            N                            N   \n",
       "\n",
       "      ESTUDO_COMORB_PREV_HIGIDO ESTUDO_COMORB_PREV_OUTRAS  ESTUDO_CHARLSON  \\\n",
       "0                             N                       NaN              NaN   \n",
       "1                             N                       NaN              NaN   \n",
       "2                             N                       NaN              NaN   \n",
       "3                             N                       NaN              NaN   \n",
       "4                             N                       NaN              NaN   \n",
       "...                         ...                       ...              ...   \n",
       "18009                         N                       NaN              NaN   \n",
       "18010                         N                       NaN              NaN   \n",
       "18011                         N                       NaN              NaN   \n",
       "18012                         N                       NaN              NaN   \n",
       "18013                         N                       NaN              NaN   \n",
       "\n",
       "      ESTUDO_FR_DIA_COLETA  ESTUDO_FC_DIA_COLETA ESTUDO_PA_DIA_COLETA  \\\n",
       "0                      NaN                   NaN                  NaN   \n",
       "1                      NaN                   NaN                  NaN   \n",
       "2                      NaN                   NaN                  NaN   \n",
       "3                      NaN                   NaN                  NaN   \n",
       "4                      NaN                   NaN                  NaN   \n",
       "...                    ...                   ...                  ...   \n",
       "18009                  NaN                   NaN                  NaN   \n",
       "18010                  NaN                   NaN                  NaN   \n",
       "18011                  NaN                   NaN                  NaN   \n",
       "18012                  NaN                   NaN                  NaN   \n",
       "18013                  NaN                   NaN                  NaN   \n",
       "\n",
       "      ESTUDO_TEMPERATURA_DIA_COLETA ESTUDO_SATURACAO_DIA_COLETA  \\\n",
       "0                               NaN                         NaN   \n",
       "1                               NaN                         NaN   \n",
       "2                               NaN                         NaN   \n",
       "3                               NaN                         NaN   \n",
       "4                               NaN                         NaN   \n",
       "...                             ...                         ...   \n",
       "18009                           NaN                         NaN   \n",
       "18010                           NaN                         NaN   \n",
       "18011                           NaN                         NaN   \n",
       "18012                           NaN                         NaN   \n",
       "18013                           NaN                         NaN   \n",
       "\n",
       "       ESTUDO_APACHE2  ESTUDO_RISCO ESTUDO_TRATAMENTO  \\\n",
       "0                 NaN           NaN               NaN   \n",
       "1                 NaN           NaN               NaN   \n",
       "2                 NaN           NaN               NaN   \n",
       "3                 NaN           NaN               NaN   \n",
       "4                 NaN           NaN               NaN   \n",
       "...               ...           ...               ...   \n",
       "18009             NaN           NaN               NaN   \n",
       "18010             NaN           NaN               NaN   \n",
       "18011             NaN           NaN               NaN   \n",
       "18012             NaN           NaN               NaN   \n",
       "18013             NaN           NaN               NaN   \n",
       "\n",
       "      ESTUDO_COMORB_PREV_TX_ORG_SOL ESTUDO_CONDUTA ESTUDO_LOCAL_CONTAMINACAO  \\\n",
       "0                                 N              L                       NaN   \n",
       "1                                 N              L                       NaN   \n",
       "2                                 N              L                       NaN   \n",
       "3                                 N              L                       NaN   \n",
       "4                                 N              L                       NaN   \n",
       "...                             ...            ...                       ...   \n",
       "18009                             N              L                       NaN   \n",
       "18010                             N              L                       NaN   \n",
       "18011                             N              L                       NaN   \n",
       "18012                             N              L                       NaN   \n",
       "18013                             N              L                       NaN   \n",
       "\n",
       "       ESTUDO_LOCAL_CONTAM_UI ESTUDO_DT_DESFECHO ESTUDO_COMORB_PREV_DESCON  \\\n",
       "0                         NaN                NaN                         N   \n",
       "1                         NaN                NaN                         N   \n",
       "2                         NaN                NaN                         N   \n",
       "3                         NaN                NaN                         N   \n",
       "4                         NaN                NaN                         N   \n",
       "...                       ...                ...                       ...   \n",
       "18009                     NaN                NaN                         N   \n",
       "18010                     NaN                NaN                         N   \n",
       "18011                     NaN                NaN                         N   \n",
       "18012                     NaN                NaN                         N   \n",
       "18013                     NaN                NaN                         N   \n",
       "\n",
       "      ESTUDO_COMORB_PREV_DVP ESTUDO_COMORB_PREV_DEMENCIA  \\\n",
       "0                          N                           N   \n",
       "1                          N                           N   \n",
       "2                          N                           N   \n",
       "3                          N                           N   \n",
       "4                          N                           N   \n",
       "...                      ...                         ...   \n",
       "18009                      N                           N   \n",
       "18010                      N                           N   \n",
       "18011                      N                           N   \n",
       "18012                      N                           N   \n",
       "18013                      N                           N   \n",
       "\n",
       "      ESTUDO_COMORB_PREV_DTC ESTUDO_COMORB_PREV_UP ESTUDO_COMORB_PREV_DFL  \\\n",
       "0                          N                     N                      N   \n",
       "1                          N                     N                      N   \n",
       "2                          N                     N                      N   \n",
       "3                          N                     N                      N   \n",
       "4                          N                     N                      N   \n",
       "...                      ...                   ...                    ...   \n",
       "18009                      N                     N                      N   \n",
       "18010                      N                     N                      N   \n",
       "18011                      N                     N                      N   \n",
       "18012                      N                     N                      N   \n",
       "18013                      N                     N                      N   \n",
       "\n",
       "      ESTUDO_COMORB_PREV_DFM ESTUDO_COMORB_PREV_HEMIPLEGIA  \\\n",
       "0                          N                             N   \n",
       "1                          N                             N   \n",
       "2                          N                             N   \n",
       "3                          N                             N   \n",
       "4                          N                             N   \n",
       "...                      ...                           ...   \n",
       "18009                      N                             N   \n",
       "18010                      N                             N   \n",
       "18011                      N                             N   \n",
       "18012                      N                             N   \n",
       "18013                      N                             N   \n",
       "\n",
       "      ESTUDO_COMORB_PREV_LEUCEMIA ESTUDO_COMORB_PREV_HIV  \\\n",
       "0                               N                      N   \n",
       "1                               N                      N   \n",
       "2                               N                      N   \n",
       "3                               N                      N   \n",
       "4                               N                      N   \n",
       "...                           ...                    ...   \n",
       "18009                           N                      N   \n",
       "18010                           N                      N   \n",
       "18011                           N                      N   \n",
       "18012                           N                      N   \n",
       "18013                           N                      N   \n",
       "\n",
       "      ESTUDO_COMORB_PREV_TUL ESTUDO_COMORB_PREV_TUM STATUS_COVID_FROM_UTI  \\\n",
       "0                          N                      N             NEGATIVOS   \n",
       "1                          N                      N             NEGATIVOS   \n",
       "2                          N                      N             NEGATIVOS   \n",
       "3                          N                      N             NEGATIVOS   \n",
       "4                          N                      N             NEGATIVOS   \n",
       "...                      ...                    ...                   ...   \n",
       "18009                      N                      N                   NaN   \n",
       "18010                      N                      N                   NaN   \n",
       "18011                      N                      N                   NaN   \n",
       "18012                      N                      N                   NaN   \n",
       "18013                      N                      N                   NaN   \n",
       "\n",
       "       CD_PACIENTE_FROM_UTI  CD_LEITO  CD_UNIDADE DS_UNIDADE  DT_ENTRADA  \\\n",
       "0                  454612.0    1607.0         7.0        UTI  07/12/2019   \n",
       "1                  454612.0    1613.0         7.0        UTI  10/01/2020   \n",
       "2                  454612.0    2736.0         5.0        UTI  17/04/2020   \n",
       "3                  454612.0    1608.0         7.0        UTI  23/04/2020   \n",
       "4                 1402382.0    1650.0         8.0        UTI  27/03/2020   \n",
       "...                     ...       ...         ...        ...         ...   \n",
       "18009                   NaN       NaN         NaN        NaN         NaN   \n",
       "18010                   NaN       NaN         NaN        NaN         NaN   \n",
       "18011                   NaN       NaN         NaN        NaN         NaN   \n",
       "18012                   NaN       NaN         NaN        NaN         NaN   \n",
       "18013                   NaN       NaN         NaN        NaN         NaN   \n",
       "\n",
       "      HR_ENTRADA    DT_SAIDA  HR_SAIDA           DTHR_LEITO  \\\n",
       "0       11:51:59  18/12/2019  13:48:48  26/11/2019 17:53:24   \n",
       "1       05:43:14  03/02/2020  14:04:26  18/12/2019 13:48:48   \n",
       "2       12:05:17  22/04/2020  11:39:07  03/02/2020 14:04:26   \n",
       "3       12:10:26  27/04/2020  12:27:38  22/04/2020 11:39:07   \n",
       "4       07:26:07  30/03/2020  13:23:12  11/03/2020 18:39:45   \n",
       "...          ...         ...       ...                  ...   \n",
       "18009        NaN         NaN       NaN                  NaN   \n",
       "18010        NaN         NaN       NaN                  NaN   \n",
       "18011        NaN         NaN       NaN                  NaN   \n",
       "18012        NaN         NaN       NaN                  NaN   \n",
       "18013        NaN         NaN       NaN                  NaN   \n",
       "\n",
       "         DATA_HORA_ENTRADA  REENTRADA          DTHR_IN_UTI  \\\n",
       "0      2019-12-07 11:51:59        1.0  07/12/2019 11:51:59   \n",
       "1      2020-01-10 05:43:14        2.0  10/01/2020 05:43:14   \n",
       "2      2020-04-17 12:05:17        3.0  17/04/2020 12:05:17   \n",
       "3      2020-04-23 12:10:26        4.0  23/04/2020 12:10:26   \n",
       "4      2020-03-27 07:26:07        1.0  27/03/2020 07:26:07   \n",
       "...                    ...        ...                  ...   \n",
       "18009                  NaN        NaN                  NaN   \n",
       "18010                  NaN        NaN                  NaN   \n",
       "18011                  NaN        NaN                  NaN   \n",
       "18012                  NaN        NaN                  NaN   \n",
       "18013                  NaN        NaN                  NaN   \n",
       "\n",
       "              DTHR_OUT_UTI  DIAS_PRE_UTI  DIAS_NA_UTI  \n",
       "0      18/12/2019 13:48:48     10.749016    11.081123  \n",
       "1      03/02/2020 14:04:26     22.662801    24.348056  \n",
       "2      22/04/2020 11:39:07     73.917257     4.981829  \n",
       "3      27/04/2020 12:27:38      1.021748     4.011944  \n",
       "4      30/03/2020 13:23:12     15.532199     3.247975  \n",
       "...                    ...           ...          ...  \n",
       "18009                  NaN      0.029861     0.000000  \n",
       "18010                  NaN      0.000694     0.000000  \n",
       "18011                  NaN      0.009028     0.000000  \n",
       "18012                  NaN      0.325000     0.000000  \n",
       "18013                  NaN      0.000000     0.000000  \n",
       "\n",
       "[18014 rows x 128 columns]"
      ]
     },
     "execution_count": 551,
     "metadata": {},
     "output_type": "execute_result"
    }
   ],
   "source": [
    "df"
   ]
  },
  {
   "cell_type": "markdown",
   "id": "solar-pension",
   "metadata": {},
   "source": [
    "O bloco abaixo exclui colunas que não são necessárias para o aprendizado dos modelos:"
   ]
  },
  {
   "cell_type": "code",
   "execution_count": 552,
   "id": "broadband-watts",
   "metadata": {},
   "outputs": [],
   "source": [
    "def showMissing(data):\n",
    "    for column in data.columns:\n",
    "        missingC = data[column].isnull().sum()\n",
    "        print(column,',',missingC,',')\n",
    "        \n",
    "def showValues(data):\n",
    "    for column in data.columns:\n",
    "        values = data[column].value_counts()\n",
    "        print(column,',',values,',')"
   ]
  },
  {
   "cell_type": "code",
   "execution_count": 553,
   "id": "passing-theater",
   "metadata": {},
   "outputs": [
    {
     "name": "stdout",
     "output_type": "stream",
     "text": [
      "Unnamed: 0 , 0 ,\n",
      "ID , 0 ,\n",
      "DTHR_REGISTRO , 0 ,\n",
      "PORTA_ENTRADA , 17936 ,\n",
      "DATA_INICIO_SINTOMAS , 17958 ,\n",
      "HISTORICO_VIAGEM , 17993 ,\n",
      "PAIS_VISITADO , 18010 ,\n",
      "CIDADES_VISITADAS , 18009 ,\n",
      "DATA_RETORNO , 18010 ,\n",
      "COLETOU_AMOSTRA , 2 ,\n",
      "LOCAL_COLETA , 3 ,\n",
      "DATA_COLETA , 61 ,\n",
      "PCR_INFLUENZA , 17999 ,\n",
      "IFI_OUTRO_VIRUS , 17996 ,\n",
      "PCR_COVID_19 , 0 ,\n",
      "STATUS_COVID_FROM_MRG_REG_EST , 0 ,\n",
      "STATUS_COVID_ORDEM , 0 ,\n",
      "DESFECHO , 0 ,\n",
      "CD_ATENDIMENTO , 0 ,\n",
      "DS_TP_ATENDIMENTO , 0 ,\n",
      "CD_PACIENTE , 0 ,\n",
      "GENERO , 0 ,\n",
      "IDADE , 0 ,\n",
      "SN_OBITO , 0 ,\n",
      "DIAGNOSTICO_SARS , 0 ,\n",
      "OBITO_SARS , 0 ,\n",
      "TIPO_SAIDA , 0 ,\n",
      "TIPO_OBITO , 17943 ,\n",
      "DTHR_ALTA , 20 ,\n",
      "CD_CID , 21 ,\n",
      "DS_ESPECIALID_SAI , 0 ,\n",
      "REINTER_30D , 0 ,\n",
      "CARATER_ATENDIMENTO , 0 ,\n",
      "EMERG_SERVICO , 0 ,\n",
      "EMERG_RISCO , 0 ,\n",
      "CID_DIAG_ATEND , 2 ,\n",
      "CID_CAPITULO_DIAG , 0 ,\n",
      "BLOCO_CENTRAL_ST , 0 ,\n",
      "HEMODINAMICA_ST , 0 ,\n",
      "EX_LAB_ST , 0 ,\n",
      "EX_IMG_ST , 0 ,\n",
      "EX_OUTROS_ST , 0 ,\n",
      "CD_PACIENTE_FROM_ESTUDO , 26 ,\n",
      "COMPETENCIA , 26 ,\n",
      "PORTA_ENTRADA_FROM_ESTUDO , 17797 ,\n",
      "DATA_INICIO_SINTOMAS_FROM_ESTUDO , 17227 ,\n",
      "HISTORICO_VIAGEM_FROM_ESTUDO , 17957 ,\n",
      "CIDADES_VISITADAS_FROM_ESTUDO , 17998 ,\n",
      "LOCAL_COLETA_FROM_ESTUDO , 31 ,\n",
      "DATA_COLETA_FROM_ESTUDO , 84 ,\n",
      "PCR_COVID_19_FROM_ESTUDO , 26 ,\n",
      "DESFECHO_FROM_ESTUDO , 9820 ,\n",
      "TIPO_REGISTRO , 26 ,\n",
      "SN_IFI_OV_SINCICIAL_RESP , 26 ,\n",
      "SN_IFI_OV_PARAINFLU3 , 26 ,\n",
      "SN_IFI_OV_PARAINFLU2 , 26 ,\n",
      "SN_IFI_OV_PARAINFLU1 , 26 ,\n",
      "SN_IFI_OV_INFLUA , 26 ,\n",
      "SN_IFI_OV_INFLUB , 26 ,\n",
      "SN_IFI_OV_ADENOVIRUS , 26 ,\n",
      "SN_CRIT_CONTATO_CASO_COVID , 26 ,\n",
      "SN_CRIT_CONTATO_CASO_SUSPEITO , 26 ,\n",
      "SN_CRIT_PROF_SAUDE_HOSPITAL , 18014 ,\n",
      "SN_CRIT_PROF_SAUDE_OUT , 26 ,\n",
      "SN_CRIT_SRAG , 26 ,\n",
      "SN_CRIT_SINDROME_GRIPAL , 26 ,\n",
      "SN_CRIT_IGNORADO , 26 ,\n",
      "SN_CRIT_OUTROS , 26 ,\n",
      "SN_CRIT_PROT_COVID19 , 26 ,\n",
      "ESTUDO_TP_EXPOSICAO , 14929 ,\n",
      "ESTUDO_COMORB_PREV_HAS , 26 ,\n",
      "ESTUDO_COMORB_PREV_IAM , 26 ,\n",
      "ESTUDO_COMORB_PREV_IC , 26 ,\n",
      "ESTUDO_COMORB_PREV_DRC , 26 ,\n",
      "ESTUDO_COMORB_PREV_DMI , 26 ,\n",
      "ESTUDO_COMORB_PREV_DMII , 26 ,\n",
      "ESTUDO_COMORB_PREV_CARCINOMA , 26 ,\n",
      "ESTUDO_COMORB_PREV_ADENOMA , 26 ,\n",
      "ESTUDO_COMORB_PREV_LINFOMA , 26 ,\n",
      "ESTUDO_COMORB_PREV_AVC , 26 ,\n",
      "ESTUDO_COMORB_PREV_ASMA , 26 ,\n",
      "ESTUDO_COMORB_PREV_DPOC , 26 ,\n",
      "ESTUDO_COMORB_PREV_OBESIDADE , 26 ,\n",
      "ESTUDO_COMORB_PREV_EPILEPSIA , 26 ,\n",
      "ESTUDO_COMORB_PREV_HIGIDO , 26 ,\n",
      "ESTUDO_COMORB_PREV_OUTRAS , 17361 ,\n",
      "ESTUDO_CHARLSON , 17682 ,\n",
      "ESTUDO_FR_DIA_COLETA , 18001 ,\n",
      "ESTUDO_FC_DIA_COLETA , 18001 ,\n",
      "ESTUDO_PA_DIA_COLETA , 18001 ,\n",
      "ESTUDO_TEMPERATURA_DIA_COLETA , 18001 ,\n",
      "ESTUDO_SATURACAO_DIA_COLETA , 18003 ,\n",
      "ESTUDO_APACHE2 , 18014 ,\n",
      "ESTUDO_RISCO , 18014 ,\n",
      "ESTUDO_TRATAMENTO , 18006 ,\n",
      "ESTUDO_COMORB_PREV_TX_ORG_SOL , 26 ,\n",
      "ESTUDO_CONDUTA , 28 ,\n",
      "ESTUDO_LOCAL_CONTAMINACAO , 17131 ,\n",
      "ESTUDO_LOCAL_CONTAM_UI , 17892 ,\n",
      "ESTUDO_DT_DESFECHO , 18001 ,\n",
      "ESTUDO_COMORB_PREV_DESCON , 26 ,\n",
      "ESTUDO_COMORB_PREV_DVP , 26 ,\n",
      "ESTUDO_COMORB_PREV_DEMENCIA , 26 ,\n",
      "ESTUDO_COMORB_PREV_DTC , 26 ,\n",
      "ESTUDO_COMORB_PREV_UP , 26 ,\n",
      "ESTUDO_COMORB_PREV_DFL , 26 ,\n",
      "ESTUDO_COMORB_PREV_DFM , 26 ,\n",
      "ESTUDO_COMORB_PREV_HEMIPLEGIA , 26 ,\n",
      "ESTUDO_COMORB_PREV_LEUCEMIA , 26 ,\n",
      "ESTUDO_COMORB_PREV_HIV , 26 ,\n",
      "ESTUDO_COMORB_PREV_TUL , 26 ,\n",
      "ESTUDO_COMORB_PREV_TUM , 26 ,\n",
      "STATUS_COVID_FROM_UTI , 16705 ,\n",
      "CD_PACIENTE_FROM_UTI , 16705 ,\n",
      "CD_LEITO , 16705 ,\n",
      "CD_UNIDADE , 16705 ,\n",
      "DS_UNIDADE , 16705 ,\n",
      "DT_ENTRADA , 16705 ,\n",
      "HR_ENTRADA , 16705 ,\n",
      "DT_SAIDA , 16705 ,\n",
      "HR_SAIDA , 16705 ,\n",
      "DTHR_LEITO , 17859 ,\n",
      "DATA_HORA_ENTRADA , 16705 ,\n",
      "REENTRADA , 16705 ,\n",
      "DTHR_IN_UTI , 16705 ,\n",
      "DTHR_OUT_UTI , 16705 ,\n",
      "DIAS_PRE_UTI , 0 ,\n",
      "DIAS_NA_UTI , 0 ,\n"
     ]
    }
   ],
   "source": [
    "showMissing(df)"
   ]
  },
  {
   "cell_type": "code",
   "execution_count": 554,
   "id": "tropical-hospital",
   "metadata": {},
   "outputs": [],
   "source": [
    "data = df.drop([\n",
    "    'ID',\n",
    "    'DTHR_REGISTRO',\n",
    "    'SN_OBITO',\n",
    "    'DATA_INICIO_SINTOMAS',\n",
    "    'PAIS_VISITADO',\n",
    "    'CIDADES_VISITADAS',\n",
    "    'CD_ATENDIMENTO',\n",
    "    'DATA_RETORNO',\n",
    "    'DATA_COLETA',\n",
    "    'DTHR_ALTA',\n",
    "    'COMPETENCIA',\n",
    "    'CD_PACIENTE_FROM_ESTUDO',\n",
    "    'PORTA_ENTRADA_FROM_ESTUDO',\n",
    "    'DATA_INICIO_SINTOMAS_FROM_ESTUDO',\n",
    "    'HISTORICO_VIAGEM_FROM_ESTUDO',\n",
    "    'CIDADES_VISITADAS_FROM_ESTUDO',\n",
    "    'LOCAL_COLETA_FROM_ESTUDO',\n",
    "    'DATA_COLETA_FROM_ESTUDO',\n",
    "    'PCR_COVID_19_FROM_ESTUDO',\n",
    "    'DESFECHO_FROM_ESTUDO',\n",
    "    'CD_PACIENTE_FROM_UTI',\n",
    "    'DT_ENTRADA',\n",
    "    'HR_ENTRADA',\n",
    "    'DT_SAIDA',\n",
    "    'HR_SAIDA',\n",
    "    #'SEGUNDOS_NA_UTI',\n",
    "    'STATUS_COVID_ORDEM',\n",
    "    'PCR_COVID_19',\n",
    "    #'STATUS_COVID',\n",
    "    'PORTA_ENTRADA',\n",
    "    'HISTORICO_VIAGEM',\n",
    "    'DS_TP_ATENDIMENTO',\n",
    "    'OBITO_SARS',\n",
    "    'TIPO_SAIDA',\n",
    "    'TIPO_OBITO',\n",
    "    'SN_CRIT_CONTATO_CASO_SUSPEITO',\n",
    "    'SN_CRIT_PROF_SAUDE_HOSPITAL',\n",
    "    'SN_CRIT_PROF_SAUDE_OUT',\n",
    "    'SN_CRIT_IGNORADO',\n",
    "    'SN_CRIT_PROT_COVID19',\n",
    "    'CD_UNIDADE',\n",
    "    'CD_LEITO',\n",
    "    'DS_UNIDADE'], axis=1)"
   ]
  },
  {
   "cell_type": "code",
   "execution_count": 555,
   "id": "dimensional-action",
   "metadata": {},
   "outputs": [
    {
     "data": {
      "text/plain": [
       "0         454612.0\n",
       "1         454612.0\n",
       "2         454612.0\n",
       "3         454612.0\n",
       "4        1402382.0\n",
       "           ...    \n",
       "18009    2392074.0\n",
       "18010     981692.0\n",
       "18011    2392113.0\n",
       "18012    1541136.0\n",
       "18013    1802152.0\n",
       "Name: CD_PACIENTE, Length: 18014, dtype: float64"
      ]
     },
     "execution_count": 555,
     "metadata": {},
     "output_type": "execute_result"
    }
   ],
   "source": [
    "data['CD_PACIENTE']"
   ]
  },
  {
   "cell_type": "markdown",
   "id": "chubby-thong",
   "metadata": {},
   "source": [
    "## Calculadora do Charlson"
   ]
  },
  {
   "cell_type": "code",
   "execution_count": 556,
   "id": "brilliant-guess",
   "metadata": {},
   "outputs": [],
   "source": [
    "def resume(coluna, df):\n",
    "    missingC = df[coluna].isnull().sum()\n",
    "    print(\"Valores Faltantes: \", missingC)\n",
    "    print(df[coluna].value_counts())\n",
    "    ndf = df[~df[coluna].isna()].copy()\n",
    "    lista = ndf[coluna].unique().tolist()\n",
    "    print(coluna+\": \", lista)\n",
    "    return missingC\n",
    "\n",
    "def pre_dataset(df):\n",
    "    df = df[df['ESTUDO_CHARLSON'].isna()]\n",
    "    columns_list = df.columns.to_list()\n",
    "    list_comorb = []\n",
    "    for i in columns_list:\n",
    "        if i.startswith('ESTUDO_COMORB_PREV_'):\n",
    "            list_comorb.append(i)\n",
    "\n",
    "    df_cii = df[[\"CD_PACIENTE\", \"IDADE\", *list_comorb]]\n",
    "    df_cii = df_cii.rename(columns=str.lower)\n",
    "    df_cii.idade = df_cii.idade.str.split(',').str[0].astype(int)\n",
    "    return df_cii\n",
    "\n",
    "def score_charlson(df_cii):\n",
    "    columns_cii = ['estudo_comorb_prev_iam', 'estudo_comorb_prev_ic', 'estudo_comorb_prev_drc',\n",
    "               'estudo_comorb_prev_dmii', 'estudo_comorb_prev_carcinoma',\n",
    "               'estudo_comorb_prev_avc', 'estudo_comorb_prev_dpoc', 'estudo_comorb_prev_demencia', \n",
    "               'estudo_comorb_prev_leucemia', 'estudo_comorb_prev_hiv']\n",
    "\n",
    "    score = {'estudo_comorb_prev_iam': 1, 'estudo_comorb_prev_ic': 1, 'estudo_comorb_prev_drc': 2, 'estudo_comorb_prev_dmi': 1,\n",
    "             'estudo_comorb_prev_dmii': 2, 'estudo_comorb_prev_carcinoma': 6, 'estudo_comorb_prev_adenoma': 2,\n",
    "             'estudo_comorb_prev_linfoma': 2, 'estudo_comorb_prev_avc': 1, 'estudo_comorb_prev_dpoc': 1,\n",
    "             'estudo_comorb_prev_demencia': 1, 'estudo_comorb_prev_dtc': 1, 'estudo_comorb_prev_hemiplegia': 2,\n",
    "             'estudo_comorb_prev_leucemia': 2, 'estudo_comorb_prev_hiv': 6}\n",
    "\n",
    "    df_ciiF = df_cii[[\"cd_paciente\", \"idade\", *columns_cii]]\n",
    "    \n",
    "    df_ciiF['estudo_comorb_prev_iam'].replace({\"N\": 0, \"S\": 1}, inplace=True)\n",
    "    df_ciiF['estudo_comorb_prev_ic'].replace({\"N\": 0, \"S\": 1}, inplace=True)\n",
    "    df_ciiF['estudo_comorb_prev_drc'].replace({\"N\": 0, \"S\": 2}, inplace=True)\n",
    "    df_ciiF['estudo_comorb_prev_dmii'].replace({\"N\": 0, \"S\": 2}, inplace=True)\n",
    "    df_ciiF['estudo_comorb_prev_carcinoma'].replace({\"N\": 0, \"S\": 6}, inplace=True)\n",
    "    df_ciiF['estudo_comorb_prev_avc'].replace({\"N\": 0, \"S\": 1}, inplace=True)\n",
    "    df_ciiF['estudo_comorb_prev_dpoc'].replace({\"N\": 0, \"S\": 1}, inplace=True)\n",
    "    df_ciiF['estudo_comorb_prev_demencia'].replace({\"N\": 0, \"S\": 1}, inplace=True)\n",
    "    df_ciiF['estudo_comorb_prev_leucemia'].replace({\"N\": 0, \"S\": 2}, inplace=True)\n",
    "    df_ciiF['estudo_comorb_prev_hiv'].replace({\"N\": 0, \"S\": 6}, inplace=True)\n",
    "    \n",
    "    search = ' // ' or ','\n",
    "    df_ciiF['count_outras']= df_cii['estudo_comorb_prev_outras'].astype(str).str.count('//|,')\n",
    "    \n",
    "    idade_cii = []    \n",
    "\n",
    "    for idade in df_ciiF.idade:\n",
    "        if (idade >= 80):\n",
    "            idade_cii.append(4)\n",
    "        elif (idade >= 70 and idade <=79):\n",
    "            idade_cii.append(3)\n",
    "        elif (idade >= 60 and idade <=69):\n",
    "            idade_cii.append(2) \n",
    "        elif (idade >= 50 and idade <=59):\n",
    "            idade_cii.append(1)\n",
    "        else:\n",
    "            idade_cii.append(0)\n",
    "\n",
    "    df_ciiF['idade'] = idade_cii\n",
    "        \n",
    "    charlson = df_ciiF[['count_outras','idade', *columns_cii]].sum(axis = 1, skipna = True) \n",
    "    print(charlson)\n",
    "    \n",
    "    df_final = pd.DataFrame(charlson, columns=['estudo_charlson'])\n",
    "\n",
    "    df_final = df_final.assign(cd_paciente = df_ciiF['cd_paciente'])\n",
    "#    df_final = df_final.assign(idade = df_cii['idade'])\n",
    "    \n",
    "    return df_final"
   ]
  },
  {
   "cell_type": "code",
   "execution_count": 557,
   "id": "restricted-ottawa",
   "metadata": {},
   "outputs": [
    {
     "data": {
      "text/plain": [
       "Index(['cd_paciente', 'idade', 'estudo_comorb_prev_has',\n",
       "       'estudo_comorb_prev_iam', 'estudo_comorb_prev_ic',\n",
       "       'estudo_comorb_prev_drc', 'estudo_comorb_prev_dmi',\n",
       "       'estudo_comorb_prev_dmii', 'estudo_comorb_prev_carcinoma',\n",
       "       'estudo_comorb_prev_adenoma', 'estudo_comorb_prev_linfoma',\n",
       "       'estudo_comorb_prev_avc', 'estudo_comorb_prev_asma',\n",
       "       'estudo_comorb_prev_dpoc', 'estudo_comorb_prev_obesidade',\n",
       "       'estudo_comorb_prev_epilepsia', 'estudo_comorb_prev_higido',\n",
       "       'estudo_comorb_prev_outras', 'estudo_comorb_prev_tx_org_sol',\n",
       "       'estudo_comorb_prev_descon', 'estudo_comorb_prev_dvp',\n",
       "       'estudo_comorb_prev_demencia', 'estudo_comorb_prev_dtc',\n",
       "       'estudo_comorb_prev_up', 'estudo_comorb_prev_dfl',\n",
       "       'estudo_comorb_prev_dfm', 'estudo_comorb_prev_hemiplegia',\n",
       "       'estudo_comorb_prev_leucemia', 'estudo_comorb_prev_hiv',\n",
       "       'estudo_comorb_prev_tul', 'estudo_comorb_prev_tum'],\n",
       "      dtype='object')"
      ]
     },
     "execution_count": 557,
     "metadata": {},
     "output_type": "execute_result"
    }
   ],
   "source": [
    "pre_processing_data = pre_dataset(data)\n",
    "pre_processing_data.columns"
   ]
  },
  {
   "cell_type": "code",
   "execution_count": 558,
   "id": "previous-ground",
   "metadata": {},
   "outputs": [
    {
     "name": "stdout",
     "output_type": "stream",
     "text": [
      "Valores Faltantes:  17682\n",
      "5.0     64\n",
      "2.0     64\n",
      "1.0     64\n",
      "4.0     37\n",
      "3.0     33\n",
      "6.0     30\n",
      "7.0     21\n",
      "10.0     9\n",
      "8.0      6\n",
      "0.0      3\n",
      "9.0      1\n",
      "Name: ESTUDO_CHARLSON, dtype: int64\n",
      "ESTUDO_CHARLSON:  [1.0, 5.0, 2.0, 6.0, 8.0, 4.0, 3.0, 7.0, 9.0, 10.0, 0.0]\n"
     ]
    },
    {
     "data": {
      "text/plain": [
       "17682"
      ]
     },
     "execution_count": 558,
     "metadata": {},
     "output_type": "execute_result"
    }
   ],
   "source": [
    "resume('ESTUDO_CHARLSON', df)"
   ]
  },
  {
   "cell_type": "code",
   "execution_count": 559,
   "id": "martial-admission",
   "metadata": {
    "scrolled": true
   },
   "outputs": [
    {
     "name": "stdout",
     "output_type": "stream",
     "text": [
      "0        0.0\n",
      "1        0.0\n",
      "2        0.0\n",
      "3        0.0\n",
      "4        4.0\n",
      "        ... \n",
      "18009    3.0\n",
      "18010    0.0\n",
      "18011    0.0\n",
      "18012    0.0\n",
      "18013    0.0\n",
      "Length: 17682, dtype: float64\n"
     ]
    },
    {
     "name": "stderr",
     "output_type": "stream",
     "text": [
      "/Users/giggio/opt/anaconda3/envs/edaML/lib/python3.6/site-packages/pandas/core/series.py:4569: SettingWithCopyWarning: \n",
      "A value is trying to be set on a copy of a slice from a DataFrame\n",
      "\n",
      "See the caveats in the documentation: https://pandas.pydata.org/pandas-docs/stable/user_guide/indexing.html#returning-a-view-versus-a-copy\n",
      "  method=method,\n",
      "/Users/giggio/opt/anaconda3/envs/edaML/lib/python3.6/site-packages/ipykernel_launcher.py:49: SettingWithCopyWarning: \n",
      "A value is trying to be set on a copy of a slice from a DataFrame.\n",
      "Try using .loc[row_indexer,col_indexer] = value instead\n",
      "\n",
      "See the caveats in the documentation: https://pandas.pydata.org/pandas-docs/stable/user_guide/indexing.html#returning-a-view-versus-a-copy\n",
      "/Users/giggio/opt/anaconda3/envs/edaML/lib/python3.6/site-packages/ipykernel_launcher.py:65: SettingWithCopyWarning: \n",
      "A value is trying to be set on a copy of a slice from a DataFrame.\n",
      "Try using .loc[row_indexer,col_indexer] = value instead\n",
      "\n",
      "See the caveats in the documentation: https://pandas.pydata.org/pandas-docs/stable/user_guide/indexing.html#returning-a-view-versus-a-copy\n"
     ]
    }
   ],
   "source": [
    "charlson_complete = score_charlson(pre_processing_data)"
   ]
  },
  {
   "cell_type": "code",
   "execution_count": 560,
   "id": "velvet-carol",
   "metadata": {},
   "outputs": [
    {
     "data": {
      "text/html": [
       "<div>\n",
       "<style scoped>\n",
       "    .dataframe tbody tr th:only-of-type {\n",
       "        vertical-align: middle;\n",
       "    }\n",
       "\n",
       "    .dataframe tbody tr th {\n",
       "        vertical-align: top;\n",
       "    }\n",
       "\n",
       "    .dataframe thead th {\n",
       "        text-align: right;\n",
       "    }\n",
       "</style>\n",
       "<table border=\"1\" class=\"dataframe\">\n",
       "  <thead>\n",
       "    <tr style=\"text-align: right;\">\n",
       "      <th></th>\n",
       "      <th>estudo_charlson</th>\n",
       "      <th>cd_paciente</th>\n",
       "    </tr>\n",
       "  </thead>\n",
       "  <tbody>\n",
       "    <tr>\n",
       "      <th>0</th>\n",
       "      <td>0.0</td>\n",
       "      <td>454612.0</td>\n",
       "    </tr>\n",
       "    <tr>\n",
       "      <th>1</th>\n",
       "      <td>0.0</td>\n",
       "      <td>454612.0</td>\n",
       "    </tr>\n",
       "    <tr>\n",
       "      <th>2</th>\n",
       "      <td>0.0</td>\n",
       "      <td>454612.0</td>\n",
       "    </tr>\n",
       "    <tr>\n",
       "      <th>3</th>\n",
       "      <td>0.0</td>\n",
       "      <td>454612.0</td>\n",
       "    </tr>\n",
       "    <tr>\n",
       "      <th>4</th>\n",
       "      <td>4.0</td>\n",
       "      <td>1402382.0</td>\n",
       "    </tr>\n",
       "  </tbody>\n",
       "</table>\n",
       "</div>"
      ],
      "text/plain": [
       "   estudo_charlson  cd_paciente\n",
       "0              0.0     454612.0\n",
       "1              0.0     454612.0\n",
       "2              0.0     454612.0\n",
       "3              0.0     454612.0\n",
       "4              4.0    1402382.0"
      ]
     },
     "execution_count": 560,
     "metadata": {},
     "output_type": "execute_result"
    }
   ],
   "source": [
    "charlson_complete.head()"
   ]
  },
  {
   "cell_type": "code",
   "execution_count": 561,
   "id": "acoustic-repair",
   "metadata": {},
   "outputs": [
    {
     "data": {
      "image/png": "[encoded data removed]",
      "text/plain": [
       "<Figure size 1440x720 with 1 Axes>"
      ]
     },
     "metadata": {},
     "output_type": "display_data"
    }
   ],
   "source": [
    "plt.figure(figsize=(20, 10))\n",
    "sns.histplot(charlson_complete.estudo_charlson, kde=True)\n",
    "plt.title(\"Charlson\")\n",
    "plt.show()"
   ]
  },
  {
   "cell_type": "code",
   "execution_count": 562,
   "id": "interesting-metro",
   "metadata": {},
   "outputs": [
    {
     "data": {
      "text/plain": [
       "0.0     10331\n",
       "2.0      2190\n",
       "1.0      2141\n",
       "3.0      1633\n",
       "4.0      1384\n",
       "11.0        1\n",
       "7.0         1\n",
       "6.0         1\n",
       "Name: estudo_charlson, dtype: int64"
      ]
     },
     "execution_count": 562,
     "metadata": {},
     "output_type": "execute_result"
    }
   ],
   "source": [
    "charlson_complete.estudo_charlson.value_counts()"
   ]
  },
  {
   "cell_type": "markdown",
   "id": "satellite-starter",
   "metadata": {},
   "source": [
    "## Análise de cada variável restante"
   ]
  },
  {
   "cell_type": "code",
   "execution_count": 563,
   "id": "comic-price",
   "metadata": {},
   "outputs": [],
   "source": [
    "def __getDictToReplace(keys):\n",
    "    d = {}\n",
    "    for k in keys:\n",
    "        d[k] = keys.index(k) + 1\n",
    "    return d"
   ]
  },
  {
   "cell_type": "markdown",
   "id": "wired-vision",
   "metadata": {},
   "source": [
    "#### COLETOU_AMOSTRA"
   ]
  },
  {
   "cell_type": "code",
   "execution_count": 564,
   "id": "funky-knight",
   "metadata": {},
   "outputs": [],
   "source": [
    "data['COLETOU_AMOSTRA'] = data['COLETOU_AMOSTRA'].fillna('NI')"
   ]
  },
  {
   "cell_type": "code",
   "execution_count": 565,
   "id": "interim-patch",
   "metadata": {},
   "outputs": [
    {
     "data": {
      "text/plain": [
       "SIM    17920\n",
       "NAO       92\n",
       "NI         2\n",
       "Name: COLETOU_AMOSTRA, dtype: int64"
      ]
     },
     "execution_count": 565,
     "metadata": {},
     "output_type": "execute_result"
    }
   ],
   "source": [
    "data['COLETOU_AMOSTRA'].value_counts()"
   ]
  },
  {
   "cell_type": "code",
   "execution_count": 566,
   "id": "considered-private",
   "metadata": {},
   "outputs": [],
   "source": [
    "data['COLETOU_AMOSTRA'] = data['COLETOU_AMOSTRA'].replace({'SIM': 1, 'NAO': 0, 'NI': 2})"
   ]
  },
  {
   "cell_type": "markdown",
   "id": "built-theology",
   "metadata": {},
   "source": [
    "#### [REMOVED] LOCAL_COLETA"
   ]
  },
  {
   "cell_type": "code",
   "execution_count": 567,
   "id": "posted-pearl",
   "metadata": {},
   "outputs": [
    {
     "data": {
      "text/plain": [
       "PRONTOPUC ADULTO                        12139\n",
       "PRONTOPUC ADULTO/INTE                    2838\n",
       "EMERGENCIA ADULTA SUS/INTE                828\n",
       "EMERGENCIA ADULTA SUS                     754\n",
       "SALA DE RECUPERACAO                       612\n",
       "8 N - INTERNACAO                          118\n",
       "5 S - INTERNAÇÃO                          105\n",
       "8 S - INTERNACAO                           88\n",
       "HEMODINAMICA                               78\n",
       "7 S - INTERNACAO                           77\n",
       "9 N - INTERNACAO                           69\n",
       "7 N - INTERNACAO                           62\n",
       "9 S - INTERNACAO                           57\n",
       "LACEN                                      29\n",
       "COVID SUS - INTERNACAO                     27\n",
       "6 S - INTERNACAO                           20\n",
       "PSIQUIATRIA - INTERNACAO                   20\n",
       "5 S - INTERNAÇÃO CCG                       19\n",
       "UTI POS OPERATORIO CIRURGIA CARDIACA       13\n",
       "6 N - INTERNACAO                            9\n",
       "TRAUMATO AMBULATORIAL                       8\n",
       "Particular                                  6\n",
       "UTI-CORONARIANA                             4\n",
       "UTI GERAL AREA II                           4\n",
       "LACEN, Particular                           4\n",
       "UTI-CIRURGICA                               3\n",
       "PPUC                                        3\n",
       "CENTRO CIRURGICO                            3\n",
       "LACEN/Convênio                              1\n",
       "LACEN/Particular                            1\n",
       "UNIDADE DE INTERNAÇÃO                       1\n",
       "LACEN, Convênio                             1\n",
       "LACEN+particular                            1\n",
       "UTI GERAL AREA I                            1\n",
       "PRONTOPUC PEDIATRICA                        1\n",
       "LABORATORIO CLINICO                         1\n",
       "ALOJAMENTO CONJUNTO - MATERNIDADE           1\n",
       "AMBULATORIOS  GERAL CONJ                    1\n",
       "exame externo                               1\n",
       "Convênio                                    1\n",
       "LACEN, particular                           1\n",
       "EMERGENCIA PEDIATRICA SUS                   1\n",
       "Name: LOCAL_COLETA, dtype: int64"
      ]
     },
     "execution_count": 567,
     "metadata": {},
     "output_type": "execute_result"
    }
   ],
   "source": [
    "data['LOCAL_COLETA'].value_counts() #DROP"
   ]
  },
  {
   "cell_type": "code",
   "execution_count": 568,
   "id": "neutral-elevation",
   "metadata": {},
   "outputs": [],
   "source": [
    "data = data.drop(['LOCAL_COLETA'], axis=1)"
   ]
  },
  {
   "cell_type": "markdown",
   "id": "outer-coating",
   "metadata": {},
   "source": [
    "#### [REMOVED] PCR_INFLUENZA"
   ]
  },
  {
   "cell_type": "code",
   "execution_count": 569,
   "id": "intermediate-projection",
   "metadata": {},
   "outputs": [
    {
     "data": {
      "text/plain": [
       "EM ANDAMENTO    14\n",
       "NEGATIVO         1\n",
       "Name: PCR_INFLUENZA, dtype: int64"
      ]
     },
     "execution_count": 569,
     "metadata": {},
     "output_type": "execute_result"
    }
   ],
   "source": [
    "data['PCR_INFLUENZA'].value_counts() #DROP"
   ]
  },
  {
   "cell_type": "code",
   "execution_count": 570,
   "id": "loose-ready",
   "metadata": {},
   "outputs": [],
   "source": [
    "data = data.drop(['PCR_INFLUENZA'], axis=1)"
   ]
  },
  {
   "cell_type": "markdown",
   "id": "prerequisite-ballet",
   "metadata": {},
   "source": [
    "#### IFI_OUTRO_VIRUS"
   ]
  },
  {
   "cell_type": "code",
   "execution_count": 571,
   "id": "favorite-maple",
   "metadata": {},
   "outputs": [],
   "source": [
    "data['IFI_OUTRO_VIRUS'] = data['IFI_OUTRO_VIRUS'].fillna('NI')"
   ]
  },
  {
   "cell_type": "code",
   "execution_count": 572,
   "id": "neutral-boating",
   "metadata": {},
   "outputs": [
    {
     "data": {
      "text/plain": [
       "NI              17996\n",
       "EM ANDAMENTO       16\n",
       "NEGATIVO            2\n",
       "Name: IFI_OUTRO_VIRUS, dtype: int64"
      ]
     },
     "execution_count": 572,
     "metadata": {},
     "output_type": "execute_result"
    }
   ],
   "source": [
    "data['IFI_OUTRO_VIRUS'].value_counts()"
   ]
  },
  {
   "cell_type": "code",
   "execution_count": 573,
   "id": "better-physics",
   "metadata": {},
   "outputs": [],
   "source": [
    "data['IFI_OUTRO_VIRUS'] = data['IFI_OUTRO_VIRUS'].replace({'EM ANDAMENTO': 1, 'NEGATIVO': 0, 'NI': 2})"
   ]
  },
  {
   "cell_type": "markdown",
   "id": "brown-momentum",
   "metadata": {},
   "source": [
    "#### [REMOVED] DESFECHO"
   ]
  },
  {
   "cell_type": "code",
   "execution_count": 574,
   "id": "several-constraint",
   "metadata": {},
   "outputs": [
    {
     "data": {
      "text/plain": [
       "NÃO INFORMADO                                17905\n",
       "INTERNAÇÃO                                      70\n",
       "ALTA AMBULATORIAL + ISOLAMENTO DOMICILIAR       39\n",
       "Name: DESFECHO, dtype: int64"
      ]
     },
     "execution_count": 574,
     "metadata": {},
     "output_type": "execute_result"
    }
   ],
   "source": [
    "data['DESFECHO'].value_counts() #DROP"
   ]
  },
  {
   "cell_type": "code",
   "execution_count": 575,
   "id": "brazilian-namibia",
   "metadata": {},
   "outputs": [],
   "source": [
    "data = data.drop(['DESFECHO'], axis=1)"
   ]
  },
  {
   "cell_type": "markdown",
   "id": "monthly-spending",
   "metadata": {},
   "source": [
    "#### CD_PACIENTE"
   ]
  },
  {
   "cell_type": "markdown",
   "id": "considerable-entrepreneur",
   "metadata": {},
   "source": [
    "Essa feature permance no dataset, pois depois permite fazer buscas mais precisas.\n",
    "Não é necessário fazer nenhum processamento nela."
   ]
  },
  {
   "cell_type": "markdown",
   "id": "recreational-accused",
   "metadata": {},
   "source": [
    "#### GENERO"
   ]
  },
  {
   "cell_type": "code",
   "execution_count": 576,
   "id": "blind-culture",
   "metadata": {},
   "outputs": [
    {
     "data": {
      "text/plain": [
       "FEMININO     10164\n",
       "MASCULINO     7840\n",
       "OUTROS          10\n",
       "Name: GENERO, dtype: int64"
      ]
     },
     "execution_count": 576,
     "metadata": {},
     "output_type": "execute_result"
    }
   ],
   "source": [
    "data['GENERO'].value_counts()"
   ]
  },
  {
   "cell_type": "code",
   "execution_count": 577,
   "id": "checked-healing",
   "metadata": {},
   "outputs": [],
   "source": [
    "data['GENERO'] = data['GENERO'].replace({'MASCULINO': 1, 'FEMININO': 0})"
   ]
  },
  {
   "cell_type": "markdown",
   "id": "crude-respondent",
   "metadata": {},
   "source": [
    "#### IDADE"
   ]
  },
  {
   "cell_type": "code",
   "execution_count": 578,
   "id": "configured-disaster",
   "metadata": {},
   "outputs": [
    {
     "data": {
      "text/plain": [
       "70,87100456621      7\n",
       "42,3833333333333    6\n",
       "42,498401826484     6\n",
       "41,2874429223744    6\n",
       "37,9203196347032    6\n",
       "                   ..\n",
       "81,5559360730594    1\n",
       "25,07100456621      1\n",
       "21,5148401826484    1\n",
       "42,0189497716895    1\n",
       "18,8271689497717    1\n",
       "Name: IDADE, Length: 12342, dtype: int64"
      ]
     },
     "execution_count": 578,
     "metadata": {},
     "output_type": "execute_result"
    }
   ],
   "source": [
    "data['IDADE'].value_counts()"
   ]
  },
  {
   "cell_type": "markdown",
   "id": "lesser-plate",
   "metadata": {},
   "source": [
    "Essa feature já é numérica."
   ]
  },
  {
   "cell_type": "markdown",
   "id": "reliable-tuesday",
   "metadata": {},
   "source": [
    "#### DIAGNOSTICO_SARS"
   ]
  },
  {
   "cell_type": "code",
   "execution_count": 579,
   "id": "diagnostic-bidding",
   "metadata": {},
   "outputs": [
    {
     "data": {
      "text/plain": [
       "NÃO    16857\n",
       "SIM     1157\n",
       "Name: DIAGNOSTICO_SARS, dtype: int64"
      ]
     },
     "execution_count": 579,
     "metadata": {},
     "output_type": "execute_result"
    }
   ],
   "source": [
    "data['DIAGNOSTICO_SARS'].value_counts()"
   ]
  },
  {
   "cell_type": "code",
   "execution_count": 580,
   "id": "processed-basement",
   "metadata": {},
   "outputs": [],
   "source": [
    "data['DIAGNOSTICO_SARS'] = data['DIAGNOSTICO_SARS'].replace({'SIM': 1, 'NÃO': 0})"
   ]
  },
  {
   "cell_type": "markdown",
   "id": "lovely-startup",
   "metadata": {},
   "source": [
    "#### CD_CID"
   ]
  },
  {
   "cell_type": "code",
   "execution_count": 581,
   "id": "measured-closer",
   "metadata": {},
   "outputs": [],
   "source": [
    "data['CD_CID'] = data['CD_CID'].fillna('NI')"
   ]
  },
  {
   "cell_type": "code",
   "execution_count": 582,
   "id": "damaged-union",
   "metadata": {},
   "outputs": [
    {
     "data": {
      "text/plain": [
       "B349    9425\n",
       "B342    1154\n",
       "R060     299\n",
       "A419     278\n",
       "I64      233\n",
       "        ... \n",
       "T840       1\n",
       "D442       1\n",
       "B19        1\n",
       "E87        1\n",
       "C170       1\n",
       "Name: CD_CID, Length: 1264, dtype: int64"
      ]
     },
     "execution_count": 582,
     "metadata": {},
     "output_type": "execute_result"
    }
   ],
   "source": [
    "data['CD_CID'].value_counts()"
   ]
  },
  {
   "cell_type": "code",
   "execution_count": 583,
   "id": "every-birth",
   "metadata": {},
   "outputs": [],
   "source": [
    "keys = data['CD_CID'].value_counts().keys().tolist()"
   ]
  },
  {
   "cell_type": "code",
   "execution_count": 584,
   "id": "ceramic-burst",
   "metadata": {},
   "outputs": [],
   "source": [
    "dictToReplace = __getDictToReplace(keys)"
   ]
  },
  {
   "cell_type": "code",
   "execution_count": 585,
   "id": "qualified-specification",
   "metadata": {},
   "outputs": [
    {
     "data": {
      "text/plain": [
       "{'B349': 1,\n",
       " 'B342': 2,\n",
       " 'R060': 3,\n",
       " 'A419': 4,\n",
       " 'I64': 5,\n",
       " 'J069': 6,\n",
       " 'K359': 7,\n",
       " 'Z290': 8,\n",
       " 'I219': 9,\n",
       " 'I200': 10,\n",
       " 'I500': 11,\n",
       " 'R520': 12,\n",
       " 'N180': 13,\n",
       " 'J180': 14,\n",
       " 'N390': 15,\n",
       " 'R51': 16,\n",
       " 'C61': 17,\n",
       " 'R100': 18,\n",
       " 'R509': 19,\n",
       " 'R05': 20,\n",
       " 'K810': 21,\n",
       " 'R074': 22,\n",
       " 'K922': 23,\n",
       " 'K921': 24,\n",
       " 'I743': 25,\n",
       " 'A09': 26,\n",
       " 'N40': 27,\n",
       " 'J159': 28,\n",
       " 'I509': 29,\n",
       " 'A499': 30,\n",
       " 'U071': 31,\n",
       " 'C349': 32,\n",
       " 'N179': 33,\n",
       " 'G409': 34,\n",
       " 'I639': 35,\n",
       " 'K850': 36,\n",
       " 'K920': 37,\n",
       " 'N200': 38,\n",
       " 'Z000': 39,\n",
       " 'N189': 40,\n",
       " 'I50': 41,\n",
       " 'A418': 42,\n",
       " 'J960': 43,\n",
       " 'I269': 44,\n",
       " 'C64': 45,\n",
       " 'M169': 46,\n",
       " 'J81': 47,\n",
       " 'I20': 48,\n",
       " 'D649': 49,\n",
       " 'K802': 50,\n",
       " 'J039': 51,\n",
       " 'C509': 52,\n",
       " 'R53': 53,\n",
       " 'I26': 54,\n",
       " 'G402': 55,\n",
       " 'A41': 56,\n",
       " 'K859': 57,\n",
       " 'J459': 58,\n",
       " 'J15': 59,\n",
       " 'R11': 60,\n",
       " 'R55': 61,\n",
       " 'K800': 62,\n",
       " 'C189': 63,\n",
       " 'G35': 64,\n",
       " 'J18': 65,\n",
       " 'I209': 66,\n",
       " 'NI': 67,\n",
       " 'K808': 68,\n",
       " 'I21': 69,\n",
       " 'I442': 70,\n",
       " 'N201': 71,\n",
       " 'C348': 72,\n",
       " 'D259': 73,\n",
       " 'I48': 74,\n",
       " 'J189': 75,\n",
       " 'J441': 76,\n",
       " 'I702': 77,\n",
       " 'G459': 78,\n",
       " 'C259': 79,\n",
       " 'R070': 80,\n",
       " 'J90': 81,\n",
       " 'E871': 82,\n",
       " 'K746': 83,\n",
       " 'N39': 84,\n",
       " 'K566': 85,\n",
       " 'J158': 86,\n",
       " 'S720': 87,\n",
       " 'E105': 88,\n",
       " 'R198': 89,\n",
       " 'J129': 90,\n",
       " 'F059': 91,\n",
       " 'N188': 92,\n",
       " 'I210': 93,\n",
       " 'R103': 94,\n",
       " 'R073': 95,\n",
       " 'J36': 96,\n",
       " 'R104': 97,\n",
       " 'J91': 98,\n",
       " 'C169': 99,\n",
       " 'J440': 100,\n",
       " 'K35': 101,\n",
       " 'I214': 102,\n",
       " 'E141': 103,\n",
       " 'I460': 104,\n",
       " 'I739': 105,\n",
       " 'I499': 106,\n",
       " 'C679': 107,\n",
       " 'N18': 108,\n",
       " 'K564': 109,\n",
       " 'K804': 110,\n",
       " 'C508': 111,\n",
       " 'I469': 112,\n",
       " 'R42': 113,\n",
       " 'I749': 114,\n",
       " 'R508': 115,\n",
       " 'B972': 116,\n",
       " 'R31': 117,\n",
       " 'C56': 118,\n",
       " 'I710': 119,\n",
       " 'N832': 120,\n",
       " 'C20': 121,\n",
       " 'C629': 122,\n",
       " 'N17': 123,\n",
       " 'K830': 124,\n",
       " 'C50': 125,\n",
       " 'I211': 126,\n",
       " 'C343': 127,\n",
       " 'I260': 128,\n",
       " 'S828': 129,\n",
       " 'N10': 130,\n",
       " 'D381': 131,\n",
       " 'F322': 132,\n",
       " 'R101': 133,\n",
       " 'R568': 134,\n",
       " 'J449': 135,\n",
       " 'D391': 136,\n",
       " 'N23': 137,\n",
       " 'N20': 138,\n",
       " 'G40': 139,\n",
       " 'D430': 140,\n",
       " 'C220': 141,\n",
       " 'I652': 142,\n",
       " 'C187': 143,\n",
       " 'Z940': 144,\n",
       " 'C672': 145,\n",
       " 'I828': 146,\n",
       " 'J22': 147,\n",
       " 'C900': 148,\n",
       " 'I612': 149,\n",
       " 'G610': 150,\n",
       " 'C780': 151,\n",
       " 'G45': 152,\n",
       " 'J00': 153,\n",
       " 'J930': 154,\n",
       " 'K80': 155,\n",
       " 'I714': 156,\n",
       " 'L089': 157,\n",
       " 'C341': 158,\n",
       " 'S721': 159,\n",
       " 'C950': 160,\n",
       " 'G408': 161,\n",
       " 'C229': 162,\n",
       " 'N19': 163,\n",
       " 'R071': 164,\n",
       " 'G404': 165,\n",
       " 'F609': 166,\n",
       " 'I82': 167,\n",
       " 'T861': 168,\n",
       " 'N111': 169,\n",
       " 'Z209': 170,\n",
       " 'C25': 171,\n",
       " 'D34': 172,\n",
       " 'C538': 173,\n",
       " 'C541': 174,\n",
       " 'K072': 175,\n",
       " 'E101': 176,\n",
       " 'L032': 177,\n",
       " 'K57': 178,\n",
       " 'K929': 179,\n",
       " 'K851': 180,\n",
       " 'C793': 181,\n",
       " 'K805': 182,\n",
       " 'N202': 183,\n",
       " 'F411': 184,\n",
       " 'A46': 185,\n",
       " 'R042': 186,\n",
       " 'G911': 187,\n",
       " 'K37': 188,\n",
       " 'K703': 189,\n",
       " 'T813': 190,\n",
       " 'R202': 191,\n",
       " 'K639': 192,\n",
       " 'E115': 193,\n",
       " 'I350': 194,\n",
       " 'E840': 195,\n",
       " 'N049': 196,\n",
       " 'R001': 197,\n",
       " 'S729': 198,\n",
       " 'K74': 199,\n",
       " 'C329': 200,\n",
       " 'C34': 201,\n",
       " 'B343': 202,\n",
       " 'K928': 203,\n",
       " 'I609': 204,\n",
       " 'F319': 205,\n",
       " 'C168': 206,\n",
       " 'R33': 207,\n",
       " 'D414': 208,\n",
       " 'I10': 209,\n",
       " 'D400': 210,\n",
       " 'A415': 211,\n",
       " 'T509': 212,\n",
       " 'K801': 213,\n",
       " 'N139': 214,\n",
       " 'R072': 215,\n",
       " 'C859': 216,\n",
       " 'F29': 217,\n",
       " 'R579': 218,\n",
       " 'N44': 219,\n",
       " 'R56': 220,\n",
       " 'C678': 221,\n",
       " 'G934': 222,\n",
       " 'F329': 223,\n",
       " 'F03': 224,\n",
       " 'N358': 225,\n",
       " 'K81': 226,\n",
       " 'R17': 227,\n",
       " 'C910': 228,\n",
       " 'K439': 229,\n",
       " 'K831': 230,\n",
       " 'J018': 231,\n",
       " 'N029': 232,\n",
       " 'D758': 233,\n",
       " 'C819': 234,\n",
       " 'F312': 235,\n",
       " 'C159': 236,\n",
       " 'K562': 237,\n",
       " 'R300': 238,\n",
       " 'C80': 239,\n",
       " 'A86': 240,\n",
       " 'K409': 241,\n",
       " 'R10': 242,\n",
       " 'I441': 243,\n",
       " 'N818': 244,\n",
       " 'I409': 245,\n",
       " 'D693': 246,\n",
       " 'A49': 247,\n",
       " 'C162': 248,\n",
       " 'R13': 249,\n",
       " 'D440': 250,\n",
       " 'F332': 251,\n",
       " 'K550': 252,\n",
       " 'C439': 253,\n",
       " 'N300': 254,\n",
       " 'C539': 255,\n",
       " 'I676': 256,\n",
       " 'C221': 257,\n",
       " 'C889': 258,\n",
       " 'I255': 259,\n",
       " 'K403': 260,\n",
       " 'C959': 261,\n",
       " 'C786': 262,\n",
       " 'A488': 263,\n",
       " 'C18': 264,\n",
       " 'R410': 265,\n",
       " 'C65': 266,\n",
       " 'C188': 267,\n",
       " 'R18': 268,\n",
       " 'K638': 269,\n",
       " 'I959': 270,\n",
       " 'C719': 271,\n",
       " 'K36': 272,\n",
       " 'C328': 273,\n",
       " 'C760': 274,\n",
       " 'D509': 275,\n",
       " 'F316': 276,\n",
       " 'F051': 277,\n",
       " 'I339': 278,\n",
       " 'K750': 279,\n",
       " 'G454': 280,\n",
       " 'C19': 281,\n",
       " 'C250': 282,\n",
       " 'C67': 283,\n",
       " 'B340': 284,\n",
       " 'G403': 285,\n",
       " 'I738': 286,\n",
       " 'C260': 287,\n",
       " 'R601': 288,\n",
       " 'J969': 289,\n",
       " 'K565': 290,\n",
       " 'N209': 291,\n",
       " 'N92': 292,\n",
       " 'R578': 293,\n",
       " 'C158': 294,\n",
       " 'C73': 295,\n",
       " 'J939': 296,\n",
       " 'B24': 297,\n",
       " 'K263': 298,\n",
       " 'I471': 299,\n",
       " 'K251': 300,\n",
       " 'K572': 301,\n",
       " 'G458': 302,\n",
       " 'I744': 303,\n",
       " 'K869': 304,\n",
       " 'D729': 305,\n",
       " 'I213': 306,\n",
       " 'L030': 307,\n",
       " 'T784': 308,\n",
       " 'M869': 309,\n",
       " 'K710': 310,\n",
       " 'C340': 311,\n",
       " 'I822': 312,\n",
       " 'E108': 313,\n",
       " 'J690': 314,\n",
       " 'C670': 315,\n",
       " 'K402': 316,\n",
       " 'C811': 317,\n",
       " 'J09': 318,\n",
       " 'N132': 319,\n",
       " 'D638': 320,\n",
       " 'C851': 321,\n",
       " 'R418': 322,\n",
       " 'E875': 323,\n",
       " 'S723': 324,\n",
       " 'N130': 325,\n",
       " 'N178': 326,\n",
       " 'K529': 327,\n",
       " 'D376': 328,\n",
       " 'G628': 329,\n",
       " 'E145': 330,\n",
       " 'F920': 331,\n",
       " 'K469': 332,\n",
       " 'R529': 333,\n",
       " 'B028': 334,\n",
       " 'K729': 335,\n",
       " 'I713': 336,\n",
       " 'K319': 337,\n",
       " 'I44': 338,\n",
       " 'C671': 339,\n",
       " 'G379': 340,\n",
       " 'C179': 341,\n",
       " 'A490': 342,\n",
       " 'I35': 343,\n",
       " 'R72': 344,\n",
       " 'D570': 345,\n",
       " 'L029': 346,\n",
       " 'C857': 347,\n",
       " 'J12': 348,\n",
       " 'G009': 349,\n",
       " 'K449': 350,\n",
       " 'C790': 351,\n",
       " 'C257': 352,\n",
       " 'E148': 353,\n",
       " 'I832': 354,\n",
       " 'J849': 355,\n",
       " 'G405': 356,\n",
       " 'G049': 357,\n",
       " 'K839': 358,\n",
       " 'I618': 359,\n",
       " 'K610': 360,\n",
       " 'R34': 361,\n",
       " 'C798': 362,\n",
       " 'Z988': 363,\n",
       " 'C184': 364,\n",
       " 'J188': 365,\n",
       " 'R190': 366,\n",
       " 'N813': 367,\n",
       " 'L97': 368,\n",
       " 'B023': 369,\n",
       " 'E118': 370,\n",
       " 'G992': 371,\n",
       " 'B199': 372,\n",
       " 'K650': 373,\n",
       " 'M511': 374,\n",
       " 'F05': 375,\n",
       " 'A403': 376,\n",
       " 'S722': 377,\n",
       " 'J150': 378,\n",
       " 'J80': 379,\n",
       " 'I829': 380,\n",
       " 'R462': 381,\n",
       " 'I61': 382,\n",
       " 'K92': 383,\n",
       " 'C210': 384,\n",
       " 'I212': 385,\n",
       " 'G629': 386,\n",
       " 'D481': 387,\n",
       " 'J458': 388,\n",
       " 'N350': 389,\n",
       " 'F239': 390,\n",
       " 'G932': 391,\n",
       " 'L038': 392,\n",
       " 'M545': 393,\n",
       " 'I607': 394,\n",
       " 'F328': 395,\n",
       " 'I24': 396,\n",
       " 'K51': 397,\n",
       " 'I470': 398,\n",
       " 'E791': 399,\n",
       " 'A085': 400,\n",
       " 'K623': 401,\n",
       " 'C492': 402,\n",
       " 'L08': 403,\n",
       " 'R443': 404,\n",
       " 'I694': 405,\n",
       " 'J128': 406,\n",
       " 'R50': 407,\n",
       " 'K42': 408,\n",
       " 'T758': 409,\n",
       " 'I67': 410,\n",
       " 'S065': 411,\n",
       " 'M542': 412,\n",
       " 'R570': 413,\n",
       " 'I251': 414,\n",
       " 'S029': 415,\n",
       " 'I330': 416,\n",
       " 'C951': 417,\n",
       " 'T827': 418,\n",
       " 'I49': 419,\n",
       " 'K350': 420,\n",
       " 'M51': 421,\n",
       " 'U049': 422,\n",
       " 'S860': 423,\n",
       " 'R739': 424,\n",
       " 'I73': 425,\n",
       " 'G058': 426,\n",
       " 'J984': 427,\n",
       " 'N309': 428,\n",
       " 'G958': 429,\n",
       " 'T814': 430,\n",
       " 'M791': 431,\n",
       " 'M864': 432,\n",
       " 'I724': 433,\n",
       " 'T844': 434,\n",
       " 'E162': 435,\n",
       " 'K769': 436,\n",
       " 'D487': 437,\n",
       " 'D759': 438,\n",
       " 'I229': 439,\n",
       " 'G952': 440,\n",
       " 'D443': 441,\n",
       " 'K579': 442,\n",
       " 'G959': 443,\n",
       " 'M549': 444,\n",
       " 'L031': 445,\n",
       " 'K858': 446,\n",
       " 'C675': 447,\n",
       " 'S72': 448,\n",
       " 'I472': 449,\n",
       " 'N110': 450,\n",
       " 'I340': 451,\n",
       " 'E660': 452,\n",
       " 'N170': 453,\n",
       " 'A049': 454,\n",
       " 'C408': 455,\n",
       " 'K351': 456,\n",
       " 'E86': 457,\n",
       " 'K220': 458,\n",
       " 'C787': 459,\n",
       " 'F050': 460,\n",
       " 'F311': 461,\n",
       " 'C437': 462,\n",
       " 'C182': 463,\n",
       " 'N359': 464,\n",
       " 'K630': 465,\n",
       " 'R002': 466,\n",
       " 'D431': 467,\n",
       " 'D437': 468,\n",
       " 'C830': 469,\n",
       " 'K590': 470,\n",
       " 'D500': 471,\n",
       " 'J218': 472,\n",
       " 'I46': 473,\n",
       " 'A879': 474,\n",
       " 'C435': 475,\n",
       " 'R000': 476,\n",
       " 'R521': 477,\n",
       " 'I248': 478,\n",
       " 'G700': 479,\n",
       " 'J948': 480,\n",
       " 'J852': 481,\n",
       " 'D410': 482,\n",
       " 'N399': 483,\n",
       " 'K318': 484,\n",
       " 'I60': 485,\n",
       " 'I428': 486,\n",
       " 'T849': 487,\n",
       " 'B338': 488,\n",
       " 'N26': 489,\n",
       " 'J40': 490,\n",
       " 'S724': 491,\n",
       " 'M158': 492,\n",
       " 'F102': 493,\n",
       " 'N488': 494,\n",
       " 'B029': 495,\n",
       " 'K818': 496,\n",
       " 'F058': 497,\n",
       " 'K460': 498,\n",
       " 'C01': 499,\n",
       " 'I95': 500,\n",
       " 'I711': 501,\n",
       " 'M608': 502,\n",
       " 'I259': 503,\n",
       " 'M329': 504,\n",
       " 'G20': 505,\n",
       " 'I132': 506,\n",
       " 'M139': 507,\n",
       " 'Q623': 508,\n",
       " 'F33': 509,\n",
       " 'D142': 510,\n",
       " 'G822': 511,\n",
       " 'G942': 512,\n",
       " 'L129': 513,\n",
       " 'K833': 514,\n",
       " 'C785': 515,\n",
       " 'F109': 516,\n",
       " 'J342': 517,\n",
       " 'E668': 518,\n",
       " 'I635': 519,\n",
       " 'M199': 520,\n",
       " 'I74': 521,\n",
       " 'M321': 522,\n",
       " 'H603': 523,\n",
       " 'I629': 524,\n",
       " 'J955': 525,\n",
       " 'I351': 526,\n",
       " 'G587': 527,\n",
       " 'B377': 528,\n",
       " 'J068': 529,\n",
       " 'C251': 530,\n",
       " 'G373': 531,\n",
       " 'J399': 532,\n",
       " 'C227': 533,\n",
       " 'R599': 534,\n",
       " 'D50': 535,\n",
       " 'M54': 536,\n",
       " 'C929': 537,\n",
       " 'N02': 538,\n",
       " 'I742': 539,\n",
       " 'C443': 540,\n",
       " 'I671': 541,\n",
       " 'D110': 542,\n",
       " 'S06': 543,\n",
       " 'S422': 544,\n",
       " 'L984': 545,\n",
       " 'C172': 546,\n",
       " 'A153': 547,\n",
       " 'L03': 548,\n",
       " 'R32': 549,\n",
       " 'K52': 550,\n",
       " 'C920': 551,\n",
       " 'K509': 552,\n",
       " 'R52': 553,\n",
       " 'C911': 554,\n",
       " 'S325': 555,\n",
       " 'D691': 556,\n",
       " 'J931': 557,\n",
       " 'H814': 558,\n",
       " 'N483': 559,\n",
       " 'C845': 560,\n",
       " 'D77': 561,\n",
       " 'F23': 562,\n",
       " 'I313': 563,\n",
       " 'D72': 564,\n",
       " 'B17': 565,\n",
       " 'T402': 566,\n",
       " 'K828': 567,\n",
       " 'C342': 568,\n",
       " 'I748': 569,\n",
       " 'C240': 570,\n",
       " 'H46': 571,\n",
       " 'K40': 572,\n",
       " 'N138': 573,\n",
       " 'F314': 574,\n",
       " 'T782': 575,\n",
       " 'T810': 576,\n",
       " 'N398': 577,\n",
       " 'E870': 578,\n",
       " 'B34': 579,\n",
       " 'D469': 580,\n",
       " 'E835': 581,\n",
       " 'R092': 582,\n",
       " 'B348': 583,\n",
       " 'C504': 584,\n",
       " 'L024': 585,\n",
       " 'C460': 586,\n",
       " 'C402': 587,\n",
       " 'T821': 588,\n",
       " 'R402': 589,\n",
       " 'N211': 590,\n",
       " 'T149': 591,\n",
       " 'D483': 592,\n",
       " 'K500': 593,\n",
       " 'E078': 594,\n",
       " 'M86': 595,\n",
       " 'N288': 596,\n",
       " 'D696': 597,\n",
       " 'K573': 598,\n",
       " 'C674': 599,\n",
       " 'C770': 600,\n",
       " 'J851': 601,\n",
       " 'N151': 602,\n",
       " 'D33': 603,\n",
       " 'K62': 604,\n",
       " 'R02': 605,\n",
       " 'Z004': 606,\n",
       " 'R522': 607,\n",
       " 'J96': 608,\n",
       " 'O911': 609,\n",
       " 'T93': 610,\n",
       " 'R634': 611,\n",
       " 'S820': 612,\n",
       " 'I060': 613,\n",
       " 'L039': 614,\n",
       " 'D619': 615,\n",
       " 'I25': 616,\n",
       " 'C714': 617,\n",
       " 'R040': 618,\n",
       " 'K122': 619,\n",
       " 'R57': 620,\n",
       " 'J841': 621,\n",
       " 'I801': 622,\n",
       " 'N219': 623,\n",
       " 'D380': 624,\n",
       " 'G122': 625,\n",
       " 'B99': 626,\n",
       " 'C186': 627,\n",
       " 'C782': 628,\n",
       " 'C496': 629,\n",
       " 'D143': 630,\n",
       " 'C774': 631,\n",
       " 'M862': 632,\n",
       " 'G57': 633,\n",
       " 'C161': 634,\n",
       " 'G05': 635,\n",
       " 'K570': 636,\n",
       " 'J980': 637,\n",
       " 'M546': 638,\n",
       " 'D075': 639,\n",
       " 'J019': 640,\n",
       " 'B004': 641,\n",
       " 'G400': 642,\n",
       " 'F318': 643,\n",
       " 'I633': 644,\n",
       " 'K612': 645,\n",
       " 'J42': 646,\n",
       " 'N21': 647,\n",
       " 'A047': 648,\n",
       " 'K578': 649,\n",
       " 'C498': 650,\n",
       " 'D151': 651,\n",
       " 'C518': 652,\n",
       " 'N298': 653,\n",
       " 'C413': 654,\n",
       " 'G918': 655,\n",
       " 'K838': 656,\n",
       " 'L989': 657,\n",
       " 'E66': 658,\n",
       " 'M009': 659,\n",
       " 'D630': 660,\n",
       " 'T914': 661,\n",
       " 'D41': 662,\n",
       " 'I606': 663,\n",
       " 'G61': 664,\n",
       " 'Z208': 665,\n",
       " 'B022': 666,\n",
       " 'R41': 667,\n",
       " 'F323': 668,\n",
       " 'R571': 669,\n",
       " 'G618': 670,\n",
       " 'J219': 671,\n",
       " 'B309': 672,\n",
       " 'I088': 673,\n",
       " 'C749': 674,\n",
       " 'C530': 675,\n",
       " 'C457': 676,\n",
       " 'J118': 677,\n",
       " 'B027': 678,\n",
       " 'M629': 679,\n",
       " 'L12': 680,\n",
       " 'H609': 681,\n",
       " 'Q446': 682,\n",
       " 'C676': 683,\n",
       " 'Z860': 684,\n",
       " 'R478': 685,\n",
       " 'M544': 686,\n",
       " 'I40': 687,\n",
       " 'S302': 688,\n",
       " 'B344': 689,\n",
       " 'G36': 690,\n",
       " 'I979': 691,\n",
       " 'M332': 692,\n",
       " 'C10': 693,\n",
       " 'N411': 694,\n",
       " 'Z299': 695,\n",
       " 'J45': 696,\n",
       " 'K778': 697,\n",
       " 'D090': 698,\n",
       " 'M543': 699,\n",
       " 'C500': 700,\n",
       " 'I456': 701,\n",
       " 'G031': 702,\n",
       " 'N48': 703,\n",
       " 'K739': 704,\n",
       " 'L988': 705,\n",
       " 'C638': 706,\n",
       " 'E117': 707,\n",
       " 'C499': 708,\n",
       " 'D382': 709,\n",
       " 'A858': 710,\n",
       " 'K625': 711,\n",
       " 'J985': 712,\n",
       " 'D038': 713,\n",
       " 'J156': 714,\n",
       " 'L023': 715,\n",
       " 'L511': 716,\n",
       " 'I458': 717,\n",
       " 'D060': 718,\n",
       " 'D059': 719,\n",
       " 'D352': 720,\n",
       " 'N412': 721,\n",
       " 'F69': 722,\n",
       " 'C164': 723,\n",
       " 'G368': 724,\n",
       " 'C718': 725,\n",
       " 'C85': 726,\n",
       " 'C058': 727,\n",
       " 'O800': 728,\n",
       " 'I120': 729,\n",
       " 'T841': 730,\n",
       " 'C449': 731,\n",
       " 'X644': 732,\n",
       " 'G900': 733,\n",
       " 'N949': 734,\n",
       " 'C620': 735,\n",
       " 'S920': 736,\n",
       " 'K20': 737,\n",
       " 'F603': 738,\n",
       " 'N228': 739,\n",
       " 'M32': 740,\n",
       " 'G438': 741,\n",
       " 'G51': 742,\n",
       " 'J029': 743,\n",
       " 'X611': 744,\n",
       " 'K659': 745,\n",
       " 'K228': 746,\n",
       " 'K824': 747,\n",
       " 'I071': 748,\n",
       " 'X958': 749,\n",
       " 'G448': 750,\n",
       " 'A150': 751,\n",
       " 'D383': 752,\n",
       " 'S958': 753,\n",
       " 'S523': 754,\n",
       " 'C791': 755,\n",
       " 'M352': 756,\n",
       " 'M179': 757,\n",
       " 'R609': 758,\n",
       " 'K255': 759,\n",
       " 'J438': 760,\n",
       " 'I708': 761,\n",
       " 'G44': 762,\n",
       " 'R430': 763,\n",
       " 'S821': 764,\n",
       " 'T455': 765,\n",
       " 'K07': 766,\n",
       " 'Z200': 767,\n",
       " 'D695': 768,\n",
       " 'T902': 769,\n",
       " 'A191': 770,\n",
       " 'A179': 771,\n",
       " 'F162': 772,\n",
       " 'N511': 773,\n",
       " 'Q670': 774,\n",
       " 'J200': 775,\n",
       " 'K580': 776,\n",
       " 'D122': 777,\n",
       " 'K919': 778,\n",
       " 'K571': 779,\n",
       " 'M340': 780,\n",
       " 'K72': 781,\n",
       " 'T14': 782,\n",
       " 'C883': 783,\n",
       " 'T148': 784,\n",
       " 'F41': 785,\n",
       " 'D32': 786,\n",
       " 'S83': 787,\n",
       " 'S823': 788,\n",
       " 'I620': 789,\n",
       " 'N835': 790,\n",
       " 'M313': 791,\n",
       " 'D62': 792,\n",
       " 'N709': 793,\n",
       " 'I420': 794,\n",
       " 'K712': 795,\n",
       " 'N482': 796,\n",
       " 'E106': 797,\n",
       " 'G54': 798,\n",
       " 'A412': 799,\n",
       " 'K44': 800,\n",
       " 'R64': 801,\n",
       " 'I871': 802,\n",
       " 'I621': 803,\n",
       " 'I11': 804,\n",
       " 'I720': 805,\n",
       " 'H813': 806,\n",
       " 'K50': 807,\n",
       " 'C398': 808,\n",
       " 'M143': 809,\n",
       " 'E876': 810,\n",
       " 'N133': 811,\n",
       " 'C029': 812,\n",
       " 'D39': 813,\n",
       " 'R412': 814,\n",
       " 'D43': 815,\n",
       " 'I514': 816,\n",
       " 'S027': 817,\n",
       " 'F315': 818,\n",
       " 'R22': 819,\n",
       " 'C248': 820,\n",
       " 'I498': 821,\n",
       " 'B690': 822,\n",
       " 'N920': 823,\n",
       " 'C261': 824,\n",
       " 'J110': 825,\n",
       " 'D472': 826,\n",
       " 'R21': 827,\n",
       " 'Z450': 828,\n",
       " 'W549': 829,\n",
       " 'E142': 830,\n",
       " 'N459': 831,\n",
       " 'C23': 832,\n",
       " 'M350': 833,\n",
       " 'F209': 834,\n",
       " 'I71': 835,\n",
       " 'K717': 836,\n",
       " 'J64': 837,\n",
       " 'D71': 838,\n",
       " 'D320': 839,\n",
       " 'I719': 840,\n",
       " 'N320': 841,\n",
       " 'N840': 842,\n",
       " 'K528': 843,\n",
       " 'M490': 844,\n",
       " 'K519': 845,\n",
       " 'I808': 846,\n",
       " 'J302': 847,\n",
       " 'F320': 848,\n",
       " 'G328': 849,\n",
       " 'S068': 850,\n",
       " 'C83': 851,\n",
       " 'H809': 852,\n",
       " 'K316': 853,\n",
       " 'C32': 854,\n",
       " 'C827': 855,\n",
       " 'T888': 856,\n",
       " 'M462': 857,\n",
       " 'B203': 858,\n",
       " 'K820': 859,\n",
       " 'I631': 860,\n",
       " 'K65': 861,\n",
       " 'C211': 862,\n",
       " 'S320': 863,\n",
       " 'I861': 864,\n",
       " 'S817': 865,\n",
       " 'I615': 866,\n",
       " 'S309': 867,\n",
       " 'B956': 868,\n",
       " 'D734': 869,\n",
       " 'I650': 870,\n",
       " 'C480': 871,\n",
       " 'N939': 872,\n",
       " 'E042': 873,\n",
       " 'R061': 874,\n",
       " 'A888': 875,\n",
       " 'Q251': 876,\n",
       " 'F339': 877,\n",
       " 'E258': 878,\n",
       " 'R258': 879,\n",
       " 'F421': 880,\n",
       " 'K861': 881,\n",
       " 'K56': 882,\n",
       " 'A698': 883,\n",
       " 'K803': 884,\n",
       " 'Q230': 885,\n",
       " 'D486': 886,\n",
       " 'F200': 887,\n",
       " 'S127': 888,\n",
       " 'G468': 889,\n",
       " 'N823': 890,\n",
       " 'S221': 891,\n",
       " 'S525': 892,\n",
       " 'G441': 893,\n",
       " 'M328': 894,\n",
       " 'M255': 895,\n",
       " 'I110': 896,\n",
       " 'C165': 897,\n",
       " 'I061': 898,\n",
       " 'N800': 899,\n",
       " 'K620': 900,\n",
       " 'Z950': 901,\n",
       " 'G112': 902,\n",
       " 'A408': 903,\n",
       " 'C138': 904,\n",
       " 'K222': 905,\n",
       " 'N99': 906,\n",
       " 'D401': 907,\n",
       " 'C712': 908,\n",
       " 'H209': 909,\n",
       " 'C321': 910,\n",
       " 'D377': 911,\n",
       " 'T847': 912,\n",
       " 'M662': 913,\n",
       " 'K720': 914,\n",
       " 'I258': 915,\n",
       " 'E27': 916,\n",
       " 'X601': 917,\n",
       " 'K315': 918,\n",
       " 'K76': 919,\n",
       " 'S423': 920,\n",
       " 'I745': 921,\n",
       " 'C762': 922,\n",
       " 'G03': 923,\n",
       " 'I602': 924,\n",
       " 'C759': 925,\n",
       " 'G258': 926,\n",
       " 'I158': 927,\n",
       " 'N134': 928,\n",
       " 'N858': 929,\n",
       " 'E160': 930,\n",
       " 'H445': 931,\n",
       " 'J679': 932,\n",
       " 'J152': 933,\n",
       " 'D648': 934,\n",
       " 'G039': 935,\n",
       " 'N410': 936,\n",
       " 'C79': 937,\n",
       " 'K071': 938,\n",
       " 'J303': 939,\n",
       " 'T07': 940,\n",
       " 'Z032': 941,\n",
       " 'I228': 942,\n",
       " 'K400': 943,\n",
       " 'T889': 944,\n",
       " 'G430': 945,\n",
       " 'M841': 946,\n",
       " 'F338': 947,\n",
       " 'X643': 948,\n",
       " 'C108': 949,\n",
       " 'D375': 950,\n",
       " 'R80': 951,\n",
       " 'F238': 952,\n",
       " 'N328': 953,\n",
       " 'K591': 954,\n",
       " 'C967': 955,\n",
       " 'E739': 956,\n",
       " 'M866': 957,\n",
       " 'E84': 958,\n",
       " 'G22': 959,\n",
       " 'D152': 960,\n",
       " 'N814': 961,\n",
       " 'G93': 962,\n",
       " 'G81': 963,\n",
       " 'C710': 964,\n",
       " 'K913': 965,\n",
       " 'S312': 966,\n",
       " 'L028': 967,\n",
       " 'K593': 968,\n",
       " 'B439': 969,\n",
       " 'A183': 970,\n",
       " 'R220': 971,\n",
       " 'I490': 972,\n",
       " 'E538': 973,\n",
       " 'G451': 974,\n",
       " 'M463': 975,\n",
       " 'N838': 976,\n",
       " 'L948': 977,\n",
       " 'J958': 978,\n",
       " 'A083': 979,\n",
       " 'N13': 980,\n",
       " 'N218': 981,\n",
       " 'E669': 982,\n",
       " 'D869': 983,\n",
       " 'G951': 984,\n",
       " 'E111': 985,\n",
       " 'F132': 986,\n",
       " 'Q678': 987,\n",
       " 'C773': 988,\n",
       " 'C150': 989,\n",
       " 'C574': 990,\n",
       " 'D370': 991,\n",
       " 'G255': 992,\n",
       " 'B178': 993,\n",
       " 'I159': 994,\n",
       " 'C310': 995,\n",
       " 'M219': 996,\n",
       " 'X441': 997,\n",
       " 'T175': 998,\n",
       " 'A498': 999,\n",
       " 'F418': 1000,\n",
       " ...}"
      ]
     },
     "execution_count": 585,
     "metadata": {},
     "output_type": "execute_result"
    }
   ],
   "source": [
    "dictToReplace"
   ]
  },
  {
   "cell_type": "code",
   "execution_count": 586,
   "id": "selected-trick",
   "metadata": {},
   "outputs": [],
   "source": [
    "data['CD_CID'] = data['CD_CID'].replace(dictToReplace)"
   ]
  },
  {
   "cell_type": "markdown",
   "id": "hairy-syndication",
   "metadata": {},
   "source": [
    "#### DS_ESPECIALID_SAI"
   ]
  },
  {
   "cell_type": "code",
   "execution_count": 587,
   "id": "theoretical-electricity",
   "metadata": {},
   "outputs": [
    {
     "data": {
      "text/plain": [
       "CLINICA MEDICA                    12145\n",
       "CARDIOLOGIA                         831\n",
       "NEFROLOGIA                          805\n",
       "NEUROLOGIA                          673\n",
       "PNEUMOLOGIA                         473\n",
       "CIRURGIA GERAL                      389\n",
       "UROLOGIA                            363\n",
       "INFECTOLOGIA                        355\n",
       "ONCOLOGIA CLINICA                   346\n",
       "GASTROENTEROLOGIA                   197\n",
       "MEDICINA INTENSIVA                  172\n",
       "CIRURGIA DO APARELHO DIGESTIVO      166\n",
       "GERIATRIA                           162\n",
       "ORTOPEDIA E TRAUMATOLOGIA           159\n",
       "CIRURGIA CARDIOVASCULAR             134\n",
       "NEUROCIRURGIA                       101\n",
       "GINECOLOGIA E OBSTETRICIA            99\n",
       "CIRURGIA TORACICA                    92\n",
       "PSIQUIATRIA                          60\n",
       "MEDICINA DE EMERGENCIA               54\n",
       "HEMATOLOGIA E HEMOTERAPIA            48\n",
       "OTORRINOLARINGOLOGIA                 35\n",
       "COLOPROCTOLOGIA                      35\n",
       "CIRURGIA ONCOLOGICA                  20\n",
       "REUMATOLOGIA                         16\n",
       "CIRURGIA VASCULAR                    15\n",
       "BUCO MAXILO FACIAL                   14\n",
       "ENDOCRINOLOGIA E METABOLOGIA         11\n",
       "ENDOSCOPIA                           10\n",
       "CIRURGIA PLASTICA                     8\n",
       "MASTOLOGIA                            6\n",
       "PEDIATRIA                             4\n",
       "CIRURGIA DA MÃO                       3\n",
       "DERMATOLOGIA                          2\n",
       "RADIOTERAPIA                          2\n",
       "MEDICINA FAMILIA E COMUNIDADE         2\n",
       "MEDICINA DE TRAFEGO                   2\n",
       "MEDICINA ESPORTIVA                    1\n",
       "CIRURGIA DE CABEÇA E PESCOÇO          1\n",
       "OFTALMOLOGIA                          1\n",
       "CIRURGIA PEDIATRICA                   1\n",
       "RADIOLOGIA DIAG POR IMAGEM            1\n",
       "Name: DS_ESPECIALID_SAI, dtype: int64"
      ]
     },
     "execution_count": 587,
     "metadata": {},
     "output_type": "execute_result"
    }
   ],
   "source": [
    "data['DS_ESPECIALID_SAI'].value_counts()"
   ]
  },
  {
   "cell_type": "code",
   "execution_count": 588,
   "id": "atomic-focus",
   "metadata": {},
   "outputs": [],
   "source": [
    "keys = data['DS_ESPECIALID_SAI'].value_counts().keys().tolist()"
   ]
  },
  {
   "cell_type": "code",
   "execution_count": 589,
   "id": "pacific-electricity",
   "metadata": {},
   "outputs": [],
   "source": [
    "dictToReplace = __getDictToReplace(keys)"
   ]
  },
  {
   "cell_type": "code",
   "execution_count": 590,
   "id": "genetic-geography",
   "metadata": {},
   "outputs": [
    {
     "data": {
      "text/plain": [
       "{'CLINICA MEDICA': 1,\n",
       " 'CARDIOLOGIA': 2,\n",
       " 'NEFROLOGIA': 3,\n",
       " 'NEUROLOGIA': 4,\n",
       " 'PNEUMOLOGIA': 5,\n",
       " 'CIRURGIA GERAL': 6,\n",
       " 'UROLOGIA': 7,\n",
       " 'INFECTOLOGIA': 8,\n",
       " 'ONCOLOGIA CLINICA': 9,\n",
       " 'GASTROENTEROLOGIA': 10,\n",
       " 'MEDICINA INTENSIVA': 11,\n",
       " 'CIRURGIA DO APARELHO DIGESTIVO': 12,\n",
       " 'GERIATRIA': 13,\n",
       " 'ORTOPEDIA E TRAUMATOLOGIA': 14,\n",
       " 'CIRURGIA CARDIOVASCULAR': 15,\n",
       " 'NEUROCIRURGIA': 16,\n",
       " 'GINECOLOGIA E OBSTETRICIA': 17,\n",
       " 'CIRURGIA TORACICA': 18,\n",
       " 'PSIQUIATRIA': 19,\n",
       " 'MEDICINA DE EMERGENCIA': 20,\n",
       " 'HEMATOLOGIA E HEMOTERAPIA': 21,\n",
       " 'OTORRINOLARINGOLOGIA': 22,\n",
       " 'COLOPROCTOLOGIA': 23,\n",
       " 'CIRURGIA ONCOLOGICA': 24,\n",
       " 'REUMATOLOGIA': 25,\n",
       " 'CIRURGIA VASCULAR': 26,\n",
       " 'BUCO MAXILO FACIAL': 27,\n",
       " 'ENDOCRINOLOGIA E METABOLOGIA': 28,\n",
       " 'ENDOSCOPIA': 29,\n",
       " 'CIRURGIA PLASTICA': 30,\n",
       " 'MASTOLOGIA': 31,\n",
       " 'PEDIATRIA': 32,\n",
       " 'CIRURGIA DA MÃO': 33,\n",
       " 'DERMATOLOGIA': 34,\n",
       " 'RADIOTERAPIA': 35,\n",
       " 'MEDICINA FAMILIA E COMUNIDADE': 36,\n",
       " 'MEDICINA DE TRAFEGO': 37,\n",
       " 'MEDICINA ESPORTIVA': 38,\n",
       " 'CIRURGIA DE CABEÇA E PESCOÇO': 39,\n",
       " 'OFTALMOLOGIA': 40,\n",
       " 'CIRURGIA PEDIATRICA': 41,\n",
       " 'RADIOLOGIA DIAG POR IMAGEM': 42}"
      ]
     },
     "execution_count": 590,
     "metadata": {},
     "output_type": "execute_result"
    }
   ],
   "source": [
    "dictToReplace"
   ]
  },
  {
   "cell_type": "code",
   "execution_count": 591,
   "id": "outstanding-entrance",
   "metadata": {},
   "outputs": [],
   "source": [
    "data['DS_ESPECIALID_SAI'] = data['DS_ESPECIALID_SAI'].replace(dictToReplace)"
   ]
  },
  {
   "cell_type": "markdown",
   "id": "consistent-virgin",
   "metadata": {},
   "source": [
    "#### REINTER_30D"
   ]
  },
  {
   "cell_type": "code",
   "execution_count": 592,
   "id": "nearby-elements",
   "metadata": {},
   "outputs": [
    {
     "data": {
      "text/plain": [
       "NÃO    17408\n",
       "SIM      606\n",
       "Name: REINTER_30D, dtype: int64"
      ]
     },
     "execution_count": 592,
     "metadata": {},
     "output_type": "execute_result"
    }
   ],
   "source": [
    "data['REINTER_30D'].value_counts()"
   ]
  },
  {
   "cell_type": "code",
   "execution_count": 593,
   "id": "boolean-percentage",
   "metadata": {},
   "outputs": [],
   "source": [
    "data['REINTER_30D'] = data['REINTER_30D'].replace({'SIM': 1, 'NÃO': 0})"
   ]
  },
  {
   "cell_type": "markdown",
   "id": "stone-cannon",
   "metadata": {},
   "source": [
    "#### CARATER_ATENDIMENTO"
   ]
  },
  {
   "cell_type": "code",
   "execution_count": 594,
   "id": "affecting-vacuum",
   "metadata": {},
   "outputs": [
    {
     "data": {
      "text/plain": [
       "URGÊNCIA    16376\n",
       "ELETIVO      1638\n",
       "Name: CARATER_ATENDIMENTO, dtype: int64"
      ]
     },
     "execution_count": 594,
     "metadata": {},
     "output_type": "execute_result"
    }
   ],
   "source": [
    "data['CARATER_ATENDIMENTO'].value_counts()"
   ]
  },
  {
   "cell_type": "code",
   "execution_count": 595,
   "id": "superior-projector",
   "metadata": {},
   "outputs": [],
   "source": [
    "data['CARATER_ATENDIMENTO'] = data['CARATER_ATENDIMENTO'].replace({'URGÊNCIA': 1, 'ELETIVO': 0})"
   ]
  },
  {
   "cell_type": "markdown",
   "id": "spare-energy",
   "metadata": {},
   "source": [
    "#### EMERG_SERVICO"
   ]
  },
  {
   "cell_type": "code",
   "execution_count": 596,
   "id": "prospective-produce",
   "metadata": {},
   "outputs": [
    {
     "data": {
      "text/plain": [
       "PRONTOPUC            14241\n",
       "PRONTOSUS             2082\n",
       "NÃO INFORMADO         1639\n",
       "TRAUMATO                50\n",
       "CENTRO OBSTETRICO        2\n",
       "Name: EMERG_SERVICO, dtype: int64"
      ]
     },
     "execution_count": 596,
     "metadata": {},
     "output_type": "execute_result"
    }
   ],
   "source": [
    "data['EMERG_SERVICO'].value_counts()"
   ]
  },
  {
   "cell_type": "code",
   "execution_count": 597,
   "id": "promising-saint",
   "metadata": {},
   "outputs": [],
   "source": [
    "keys = data['EMERG_SERVICO'].value_counts().keys().tolist()"
   ]
  },
  {
   "cell_type": "code",
   "execution_count": 598,
   "id": "opposed-perspective",
   "metadata": {},
   "outputs": [],
   "source": [
    "dictToReplace = __getDictToReplace(keys)"
   ]
  },
  {
   "cell_type": "code",
   "execution_count": 599,
   "id": "pressing-antique",
   "metadata": {},
   "outputs": [
    {
     "data": {
      "text/plain": [
       "{'PRONTOPUC': 1,\n",
       " 'PRONTOSUS': 2,\n",
       " 'NÃO INFORMADO': 3,\n",
       " 'TRAUMATO': 4,\n",
       " 'CENTRO OBSTETRICO': 5}"
      ]
     },
     "execution_count": 599,
     "metadata": {},
     "output_type": "execute_result"
    }
   ],
   "source": [
    "dictToReplace"
   ]
  },
  {
   "cell_type": "code",
   "execution_count": 600,
   "id": "laden-invite",
   "metadata": {},
   "outputs": [],
   "source": [
    "data['EMERG_SERVICO'] = data['EMERG_SERVICO'].replace(dictToReplace)"
   ]
  },
  {
   "cell_type": "markdown",
   "id": "royal-socket",
   "metadata": {},
   "source": [
    "#### EMERG_RISCO"
   ]
  },
  {
   "cell_type": "code",
   "execution_count": 601,
   "id": "attached-browser",
   "metadata": {},
   "outputs": [
    {
     "data": {
      "text/plain": [
       "VERDE            9217\n",
       "AMARELO          3275\n",
       "LARANJA          2400\n",
       "NÃO INFORMADO    1674\n",
       "AZUL              792\n",
       "VERMELHO          656\n",
       "Name: EMERG_RISCO, dtype: int64"
      ]
     },
     "execution_count": 601,
     "metadata": {},
     "output_type": "execute_result"
    }
   ],
   "source": [
    "data['EMERG_RISCO'].value_counts()"
   ]
  },
  {
   "cell_type": "code",
   "execution_count": 602,
   "id": "dated-module",
   "metadata": {},
   "outputs": [],
   "source": [
    "keys = data['EMERG_RISCO'].value_counts().keys().tolist()"
   ]
  },
  {
   "cell_type": "code",
   "execution_count": 603,
   "id": "patient-coalition",
   "metadata": {},
   "outputs": [],
   "source": [
    "dictToReplace = __getDictToReplace(keys)"
   ]
  },
  {
   "cell_type": "code",
   "execution_count": 604,
   "id": "sporting-greenhouse",
   "metadata": {},
   "outputs": [
    {
     "data": {
      "text/plain": [
       "{'VERDE': 1,\n",
       " 'AMARELO': 2,\n",
       " 'LARANJA': 3,\n",
       " 'NÃO INFORMADO': 4,\n",
       " 'AZUL': 5,\n",
       " 'VERMELHO': 6}"
      ]
     },
     "execution_count": 604,
     "metadata": {},
     "output_type": "execute_result"
    }
   ],
   "source": [
    "dictToReplace"
   ]
  },
  {
   "cell_type": "code",
   "execution_count": 605,
   "id": "meaningful-manual",
   "metadata": {},
   "outputs": [],
   "source": [
    "data['EMERG_RISCO'] = data['EMERG_RISCO'].replace(dictToReplace)"
   ]
  },
  {
   "cell_type": "markdown",
   "id": "regulation-tyler",
   "metadata": {},
   "source": [
    "#### CID_DIAG_ATEND"
   ]
  },
  {
   "cell_type": "code",
   "execution_count": 606,
   "id": "smaller-representation",
   "metadata": {},
   "outputs": [],
   "source": [
    "data['CID_DIAG_ATEND'] = data['CID_DIAG_ATEND'].fillna('NI')"
   ]
  },
  {
   "cell_type": "code",
   "execution_count": 607,
   "id": "vanilla-tulsa",
   "metadata": {},
   "outputs": [
    {
     "data": {
      "text/plain": [
       "B349    9386\n",
       "B342    1216\n",
       "A419     392\n",
       "R060     291\n",
       "I64      219\n",
       "        ... \n",
       "I158       1\n",
       "N858       1\n",
       "E160       1\n",
       "J152       1\n",
       "C170       1\n",
       "Name: CID_DIAG_ATEND, Length: 1247, dtype: int64"
      ]
     },
     "execution_count": 607,
     "metadata": {},
     "output_type": "execute_result"
    }
   ],
   "source": [
    "data['CID_DIAG_ATEND'].value_counts()"
   ]
  },
  {
   "cell_type": "code",
   "execution_count": 608,
   "id": "radio-lyric",
   "metadata": {},
   "outputs": [],
   "source": [
    "keys = data['CID_DIAG_ATEND'].value_counts().keys().tolist()"
   ]
  },
  {
   "cell_type": "code",
   "execution_count": 609,
   "id": "middle-klein",
   "metadata": {},
   "outputs": [],
   "source": [
    "dictToReplace = __getDictToReplace(keys)"
   ]
  },
  {
   "cell_type": "code",
   "execution_count": 610,
   "id": "caroline-ticket",
   "metadata": {},
   "outputs": [
    {
     "data": {
      "text/plain": [
       "{'B349': 1,\n",
       " 'B342': 2,\n",
       " 'A419': 3,\n",
       " 'R060': 4,\n",
       " 'I64': 5,\n",
       " 'J069': 6,\n",
       " 'K359': 7,\n",
       " 'Z290': 8,\n",
       " 'I219': 9,\n",
       " 'I200': 10,\n",
       " 'R520': 11,\n",
       " 'I500': 12,\n",
       " 'J180': 13,\n",
       " 'N180': 14,\n",
       " 'N390': 15,\n",
       " 'R51': 16,\n",
       " 'U071': 17,\n",
       " 'C61': 18,\n",
       " 'R509': 19,\n",
       " 'R100': 20,\n",
       " 'R05': 21,\n",
       " 'K810': 22,\n",
       " 'A418': 23,\n",
       " 'J960': 24,\n",
       " 'J159': 25,\n",
       " 'K922': 26,\n",
       " 'R074': 27,\n",
       " 'A09': 28,\n",
       " 'N40': 29,\n",
       " 'I743': 30,\n",
       " 'K921': 31,\n",
       " 'I509': 32,\n",
       " 'G409': 33,\n",
       " 'A499': 34,\n",
       " 'C349': 35,\n",
       " 'I639': 36,\n",
       " 'N200': 37,\n",
       " 'K850': 38,\n",
       " 'R579': 39,\n",
       " 'Z000': 40,\n",
       " 'K920': 41,\n",
       " 'I50': 42,\n",
       " 'N189': 43,\n",
       " 'N179': 44,\n",
       " 'I269': 45,\n",
       " 'C64': 46,\n",
       " 'C509': 47,\n",
       " 'M169': 48,\n",
       " 'D649': 49,\n",
       " 'I20': 50,\n",
       " 'J039': 51,\n",
       " 'R53': 52,\n",
       " 'K802': 53,\n",
       " 'R55': 54,\n",
       " 'K859': 55,\n",
       " 'G35': 56,\n",
       " 'C189': 57,\n",
       " 'J81': 58,\n",
       " 'I26': 59,\n",
       " 'R11': 60,\n",
       " 'G402': 61,\n",
       " 'J459': 62,\n",
       " 'K800': 63,\n",
       " 'I209': 64,\n",
       " 'J158': 65,\n",
       " 'D259': 66,\n",
       " 'I48': 67,\n",
       " 'N201': 68,\n",
       " 'K808': 69,\n",
       " 'C348': 70,\n",
       " 'I21': 71,\n",
       " 'G459': 72,\n",
       " 'A41': 73,\n",
       " 'R070': 74,\n",
       " 'I702': 75,\n",
       " 'J15': 76,\n",
       " 'I442': 77,\n",
       " 'J441': 78,\n",
       " 'E871': 79,\n",
       " 'C259': 80,\n",
       " 'J189': 81,\n",
       " 'C508': 82,\n",
       " 'C169': 83,\n",
       " 'K566': 84,\n",
       " 'R104': 85,\n",
       " 'J90': 86,\n",
       " 'I499': 87,\n",
       " 'K746': 88,\n",
       " 'E105': 89,\n",
       " 'F059': 90,\n",
       " 'R073': 91,\n",
       " 'B972': 92,\n",
       " 'J36': 93,\n",
       " 'I210': 94,\n",
       " 'N39': 95,\n",
       " 'R198': 96,\n",
       " 'J91': 97,\n",
       " 'C56': 98,\n",
       " 'I739': 99,\n",
       " 'J440': 100,\n",
       " 'S720': 101,\n",
       " 'J18': 102,\n",
       " 'J129': 103,\n",
       " 'K35': 104,\n",
       " 'C679': 105,\n",
       " 'R571': 106,\n",
       " 'K804': 107,\n",
       " 'E141': 108,\n",
       " 'C20': 109,\n",
       " 'C629': 110,\n",
       " 'J969': 111,\n",
       " 'N832': 112,\n",
       " 'I609': 113,\n",
       " 'I214': 114,\n",
       " 'N17': 115,\n",
       " 'N188': 116,\n",
       " 'R42': 117,\n",
       " 'I260': 118,\n",
       " 'J22': 119,\n",
       " 'R508': 120,\n",
       " 'R103': 121,\n",
       " 'Z940': 122,\n",
       " 'I612': 123,\n",
       " 'S828': 124,\n",
       " 'F322': 125,\n",
       " 'I749': 126,\n",
       " 'I211': 127,\n",
       " 'R568': 128,\n",
       " 'N10': 129,\n",
       " 'N18': 130,\n",
       " 'R31': 131,\n",
       " 'D381': 132,\n",
       " 'I828': 133,\n",
       " 'C672': 134,\n",
       " 'C780': 135,\n",
       " 'A415': 136,\n",
       " 'N23': 137,\n",
       " 'C343': 138,\n",
       " 'J00': 139,\n",
       " 'G40': 140,\n",
       " 'J449': 141,\n",
       " 'K564': 142,\n",
       " 'I652': 143,\n",
       " 'C187': 144,\n",
       " 'R101': 145,\n",
       " 'I710': 146,\n",
       " 'C229': 147,\n",
       " 'C220': 148,\n",
       " 'N20': 149,\n",
       " 'C900': 150,\n",
       " 'C950': 151,\n",
       " 'G45': 152,\n",
       " 'D430': 153,\n",
       " 'N19': 154,\n",
       " 'R071': 155,\n",
       " 'J930': 156,\n",
       " 'L089': 157,\n",
       " 'K80': 158,\n",
       " 'R570': 159,\n",
       " 'R578': 160,\n",
       " 'C538': 161,\n",
       " 'I469': 162,\n",
       " 'K830': 163,\n",
       " 'D391': 164,\n",
       " 'R202': 165,\n",
       " 'Z209': 166,\n",
       " 'C793': 167,\n",
       " 'K37': 168,\n",
       " 'K639': 169,\n",
       " 'D34': 170,\n",
       " 'K57': 171,\n",
       " 'F609': 172,\n",
       " 'G404': 173,\n",
       " 'F411': 174,\n",
       " 'N202': 175,\n",
       " 'G408': 176,\n",
       " 'R042': 177,\n",
       " 'K851': 178,\n",
       " 'L032': 179,\n",
       " 'G934': 180,\n",
       " 'E101': 181,\n",
       " 'I82': 182,\n",
       " 'K929': 183,\n",
       " 'I350': 184,\n",
       " 'S721': 185,\n",
       " 'K703': 186,\n",
       " 'C50': 187,\n",
       " 'K805': 188,\n",
       " 'E115': 189,\n",
       " 'C341': 190,\n",
       " 'K072': 191,\n",
       " 'G610': 192,\n",
       " 'T861': 193,\n",
       " 'F29': 194,\n",
       " 'F319': 195,\n",
       " 'R001': 196,\n",
       " 'T509': 197,\n",
       " 'C678': 198,\n",
       " 'T813': 199,\n",
       " 'D414': 200,\n",
       " 'F329': 201,\n",
       " 'N139': 202,\n",
       " 'S729': 203,\n",
       " 'N111': 204,\n",
       " 'I460': 205,\n",
       " 'E840': 206,\n",
       " 'D400': 207,\n",
       " 'C159': 208,\n",
       " 'N44': 209,\n",
       " 'J690': 210,\n",
       " 'K801': 211,\n",
       " 'I10': 212,\n",
       " 'N049': 213,\n",
       " 'R56': 214,\n",
       " 'C819': 215,\n",
       " 'B343': 216,\n",
       " 'K572': 217,\n",
       " 'N358': 218,\n",
       " 'I255': 219,\n",
       " 'F03': 220,\n",
       " 'K831': 221,\n",
       " 'A86': 222,\n",
       " 'C25': 223,\n",
       " 'C329': 224,\n",
       " 'R072': 225,\n",
       " 'R300': 226,\n",
       " 'N818': 227,\n",
       " 'F332': 228,\n",
       " 'R33': 229,\n",
       " 'C80': 230,\n",
       " 'K409': 231,\n",
       " 'I409': 232,\n",
       " 'I330': 233,\n",
       " 'C340': 234,\n",
       " 'A46': 235,\n",
       " 'G911': 236,\n",
       " 'D693': 237,\n",
       " 'R10': 238,\n",
       " 'K74': 239,\n",
       " 'I472': 240,\n",
       " 'N029': 241,\n",
       " 'I441': 242,\n",
       " 'A488': 243,\n",
       " 'F312': 244,\n",
       " 'C250': 245,\n",
       " 'N130': 246,\n",
       " 'C541': 247,\n",
       " 'C859': 248,\n",
       " 'C168': 249,\n",
       " 'N300': 250,\n",
       " 'D440': 251,\n",
       " 'C65': 252,\n",
       " 'C73': 253,\n",
       " 'C889': 254,\n",
       " 'C786': 255,\n",
       " 'K562': 256,\n",
       " 'K439': 257,\n",
       " 'C851': 258,\n",
       " 'K928': 259,\n",
       " 'C910': 260,\n",
       " 'I676': 261,\n",
       " 'C162': 262,\n",
       " 'C539': 263,\n",
       " 'K81': 264,\n",
       " 'J018': 265,\n",
       " 'C34': 266,\n",
       " 'J939': 267,\n",
       " 'G458': 268,\n",
       " 'K869': 269,\n",
       " 'C719': 270,\n",
       " 'D729': 271,\n",
       " 'K550': 272,\n",
       " 'R17': 273,\n",
       " 'F051': 274,\n",
       " 'N209': 275,\n",
       " 'J128': 276,\n",
       " 'D758': 277,\n",
       " 'C260': 278,\n",
       " 'I471': 279,\n",
       " 'C188': 280,\n",
       " 'D509': 281,\n",
       " 'K263': 282,\n",
       " 'I744': 283,\n",
       " 'K638': 284,\n",
       " 'R410': 285,\n",
       " 'K750': 286,\n",
       " 'M869': 287,\n",
       " 'C257': 288,\n",
       " 'I738': 289,\n",
       " 'N92': 290,\n",
       " 'E108': 291,\n",
       " 'J80': 292,\n",
       " 'K729': 293,\n",
       " 'C67': 294,\n",
       " 'K402': 295,\n",
       " 'F316': 296,\n",
       " 'F920': 297,\n",
       " 'I714': 298,\n",
       " 'K710': 299,\n",
       " 'C670': 300,\n",
       " 'R601': 301,\n",
       " 'N178': 302,\n",
       " 'R529': 303,\n",
       " 'R13': 304,\n",
       " 'J09': 305,\n",
       " 'R092': 306,\n",
       " 'G454': 307,\n",
       " 'L030': 308,\n",
       " 'I822': 309,\n",
       " 'C19': 310,\n",
       " 'C760': 311,\n",
       " 'C18': 312,\n",
       " 'K36': 313,\n",
       " 'E145': 314,\n",
       " 'G628': 315,\n",
       " 'I44': 316,\n",
       " 'K529': 317,\n",
       " 'C671': 318,\n",
       " 'G379': 319,\n",
       " 'I339': 320,\n",
       " 'K469': 321,\n",
       " 'T784': 322,\n",
       " 'C439': 323,\n",
       " 'D638': 324,\n",
       " 'B24': 325,\n",
       " 'C158': 326,\n",
       " 'K251': 327,\n",
       " 'R418': 328,\n",
       " 'G403': 329,\n",
       " 'K319': 330,\n",
       " 'I713': 331,\n",
       " 'T844': 332,\n",
       " 'K51': 333,\n",
       " 'B199': 334,\n",
       " 'L029': 335,\n",
       " 'T814': 336,\n",
       " 'L97': 337,\n",
       " 'R739': 338,\n",
       " 'M864': 339,\n",
       " 'D443': 340,\n",
       " 'J188': 341,\n",
       " 'K449': 342,\n",
       " 'F328': 343,\n",
       " 'B99': 344,\n",
       " 'E875': 345,\n",
       " 'A049': 346,\n",
       " 'I829': 347,\n",
       " 'K565': 348,\n",
       " 'C210': 349,\n",
       " 'K839': 350,\n",
       " 'F239': 351,\n",
       " 'S72': 352,\n",
       " 'C184': 353,\n",
       " 'B023': 354,\n",
       " 'S860': 355,\n",
       " 'F050': 356,\n",
       " 'K403': 357,\n",
       " 'E118': 358,\n",
       " 'R190': 359,\n",
       " 'K579': 360,\n",
       " 'I213': 361,\n",
       " 'S029': 362,\n",
       " 'N309': 363,\n",
       " 'M545': 364,\n",
       " 'C787': 365,\n",
       " 'S065': 366,\n",
       " 'A490': 367,\n",
       " 'F311': 368,\n",
       " 'K220': 369,\n",
       " 'N350': 370,\n",
       " 'C328': 371,\n",
       " 'G049': 372,\n",
       " 'I49': 373,\n",
       " 'M51': 374,\n",
       " 'R443': 375,\n",
       " 'D481': 376,\n",
       " 'B377': 377,\n",
       " 'D483': 378,\n",
       " 'R72': 379,\n",
       " 'B340': 380,\n",
       " 'E162': 381,\n",
       " 'D376': 382,\n",
       " 'C675': 383,\n",
       " 'C845': 384,\n",
       " 'I251': 385,\n",
       " 'C790': 386,\n",
       " 'I35': 387,\n",
       " 'C951': 388,\n",
       " 'N813': 389,\n",
       " 'M791': 390,\n",
       " 'E660': 391,\n",
       " 'J458': 392,\n",
       " 'K92': 393,\n",
       " 'N170': 394,\n",
       " 'I212': 395,\n",
       " 'L031': 396,\n",
       " 'K350': 397,\n",
       " 'N110': 398,\n",
       " 'A085': 399,\n",
       " 'I694': 400,\n",
       " 'G958': 401,\n",
       " 'C959': 402,\n",
       " 'M542': 403,\n",
       " 'S723': 404,\n",
       " 'K769': 405,\n",
       " 'J841': 406,\n",
       " 'D759': 407,\n",
       " 'C408': 408,\n",
       " 'N132': 409,\n",
       " 'I67': 410,\n",
       " 'G952': 411,\n",
       " 'F05': 412,\n",
       " 'R18': 413,\n",
       " 'G009': 414,\n",
       " 'G931': 415,\n",
       " 'G058': 416,\n",
       " 'D570': 417,\n",
       " 'K42': 418,\n",
       " 'M549': 419,\n",
       " 'K650': 420,\n",
       " 'R462': 421,\n",
       " 'C492': 422,\n",
       " 'I724': 423,\n",
       " 'K610': 424,\n",
       " 'G992': 425,\n",
       " 'M511': 426,\n",
       " 'D487': 427,\n",
       " 'I24': 428,\n",
       " 'I959': 429,\n",
       " 'B028': 430,\n",
       " 'E791': 431,\n",
       " 'C179': 432,\n",
       " 'L038': 433,\n",
       " 'G405': 434,\n",
       " 'I229': 435,\n",
       " 'K351': 436,\n",
       " 'G932': 437,\n",
       " 'F323': 438,\n",
       " 'G61': 439,\n",
       " 'C402': 440,\n",
       " 'C929': 441,\n",
       " 'N483': 442,\n",
       " 'I801': 443,\n",
       " 'R32': 444,\n",
       " 'C920': 445,\n",
       " 'C186': 446,\n",
       " 'D691': 447,\n",
       " 'G587': 448,\n",
       " 'R040': 449,\n",
       " 'K122': 450,\n",
       " 'G618': 451,\n",
       " 'I832': 452,\n",
       " 'I635': 453,\n",
       " 'T149': 454,\n",
       " 'D469': 455,\n",
       " 'G822': 456,\n",
       " 'B399': 457,\n",
       " 'R52': 458,\n",
       " 'D50': 459,\n",
       " 'H46': 460,\n",
       " 'K40': 461,\n",
       " 'C172': 462,\n",
       " 'N138': 463,\n",
       " 'S722': 464,\n",
       " 'E668': 465,\n",
       " 'Z988': 466,\n",
       " 'K818': 467,\n",
       " 'I461': 468,\n",
       " 'C227': 469,\n",
       " 'J399': 470,\n",
       " 'I711': 471,\n",
       " 'G700': 472,\n",
       " 'A150': 473,\n",
       " 'E078': 474,\n",
       " 'A49': 475,\n",
       " 'F33': 476,\n",
       " 'C435': 477,\n",
       " 'D437': 478,\n",
       " 'M54': 479,\n",
       " 'I629': 480,\n",
       " 'C182': 481,\n",
       " 'H603': 482,\n",
       " 'T849': 483,\n",
       " 'J019': 484,\n",
       " 'M199': 485,\n",
       " 'M321': 486,\n",
       " 'I95': 487,\n",
       " 'NI': 488,\n",
       " 'R402': 489,\n",
       " 'C443': 490,\n",
       " 'X649': 491,\n",
       " 'D41': 492,\n",
       " 'D110': 493,\n",
       " 'C499': 494,\n",
       " 'I671': 495,\n",
       " 'M796': 496,\n",
       " 'H814': 497,\n",
       " 'F314': 498,\n",
       " 'K720': 499,\n",
       " 'K559': 500,\n",
       " 'T827': 501,\n",
       " 'I428': 502,\n",
       " 'J948': 503,\n",
       " 'D500': 504,\n",
       " 'L984': 505,\n",
       " 'R002': 506,\n",
       " 'G373': 507,\n",
       " 'E66': 508,\n",
       " 'B338': 509,\n",
       " 'C504': 510,\n",
       " 'C795': 511,\n",
       " 'S325': 512,\n",
       " 'E835': 513,\n",
       " 'G20': 514,\n",
       " 'I259': 515,\n",
       " 'M608': 516,\n",
       " 'T402': 517,\n",
       " 'S06': 518,\n",
       " 'D619': 519,\n",
       " 'U049': 520,\n",
       " 'G629': 521,\n",
       " 'S724': 522,\n",
       " 'J218': 523,\n",
       " 'K630': 524,\n",
       " 'Z208': 525,\n",
       " 'B022': 526,\n",
       " 'N488': 527,\n",
       " 'R521': 528,\n",
       " 'B309': 529,\n",
       " 'D630': 530,\n",
       " 'R41': 531,\n",
       " 'J219': 532,\n",
       " 'J852': 533,\n",
       " 'D410': 534,\n",
       " 'G122': 535,\n",
       " 'G942': 536,\n",
       " 'C674': 537,\n",
       " 'J851': 538,\n",
       " 'J150': 539,\n",
       " 'F318': 540,\n",
       " 'G918': 541,\n",
       " 'K833': 542,\n",
       " 'M158': 543,\n",
       " 'L129': 544,\n",
       " 'N21': 545,\n",
       " 'B029': 546,\n",
       " 'D151': 547,\n",
       " 'K578': 548,\n",
       " 'C857': 549,\n",
       " 'D696': 550,\n",
       " 'K573': 551,\n",
       " 'Q623': 552,\n",
       " 'N02': 553,\n",
       " 'M139': 554,\n",
       " 'R522': 555,\n",
       " 'C221': 556,\n",
       " 'K460': 557,\n",
       " 'G959': 558,\n",
       " 'C714': 559,\n",
       " 'F102': 560,\n",
       " 'I132': 561,\n",
       " 'D142': 562,\n",
       " 'M329': 563,\n",
       " 'K623': 564,\n",
       " 'T93': 565,\n",
       " 'C342': 566,\n",
       " 'K828': 567,\n",
       " 'D72': 568,\n",
       " 'F23': 569,\n",
       " 'L03': 570,\n",
       " 'G51': 571,\n",
       " 'N398': 572,\n",
       " 'S422': 573,\n",
       " 'T758': 574,\n",
       " 'L024': 575,\n",
       " 'A153': 576,\n",
       " 'C166': 577,\n",
       " 'T810': 578,\n",
       " 'K52': 579,\n",
       " 'J342': 580,\n",
       " 'J955': 581,\n",
       " 'K500': 582,\n",
       " 'C240': 583,\n",
       " 'C749': 584,\n",
       " 'K590': 585,\n",
       " 'N151': 586,\n",
       " 'N211': 587,\n",
       " 'C785': 588,\n",
       " 'C830': 589,\n",
       " 'T821': 590,\n",
       " 'N359': 591,\n",
       " 'D431': 592,\n",
       " 'R02': 593,\n",
       " 'I742': 594,\n",
       " 'R000': 595,\n",
       " 'J931': 596,\n",
       " 'K858': 597,\n",
       " 'R599': 598,\n",
       " 'C251': 599,\n",
       " 'C811': 600,\n",
       " 'N288': 601,\n",
       " 'J980': 602,\n",
       " 'K509': 603,\n",
       " 'B17': 604,\n",
       " 'K62': 605,\n",
       " 'S820': 606,\n",
       " 'M862': 607,\n",
       " 'C161': 608,\n",
       " 'C770': 609,\n",
       " 'I501': 610,\n",
       " 'A403': 611,\n",
       " 'O911': 612,\n",
       " 'R34': 613,\n",
       " 'I73': 614,\n",
       " 'D143': 615,\n",
       " 'J984': 616,\n",
       " 'D075': 617,\n",
       " 'Z004': 618,\n",
       " 'N399': 619,\n",
       " 'L039': 620,\n",
       " 'B004': 621,\n",
       " 'C798': 622,\n",
       " 'K838': 623,\n",
       " 'I351': 624,\n",
       " 'G05': 625,\n",
       " 'I633': 626,\n",
       " 'K318': 627,\n",
       " 'G57': 628,\n",
       " 'K612': 629,\n",
       " 'I60': 630,\n",
       " 'A047': 631,\n",
       " 'F109': 632,\n",
       " 'N298': 633,\n",
       " 'E148': 634,\n",
       " 'C413': 635,\n",
       " 'C774': 636,\n",
       " 'G400': 637,\n",
       " 'N26': 638,\n",
       " 'L08': 639,\n",
       " 'C782': 640,\n",
       " 'R50': 641,\n",
       " 'I470': 642,\n",
       " 'I313': 643,\n",
       " 'C437': 644,\n",
       " 'A879': 645,\n",
       " 'T914': 646,\n",
       " 'T782': 647,\n",
       " 'L989': 648,\n",
       " 'D33': 649,\n",
       " 'D380': 650,\n",
       " 'N219': 651,\n",
       " 'D486': 652,\n",
       " 'N47': 653,\n",
       " 'I74': 654,\n",
       " 'I050': 655,\n",
       " 'K228': 656,\n",
       " 'I608': 657,\n",
       " 'N320': 658,\n",
       " 'F108': 659,\n",
       " 'K824': 660,\n",
       " 'C791': 661,\n",
       " 'I601': 662,\n",
       " 'N920': 663,\n",
       " 'I498': 664,\n",
       " 'R412': 665,\n",
       " 'D43': 666,\n",
       " 'X958': 667,\n",
       " 'K659': 668,\n",
       " 'D62': 669,\n",
       " 'A154': 670,\n",
       " 'K219': 671,\n",
       " 'K712': 672,\n",
       " 'I25': 673,\n",
       " 'K44': 674,\n",
       " 'S523': 675,\n",
       " 'I607': 676,\n",
       " 'R961': 677,\n",
       " 'C609': 678,\n",
       " 'G72': 679,\n",
       " 'J93': 680,\n",
       " 'G910': 681,\n",
       " 'I670': 682,\n",
       " 'D060': 683,\n",
       " 'C673': 684,\n",
       " 'E116': 685,\n",
       " 'H700': 686,\n",
       " 'K571': 687,\n",
       " 'N511': 688,\n",
       " 'C85': 689,\n",
       " 'M629': 690,\n",
       " 'R609': 691,\n",
       " 'D134': 692,\n",
       " 'C498': 693,\n",
       " 'C10': 694,\n",
       " 'B007': 695,\n",
       " 'C218': 696,\n",
       " 'R478': 697,\n",
       " 'C578': 698,\n",
       " 'F000': 699,\n",
       " 'T14': 700,\n",
       " 'A480': 701,\n",
       " 'G443': 702,\n",
       " 'I771': 703,\n",
       " 'E872': 704,\n",
       " 'E071': 705,\n",
       " 'K620': 706,\n",
       " 'K740': 707,\n",
       " 'C321': 708,\n",
       " 'T888': 709,\n",
       " 'M462': 710,\n",
       " 'I861': 711,\n",
       " 'S920': 712,\n",
       " 'R634': 713,\n",
       " 'Q251': 714,\n",
       " 'D688': 715,\n",
       " 'E258': 716,\n",
       " 'X644': 717,\n",
       " 'F421': 718,\n",
       " 'J438': 719,\n",
       " 'I30': 720,\n",
       " 'C718': 721,\n",
       " 'I650': 722,\n",
       " 'J029': 723,\n",
       " 'N133': 724,\n",
       " 'M143': 725,\n",
       " 'C398': 726,\n",
       " 'H813': 727,\n",
       " 'J985': 728,\n",
       " 'I720': 729,\n",
       " 'L511': 730,\n",
       " 'J849': 731,\n",
       " 'R64': 732,\n",
       " 'K071': 733,\n",
       " 'A412': 734,\n",
       " 'I458': 735,\n",
       " 'N482': 736,\n",
       " 'D352': 737,\n",
       " 'N412': 738,\n",
       " 'I420': 739,\n",
       " 'C069': 740,\n",
       " 'C164': 741,\n",
       " 'M960': 742,\n",
       " 'L932': 743,\n",
       " 'G328': 744,\n",
       " 'J302': 745,\n",
       " 'L023': 746,\n",
       " 'C252': 747,\n",
       " 'K528': 748,\n",
       " 'N840': 749,\n",
       " 'I719': 750,\n",
       " 'B34': 751,\n",
       " 'A858': 752,\n",
       " 'I228': 753,\n",
       " 'I352': 754,\n",
       " 'E117': 755,\n",
       " 'C249': 756,\n",
       " 'C480': 757,\n",
       " 'B203': 758,\n",
       " 'C827': 759,\n",
       " 'K56': 760,\n",
       " 'K803': 761,\n",
       " 'T847': 762,\n",
       " 'N939': 763,\n",
       " 'E042': 764,\n",
       " 'C712': 765,\n",
       " 'D401': 766,\n",
       " 'K222': 767,\n",
       " 'A408': 768,\n",
       " 'F339': 769,\n",
       " 'N835': 770,\n",
       " 'I061': 771,\n",
       " 'Q230': 772,\n",
       " 'C165': 773,\n",
       " 'M313': 774,\n",
       " 'S525': 775,\n",
       " 'N823': 776,\n",
       " 'I620': 777,\n",
       " 'K819': 778,\n",
       " 'R470': 779,\n",
       " 'K913': 780,\n",
       " 'L988': 781,\n",
       " 'C638': 782,\n",
       " 'I71': 783,\n",
       " 'C676': 784,\n",
       " 'W549': 785,\n",
       " 'K778': 786,\n",
       " 'D122': 787,\n",
       " 'I248': 788,\n",
       " 'F603': 789,\n",
       " 'S817': 790,\n",
       " 'N228': 791,\n",
       " 'C883': 792,\n",
       " 'N800': 793,\n",
       " 'F41': 794,\n",
       " 'M86': 795,\n",
       " 'D32': 796,\n",
       " 'K580': 797,\n",
       " 'I606': 798,\n",
       " 'B027': 799,\n",
       " 'T925': 800,\n",
       " 'M328': 801,\n",
       " 'G468': 802,\n",
       " 'G54': 803,\n",
       " 'E106': 804,\n",
       " 'S061': 805,\n",
       " 'G44': 806,\n",
       " 'M490': 807,\n",
       " 'F209': 808,\n",
       " 'R258': 809,\n",
       " 'M32': 810,\n",
       " 'C384': 811,\n",
       " 'G438': 812,\n",
       " 'W789': 813,\n",
       " 'I516': 814,\n",
       " 'C530': 815,\n",
       " 'Z860': 816,\n",
       " 'K919': 817,\n",
       " 'I40': 818,\n",
       " 'I618': 819,\n",
       " 'B344': 820,\n",
       " 'J110': 821,\n",
       " 'D320': 822,\n",
       " 'I808': 823,\n",
       " 'I61': 824,\n",
       " 'N411': 825,\n",
       " 'M544': 826,\n",
       " 'F200': 827,\n",
       " 'O800': 828,\n",
       " 'J068': 829,\n",
       " 'R960': 830,\n",
       " 'M255': 831,\n",
       " 'I110': 832,\n",
       " 'C138': 833,\n",
       " 'A698': 834,\n",
       " 'R430': 835,\n",
       " 'B956': 836,\n",
       " 'C83': 837,\n",
       " 'J118': 838,\n",
       " 'H609': 839,\n",
       " 'J40': 840,\n",
       " 'C457': 841,\n",
       " 'S302': 842,\n",
       " 'Q670': 843,\n",
       " 'G36': 844,\n",
       " 'K574': 845,\n",
       " 'B439': 846,\n",
       " 'C71': 847,\n",
       " 'C710': 848,\n",
       " 'B182': 849,\n",
       " 'B394': 850,\n",
       " 'L309': 851,\n",
       " 'N489': 852,\n",
       " 'I029': 853,\n",
       " 'M738': 854,\n",
       " 'C01': 855,\n",
       " 'T84': 856,\n",
       " 'C450': 857,\n",
       " 'I490': 858,\n",
       " 'G81': 859,\n",
       " 'I741': 860,\n",
       " 'G93': 861,\n",
       " 'N814': 862,\n",
       " 'X441': 863,\n",
       " 'M219': 864,\n",
       " 'B178': 865,\n",
       " 'C773': 866,\n",
       " 'F132': 867,\n",
       " 'N13': 868,\n",
       " 'J679': 869,\n",
       " 'H445': 870,\n",
       " 'B41': 871,\n",
       " 'K30': 872,\n",
       " 'I600': 873,\n",
       " 'C163': 874,\n",
       " 'F31': 875,\n",
       " 'A199': 876,\n",
       " 'A279': 877,\n",
       " 'O809': 878,\n",
       " 'I15': 879,\n",
       " 'S520': 880,\n",
       " 'F228': 881,\n",
       " 'J988': 882,\n",
       " 'F206': 883,\n",
       " 'I731': 884,\n",
       " 'I39': 885,\n",
       " 'C268': 886,\n",
       " 'K70': 887,\n",
       " 'C320': 888,\n",
       " 'C901': 889,\n",
       " 'D721': 890,\n",
       " 'G401': 891,\n",
       " 'I610': 892,\n",
       " 'M130': 893,\n",
       " 'I850': 894,\n",
       " 'Z431': 895,\n",
       " 'I258': 896,\n",
       " 'S423': 897,\n",
       " 'D648': 898,\n",
       " 'C160': 899,\n",
       " 'C729': 900,\n",
       " 'I309': 901,\n",
       " 'M844': 902,\n",
       " 'N879': 903,\n",
       " 'S827': 904,\n",
       " 'C07': 905,\n",
       " 'C90': 906,\n",
       " 'Q21': 907,\n",
       " 'I208': 908,\n",
       " 'N165': 909,\n",
       " 'S334': 910,\n",
       " 'C600': 911,\n",
       " 'C112': 912,\n",
       " 'F313': 913,\n",
       " 'I693': 914,\n",
       " 'M662': 915,\n",
       " 'N739': 916,\n",
       " 'C183': 917,\n",
       " 'T174': 918,\n",
       " 'F608': 919,\n",
       " 'H532': 920,\n",
       " 'I619': 921,\n",
       " 'K518': 922,\n",
       " 'G039': 923,\n",
       " 'I495': 924,\n",
       " 'M841': 925,\n",
       " 'T07': 926,\n",
       " 'C620': 927,\n",
       " 'J303': 928,\n",
       " 'Z008': 929,\n",
       " 'Z515': 930,\n",
       " 'N816': 931,\n",
       " 'G440': 932,\n",
       " 'C519': 933,\n",
       " 'X611': 934,\n",
       " 'G439': 935,\n",
       " 'A689': 936,\n",
       " 'K633': 937,\n",
       " 'N811': 938,\n",
       " 'K431': 939,\n",
       " 'G729': 940,\n",
       " 'S220': 941,\n",
       " 'K420': 942,\n",
       " 'D464': 943,\n",
       " 'T819': 944,\n",
       " 'E107': 945,\n",
       " 'B348': 946,\n",
       " 'B373': 947,\n",
       " 'E807': 948,\n",
       " 'K07': 949,\n",
       " 'M009': 950,\n",
       " 'I611': 951,\n",
       " 'E86': 952,\n",
       " 'T841': 953,\n",
       " 'I979': 954,\n",
       " 'T455': 955,\n",
       " 'B690': 956,\n",
       " 'S309': 957,\n",
       " 'G441': 958,\n",
       " 'K50': 959,\n",
       " 'J698': 960,\n",
       " 'K519': 961,\n",
       " 'M350': 962,\n",
       " 'M543': 963,\n",
       " 'C261': 964,\n",
       " 'R21': 965,\n",
       " 'N459': 966,\n",
       " 'J64': 967,\n",
       " 'N838': 968,\n",
       " 'C767': 969,\n",
       " 'I621': 970,\n",
       " 'D695': 971,\n",
       " 'S821': 972,\n",
       " 'F315': 973,\n",
       " 'D038': 974,\n",
       " 'D383': 975,\n",
       " 'S823': 976,\n",
       " 'C438': 977,\n",
       " 'A179': 978,\n",
       " 'I120': 979,\n",
       " 'Q446': 980,\n",
       " 'Z299': 981,\n",
       " 'I340': 982,\n",
       " 'I615': 983,\n",
       " 'K65': 984,\n",
       " 'K820': 985,\n",
       " 'Z950': 986,\n",
       " 'S127': 987,\n",
       " 'H809': 988,\n",
       " 'I11': 989,\n",
       " 'I871': 990,\n",
       " 'Z450': 991,\n",
       " 'C248': 992,\n",
       " 'N709': 993,\n",
       " 'S027': 994,\n",
       " 'C211': 995,\n",
       " 'D39': 996,\n",
       " 'K316': 997,\n",
       " 'F09': 998,\n",
       " 'C911': 999,\n",
       " 'N949': 1000,\n",
       " ...}"
      ]
     },
     "execution_count": 610,
     "metadata": {},
     "output_type": "execute_result"
    }
   ],
   "source": [
    "dictToReplace"
   ]
  },
  {
   "cell_type": "code",
   "execution_count": 611,
   "id": "owned-terror",
   "metadata": {},
   "outputs": [],
   "source": [
    "data['CID_DIAG_ATEND'] = data['CID_DIAG_ATEND'].replace(dictToReplace)"
   ]
  },
  {
   "cell_type": "markdown",
   "id": "engaged-battlefield",
   "metadata": {},
   "source": [
    "#### CID_CAPITULO_DIAG"
   ]
  },
  {
   "cell_type": "code",
   "execution_count": 612,
   "id": "compound-letters",
   "metadata": {},
   "outputs": [
    {
     "data": {
      "text/plain": [
       "Infecciosas e parasitárias                                                 11301\n",
       "Aparelho circulatório                                                       1286\n",
       "Sintomas, sinais e achados anormais de exames clínicos e de laboratório     1134\n",
       "Neoplasias (tumores)                                                         879\n",
       "Aparelho digestivo                                                           836\n",
       "Aparelho respiratório                                                        724\n",
       "Aparelho geniturinário                                                       589\n",
       "Sistema nervoso                                                              279\n",
       "Fatores que influenciam o estado de saúde                                    213\n",
       "Lesões, envenenamento e algumas outras conseqüências de causas externas      157\n",
       "Transtornos mentais e comportamentais                                        137\n",
       "Endócrinas, nutricionais e metabólicas                                       123\n",
       "Sistema osteomuscular e do tecido conjuntivo                                 105\n",
       "Sangue e órgãos hematopoéticos e transtornos imunitários                      79\n",
       "Códigos para propósitos especiais                                             75\n",
       "Pele e do tecido subcutâneo                                                   52\n",
       "Causas externas de morbidade e de mortalidade                                 14\n",
       "Malformações congênitas, deformidades e anomalias cromossômicas               10\n",
       "Ouvido e da apófise mastóide                                                   9\n",
       "Olho e anexos                                                                  6\n",
       "Gravidez, parto e puerpério                                                    4\n",
       "Sem Informação                                                                 2\n",
       "Name: CID_CAPITULO_DIAG, dtype: int64"
      ]
     },
     "execution_count": 612,
     "metadata": {},
     "output_type": "execute_result"
    }
   ],
   "source": [
    "data['CID_CAPITULO_DIAG'].value_counts()"
   ]
  },
  {
   "cell_type": "code",
   "execution_count": 613,
   "id": "activated-sally",
   "metadata": {},
   "outputs": [],
   "source": [
    "keys = data['CID_CAPITULO_DIAG'].value_counts().keys().tolist()"
   ]
  },
  {
   "cell_type": "code",
   "execution_count": 614,
   "id": "worldwide-costa",
   "metadata": {},
   "outputs": [],
   "source": [
    "dictToReplace = __getDictToReplace(keys)"
   ]
  },
  {
   "cell_type": "code",
   "execution_count": 615,
   "id": "dangerous-sociology",
   "metadata": {},
   "outputs": [
    {
     "data": {
      "text/plain": [
       "{'Infecciosas e parasitárias': 1,\n",
       " 'Aparelho circulatório': 2,\n",
       " 'Sintomas, sinais e achados anormais de exames clínicos e de laboratório': 3,\n",
       " 'Neoplasias (tumores)': 4,\n",
       " 'Aparelho digestivo': 5,\n",
       " 'Aparelho respiratório': 6,\n",
       " 'Aparelho geniturinário': 7,\n",
       " 'Sistema nervoso': 8,\n",
       " 'Fatores que influenciam o estado de saúde': 9,\n",
       " 'Lesões, envenenamento e algumas outras conseqüências de causas externas': 10,\n",
       " 'Transtornos mentais e comportamentais': 11,\n",
       " 'Endócrinas, nutricionais e metabólicas': 12,\n",
       " 'Sistema osteomuscular e do tecido conjuntivo': 13,\n",
       " 'Sangue e órgãos hematopoéticos e transtornos imunitários': 14,\n",
       " 'Códigos para propósitos especiais': 15,\n",
       " 'Pele e do tecido subcutâneo': 16,\n",
       " 'Causas externas de morbidade e de mortalidade': 17,\n",
       " 'Malformações congênitas, deformidades e anomalias cromossômicas': 18,\n",
       " 'Ouvido e da apófise mastóide': 19,\n",
       " 'Olho e anexos': 20,\n",
       " 'Gravidez, parto e puerpério': 21,\n",
       " 'Sem Informação': 22}"
      ]
     },
     "execution_count": 615,
     "metadata": {},
     "output_type": "execute_result"
    }
   ],
   "source": [
    "dictToReplace"
   ]
  },
  {
   "cell_type": "code",
   "execution_count": 616,
   "id": "regulation-worry",
   "metadata": {},
   "outputs": [],
   "source": [
    "data['CID_CAPITULO_DIAG'] = data['CID_CAPITULO_DIAG'].replace(dictToReplace)"
   ]
  },
  {
   "cell_type": "markdown",
   "id": "stretch-catholic",
   "metadata": {},
   "source": [
    "#### BLOCO_CENTRAL_ST"
   ]
  },
  {
   "cell_type": "code",
   "execution_count": 617,
   "id": "young-collapse",
   "metadata": {},
   "outputs": [
    {
     "data": {
      "text/plain": [
       "NÃO    15881\n",
       "SIM     2133\n",
       "Name: BLOCO_CENTRAL_ST, dtype: int64"
      ]
     },
     "execution_count": 617,
     "metadata": {},
     "output_type": "execute_result"
    }
   ],
   "source": [
    "data['BLOCO_CENTRAL_ST'].value_counts()"
   ]
  },
  {
   "cell_type": "code",
   "execution_count": 618,
   "id": "agreed-tactics",
   "metadata": {},
   "outputs": [],
   "source": [
    "data['BLOCO_CENTRAL_ST'] = data['BLOCO_CENTRAL_ST'].replace({'SIM': 1, 'NÃO': 0})"
   ]
  },
  {
   "cell_type": "markdown",
   "id": "special-semester",
   "metadata": {},
   "source": [
    "#### HEMODINAMICA_ST"
   ]
  },
  {
   "cell_type": "code",
   "execution_count": 619,
   "id": "portuguese-gentleman",
   "metadata": {},
   "outputs": [
    {
     "data": {
      "text/plain": [
       "NÃO    17355\n",
       "SIM      659\n",
       "Name: HEMODINAMICA_ST, dtype: int64"
      ]
     },
     "execution_count": 619,
     "metadata": {},
     "output_type": "execute_result"
    }
   ],
   "source": [
    "data['HEMODINAMICA_ST'].value_counts()"
   ]
  },
  {
   "cell_type": "code",
   "execution_count": 620,
   "id": "expanded-japanese",
   "metadata": {},
   "outputs": [],
   "source": [
    "data['HEMODINAMICA_ST'] = data['HEMODINAMICA_ST'].replace({'SIM': 1, 'NÃO': 0})"
   ]
  },
  {
   "cell_type": "markdown",
   "id": "uniform-approval",
   "metadata": {},
   "source": [
    "#### EX_LAB_ST"
   ]
  },
  {
   "cell_type": "code",
   "execution_count": 621,
   "id": "english-threat",
   "metadata": {},
   "outputs": [
    {
     "data": {
      "text/plain": [
       "SIM    17905\n",
       "NÃO      109\n",
       "Name: EX_LAB_ST, dtype: int64"
      ]
     },
     "execution_count": 621,
     "metadata": {},
     "output_type": "execute_result"
    }
   ],
   "source": [
    "data['EX_LAB_ST'].value_counts()"
   ]
  },
  {
   "cell_type": "code",
   "execution_count": 622,
   "id": "serial-yesterday",
   "metadata": {},
   "outputs": [],
   "source": [
    "data['EX_LAB_ST'] = data['EX_LAB_ST'].replace({'SIM': 1, 'NÃO': 0})"
   ]
  },
  {
   "cell_type": "markdown",
   "id": "expired-douglas",
   "metadata": {},
   "source": [
    "#### EX_IMG_ST"
   ]
  },
  {
   "cell_type": "code",
   "execution_count": 623,
   "id": "alert-underwear",
   "metadata": {},
   "outputs": [
    {
     "data": {
      "text/plain": [
       "NÃO    10837\n",
       "SIM     7177\n",
       "Name: EX_IMG_ST, dtype: int64"
      ]
     },
     "execution_count": 623,
     "metadata": {},
     "output_type": "execute_result"
    }
   ],
   "source": [
    "data['EX_IMG_ST'].value_counts()"
   ]
  },
  {
   "cell_type": "code",
   "execution_count": 624,
   "id": "temporal-postcard",
   "metadata": {},
   "outputs": [],
   "source": [
    "data['EX_IMG_ST'] = data['EX_IMG_ST'].replace({'SIM': 1, 'NÃO': 0})"
   ]
  },
  {
   "cell_type": "markdown",
   "id": "sound-hampshire",
   "metadata": {},
   "source": [
    "#### EX_OUTROS_ST"
   ]
  },
  {
   "cell_type": "code",
   "execution_count": 625,
   "id": "african-intent",
   "metadata": {},
   "outputs": [
    {
     "data": {
      "text/plain": [
       "NÃO    15660\n",
       "SIM     2354\n",
       "Name: EX_OUTROS_ST, dtype: int64"
      ]
     },
     "execution_count": 625,
     "metadata": {},
     "output_type": "execute_result"
    }
   ],
   "source": [
    "data['EX_OUTROS_ST'].value_counts()"
   ]
  },
  {
   "cell_type": "code",
   "execution_count": 626,
   "id": "relevant-collins",
   "metadata": {},
   "outputs": [],
   "source": [
    "data['EX_OUTROS_ST'] = data['EX_OUTROS_ST'].replace({'SIM': 1, 'NÃO': 0})"
   ]
  },
  {
   "cell_type": "markdown",
   "id": "smaller-dodge",
   "metadata": {},
   "source": [
    "#### TIPO_REGISTRO"
   ]
  },
  {
   "cell_type": "code",
   "execution_count": 627,
   "id": "weighted-lottery",
   "metadata": {},
   "outputs": [],
   "source": [
    "data['TIPO_REGISTRO'] = data['TIPO_REGISTRO'].fillna('NI')"
   ]
  },
  {
   "cell_type": "code",
   "execution_count": 628,
   "id": "acceptable-affiliate",
   "metadata": {},
   "outputs": [
    {
     "data": {
      "text/plain": [
       "A     17834\n",
       "M       154\n",
       "NI       26\n",
       "Name: TIPO_REGISTRO, dtype: int64"
      ]
     },
     "execution_count": 628,
     "metadata": {},
     "output_type": "execute_result"
    }
   ],
   "source": [
    "data['TIPO_REGISTRO'].value_counts()"
   ]
  },
  {
   "cell_type": "code",
   "execution_count": 629,
   "id": "spoken-electric",
   "metadata": {},
   "outputs": [],
   "source": [
    "data['TIPO_REGISTRO'] = data['TIPO_REGISTRO'].replace({'A': 1, 'M': 0, 'NI': 2})"
   ]
  },
  {
   "cell_type": "markdown",
   "id": "posted-assurance",
   "metadata": {},
   "source": [
    "#### [REMOVED] SN_IFI_OV_SINCICIAL_RESP"
   ]
  },
  {
   "cell_type": "code",
   "execution_count": 630,
   "id": "dutch-wisconsin",
   "metadata": {},
   "outputs": [
    {
     "data": {
      "text/plain": [
       "N    17988\n",
       "Name: SN_IFI_OV_SINCICIAL_RESP, dtype: int64"
      ]
     },
     "execution_count": 630,
     "metadata": {},
     "output_type": "execute_result"
    }
   ],
   "source": [
    "data['SN_IFI_OV_SINCICIAL_RESP'].value_counts() #DROP"
   ]
  },
  {
   "cell_type": "code",
   "execution_count": 631,
   "id": "frank-recipient",
   "metadata": {},
   "outputs": [],
   "source": [
    "data = data.drop(['SN_IFI_OV_SINCICIAL_RESP'], axis=1)"
   ]
  },
  {
   "cell_type": "markdown",
   "id": "outer-signal",
   "metadata": {},
   "source": [
    "#### [REMOVED] SN_IFI_OV_PARAINFLU3"
   ]
  },
  {
   "cell_type": "code",
   "execution_count": 632,
   "id": "passing-plaintiff",
   "metadata": {},
   "outputs": [
    {
     "data": {
      "text/plain": [
       "N    17988\n",
       "Name: SN_IFI_OV_PARAINFLU3, dtype: int64"
      ]
     },
     "execution_count": 632,
     "metadata": {},
     "output_type": "execute_result"
    }
   ],
   "source": [
    "data['SN_IFI_OV_PARAINFLU3'].value_counts() #DROP"
   ]
  },
  {
   "cell_type": "code",
   "execution_count": 633,
   "id": "fabulous-tribune",
   "metadata": {},
   "outputs": [],
   "source": [
    "data = data.drop(['SN_IFI_OV_PARAINFLU3'], axis=1)"
   ]
  },
  {
   "cell_type": "markdown",
   "id": "eastern-personal",
   "metadata": {},
   "source": [
    "#### [REMOVED] SN_IFI_OV_PARAINFLU2"
   ]
  },
  {
   "cell_type": "code",
   "execution_count": 634,
   "id": "medical-canadian",
   "metadata": {},
   "outputs": [
    {
     "data": {
      "text/plain": [
       "N    17988\n",
       "Name: SN_IFI_OV_PARAINFLU2, dtype: int64"
      ]
     },
     "execution_count": 634,
     "metadata": {},
     "output_type": "execute_result"
    }
   ],
   "source": [
    "data['SN_IFI_OV_PARAINFLU2'].value_counts() #DROP"
   ]
  },
  {
   "cell_type": "code",
   "execution_count": 635,
   "id": "controlling-nigeria",
   "metadata": {},
   "outputs": [],
   "source": [
    "data = data.drop(['SN_IFI_OV_PARAINFLU2'], axis=1)"
   ]
  },
  {
   "cell_type": "markdown",
   "id": "finished-draft",
   "metadata": {},
   "source": [
    "#### [REMOVED] SN_IFI_OV_PARAINFLU1"
   ]
  },
  {
   "cell_type": "code",
   "execution_count": 636,
   "id": "popular-bowling",
   "metadata": {},
   "outputs": [
    {
     "data": {
      "text/plain": [
       "N    17988\n",
       "Name: SN_IFI_OV_PARAINFLU1, dtype: int64"
      ]
     },
     "execution_count": 636,
     "metadata": {},
     "output_type": "execute_result"
    }
   ],
   "source": [
    "data['SN_IFI_OV_PARAINFLU1'].value_counts() #DROP"
   ]
  },
  {
   "cell_type": "code",
   "execution_count": 637,
   "id": "martial-compound",
   "metadata": {},
   "outputs": [],
   "source": [
    "data = data.drop(['SN_IFI_OV_PARAINFLU1'], axis=1)"
   ]
  },
  {
   "cell_type": "markdown",
   "id": "derived-carry",
   "metadata": {},
   "source": [
    "#### [REMOVED] SN_IFI_OV_INFLUA"
   ]
  },
  {
   "cell_type": "code",
   "execution_count": 638,
   "id": "crazy-suicide",
   "metadata": {},
   "outputs": [
    {
     "data": {
      "text/plain": [
       "N    17988\n",
       "Name: SN_IFI_OV_INFLUA, dtype: int64"
      ]
     },
     "execution_count": 638,
     "metadata": {},
     "output_type": "execute_result"
    }
   ],
   "source": [
    "data['SN_IFI_OV_INFLUA'].value_counts() #DROP"
   ]
  },
  {
   "cell_type": "code",
   "execution_count": 639,
   "id": "developed-fourth",
   "metadata": {},
   "outputs": [],
   "source": [
    "data = data.drop(['SN_IFI_OV_INFLUA'], axis=1)"
   ]
  },
  {
   "cell_type": "markdown",
   "id": "martial-valuable",
   "metadata": {},
   "source": [
    "#### [REMOVED] SN_IFI_OV_INFLUB"
   ]
  },
  {
   "cell_type": "code",
   "execution_count": 640,
   "id": "cordless-province",
   "metadata": {},
   "outputs": [
    {
     "data": {
      "text/plain": [
       "N    17988\n",
       "Name: SN_IFI_OV_INFLUB, dtype: int64"
      ]
     },
     "execution_count": 640,
     "metadata": {},
     "output_type": "execute_result"
    }
   ],
   "source": [
    "data['SN_IFI_OV_INFLUB'].value_counts() #DROP"
   ]
  },
  {
   "cell_type": "code",
   "execution_count": 641,
   "id": "banned-williams",
   "metadata": {},
   "outputs": [],
   "source": [
    "data = data.drop(['SN_IFI_OV_INFLUB'], axis=1)"
   ]
  },
  {
   "cell_type": "markdown",
   "id": "stuck-bearing",
   "metadata": {},
   "source": [
    "#### [REMOVED] SN_IFI_OV_ADENOVIRUS"
   ]
  },
  {
   "cell_type": "code",
   "execution_count": 642,
   "id": "underlying-notification",
   "metadata": {},
   "outputs": [
    {
     "data": {
      "text/plain": [
       "N    17988\n",
       "Name: SN_IFI_OV_ADENOVIRUS, dtype: int64"
      ]
     },
     "execution_count": 642,
     "metadata": {},
     "output_type": "execute_result"
    }
   ],
   "source": [
    "data['SN_IFI_OV_ADENOVIRUS'].value_counts() #DROP"
   ]
  },
  {
   "cell_type": "code",
   "execution_count": 643,
   "id": "accompanied-malaysia",
   "metadata": {},
   "outputs": [],
   "source": [
    "data = data.drop(['SN_IFI_OV_ADENOVIRUS'], axis=1)"
   ]
  },
  {
   "cell_type": "markdown",
   "id": "acoustic-graduate",
   "metadata": {},
   "source": [
    "#### SN_CRIT_CONTATO_CASO_COVID"
   ]
  },
  {
   "cell_type": "code",
   "execution_count": 644,
   "id": "bored-formation",
   "metadata": {},
   "outputs": [],
   "source": [
    "data['SN_CRIT_CONTATO_CASO_COVID'] = data['SN_CRIT_CONTATO_CASO_COVID'].fillna('NI')"
   ]
  },
  {
   "cell_type": "code",
   "execution_count": 645,
   "id": "relative-event",
   "metadata": {},
   "outputs": [
    {
     "data": {
      "text/plain": [
       "N     17979\n",
       "NI       26\n",
       "S         9\n",
       "Name: SN_CRIT_CONTATO_CASO_COVID, dtype: int64"
      ]
     },
     "execution_count": 645,
     "metadata": {},
     "output_type": "execute_result"
    }
   ],
   "source": [
    "data['SN_CRIT_CONTATO_CASO_COVID'].value_counts() "
   ]
  },
  {
   "cell_type": "code",
   "execution_count": 646,
   "id": "answering-miami",
   "metadata": {},
   "outputs": [],
   "source": [
    "data['SN_CRIT_CONTATO_CASO_COVID'] = data['SN_CRIT_CONTATO_CASO_COVID'].replace({'S': 1, 'N': 0, 'NI': 2})"
   ]
  },
  {
   "cell_type": "markdown",
   "id": "alien-wyoming",
   "metadata": {},
   "source": [
    "#### SN_CRIT_SRAG"
   ]
  },
  {
   "cell_type": "code",
   "execution_count": 647,
   "id": "incredible-invitation",
   "metadata": {},
   "outputs": [],
   "source": [
    "data['SN_CRIT_SRAG'] = data['SN_CRIT_SRAG'].fillna('NI')"
   ]
  },
  {
   "cell_type": "code",
   "execution_count": 648,
   "id": "organic-substance",
   "metadata": {},
   "outputs": [
    {
     "data": {
      "text/plain": [
       "N     17895\n",
       "S        93\n",
       "NI       26\n",
       "Name: SN_CRIT_SRAG, dtype: int64"
      ]
     },
     "execution_count": 648,
     "metadata": {},
     "output_type": "execute_result"
    }
   ],
   "source": [
    "data['SN_CRIT_SRAG'].value_counts()"
   ]
  },
  {
   "cell_type": "code",
   "execution_count": 649,
   "id": "worse-cuisine",
   "metadata": {},
   "outputs": [],
   "source": [
    "data['SN_CRIT_SRAG'] = data['SN_CRIT_SRAG'].replace({'S': 1, 'N': 0, 'NI': 2})"
   ]
  },
  {
   "cell_type": "markdown",
   "id": "dominant-temple",
   "metadata": {},
   "source": [
    "#### SN_CRIT_SINDROME_GRIPAL"
   ]
  },
  {
   "cell_type": "code",
   "execution_count": 650,
   "id": "saved-mortgage",
   "metadata": {},
   "outputs": [],
   "source": [
    "data['SN_CRIT_SINDROME_GRIPAL'] = data['SN_CRIT_SINDROME_GRIPAL'].fillna('NI')"
   ]
  },
  {
   "cell_type": "code",
   "execution_count": 651,
   "id": "romantic-conducting",
   "metadata": {},
   "outputs": [
    {
     "data": {
      "text/plain": [
       "N     17986\n",
       "NI       26\n",
       "S         2\n",
       "Name: SN_CRIT_SINDROME_GRIPAL, dtype: int64"
      ]
     },
     "execution_count": 651,
     "metadata": {},
     "output_type": "execute_result"
    }
   ],
   "source": [
    "data['SN_CRIT_SINDROME_GRIPAL'].value_counts()"
   ]
  },
  {
   "cell_type": "code",
   "execution_count": 652,
   "id": "chicken-provision",
   "metadata": {},
   "outputs": [],
   "source": [
    "data['SN_CRIT_SINDROME_GRIPAL'] = data['SN_CRIT_SINDROME_GRIPAL'].replace({'S': 1, 'N': 0, 'NI': 2})"
   ]
  },
  {
   "cell_type": "markdown",
   "id": "abstract-bracelet",
   "metadata": {},
   "source": [
    "#### SN_CRIT_OUTROS"
   ]
  },
  {
   "cell_type": "code",
   "execution_count": 653,
   "id": "instrumental-breach",
   "metadata": {},
   "outputs": [
    {
     "data": {
      "text/plain": [
       "N    17965\n",
       "S       23\n",
       "Name: SN_CRIT_OUTROS, dtype: int64"
      ]
     },
     "execution_count": 653,
     "metadata": {},
     "output_type": "execute_result"
    }
   ],
   "source": [
    "# Verificar\n",
    "data['SN_CRIT_OUTROS'].value_counts() #DROP"
   ]
  },
  {
   "cell_type": "code",
   "execution_count": 654,
   "id": "architectural-community",
   "metadata": {},
   "outputs": [],
   "source": [
    "data = data.drop(['SN_CRIT_OUTROS'], axis=1)"
   ]
  },
  {
   "cell_type": "markdown",
   "id": "accessible-horse",
   "metadata": {},
   "source": [
    "#### ESTUDO_TP_EXPOSICAO"
   ]
  },
  {
   "cell_type": "code",
   "execution_count": 655,
   "id": "fallen-allocation",
   "metadata": {},
   "outputs": [],
   "source": [
    "data['ESTUDO_TP_EXPOSICAO'] = data['ESTUDO_TP_EXPOSICAO'].fillna('NI')"
   ]
  },
  {
   "cell_type": "code",
   "execution_count": 656,
   "id": "reserved-specification",
   "metadata": {},
   "outputs": [
    {
     "data": {
      "text/plain": [
       "NI                                                       14929\n",
       "PROFISSIONAL DE SAUDE - HSL                               1351\n",
       "PROFISSIONAL DE SAÚDE - HSL                                906\n",
       "DESCONHECIDO                                               401\n",
       "HOSPITALAR HSL                                             282\n",
       "CONTATO COM SUSPEITO CONFIRMADO                            110\n",
       "PROFISSIONAL DE SAUDE                                       13\n",
       "INSTITUICAO DE LONGA PERMANENCIA                            10\n",
       "VIAGEM                                                       5\n",
       "HOSITALAR OU INSTITUICAO DE SAUDE                            5\n",
       "HOSITALAR OU INSTITUICAO DE SAUDE - OUTRA INSTITUICAO        2\n",
       "Name: ESTUDO_TP_EXPOSICAO, dtype: int64"
      ]
     },
     "execution_count": 656,
     "metadata": {},
     "output_type": "execute_result"
    }
   ],
   "source": [
    "data['ESTUDO_TP_EXPOSICAO'].value_counts()"
   ]
  },
  {
   "cell_type": "code",
   "execution_count": 657,
   "id": "numeric-clearance",
   "metadata": {},
   "outputs": [],
   "source": [
    "keys = data['ESTUDO_TP_EXPOSICAO'].value_counts().keys().tolist()"
   ]
  },
  {
   "cell_type": "code",
   "execution_count": 658,
   "id": "latter-arbitration",
   "metadata": {},
   "outputs": [],
   "source": [
    "dictToReplace = __getDictToReplace(keys)"
   ]
  },
  {
   "cell_type": "code",
   "execution_count": 659,
   "id": "dying-civilization",
   "metadata": {},
   "outputs": [
    {
     "data": {
      "text/plain": [
       "{'NI': 1,\n",
       " 'PROFISSIONAL DE SAUDE - HSL': 2,\n",
       " 'PROFISSIONAL DE SAÚDE - HSL': 3,\n",
       " 'DESCONHECIDO': 4,\n",
       " 'HOSPITALAR HSL': 5,\n",
       " 'CONTATO COM SUSPEITO CONFIRMADO': 6,\n",
       " 'PROFISSIONAL DE SAUDE': 7,\n",
       " 'INSTITUICAO DE LONGA PERMANENCIA': 8,\n",
       " 'VIAGEM': 9,\n",
       " 'HOSITALAR OU INSTITUICAO DE SAUDE': 10,\n",
       " 'HOSITALAR OU INSTITUICAO DE SAUDE - OUTRA INSTITUICAO': 11}"
      ]
     },
     "execution_count": 659,
     "metadata": {},
     "output_type": "execute_result"
    }
   ],
   "source": [
    "dictToReplace"
   ]
  },
  {
   "cell_type": "code",
   "execution_count": 660,
   "id": "reported-offense",
   "metadata": {},
   "outputs": [],
   "source": [
    "data['ESTUDO_TP_EXPOSICAO'] = data['ESTUDO_TP_EXPOSICAO'].replace(dictToReplace)"
   ]
  },
  {
   "cell_type": "markdown",
   "id": "executive-strike",
   "metadata": {},
   "source": [
    "#### ESTUDO_COMORB_PREV_HAS"
   ]
  },
  {
   "cell_type": "code",
   "execution_count": 661,
   "id": "wound-usage",
   "metadata": {},
   "outputs": [],
   "source": [
    "data['ESTUDO_COMORB_PREV_HAS'] = data['ESTUDO_COMORB_PREV_HAS'].fillna('NI')"
   ]
  },
  {
   "cell_type": "code",
   "execution_count": 662,
   "id": "cross-frequency",
   "metadata": {},
   "outputs": [
    {
     "data": {
      "text/plain": [
       "N     17800\n",
       "S       188\n",
       "NI       26\n",
       "Name: ESTUDO_COMORB_PREV_HAS, dtype: int64"
      ]
     },
     "execution_count": 662,
     "metadata": {},
     "output_type": "execute_result"
    }
   ],
   "source": [
    "data['ESTUDO_COMORB_PREV_HAS'].value_counts()"
   ]
  },
  {
   "cell_type": "code",
   "execution_count": 663,
   "id": "social-dakota",
   "metadata": {},
   "outputs": [],
   "source": [
    "data['ESTUDO_COMORB_PREV_HAS'] = data['ESTUDO_COMORB_PREV_HAS'].replace({'S': 1, 'N': 0, 'NI': 2})"
   ]
  },
  {
   "cell_type": "markdown",
   "id": "moderate-church",
   "metadata": {},
   "source": [
    "#### ESTUDO_COMORB_PREV_IAM"
   ]
  },
  {
   "cell_type": "code",
   "execution_count": 664,
   "id": "broad-correspondence",
   "metadata": {},
   "outputs": [],
   "source": [
    "data['ESTUDO_COMORB_PREV_IAM'] = data['ESTUDO_COMORB_PREV_IAM'].fillna('NI')"
   ]
  },
  {
   "cell_type": "code",
   "execution_count": 665,
   "id": "distant-chance",
   "metadata": {},
   "outputs": [
    {
     "data": {
      "text/plain": [
       "N     17961\n",
       "S        27\n",
       "NI       26\n",
       "Name: ESTUDO_COMORB_PREV_IAM, dtype: int64"
      ]
     },
     "execution_count": 665,
     "metadata": {},
     "output_type": "execute_result"
    }
   ],
   "source": [
    "data['ESTUDO_COMORB_PREV_IAM'].value_counts()"
   ]
  },
  {
   "cell_type": "code",
   "execution_count": 666,
   "id": "altered-portrait",
   "metadata": {},
   "outputs": [],
   "source": [
    "data['ESTUDO_COMORB_PREV_IAM'] = data['ESTUDO_COMORB_PREV_IAM'].replace({'S': 1, 'N': 0, 'NI': 2})"
   ]
  },
  {
   "cell_type": "markdown",
   "id": "focal-dutch",
   "metadata": {},
   "source": [
    "#### ESTUDO_COMORB_PREV_IC"
   ]
  },
  {
   "cell_type": "code",
   "execution_count": 667,
   "id": "lightweight-encoding",
   "metadata": {},
   "outputs": [],
   "source": [
    "data['ESTUDO_COMORB_PREV_IC'] = data['ESTUDO_COMORB_PREV_IC'].fillna('NI')"
   ]
  },
  {
   "cell_type": "code",
   "execution_count": 668,
   "id": "artificial-television",
   "metadata": {},
   "outputs": [
    {
     "data": {
      "text/plain": [
       "N     17964\n",
       "NI       26\n",
       "S        24\n",
       "Name: ESTUDO_COMORB_PREV_IC, dtype: int64"
      ]
     },
     "execution_count": 668,
     "metadata": {},
     "output_type": "execute_result"
    }
   ],
   "source": [
    "data['ESTUDO_COMORB_PREV_IC'].value_counts()"
   ]
  },
  {
   "cell_type": "code",
   "execution_count": 669,
   "id": "numerous-fisher",
   "metadata": {},
   "outputs": [],
   "source": [
    "data['ESTUDO_COMORB_PREV_IC'] = data['ESTUDO_COMORB_PREV_IC'].replace({'S': 1, 'N': 0, 'NI': 2})"
   ]
  },
  {
   "cell_type": "markdown",
   "id": "sophisticated-raising",
   "metadata": {},
   "source": [
    "#### ESTUDO_COMORB_PREV_DRC"
   ]
  },
  {
   "cell_type": "code",
   "execution_count": 670,
   "id": "broken-floor",
   "metadata": {},
   "outputs": [],
   "source": [
    "data['ESTUDO_COMORB_PREV_DRC'] = data['ESTUDO_COMORB_PREV_DRC'].fillna('NI')"
   ]
  },
  {
   "cell_type": "code",
   "execution_count": 671,
   "id": "existing-tolerance",
   "metadata": {},
   "outputs": [
    {
     "data": {
      "text/plain": [
       "N     17938\n",
       "S        50\n",
       "NI       26\n",
       "Name: ESTUDO_COMORB_PREV_DRC, dtype: int64"
      ]
     },
     "execution_count": 671,
     "metadata": {},
     "output_type": "execute_result"
    }
   ],
   "source": [
    "data['ESTUDO_COMORB_PREV_DRC'].value_counts()"
   ]
  },
  {
   "cell_type": "code",
   "execution_count": 672,
   "id": "rising-microwave",
   "metadata": {},
   "outputs": [],
   "source": [
    "data['ESTUDO_COMORB_PREV_DRC'] = data['ESTUDO_COMORB_PREV_DRC'].replace({'S': 1, 'N': 0, 'NI': 2})"
   ]
  },
  {
   "cell_type": "markdown",
   "id": "sixth-yellow",
   "metadata": {},
   "source": [
    "#### ESTUDO_COMORB_PREV_DMI"
   ]
  },
  {
   "cell_type": "code",
   "execution_count": 673,
   "id": "former-paper",
   "metadata": {},
   "outputs": [
    {
     "data": {
      "text/plain": [
       "N    17988\n",
       "Name: ESTUDO_COMORB_PREV_DMI, dtype: int64"
      ]
     },
     "execution_count": 673,
     "metadata": {},
     "output_type": "execute_result"
    }
   ],
   "source": [
    "data['ESTUDO_COMORB_PREV_DMI'].value_counts() #DROP"
   ]
  },
  {
   "cell_type": "code",
   "execution_count": 674,
   "id": "advance-copyright",
   "metadata": {},
   "outputs": [],
   "source": [
    "data = data.drop(['ESTUDO_COMORB_PREV_DMI'], axis=1)"
   ]
  },
  {
   "cell_type": "markdown",
   "id": "selective-device",
   "metadata": {},
   "source": [
    "#### ESTUDO_COMORB_PREV_DMII"
   ]
  },
  {
   "cell_type": "code",
   "execution_count": 675,
   "id": "serious-climb",
   "metadata": {},
   "outputs": [],
   "source": [
    "data['ESTUDO_COMORB_PREV_DMII'] = data['ESTUDO_COMORB_PREV_DMII'].fillna('NI')"
   ]
  },
  {
   "cell_type": "code",
   "execution_count": 676,
   "id": "constitutional-wrapping",
   "metadata": {},
   "outputs": [
    {
     "data": {
      "text/plain": [
       "N     17896\n",
       "S        92\n",
       "NI       26\n",
       "Name: ESTUDO_COMORB_PREV_DMII, dtype: int64"
      ]
     },
     "execution_count": 676,
     "metadata": {},
     "output_type": "execute_result"
    }
   ],
   "source": [
    "data['ESTUDO_COMORB_PREV_DMII'].value_counts()"
   ]
  },
  {
   "cell_type": "code",
   "execution_count": 677,
   "id": "contrary-coral",
   "metadata": {},
   "outputs": [],
   "source": [
    "data['ESTUDO_COMORB_PREV_DMII'] = data['ESTUDO_COMORB_PREV_DMII'].replace({'S': 1, 'N': 0, 'NI': 2})"
   ]
  },
  {
   "cell_type": "markdown",
   "id": "bound-bundle",
   "metadata": {},
   "source": [
    "#### ESTUDO_COMORB_PREV_CARCINOMA"
   ]
  },
  {
   "cell_type": "code",
   "execution_count": 678,
   "id": "remarkable-fleet",
   "metadata": {},
   "outputs": [],
   "source": [
    "data['ESTUDO_COMORB_PREV_CARCINOMA'] = data['ESTUDO_COMORB_PREV_CARCINOMA'].fillna('NI')"
   ]
  },
  {
   "cell_type": "code",
   "execution_count": 679,
   "id": "earlier-greek",
   "metadata": {},
   "outputs": [
    {
     "data": {
      "text/plain": [
       "N     17947\n",
       "S        41\n",
       "NI       26\n",
       "Name: ESTUDO_COMORB_PREV_CARCINOMA, dtype: int64"
      ]
     },
     "execution_count": 679,
     "metadata": {},
     "output_type": "execute_result"
    }
   ],
   "source": [
    "data['ESTUDO_COMORB_PREV_CARCINOMA'].value_counts()"
   ]
  },
  {
   "cell_type": "code",
   "execution_count": 680,
   "id": "elder-genesis",
   "metadata": {},
   "outputs": [],
   "source": [
    "data['ESTUDO_COMORB_PREV_CARCINOMA'] = data['ESTUDO_COMORB_PREV_CARCINOMA'].replace({'S': 1, 'N': 0, 'NI': 2})"
   ]
  },
  {
   "cell_type": "markdown",
   "id": "radical-judgment",
   "metadata": {},
   "source": [
    "#### ESTUDO_COMORB_PREV_ADENOMA"
   ]
  },
  {
   "cell_type": "code",
   "execution_count": 681,
   "id": "complicated-delhi",
   "metadata": {},
   "outputs": [
    {
     "data": {
      "text/plain": [
       "N    17987\n",
       "S        1\n",
       "Name: ESTUDO_COMORB_PREV_ADENOMA, dtype: int64"
      ]
     },
     "execution_count": 681,
     "metadata": {},
     "output_type": "execute_result"
    }
   ],
   "source": [
    "data['ESTUDO_COMORB_PREV_ADENOMA'].value_counts() #DROP"
   ]
  },
  {
   "cell_type": "code",
   "execution_count": 682,
   "id": "unavailable-choir",
   "metadata": {},
   "outputs": [],
   "source": [
    "data = data.drop(['ESTUDO_COMORB_PREV_ADENOMA'], axis=1)"
   ]
  },
  {
   "cell_type": "markdown",
   "id": "personal-biology",
   "metadata": {},
   "source": [
    "#### ESTUDO_COMORB_PREV_LINFOMA"
   ]
  },
  {
   "cell_type": "code",
   "execution_count": 683,
   "id": "executed-bidder",
   "metadata": {},
   "outputs": [
    {
     "data": {
      "text/plain": [
       "N    17988\n",
       "Name: ESTUDO_COMORB_PREV_LINFOMA, dtype: int64"
      ]
     },
     "execution_count": 683,
     "metadata": {},
     "output_type": "execute_result"
    }
   ],
   "source": [
    "data['ESTUDO_COMORB_PREV_LINFOMA'].value_counts() #DROP"
   ]
  },
  {
   "cell_type": "code",
   "execution_count": 684,
   "id": "aware-industry",
   "metadata": {},
   "outputs": [],
   "source": [
    "data = data.drop(['ESTUDO_COMORB_PREV_LINFOMA'], axis=1)"
   ]
  },
  {
   "cell_type": "markdown",
   "id": "impaired-disclosure",
   "metadata": {},
   "source": [
    "#### ESTUDO_COMORB_PREV_AVC"
   ]
  },
  {
   "cell_type": "code",
   "execution_count": 685,
   "id": "thermal-farming",
   "metadata": {},
   "outputs": [],
   "source": [
    "data['ESTUDO_COMORB_PREV_AVC'] = data['ESTUDO_COMORB_PREV_AVC'].fillna('NI')"
   ]
  },
  {
   "cell_type": "code",
   "execution_count": 686,
   "id": "addressed-contributor",
   "metadata": {},
   "outputs": [
    {
     "data": {
      "text/plain": [
       "N     17976\n",
       "NI       26\n",
       "S        12\n",
       "Name: ESTUDO_COMORB_PREV_AVC, dtype: int64"
      ]
     },
     "execution_count": 686,
     "metadata": {},
     "output_type": "execute_result"
    }
   ],
   "source": [
    "data['ESTUDO_COMORB_PREV_AVC'].value_counts()"
   ]
  },
  {
   "cell_type": "code",
   "execution_count": 687,
   "id": "appreciated-championship",
   "metadata": {},
   "outputs": [],
   "source": [
    "data['ESTUDO_COMORB_PREV_AVC'] = data['ESTUDO_COMORB_PREV_AVC'].replace({'S': 1, 'N': 0, 'NI': 2})"
   ]
  },
  {
   "cell_type": "markdown",
   "id": "vertical-narrative",
   "metadata": {},
   "source": [
    "#### ESTUDO_COMORB_PREV_ASMA"
   ]
  },
  {
   "cell_type": "code",
   "execution_count": 688,
   "id": "regular-douglas",
   "metadata": {},
   "outputs": [],
   "source": [
    "data['ESTUDO_COMORB_PREV_ASMA'] = data['ESTUDO_COMORB_PREV_ASMA'].fillna('NI')"
   ]
  },
  {
   "cell_type": "code",
   "execution_count": 689,
   "id": "oriental-cholesterol",
   "metadata": {},
   "outputs": [
    {
     "data": {
      "text/plain": [
       "N     17950\n",
       "S        38\n",
       "NI       26\n",
       "Name: ESTUDO_COMORB_PREV_ASMA, dtype: int64"
      ]
     },
     "execution_count": 689,
     "metadata": {},
     "output_type": "execute_result"
    }
   ],
   "source": [
    "data['ESTUDO_COMORB_PREV_ASMA'].value_counts()"
   ]
  },
  {
   "cell_type": "code",
   "execution_count": 690,
   "id": "closing-leather",
   "metadata": {},
   "outputs": [],
   "source": [
    "data['ESTUDO_COMORB_PREV_ASMA'] = data['ESTUDO_COMORB_PREV_ASMA'].replace({'S': 1, 'N': 0, 'NI': 2})"
   ]
  },
  {
   "cell_type": "markdown",
   "id": "copyrighted-pharmacology",
   "metadata": {},
   "source": [
    "#### ESTUDO_COMORB_PREV_DPOC"
   ]
  },
  {
   "cell_type": "code",
   "execution_count": 691,
   "id": "needed-semester",
   "metadata": {},
   "outputs": [],
   "source": [
    "data['ESTUDO_COMORB_PREV_DPOC'] = data['ESTUDO_COMORB_PREV_DPOC'].fillna('NI')"
   ]
  },
  {
   "cell_type": "code",
   "execution_count": 692,
   "id": "retired-tokyo",
   "metadata": {},
   "outputs": [
    {
     "data": {
      "text/plain": [
       "N     17964\n",
       "NI       26\n",
       "S        24\n",
       "Name: ESTUDO_COMORB_PREV_DPOC, dtype: int64"
      ]
     },
     "execution_count": 692,
     "metadata": {},
     "output_type": "execute_result"
    }
   ],
   "source": [
    "data['ESTUDO_COMORB_PREV_DPOC'].value_counts()"
   ]
  },
  {
   "cell_type": "code",
   "execution_count": 693,
   "id": "backed-hudson",
   "metadata": {},
   "outputs": [],
   "source": [
    "data['ESTUDO_COMORB_PREV_DPOC'] = data['ESTUDO_COMORB_PREV_DPOC'].replace({'S': 1, 'N': 0, 'NI': 2})"
   ]
  },
  {
   "cell_type": "markdown",
   "id": "single-watch",
   "metadata": {},
   "source": [
    "#### ESTUDO_COMORB_PREV_OBESIDADE"
   ]
  },
  {
   "cell_type": "code",
   "execution_count": 694,
   "id": "incomplete-biology",
   "metadata": {},
   "outputs": [],
   "source": [
    "data['ESTUDO_COMORB_PREV_OBESIDADE'] = data['ESTUDO_COMORB_PREV_OBESIDADE'].fillna('NI')"
   ]
  },
  {
   "cell_type": "code",
   "execution_count": 695,
   "id": "political-wedding",
   "metadata": {},
   "outputs": [
    {
     "data": {
      "text/plain": [
       "N     17962\n",
       "NI       26\n",
       "S        26\n",
       "Name: ESTUDO_COMORB_PREV_OBESIDADE, dtype: int64"
      ]
     },
     "execution_count": 695,
     "metadata": {},
     "output_type": "execute_result"
    }
   ],
   "source": [
    "data['ESTUDO_COMORB_PREV_OBESIDADE'].value_counts()"
   ]
  },
  {
   "cell_type": "code",
   "execution_count": 696,
   "id": "optical-minnesota",
   "metadata": {},
   "outputs": [],
   "source": [
    "data['ESTUDO_COMORB_PREV_OBESIDADE'] = data['ESTUDO_COMORB_PREV_OBESIDADE'].replace({'S': 1, 'N': 0, 'NI': 2})"
   ]
  },
  {
   "cell_type": "markdown",
   "id": "valid-effort",
   "metadata": {},
   "source": [
    "#### ESTUDO_COMORB_PREV_EPILEPSIA',"
   ]
  },
  {
   "cell_type": "code",
   "execution_count": 697,
   "id": "seventh-procedure",
   "metadata": {},
   "outputs": [],
   "source": [
    "data['ESTUDO_COMORB_PREV_EPILEPSIA'] = data['ESTUDO_COMORB_PREV_EPILEPSIA'].fillna('NI')"
   ]
  },
  {
   "cell_type": "code",
   "execution_count": 698,
   "id": "coastal-refrigerator",
   "metadata": {},
   "outputs": [
    {
     "data": {
      "text/plain": [
       "N     17982\n",
       "NI       26\n",
       "S         6\n",
       "Name: ESTUDO_COMORB_PREV_EPILEPSIA, dtype: int64"
      ]
     },
     "execution_count": 698,
     "metadata": {},
     "output_type": "execute_result"
    }
   ],
   "source": [
    "data['ESTUDO_COMORB_PREV_EPILEPSIA'].value_counts()"
   ]
  },
  {
   "cell_type": "code",
   "execution_count": 699,
   "id": "minor-helicopter",
   "metadata": {},
   "outputs": [],
   "source": [
    "data['ESTUDO_COMORB_PREV_EPILEPSIA'] = data['ESTUDO_COMORB_PREV_EPILEPSIA'].replace({'S': 1, 'N': 0, 'NI': 2})"
   ]
  },
  {
   "cell_type": "markdown",
   "id": "magnetic-challenge",
   "metadata": {},
   "source": [
    "#### ESTUDO_COMORB_PREV_HIGIDO"
   ]
  },
  {
   "cell_type": "code",
   "execution_count": 700,
   "id": "mature-norwegian",
   "metadata": {},
   "outputs": [],
   "source": [
    "data['ESTUDO_COMORB_PREV_HIGIDO'] = data['ESTUDO_COMORB_PREV_HIGIDO'].fillna('NI')"
   ]
  },
  {
   "cell_type": "code",
   "execution_count": 701,
   "id": "fluid-guess",
   "metadata": {},
   "outputs": [
    {
     "data": {
      "text/plain": [
       "N     17733\n",
       "S       255\n",
       "NI       26\n",
       "Name: ESTUDO_COMORB_PREV_HIGIDO, dtype: int64"
      ]
     },
     "execution_count": 701,
     "metadata": {},
     "output_type": "execute_result"
    }
   ],
   "source": [
    "data['ESTUDO_COMORB_PREV_HIGIDO'].value_counts()"
   ]
  },
  {
   "cell_type": "code",
   "execution_count": 702,
   "id": "ongoing-transaction",
   "metadata": {},
   "outputs": [],
   "source": [
    "data['ESTUDO_COMORB_PREV_HIGIDO'] = data['ESTUDO_COMORB_PREV_HIGIDO'].replace({'S': 1, 'N': 0, 'NI': 2})"
   ]
  },
  {
   "cell_type": "markdown",
   "id": "instrumental-legislation",
   "metadata": {},
   "source": [
    "#### ESTUDO_COMORB_PREV_OUTRAS"
   ]
  },
  {
   "cell_type": "code",
   "execution_count": 703,
   "id": "periodic-injury",
   "metadata": {},
   "outputs": [
    {
     "data": {
      "text/plain": [
       "HIGIDO                               233\n",
       "HAS                                   24\n",
       "HIGIDA                                21\n",
       "ASMA                                  19\n",
       "DESCONHECIDO                          12\n",
       "                                    ... \n",
       "EPILEPSIA, DOENÇA DE HIRSCHSPRUNG      1\n",
       "DM, OBESIDADE, DRC, MIELOLIPOMA        1\n",
       "ÉLCERA G STRICA                        1\n",
       "HAS, DM, OBESIDADE, TX RENAL, IAM      1\n",
       "TABAGISTA                              1\n",
       "Name: ESTUDO_COMORB_PREV_OUTRAS, Length: 202, dtype: int64"
      ]
     },
     "execution_count": 703,
     "metadata": {},
     "output_type": "execute_result"
    }
   ],
   "source": [
    "data['ESTUDO_COMORB_PREV_OUTRAS'].value_counts()"
   ]
  },
  {
   "cell_type": "code",
   "execution_count": 704,
   "id": "deadly-article",
   "metadata": {},
   "outputs": [],
   "source": [
    "data['ESTUDO_COMORB_PREV_OUTRAS'] = data['ESTUDO_COMORB_PREV_OUTRAS'].notna()"
   ]
  },
  {
   "cell_type": "code",
   "execution_count": 705,
   "id": "tribal-infrastructure",
   "metadata": {},
   "outputs": [
    {
     "data": {
      "text/plain": [
       "0    17361\n",
       "1      653\n",
       "Name: ESTUDO_COMORB_PREV_OUTRAS, dtype: int64"
      ]
     },
     "execution_count": 705,
     "metadata": {},
     "output_type": "execute_result"
    }
   ],
   "source": [
    "# data = data.drop(['ESTUDO_COMORB_PREV_OUTRAS'], axis=1)\n",
    "\n",
    "data['ESTUDO_COMORB_PREV_OUTRAS'] = data['ESTUDO_COMORB_PREV_OUTRAS'].replace({False: 0, True: 1})\n",
    "data['ESTUDO_COMORB_PREV_OUTRAS'].value_counts()"
   ]
  },
  {
   "cell_type": "markdown",
   "id": "controversial-portal",
   "metadata": {},
   "source": [
    "#### ESTUDO_CHARLSON"
   ]
  },
  {
   "cell_type": "code",
   "execution_count": 706,
   "id": "latin-screw",
   "metadata": {},
   "outputs": [
    {
     "name": "stdout",
     "output_type": "stream",
     "text": [
      "Valores Faltantes:  17682\n",
      "5.0     64\n",
      "2.0     64\n",
      "1.0     64\n",
      "4.0     37\n",
      "3.0     33\n",
      "6.0     30\n",
      "7.0     21\n",
      "10.0     9\n",
      "8.0      6\n",
      "0.0      3\n",
      "9.0      1\n",
      "Name: ESTUDO_CHARLSON, dtype: int64\n",
      "ESTUDO_CHARLSON:  [1.0, 5.0, 2.0, 6.0, 8.0, 4.0, 3.0, 7.0, 9.0, 10.0, 0.0]\n"
     ]
    },
    {
     "data": {
      "text/plain": [
       "17682"
      ]
     },
     "execution_count": 706,
     "metadata": {},
     "output_type": "execute_result"
    }
   ],
   "source": [
    "resume(\"ESTUDO_CHARLSON\", data)"
   ]
  },
  {
   "cell_type": "code",
   "execution_count": 707,
   "id": "attended-cleaners",
   "metadata": {},
   "outputs": [
    {
     "data": {
      "text/html": [
       "<div>\n",
       "<style scoped>\n",
       "    .dataframe tbody tr th:only-of-type {\n",
       "        vertical-align: middle;\n",
       "    }\n",
       "\n",
       "    .dataframe tbody tr th {\n",
       "        vertical-align: top;\n",
       "    }\n",
       "\n",
       "    .dataframe thead th {\n",
       "        text-align: right;\n",
       "    }\n",
       "</style>\n",
       "<table border=\"1\" class=\"dataframe\">\n",
       "  <thead>\n",
       "    <tr style=\"text-align: right;\">\n",
       "      <th></th>\n",
       "      <th>Unnamed: 0</th>\n",
       "      <th>COLETOU_AMOSTRA</th>\n",
       "      <th>IFI_OUTRO_VIRUS</th>\n",
       "      <th>STATUS_COVID_FROM_MRG_REG_EST</th>\n",
       "      <th>CD_PACIENTE</th>\n",
       "      <th>GENERO</th>\n",
       "      <th>IDADE</th>\n",
       "      <th>DIAGNOSTICO_SARS</th>\n",
       "      <th>CD_CID</th>\n",
       "      <th>DS_ESPECIALID_SAI</th>\n",
       "      <th>REINTER_30D</th>\n",
       "      <th>CARATER_ATENDIMENTO</th>\n",
       "      <th>EMERG_SERVICO</th>\n",
       "      <th>EMERG_RISCO</th>\n",
       "      <th>CID_DIAG_ATEND</th>\n",
       "      <th>CID_CAPITULO_DIAG</th>\n",
       "      <th>BLOCO_CENTRAL_ST</th>\n",
       "      <th>HEMODINAMICA_ST</th>\n",
       "      <th>EX_LAB_ST</th>\n",
       "      <th>EX_IMG_ST</th>\n",
       "      <th>EX_OUTROS_ST</th>\n",
       "      <th>TIPO_REGISTRO</th>\n",
       "      <th>SN_CRIT_CONTATO_CASO_COVID</th>\n",
       "      <th>SN_CRIT_SRAG</th>\n",
       "      <th>SN_CRIT_SINDROME_GRIPAL</th>\n",
       "      <th>ESTUDO_TP_EXPOSICAO</th>\n",
       "      <th>ESTUDO_COMORB_PREV_HAS</th>\n",
       "      <th>ESTUDO_COMORB_PREV_IAM</th>\n",
       "      <th>ESTUDO_COMORB_PREV_IC</th>\n",
       "      <th>ESTUDO_COMORB_PREV_DRC</th>\n",
       "      <th>ESTUDO_COMORB_PREV_DMII</th>\n",
       "      <th>ESTUDO_COMORB_PREV_CARCINOMA</th>\n",
       "      <th>ESTUDO_COMORB_PREV_AVC</th>\n",
       "      <th>ESTUDO_COMORB_PREV_ASMA</th>\n",
       "      <th>ESTUDO_COMORB_PREV_DPOC</th>\n",
       "      <th>ESTUDO_COMORB_PREV_OBESIDADE</th>\n",
       "      <th>ESTUDO_COMORB_PREV_EPILEPSIA</th>\n",
       "      <th>ESTUDO_COMORB_PREV_HIGIDO</th>\n",
       "      <th>ESTUDO_COMORB_PREV_OUTRAS</th>\n",
       "      <th>ESTUDO_CHARLSON</th>\n",
       "      <th>ESTUDO_FR_DIA_COLETA</th>\n",
       "      <th>ESTUDO_FC_DIA_COLETA</th>\n",
       "      <th>ESTUDO_PA_DIA_COLETA</th>\n",
       "      <th>ESTUDO_TEMPERATURA_DIA_COLETA</th>\n",
       "      <th>ESTUDO_SATURACAO_DIA_COLETA</th>\n",
       "      <th>ESTUDO_APACHE2</th>\n",
       "      <th>ESTUDO_RISCO</th>\n",
       "      <th>ESTUDO_TRATAMENTO</th>\n",
       "      <th>ESTUDO_COMORB_PREV_TX_ORG_SOL</th>\n",
       "      <th>ESTUDO_CONDUTA</th>\n",
       "      <th>ESTUDO_LOCAL_CONTAMINACAO</th>\n",
       "      <th>ESTUDO_LOCAL_CONTAM_UI</th>\n",
       "      <th>ESTUDO_DT_DESFECHO</th>\n",
       "      <th>ESTUDO_COMORB_PREV_DESCON</th>\n",
       "      <th>ESTUDO_COMORB_PREV_DVP</th>\n",
       "      <th>ESTUDO_COMORB_PREV_DEMENCIA</th>\n",
       "      <th>ESTUDO_COMORB_PREV_DTC</th>\n",
       "      <th>ESTUDO_COMORB_PREV_UP</th>\n",
       "      <th>ESTUDO_COMORB_PREV_DFL</th>\n",
       "      <th>ESTUDO_COMORB_PREV_DFM</th>\n",
       "      <th>ESTUDO_COMORB_PREV_HEMIPLEGIA</th>\n",
       "      <th>ESTUDO_COMORB_PREV_LEUCEMIA</th>\n",
       "      <th>ESTUDO_COMORB_PREV_HIV</th>\n",
       "      <th>ESTUDO_COMORB_PREV_TUL</th>\n",
       "      <th>ESTUDO_COMORB_PREV_TUM</th>\n",
       "      <th>STATUS_COVID_FROM_UTI</th>\n",
       "      <th>DTHR_LEITO</th>\n",
       "      <th>DATA_HORA_ENTRADA</th>\n",
       "      <th>REENTRADA</th>\n",
       "      <th>DTHR_IN_UTI</th>\n",
       "      <th>DTHR_OUT_UTI</th>\n",
       "      <th>DIAS_PRE_UTI</th>\n",
       "      <th>DIAS_NA_UTI</th>\n",
       "    </tr>\n",
       "  </thead>\n",
       "  <tbody>\n",
       "    <tr>\n",
       "      <th>24</th>\n",
       "      <td>97</td>\n",
       "      <td>1</td>\n",
       "      <td>2</td>\n",
       "      <td>CONFIRMADOS</td>\n",
       "      <td>1841470.0</td>\n",
       "      <td>1</td>\n",
       "      <td>52,3668949771689</td>\n",
       "      <td>1</td>\n",
       "      <td>2</td>\n",
       "      <td>1</td>\n",
       "      <td>0</td>\n",
       "      <td>1</td>\n",
       "      <td>1</td>\n",
       "      <td>1</td>\n",
       "      <td>2</td>\n",
       "      <td>1</td>\n",
       "      <td>0</td>\n",
       "      <td>0</td>\n",
       "      <td>1</td>\n",
       "      <td>1</td>\n",
       "      <td>0</td>\n",
       "      <td>0</td>\n",
       "      <td>0</td>\n",
       "      <td>1</td>\n",
       "      <td>0</td>\n",
       "      <td>4</td>\n",
       "      <td>0</td>\n",
       "      <td>0</td>\n",
       "      <td>0</td>\n",
       "      <td>0</td>\n",
       "      <td>0</td>\n",
       "      <td>0</td>\n",
       "      <td>0</td>\n",
       "      <td>0</td>\n",
       "      <td>0</td>\n",
       "      <td>0</td>\n",
       "      <td>0</td>\n",
       "      <td>1</td>\n",
       "      <td>1</td>\n",
       "      <td>1.0</td>\n",
       "      <td>NaN</td>\n",
       "      <td>NaN</td>\n",
       "      <td>NaN</td>\n",
       "      <td>NaN</td>\n",
       "      <td>NaN</td>\n",
       "      <td>NaN</td>\n",
       "      <td>NaN</td>\n",
       "      <td>NaN</td>\n",
       "      <td>N</td>\n",
       "      <td>L</td>\n",
       "      <td>EXTERNO</td>\n",
       "      <td>NaN</td>\n",
       "      <td>NaN</td>\n",
       "      <td>N</td>\n",
       "      <td>N</td>\n",
       "      <td>N</td>\n",
       "      <td>N</td>\n",
       "      <td>N</td>\n",
       "      <td>N</td>\n",
       "      <td>N</td>\n",
       "      <td>N</td>\n",
       "      <td>N</td>\n",
       "      <td>N</td>\n",
       "      <td>N</td>\n",
       "      <td>N</td>\n",
       "      <td>NaN</td>\n",
       "      <td>NaN</td>\n",
       "      <td>NaN</td>\n",
       "      <td>NaN</td>\n",
       "      <td>NaN</td>\n",
       "      <td>NaN</td>\n",
       "      <td>0.045139</td>\n",
       "      <td>0.000000</td>\n",
       "    </tr>\n",
       "    <tr>\n",
       "      <th>25</th>\n",
       "      <td>98</td>\n",
       "      <td>1</td>\n",
       "      <td>1</td>\n",
       "      <td>CONFIRMADOS</td>\n",
       "      <td>1111099.0</td>\n",
       "      <td>0</td>\n",
       "      <td>74,1203196347032</td>\n",
       "      <td>0</td>\n",
       "      <td>1</td>\n",
       "      <td>1</td>\n",
       "      <td>0</td>\n",
       "      <td>1</td>\n",
       "      <td>1</td>\n",
       "      <td>1</td>\n",
       "      <td>1</td>\n",
       "      <td>1</td>\n",
       "      <td>0</td>\n",
       "      <td>0</td>\n",
       "      <td>1</td>\n",
       "      <td>0</td>\n",
       "      <td>0</td>\n",
       "      <td>0</td>\n",
       "      <td>0</td>\n",
       "      <td>1</td>\n",
       "      <td>0</td>\n",
       "      <td>4</td>\n",
       "      <td>0</td>\n",
       "      <td>0</td>\n",
       "      <td>0</td>\n",
       "      <td>0</td>\n",
       "      <td>1</td>\n",
       "      <td>0</td>\n",
       "      <td>0</td>\n",
       "      <td>1</td>\n",
       "      <td>0</td>\n",
       "      <td>0</td>\n",
       "      <td>0</td>\n",
       "      <td>0</td>\n",
       "      <td>1</td>\n",
       "      <td>5.0</td>\n",
       "      <td>NaN</td>\n",
       "      <td>NaN</td>\n",
       "      <td>NaN</td>\n",
       "      <td>NaN</td>\n",
       "      <td>NaN</td>\n",
       "      <td>NaN</td>\n",
       "      <td>NaN</td>\n",
       "      <td>NaN</td>\n",
       "      <td>N</td>\n",
       "      <td>L</td>\n",
       "      <td>EXTERNO</td>\n",
       "      <td>NaN</td>\n",
       "      <td>NaN</td>\n",
       "      <td>N</td>\n",
       "      <td>N</td>\n",
       "      <td>N</td>\n",
       "      <td>N</td>\n",
       "      <td>N</td>\n",
       "      <td>N</td>\n",
       "      <td>N</td>\n",
       "      <td>N</td>\n",
       "      <td>N</td>\n",
       "      <td>N</td>\n",
       "      <td>N</td>\n",
       "      <td>N</td>\n",
       "      <td>NaN</td>\n",
       "      <td>NaN</td>\n",
       "      <td>NaN</td>\n",
       "      <td>NaN</td>\n",
       "      <td>NaN</td>\n",
       "      <td>NaN</td>\n",
       "      <td>4.161493</td>\n",
       "      <td>0.000000</td>\n",
       "    </tr>\n",
       "    <tr>\n",
       "      <th>43</th>\n",
       "      <td>139</td>\n",
       "      <td>1</td>\n",
       "      <td>2</td>\n",
       "      <td>CONFIRMADOS</td>\n",
       "      <td>2341063.0</td>\n",
       "      <td>0</td>\n",
       "      <td>58,112100456621</td>\n",
       "      <td>0</td>\n",
       "      <td>18</td>\n",
       "      <td>6</td>\n",
       "      <td>0</td>\n",
       "      <td>0</td>\n",
       "      <td>3</td>\n",
       "      <td>4</td>\n",
       "      <td>20</td>\n",
       "      <td>3</td>\n",
       "      <td>1</td>\n",
       "      <td>0</td>\n",
       "      <td>1</td>\n",
       "      <td>1</td>\n",
       "      <td>1</td>\n",
       "      <td>0</td>\n",
       "      <td>0</td>\n",
       "      <td>1</td>\n",
       "      <td>0</td>\n",
       "      <td>4</td>\n",
       "      <td>1</td>\n",
       "      <td>0</td>\n",
       "      <td>0</td>\n",
       "      <td>0</td>\n",
       "      <td>0</td>\n",
       "      <td>0</td>\n",
       "      <td>0</td>\n",
       "      <td>1</td>\n",
       "      <td>0</td>\n",
       "      <td>0</td>\n",
       "      <td>0</td>\n",
       "      <td>0</td>\n",
       "      <td>1</td>\n",
       "      <td>1.0</td>\n",
       "      <td>NaN</td>\n",
       "      <td>NaN</td>\n",
       "      <td>NaN</td>\n",
       "      <td>NaN</td>\n",
       "      <td>NaN</td>\n",
       "      <td>NaN</td>\n",
       "      <td>NaN</td>\n",
       "      <td>NaN</td>\n",
       "      <td>N</td>\n",
       "      <td>L</td>\n",
       "      <td>EXTERNO</td>\n",
       "      <td>NaN</td>\n",
       "      <td>NaN</td>\n",
       "      <td>N</td>\n",
       "      <td>N</td>\n",
       "      <td>N</td>\n",
       "      <td>N</td>\n",
       "      <td>N</td>\n",
       "      <td>N</td>\n",
       "      <td>N</td>\n",
       "      <td>N</td>\n",
       "      <td>N</td>\n",
       "      <td>N</td>\n",
       "      <td>N</td>\n",
       "      <td>N</td>\n",
       "      <td>CONFIRMADOS</td>\n",
       "      <td>11/04/2020 12:30:00</td>\n",
       "      <td>2020-04-28 23:40:04</td>\n",
       "      <td>1.0</td>\n",
       "      <td>28/04/2020 23:40:04</td>\n",
       "      <td>05/05/2020 15:48:22</td>\n",
       "      <td>17.465324</td>\n",
       "      <td>6.672431</td>\n",
       "    </tr>\n",
       "    <tr>\n",
       "      <th>68</th>\n",
       "      <td>185</td>\n",
       "      <td>1</td>\n",
       "      <td>2</td>\n",
       "      <td>CONFIRMADOS</td>\n",
       "      <td>2342397.0</td>\n",
       "      <td>0</td>\n",
       "      <td>63,7011415525114</td>\n",
       "      <td>0</td>\n",
       "      <td>57</td>\n",
       "      <td>2</td>\n",
       "      <td>0</td>\n",
       "      <td>0</td>\n",
       "      <td>3</td>\n",
       "      <td>4</td>\n",
       "      <td>55</td>\n",
       "      <td>5</td>\n",
       "      <td>1</td>\n",
       "      <td>0</td>\n",
       "      <td>1</td>\n",
       "      <td>1</td>\n",
       "      <td>1</td>\n",
       "      <td>1</td>\n",
       "      <td>0</td>\n",
       "      <td>1</td>\n",
       "      <td>0</td>\n",
       "      <td>5</td>\n",
       "      <td>1</td>\n",
       "      <td>0</td>\n",
       "      <td>0</td>\n",
       "      <td>0</td>\n",
       "      <td>0</td>\n",
       "      <td>0</td>\n",
       "      <td>0</td>\n",
       "      <td>0</td>\n",
       "      <td>0</td>\n",
       "      <td>0</td>\n",
       "      <td>0</td>\n",
       "      <td>0</td>\n",
       "      <td>1</td>\n",
       "      <td>2.0</td>\n",
       "      <td>NaN</td>\n",
       "      <td>NaN</td>\n",
       "      <td>NaN</td>\n",
       "      <td>NaN</td>\n",
       "      <td>NaN</td>\n",
       "      <td>NaN</td>\n",
       "      <td>NaN</td>\n",
       "      <td>NaN</td>\n",
       "      <td>N</td>\n",
       "      <td>L</td>\n",
       "      <td>UNIDADE DE INTERNACAO HSL</td>\n",
       "      <td>12.0</td>\n",
       "      <td>NaN</td>\n",
       "      <td>N</td>\n",
       "      <td>N</td>\n",
       "      <td>N</td>\n",
       "      <td>N</td>\n",
       "      <td>N</td>\n",
       "      <td>N</td>\n",
       "      <td>N</td>\n",
       "      <td>N</td>\n",
       "      <td>N</td>\n",
       "      <td>N</td>\n",
       "      <td>N</td>\n",
       "      <td>N</td>\n",
       "      <td>CONFIRMADOS</td>\n",
       "      <td>26/04/2020 14:28:34</td>\n",
       "      <td>2020-05-08 13:11:19</td>\n",
       "      <td>1.0</td>\n",
       "      <td>08/05/2020 13:11:19</td>\n",
       "      <td>11/05/2020 13:37:24</td>\n",
       "      <td>11.946354</td>\n",
       "      <td>3.018113</td>\n",
       "    </tr>\n",
       "    <tr>\n",
       "      <th>72</th>\n",
       "      <td>192</td>\n",
       "      <td>1</td>\n",
       "      <td>2</td>\n",
       "      <td>CONFIRMADOS</td>\n",
       "      <td>2238084.0</td>\n",
       "      <td>1</td>\n",
       "      <td>37,7011415525114</td>\n",
       "      <td>0</td>\n",
       "      <td>4</td>\n",
       "      <td>3</td>\n",
       "      <td>1</td>\n",
       "      <td>1</td>\n",
       "      <td>2</td>\n",
       "      <td>1</td>\n",
       "      <td>3</td>\n",
       "      <td>1</td>\n",
       "      <td>1</td>\n",
       "      <td>1</td>\n",
       "      <td>1</td>\n",
       "      <td>1</td>\n",
       "      <td>1</td>\n",
       "      <td>0</td>\n",
       "      <td>0</td>\n",
       "      <td>1</td>\n",
       "      <td>0</td>\n",
       "      <td>5</td>\n",
       "      <td>0</td>\n",
       "      <td>0</td>\n",
       "      <td>0</td>\n",
       "      <td>1</td>\n",
       "      <td>0</td>\n",
       "      <td>0</td>\n",
       "      <td>0</td>\n",
       "      <td>0</td>\n",
       "      <td>0</td>\n",
       "      <td>0</td>\n",
       "      <td>0</td>\n",
       "      <td>0</td>\n",
       "      <td>1</td>\n",
       "      <td>2.0</td>\n",
       "      <td>NaN</td>\n",
       "      <td>NaN</td>\n",
       "      <td>NaN</td>\n",
       "      <td>NaN</td>\n",
       "      <td>NaN</td>\n",
       "      <td>NaN</td>\n",
       "      <td>NaN</td>\n",
       "      <td>NaN</td>\n",
       "      <td>S</td>\n",
       "      <td>L</td>\n",
       "      <td>UNIDADE DE INTERNACAO HSL</td>\n",
       "      <td>12.0</td>\n",
       "      <td>NaN</td>\n",
       "      <td>N</td>\n",
       "      <td>N</td>\n",
       "      <td>N</td>\n",
       "      <td>N</td>\n",
       "      <td>N</td>\n",
       "      <td>N</td>\n",
       "      <td>N</td>\n",
       "      <td>N</td>\n",
       "      <td>N</td>\n",
       "      <td>N</td>\n",
       "      <td>N</td>\n",
       "      <td>N</td>\n",
       "      <td>NaN</td>\n",
       "      <td>NaN</td>\n",
       "      <td>NaN</td>\n",
       "      <td>NaN</td>\n",
       "      <td>NaN</td>\n",
       "      <td>NaN</td>\n",
       "      <td>84.982731</td>\n",
       "      <td>0.000000</td>\n",
       "    </tr>\n",
       "    <tr>\n",
       "      <th>...</th>\n",
       "      <td>...</td>\n",
       "      <td>...</td>\n",
       "      <td>...</td>\n",
       "      <td>...</td>\n",
       "      <td>...</td>\n",
       "      <td>...</td>\n",
       "      <td>...</td>\n",
       "      <td>...</td>\n",
       "      <td>...</td>\n",
       "      <td>...</td>\n",
       "      <td>...</td>\n",
       "      <td>...</td>\n",
       "      <td>...</td>\n",
       "      <td>...</td>\n",
       "      <td>...</td>\n",
       "      <td>...</td>\n",
       "      <td>...</td>\n",
       "      <td>...</td>\n",
       "      <td>...</td>\n",
       "      <td>...</td>\n",
       "      <td>...</td>\n",
       "      <td>...</td>\n",
       "      <td>...</td>\n",
       "      <td>...</td>\n",
       "      <td>...</td>\n",
       "      <td>...</td>\n",
       "      <td>...</td>\n",
       "      <td>...</td>\n",
       "      <td>...</td>\n",
       "      <td>...</td>\n",
       "      <td>...</td>\n",
       "      <td>...</td>\n",
       "      <td>...</td>\n",
       "      <td>...</td>\n",
       "      <td>...</td>\n",
       "      <td>...</td>\n",
       "      <td>...</td>\n",
       "      <td>...</td>\n",
       "      <td>...</td>\n",
       "      <td>...</td>\n",
       "      <td>...</td>\n",
       "      <td>...</td>\n",
       "      <td>...</td>\n",
       "      <td>...</td>\n",
       "      <td>...</td>\n",
       "      <td>...</td>\n",
       "      <td>...</td>\n",
       "      <td>...</td>\n",
       "      <td>...</td>\n",
       "      <td>...</td>\n",
       "      <td>...</td>\n",
       "      <td>...</td>\n",
       "      <td>...</td>\n",
       "      <td>...</td>\n",
       "      <td>...</td>\n",
       "      <td>...</td>\n",
       "      <td>...</td>\n",
       "      <td>...</td>\n",
       "      <td>...</td>\n",
       "      <td>...</td>\n",
       "      <td>...</td>\n",
       "      <td>...</td>\n",
       "      <td>...</td>\n",
       "      <td>...</td>\n",
       "      <td>...</td>\n",
       "      <td>...</td>\n",
       "      <td>...</td>\n",
       "      <td>...</td>\n",
       "      <td>...</td>\n",
       "      <td>...</td>\n",
       "      <td>...</td>\n",
       "      <td>...</td>\n",
       "      <td>...</td>\n",
       "    </tr>\n",
       "    <tr>\n",
       "      <th>16013</th>\n",
       "      <td>22523</td>\n",
       "      <td>1</td>\n",
       "      <td>2</td>\n",
       "      <td>NEGATIVOS</td>\n",
       "      <td>1264596.0</td>\n",
       "      <td>0</td>\n",
       "      <td>70,9751141552511</td>\n",
       "      <td>0</td>\n",
       "      <td>13</td>\n",
       "      <td>15</td>\n",
       "      <td>0</td>\n",
       "      <td>0</td>\n",
       "      <td>3</td>\n",
       "      <td>4</td>\n",
       "      <td>14</td>\n",
       "      <td>7</td>\n",
       "      <td>1</td>\n",
       "      <td>0</td>\n",
       "      <td>1</td>\n",
       "      <td>0</td>\n",
       "      <td>0</td>\n",
       "      <td>1</td>\n",
       "      <td>0</td>\n",
       "      <td>0</td>\n",
       "      <td>0</td>\n",
       "      <td>4</td>\n",
       "      <td>0</td>\n",
       "      <td>0</td>\n",
       "      <td>0</td>\n",
       "      <td>1</td>\n",
       "      <td>0</td>\n",
       "      <td>0</td>\n",
       "      <td>0</td>\n",
       "      <td>0</td>\n",
       "      <td>0</td>\n",
       "      <td>0</td>\n",
       "      <td>0</td>\n",
       "      <td>0</td>\n",
       "      <td>1</td>\n",
       "      <td>5.0</td>\n",
       "      <td>NaN</td>\n",
       "      <td>NaN</td>\n",
       "      <td>NaN</td>\n",
       "      <td>NaN</td>\n",
       "      <td>NaN</td>\n",
       "      <td>NaN</td>\n",
       "      <td>NaN</td>\n",
       "      <td>NaN</td>\n",
       "      <td>N</td>\n",
       "      <td>L</td>\n",
       "      <td>DESCONHECIDO</td>\n",
       "      <td>NaN</td>\n",
       "      <td>NaN</td>\n",
       "      <td>N</td>\n",
       "      <td>N</td>\n",
       "      <td>N</td>\n",
       "      <td>N</td>\n",
       "      <td>N</td>\n",
       "      <td>N</td>\n",
       "      <td>N</td>\n",
       "      <td>N</td>\n",
       "      <td>N</td>\n",
       "      <td>N</td>\n",
       "      <td>N</td>\n",
       "      <td>N</td>\n",
       "      <td>NaN</td>\n",
       "      <td>NaN</td>\n",
       "      <td>NaN</td>\n",
       "      <td>NaN</td>\n",
       "      <td>NaN</td>\n",
       "      <td>NaN</td>\n",
       "      <td>0.962280</td>\n",
       "      <td>0.000000</td>\n",
       "    </tr>\n",
       "    <tr>\n",
       "      <th>17171</th>\n",
       "      <td>23987</td>\n",
       "      <td>1</td>\n",
       "      <td>2</td>\n",
       "      <td>NEGATIVOS</td>\n",
       "      <td>653279.0</td>\n",
       "      <td>0</td>\n",
       "      <td>48,6052511415525</td>\n",
       "      <td>0</td>\n",
       "      <td>1006</td>\n",
       "      <td>6</td>\n",
       "      <td>0</td>\n",
       "      <td>0</td>\n",
       "      <td>3</td>\n",
       "      <td>4</td>\n",
       "      <td>1181</td>\n",
       "      <td>4</td>\n",
       "      <td>1</td>\n",
       "      <td>0</td>\n",
       "      <td>1</td>\n",
       "      <td>0</td>\n",
       "      <td>1</td>\n",
       "      <td>1</td>\n",
       "      <td>0</td>\n",
       "      <td>0</td>\n",
       "      <td>0</td>\n",
       "      <td>5</td>\n",
       "      <td>0</td>\n",
       "      <td>0</td>\n",
       "      <td>0</td>\n",
       "      <td>0</td>\n",
       "      <td>0</td>\n",
       "      <td>1</td>\n",
       "      <td>0</td>\n",
       "      <td>0</td>\n",
       "      <td>0</td>\n",
       "      <td>0</td>\n",
       "      <td>0</td>\n",
       "      <td>0</td>\n",
       "      <td>1</td>\n",
       "      <td>6.0</td>\n",
       "      <td>NaN</td>\n",
       "      <td>NaN</td>\n",
       "      <td>NaN</td>\n",
       "      <td>NaN</td>\n",
       "      <td>NaN</td>\n",
       "      <td>NaN</td>\n",
       "      <td>NaN</td>\n",
       "      <td>NaN</td>\n",
       "      <td>N</td>\n",
       "      <td>L</td>\n",
       "      <td>UNIDADE DE INTERNACAO HSL</td>\n",
       "      <td>6.0</td>\n",
       "      <td>NaN</td>\n",
       "      <td>N</td>\n",
       "      <td>N</td>\n",
       "      <td>N</td>\n",
       "      <td>N</td>\n",
       "      <td>N</td>\n",
       "      <td>N</td>\n",
       "      <td>N</td>\n",
       "      <td>N</td>\n",
       "      <td>N</td>\n",
       "      <td>N</td>\n",
       "      <td>N</td>\n",
       "      <td>S</td>\n",
       "      <td>NaN</td>\n",
       "      <td>NaN</td>\n",
       "      <td>NaN</td>\n",
       "      <td>NaN</td>\n",
       "      <td>NaN</td>\n",
       "      <td>NaN</td>\n",
       "      <td>5.086933</td>\n",
       "      <td>0.000000</td>\n",
       "    </tr>\n",
       "    <tr>\n",
       "      <th>17309</th>\n",
       "      <td>24255</td>\n",
       "      <td>1</td>\n",
       "      <td>2</td>\n",
       "      <td>CONFIRMADOS</td>\n",
       "      <td>319303.0</td>\n",
       "      <td>0</td>\n",
       "      <td>55,8436073059361</td>\n",
       "      <td>0</td>\n",
       "      <td>1</td>\n",
       "      <td>1</td>\n",
       "      <td>0</td>\n",
       "      <td>1</td>\n",
       "      <td>1</td>\n",
       "      <td>2</td>\n",
       "      <td>1</td>\n",
       "      <td>1</td>\n",
       "      <td>0</td>\n",
       "      <td>0</td>\n",
       "      <td>1</td>\n",
       "      <td>0</td>\n",
       "      <td>0</td>\n",
       "      <td>1</td>\n",
       "      <td>0</td>\n",
       "      <td>0</td>\n",
       "      <td>0</td>\n",
       "      <td>2</td>\n",
       "      <td>0</td>\n",
       "      <td>0</td>\n",
       "      <td>0</td>\n",
       "      <td>0</td>\n",
       "      <td>0</td>\n",
       "      <td>0</td>\n",
       "      <td>0</td>\n",
       "      <td>0</td>\n",
       "      <td>0</td>\n",
       "      <td>0</td>\n",
       "      <td>0</td>\n",
       "      <td>1</td>\n",
       "      <td>1</td>\n",
       "      <td>1.0</td>\n",
       "      <td>NaN</td>\n",
       "      <td>NaN</td>\n",
       "      <td>NaN</td>\n",
       "      <td>NaN</td>\n",
       "      <td>NaN</td>\n",
       "      <td>NaN</td>\n",
       "      <td>NaN</td>\n",
       "      <td>NaN</td>\n",
       "      <td>N</td>\n",
       "      <td>L</td>\n",
       "      <td>EXTERNO</td>\n",
       "      <td>NaN</td>\n",
       "      <td>NaN</td>\n",
       "      <td>N</td>\n",
       "      <td>N</td>\n",
       "      <td>N</td>\n",
       "      <td>N</td>\n",
       "      <td>N</td>\n",
       "      <td>N</td>\n",
       "      <td>N</td>\n",
       "      <td>N</td>\n",
       "      <td>N</td>\n",
       "      <td>N</td>\n",
       "      <td>N</td>\n",
       "      <td>N</td>\n",
       "      <td>NaN</td>\n",
       "      <td>NaN</td>\n",
       "      <td>NaN</td>\n",
       "      <td>NaN</td>\n",
       "      <td>NaN</td>\n",
       "      <td>NaN</td>\n",
       "      <td>0.065278</td>\n",
       "      <td>0.000000</td>\n",
       "    </tr>\n",
       "    <tr>\n",
       "      <th>17462</th>\n",
       "      <td>24562</td>\n",
       "      <td>1</td>\n",
       "      <td>2</td>\n",
       "      <td>CONFIRMADOS</td>\n",
       "      <td>795501.0</td>\n",
       "      <td>0</td>\n",
       "      <td>37,9915525114155</td>\n",
       "      <td>0</td>\n",
       "      <td>1</td>\n",
       "      <td>1</td>\n",
       "      <td>0</td>\n",
       "      <td>1</td>\n",
       "      <td>1</td>\n",
       "      <td>3</td>\n",
       "      <td>1</td>\n",
       "      <td>1</td>\n",
       "      <td>0</td>\n",
       "      <td>0</td>\n",
       "      <td>1</td>\n",
       "      <td>1</td>\n",
       "      <td>0</td>\n",
       "      <td>1</td>\n",
       "      <td>0</td>\n",
       "      <td>0</td>\n",
       "      <td>0</td>\n",
       "      <td>4</td>\n",
       "      <td>0</td>\n",
       "      <td>0</td>\n",
       "      <td>0</td>\n",
       "      <td>0</td>\n",
       "      <td>1</td>\n",
       "      <td>0</td>\n",
       "      <td>0</td>\n",
       "      <td>0</td>\n",
       "      <td>0</td>\n",
       "      <td>0</td>\n",
       "      <td>0</td>\n",
       "      <td>0</td>\n",
       "      <td>1</td>\n",
       "      <td>2.0</td>\n",
       "      <td>NaN</td>\n",
       "      <td>NaN</td>\n",
       "      <td>NaN</td>\n",
       "      <td>NaN</td>\n",
       "      <td>NaN</td>\n",
       "      <td>NaN</td>\n",
       "      <td>NaN</td>\n",
       "      <td>NaN</td>\n",
       "      <td>N</td>\n",
       "      <td>L</td>\n",
       "      <td>EXTERNO</td>\n",
       "      <td>NaN</td>\n",
       "      <td>NaN</td>\n",
       "      <td>N</td>\n",
       "      <td>N</td>\n",
       "      <td>N</td>\n",
       "      <td>N</td>\n",
       "      <td>N</td>\n",
       "      <td>N</td>\n",
       "      <td>N</td>\n",
       "      <td>N</td>\n",
       "      <td>N</td>\n",
       "      <td>N</td>\n",
       "      <td>N</td>\n",
       "      <td>N</td>\n",
       "      <td>NaN</td>\n",
       "      <td>NaN</td>\n",
       "      <td>NaN</td>\n",
       "      <td>NaN</td>\n",
       "      <td>NaN</td>\n",
       "      <td>NaN</td>\n",
       "      <td>0.159028</td>\n",
       "      <td>0.000000</td>\n",
       "    </tr>\n",
       "    <tr>\n",
       "      <th>17470</th>\n",
       "      <td>24570</td>\n",
       "      <td>1</td>\n",
       "      <td>2</td>\n",
       "      <td>CONFIRMADOS</td>\n",
       "      <td>795501.0</td>\n",
       "      <td>0</td>\n",
       "      <td>37,9942922374429</td>\n",
       "      <td>0</td>\n",
       "      <td>176</td>\n",
       "      <td>1</td>\n",
       "      <td>0</td>\n",
       "      <td>1</td>\n",
       "      <td>1</td>\n",
       "      <td>3</td>\n",
       "      <td>181</td>\n",
       "      <td>12</td>\n",
       "      <td>0</td>\n",
       "      <td>0</td>\n",
       "      <td>1</td>\n",
       "      <td>1</td>\n",
       "      <td>0</td>\n",
       "      <td>1</td>\n",
       "      <td>0</td>\n",
       "      <td>0</td>\n",
       "      <td>0</td>\n",
       "      <td>4</td>\n",
       "      <td>0</td>\n",
       "      <td>0</td>\n",
       "      <td>0</td>\n",
       "      <td>0</td>\n",
       "      <td>1</td>\n",
       "      <td>0</td>\n",
       "      <td>0</td>\n",
       "      <td>0</td>\n",
       "      <td>0</td>\n",
       "      <td>0</td>\n",
       "      <td>0</td>\n",
       "      <td>0</td>\n",
       "      <td>1</td>\n",
       "      <td>2.0</td>\n",
       "      <td>NaN</td>\n",
       "      <td>NaN</td>\n",
       "      <td>NaN</td>\n",
       "      <td>NaN</td>\n",
       "      <td>NaN</td>\n",
       "      <td>NaN</td>\n",
       "      <td>NaN</td>\n",
       "      <td>NaN</td>\n",
       "      <td>N</td>\n",
       "      <td>L</td>\n",
       "      <td>EXTERNO</td>\n",
       "      <td>NaN</td>\n",
       "      <td>NaN</td>\n",
       "      <td>N</td>\n",
       "      <td>N</td>\n",
       "      <td>N</td>\n",
       "      <td>N</td>\n",
       "      <td>N</td>\n",
       "      <td>N</td>\n",
       "      <td>N</td>\n",
       "      <td>N</td>\n",
       "      <td>N</td>\n",
       "      <td>N</td>\n",
       "      <td>N</td>\n",
       "      <td>N</td>\n",
       "      <td>NaN</td>\n",
       "      <td>NaN</td>\n",
       "      <td>NaN</td>\n",
       "      <td>NaN</td>\n",
       "      <td>NaN</td>\n",
       "      <td>NaN</td>\n",
       "      <td>9.533171</td>\n",
       "      <td>0.000000</td>\n",
       "    </tr>\n",
       "  </tbody>\n",
       "</table>\n",
       "<p>332 rows × 73 columns</p>\n",
       "</div>"
      ],
      "text/plain": [
       "       Unnamed: 0  COLETOU_AMOSTRA  IFI_OUTRO_VIRUS  \\\n",
       "24             97                1                2   \n",
       "25             98                1                1   \n",
       "43            139                1                2   \n",
       "68            185                1                2   \n",
       "72            192                1                2   \n",
       "...           ...              ...              ...   \n",
       "16013       22523                1                2   \n",
       "17171       23987                1                2   \n",
       "17309       24255                1                2   \n",
       "17462       24562                1                2   \n",
       "17470       24570                1                2   \n",
       "\n",
       "      STATUS_COVID_FROM_MRG_REG_EST  CD_PACIENTE GENERO             IDADE  \\\n",
       "24                      CONFIRMADOS    1841470.0      1  52,3668949771689   \n",
       "25                      CONFIRMADOS    1111099.0      0  74,1203196347032   \n",
       "43                      CONFIRMADOS    2341063.0      0   58,112100456621   \n",
       "68                      CONFIRMADOS    2342397.0      0  63,7011415525114   \n",
       "72                      CONFIRMADOS    2238084.0      1  37,7011415525114   \n",
       "...                             ...          ...    ...               ...   \n",
       "16013                     NEGATIVOS    1264596.0      0  70,9751141552511   \n",
       "17171                     NEGATIVOS     653279.0      0  48,6052511415525   \n",
       "17309                   CONFIRMADOS     319303.0      0  55,8436073059361   \n",
       "17462                   CONFIRMADOS     795501.0      0  37,9915525114155   \n",
       "17470                   CONFIRMADOS     795501.0      0  37,9942922374429   \n",
       "\n",
       "       DIAGNOSTICO_SARS  CD_CID  DS_ESPECIALID_SAI  REINTER_30D  \\\n",
       "24                    1       2                  1            0   \n",
       "25                    0       1                  1            0   \n",
       "43                    0      18                  6            0   \n",
       "68                    0      57                  2            0   \n",
       "72                    0       4                  3            1   \n",
       "...                 ...     ...                ...          ...   \n",
       "16013                 0      13                 15            0   \n",
       "17171                 0    1006                  6            0   \n",
       "17309                 0       1                  1            0   \n",
       "17462                 0       1                  1            0   \n",
       "17470                 0     176                  1            0   \n",
       "\n",
       "       CARATER_ATENDIMENTO  EMERG_SERVICO  EMERG_RISCO  CID_DIAG_ATEND  \\\n",
       "24                       1              1            1               2   \n",
       "25                       1              1            1               1   \n",
       "43                       0              3            4              20   \n",
       "68                       0              3            4              55   \n",
       "72                       1              2            1               3   \n",
       "...                    ...            ...          ...             ...   \n",
       "16013                    0              3            4              14   \n",
       "17171                    0              3            4            1181   \n",
       "17309                    1              1            2               1   \n",
       "17462                    1              1            3               1   \n",
       "17470                    1              1            3             181   \n",
       "\n",
       "       CID_CAPITULO_DIAG  BLOCO_CENTRAL_ST  HEMODINAMICA_ST  EX_LAB_ST  \\\n",
       "24                     1                 0                0          1   \n",
       "25                     1                 0                0          1   \n",
       "43                     3                 1                0          1   \n",
       "68                     5                 1                0          1   \n",
       "72                     1                 1                1          1   \n",
       "...                  ...               ...              ...        ...   \n",
       "16013                  7                 1                0          1   \n",
       "17171                  4                 1                0          1   \n",
       "17309                  1                 0                0          1   \n",
       "17462                  1                 0                0          1   \n",
       "17470                 12                 0                0          1   \n",
       "\n",
       "       EX_IMG_ST  EX_OUTROS_ST  TIPO_REGISTRO  SN_CRIT_CONTATO_CASO_COVID  \\\n",
       "24             1             0              0                           0   \n",
       "25             0             0              0                           0   \n",
       "43             1             1              0                           0   \n",
       "68             1             1              1                           0   \n",
       "72             1             1              0                           0   \n",
       "...          ...           ...            ...                         ...   \n",
       "16013          0             0              1                           0   \n",
       "17171          0             1              1                           0   \n",
       "17309          0             0              1                           0   \n",
       "17462          1             0              1                           0   \n",
       "17470          1             0              1                           0   \n",
       "\n",
       "       SN_CRIT_SRAG  SN_CRIT_SINDROME_GRIPAL  ESTUDO_TP_EXPOSICAO  \\\n",
       "24                1                        0                    4   \n",
       "25                1                        0                    4   \n",
       "43                1                        0                    4   \n",
       "68                1                        0                    5   \n",
       "72                1                        0                    5   \n",
       "...             ...                      ...                  ...   \n",
       "16013             0                        0                    4   \n",
       "17171             0                        0                    5   \n",
       "17309             0                        0                    2   \n",
       "17462             0                        0                    4   \n",
       "17470             0                        0                    4   \n",
       "\n",
       "       ESTUDO_COMORB_PREV_HAS  ESTUDO_COMORB_PREV_IAM  ESTUDO_COMORB_PREV_IC  \\\n",
       "24                          0                       0                      0   \n",
       "25                          0                       0                      0   \n",
       "43                          1                       0                      0   \n",
       "68                          1                       0                      0   \n",
       "72                          0                       0                      0   \n",
       "...                       ...                     ...                    ...   \n",
       "16013                       0                       0                      0   \n",
       "17171                       0                       0                      0   \n",
       "17309                       0                       0                      0   \n",
       "17462                       0                       0                      0   \n",
       "17470                       0                       0                      0   \n",
       "\n",
       "       ESTUDO_COMORB_PREV_DRC  ESTUDO_COMORB_PREV_DMII  \\\n",
       "24                          0                        0   \n",
       "25                          0                        1   \n",
       "43                          0                        0   \n",
       "68                          0                        0   \n",
       "72                          1                        0   \n",
       "...                       ...                      ...   \n",
       "16013                       1                        0   \n",
       "17171                       0                        0   \n",
       "17309                       0                        0   \n",
       "17462                       0                        1   \n",
       "17470                       0                        1   \n",
       "\n",
       "       ESTUDO_COMORB_PREV_CARCINOMA  ESTUDO_COMORB_PREV_AVC  \\\n",
       "24                                0                       0   \n",
       "25                                0                       0   \n",
       "43                                0                       0   \n",
       "68                                0                       0   \n",
       "72                                0                       0   \n",
       "...                             ...                     ...   \n",
       "16013                             0                       0   \n",
       "17171                             1                       0   \n",
       "17309                             0                       0   \n",
       "17462                             0                       0   \n",
       "17470                             0                       0   \n",
       "\n",
       "       ESTUDO_COMORB_PREV_ASMA  ESTUDO_COMORB_PREV_DPOC  \\\n",
       "24                           0                        0   \n",
       "25                           1                        0   \n",
       "43                           1                        0   \n",
       "68                           0                        0   \n",
       "72                           0                        0   \n",
       "...                        ...                      ...   \n",
       "16013                        0                        0   \n",
       "17171                        0                        0   \n",
       "17309                        0                        0   \n",
       "17462                        0                        0   \n",
       "17470                        0                        0   \n",
       "\n",
       "       ESTUDO_COMORB_PREV_OBESIDADE  ESTUDO_COMORB_PREV_EPILEPSIA  \\\n",
       "24                                0                             0   \n",
       "25                                0                             0   \n",
       "43                                0                             0   \n",
       "68                                0                             0   \n",
       "72                                0                             0   \n",
       "...                             ...                           ...   \n",
       "16013                             0                             0   \n",
       "17171                             0                             0   \n",
       "17309                             0                             0   \n",
       "17462                             0                             0   \n",
       "17470                             0                             0   \n",
       "\n",
       "       ESTUDO_COMORB_PREV_HIGIDO  ESTUDO_COMORB_PREV_OUTRAS  ESTUDO_CHARLSON  \\\n",
       "24                             1                          1              1.0   \n",
       "25                             0                          1              5.0   \n",
       "43                             0                          1              1.0   \n",
       "68                             0                          1              2.0   \n",
       "72                             0                          1              2.0   \n",
       "...                          ...                        ...              ...   \n",
       "16013                          0                          1              5.0   \n",
       "17171                          0                          1              6.0   \n",
       "17309                          1                          1              1.0   \n",
       "17462                          0                          1              2.0   \n",
       "17470                          0                          1              2.0   \n",
       "\n",
       "      ESTUDO_FR_DIA_COLETA  ESTUDO_FC_DIA_COLETA ESTUDO_PA_DIA_COLETA  \\\n",
       "24                     NaN                   NaN                  NaN   \n",
       "25                     NaN                   NaN                  NaN   \n",
       "43                     NaN                   NaN                  NaN   \n",
       "68                     NaN                   NaN                  NaN   \n",
       "72                     NaN                   NaN                  NaN   \n",
       "...                    ...                   ...                  ...   \n",
       "16013                  NaN                   NaN                  NaN   \n",
       "17171                  NaN                   NaN                  NaN   \n",
       "17309                  NaN                   NaN                  NaN   \n",
       "17462                  NaN                   NaN                  NaN   \n",
       "17470                  NaN                   NaN                  NaN   \n",
       "\n",
       "      ESTUDO_TEMPERATURA_DIA_COLETA ESTUDO_SATURACAO_DIA_COLETA  \\\n",
       "24                              NaN                         NaN   \n",
       "25                              NaN                         NaN   \n",
       "43                              NaN                         NaN   \n",
       "68                              NaN                         NaN   \n",
       "72                              NaN                         NaN   \n",
       "...                             ...                         ...   \n",
       "16013                           NaN                         NaN   \n",
       "17171                           NaN                         NaN   \n",
       "17309                           NaN                         NaN   \n",
       "17462                           NaN                         NaN   \n",
       "17470                           NaN                         NaN   \n",
       "\n",
       "       ESTUDO_APACHE2  ESTUDO_RISCO ESTUDO_TRATAMENTO  \\\n",
       "24                NaN           NaN               NaN   \n",
       "25                NaN           NaN               NaN   \n",
       "43                NaN           NaN               NaN   \n",
       "68                NaN           NaN               NaN   \n",
       "72                NaN           NaN               NaN   \n",
       "...               ...           ...               ...   \n",
       "16013             NaN           NaN               NaN   \n",
       "17171             NaN           NaN               NaN   \n",
       "17309             NaN           NaN               NaN   \n",
       "17462             NaN           NaN               NaN   \n",
       "17470             NaN           NaN               NaN   \n",
       "\n",
       "      ESTUDO_COMORB_PREV_TX_ORG_SOL ESTUDO_CONDUTA  ESTUDO_LOCAL_CONTAMINACAO  \\\n",
       "24                                N              L                    EXTERNO   \n",
       "25                                N              L                    EXTERNO   \n",
       "43                                N              L                    EXTERNO   \n",
       "68                                N              L  UNIDADE DE INTERNACAO HSL   \n",
       "72                                S              L  UNIDADE DE INTERNACAO HSL   \n",
       "...                             ...            ...                        ...   \n",
       "16013                             N              L               DESCONHECIDO   \n",
       "17171                             N              L  UNIDADE DE INTERNACAO HSL   \n",
       "17309                             N              L                    EXTERNO   \n",
       "17462                             N              L                    EXTERNO   \n",
       "17470                             N              L                    EXTERNO   \n",
       "\n",
       "       ESTUDO_LOCAL_CONTAM_UI ESTUDO_DT_DESFECHO ESTUDO_COMORB_PREV_DESCON  \\\n",
       "24                        NaN                NaN                         N   \n",
       "25                        NaN                NaN                         N   \n",
       "43                        NaN                NaN                         N   \n",
       "68                       12.0                NaN                         N   \n",
       "72                       12.0                NaN                         N   \n",
       "...                       ...                ...                       ...   \n",
       "16013                     NaN                NaN                         N   \n",
       "17171                     6.0                NaN                         N   \n",
       "17309                     NaN                NaN                         N   \n",
       "17462                     NaN                NaN                         N   \n",
       "17470                     NaN                NaN                         N   \n",
       "\n",
       "      ESTUDO_COMORB_PREV_DVP ESTUDO_COMORB_PREV_DEMENCIA  \\\n",
       "24                         N                           N   \n",
       "25                         N                           N   \n",
       "43                         N                           N   \n",
       "68                         N                           N   \n",
       "72                         N                           N   \n",
       "...                      ...                         ...   \n",
       "16013                      N                           N   \n",
       "17171                      N                           N   \n",
       "17309                      N                           N   \n",
       "17462                      N                           N   \n",
       "17470                      N                           N   \n",
       "\n",
       "      ESTUDO_COMORB_PREV_DTC ESTUDO_COMORB_PREV_UP ESTUDO_COMORB_PREV_DFL  \\\n",
       "24                         N                     N                      N   \n",
       "25                         N                     N                      N   \n",
       "43                         N                     N                      N   \n",
       "68                         N                     N                      N   \n",
       "72                         N                     N                      N   \n",
       "...                      ...                   ...                    ...   \n",
       "16013                      N                     N                      N   \n",
       "17171                      N                     N                      N   \n",
       "17309                      N                     N                      N   \n",
       "17462                      N                     N                      N   \n",
       "17470                      N                     N                      N   \n",
       "\n",
       "      ESTUDO_COMORB_PREV_DFM ESTUDO_COMORB_PREV_HEMIPLEGIA  \\\n",
       "24                         N                             N   \n",
       "25                         N                             N   \n",
       "43                         N                             N   \n",
       "68                         N                             N   \n",
       "72                         N                             N   \n",
       "...                      ...                           ...   \n",
       "16013                      N                             N   \n",
       "17171                      N                             N   \n",
       "17309                      N                             N   \n",
       "17462                      N                             N   \n",
       "17470                      N                             N   \n",
       "\n",
       "      ESTUDO_COMORB_PREV_LEUCEMIA ESTUDO_COMORB_PREV_HIV  \\\n",
       "24                              N                      N   \n",
       "25                              N                      N   \n",
       "43                              N                      N   \n",
       "68                              N                      N   \n",
       "72                              N                      N   \n",
       "...                           ...                    ...   \n",
       "16013                           N                      N   \n",
       "17171                           N                      N   \n",
       "17309                           N                      N   \n",
       "17462                           N                      N   \n",
       "17470                           N                      N   \n",
       "\n",
       "      ESTUDO_COMORB_PREV_TUL ESTUDO_COMORB_PREV_TUM STATUS_COVID_FROM_UTI  \\\n",
       "24                         N                      N                   NaN   \n",
       "25                         N                      N                   NaN   \n",
       "43                         N                      N           CONFIRMADOS   \n",
       "68                         N                      N           CONFIRMADOS   \n",
       "72                         N                      N                   NaN   \n",
       "...                      ...                    ...                   ...   \n",
       "16013                      N                      N                   NaN   \n",
       "17171                      N                      S                   NaN   \n",
       "17309                      N                      N                   NaN   \n",
       "17462                      N                      N                   NaN   \n",
       "17470                      N                      N                   NaN   \n",
       "\n",
       "                DTHR_LEITO    DATA_HORA_ENTRADA  REENTRADA  \\\n",
       "24                     NaN                  NaN        NaN   \n",
       "25                     NaN                  NaN        NaN   \n",
       "43     11/04/2020 12:30:00  2020-04-28 23:40:04        1.0   \n",
       "68     26/04/2020 14:28:34  2020-05-08 13:11:19        1.0   \n",
       "72                     NaN                  NaN        NaN   \n",
       "...                    ...                  ...        ...   \n",
       "16013                  NaN                  NaN        NaN   \n",
       "17171                  NaN                  NaN        NaN   \n",
       "17309                  NaN                  NaN        NaN   \n",
       "17462                  NaN                  NaN        NaN   \n",
       "17470                  NaN                  NaN        NaN   \n",
       "\n",
       "               DTHR_IN_UTI         DTHR_OUT_UTI  DIAS_PRE_UTI  DIAS_NA_UTI  \n",
       "24                     NaN                  NaN      0.045139     0.000000  \n",
       "25                     NaN                  NaN      4.161493     0.000000  \n",
       "43     28/04/2020 23:40:04  05/05/2020 15:48:22     17.465324     6.672431  \n",
       "68     08/05/2020 13:11:19  11/05/2020 13:37:24     11.946354     3.018113  \n",
       "72                     NaN                  NaN     84.982731     0.000000  \n",
       "...                    ...                  ...           ...          ...  \n",
       "16013                  NaN                  NaN      0.962280     0.000000  \n",
       "17171                  NaN                  NaN      5.086933     0.000000  \n",
       "17309                  NaN                  NaN      0.065278     0.000000  \n",
       "17462                  NaN                  NaN      0.159028     0.000000  \n",
       "17470                  NaN                  NaN      9.533171     0.000000  \n",
       "\n",
       "[332 rows x 73 columns]"
      ]
     },
     "execution_count": 707,
     "metadata": {},
     "output_type": "execute_result"
    }
   ],
   "source": [
    "#data = data.drop(['ESTUDO_CHARLSON'], axis=1)\n",
    "need_fill = data[data['ESTUDO_CHARLSON'].isna()]\n",
    "already_charlson = data[data['ESTUDO_CHARLSON'].notna()]\n",
    "already_charlson"
   ]
  },
  {
   "cell_type": "code",
   "execution_count": 708,
   "id": "committed-casting",
   "metadata": {},
   "outputs": [
    {
     "data": {
      "text/plain": [
       "0        1.0\n",
       "1        5.0\n",
       "2        1.0\n",
       "3        2.0\n",
       "4        2.0\n",
       "        ... \n",
       "27699    0.0\n",
       "27700    0.0\n",
       "27701    0.0\n",
       "27702    0.0\n",
       "27703    0.0\n",
       "Name: ESTUDO_CHARLSON_x, Length: 27704, dtype: float64"
      ]
     },
     "execution_count": 708,
     "metadata": {},
     "output_type": "execute_result"
    }
   ],
   "source": [
    "charlson_complete = charlson_complete.rename(columns=str.upper)\n",
    "\n",
    "final = pd.concat([already_charlson, need_fill])\n",
    "merged = pd.merge(final, charlson_complete, how='left', on='CD_PACIENTE')\n",
    "\n",
    "merged['ESTUDO_CHARLSON_x'] = merged['ESTUDO_CHARLSON_x'].fillna(merged['ESTUDO_CHARLSON_y'])\n",
    "merged['ESTUDO_CHARLSON_x']"
   ]
  },
  {
   "cell_type": "code",
   "execution_count": 709,
   "id": "individual-flashing",
   "metadata": {},
   "outputs": [
    {
     "data": {
      "image/png": "[encoded data removed]",
      "text/plain": [
       "<Figure size 1440x720 with 1 Axes>"
      ]
     },
     "metadata": {},
     "output_type": "display_data"
    }
   ],
   "source": [
    "plt.figure(figsize=(20, 10))\n",
    "sns.histplot(merged['ESTUDO_CHARLSON_x'], kde=True)\n",
    "plt.title(\"Charlson Final\")\n",
    "plt.show()"
   ]
  },
  {
   "cell_type": "code",
   "execution_count": 710,
   "id": "secondary-appointment",
   "metadata": {},
   "outputs": [
    {
     "name": "stdout",
     "output_type": "stream",
     "text": [
      "Valores Faltantes:  0\n",
      "0.0     10065\n",
      "2.0      2324\n",
      "1.0      2091\n",
      "3.0      1727\n",
      "4.0      1673\n",
      "5.0        64\n",
      "6.0        31\n",
      "7.0        22\n",
      "10.0        9\n",
      "8.0         6\n",
      "11.0        1\n",
      "9.0         1\n",
      "Name: ESTUDO_CHARLSON, dtype: int64\n",
      "ESTUDO_CHARLSON:  [1.0, 5.0, 2.0, 6.0, 8.0, 4.0, 3.0, 7.0, 9.0, 10.0, 0.0, 11.0]\n"
     ]
    },
    {
     "data": {
      "text/plain": [
       "0"
      ]
     },
     "execution_count": 710,
     "metadata": {},
     "output_type": "execute_result"
    }
   ],
   "source": [
    "data['ESTUDO_CHARLSON'] = merged['ESTUDO_CHARLSON_x']\n",
    "resume('ESTUDO_CHARLSON', data)"
   ]
  },
  {
   "cell_type": "markdown",
   "id": "bulgarian-salem",
   "metadata": {},
   "source": [
    "#### ESTUDO_FR_DIA_COLETA"
   ]
  },
  {
   "cell_type": "code",
   "execution_count": 711,
   "id": "precious-suspension",
   "metadata": {},
   "outputs": [
    {
     "data": {
      "text/plain": [
       "13    2\n",
       "18    2\n",
       "23    2\n",
       "NC    2\n",
       "22    2\n",
       "26    1\n",
       "20    1\n",
       "17    1\n",
       "Name: ESTUDO_FR_DIA_COLETA, dtype: int64"
      ]
     },
     "execution_count": 711,
     "metadata": {},
     "output_type": "execute_result"
    }
   ],
   "source": [
    "data['ESTUDO_FR_DIA_COLETA'].value_counts() #DROP SEM INFO NO DICIONARIO"
   ]
  },
  {
   "cell_type": "code",
   "execution_count": 712,
   "id": "stretch-electricity",
   "metadata": {},
   "outputs": [],
   "source": [
    "data = data.drop(['ESTUDO_FR_DIA_COLETA'], axis=1)"
   ]
  },
  {
   "cell_type": "markdown",
   "id": "general-posting",
   "metadata": {},
   "source": [
    "#### ESTUDO_FC_DIA_COLETA"
   ]
  },
  {
   "cell_type": "code",
   "execution_count": 713,
   "id": "fiscal-harbor",
   "metadata": {},
   "outputs": [],
   "source": [
    "data['ESTUDO_FC_DIA_COLETA'] = data['ESTUDO_FC_DIA_COLETA'].fillna('NI')"
   ]
  },
  {
   "cell_type": "code",
   "execution_count": 714,
   "id": "inclusive-speaker",
   "metadata": {},
   "outputs": [
    {
     "data": {
      "text/plain": [
       "NI       18001\n",
       "105.0        2\n",
       "100.0        2\n",
       "96.0         2\n",
       "82.0         2\n",
       "63.0         2\n",
       "95.0         1\n",
       "66.0         1\n",
       "64.0         1\n",
       "Name: ESTUDO_FC_DIA_COLETA, dtype: int64"
      ]
     },
     "execution_count": 714,
     "metadata": {},
     "output_type": "execute_result"
    }
   ],
   "source": [
    "data['ESTUDO_FC_DIA_COLETA'].value_counts() #DROP SEM INFO NO DICIONARIO"
   ]
  },
  {
   "cell_type": "code",
   "execution_count": 715,
   "id": "destroyed-assembly",
   "metadata": {},
   "outputs": [],
   "source": [
    "data = data.drop(['ESTUDO_FC_DIA_COLETA'], axis=1)"
   ]
  },
  {
   "cell_type": "markdown",
   "id": "growing-diameter",
   "metadata": {},
   "source": [
    "#### ESTUDO_PA_DIA_COLETA"
   ]
  },
  {
   "cell_type": "code",
   "execution_count": 716,
   "id": "agreed-background",
   "metadata": {},
   "outputs": [],
   "source": [
    "data['ESTUDO_PA_DIA_COLETA'] = data['ESTUDO_PA_DIA_COLETA'].fillna('NI')"
   ]
  },
  {
   "cell_type": "code",
   "execution_count": 717,
   "id": "awful-wednesday",
   "metadata": {},
   "outputs": [
    {
     "data": {
      "text/plain": [
       "NI        18001\n",
       "110/80        2\n",
       "156/30        2\n",
       "109/64        2\n",
       "149/77        2\n",
       "109/74        2\n",
       "115/65        1\n",
       "170/90        1\n",
       "120/60        1\n",
       "Name: ESTUDO_PA_DIA_COLETA, dtype: int64"
      ]
     },
     "execution_count": 717,
     "metadata": {},
     "output_type": "execute_result"
    }
   ],
   "source": [
    "data['ESTUDO_PA_DIA_COLETA'].value_counts() #DROP SEM INFO NO DICIONARIO"
   ]
  },
  {
   "cell_type": "code",
   "execution_count": 718,
   "id": "pending-kinase",
   "metadata": {},
   "outputs": [],
   "source": [
    "data = data.drop(['ESTUDO_PA_DIA_COLETA'], axis=1)"
   ]
  },
  {
   "cell_type": "markdown",
   "id": "informed-colors",
   "metadata": {},
   "source": [
    "#### ESTUDO_TEMPERATURA_DIA_COLETA"
   ]
  },
  {
   "cell_type": "code",
   "execution_count": 719,
   "id": "handmade-tours",
   "metadata": {},
   "outputs": [],
   "source": [
    "data['ESTUDO_TEMPERATURA_DIA_COLETA'] = data['ESTUDO_TEMPERATURA_DIA_COLETA'].fillna('NI')"
   ]
  },
  {
   "cell_type": "code",
   "execution_count": 720,
   "id": "serious-tuning",
   "metadata": {},
   "outputs": [
    {
     "data": {
      "text/plain": [
       "NI      18001\n",
       "36,4        4\n",
       "36,8        2\n",
       "36          2\n",
       "36,3        2\n",
       "36,9        1\n",
       "37,3        1\n",
       "37,9        1\n",
       "Name: ESTUDO_TEMPERATURA_DIA_COLETA, dtype: int64"
      ]
     },
     "execution_count": 720,
     "metadata": {},
     "output_type": "execute_result"
    }
   ],
   "source": [
    "data['ESTUDO_TEMPERATURA_DIA_COLETA'].value_counts() #DROP SEM INFO NO DICIONARIO"
   ]
  },
  {
   "cell_type": "code",
   "execution_count": 721,
   "id": "retained-caribbean",
   "metadata": {},
   "outputs": [],
   "source": [
    "data = data.drop(['ESTUDO_TEMPERATURA_DIA_COLETA'], axis=1)"
   ]
  },
  {
   "cell_type": "markdown",
   "id": "presidential-spectacular",
   "metadata": {},
   "source": [
    "#### ESTUDO_SATURACAO_DIA_COLETA"
   ]
  },
  {
   "cell_type": "code",
   "execution_count": 722,
   "id": "incident-jaguar",
   "metadata": {},
   "outputs": [],
   "source": [
    "data['ESTUDO_SATURACAO_DIA_COLETA'] = data['ESTUDO_SATURACAO_DIA_COLETA'].fillna('NI')"
   ]
  },
  {
   "cell_type": "code",
   "execution_count": 723,
   "id": "sonic-venture",
   "metadata": {},
   "outputs": [
    {
     "data": {
      "text/plain": [
       "NI        18003\n",
       "95            4\n",
       "91            2\n",
       "97            2\n",
       "93            2\n",
       "76-88%        1\n",
       "Name: ESTUDO_SATURACAO_DIA_COLETA, dtype: int64"
      ]
     },
     "execution_count": 723,
     "metadata": {},
     "output_type": "execute_result"
    }
   ],
   "source": [
    "data['ESTUDO_SATURACAO_DIA_COLETA'].value_counts() #DROP SEM INFO NO DICIONARIO"
   ]
  },
  {
   "cell_type": "code",
   "execution_count": 724,
   "id": "portuguese-collective",
   "metadata": {},
   "outputs": [],
   "source": [
    "data = data.drop(['ESTUDO_SATURACAO_DIA_COLETA'], axis=1)"
   ]
  },
  {
   "cell_type": "markdown",
   "id": "consistent-recycling",
   "metadata": {},
   "source": [
    "#### ESTUDO_APACHE2"
   ]
  },
  {
   "cell_type": "code",
   "execution_count": 725,
   "id": "vulnerable-subject",
   "metadata": {},
   "outputs": [],
   "source": [
    "data['ESTUDO_APACHE2'] = data['ESTUDO_APACHE2'].fillna('NI')"
   ]
  },
  {
   "cell_type": "code",
   "execution_count": 726,
   "id": "flexible-brass",
   "metadata": {},
   "outputs": [
    {
     "data": {
      "text/plain": [
       "NI    18014\n",
       "Name: ESTUDO_APACHE2, dtype: int64"
      ]
     },
     "execution_count": 726,
     "metadata": {},
     "output_type": "execute_result"
    }
   ],
   "source": [
    "data['ESTUDO_APACHE2'].value_counts() #DROP"
   ]
  },
  {
   "cell_type": "code",
   "execution_count": 727,
   "id": "communist-google",
   "metadata": {},
   "outputs": [],
   "source": [
    "data = data.drop(['ESTUDO_APACHE2'], axis=1)"
   ]
  },
  {
   "cell_type": "markdown",
   "id": "employed-proxy",
   "metadata": {},
   "source": [
    "#### ESTUDO_RISCO"
   ]
  },
  {
   "cell_type": "code",
   "execution_count": 728,
   "id": "variable-mauritius",
   "metadata": {},
   "outputs": [
    {
     "data": {
      "text/plain": [
       "Series([], Name: ESTUDO_RISCO, dtype: int64)"
      ]
     },
     "execution_count": 728,
     "metadata": {},
     "output_type": "execute_result"
    }
   ],
   "source": [
    "data['ESTUDO_RISCO'].value_counts() #DROP SEM INFO NO DICIONARIO"
   ]
  },
  {
   "cell_type": "code",
   "execution_count": 729,
   "id": "worth-services",
   "metadata": {},
   "outputs": [],
   "source": [
    "data = data.drop(['ESTUDO_RISCO'], axis=1)"
   ]
  },
  {
   "cell_type": "markdown",
   "id": "suspended-shoot",
   "metadata": {},
   "source": [
    "#### ESTUDO_TRATAMENTO"
   ]
  },
  {
   "cell_type": "code",
   "execution_count": 730,
   "id": "spectacular-defense",
   "metadata": {},
   "outputs": [
    {
     "data": {
      "text/plain": [
       "D    5\n",
       "N    3\n",
       "Name: ESTUDO_TRATAMENTO, dtype: int64"
      ]
     },
     "execution_count": 730,
     "metadata": {},
     "output_type": "execute_result"
    }
   ],
   "source": [
    "data['ESTUDO_TRATAMENTO'].value_counts() #DROP SEM INFO NO DICIONARIO"
   ]
  },
  {
   "cell_type": "code",
   "execution_count": 731,
   "id": "thermal-recording",
   "metadata": {},
   "outputs": [],
   "source": [
    "data = data.drop(['ESTUDO_TRATAMENTO'], axis=1)"
   ]
  },
  {
   "cell_type": "markdown",
   "id": "exciting-enough",
   "metadata": {},
   "source": [
    "#### ESTUDO_COMORB_PREV_TX_ORG_SOL"
   ]
  },
  {
   "cell_type": "code",
   "execution_count": 732,
   "id": "mature-conservative",
   "metadata": {},
   "outputs": [
    {
     "data": {
      "text/plain": [
       "N    17976\n",
       "S       12\n",
       "Name: ESTUDO_COMORB_PREV_TX_ORG_SOL, dtype: int64"
      ]
     },
     "execution_count": 732,
     "metadata": {},
     "output_type": "execute_result"
    }
   ],
   "source": [
    "data['ESTUDO_COMORB_PREV_TX_ORG_SOL'].value_counts() #DROP SEM INFO NO DICIONARIO"
   ]
  },
  {
   "cell_type": "code",
   "execution_count": 733,
   "id": "wooden-learning",
   "metadata": {},
   "outputs": [],
   "source": [
    "data = data.drop(['ESTUDO_COMORB_PREV_TX_ORG_SOL'], axis=1)"
   ]
  },
  {
   "cell_type": "markdown",
   "id": "worthy-screen",
   "metadata": {},
   "source": [
    "#### ESTUDO_CONDUTA"
   ]
  },
  {
   "cell_type": "code",
   "execution_count": 734,
   "id": "heard-armenia",
   "metadata": {},
   "outputs": [
    {
     "data": {
      "text/plain": [
       "L    17986\n",
       "Name: ESTUDO_CONDUTA, dtype: int64"
      ]
     },
     "execution_count": 734,
     "metadata": {},
     "output_type": "execute_result"
    }
   ],
   "source": [
    "data['ESTUDO_CONDUTA'].value_counts() #DROP SEM INFO NO DICIONARIO"
   ]
  },
  {
   "cell_type": "code",
   "execution_count": 735,
   "id": "former-advance",
   "metadata": {},
   "outputs": [],
   "source": [
    "data = data.drop(['ESTUDO_CONDUTA'], axis=1)"
   ]
  },
  {
   "cell_type": "markdown",
   "id": "completed-purse",
   "metadata": {},
   "source": [
    "#### ESTUDO_LOCAL_CONTAMINACAO"
   ]
  },
  {
   "cell_type": "code",
   "execution_count": 736,
   "id": "constitutional-index",
   "metadata": {},
   "outputs": [],
   "source": [
    "data['ESTUDO_LOCAL_CONTAMINACAO'] = data['ESTUDO_LOCAL_CONTAMINACAO'].fillna('NI')"
   ]
  },
  {
   "cell_type": "code",
   "execution_count": 737,
   "id": "excessive-cambridge",
   "metadata": {},
   "outputs": [
    {
     "data": {
      "text/plain": [
       "NI                                  17131\n",
       "EXTERNO                               534\n",
       "HSL                                   166\n",
       "UNIDADE DE INTERNACAO HSL             113\n",
       "OUTRA INSTITUIÇÃO DE SAÚDE             38\n",
       "DESCONHECIDO                           27\n",
       "INSTITUIÇÃO DE LONGA PERMANÊNCIA        4\n",
       "OUTRA INSTITUICAO DE SAUDE              1\n",
       "Name: ESTUDO_LOCAL_CONTAMINACAO, dtype: int64"
      ]
     },
     "execution_count": 737,
     "metadata": {},
     "output_type": "execute_result"
    }
   ],
   "source": [
    "data['ESTUDO_LOCAL_CONTAMINACAO'].value_counts()"
   ]
  },
  {
   "cell_type": "code",
   "execution_count": 738,
   "id": "comparable-amplifier",
   "metadata": {},
   "outputs": [],
   "source": [
    "keys = data['ESTUDO_LOCAL_CONTAMINACAO'].value_counts().keys().tolist()"
   ]
  },
  {
   "cell_type": "code",
   "execution_count": 739,
   "id": "stunning-wrestling",
   "metadata": {},
   "outputs": [],
   "source": [
    "dictToReplace = __getDictToReplace(keys)"
   ]
  },
  {
   "cell_type": "code",
   "execution_count": 740,
   "id": "alone-russian",
   "metadata": {},
   "outputs": [
    {
     "data": {
      "text/plain": [
       "{'NI': 1,\n",
       " 'EXTERNO': 2,\n",
       " 'HSL': 3,\n",
       " 'UNIDADE DE INTERNACAO HSL': 4,\n",
       " 'OUTRA INSTITUIÇÃO DE SAÚDE': 5,\n",
       " 'DESCONHECIDO': 6,\n",
       " 'INSTITUIÇÃO DE LONGA PERMANÊNCIA': 7,\n",
       " 'OUTRA INSTITUICAO DE SAUDE': 8}"
      ]
     },
     "execution_count": 740,
     "metadata": {},
     "output_type": "execute_result"
    }
   ],
   "source": [
    "dictToReplace"
   ]
  },
  {
   "cell_type": "code",
   "execution_count": 741,
   "id": "unique-marker",
   "metadata": {},
   "outputs": [],
   "source": [
    "data['ESTUDO_LOCAL_CONTAMINACAO'] = data['ESTUDO_LOCAL_CONTAMINACAO'].replace(dictToReplace)"
   ]
  },
  {
   "cell_type": "markdown",
   "id": "egyptian-section",
   "metadata": {},
   "source": [
    "#### ESTUDO_LOCAL_CONTAM_UI"
   ]
  },
  {
   "cell_type": "code",
   "execution_count": 742,
   "id": "increasing-attendance",
   "metadata": {},
   "outputs": [],
   "source": [
    "data['ESTUDO_LOCAL_CONTAM_UI'] = data['ESTUDO_LOCAL_CONTAM_UI'].fillna('NI')"
   ]
  },
  {
   "cell_type": "code",
   "execution_count": 743,
   "id": "spatial-indicator",
   "metadata": {},
   "outputs": [
    {
     "data": {
      "text/plain": [
       "NI      17892\n",
       "15.0       36\n",
       "13.0       19\n",
       "12.0       17\n",
       "19.0       10\n",
       "18.0        8\n",
       "14.0        7\n",
       "9.0         7\n",
       "8.0         6\n",
       "16.0        5\n",
       "6.0         5\n",
       "17.0        1\n",
       "5.0         1\n",
       "Name: ESTUDO_LOCAL_CONTAM_UI, dtype: int64"
      ]
     },
     "execution_count": 743,
     "metadata": {},
     "output_type": "execute_result"
    }
   ],
   "source": [
    "data['ESTUDO_LOCAL_CONTAM_UI'].value_counts()"
   ]
  },
  {
   "cell_type": "code",
   "execution_count": 744,
   "id": "opponent-checklist",
   "metadata": {},
   "outputs": [],
   "source": [
    "data['ESTUDO_LOCAL_CONTAM_UI'] = data['ESTUDO_LOCAL_CONTAM_UI'].replace({'NI': 2})"
   ]
  },
  {
   "cell_type": "markdown",
   "id": "terminal-commonwealth",
   "metadata": {},
   "source": [
    "#### ESTUDO_DT_DESFECHO"
   ]
  },
  {
   "cell_type": "code",
   "execution_count": 745,
   "id": "literary-flood",
   "metadata": {},
   "outputs": [
    {
     "data": {
      "text/plain": [
       "26/08/2020    2\n",
       "17/08/2020    2\n",
       "22/09/2020    2\n",
       "01/09/2020    2\n",
       "23/09/2020    2\n",
       "20/10/2020    1\n",
       "18/11/2020    1\n",
       "15/08/2020    1\n",
       "Name: ESTUDO_DT_DESFECHO, dtype: int64"
      ]
     },
     "execution_count": 745,
     "metadata": {},
     "output_type": "execute_result"
    }
   ],
   "source": [
    "data['ESTUDO_DT_DESFECHO'].value_counts() #DROP"
   ]
  },
  {
   "cell_type": "code",
   "execution_count": 746,
   "id": "printable-sword",
   "metadata": {},
   "outputs": [],
   "source": [
    "data = data.drop(['ESTUDO_DT_DESFECHO'], axis=1)"
   ]
  },
  {
   "cell_type": "markdown",
   "id": "vertical-competition",
   "metadata": {},
   "source": [
    "#### ESTUDO_COMORB_PREV_DESCON"
   ]
  },
  {
   "cell_type": "code",
   "execution_count": 747,
   "id": "every-awareness",
   "metadata": {},
   "outputs": [
    {
     "data": {
      "text/plain": [
       "N    17976\n",
       "S       12\n",
       "Name: ESTUDO_COMORB_PREV_DESCON, dtype: int64"
      ]
     },
     "execution_count": 747,
     "metadata": {},
     "output_type": "execute_result"
    }
   ],
   "source": [
    "data['ESTUDO_COMORB_PREV_DESCON'].value_counts() #DROP"
   ]
  },
  {
   "cell_type": "code",
   "execution_count": 748,
   "id": "special-defensive",
   "metadata": {},
   "outputs": [],
   "source": [
    "data = data.drop(['ESTUDO_COMORB_PREV_DESCON'], axis=1)"
   ]
  },
  {
   "cell_type": "markdown",
   "id": "addressed-woman",
   "metadata": {},
   "source": [
    "#### ESTUDO_COMORB_PREV_DVP"
   ]
  },
  {
   "cell_type": "code",
   "execution_count": 749,
   "id": "knowing-highlight",
   "metadata": {},
   "outputs": [
    {
     "data": {
      "text/plain": [
       "N    17985\n",
       "S        3\n",
       "Name: ESTUDO_COMORB_PREV_DVP, dtype: int64"
      ]
     },
     "execution_count": 749,
     "metadata": {},
     "output_type": "execute_result"
    }
   ],
   "source": [
    "data['ESTUDO_COMORB_PREV_DVP'].value_counts() #DROP"
   ]
  },
  {
   "cell_type": "code",
   "execution_count": 750,
   "id": "molecular-saturn",
   "metadata": {},
   "outputs": [],
   "source": [
    "data = data.drop(['ESTUDO_COMORB_PREV_DVP'], axis=1)"
   ]
  },
  {
   "cell_type": "markdown",
   "id": "statutory-pittsburgh",
   "metadata": {},
   "source": [
    "#### ESTUDO_COMORB_PREV_DEMENCIA"
   ]
  },
  {
   "cell_type": "code",
   "execution_count": 751,
   "id": "exciting-kenya",
   "metadata": {},
   "outputs": [],
   "source": [
    "data['ESTUDO_COMORB_PREV_DEMENCIA'] = data['ESTUDO_COMORB_PREV_DEMENCIA'].fillna('NI')"
   ]
  },
  {
   "cell_type": "code",
   "execution_count": 752,
   "id": "leading-digest",
   "metadata": {},
   "outputs": [
    {
     "data": {
      "text/plain": [
       "N     17977\n",
       "NI       26\n",
       "S        11\n",
       "Name: ESTUDO_COMORB_PREV_DEMENCIA, dtype: int64"
      ]
     },
     "execution_count": 752,
     "metadata": {},
     "output_type": "execute_result"
    }
   ],
   "source": [
    "data['ESTUDO_COMORB_PREV_DEMENCIA'].value_counts()"
   ]
  },
  {
   "cell_type": "code",
   "execution_count": 753,
   "id": "painful-marathon",
   "metadata": {},
   "outputs": [],
   "source": [
    "data['ESTUDO_COMORB_PREV_DEMENCIA'] = data['ESTUDO_COMORB_PREV_DEMENCIA'].replace({'S': 1, 'N': 0, 'NI': 2})"
   ]
  },
  {
   "cell_type": "markdown",
   "id": "disciplinary-geology",
   "metadata": {},
   "source": [
    "#### ESTUDO_COMORB_PREV_DTC"
   ]
  },
  {
   "cell_type": "code",
   "execution_count": 754,
   "id": "sealed-progressive",
   "metadata": {},
   "outputs": [
    {
     "data": {
      "text/plain": [
       "N    17988\n",
       "Name: ESTUDO_COMORB_PREV_DTC, dtype: int64"
      ]
     },
     "execution_count": 754,
     "metadata": {},
     "output_type": "execute_result"
    }
   ],
   "source": [
    "data['ESTUDO_COMORB_PREV_DTC'].value_counts() #DROP"
   ]
  },
  {
   "cell_type": "code",
   "execution_count": 755,
   "id": "paperback-sullivan",
   "metadata": {},
   "outputs": [],
   "source": [
    "data = data.drop(['ESTUDO_COMORB_PREV_DTC'], axis=1)"
   ]
  },
  {
   "cell_type": "markdown",
   "id": "liked-anatomy",
   "metadata": {},
   "source": [
    "#### ESTUDO_COMORB_PREV_UP"
   ]
  },
  {
   "cell_type": "code",
   "execution_count": 756,
   "id": "metallic-reverse",
   "metadata": {},
   "outputs": [
    {
     "data": {
      "text/plain": [
       "N    17986\n",
       "S        2\n",
       "Name: ESTUDO_COMORB_PREV_UP, dtype: int64"
      ]
     },
     "execution_count": 756,
     "metadata": {},
     "output_type": "execute_result"
    }
   ],
   "source": [
    "data['ESTUDO_COMORB_PREV_UP'].value_counts() #DROP SEM INFO NO DICIONARIO"
   ]
  },
  {
   "cell_type": "code",
   "execution_count": 757,
   "id": "pediatric-engagement",
   "metadata": {},
   "outputs": [],
   "source": [
    "data = data.drop(['ESTUDO_COMORB_PREV_UP'], axis=1)"
   ]
  },
  {
   "cell_type": "markdown",
   "id": "precise-appendix",
   "metadata": {},
   "source": [
    "#### ESTUDO_COMORB_PREV_DFL"
   ]
  },
  {
   "cell_type": "code",
   "execution_count": 758,
   "id": "bronze-column",
   "metadata": {},
   "outputs": [
    {
     "data": {
      "text/plain": [
       "N    17988\n",
       "Name: ESTUDO_COMORB_PREV_DFL, dtype: int64"
      ]
     },
     "execution_count": 758,
     "metadata": {},
     "output_type": "execute_result"
    }
   ],
   "source": [
    "data['ESTUDO_COMORB_PREV_DFL'].value_counts() #DROP SEM INFO NO DICIONARIO"
   ]
  },
  {
   "cell_type": "code",
   "execution_count": 759,
   "id": "common-drink",
   "metadata": {},
   "outputs": [],
   "source": [
    "data = data.drop(['ESTUDO_COMORB_PREV_DFL'], axis=1)"
   ]
  },
  {
   "cell_type": "markdown",
   "id": "hired-setting",
   "metadata": {},
   "source": [
    "#### ESTUDO_COMORB_PREV_DFM"
   ]
  },
  {
   "cell_type": "code",
   "execution_count": 760,
   "id": "regular-asthma",
   "metadata": {},
   "outputs": [],
   "source": [
    "data['ESTUDO_COMORB_PREV_DFM'] = data['ESTUDO_COMORB_PREV_DFM'].fillna('NI')"
   ]
  },
  {
   "cell_type": "code",
   "execution_count": 761,
   "id": "chronic-market",
   "metadata": {},
   "outputs": [
    {
     "data": {
      "text/plain": [
       "N     17973\n",
       "NI       26\n",
       "S        15\n",
       "Name: ESTUDO_COMORB_PREV_DFM, dtype: int64"
      ]
     },
     "execution_count": 761,
     "metadata": {},
     "output_type": "execute_result"
    }
   ],
   "source": [
    "data['ESTUDO_COMORB_PREV_DFM'].value_counts()"
   ]
  },
  {
   "cell_type": "code",
   "execution_count": 762,
   "id": "looking-nomination",
   "metadata": {},
   "outputs": [],
   "source": [
    "data['ESTUDO_COMORB_PREV_DFM'] = data['ESTUDO_COMORB_PREV_DFM'].replace({'S': 1, 'N': 0, 'NI': 2})"
   ]
  },
  {
   "cell_type": "markdown",
   "id": "legendary-morrison",
   "metadata": {},
   "source": [
    "#### ESTUDO_COMORB_PREV_HEMIPLEGIA"
   ]
  },
  {
   "cell_type": "code",
   "execution_count": 763,
   "id": "typical-fundamentals",
   "metadata": {},
   "outputs": [
    {
     "data": {
      "text/plain": [
       "N    17988\n",
       "Name: ESTUDO_COMORB_PREV_HEMIPLEGIA, dtype: int64"
      ]
     },
     "execution_count": 763,
     "metadata": {},
     "output_type": "execute_result"
    }
   ],
   "source": [
    "data['ESTUDO_COMORB_PREV_HEMIPLEGIA'].value_counts() #DROP"
   ]
  },
  {
   "cell_type": "code",
   "execution_count": 764,
   "id": "positive-puzzle",
   "metadata": {},
   "outputs": [],
   "source": [
    "data = data.drop(['ESTUDO_COMORB_PREV_HEMIPLEGIA'], axis=1)"
   ]
  },
  {
   "cell_type": "markdown",
   "id": "behavioral-offset",
   "metadata": {},
   "source": [
    "#### ESTUDO_COMORB_PREV_LEUCEMIA',"
   ]
  },
  {
   "cell_type": "code",
   "execution_count": 765,
   "id": "promising-fitness",
   "metadata": {},
   "outputs": [],
   "source": [
    "data['ESTUDO_COMORB_PREV_LEUCEMIA'] = data['ESTUDO_COMORB_PREV_LEUCEMIA'].fillna('NI')"
   ]
  },
  {
   "cell_type": "code",
   "execution_count": 766,
   "id": "cloudy-distinction",
   "metadata": {},
   "outputs": [
    {
     "data": {
      "text/plain": [
       "N     17981\n",
       "NI       26\n",
       "S         7\n",
       "Name: ESTUDO_COMORB_PREV_LEUCEMIA, dtype: int64"
      ]
     },
     "execution_count": 766,
     "metadata": {},
     "output_type": "execute_result"
    }
   ],
   "source": [
    "data['ESTUDO_COMORB_PREV_LEUCEMIA'].value_counts()"
   ]
  },
  {
   "cell_type": "code",
   "execution_count": 767,
   "id": "transparent-colon",
   "metadata": {},
   "outputs": [],
   "source": [
    "data['ESTUDO_COMORB_PREV_LEUCEMIA'] = data['ESTUDO_COMORB_PREV_LEUCEMIA'].replace({'S': 1, 'N': 0, 'NI': 2})"
   ]
  },
  {
   "cell_type": "markdown",
   "id": "still-killing",
   "metadata": {},
   "source": [
    "#### ESTUDO_COMORB_PREV_HIV"
   ]
  },
  {
   "cell_type": "code",
   "execution_count": 768,
   "id": "human-mayor",
   "metadata": {},
   "outputs": [],
   "source": [
    "data['ESTUDO_COMORB_PREV_HIV'] = data['ESTUDO_COMORB_PREV_HIV'].fillna('NI')"
   ]
  },
  {
   "cell_type": "code",
   "execution_count": 769,
   "id": "sound-surveillance",
   "metadata": {},
   "outputs": [
    {
     "data": {
      "text/plain": [
       "N     17983\n",
       "NI       26\n",
       "S         5\n",
       "Name: ESTUDO_COMORB_PREV_HIV, dtype: int64"
      ]
     },
     "execution_count": 769,
     "metadata": {},
     "output_type": "execute_result"
    }
   ],
   "source": [
    "data['ESTUDO_COMORB_PREV_HIV'].value_counts()"
   ]
  },
  {
   "cell_type": "code",
   "execution_count": 770,
   "id": "extra-registrar",
   "metadata": {},
   "outputs": [],
   "source": [
    "data['ESTUDO_COMORB_PREV_HIV'] = data['ESTUDO_COMORB_PREV_HIV'].replace({'S': 1, 'N': 0, 'NI': 2})"
   ]
  },
  {
   "cell_type": "markdown",
   "id": "unlimited-specification",
   "metadata": {},
   "source": [
    "#### ESTUDO_COMORB_PREV_TUL"
   ]
  },
  {
   "cell_type": "code",
   "execution_count": 771,
   "id": "digital-thought",
   "metadata": {},
   "outputs": [],
   "source": [
    "data['ESTUDO_COMORB_PREV_TUL'] = data['ESTUDO_COMORB_PREV_TUL'].fillna('NI')"
   ]
  },
  {
   "cell_type": "code",
   "execution_count": 772,
   "id": "mysterious-loading",
   "metadata": {},
   "outputs": [
    {
     "data": {
      "text/plain": [
       "N     17957\n",
       "S        31\n",
       "NI       26\n",
       "Name: ESTUDO_COMORB_PREV_TUL, dtype: int64"
      ]
     },
     "execution_count": 772,
     "metadata": {},
     "output_type": "execute_result"
    }
   ],
   "source": [
    "data['ESTUDO_COMORB_PREV_TUL'].value_counts()"
   ]
  },
  {
   "cell_type": "code",
   "execution_count": 773,
   "id": "danish-norway",
   "metadata": {},
   "outputs": [],
   "source": [
    "data['ESTUDO_COMORB_PREV_TUL'] = data['ESTUDO_COMORB_PREV_TUL'].replace({'S': 1, 'N': 0, 'NI': 2})"
   ]
  },
  {
   "cell_type": "markdown",
   "id": "satellite-warrant",
   "metadata": {},
   "source": [
    "#### ESTUDO_COMORB_PREV_TUM"
   ]
  },
  {
   "cell_type": "code",
   "execution_count": 774,
   "id": "piano-bridge",
   "metadata": {},
   "outputs": [
    {
     "data": {
      "text/plain": [
       "N    17976\n",
       "S       12\n",
       "Name: ESTUDO_COMORB_PREV_TUM, dtype: int64"
      ]
     },
     "execution_count": 774,
     "metadata": {},
     "output_type": "execute_result"
    }
   ],
   "source": [
    "data['ESTUDO_COMORB_PREV_TUM'].value_counts() #DROP SEM INFO NO DICIONARIO"
   ]
  },
  {
   "cell_type": "code",
   "execution_count": 775,
   "id": "liberal-snake",
   "metadata": {},
   "outputs": [],
   "source": [
    "data = data.drop(['ESTUDO_COMORB_PREV_TUM'], axis=1)"
   ]
  },
  {
   "cell_type": "markdown",
   "id": "boxed-governor",
   "metadata": {},
   "source": [
    "#### STATUS_COVID_FROM_UTI"
   ]
  },
  {
   "cell_type": "code",
   "execution_count": 776,
   "id": "distributed-allah",
   "metadata": {},
   "outputs": [
    {
     "data": {
      "text/plain": [
       "NEGATIVOS      848\n",
       "CONFIRMADOS    450\n",
       "SUSPEITOS       11\n",
       "Name: STATUS_COVID_FROM_UTI, dtype: int64"
      ]
     },
     "execution_count": 776,
     "metadata": {},
     "output_type": "execute_result"
    }
   ],
   "source": [
    "data['STATUS_COVID_FROM_UTI'].value_counts()"
   ]
  },
  {
   "cell_type": "code",
   "execution_count": 777,
   "id": "romance-privilege",
   "metadata": {},
   "outputs": [],
   "source": [
    "data = data.drop(['STATUS_COVID_FROM_UTI'], axis=1)"
   ]
  },
  {
   "cell_type": "markdown",
   "id": "extended-slide",
   "metadata": {},
   "source": [
    "#### DTHR_LEITO"
   ]
  },
  {
   "cell_type": "code",
   "execution_count": 778,
   "id": "sized-participant",
   "metadata": {},
   "outputs": [
    {
     "data": {
      "text/plain": [
       "19/08/2020 17:21:30    1\n",
       "04/03/2021 18:39:08    1\n",
       "11/12/2020 14:48:16    1\n",
       "16/06/2020 23:24:45    1\n",
       "19/01/2021 09:46:55    1\n",
       "                      ..\n",
       "17/06/2020 13:00:09    1\n",
       "15/01/2021 19:54:56    1\n",
       "26/09/2020 19:18:14    1\n",
       "29/07/2020 16:43:38    1\n",
       "12/07/2020 17:23:02    1\n",
       "Name: DTHR_LEITO, Length: 155, dtype: int64"
      ]
     },
     "execution_count": 778,
     "metadata": {},
     "output_type": "execute_result"
    }
   ],
   "source": [
    "data['DTHR_LEITO'].value_counts() #DROP"
   ]
  },
  {
   "cell_type": "code",
   "execution_count": 779,
   "id": "secondary-spine",
   "metadata": {},
   "outputs": [],
   "source": [
    "data = data.drop(['DTHR_LEITO'], axis=1)"
   ]
  },
  {
   "cell_type": "markdown",
   "id": "swiss-rebecca",
   "metadata": {},
   "source": [
    "#### DATA_HORA_ENTRADA"
   ]
  },
  {
   "cell_type": "code",
   "execution_count": 780,
   "id": "important-latino",
   "metadata": {},
   "outputs": [
    {
     "data": {
      "text/plain": [
       "2020-11-14 19:52:42    1\n",
       "2020-11-10 00:47:45    1\n",
       "2020-11-30 13:28:15    1\n",
       "2020-11-26 01:06:41    1\n",
       "2020-11-20 22:24:53    1\n",
       "                      ..\n",
       "2020-08-30 18:15:50    1\n",
       "2020-08-14 13:29:36    1\n",
       "2020-07-02 16:20:53    1\n",
       "2020-09-24 14:11:07    1\n",
       "2020-08-07 20:35:49    1\n",
       "Name: DATA_HORA_ENTRADA, Length: 1309, dtype: int64"
      ]
     },
     "execution_count": 780,
     "metadata": {},
     "output_type": "execute_result"
    }
   ],
   "source": [
    "data['DATA_HORA_ENTRADA'].value_counts() #DROP"
   ]
  },
  {
   "cell_type": "code",
   "execution_count": 781,
   "id": "independent-richmond",
   "metadata": {},
   "outputs": [],
   "source": [
    "data = data.drop(['DATA_HORA_ENTRADA'], axis=1)"
   ]
  },
  {
   "cell_type": "markdown",
   "id": "stock-celebrity",
   "metadata": {},
   "source": [
    "#### REENTRADA"
   ]
  },
  {
   "cell_type": "code",
   "execution_count": 782,
   "id": "fantastic-copyright",
   "metadata": {},
   "outputs": [
    {
     "data": {
      "text/plain": [
       "0.0    1154\n",
       "1.0     134\n",
       "2.0      17\n",
       "4.0       2\n",
       "3.0       2\n",
       "Name: REENTRADA, dtype: int64"
      ]
     },
     "execution_count": 782,
     "metadata": {},
     "output_type": "execute_result"
    }
   ],
   "source": [
    "data['REENTRADA'].value_counts()"
   ]
  },
  {
   "cell_type": "code",
   "execution_count": 783,
   "id": "lucky-elder",
   "metadata": {},
   "outputs": [],
   "source": [
    "#keys = data['REENTRADA'].value_counts().keys().tolist()"
   ]
  },
  {
   "cell_type": "code",
   "execution_count": 784,
   "id": "experimental-review",
   "metadata": {},
   "outputs": [],
   "source": [
    "#dictToReplace = __getDictToReplace(keys)"
   ]
  },
  {
   "cell_type": "code",
   "execution_count": 785,
   "id": "technological-headline",
   "metadata": {},
   "outputs": [],
   "source": [
    "#dictToReplace"
   ]
  },
  {
   "cell_type": "code",
   "execution_count": 786,
   "id": "informative-external",
   "metadata": {},
   "outputs": [],
   "source": [
    "#data['REENTRADA'] = data['REENTRADA'].replace(dictToReplace)"
   ]
  },
  {
   "cell_type": "code",
   "execution_count": 787,
   "id": "dramatic-harbor",
   "metadata": {},
   "outputs": [],
   "source": [
    "data = data.drop(['REENTRADA'], axis=1)"
   ]
  },
  {
   "cell_type": "markdown",
   "id": "pressing-breach",
   "metadata": {},
   "source": [
    "#### CD_ATENDIMENTO.1"
   ]
  },
  {
   "cell_type": "code",
   "execution_count": 788,
   "id": "photographic-strength",
   "metadata": {},
   "outputs": [],
   "source": [
    "#data['CD_ATENDIMENTO.1'].value_counts() #DROP"
   ]
  },
  {
   "cell_type": "code",
   "execution_count": 789,
   "id": "generic-microphone",
   "metadata": {},
   "outputs": [],
   "source": [
    "#data = data.drop(['CD_ATENDIMENTO.1'], axis=1)"
   ]
  },
  {
   "cell_type": "markdown",
   "id": "collective-burns",
   "metadata": {},
   "source": [
    "#### DTHR_UTI_IN"
   ]
  },
  {
   "cell_type": "code",
   "execution_count": 790,
   "id": "beautiful-holly",
   "metadata": {
    "scrolled": true
   },
   "outputs": [
    {
     "data": {
      "text/plain": [
       "27/03/2020 07:26:07    1\n",
       "30/08/2020 18:15:50    1\n",
       "28/10/2020 21:54:03    1\n",
       "05/07/2020 00:09:31    1\n",
       "12/01/2021 18:31:00    1\n",
       "                      ..\n",
       "18/09/2020 17:43:36    1\n",
       "11/09/2020 06:27:44    1\n",
       "22/11/2020 11:16:27    1\n",
       "28/01/2021 12:04:20    1\n",
       "27/10/2020 16:59:52    1\n",
       "Name: DTHR_IN_UTI, Length: 1309, dtype: int64"
      ]
     },
     "execution_count": 790,
     "metadata": {},
     "output_type": "execute_result"
    }
   ],
   "source": [
    "data['DTHR_IN_UTI'].value_counts() #DROP"
   ]
  },
  {
   "cell_type": "code",
   "execution_count": 791,
   "id": "effective-mandate",
   "metadata": {},
   "outputs": [],
   "source": [
    "data = data.drop(['DTHR_IN_UTI'], axis=1)"
   ]
  },
  {
   "cell_type": "markdown",
   "id": "killing-judges",
   "metadata": {},
   "source": [
    "#### DTHR_UTI_OUT"
   ]
  },
  {
   "cell_type": "code",
   "execution_count": 792,
   "id": "administrative-illness",
   "metadata": {},
   "outputs": [
    {
     "data": {
      "text/plain": [
       "13/01/2021 18:02:08    1\n",
       "19/02/2021 10:16:56    1\n",
       "10/09/2020 18:58:04    1\n",
       "16/01/2021 07:15:00    1\n",
       "08/12/2020 10:10:57    1\n",
       "                      ..\n",
       "07/08/2020 10:44:17    1\n",
       "08/08/2020 12:37:32    1\n",
       "12/02/2021 14:05:51    1\n",
       "31/12/2020 10:23:58    1\n",
       "29/10/2020 09:21:05    1\n",
       "Name: DTHR_OUT_UTI, Length: 1309, dtype: int64"
      ]
     },
     "execution_count": 792,
     "metadata": {},
     "output_type": "execute_result"
    }
   ],
   "source": [
    "data['DTHR_OUT_UTI'].value_counts() #DROP"
   ]
  },
  {
   "cell_type": "code",
   "execution_count": 793,
   "id": "attended-parameter",
   "metadata": {},
   "outputs": [],
   "source": [
    "data = data.drop(['DTHR_OUT_UTI'], axis=1)"
   ]
  },
  {
   "cell_type": "markdown",
   "id": "involved-disclaimer",
   "metadata": {},
   "source": [
    "### Unnamed: 0"
   ]
  },
  {
   "cell_type": "code",
   "execution_count": 794,
   "id": "demonstrated-madonna",
   "metadata": {
    "scrolled": true
   },
   "outputs": [
    {
     "data": {
      "text/plain": [
       "2047     1\n",
       "10944    1\n",
       "6838     1\n",
       "4791     1\n",
       "25273    1\n",
       "        ..\n",
       "17762    1\n",
       "21856    1\n",
       "11615    1\n",
       "9566     1\n",
       "2049     1\n",
       "Name: Unnamed: 0, Length: 18014, dtype: int64"
      ]
     },
     "execution_count": 794,
     "metadata": {},
     "output_type": "execute_result"
    }
   ],
   "source": [
    "data['Unnamed: 0'].value_counts() #DROP"
   ]
  },
  {
   "cell_type": "code",
   "execution_count": 795,
   "id": "satisfactory-array",
   "metadata": {},
   "outputs": [],
   "source": [
    "data = data.drop(['Unnamed: 0'], axis=1)"
   ]
  },
  {
   "cell_type": "markdown",
   "id": "unlikely-jacksonville",
   "metadata": {},
   "source": [
    "## Ver Features"
   ]
  },
  {
   "cell_type": "code",
   "execution_count": 796,
   "id": "suspended-pierre",
   "metadata": {},
   "outputs": [
    {
     "name": "stdout",
     "output_type": "stream",
     "text": [
      "COLETOU_AMOSTRA , 0 ,\n",
      "IFI_OUTRO_VIRUS , 0 ,\n",
      "STATUS_COVID_FROM_MRG_REG_EST , 0 ,\n",
      "CD_PACIENTE , 0 ,\n",
      "GENERO , 0 ,\n",
      "IDADE , 0 ,\n",
      "DIAGNOSTICO_SARS , 0 ,\n",
      "CD_CID , 0 ,\n",
      "DS_ESPECIALID_SAI , 0 ,\n",
      "REINTER_30D , 0 ,\n",
      "CARATER_ATENDIMENTO , 0 ,\n",
      "EMERG_SERVICO , 0 ,\n",
      "EMERG_RISCO , 0 ,\n",
      "CID_DIAG_ATEND , 0 ,\n",
      "CID_CAPITULO_DIAG , 0 ,\n",
      "BLOCO_CENTRAL_ST , 0 ,\n",
      "HEMODINAMICA_ST , 0 ,\n",
      "EX_LAB_ST , 0 ,\n",
      "EX_IMG_ST , 0 ,\n",
      "EX_OUTROS_ST , 0 ,\n",
      "TIPO_REGISTRO , 0 ,\n",
      "SN_CRIT_CONTATO_CASO_COVID , 0 ,\n",
      "SN_CRIT_SRAG , 0 ,\n",
      "SN_CRIT_SINDROME_GRIPAL , 0 ,\n",
      "ESTUDO_TP_EXPOSICAO , 0 ,\n",
      "ESTUDO_COMORB_PREV_HAS , 0 ,\n",
      "ESTUDO_COMORB_PREV_IAM , 0 ,\n",
      "ESTUDO_COMORB_PREV_IC , 0 ,\n",
      "ESTUDO_COMORB_PREV_DRC , 0 ,\n",
      "ESTUDO_COMORB_PREV_DMII , 0 ,\n",
      "ESTUDO_COMORB_PREV_CARCINOMA , 0 ,\n",
      "ESTUDO_COMORB_PREV_AVC , 0 ,\n",
      "ESTUDO_COMORB_PREV_ASMA , 0 ,\n",
      "ESTUDO_COMORB_PREV_DPOC , 0 ,\n",
      "ESTUDO_COMORB_PREV_OBESIDADE , 0 ,\n",
      "ESTUDO_COMORB_PREV_EPILEPSIA , 0 ,\n",
      "ESTUDO_COMORB_PREV_HIGIDO , 0 ,\n",
      "ESTUDO_COMORB_PREV_OUTRAS , 0 ,\n",
      "ESTUDO_CHARLSON , 0 ,\n",
      "ESTUDO_LOCAL_CONTAMINACAO , 0 ,\n",
      "ESTUDO_LOCAL_CONTAM_UI , 0 ,\n",
      "ESTUDO_COMORB_PREV_DEMENCIA , 0 ,\n",
      "ESTUDO_COMORB_PREV_DFM , 0 ,\n",
      "ESTUDO_COMORB_PREV_LEUCEMIA , 0 ,\n",
      "ESTUDO_COMORB_PREV_HIV , 0 ,\n",
      "ESTUDO_COMORB_PREV_TUL , 0 ,\n",
      "DIAS_PRE_UTI , 0 ,\n",
      "DIAS_NA_UTI , 0 ,\n"
     ]
    }
   ],
   "source": [
    "showMissing(data)"
   ]
  },
  {
   "cell_type": "markdown",
   "id": "possible-trouble",
   "metadata": {},
   "source": [
    "## Checando dados faltantes"
   ]
  },
  {
   "cell_type": "code",
   "execution_count": 797,
   "id": "adopted-rebel",
   "metadata": {},
   "outputs": [],
   "source": [
    "columns = data.columns.tolist()"
   ]
  },
  {
   "cell_type": "code",
   "execution_count": 798,
   "id": "secret-headquarters",
   "metadata": {},
   "outputs": [],
   "source": [
    "for c in columns:\n",
    "    _aux = data[c].isnull().tolist()\n",
    "    _aux = [str(v) for v in _aux]\n",
    "    if 'True' in _aux:\n",
    "        print(c)\n",
    "    _aux = []"
   ]
  },
  {
   "cell_type": "code",
   "execution_count": 800,
   "id": "generous-entrance",
   "metadata": {},
   "outputs": [],
   "source": [
    "data.to_csv(r'./data/PosProcessing-v0.2.2/PosFinal_Dataset.csv', index=False)"
   ]
  },
  {
   "cell_type": "markdown",
   "id": "developmental-tomorrow",
   "metadata": {},
   "source": [
    "## Mapa de Calor - Pearson"
   ]
  },
  {
   "cell_type": "code",
   "execution_count": 547,
   "id": "blind-cliff",
   "metadata": {},
   "outputs": [
    {
     "data": {
      "image/png": "[encoded data removed]",
      "text/plain": [
       "<Figure size 1440x1224 with 2 Axes>"
      ]
     },
     "metadata": {},
     "output_type": "display_data"
    }
   ],
   "source": [
    "sns.set(rc={'figure.figsize':(20, 17)})\n",
    "corr_matrix = data.corr(method='pearson')\n",
    "plt.subplots(figsize=(20,17))\n",
    "sns.heatmap(corr_matrix, vmax=1, square=True)\n",
    "plt.savefig('heatmap.png')\n",
    "plt.show()"
   ]
  },
  {
   "cell_type": "code",
   "execution_count": null,
   "id": "improved-ballet",
   "metadata": {},
   "outputs": [],
   "source": []
  }
 ],
 "metadata": {
  "kernelspec": {
   "display_name": "Python 3 (ipykernel)",
   "language": "python",
   "name": "python3"
  },
  "language_info": {
   "codemirror_mode": {
    "name": "ipython",
    "version": 3
   },
   "file_extension": ".py",
   "mimetype": "text/x-python",
   "name": "python",
   "nbconvert_exporter": "python",
   "pygments_lexer": "ipython3",
   "version": "3.9.12"
  }
 },
 "nbformat": 4,
 "nbformat_minor": 5
}
