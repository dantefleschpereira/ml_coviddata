{
 "cells": [
  {
   "cell_type": "code",
   "execution_count": 946,
   "id": "28967b6f",
   "metadata": {},
   "outputs": [],
   "source": [
    "import numpy as np\n",
    "import pandas as pd\n",
    "import matplotlib.pyplot as plt\n",
    "from sklearn.preprocessing import OrdinalEncoder\n",
    "pd.set_option('display.max_columns', None)"
   ]
  },
  {
   "cell_type": "markdown",
   "id": "3721488b",
   "metadata": {},
   "source": [
    "#### Análise Exploratória de Dados"
   ]
  },
  {
   "cell_type": "code",
   "execution_count": 947,
   "id": "8c995df2",
   "metadata": {},
   "outputs": [],
   "source": [
    "df = pd.read_excel(r'C:\\Nucleo_IA\\COVID\\ML\\dataset02.xlsx')"
   ]
  },
  {
   "cell_type": "code",
   "execution_count": 948,
   "id": "0df62f47",
   "metadata": {},
   "outputs": [
    {
     "data": {
      "text/html": [
       "<div>\n",
       "<style scoped>\n",
       "    .dataframe tbody tr th:only-of-type {\n",
       "        vertical-align: middle;\n",
       "    }\n",
       "\n",
       "    .dataframe tbody tr th {\n",
       "        vertical-align: top;\n",
       "    }\n",
       "\n",
       "    .dataframe thead th {\n",
       "        text-align: right;\n",
       "    }\n",
       "</style>\n",
       "<table border=\"1\" class=\"dataframe\">\n",
       "  <thead>\n",
       "    <tr style=\"text-align: right;\">\n",
       "      <th></th>\n",
       "      <th>idade</th>\n",
       "      <th>sexo</th>\n",
       "      <th>raca</th>\n",
       "      <th>tagabismo</th>\n",
       "      <th>comorbidade1</th>\n",
       "      <th>comorbidade2</th>\n",
       "      <th>comorbidade3</th>\n",
       "      <th>comorbidade4</th>\n",
       "      <th>trombo_na_internacao</th>\n",
       "      <th>desfecho</th>\n",
       "      <th>anti-inflamatorio1</th>\n",
       "      <th>anti-inflamatorio2</th>\n",
       "      <th>anti-inflamatorio3</th>\n",
       "      <th>anti-inflamatorio_previo</th>\n",
       "      <th>profilaxia_de_trombo1</th>\n",
       "      <th>profilaxia_de_trombo2</th>\n",
       "      <th>anticoagulante_previo</th>\n",
       "      <th>antibiotico1</th>\n",
       "      <th>antibiotico2</th>\n",
       "      <th>proteina c (mg/dl)</th>\n",
       "      <th>ferritina (ng/ml)</th>\n",
       "      <th>leucócitos ( /ul)</th>\n",
       "      <th>creatinina (mg/dl)</th>\n",
       "      <th>ureia(mg/dl)</th>\n",
       "      <th>d-dimeros (ng/ml)</th>\n",
       "      <th>reinfeccao</th>\n",
       "      <th>sintomas</th>\n",
       "    </tr>\n",
       "  </thead>\n",
       "  <tbody>\n",
       "    <tr>\n",
       "      <th>0</th>\n",
       "      <td>41</td>\n",
       "      <td>M</td>\n",
       "      <td>branca</td>\n",
       "      <td>nao</td>\n",
       "      <td>nenhuma</td>\n",
       "      <td>nenhuma</td>\n",
       "      <td>nenhum</td>\n",
       "      <td>nenhum</td>\n",
       "      <td>nenhum</td>\n",
       "      <td>fim_isolamento</td>\n",
       "      <td>nenhum</td>\n",
       "      <td>nenhum</td>\n",
       "      <td>nenhum</td>\n",
       "      <td>Nao</td>\n",
       "      <td>heparina 5000UI/0,25mL</td>\n",
       "      <td>nenhum</td>\n",
       "      <td>Sim</td>\n",
       "      <td>NaN</td>\n",
       "      <td>NaN</td>\n",
       "      <td>8.0</td>\n",
       "      <td>0</td>\n",
       "      <td>4830</td>\n",
       "      <td>0.76</td>\n",
       "      <td>36.0</td>\n",
       "      <td>0</td>\n",
       "      <td>nao</td>\n",
       "      <td>leve</td>\n",
       "    </tr>\n",
       "    <tr>\n",
       "      <th>1</th>\n",
       "      <td>77</td>\n",
       "      <td>F</td>\n",
       "      <td>branca</td>\n",
       "      <td>sim</td>\n",
       "      <td>HAS</td>\n",
       "      <td>nenhuma</td>\n",
       "      <td>nenhum</td>\n",
       "      <td>nenhum</td>\n",
       "      <td>nenhum</td>\n",
       "      <td>fim_isolamento</td>\n",
       "      <td>hidrocortisona 100mg</td>\n",
       "      <td>prednisona 20mg</td>\n",
       "      <td>nenhum</td>\n",
       "      <td>Nao</td>\n",
       "      <td>enonenhumaparina 40mg/0,4mL</td>\n",
       "      <td>nenhum</td>\n",
       "      <td>Sim</td>\n",
       "      <td>NaN</td>\n",
       "      <td>NaN</td>\n",
       "      <td>14.7</td>\n",
       "      <td>0</td>\n",
       "      <td>5280</td>\n",
       "      <td>0.82</td>\n",
       "      <td>31.0</td>\n",
       "      <td>0</td>\n",
       "      <td>nao</td>\n",
       "      <td>assintom</td>\n",
       "    </tr>\n",
       "    <tr>\n",
       "      <th>2</th>\n",
       "      <td>67</td>\n",
       "      <td>M</td>\n",
       "      <td>branca</td>\n",
       "      <td>previo</td>\n",
       "      <td>HAS</td>\n",
       "      <td>DM</td>\n",
       "      <td>nenhum</td>\n",
       "      <td>nenhum</td>\n",
       "      <td>nenhum</td>\n",
       "      <td>fim_isolamento</td>\n",
       "      <td>nenhum</td>\n",
       "      <td>nenhum</td>\n",
       "      <td>nenhum</td>\n",
       "      <td>Nao</td>\n",
       "      <td>heparina 5000UI/0,25mL</td>\n",
       "      <td>nenhum</td>\n",
       "      <td>Sim</td>\n",
       "      <td>NaN</td>\n",
       "      <td>NaN</td>\n",
       "      <td>0.0</td>\n",
       "      <td>0</td>\n",
       "      <td>8650</td>\n",
       "      <td>0.72</td>\n",
       "      <td>0.0</td>\n",
       "      <td>0</td>\n",
       "      <td>nao</td>\n",
       "      <td>leve</td>\n",
       "    </tr>\n",
       "    <tr>\n",
       "      <th>3</th>\n",
       "      <td>51</td>\n",
       "      <td>M</td>\n",
       "      <td>branca</td>\n",
       "      <td>nao</td>\n",
       "      <td>HAS</td>\n",
       "      <td>renal-hd</td>\n",
       "      <td>nenhum</td>\n",
       "      <td>nenhum</td>\n",
       "      <td>nenhum</td>\n",
       "      <td>alta</td>\n",
       "      <td>prednisona 20mg</td>\n",
       "      <td>nenhum</td>\n",
       "      <td>nenhum</td>\n",
       "      <td>Sim</td>\n",
       "      <td>nenhum</td>\n",
       "      <td>nenhum</td>\n",
       "      <td>Nao</td>\n",
       "      <td>NaN</td>\n",
       "      <td>NaN</td>\n",
       "      <td>6.2</td>\n",
       "      <td>0</td>\n",
       "      <td>9590</td>\n",
       "      <td>0.00</td>\n",
       "      <td>142.0</td>\n",
       "      <td>0</td>\n",
       "      <td>nao</td>\n",
       "      <td>leve</td>\n",
       "    </tr>\n",
       "    <tr>\n",
       "      <th>4</th>\n",
       "      <td>51</td>\n",
       "      <td>M</td>\n",
       "      <td>branca</td>\n",
       "      <td>nao</td>\n",
       "      <td>HAS</td>\n",
       "      <td>renal-hd</td>\n",
       "      <td>nenhum</td>\n",
       "      <td>nenhum</td>\n",
       "      <td>nenhum</td>\n",
       "      <td>alta</td>\n",
       "      <td>denenhumametasona 4mg/mL 2,5mL</td>\n",
       "      <td>hidrocortisona 100mg</td>\n",
       "      <td>prednisona 20mg</td>\n",
       "      <td>Nao</td>\n",
       "      <td>nenhum</td>\n",
       "      <td>nenhum</td>\n",
       "      <td>Nao</td>\n",
       "      <td>NaN</td>\n",
       "      <td>NaN</td>\n",
       "      <td>32.0</td>\n",
       "      <td>0</td>\n",
       "      <td>4230</td>\n",
       "      <td>15.40</td>\n",
       "      <td>158.0</td>\n",
       "      <td>1535</td>\n",
       "      <td>sim</td>\n",
       "      <td>assintom</td>\n",
       "    </tr>\n",
       "    <tr>\n",
       "      <th>5</th>\n",
       "      <td>64</td>\n",
       "      <td>F</td>\n",
       "      <td>branca</td>\n",
       "      <td>nao</td>\n",
       "      <td>HAS</td>\n",
       "      <td>nenhuma</td>\n",
       "      <td>nenhum</td>\n",
       "      <td>nenhum</td>\n",
       "      <td>nenhum</td>\n",
       "      <td>alta</td>\n",
       "      <td>nenhum</td>\n",
       "      <td>nenhum</td>\n",
       "      <td>nenhum</td>\n",
       "      <td>Nao</td>\n",
       "      <td>heparina 5000UI/0,25mL</td>\n",
       "      <td>nenhum</td>\n",
       "      <td>Sim</td>\n",
       "      <td>NaN</td>\n",
       "      <td>NaN</td>\n",
       "      <td>4.1</td>\n",
       "      <td>1530</td>\n",
       "      <td>6430</td>\n",
       "      <td>1.00</td>\n",
       "      <td>52.0</td>\n",
       "      <td>0</td>\n",
       "      <td>nao</td>\n",
       "      <td>leve</td>\n",
       "    </tr>\n",
       "    <tr>\n",
       "      <th>6</th>\n",
       "      <td>38</td>\n",
       "      <td>M</td>\n",
       "      <td>preta</td>\n",
       "      <td>nao</td>\n",
       "      <td>renal-hd</td>\n",
       "      <td>nenhuma</td>\n",
       "      <td>nenhum</td>\n",
       "      <td>nenhum</td>\n",
       "      <td>nenhum</td>\n",
       "      <td>alta</td>\n",
       "      <td>hidrocortisona 100mg</td>\n",
       "      <td>prednisona 20mg</td>\n",
       "      <td>nenhum</td>\n",
       "      <td>Sim</td>\n",
       "      <td>heparina 5000UI/0,25mL</td>\n",
       "      <td>nenhum</td>\n",
       "      <td>Nao</td>\n",
       "      <td>NaN</td>\n",
       "      <td>NaN</td>\n",
       "      <td>19.3</td>\n",
       "      <td>2380</td>\n",
       "      <td>1260</td>\n",
       "      <td>7.35</td>\n",
       "      <td>191.0</td>\n",
       "      <td>1021</td>\n",
       "      <td>nao</td>\n",
       "      <td>leve</td>\n",
       "    </tr>\n",
       "    <tr>\n",
       "      <th>7</th>\n",
       "      <td>37</td>\n",
       "      <td>M</td>\n",
       "      <td>branca</td>\n",
       "      <td>sim</td>\n",
       "      <td>HIV</td>\n",
       "      <td>oncologico</td>\n",
       "      <td>nenhum</td>\n",
       "      <td>nenhum</td>\n",
       "      <td>TVP</td>\n",
       "      <td>fim_isolamento</td>\n",
       "      <td>tiamina 300mg</td>\n",
       "      <td>piridonenhumina 40mg</td>\n",
       "      <td>nenhum</td>\n",
       "      <td>Nao</td>\n",
       "      <td>enonenhumaparina 40mg/0,4mL</td>\n",
       "      <td>nenhum</td>\n",
       "      <td>Sim</td>\n",
       "      <td>NaN</td>\n",
       "      <td>NaN</td>\n",
       "      <td>4.8</td>\n",
       "      <td>0</td>\n",
       "      <td>4410</td>\n",
       "      <td>0.68</td>\n",
       "      <td>31.0</td>\n",
       "      <td>437</td>\n",
       "      <td>nao</td>\n",
       "      <td>leve</td>\n",
       "    </tr>\n",
       "    <tr>\n",
       "      <th>8</th>\n",
       "      <td>82</td>\n",
       "      <td>F</td>\n",
       "      <td>branca</td>\n",
       "      <td>nao</td>\n",
       "      <td>HAS</td>\n",
       "      <td>oncologico</td>\n",
       "      <td>nenhum</td>\n",
       "      <td>nenhum</td>\n",
       "      <td>nenhum</td>\n",
       "      <td>obito</td>\n",
       "      <td>nenhum</td>\n",
       "      <td>nenhum</td>\n",
       "      <td>nenhum</td>\n",
       "      <td>Nao</td>\n",
       "      <td>enonenhumaparina 40mg/0,4mL</td>\n",
       "      <td>nenhum</td>\n",
       "      <td>Sim</td>\n",
       "      <td>NaN</td>\n",
       "      <td>NaN</td>\n",
       "      <td>0.0</td>\n",
       "      <td>0</td>\n",
       "      <td>0</td>\n",
       "      <td>0.00</td>\n",
       "      <td>0.0</td>\n",
       "      <td>0</td>\n",
       "      <td>nao</td>\n",
       "      <td>assintom</td>\n",
       "    </tr>\n",
       "    <tr>\n",
       "      <th>9</th>\n",
       "      <td>45</td>\n",
       "      <td>M</td>\n",
       "      <td>branca</td>\n",
       "      <td>nao</td>\n",
       "      <td>nenhuma</td>\n",
       "      <td>nenhuma</td>\n",
       "      <td>nenhum</td>\n",
       "      <td>nenhum</td>\n",
       "      <td>ambos</td>\n",
       "      <td>fim_isolamento</td>\n",
       "      <td>nenhum</td>\n",
       "      <td>nenhum</td>\n",
       "      <td>nenhum</td>\n",
       "      <td>Nao</td>\n",
       "      <td>enonenhumaparina 40mg/0,4mL</td>\n",
       "      <td>enonenhumaparina 60mg/0,6mL</td>\n",
       "      <td>Sim</td>\n",
       "      <td>NaN</td>\n",
       "      <td>NaN</td>\n",
       "      <td>17.2</td>\n",
       "      <td>366</td>\n",
       "      <td>2790</td>\n",
       "      <td>1.08</td>\n",
       "      <td>22.0</td>\n",
       "      <td>0</td>\n",
       "      <td>nao</td>\n",
       "      <td>leve</td>\n",
       "    </tr>\n",
       "    <tr>\n",
       "      <th>10</th>\n",
       "      <td>63</td>\n",
       "      <td>M</td>\n",
       "      <td>branca</td>\n",
       "      <td>previo</td>\n",
       "      <td>HAS</td>\n",
       "      <td>DM</td>\n",
       "      <td>oncologica</td>\n",
       "      <td>nenhum</td>\n",
       "      <td>nenhum</td>\n",
       "      <td>UTI</td>\n",
       "      <td>prednisona 20mg</td>\n",
       "      <td>nenhum</td>\n",
       "      <td>nenhum</td>\n",
       "      <td>Sim</td>\n",
       "      <td>heparina 5000UI/0,25mL</td>\n",
       "      <td>nenhum</td>\n",
       "      <td>Sim</td>\n",
       "      <td>NaN</td>\n",
       "      <td>NaN</td>\n",
       "      <td>8.8</td>\n",
       "      <td>0</td>\n",
       "      <td>4480</td>\n",
       "      <td>1.33</td>\n",
       "      <td>61.0</td>\n",
       "      <td>3760</td>\n",
       "      <td>nao</td>\n",
       "      <td>grave</td>\n",
       "    </tr>\n",
       "    <tr>\n",
       "      <th>11</th>\n",
       "      <td>79</td>\n",
       "      <td>M</td>\n",
       "      <td>preta</td>\n",
       "      <td>nao</td>\n",
       "      <td>HAS</td>\n",
       "      <td>nenhuma</td>\n",
       "      <td>nenhum</td>\n",
       "      <td>nenhum</td>\n",
       "      <td>nenhum</td>\n",
       "      <td>alta</td>\n",
       "      <td>nenhum</td>\n",
       "      <td>nenhum</td>\n",
       "      <td>nenhum</td>\n",
       "      <td>Nao</td>\n",
       "      <td>heparina 5000UI/0,25mL</td>\n",
       "      <td>nenhum</td>\n",
       "      <td>Sim</td>\n",
       "      <td>NaN</td>\n",
       "      <td>NaN</td>\n",
       "      <td>0.0</td>\n",
       "      <td>0</td>\n",
       "      <td>11150</td>\n",
       "      <td>0.89</td>\n",
       "      <td>53.0</td>\n",
       "      <td>0</td>\n",
       "      <td>nao</td>\n",
       "      <td>assintom</td>\n",
       "    </tr>\n",
       "    <tr>\n",
       "      <th>12</th>\n",
       "      <td>79</td>\n",
       "      <td>M</td>\n",
       "      <td>branca</td>\n",
       "      <td>nao</td>\n",
       "      <td>HAS</td>\n",
       "      <td>nenhuma</td>\n",
       "      <td>nenhum</td>\n",
       "      <td>nenhum</td>\n",
       "      <td>nenhum</td>\n",
       "      <td>obito</td>\n",
       "      <td>denenhumametasona 4mg/mL 2,5mL</td>\n",
       "      <td>nenhum</td>\n",
       "      <td>nenhum</td>\n",
       "      <td>Nao</td>\n",
       "      <td>heparina 5000UI/0,25mL</td>\n",
       "      <td>nenhum</td>\n",
       "      <td>Nao</td>\n",
       "      <td>NaN</td>\n",
       "      <td>NaN</td>\n",
       "      <td>21.1</td>\n",
       "      <td>0</td>\n",
       "      <td>10260</td>\n",
       "      <td>1.09</td>\n",
       "      <td>62.0</td>\n",
       "      <td>1657</td>\n",
       "      <td>sim</td>\n",
       "      <td>moderado</td>\n",
       "    </tr>\n",
       "    <tr>\n",
       "      <th>13</th>\n",
       "      <td>52</td>\n",
       "      <td>F</td>\n",
       "      <td>preta</td>\n",
       "      <td>nao</td>\n",
       "      <td>DM</td>\n",
       "      <td>nenhuma</td>\n",
       "      <td>nenhum</td>\n",
       "      <td>nenhum</td>\n",
       "      <td>TEP</td>\n",
       "      <td>alta</td>\n",
       "      <td>nenhum</td>\n",
       "      <td>nenhum</td>\n",
       "      <td>nenhum</td>\n",
       "      <td>Nao</td>\n",
       "      <td>heparina 5000UI/0,25mL</td>\n",
       "      <td>nenhum</td>\n",
       "      <td>Sim</td>\n",
       "      <td>NaN</td>\n",
       "      <td>NaN</td>\n",
       "      <td>2.1</td>\n",
       "      <td>0</td>\n",
       "      <td>4510</td>\n",
       "      <td>1.12</td>\n",
       "      <td>22.0</td>\n",
       "      <td>2466</td>\n",
       "      <td>nao</td>\n",
       "      <td>leve</td>\n",
       "    </tr>\n",
       "    <tr>\n",
       "      <th>14</th>\n",
       "      <td>30</td>\n",
       "      <td>M</td>\n",
       "      <td>preta</td>\n",
       "      <td>sim</td>\n",
       "      <td>HIV</td>\n",
       "      <td>nenhuma</td>\n",
       "      <td>nenhum</td>\n",
       "      <td>nenhum</td>\n",
       "      <td>nenhum</td>\n",
       "      <td>alta</td>\n",
       "      <td>piridonenhumina 40mg</td>\n",
       "      <td>nenhum</td>\n",
       "      <td>nenhum</td>\n",
       "      <td>Sim</td>\n",
       "      <td>nenhum</td>\n",
       "      <td>nenhum</td>\n",
       "      <td>Nao</td>\n",
       "      <td>NaN</td>\n",
       "      <td>NaN</td>\n",
       "      <td>5.1</td>\n",
       "      <td>0</td>\n",
       "      <td>2560</td>\n",
       "      <td>1.09</td>\n",
       "      <td>22.0</td>\n",
       "      <td>0</td>\n",
       "      <td>sim</td>\n",
       "      <td>leve</td>\n",
       "    </tr>\n",
       "  </tbody>\n",
       "</table>\n",
       "</div>"
      ],
      "text/plain": [
       "    idade sexo    raca tagabismo comorbidade1 comorbidade2 comorbidade3  \\\n",
       "0      41    M  branca       nao      nenhuma      nenhuma       nenhum   \n",
       "1      77    F  branca       sim          HAS      nenhuma       nenhum   \n",
       "2      67    M  branca    previo          HAS           DM       nenhum   \n",
       "3      51    M  branca       nao          HAS     renal-hd       nenhum   \n",
       "4      51    M  branca       nao          HAS     renal-hd       nenhum   \n",
       "5      64    F  branca       nao          HAS      nenhuma       nenhum   \n",
       "6      38    M   preta       nao     renal-hd      nenhuma       nenhum   \n",
       "7      37    M  branca       sim          HIV   oncologico       nenhum   \n",
       "8      82    F  branca       nao          HAS   oncologico       nenhum   \n",
       "9      45    M  branca       nao      nenhuma      nenhuma       nenhum   \n",
       "10     63    M  branca    previo          HAS           DM   oncologica   \n",
       "11     79    M   preta       nao          HAS      nenhuma       nenhum   \n",
       "12     79    M  branca       nao          HAS      nenhuma       nenhum   \n",
       "13     52    F   preta       nao           DM      nenhuma       nenhum   \n",
       "14     30    M   preta       sim          HIV      nenhuma       nenhum   \n",
       "\n",
       "   comorbidade4 trombo_na_internacao        desfecho  \\\n",
       "0        nenhum               nenhum  fim_isolamento   \n",
       "1        nenhum               nenhum  fim_isolamento   \n",
       "2        nenhum               nenhum  fim_isolamento   \n",
       "3        nenhum               nenhum            alta   \n",
       "4        nenhum               nenhum            alta   \n",
       "5        nenhum               nenhum            alta   \n",
       "6        nenhum               nenhum            alta   \n",
       "7        nenhum                  TVP  fim_isolamento   \n",
       "8        nenhum               nenhum           obito   \n",
       "9        nenhum                ambos  fim_isolamento   \n",
       "10       nenhum               nenhum             UTI   \n",
       "11       nenhum               nenhum            alta   \n",
       "12       nenhum               nenhum           obito   \n",
       "13       nenhum                  TEP            alta   \n",
       "14       nenhum               nenhum            alta   \n",
       "\n",
       "                anti-inflamatorio1    anti-inflamatorio2 anti-inflamatorio3  \\\n",
       "0                           nenhum                nenhum             nenhum   \n",
       "1             hidrocortisona 100mg       prednisona 20mg             nenhum   \n",
       "2                           nenhum                nenhum             nenhum   \n",
       "3                  prednisona 20mg                nenhum             nenhum   \n",
       "4   denenhumametasona 4mg/mL 2,5mL  hidrocortisona 100mg    prednisona 20mg   \n",
       "5                           nenhum                nenhum             nenhum   \n",
       "6             hidrocortisona 100mg       prednisona 20mg             nenhum   \n",
       "7                    tiamina 300mg  piridonenhumina 40mg             nenhum   \n",
       "8                           nenhum                nenhum             nenhum   \n",
       "9                           nenhum                nenhum             nenhum   \n",
       "10                 prednisona 20mg                nenhum             nenhum   \n",
       "11                          nenhum                nenhum             nenhum   \n",
       "12  denenhumametasona 4mg/mL 2,5mL                nenhum             nenhum   \n",
       "13                          nenhum                nenhum             nenhum   \n",
       "14            piridonenhumina 40mg                nenhum             nenhum   \n",
       "\n",
       "   anti-inflamatorio_previo        profilaxia_de_trombo1  \\\n",
       "0                       Nao       heparina 5000UI/0,25mL   \n",
       "1                       Nao  enonenhumaparina 40mg/0,4mL   \n",
       "2                       Nao       heparina 5000UI/0,25mL   \n",
       "3                       Sim                       nenhum   \n",
       "4                       Nao                       nenhum   \n",
       "5                       Nao       heparina 5000UI/0,25mL   \n",
       "6                       Sim       heparina 5000UI/0,25mL   \n",
       "7                       Nao  enonenhumaparina 40mg/0,4mL   \n",
       "8                       Nao  enonenhumaparina 40mg/0,4mL   \n",
       "9                       Nao  enonenhumaparina 40mg/0,4mL   \n",
       "10                      Sim       heparina 5000UI/0,25mL   \n",
       "11                      Nao       heparina 5000UI/0,25mL   \n",
       "12                      Nao       heparina 5000UI/0,25mL   \n",
       "13                      Nao       heparina 5000UI/0,25mL   \n",
       "14                      Sim                       nenhum   \n",
       "\n",
       "          profilaxia_de_trombo2 anticoagulante_previo antibiotico1  \\\n",
       "0                        nenhum                   Sim          NaN   \n",
       "1                        nenhum                   Sim          NaN   \n",
       "2                        nenhum                   Sim          NaN   \n",
       "3                        nenhum                   Nao          NaN   \n",
       "4                        nenhum                   Nao          NaN   \n",
       "5                        nenhum                   Sim          NaN   \n",
       "6                        nenhum                   Nao          NaN   \n",
       "7                        nenhum                   Sim          NaN   \n",
       "8                        nenhum                   Sim          NaN   \n",
       "9   enonenhumaparina 60mg/0,6mL                   Sim          NaN   \n",
       "10                       nenhum                   Sim          NaN   \n",
       "11                       nenhum                   Sim          NaN   \n",
       "12                       nenhum                   Nao          NaN   \n",
       "13                       nenhum                   Sim          NaN   \n",
       "14                       nenhum                   Nao          NaN   \n",
       "\n",
       "   antibiotico2  proteina c (mg/dl)  ferritina (ng/ml)  leucócitos ( /ul)  \\\n",
       "0           NaN                 8.0                  0               4830   \n",
       "1           NaN                14.7                  0               5280   \n",
       "2           NaN                 0.0                  0               8650   \n",
       "3           NaN                 6.2                  0               9590   \n",
       "4           NaN                32.0                  0               4230   \n",
       "5           NaN                 4.1               1530               6430   \n",
       "6           NaN                19.3               2380               1260   \n",
       "7           NaN                 4.8                  0               4410   \n",
       "8           NaN                 0.0                  0                  0   \n",
       "9           NaN                17.2                366               2790   \n",
       "10          NaN                 8.8                  0               4480   \n",
       "11          NaN                 0.0                  0              11150   \n",
       "12          NaN                21.1                  0              10260   \n",
       "13          NaN                 2.1                  0               4510   \n",
       "14          NaN                 5.1                  0               2560   \n",
       "\n",
       "    creatinina (mg/dl)  ureia(mg/dl)  d-dimeros (ng/ml) reinfeccao  sintomas  \n",
       "0                 0.76          36.0                  0        nao      leve  \n",
       "1                 0.82          31.0                  0        nao  assintom  \n",
       "2                 0.72           0.0                  0        nao      leve  \n",
       "3                 0.00         142.0                  0        nao      leve  \n",
       "4                15.40         158.0               1535        sim  assintom  \n",
       "5                 1.00          52.0                  0        nao      leve  \n",
       "6                 7.35         191.0               1021        nao      leve  \n",
       "7                 0.68          31.0                437        nao      leve  \n",
       "8                 0.00           0.0                  0        nao  assintom  \n",
       "9                 1.08          22.0                  0        nao      leve  \n",
       "10                1.33          61.0               3760        nao     grave  \n",
       "11                0.89          53.0                  0        nao  assintom  \n",
       "12                1.09          62.0               1657        sim  moderado  \n",
       "13                1.12          22.0               2466        nao      leve  \n",
       "14                1.09          22.0                  0        sim      leve  "
      ]
     },
     "execution_count": 948,
     "metadata": {},
     "output_type": "execute_result"
    }
   ],
   "source": [
    "df.head(15)"
   ]
  },
  {
   "cell_type": "markdown",
   "id": "545211ac",
   "metadata": {},
   "source": [
    "Valores Vazios\n",
    "- Deletar linhas/colunas vazias\n",
    "- Deletar linhas que possuem valores vazios\n",
    "- Preencher valores vazios (último valor)"
   ]
  },
  {
   "cell_type": "code",
   "execution_count": 949,
   "id": "d5cb2d18",
   "metadata": {},
   "outputs": [],
   "source": [
    "# deletar linhas e colunas completamente vazias\n",
    "# df = df.dropna(how='all', axis=1)\n",
    "\n",
    "# deletar linhas que possuem pelo menos 1 valor vazio\n",
    "# df = df.dropna()"
   ]
  },
  {
   "cell_type": "code",
   "execution_count": 950,
   "id": "0c37cac1",
   "metadata": {},
   "outputs": [],
   "source": [
    "# preencher com o último valor\n",
    "df = df.ffill()"
   ]
  },
  {
   "cell_type": "markdown",
   "id": "d2292429",
   "metadata": {},
   "source": [
    "Visualização da matríz de correlações:"
   ]
  },
  {
   "cell_type": "code",
   "execution_count": 951,
   "id": "5471cc9e",
   "metadata": {},
   "outputs": [
    {
     "data": {
      "text/html": [
       "<div>\n",
       "<style scoped>\n",
       "    .dataframe tbody tr th:only-of-type {\n",
       "        vertical-align: middle;\n",
       "    }\n",
       "\n",
       "    .dataframe tbody tr th {\n",
       "        vertical-align: top;\n",
       "    }\n",
       "\n",
       "    .dataframe thead th {\n",
       "        text-align: right;\n",
       "    }\n",
       "</style>\n",
       "<table border=\"1\" class=\"dataframe\">\n",
       "  <thead>\n",
       "    <tr style=\"text-align: right;\">\n",
       "      <th></th>\n",
       "      <th>idade</th>\n",
       "      <th>proteina c (mg/dl)</th>\n",
       "      <th>ferritina (ng/ml)</th>\n",
       "      <th>leucócitos ( /ul)</th>\n",
       "      <th>creatinina (mg/dl)</th>\n",
       "      <th>ureia(mg/dl)</th>\n",
       "      <th>d-dimeros (ng/ml)</th>\n",
       "    </tr>\n",
       "  </thead>\n",
       "  <tbody>\n",
       "    <tr>\n",
       "      <th>idade</th>\n",
       "      <td>1.000000</td>\n",
       "      <td>0.024085</td>\n",
       "      <td>0.031801</td>\n",
       "      <td>0.164303</td>\n",
       "      <td>0.016689</td>\n",
       "      <td>0.274912</td>\n",
       "      <td>0.036082</td>\n",
       "    </tr>\n",
       "    <tr>\n",
       "      <th>proteina c (mg/dl)</th>\n",
       "      <td>0.024085</td>\n",
       "      <td>1.000000</td>\n",
       "      <td>0.043182</td>\n",
       "      <td>0.245634</td>\n",
       "      <td>0.242615</td>\n",
       "      <td>0.181886</td>\n",
       "      <td>0.125477</td>\n",
       "    </tr>\n",
       "    <tr>\n",
       "      <th>ferritina (ng/ml)</th>\n",
       "      <td>0.031801</td>\n",
       "      <td>0.043182</td>\n",
       "      <td>1.000000</td>\n",
       "      <td>0.073278</td>\n",
       "      <td>0.035805</td>\n",
       "      <td>0.166306</td>\n",
       "      <td>0.000637</td>\n",
       "    </tr>\n",
       "    <tr>\n",
       "      <th>leucócitos ( /ul)</th>\n",
       "      <td>0.164303</td>\n",
       "      <td>0.245634</td>\n",
       "      <td>0.073278</td>\n",
       "      <td>1.000000</td>\n",
       "      <td>0.119194</td>\n",
       "      <td>0.262271</td>\n",
       "      <td>0.165940</td>\n",
       "    </tr>\n",
       "    <tr>\n",
       "      <th>creatinina (mg/dl)</th>\n",
       "      <td>0.016689</td>\n",
       "      <td>0.242615</td>\n",
       "      <td>0.035805</td>\n",
       "      <td>0.119194</td>\n",
       "      <td>1.000000</td>\n",
       "      <td>0.194525</td>\n",
       "      <td>-0.009584</td>\n",
       "    </tr>\n",
       "    <tr>\n",
       "      <th>ureia(mg/dl)</th>\n",
       "      <td>0.274912</td>\n",
       "      <td>0.181886</td>\n",
       "      <td>0.166306</td>\n",
       "      <td>0.262271</td>\n",
       "      <td>0.194525</td>\n",
       "      <td>1.000000</td>\n",
       "      <td>0.081827</td>\n",
       "    </tr>\n",
       "    <tr>\n",
       "      <th>d-dimeros (ng/ml)</th>\n",
       "      <td>0.036082</td>\n",
       "      <td>0.125477</td>\n",
       "      <td>0.000637</td>\n",
       "      <td>0.165940</td>\n",
       "      <td>-0.009584</td>\n",
       "      <td>0.081827</td>\n",
       "      <td>1.000000</td>\n",
       "    </tr>\n",
       "  </tbody>\n",
       "</table>\n",
       "</div>"
      ],
      "text/plain": [
       "                       idade  proteina c (mg/dl)  ferritina (ng/ml)  \\\n",
       "idade               1.000000            0.024085           0.031801   \n",
       "proteina c (mg/dl)  0.024085            1.000000           0.043182   \n",
       "ferritina (ng/ml)   0.031801            0.043182           1.000000   \n",
       "leucócitos ( /ul)   0.164303            0.245634           0.073278   \n",
       "creatinina (mg/dl)  0.016689            0.242615           0.035805   \n",
       "ureia(mg/dl)        0.274912            0.181886           0.166306   \n",
       "d-dimeros (ng/ml)   0.036082            0.125477           0.000637   \n",
       "\n",
       "                    leucócitos ( /ul)  creatinina (mg/dl)  ureia(mg/dl)  \\\n",
       "idade                        0.164303            0.016689      0.274912   \n",
       "proteina c (mg/dl)           0.245634            0.242615      0.181886   \n",
       "ferritina (ng/ml)            0.073278            0.035805      0.166306   \n",
       "leucócitos ( /ul)            1.000000            0.119194      0.262271   \n",
       "creatinina (mg/dl)           0.119194            1.000000      0.194525   \n",
       "ureia(mg/dl)                 0.262271            0.194525      1.000000   \n",
       "d-dimeros (ng/ml)            0.165940           -0.009584      0.081827   \n",
       "\n",
       "                    d-dimeros (ng/ml)  \n",
       "idade                        0.036082  \n",
       "proteina c (mg/dl)           0.125477  \n",
       "ferritina (ng/ml)            0.000637  \n",
       "leucócitos ( /ul)            0.165940  \n",
       "creatinina (mg/dl)          -0.009584  \n",
       "ureia(mg/dl)                 0.081827  \n",
       "d-dimeros (ng/ml)            1.000000  "
      ]
     },
     "execution_count": 951,
     "metadata": {},
     "output_type": "execute_result"
    }
   ],
   "source": [
    "corr = df.corr()\n",
    "corr"
   ]
  },
  {
   "cell_type": "code",
   "execution_count": 952,
   "id": "eaaf5a31",
   "metadata": {},
   "outputs": [
    {
     "name": "stdout",
     "output_type": "stream",
     "text": [
      "<class 'pandas.core.frame.DataFrame'>\n",
      "RangeIndex: 429 entries, 0 to 428\n",
      "Data columns (total 25 columns):\n",
      " #   Column                    Non-Null Count  Dtype  \n",
      "---  ------                    --------------  -----  \n",
      " 0   idade                     429 non-null    int64  \n",
      " 1   sexo                      429 non-null    object \n",
      " 2   raca                      429 non-null    object \n",
      " 3   tagabismo                 429 non-null    object \n",
      " 4   comorbidade1              429 non-null    object \n",
      " 5   comorbidade2              429 non-null    object \n",
      " 6   comorbidade3              429 non-null    object \n",
      " 7   comorbidade4              429 non-null    object \n",
      " 8   trombo_na_internacao      429 non-null    object \n",
      " 9   desfecho                  429 non-null    object \n",
      " 10  anti-inflamatorio1        429 non-null    object \n",
      " 11  anti-inflamatorio2        429 non-null    object \n",
      " 12  anti-inflamatorio3        429 non-null    object \n",
      " 13  anti-inflamatorio_previo  429 non-null    object \n",
      " 14  profilaxia_de_trombo1     429 non-null    object \n",
      " 15  profilaxia_de_trombo2     429 non-null    object \n",
      " 16  anticoagulante_previo     429 non-null    object \n",
      " 17  proteina c (mg/dl)        429 non-null    float64\n",
      " 18  ferritina (ng/ml)         429 non-null    int64  \n",
      " 19  leucócitos ( /ul)         429 non-null    int64  \n",
      " 20  creatinina (mg/dl)        429 non-null    float64\n",
      " 21  ureia(mg/dl)              429 non-null    float64\n",
      " 22  d-dimeros (ng/ml)         429 non-null    int64  \n",
      " 23  reinfeccao                429 non-null    object \n",
      " 24  sintomas                  429 non-null    object \n",
      "dtypes: float64(3), int64(4), object(18)\n",
      "memory usage: 83.9+ KB\n"
     ]
    }
   ],
   "source": [
    "# deletar colunas incompletas\n",
    "df = df.drop(columns='antibiotico1')\n",
    "df = df.drop(columns='antibiotico2')\n",
    "df.info()"
   ]
  },
  {
   "cell_type": "code",
   "execution_count": 953,
   "id": "2234faf1",
   "metadata": {},
   "outputs": [
    {
     "data": {
      "text/html": [
       "<div>\n",
       "<style scoped>\n",
       "    .dataframe tbody tr th:only-of-type {\n",
       "        vertical-align: middle;\n",
       "    }\n",
       "\n",
       "    .dataframe tbody tr th {\n",
       "        vertical-align: top;\n",
       "    }\n",
       "\n",
       "    .dataframe thead th {\n",
       "        text-align: right;\n",
       "    }\n",
       "</style>\n",
       "<table border=\"1\" class=\"dataframe\">\n",
       "  <thead>\n",
       "    <tr style=\"text-align: right;\">\n",
       "      <th></th>\n",
       "      <th>comorbidade1</th>\n",
       "      <th>comorbidade2</th>\n",
       "      <th>comorbidade3</th>\n",
       "      <th>trombo_na_internacao</th>\n",
       "      <th>desfecho</th>\n",
       "    </tr>\n",
       "  </thead>\n",
       "  <tbody>\n",
       "    <tr>\n",
       "      <th>0</th>\n",
       "      <td>nenhuma</td>\n",
       "      <td>nenhuma</td>\n",
       "      <td>nenhum</td>\n",
       "      <td>nenhum</td>\n",
       "      <td>4</td>\n",
       "    </tr>\n",
       "    <tr>\n",
       "      <th>1</th>\n",
       "      <td>HAS</td>\n",
       "      <td>nenhuma</td>\n",
       "      <td>nenhum</td>\n",
       "      <td>nenhum</td>\n",
       "      <td>4</td>\n",
       "    </tr>\n",
       "    <tr>\n",
       "      <th>2</th>\n",
       "      <td>HAS</td>\n",
       "      <td>DM</td>\n",
       "      <td>nenhum</td>\n",
       "      <td>nenhum</td>\n",
       "      <td>4</td>\n",
       "    </tr>\n",
       "    <tr>\n",
       "      <th>3</th>\n",
       "      <td>HAS</td>\n",
       "      <td>renal-hd</td>\n",
       "      <td>nenhum</td>\n",
       "      <td>nenhum</td>\n",
       "      <td>1</td>\n",
       "    </tr>\n",
       "    <tr>\n",
       "      <th>4</th>\n",
       "      <td>HAS</td>\n",
       "      <td>renal-hd</td>\n",
       "      <td>nenhum</td>\n",
       "      <td>nenhum</td>\n",
       "      <td>1</td>\n",
       "    </tr>\n",
       "    <tr>\n",
       "      <th>...</th>\n",
       "      <td>...</td>\n",
       "      <td>...</td>\n",
       "      <td>...</td>\n",
       "      <td>...</td>\n",
       "      <td>...</td>\n",
       "    </tr>\n",
       "    <tr>\n",
       "      <th>426</th>\n",
       "      <td>HAS</td>\n",
       "      <td>nenhuma</td>\n",
       "      <td>nenhum</td>\n",
       "      <td>nenhum</td>\n",
       "      <td>1</td>\n",
       "    </tr>\n",
       "    <tr>\n",
       "      <th>427</th>\n",
       "      <td>nenhuma</td>\n",
       "      <td>nenhuma</td>\n",
       "      <td>nenhum</td>\n",
       "      <td>nenhum</td>\n",
       "      <td>4</td>\n",
       "    </tr>\n",
       "    <tr>\n",
       "      <th>428</th>\n",
       "      <td>DM</td>\n",
       "      <td>HAS</td>\n",
       "      <td>nenhum</td>\n",
       "      <td>nenhum</td>\n",
       "      <td>1</td>\n",
       "    </tr>\n",
       "    <tr>\n",
       "      <th>429</th>\n",
       "      <td>HAS</td>\n",
       "      <td>ICC</td>\n",
       "      <td>nenhum</td>\n",
       "      <td>nenhum</td>\n",
       "      <td>2</td>\n",
       "    </tr>\n",
       "    <tr>\n",
       "      <th>430</th>\n",
       "      <td>DM</td>\n",
       "      <td>HAS</td>\n",
       "      <td>nenhum</td>\n",
       "      <td>nenhum</td>\n",
       "      <td>1</td>\n",
       "    </tr>\n",
       "  </tbody>\n",
       "</table>\n",
       "<p>431 rows × 5 columns</p>\n",
       "</div>"
      ],
      "text/plain": [
       "    comorbidade1 comorbidade2 comorbidade3 trombo_na_internacao  desfecho\n",
       "0        nenhuma      nenhuma       nenhum               nenhum         4\n",
       "1            HAS      nenhuma       nenhum               nenhum         4\n",
       "2            HAS           DM       nenhum               nenhum         4\n",
       "3            HAS     renal-hd       nenhum               nenhum         1\n",
       "4            HAS     renal-hd       nenhum               nenhum         1\n",
       "..           ...          ...          ...                  ...       ...\n",
       "426          HAS      nenhuma       nenhum               nenhum         1\n",
       "427      nenhuma      nenhuma       nenhum               nenhum         4\n",
       "428           DM          HAS       nenhum               nenhum         1\n",
       "429          HAS          ICC       nenhum               nenhum         2\n",
       "430           DM          HAS       nenhum               nenhum         1\n",
       "\n",
       "[431 rows x 5 columns]"
      ]
     },
     "metadata": {},
     "output_type": "display_data"
    }
   ],
   "source": [
    " # DESFECHO (1-alta/ 2-UTI/ 3-óbito/4-fim isolamento/5-transf.)\n",
    "view_comorbidade_desfecho = df[['comorbidade1','comorbidade2','comorbidade3','trombo_na_internacao', 'desfecho']]\n",
    "display(view)"
   ]
  },
  {
   "cell_type": "code",
   "execution_count": 954,
   "id": "bb6d81d1",
   "metadata": {},
   "outputs": [
    {
     "data": {
      "text/plain": [
       "0      False\n",
       "1      False\n",
       "2      False\n",
       "3      False\n",
       "4      False\n",
       "       ...  \n",
       "424    False\n",
       "425    False\n",
       "426    False\n",
       "427    False\n",
       "428    False\n",
       "Name: desfecho, Length: 429, dtype: bool"
      ]
     },
     "execution_count": 954,
     "metadata": {},
     "output_type": "execute_result"
    }
   ],
   "source": [
    "df['desfecho']==1  # DESFECHO (1-alta/ 2-UTI/ 3-óbito/4-fim isolamento/5-transf.)"
   ]
  },
  {
   "cell_type": "code",
   "execution_count": 955,
   "id": "2b0fc246",
   "metadata": {},
   "outputs": [],
   "source": [
    "# df = df.mask(df == 'x', 0)"
   ]
  },
  {
   "cell_type": "code",
   "execution_count": 956,
   "id": "8d4812e1",
   "metadata": {},
   "outputs": [],
   "source": [
    "# df = df.mask(df == 'X', 0)"
   ]
  },
  {
   "cell_type": "code",
   "execution_count": 957,
   "id": "0d1e3944",
   "metadata": {},
   "outputs": [
    {
     "data": {
      "text/plain": [
       "0.0     47\n",
       "0.5     11\n",
       "8.7      7\n",
       "1.9      6\n",
       "1.6      6\n",
       "        ..\n",
       "7.5      1\n",
       "47.6     1\n",
       "21.8     1\n",
       "32.3     1\n",
       "0.4      1\n",
       "Name: proteina c (mg/dl), Length: 186, dtype: int64"
      ]
     },
     "metadata": {},
     "output_type": "display_data"
    }
   ],
   "source": [
    "proteina_c = df['proteina c (mg/dl)'].value_counts()\n",
    "display(proteina_c)"
   ]
  },
  {
   "cell_type": "code",
   "execution_count": 958,
   "id": "26a16d23",
   "metadata": {},
   "outputs": [
    {
     "data": {
      "text/html": [
       "<div>\n",
       "<style scoped>\n",
       "    .dataframe tbody tr th:only-of-type {\n",
       "        vertical-align: middle;\n",
       "    }\n",
       "\n",
       "    .dataframe tbody tr th {\n",
       "        vertical-align: top;\n",
       "    }\n",
       "\n",
       "    .dataframe thead th {\n",
       "        text-align: right;\n",
       "    }\n",
       "</style>\n",
       "<table border=\"1\" class=\"dataframe\">\n",
       "  <thead>\n",
       "    <tr style=\"text-align: right;\">\n",
       "      <th></th>\n",
       "      <th>idade</th>\n",
       "      <th>sexo</th>\n",
       "      <th>raca</th>\n",
       "      <th>tagabismo</th>\n",
       "      <th>comorbidade1</th>\n",
       "      <th>comorbidade2</th>\n",
       "      <th>comorbidade3</th>\n",
       "      <th>comorbidade4</th>\n",
       "      <th>trombo_na_internacao</th>\n",
       "      <th>desfecho</th>\n",
       "      <th>anti-inflamatorio1</th>\n",
       "      <th>anti-inflamatorio2</th>\n",
       "      <th>anti-inflamatorio3</th>\n",
       "      <th>anti-inflamatorio_previo</th>\n",
       "      <th>profilaxia_de_trombo1</th>\n",
       "      <th>profilaxia_de_trombo2</th>\n",
       "      <th>anticoagulante_previo</th>\n",
       "      <th>proteina c (mg/dl)</th>\n",
       "      <th>ferritina (ng/ml)</th>\n",
       "      <th>leucócitos ( /ul)</th>\n",
       "      <th>creatinina (mg/dl)</th>\n",
       "      <th>ureia(mg/dl)</th>\n",
       "      <th>d-dimeros (ng/ml)</th>\n",
       "      <th>reinfeccao</th>\n",
       "      <th>sintomas</th>\n",
       "    </tr>\n",
       "  </thead>\n",
       "  <tbody>\n",
       "  </tbody>\n",
       "</table>\n",
       "</div>"
      ],
      "text/plain": [
       "Empty DataFrame\n",
       "Columns: [idade, sexo, raca, tagabismo, comorbidade1, comorbidade2, comorbidade3, comorbidade4, trombo_na_internacao, desfecho, anti-inflamatorio1, anti-inflamatorio2, anti-inflamatorio3, anti-inflamatorio_previo, profilaxia_de_trombo1, profilaxia_de_trombo2, anticoagulante_previo, proteina c (mg/dl), ferritina (ng/ml), leucócitos ( /ul), creatinina (mg/dl), ureia(mg/dl), d-dimeros (ng/ml), reinfeccao, sintomas]\n",
       "Index: []"
      ]
     },
     "execution_count": 958,
     "metadata": {},
     "output_type": "execute_result"
    }
   ],
   "source": [
    "df[df['desfecho']==1] # select * from df where desfecho"
   ]
  },
  {
   "cell_type": "markdown",
   "id": "978a4a5c",
   "metadata": {},
   "source": [
    "#### Calculando e imprimindo histogramas sobre colunas numéricas"
   ]
  },
  {
   "cell_type": "code",
   "execution_count": 959,
   "id": "434fa448",
   "metadata": {},
   "outputs": [
    {
     "data": {
      "image/png": "[encoded data removed]",
      "text/plain": [
       "<Figure size 1440x1080 with 9 Axes>"
      ]
     },
     "metadata": {
      "needs_background": "light"
     },
     "output_type": "display_data"
    }
   ],
   "source": [
    "#%matplotlib inline # only in a Jupyter notebook\n",
    "import matplotlib.pyplot as plt\n",
    "\n",
    "df.hist(bins=50, figsize=(20,15))\n",
    "plt.show()"
   ]
  },
  {
   "cell_type": "code",
   "execution_count": 960,
   "id": "a9e995d6",
   "metadata": {},
   "outputs": [
    {
     "name": "stdout",
     "output_type": "stream",
     "text": [
      "Menor valor de idade:  19\n",
      "Maior valor de idade:  96\n"
     ]
    }
   ],
   "source": [
    "print('Menor valor de idade: ', df['idade'].min())\n",
    "print('Maior valor de idade: ', df['idade'].max())"
   ]
  },
  {
   "cell_type": "markdown",
   "id": "65e472e6",
   "metadata": {},
   "source": [
    "#### Ajustando a escala dos atributos numéricos quantitativos"
   ]
  },
  {
   "cell_type": "code",
   "execution_count": 961,
   "id": "b18d54f8",
   "metadata": {},
   "outputs": [],
   "source": [
    "from sklearn.impute import SimpleImputer\n",
    "from sklearn.preprocessing import StandardScaler\n",
    "from sklearn.preprocessing import OneHotEncoder\n",
    "\n",
    "from sklearn.pipeline import Pipeline\n",
    "from sklearn.compose import ColumnTransformer"
   ]
  },
  {
   "cell_type": "code",
   "execution_count": 962,
   "id": "ab4272cd",
   "metadata": {},
   "outputs": [],
   "source": [
    "nomes_atributos_numericos = ['idade','proteina c (mg/dl)','ferritina (ng/ml)','leucócitos ( /ul)','creatinina (mg/dl)','ureia(mg/dl)','d-dimeros (ng/ml)']\n",
    "atributos_numericos       = nomes_atributos_numericos\n",
    "nomes_atributos           = nomes_atributos_numericos"
   ]
  },
  {
   "cell_type": "code",
   "execution_count": 963,
   "id": "6cae18ef",
   "metadata": {},
   "outputs": [
    {
     "data": {
      "text/plain": [
       "['idade',\n",
       " 'proteina c (mg/dl)',\n",
       " 'ferritina (ng/ml)',\n",
       " 'leucócitos ( /ul)',\n",
       " 'creatinina (mg/dl)',\n",
       " 'ureia(mg/dl)',\n",
       " 'd-dimeros (ng/ml)']"
      ]
     },
     "execution_count": 963,
     "metadata": {},
     "output_type": "execute_result"
    }
   ],
   "source": [
    "nomes_atributos"
   ]
  },
  {
   "cell_type": "code",
   "execution_count": 964,
   "id": "b731a4b7",
   "metadata": {},
   "outputs": [
    {
     "data": {
      "text/html": [
       "<div>\n",
       "<style scoped>\n",
       "    .dataframe tbody tr th:only-of-type {\n",
       "        vertical-align: middle;\n",
       "    }\n",
       "\n",
       "    .dataframe tbody tr th {\n",
       "        vertical-align: top;\n",
       "    }\n",
       "\n",
       "    .dataframe thead th {\n",
       "        text-align: right;\n",
       "    }\n",
       "</style>\n",
       "<table border=\"1\" class=\"dataframe\">\n",
       "  <thead>\n",
       "    <tr style=\"text-align: right;\">\n",
       "      <th></th>\n",
       "      <th>idade</th>\n",
       "      <th>proteina c (mg/dl)</th>\n",
       "      <th>ferritina (ng/ml)</th>\n",
       "      <th>leucócitos ( /ul)</th>\n",
       "      <th>creatinina (mg/dl)</th>\n",
       "      <th>ureia(mg/dl)</th>\n",
       "      <th>d-dimeros (ng/ml)</th>\n",
       "    </tr>\n",
       "  </thead>\n",
       "  <tbody>\n",
       "    <tr>\n",
       "      <th>0</th>\n",
       "      <td>41</td>\n",
       "      <td>8.0</td>\n",
       "      <td>0</td>\n",
       "      <td>4830</td>\n",
       "      <td>0.76</td>\n",
       "      <td>36.0</td>\n",
       "      <td>0</td>\n",
       "    </tr>\n",
       "    <tr>\n",
       "      <th>1</th>\n",
       "      <td>77</td>\n",
       "      <td>14.7</td>\n",
       "      <td>0</td>\n",
       "      <td>5280</td>\n",
       "      <td>0.82</td>\n",
       "      <td>31.0</td>\n",
       "      <td>0</td>\n",
       "    </tr>\n",
       "    <tr>\n",
       "      <th>2</th>\n",
       "      <td>67</td>\n",
       "      <td>0.0</td>\n",
       "      <td>0</td>\n",
       "      <td>8650</td>\n",
       "      <td>0.72</td>\n",
       "      <td>0.0</td>\n",
       "      <td>0</td>\n",
       "    </tr>\n",
       "    <tr>\n",
       "      <th>3</th>\n",
       "      <td>51</td>\n",
       "      <td>6.2</td>\n",
       "      <td>0</td>\n",
       "      <td>9590</td>\n",
       "      <td>0.00</td>\n",
       "      <td>142.0</td>\n",
       "      <td>0</td>\n",
       "    </tr>\n",
       "    <tr>\n",
       "      <th>4</th>\n",
       "      <td>51</td>\n",
       "      <td>32.0</td>\n",
       "      <td>0</td>\n",
       "      <td>4230</td>\n",
       "      <td>15.40</td>\n",
       "      <td>158.0</td>\n",
       "      <td>1535</td>\n",
       "    </tr>\n",
       "    <tr>\n",
       "      <th>...</th>\n",
       "      <td>...</td>\n",
       "      <td>...</td>\n",
       "      <td>...</td>\n",
       "      <td>...</td>\n",
       "      <td>...</td>\n",
       "      <td>...</td>\n",
       "      <td>...</td>\n",
       "    </tr>\n",
       "    <tr>\n",
       "      <th>424</th>\n",
       "      <td>50</td>\n",
       "      <td>0.0</td>\n",
       "      <td>0</td>\n",
       "      <td>7100</td>\n",
       "      <td>1.06</td>\n",
       "      <td>28.0</td>\n",
       "      <td>0</td>\n",
       "    </tr>\n",
       "    <tr>\n",
       "      <th>425</th>\n",
       "      <td>92</td>\n",
       "      <td>1.7</td>\n",
       "      <td>0</td>\n",
       "      <td>7056</td>\n",
       "      <td>0.77</td>\n",
       "      <td>0.0</td>\n",
       "      <td>0</td>\n",
       "    </tr>\n",
       "    <tr>\n",
       "      <th>426</th>\n",
       "      <td>58</td>\n",
       "      <td>0.0</td>\n",
       "      <td>0</td>\n",
       "      <td>10580</td>\n",
       "      <td>1.07</td>\n",
       "      <td>29.0</td>\n",
       "      <td>0</td>\n",
       "    </tr>\n",
       "    <tr>\n",
       "      <th>427</th>\n",
       "      <td>88</td>\n",
       "      <td>5.2</td>\n",
       "      <td>0</td>\n",
       "      <td>11220</td>\n",
       "      <td>3.53</td>\n",
       "      <td>89.0</td>\n",
       "      <td>0</td>\n",
       "    </tr>\n",
       "    <tr>\n",
       "      <th>428</th>\n",
       "      <td>52</td>\n",
       "      <td>6.6</td>\n",
       "      <td>0</td>\n",
       "      <td>8530</td>\n",
       "      <td>1.01</td>\n",
       "      <td>0.0</td>\n",
       "      <td>6257</td>\n",
       "    </tr>\n",
       "  </tbody>\n",
       "</table>\n",
       "<p>429 rows × 7 columns</p>\n",
       "</div>"
      ],
      "text/plain": [
       "     idade  proteina c (mg/dl)  ferritina (ng/ml)  leucócitos ( /ul)  \\\n",
       "0       41                 8.0                  0               4830   \n",
       "1       77                14.7                  0               5280   \n",
       "2       67                 0.0                  0               8650   \n",
       "3       51                 6.2                  0               9590   \n",
       "4       51                32.0                  0               4230   \n",
       "..     ...                 ...                ...                ...   \n",
       "424     50                 0.0                  0               7100   \n",
       "425     92                 1.7                  0               7056   \n",
       "426     58                 0.0                  0              10580   \n",
       "427     88                 5.2                  0              11220   \n",
       "428     52                 6.6                  0               8530   \n",
       "\n",
       "     creatinina (mg/dl)  ureia(mg/dl)  d-dimeros (ng/ml)  \n",
       "0                  0.76          36.0                  0  \n",
       "1                  0.82          31.0                  0  \n",
       "2                  0.72           0.0                  0  \n",
       "3                  0.00         142.0                  0  \n",
       "4                 15.40         158.0               1535  \n",
       "..                  ...           ...                ...  \n",
       "424                1.06          28.0                  0  \n",
       "425                0.77           0.0                  0  \n",
       "426                1.07          29.0                  0  \n",
       "427                3.53          89.0                  0  \n",
       "428                1.01           0.0               6257  \n",
       "\n",
       "[429 rows x 7 columns]"
      ]
     },
     "execution_count": 964,
     "metadata": {},
     "output_type": "execute_result"
    }
   ],
   "source": [
    "df[nomes_atributos]"
   ]
  },
  {
   "cell_type": "code",
   "execution_count": 965,
   "id": "7bb484fb",
   "metadata": {},
   "outputs": [],
   "source": [
    "nomes_atributos_categoricos = ['sintomas','raca','tagabismo','comorbidade1','comorbidade2', 'comorbidade3', 'trombo_na_internacao', 'sintomas']"
   ]
  },
  {
   "cell_type": "markdown",
   "id": "5c5f38d3",
   "metadata": {},
   "source": [
    "Atributos escolhidos:"
   ]
  },
  {
   "cell_type": "code",
   "execution_count": 966,
   "id": "e3697db4",
   "metadata": {},
   "outputs": [
    {
     "data": {
      "text/plain": [
       "['idade',\n",
       " 'proteina c (mg/dl)',\n",
       " 'ferritina (ng/ml)',\n",
       " 'leucócitos ( /ul)',\n",
       " 'creatinina (mg/dl)',\n",
       " 'ureia(mg/dl)',\n",
       " 'd-dimeros (ng/ml)']"
      ]
     },
     "execution_count": 966,
     "metadata": {},
     "output_type": "execute_result"
    }
   ],
   "source": [
    "nomes_atributos_numericos"
   ]
  },
  {
   "cell_type": "code",
   "execution_count": 967,
   "id": "aeb0bc4f",
   "metadata": {},
   "outputs": [
    {
     "data": {
      "text/plain": [
       "['sintomas',\n",
       " 'raca',\n",
       " 'tagabismo',\n",
       " 'comorbidade1',\n",
       " 'comorbidade2',\n",
       " 'comorbidade3',\n",
       " 'trombo_na_internacao',\n",
       " 'sintomas']"
      ]
     },
     "execution_count": 967,
     "metadata": {},
     "output_type": "execute_result"
    }
   ],
   "source": [
    "nomes_atributos_categoricos"
   ]
  },
  {
   "cell_type": "code",
   "execution_count": 968,
   "id": "db62b99d",
   "metadata": {},
   "outputs": [],
   "source": [
    "nomes_atributos_binarios =['anti-inflamatorio_previo', 'sexo', 'anticoagulante_previo', 'reinfeccao']"
   ]
  },
  {
   "cell_type": "markdown",
   "id": "a8a4bc05",
   "metadata": {},
   "source": [
    "#### Pré-Processamento"
   ]
  },
  {
   "cell_type": "code",
   "execution_count": 969,
   "id": "2f71ddc1",
   "metadata": {},
   "outputs": [],
   "source": [
    "from sklearn.model_selection import train_test_split\n",
    "\n",
    "# separando os conjuntos de dados de treino e teste\n",
    "df_treino, df_teste = train_test_split(df, test_size=0.2, random_state=42)\n",
    "\n",
    "# separando a coluna alvo do conjunto de treino\n",
    "df_treino_labels = df_treino['desfecho'].copy()\n",
    "df_treino        = df_treino.drop(columns='desfecho')\n",
    "\n",
    "# separando a coluna alvo do conjunto de teste\n",
    "df_teste_labels = df_teste['desfecho'].copy()\n",
    "df_teste        = df_teste.drop(columns='desfecho')"
   ]
  },
  {
   "cell_type": "code",
   "execution_count": 970,
   "id": "e50b1956",
   "metadata": {},
   "outputs": [],
   "source": [
    "from sklearn.preprocessing import StandardScaler"
   ]
  },
  {
   "cell_type": "code",
   "execution_count": 971,
   "id": "0d67fc96",
   "metadata": {},
   "outputs": [
    {
     "data": {
      "text/html": [
       "<style>#sk-container-id-20 {color: black;background-color: white;}#sk-container-id-20 pre{padding: 0;}#sk-container-id-20 div.sk-toggleable {background-color: white;}#sk-container-id-20 label.sk-toggleable__label {cursor: pointer;display: block;width: 100%;margin-bottom: 0;padding: 0.3em;box-sizing: border-box;text-align: center;}#sk-container-id-20 label.sk-toggleable__label-arrow:before {content: \"▸\";float: left;margin-right: 0.25em;color: #696969;}#sk-container-id-20 label.sk-toggleable__label-arrow:hover:before {color: black;}#sk-container-id-20 div.sk-estimator:hover label.sk-toggleable__label-arrow:before {color: black;}#sk-container-id-20 div.sk-toggleable__content {max-height: 0;max-width: 0;overflow: hidden;text-align: left;background-color: #f0f8ff;}#sk-container-id-20 div.sk-toggleable__content pre {margin: 0.2em;color: black;border-radius: 0.25em;background-color: #f0f8ff;}#sk-container-id-20 input.sk-toggleable__control:checked~div.sk-toggleable__content {max-height: 200px;max-width: 100%;overflow: auto;}#sk-container-id-20 input.sk-toggleable__control:checked~label.sk-toggleable__label-arrow:before {content: \"▾\";}#sk-container-id-20 div.sk-estimator input.sk-toggleable__control:checked~label.sk-toggleable__label {background-color: #d4ebff;}#sk-container-id-20 div.sk-label input.sk-toggleable__control:checked~label.sk-toggleable__label {background-color: #d4ebff;}#sk-container-id-20 input.sk-hidden--visually {border: 0;clip: rect(1px 1px 1px 1px);clip: rect(1px, 1px, 1px, 1px);height: 1px;margin: -1px;overflow: hidden;padding: 0;position: absolute;width: 1px;}#sk-container-id-20 div.sk-estimator {font-family: monospace;background-color: #f0f8ff;border: 1px dotted black;border-radius: 0.25em;box-sizing: border-box;margin-bottom: 0.5em;}#sk-container-id-20 div.sk-estimator:hover {background-color: #d4ebff;}#sk-container-id-20 div.sk-parallel-item::after {content: \"\";width: 100%;border-bottom: 1px solid gray;flex-grow: 1;}#sk-container-id-20 div.sk-label:hover label.sk-toggleable__label {background-color: #d4ebff;}#sk-container-id-20 div.sk-serial::before {content: \"\";position: absolute;border-left: 1px solid gray;box-sizing: border-box;top: 0;bottom: 0;left: 50%;z-index: 0;}#sk-container-id-20 div.sk-serial {display: flex;flex-direction: column;align-items: center;background-color: white;padding-right: 0.2em;padding-left: 0.2em;position: relative;}#sk-container-id-20 div.sk-item {position: relative;z-index: 1;}#sk-container-id-20 div.sk-parallel {display: flex;align-items: stretch;justify-content: center;background-color: white;position: relative;}#sk-container-id-20 div.sk-item::before, #sk-container-id-20 div.sk-parallel-item::before {content: \"\";position: absolute;border-left: 1px solid gray;box-sizing: border-box;top: 0;bottom: 0;left: 50%;z-index: -1;}#sk-container-id-20 div.sk-parallel-item {display: flex;flex-direction: column;z-index: 1;position: relative;background-color: white;}#sk-container-id-20 div.sk-parallel-item:first-child::after {align-self: flex-end;width: 50%;}#sk-container-id-20 div.sk-parallel-item:last-child::after {align-self: flex-start;width: 50%;}#sk-container-id-20 div.sk-parallel-item:only-child::after {width: 0;}#sk-container-id-20 div.sk-dashed-wrapped {border: 1px dashed gray;margin: 0 0.4em 0.5em 0.4em;box-sizing: border-box;padding-bottom: 0.4em;background-color: white;}#sk-container-id-20 div.sk-label label {font-family: monospace;font-weight: bold;display: inline-block;line-height: 1.2em;}#sk-container-id-20 div.sk-label-container {text-align: center;}#sk-container-id-20 div.sk-container {/* jupyter's `normalize.less` sets `[hidden] { display: none; }` but bootstrap.min.css set `[hidden] { display: none !important; }` so we also need the `!important` here to be able to override the default hidden behavior on the sphinx rendered scikit-learn.org. See: https://github.com/scikit-learn/scikit-learn/issues/21755 */display: inline-block !important;position: relative;}#sk-container-id-20 div.sk-text-repr-fallback {display: none;}</style><div id=\"sk-container-id-20\" class=\"sk-top-container\"><div class=\"sk-text-repr-fallback\"><pre>StandardScaler()</pre><b>In a Jupyter environment, please rerun this cell to show the HTML representation or trust the notebook. <br />On GitHub, the HTML representation is unable to render, please try loading this page with nbviewer.org.</b></div><div class=\"sk-container\" hidden><div class=\"sk-item\"><div class=\"sk-estimator sk-toggleable\"><input class=\"sk-toggleable__control sk-hidden--visually\" id=\"sk-estimator-id-20\" type=\"checkbox\" checked><label for=\"sk-estimator-id-20\" class=\"sk-toggleable__label sk-toggleable__label-arrow\">StandardScaler</label><div class=\"sk-toggleable__content\"><pre>StandardScaler()</pre></div></div></div></div></div>"
      ],
      "text/plain": [
       "StandardScaler()"
      ]
     },
     "execution_count": 971,
     "metadata": {},
     "output_type": "execute_result"
    }
   ],
   "source": [
    "scaler = StandardScaler()\n",
    "scaler.fit(df_treino[nomes_atributos_numericos])"
   ]
  },
  {
   "cell_type": "code",
   "execution_count": 972,
   "id": "663839a0",
   "metadata": {},
   "outputs": [
    {
     "data": {
      "text/plain": [
       "array([  17.06063312,   10.89114674,  504.17421376, 4456.49562655,\n",
       "          5.36546642,   50.13976968, 2292.50147243])"
      ]
     },
     "execution_count": 972,
     "metadata": {},
     "output_type": "execute_result"
    }
   ],
   "source": [
    "scaler.scale_"
   ]
  },
  {
   "cell_type": "code",
   "execution_count": 973,
   "id": "7a05bc54",
   "metadata": {},
   "outputs": [
    {
     "data": {
      "text/plain": [
       "array([[ 0.55880269,  0.66566491, -0.27504492, ...,  0.06761196,\n",
       "         0.42145103,  2.7038513 ],\n",
       "       [-1.31686041, -0.96869008, -0.27504492, ..., -0.17654203,\n",
       "        -0.07715517, -0.63311493],\n",
       "       [ 0.26573033,  1.70320488, -0.27504492, ..., -0.11690136,\n",
       "        -0.23670915, -0.2619047 ],\n",
       "       ...,\n",
       "       [-0.43764333, -0.6289646 , -0.27504492, ..., -0.15976809,\n",
       "        -0.73531535,  0.99654596],\n",
       "       [-0.14457097,  1.60220541, -0.27504492, ..., -0.09080857,\n",
       "        -0.39626313, -0.53147923],\n",
       "       [-1.5513183 ,  0.69321022, -0.27504492, ..., -0.23804647,\n",
       "        -0.55581712, -0.63311493]])"
      ]
     },
     "execution_count": 973,
     "metadata": {},
     "output_type": "execute_result"
    }
   ],
   "source": [
    "X = scaler.transform(df_treino[nomes_atributos_numericos])\n",
    "X"
   ]
  },
  {
   "cell_type": "code",
   "execution_count": 974,
   "id": "c573a98e",
   "metadata": {},
   "outputs": [
    {
     "data": {
      "text/html": [
       "<div>\n",
       "<style scoped>\n",
       "    .dataframe tbody tr th:only-of-type {\n",
       "        vertical-align: middle;\n",
       "    }\n",
       "\n",
       "    .dataframe tbody tr th {\n",
       "        vertical-align: top;\n",
       "    }\n",
       "\n",
       "    .dataframe thead th {\n",
       "        text-align: right;\n",
       "    }\n",
       "</style>\n",
       "<table border=\"1\" class=\"dataframe\">\n",
       "  <thead>\n",
       "    <tr style=\"text-align: right;\">\n",
       "      <th></th>\n",
       "      <th>anti-inflamatorio_previo</th>\n",
       "      <th>sexo</th>\n",
       "      <th>anticoagulante_previo</th>\n",
       "      <th>reinfeccao</th>\n",
       "    </tr>\n",
       "  </thead>\n",
       "  <tbody>\n",
       "    <tr>\n",
       "      <th>66</th>\n",
       "      <td>Nao</td>\n",
       "      <td>M</td>\n",
       "      <td>Sim</td>\n",
       "      <td>nao</td>\n",
       "    </tr>\n",
       "    <tr>\n",
       "      <th>132</th>\n",
       "      <td>Nao</td>\n",
       "      <td>M</td>\n",
       "      <td>Nao</td>\n",
       "      <td>nao</td>\n",
       "    </tr>\n",
       "    <tr>\n",
       "      <th>225</th>\n",
       "      <td>Sim</td>\n",
       "      <td>M</td>\n",
       "      <td>Nao</td>\n",
       "      <td>nao</td>\n",
       "    </tr>\n",
       "    <tr>\n",
       "      <th>31</th>\n",
       "      <td>Nao</td>\n",
       "      <td>M</td>\n",
       "      <td>Nao</td>\n",
       "      <td>nao</td>\n",
       "    </tr>\n",
       "    <tr>\n",
       "      <th>84</th>\n",
       "      <td>Nao</td>\n",
       "      <td>M</td>\n",
       "      <td>Sim</td>\n",
       "      <td>nao</td>\n",
       "    </tr>\n",
       "  </tbody>\n",
       "</table>\n",
       "</div>"
      ],
      "text/plain": [
       "    anti-inflamatorio_previo sexo anticoagulante_previo reinfeccao\n",
       "66                       Nao    M                   Sim        nao\n",
       "132                      Nao    M                   Nao        nao\n",
       "225                      Sim    M                   Nao        nao\n",
       "31                       Nao    M                   Nao        nao\n",
       "84                       Nao    M                   Sim        nao"
      ]
     },
     "execution_count": 974,
     "metadata": {},
     "output_type": "execute_result"
    }
   ],
   "source": [
    "df_treino[nomes_atributos_binarios].head()"
   ]
  },
  {
   "cell_type": "code",
   "execution_count": 975,
   "id": "0f5e2da5",
   "metadata": {},
   "outputs": [
    {
     "data": {
      "text/plain": [
       "array([[0.5588026909813774, 0.6656649113944715, -0.2750449153310821, ...,\n",
       "        'M', 'Sim', 'nao'],\n",
       "       [-1.3168604087775215, -0.9686900771557378, -0.2750449153310821,\n",
       "        ..., 'M', 'Nao', 'nao'],\n",
       "       [0.26573033164404947, 1.7032048760358964, -0.2750449153310821,\n",
       "        ..., 'M', 'Nao', 'nao'],\n",
       "       ...,\n",
       "       [-0.43764333076553763, -0.6289646020076607, -0.2750449153310821,\n",
       "        ..., 'F', 'Sim', 'nao'],\n",
       "       [-0.14457097142820968, 1.6022054104513328, -0.2750449153310821,\n",
       "        ..., 'M', 'Nao', 'nao'],\n",
       "       [-1.551318296247384, 0.6932102201902616, -0.2750449153310821, ...,\n",
       "        'F', 'Sim', 'nao']], dtype=object)"
      ]
     },
     "execution_count": 975,
     "metadata": {},
     "output_type": "execute_result"
    }
   ],
   "source": [
    "X = np.concatenate((X, df_treino[nomes_atributos_binarios]),axis=1)\n",
    "X"
   ]
  },
  {
   "cell_type": "code",
   "execution_count": 976,
   "id": "d7474252",
   "metadata": {},
   "outputs": [
    {
     "data": {
      "text/plain": [
       "array(['idade', 'proteina c (mg/dl)', 'ferritina (ng/ml)',\n",
       "       'leucócitos ( /ul)', 'creatinina (mg/dl)', 'ureia(mg/dl)',\n",
       "       'd-dimeros (ng/ml)', 'anti-inflamatorio_previo', 'sexo',\n",
       "       'anticoagulante_previo', 'reinfeccao'], dtype='<U24')"
      ]
     },
     "execution_count": 976,
     "metadata": {},
     "output_type": "execute_result"
    }
   ],
   "source": [
    "nomes_atributos = np.append(nomes_atributos,nomes_atributos_binarios)\n",
    "nomes_atributos"
   ]
  },
  {
   "cell_type": "markdown",
   "id": "dbbcd6cc",
   "metadata": {},
   "source": [
    "#### Binarizando atributos categóricos (One Hot Encoding)"
   ]
  },
  {
   "cell_type": "code",
   "execution_count": 977,
   "id": "df38fe70",
   "metadata": {},
   "outputs": [
    {
     "data": {
      "text/html": [
       "<div>\n",
       "<style scoped>\n",
       "    .dataframe tbody tr th:only-of-type {\n",
       "        vertical-align: middle;\n",
       "    }\n",
       "\n",
       "    .dataframe tbody tr th {\n",
       "        vertical-align: top;\n",
       "    }\n",
       "\n",
       "    .dataframe thead th {\n",
       "        text-align: right;\n",
       "    }\n",
       "</style>\n",
       "<table border=\"1\" class=\"dataframe\">\n",
       "  <thead>\n",
       "    <tr style=\"text-align: right;\">\n",
       "      <th></th>\n",
       "      <th>idade</th>\n",
       "      <th>sexo</th>\n",
       "      <th>raca</th>\n",
       "      <th>tagabismo</th>\n",
       "      <th>comorbidade1</th>\n",
       "      <th>comorbidade2</th>\n",
       "      <th>comorbidade3</th>\n",
       "      <th>comorbidade4</th>\n",
       "      <th>trombo_na_internacao</th>\n",
       "      <th>anti-inflamatorio1</th>\n",
       "      <th>anti-inflamatorio2</th>\n",
       "      <th>anti-inflamatorio3</th>\n",
       "      <th>anti-inflamatorio_previo</th>\n",
       "      <th>profilaxia_de_trombo1</th>\n",
       "      <th>profilaxia_de_trombo2</th>\n",
       "      <th>anticoagulante_previo</th>\n",
       "      <th>proteina c (mg/dl)</th>\n",
       "      <th>ferritina (ng/ml)</th>\n",
       "      <th>leucócitos ( /ul)</th>\n",
       "      <th>creatinina (mg/dl)</th>\n",
       "      <th>ureia(mg/dl)</th>\n",
       "      <th>d-dimeros (ng/ml)</th>\n",
       "      <th>reinfeccao</th>\n",
       "      <th>sintomas</th>\n",
       "    </tr>\n",
       "  </thead>\n",
       "  <tbody>\n",
       "    <tr>\n",
       "      <th>66</th>\n",
       "      <td>71</td>\n",
       "      <td>M</td>\n",
       "      <td>branca</td>\n",
       "      <td>previo</td>\n",
       "      <td>HAS</td>\n",
       "      <td>oncologico</td>\n",
       "      <td>renal-hd</td>\n",
       "      <td>nenhum</td>\n",
       "      <td>nenhum</td>\n",
       "      <td>nenhum</td>\n",
       "      <td>nenhum</td>\n",
       "      <td>nenhum</td>\n",
       "      <td>Nao</td>\n",
       "      <td>heparina 5000UI/0,25mL</td>\n",
       "      <td>nenhum</td>\n",
       "      <td>Sim</td>\n",
       "      <td>17.8</td>\n",
       "      <td>0</td>\n",
       "      <td>10030</td>\n",
       "      <td>2.36</td>\n",
       "      <td>77.0</td>\n",
       "      <td>7650</td>\n",
       "      <td>nao</td>\n",
       "      <td>leve</td>\n",
       "    </tr>\n",
       "    <tr>\n",
       "      <th>132</th>\n",
       "      <td>39</td>\n",
       "      <td>M</td>\n",
       "      <td>branca</td>\n",
       "      <td>nao</td>\n",
       "      <td>nenhuma</td>\n",
       "      <td>nenhuma</td>\n",
       "      <td>nenhum</td>\n",
       "      <td>nenhum</td>\n",
       "      <td>nenhum</td>\n",
       "      <td>nenhum</td>\n",
       "      <td>nenhum</td>\n",
       "      <td>nenhum</td>\n",
       "      <td>Nao</td>\n",
       "      <td>enonenhumaparina 40mg/0,4mL</td>\n",
       "      <td>nenhum</td>\n",
       "      <td>Nao</td>\n",
       "      <td>0.0</td>\n",
       "      <td>0</td>\n",
       "      <td>5770</td>\n",
       "      <td>1.05</td>\n",
       "      <td>52.0</td>\n",
       "      <td>0</td>\n",
       "      <td>nao</td>\n",
       "      <td>assintom</td>\n",
       "    </tr>\n",
       "    <tr>\n",
       "      <th>225</th>\n",
       "      <td>66</td>\n",
       "      <td>M</td>\n",
       "      <td>branca</td>\n",
       "      <td>nao</td>\n",
       "      <td>oncologica</td>\n",
       "      <td>DM</td>\n",
       "      <td>nenhum</td>\n",
       "      <td>nenhum</td>\n",
       "      <td>nenhum</td>\n",
       "      <td>denenhumametasona 4mg/mL 2,5mL</td>\n",
       "      <td>nenhum</td>\n",
       "      <td>nenhum</td>\n",
       "      <td>Sim</td>\n",
       "      <td>nenhum</td>\n",
       "      <td>nenhum</td>\n",
       "      <td>Nao</td>\n",
       "      <td>29.1</td>\n",
       "      <td>0</td>\n",
       "      <td>18560</td>\n",
       "      <td>1.37</td>\n",
       "      <td>44.0</td>\n",
       "      <td>851</td>\n",
       "      <td>nao</td>\n",
       "      <td>grave</td>\n",
       "    </tr>\n",
       "    <tr>\n",
       "      <th>31</th>\n",
       "      <td>63</td>\n",
       "      <td>M</td>\n",
       "      <td>preta</td>\n",
       "      <td>sim</td>\n",
       "      <td>ICC</td>\n",
       "      <td>nenhuma</td>\n",
       "      <td>nenhum</td>\n",
       "      <td>nenhum</td>\n",
       "      <td>TEP</td>\n",
       "      <td>nenhum</td>\n",
       "      <td>nenhum</td>\n",
       "      <td>nenhum</td>\n",
       "      <td>Nao</td>\n",
       "      <td>nenhum</td>\n",
       "      <td>nenhum</td>\n",
       "      <td>Nao</td>\n",
       "      <td>0.0</td>\n",
       "      <td>0</td>\n",
       "      <td>0</td>\n",
       "      <td>0.00</td>\n",
       "      <td>0.0</td>\n",
       "      <td>0</td>\n",
       "      <td>nao</td>\n",
       "      <td>leve</td>\n",
       "    </tr>\n",
       "    <tr>\n",
       "      <th>84</th>\n",
       "      <td>37</td>\n",
       "      <td>M</td>\n",
       "      <td>branca</td>\n",
       "      <td>nao</td>\n",
       "      <td>DM</td>\n",
       "      <td>HAS</td>\n",
       "      <td>obesidade</td>\n",
       "      <td>nenhum</td>\n",
       "      <td>nenhum</td>\n",
       "      <td>nenhum</td>\n",
       "      <td>nenhum</td>\n",
       "      <td>nenhum</td>\n",
       "      <td>Nao</td>\n",
       "      <td>heparina 5000UI/0,25mL</td>\n",
       "      <td>nenhum</td>\n",
       "      <td>Sim</td>\n",
       "      <td>8.1</td>\n",
       "      <td>0</td>\n",
       "      <td>19390</td>\n",
       "      <td>1.87</td>\n",
       "      <td>43.0</td>\n",
       "      <td>7650</td>\n",
       "      <td>nao</td>\n",
       "      <td>grave</td>\n",
       "    </tr>\n",
       "  </tbody>\n",
       "</table>\n",
       "</div>"
      ],
      "text/plain": [
       "     idade sexo    raca tagabismo comorbidade1 comorbidade2 comorbidade3  \\\n",
       "66      71    M  branca    previo          HAS   oncologico     renal-hd   \n",
       "132     39    M  branca       nao      nenhuma      nenhuma       nenhum   \n",
       "225     66    M  branca       nao   oncologica           DM       nenhum   \n",
       "31      63    M   preta       sim          ICC      nenhuma       nenhum   \n",
       "84      37    M  branca       nao           DM          HAS    obesidade   \n",
       "\n",
       "    comorbidade4 trombo_na_internacao              anti-inflamatorio1  \\\n",
       "66        nenhum               nenhum                          nenhum   \n",
       "132       nenhum               nenhum                          nenhum   \n",
       "225       nenhum               nenhum  denenhumametasona 4mg/mL 2,5mL   \n",
       "31        nenhum                  TEP                          nenhum   \n",
       "84        nenhum               nenhum                          nenhum   \n",
       "\n",
       "    anti-inflamatorio2 anti-inflamatorio3 anti-inflamatorio_previo  \\\n",
       "66              nenhum             nenhum                      Nao   \n",
       "132             nenhum             nenhum                      Nao   \n",
       "225             nenhum             nenhum                      Sim   \n",
       "31              nenhum             nenhum                      Nao   \n",
       "84              nenhum             nenhum                      Nao   \n",
       "\n",
       "           profilaxia_de_trombo1 profilaxia_de_trombo2 anticoagulante_previo  \\\n",
       "66        heparina 5000UI/0,25mL                nenhum                   Sim   \n",
       "132  enonenhumaparina 40mg/0,4mL                nenhum                   Nao   \n",
       "225                       nenhum                nenhum                   Nao   \n",
       "31                        nenhum                nenhum                   Nao   \n",
       "84        heparina 5000UI/0,25mL                nenhum                   Sim   \n",
       "\n",
       "     proteina c (mg/dl)  ferritina (ng/ml)  leucócitos ( /ul)  \\\n",
       "66                 17.8                  0              10030   \n",
       "132                 0.0                  0               5770   \n",
       "225                29.1                  0              18560   \n",
       "31                  0.0                  0                  0   \n",
       "84                  8.1                  0              19390   \n",
       "\n",
       "     creatinina (mg/dl)  ureia(mg/dl)  d-dimeros (ng/ml) reinfeccao  sintomas  \n",
       "66                 2.36          77.0               7650        nao      leve  \n",
       "132                1.05          52.0                  0        nao  assintom  \n",
       "225                1.37          44.0                851        nao     grave  \n",
       "31                 0.00           0.0                  0        nao      leve  \n",
       "84                 1.87          43.0               7650        nao     grave  "
      ]
     },
     "execution_count": 977,
     "metadata": {},
     "output_type": "execute_result"
    }
   ],
   "source": [
    "df_treino.head()"
   ]
  },
  {
   "cell_type": "code",
   "execution_count": 978,
   "id": "2b200636",
   "metadata": {},
   "outputs": [
    {
     "data": {
      "text/plain": [
       "enonenhumaparina 40mg/0,4mL    148\n",
       "heparina 5000UI/0,25mL          77\n",
       "nenhum                          65\n",
       "enonenhumaparina 60mg/0,6mL     23\n",
       "enonenhumaparina 80mg/0,8mL     22\n",
       "varfarina 5mg                    2\n",
       "apinenhumabana 2,5mg cp          2\n",
       "Edonenhumabana 30mg              1\n",
       "rivaronenhumabana 20mg           1\n",
       "enonenhumaparina 40mg/0,4ml      1\n",
       "apinenhumabana 5mg cp            1\n",
       "Name: profilaxia_de_trombo1, dtype: int64"
      ]
     },
     "execution_count": 978,
     "metadata": {},
     "output_type": "execute_result"
    }
   ],
   "source": [
    "df_treino['profilaxia_de_trombo1'].value_counts()"
   ]
  },
  {
   "cell_type": "code",
   "execution_count": 979,
   "id": "f7ba0350",
   "metadata": {},
   "outputs": [
    {
     "data": {
      "text/plain": [
       "nenhum                         332\n",
       "enonenhumaparina 80mg/0,8mL      5\n",
       "enonenhumaparina 60mg/0,6mL      3\n",
       "rivaronenhumabana 15mg           2\n",
       "heparina 5000UI/0,25mL           1\n",
       "Name: profilaxia_de_trombo2, dtype: int64"
      ]
     },
     "execution_count": 979,
     "metadata": {},
     "output_type": "execute_result"
    }
   ],
   "source": [
    "df_treino['profilaxia_de_trombo2'].value_counts()"
   ]
  },
  {
   "cell_type": "code",
   "execution_count": 980,
   "id": "b750bc94",
   "metadata": {},
   "outputs": [
    {
     "data": {
      "text/plain": [
       "Nao    231\n",
       "Sim    112\n",
       "Name: anticoagulante_previo, dtype: int64"
      ]
     },
     "execution_count": 980,
     "metadata": {},
     "output_type": "execute_result"
    }
   ],
   "source": [
    "df_treino['anticoagulante_previo'].value_counts()"
   ]
  },
  {
   "cell_type": "code",
   "execution_count": 981,
   "id": "550238e7",
   "metadata": {},
   "outputs": [
    {
     "data": {
      "text/plain": [
       "nao    324\n",
       "sim     19\n",
       "Name: reinfeccao, dtype: int64"
      ]
     },
     "execution_count": 981,
     "metadata": {},
     "output_type": "execute_result"
    }
   ],
   "source": [
    "df_treino['reinfeccao'].value_counts()"
   ]
  },
  {
   "cell_type": "code",
   "execution_count": 982,
   "id": "06de8d31",
   "metadata": {},
   "outputs": [
    {
     "data": {
      "text/plain": [
       "moderado    113\n",
       "leve         97\n",
       "grave        89\n",
       "assintom     44\n",
       "Name: sintomas, dtype: int64"
      ]
     },
     "execution_count": 982,
     "metadata": {},
     "output_type": "execute_result"
    }
   ],
   "source": [
    "df_treino['sintomas'].value_counts()"
   ]
  },
  {
   "cell_type": "code",
   "execution_count": 983,
   "id": "8ddb8392",
   "metadata": {},
   "outputs": [
    {
     "data": {
      "text/plain": [
       "nenhum    317\n",
       "TEP        14\n",
       "TVP        11\n",
       "ambos       1\n",
       "Name: trombo_na_internacao, dtype: int64"
      ]
     },
     "execution_count": 983,
     "metadata": {},
     "output_type": "execute_result"
    }
   ],
   "source": [
    "df_treino['trombo_na_internacao'].value_counts()"
   ]
  },
  {
   "cell_type": "code",
   "execution_count": 984,
   "id": "a3aa34d3",
   "metadata": {},
   "outputs": [
    {
     "data": {
      "text/plain": [
       "nenhum                                               110\n",
       "denenhumametasona 4mg/mL 2,5mL                       108\n",
       "Denenhumametasona 4mg cp                              61\n",
       "prednisona 20mg                                       24\n",
       "prednisona 5mg                                        17\n",
       "hidrocortisona 100mg                                   9\n",
       "tiamina 300mg                                          4\n",
       "metilprednisolona 125mg sol.inj                        4\n",
       "cetoprofeno 100mg sol. Inj.                            1\n",
       "metilprednisolona 500mg sol.inj                        1\n",
       "tiamina100mg/ml                                        1\n",
       "formoterol/budesonida                                  1\n",
       "fluticasona/umeclidinio/vilanterol 100/62,5/25mcg      1\n",
       "piridonenhumina 40mg                                   1\n",
       "Name: anti-inflamatorio1, dtype: int64"
      ]
     },
     "execution_count": 984,
     "metadata": {},
     "output_type": "execute_result"
    }
   ],
   "source": [
    "df_treino['anti-inflamatorio1'].value_counts()"
   ]
  },
  {
   "cell_type": "code",
   "execution_count": 985,
   "id": "944167cf",
   "metadata": {},
   "outputs": [
    {
     "data": {
      "text/plain": [
       "nenhum                                               291\n",
       "denenhumametasona 4mg/mL 2,5mL                        11\n",
       "Denenhumametasona 4mg cp                              10\n",
       "prednisona 20mg                                        8\n",
       "prednisona 5mg                                         6\n",
       "hidrocortisona 100mg                                   6\n",
       "metilprednisolona 500mg sol.inj                        3\n",
       "tiamina 300mg                                          2\n",
       "piridonenhumina 40mg                                   2\n",
       "formoterol/budesonida                                  1\n",
       "fluticasona/umeclidinio/vilanterol 100/62,5/25mcg      1\n",
       "vit.B12 2500mcg/ml                                     1\n",
       "vitamina complenenhum.B                                1\n",
       "Name: anti-inflamatorio2, dtype: int64"
      ]
     },
     "execution_count": 985,
     "metadata": {},
     "output_type": "execute_result"
    }
   ],
   "source": [
    "df_treino['anti-inflamatorio2'].value_counts()"
   ]
  },
  {
   "cell_type": "code",
   "execution_count": 986,
   "id": "b64a3dcc",
   "metadata": {},
   "outputs": [
    {
     "data": {
      "text/plain": [
       "nenhum                      336\n",
       "Denenhumametasona 4mg cp      2\n",
       "prednisona 20mg               2\n",
       "prednisolona 3mg/ml           1\n",
       "prednisona 5mg                1\n",
       "tiamina 300mg                 1\n",
       "Name: anti-inflamatorio3, dtype: int64"
      ]
     },
     "execution_count": 986,
     "metadata": {},
     "output_type": "execute_result"
    }
   ],
   "source": [
    "df_treino['anti-inflamatorio3'].value_counts()"
   ]
  },
  {
   "cell_type": "code",
   "execution_count": 987,
   "id": "18d99494",
   "metadata": {},
   "outputs": [
    {
     "data": {
      "text/plain": [
       "M    192\n",
       "F    151\n",
       "Name: sexo, dtype: int64"
      ]
     },
     "execution_count": 987,
     "metadata": {},
     "output_type": "execute_result"
    }
   ],
   "source": [
    "df_treino['sexo'].value_counts()"
   ]
  },
  {
   "cell_type": "code",
   "execution_count": 988,
   "id": "49a1f369",
   "metadata": {},
   "outputs": [
    {
     "data": {
      "text/plain": [
       "branca    285\n",
       "preta      45\n",
       "parda      13\n",
       "Name: raca, dtype: int64"
      ]
     },
     "execution_count": 988,
     "metadata": {},
     "output_type": "execute_result"
    }
   ],
   "source": [
    "df_treino['raca'].value_counts()"
   ]
  },
  {
   "cell_type": "code",
   "execution_count": 989,
   "id": "b306ebef",
   "metadata": {},
   "outputs": [
    {
     "data": {
      "text/plain": [
       "nao       223\n",
       "previo     85\n",
       "sim        35\n",
       "Name: tagabismo, dtype: int64"
      ]
     },
     "execution_count": 989,
     "metadata": {},
     "output_type": "execute_result"
    }
   ],
   "source": [
    "df_treino['tagabismo'].value_counts()"
   ]
  },
  {
   "cell_type": "code",
   "execution_count": 990,
   "id": "808ab149",
   "metadata": {},
   "outputs": [
    {
     "data": {
      "text/plain": [
       "DM            103\n",
       "HAS            89\n",
       "nenhuma        67\n",
       "oncologica     42\n",
       "obesidade      15\n",
       "ICC            14\n",
       "renal-hd        8\n",
       "HIV             5\n",
       "Name: comorbidade1, dtype: int64"
      ]
     },
     "execution_count": 990,
     "metadata": {},
     "output_type": "execute_result"
    }
   ],
   "source": [
    "df_treino['comorbidade1'].value_counts()"
   ]
  },
  {
   "cell_type": "code",
   "execution_count": 991,
   "id": "24291951",
   "metadata": {},
   "outputs": [
    {
     "data": {
      "text/plain": [
       "nenhuma       190\n",
       "HAS            80\n",
       "renal-hd       21\n",
       "oncologico     16\n",
       "ICC            14\n",
       "obesidade      11\n",
       "DM             10\n",
       "HIV             1\n",
       "Name: comorbidade2, dtype: int64"
      ]
     },
     "execution_count": 991,
     "metadata": {},
     "output_type": "execute_result"
    }
   ],
   "source": [
    "df_treino['comorbidade2'].value_counts()"
   ]
  },
  {
   "cell_type": "code",
   "execution_count": 992,
   "id": "6190e6a2",
   "metadata": {},
   "outputs": [
    {
     "data": {
      "text/plain": [
       "nenhum        283\n",
       "obesidade      16\n",
       "oncologica     15\n",
       "renal-hd       14\n",
       "ICC            11\n",
       "HAS             2\n",
       "HIV             1\n",
       "DM              1\n",
       "Name: comorbidade3, dtype: int64"
      ]
     },
     "execution_count": 992,
     "metadata": {},
     "output_type": "execute_result"
    }
   ],
   "source": [
    "df_treino['comorbidade3'].value_counts()"
   ]
  },
  {
   "cell_type": "code",
   "execution_count": 993,
   "id": "dac397f9",
   "metadata": {},
   "outputs": [],
   "source": [
    "from sklearn.impute import SimpleImputer\n",
    "from sklearn.preprocessing import StandardScaler\n",
    "from sklearn.preprocessing import OneHotEncoder\n",
    "\n",
    "from sklearn.pipeline import Pipeline\n",
    "from sklearn.compose import ColumnTransformer\n",
    "\n",
    "pipeline_atr_numericos = Pipeline([\n",
    "    ('imputer',SimpleImputer(strategy='mean')),\n",
    "    ('scaler', StandardScaler()),\n",
    "])\n",
    "\n",
    "preproc_completo = ColumnTransformer([\n",
    "    ('numericos',   pipeline_atr_numericos, nomes_atributos_numericos),\n",
    "    ('categoricos', OneHotEncoder(),        nomes_atributos_categoricos),\n",
    "    ], \n",
    "    sparse_threshold=0)\n",
    "\n",
    "# pre-processamento do conjunto de treino\n",
    "X_treino = preproc_completo.fit_transform(df_treino)\n",
    "\n",
    "# pre-processamento do conjunto de teste\n",
    "X_teste = preproc_completo.transform(df_teste)\n",
    "\n",
    "# pre-processamento da coluna alvo para treno\n",
    "y_treino = df_treino_labels.values == 1\n",
    "\n",
    "# pre-processamento da coluna alvo para teste\n",
    "y_teste = df_teste_labels.values == 1"
   ]
  },
  {
   "cell_type": "code",
   "execution_count": 994,
   "id": "217d8315",
   "metadata": {},
   "outputs": [
    {
     "data": {
      "text/plain": [
       "(343, 49)"
      ]
     },
     "execution_count": 994,
     "metadata": {},
     "output_type": "execute_result"
    }
   ],
   "source": [
    "X_treino.shape"
   ]
  },
  {
   "cell_type": "code",
   "execution_count": 995,
   "id": "3c65ffc4",
   "metadata": {},
   "outputs": [
    {
     "data": {
      "text/plain": [
       "(343,)"
      ]
     },
     "execution_count": 995,
     "metadata": {},
     "output_type": "execute_result"
    }
   ],
   "source": [
    "y_treino.shape"
   ]
  },
  {
   "cell_type": "code",
   "execution_count": 996,
   "id": "b7c18d7d",
   "metadata": {},
   "outputs": [
    {
     "data": {
      "text/plain": [
       "(86, 49)"
      ]
     },
     "execution_count": 996,
     "metadata": {},
     "output_type": "execute_result"
    }
   ],
   "source": [
    "X_teste.shape"
   ]
  },
  {
   "cell_type": "code",
   "execution_count": 997,
   "id": "99d5992b",
   "metadata": {},
   "outputs": [
    {
     "data": {
      "text/plain": [
       "(86,)"
      ]
     },
     "execution_count": 997,
     "metadata": {},
     "output_type": "execute_result"
    }
   ],
   "source": [
    "y_teste.shape"
   ]
  },
  {
   "cell_type": "markdown",
   "id": "04ff6f28",
   "metadata": {},
   "source": [
    "#### Treinamento de uma RNA tipo Multi-Layer Perceptron"
   ]
  },
  {
   "cell_type": "code",
   "execution_count": 998,
   "id": "d2b52a3f",
   "metadata": {},
   "outputs": [
    {
     "name": "stdout",
     "output_type": "stream",
     "text": [
      "MLP:\n",
      "Acurácia:  1.0\n",
      "Precisão:  0.0\n",
      "Recall:    0.0\n",
      "F1 Score:  0.0\n"
     ]
    },
    {
     "name": "stderr",
     "output_type": "stream",
     "text": [
      "C:\\Users\\Dante\\anaconda3\\lib\\site-packages\\sklearn\\metrics\\_classification.py:1327: UndefinedMetricWarning: Precision is ill-defined and being set to 0.0 due to no predicted samples. Use `zero_division` parameter to control this behavior.\n",
      "  _warn_prf(average, modifier, msg_start, len(result))\n",
      "C:\\Users\\Dante\\anaconda3\\lib\\site-packages\\sklearn\\metrics\\_classification.py:1327: UndefinedMetricWarning: Recall is ill-defined and being set to 0.0 due to no true samples. Use `zero_division` parameter to control this behavior.\n",
      "  _warn_prf(average, modifier, msg_start, len(result))\n",
      "C:\\Users\\Dante\\anaconda3\\lib\\site-packages\\sklearn\\metrics\\_classification.py:1592: UndefinedMetricWarning: F-score is ill-defined and being set to 0.0 due to no true nor predicted samples. Use `zero_division` parameter to control this behavior.\n",
      "  _warn_prf(average, \"true nor predicted\", \"F-score is\", len(true_sum))\n"
     ]
    }
   ],
   "source": [
    "from sklearn.metrics import accuracy_score, precision_score, recall_score, f1_score\n",
    "from sklearn.neural_network import MLPClassifier\n",
    "\n",
    "mlp_clf = MLPClassifier(hidden_layer_sizes=(20,4))\n",
    "mlp_clf.fit(X_treino, y_treino)\n",
    "\n",
    "y_previsto = mlp_clf.predict(X_teste)\n",
    "print(\"MLP:\")\n",
    "print(\"Acurácia: \", accuracy_score(y_teste,y_previsto))\n",
    "print(\"Precisão: \", precision_score(y_teste,y_previsto))\n",
    "print(\"Recall:   \", recall_score(y_teste,y_previsto))\n",
    "print(\"F1 Score: \", f1_score(y_teste,y_previsto))"
   ]
  },
  {
   "cell_type": "code",
   "execution_count": 1000,
   "id": "56bc7cf0",
   "metadata": {},
   "outputs": [
    {
     "name": "stdout",
     "output_type": "stream",
     "text": [
      "MLP:\n",
      "Acurácia:  1.0\n",
      "Precisão:  0.0\n",
      "Recall:    0.0\n",
      "F1 Score:  0.0\n"
     ]
    },
    {
     "name": "stderr",
     "output_type": "stream",
     "text": [
      "C:\\Users\\Dante\\anaconda3\\lib\\site-packages\\sklearn\\metrics\\_classification.py:1327: UndefinedMetricWarning: Precision is ill-defined and being set to 0.0 due to no predicted samples. Use `zero_division` parameter to control this behavior.\n",
      "  _warn_prf(average, modifier, msg_start, len(result))\n",
      "C:\\Users\\Dante\\anaconda3\\lib\\site-packages\\sklearn\\metrics\\_classification.py:1327: UndefinedMetricWarning: Recall is ill-defined and being set to 0.0 due to no true samples. Use `zero_division` parameter to control this behavior.\n",
      "  _warn_prf(average, modifier, msg_start, len(result))\n",
      "C:\\Users\\Dante\\anaconda3\\lib\\site-packages\\sklearn\\metrics\\_classification.py:1592: UndefinedMetricWarning: F-score is ill-defined and being set to 0.0 due to no true nor predicted samples. Use `zero_division` parameter to control this behavior.\n",
      "  _warn_prf(average, \"true nor predicted\", \"F-score is\", len(true_sum))\n"
     ]
    }
   ],
   "source": [
    "mlp_clf = MLPClassifier(hidden_layer_sizes=(64))\n",
    "mlp_clf.fit(X_treino, y_treino)\n",
    "\n",
    "y_previsto = mlp_clf.predict(X_teste)\n",
    "print(\"MLP:\")\n",
    "print(\"Acurácia: \", accuracy_score(y_teste,y_previsto))\n",
    "print(\"Precisão: \", precision_score(y_teste,y_previsto))\n",
    "print(\"Recall:   \", recall_score(y_teste,y_previsto))\n",
    "print(\"F1 Score: \", f1_score(y_teste,y_previsto))"
   ]
  },
  {
   "cell_type": "code",
   "execution_count": 1001,
   "id": "d6cfdc58",
   "metadata": {},
   "outputs": [
    {
     "name": "stdout",
     "output_type": "stream",
     "text": [
      "MLP:\n",
      "Acurácia:  1.0\n",
      "Precisão:  0.0\n",
      "Recall:    0.0\n",
      "F1 Score:  0.0\n"
     ]
    },
    {
     "name": "stderr",
     "output_type": "stream",
     "text": [
      "C:\\Users\\Dante\\anaconda3\\lib\\site-packages\\sklearn\\metrics\\_classification.py:1327: UndefinedMetricWarning: Precision is ill-defined and being set to 0.0 due to no predicted samples. Use `zero_division` parameter to control this behavior.\n",
      "  _warn_prf(average, modifier, msg_start, len(result))\n",
      "C:\\Users\\Dante\\anaconda3\\lib\\site-packages\\sklearn\\metrics\\_classification.py:1327: UndefinedMetricWarning: Recall is ill-defined and being set to 0.0 due to no true samples. Use `zero_division` parameter to control this behavior.\n",
      "  _warn_prf(average, modifier, msg_start, len(result))\n",
      "C:\\Users\\Dante\\anaconda3\\lib\\site-packages\\sklearn\\metrics\\_classification.py:1592: UndefinedMetricWarning: F-score is ill-defined and being set to 0.0 due to no true nor predicted samples. Use `zero_division` parameter to control this behavior.\n",
      "  _warn_prf(average, \"true nor predicted\", \"F-score is\", len(true_sum))\n"
     ]
    }
   ],
   "source": [
    "mlp_clf = MLPClassifier(hidden_layer_sizes=(16,8))\n",
    "mlp_clf.fit(X_treino, y_treino)\n",
    "\n",
    "y_previsto = mlp_clf.predict(X_teste)\n",
    "print(\"MLP:\")\n",
    "print(\"Acurácia: \", accuracy_score(y_teste,y_previsto))\n",
    "print(\"Precisão: \", precision_score(y_teste,y_previsto))\n",
    "print(\"Recall:   \", recall_score(y_teste,y_previsto))\n",
    "print(\"F1 Score: \", f1_score(y_teste,y_previsto))"
   ]
  }
 ],
 "metadata": {
  "kernelspec": {
   "display_name": "Python 3 (ipykernel)",
   "language": "python",
   "name": "python3"
  },
  "language_info": {
   "codemirror_mode": {
    "name": "ipython",
    "version": 3
   },
   "file_extension": ".py",
   "mimetype": "text/x-python",
   "name": "python",
   "nbconvert_exporter": "python",
   "pygments_lexer": "ipython3",
   "version": "3.9.12"
  }
 },
 "nbformat": 4,
 "nbformat_minor": 5
}
